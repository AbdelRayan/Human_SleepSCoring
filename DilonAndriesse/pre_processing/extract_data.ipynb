{
 "cells": [
  {
   "cell_type": "code",
   "execution_count": 3,
   "id": "047a29ff",
   "metadata": {},
   "outputs": [],
   "source": [
    "import scipy\n",
    "import os\n",
    "import numpy as np\n",
    "import mne\n",
    "import datetime\n",
    "\n",
    "import basic_mne_functions as bmf"
   ]
  },
  {
   "cell_type": "code",
   "execution_count": null,
   "id": "370eb043",
   "metadata": {},
   "outputs": [
    {
     "name": "stdout",
     "output_type": "stream",
     "text": [
      "Extracting EDF parameters from C:\\Users\\andri\\school\\bio-informatics\\internship\\donders\\data\\human_test_data\\input\\raw_input\\SC4481F0-PSG.edf...\n",
      "EDF file detected\n",
      "Channel 'EEG Fpz-Cz' recognized as type EEG (renamed to 'Fpz-Cz').\n",
      "Channel 'EEG Pz-Oz' recognized as type EEG (renamed to 'Pz-Oz').\n",
      "Channel 'EOG horizontal' recognized as type EOG (renamed to 'horizontal').\n",
      "Channel 'Resp oro-nasal' recognized as type RESP (renamed to 'oro-nasal').\n",
      "Channel 'EMG submental' recognized as type EMG (renamed to 'submental').\n",
      "Channel 'Temp rectal' recognized as type TEMP (renamed to 'rectal').\n",
      "Setting channel info structure...\n",
      "Creating raw.info structure...\n",
      "Reading 0 ... 8639999  =      0.000 ... 86399.990 secs...\n"
     ]
    },
    {
     "name": "stderr",
     "output_type": "stream",
     "text": [
      "c:\\Users\\andri\\school\\bio-informatics\\internship\\donders\\vsc\\Human_SleepSCoring\\DilonAndriesse\\pre_processing\\basic_mne_functions.py:15: RuntimeWarning: Channels contain different highpass filters. Highest filter setting will be stored.\n",
      "  raw = mne.io.read_raw_edf(\n",
      "c:\\Users\\andri\\school\\bio-informatics\\internship\\donders\\vsc\\Human_SleepSCoring\\DilonAndriesse\\pre_processing\\basic_mne_functions.py:15: RuntimeWarning: Channels contain different lowpass filters. Lowest filter setting will be stored.\n",
      "  raw = mne.io.read_raw_edf(\n"
     ]
    },
    {
     "name": "stdout",
     "output_type": "stream",
     "text": [
      "First sleep starts at: 27390.0\n",
      "Last sleep ends at: 85980.0\n",
      "Cropping raw: 25590.0 - 86399.99\n",
      "Cropping finished.\n",
      "Used Annotations descriptions: [np.str_('Sleep stage 1'), np.str_('Sleep stage 2'), np.str_('Sleep stage 3'), np.str_('Sleep stage 4'), np.str_('Sleep stage R'), np.str_('Sleep stage W')]\n"
     ]
    }
   ],
   "source": [
    "# epoch length\n",
    "epoch = 1\n",
    "# wake time (s) to save before first sleep and after last sleep\n",
    "# (30 mins, so 30(s) * 60(s))\n",
    "wake_time = 30 * 60\n",
    "# which channels to extract\n",
    "channels = [\"Fpz-Cz\", \"Pz-Oz\", \"horizontal\", \"submental\"]\n",
    "\n",
    "# path to raw PSG files\n",
    "raw_path = \"C:/Users/andri/school/bio-informatics/internship/donders/data/human_test_data/input/raw_input\"\n",
    "# path to raw hypnogram annotation files\n",
    "anno_path = \"C:/Users/andri/school/bio-informatics/internship/donders/data/human_test_data/input/annotation_raw\"\n",
    "# path to the output for the .mat files\n",
    "output_path = \"C:/Users/andri/school/bio-informatics/internship/donders/data/human_test_data/mat_files/\"\n",
    "\n",
    "### test files (comment when not testing)\n",
    "# raw_file = \"/SC4481F0-PSG.edf\"\n",
    "# anno_file = \"/SC4481FV-Hypnogram.edf\"\n",
    "\n",
    "# iterate over both PSG and Hypno directories and get the file paths\n",
    "for raw_file, anno_file in zip(os.listdir(raw_path), os.listdir(anno_path)):\n",
    "    # empty list to store sleep stages in 1d array where each \n",
    "    # element is 1 epoch\n",
    "    sleep_states = []\n",
    "    get_annotation = False\n",
    "    subject = raw_file.split(\"/\")[-1].split(\"-\")[0]\n",
    "    # extract raw data\n",
    "    raw = bmf.read_raw_psg(f\"{raw_path}/{raw_file}\", channels)\n",
    "    anno = bmf.extract_annotation(f\"{anno_path}/{anno_file}\", raw)\n",
    "    cropped_raw = bmf.crop_data(raw, wake_time)\n",
    "    for channel in [\"Fpz-Cz\", \"Pz-Oz\", \"horizontal\", \"submental\"]:\n",
    "        cropped_raw = raw.copy().pick([channel])\n",
    "        while get_annotation == False:\n",
    "            sleep_events = bmf.create_sleep_events(cropped_raw, epoch)\n",
    "            # create array from sleep events with only sleep stages\n",
    "            for event in sleep_events:\n",
    "                sleep_states.append(int(event[-1]))\n",
    "            scipy.io.savemat(\n",
    "                f\"{output_path}{subject}_sleep_states.mat\", \n",
    "                {\"States\": sleep_states}\n",
    "            )\n",
    "            get_annotation = True\n",
    "        # rename indistinct channel names\n",
    "        if channel == \"horizontal\":\n",
    "            raw.rename_channels({\"horizontal\": \"EOG\"})\n",
    "            channel = \"EOG\"\n",
    "        elif channel == \"submental\":\n",
    "            raw.rename_channels({\"submental\":\"EMG\"})\n",
    "            channel = \"EMG\"\n",
    "        # save numpy array to .mat file format\n",
    "        scipy.io.savemat(\n",
    "            f\"{output_path}{subject}_{channel}.mat\", \n",
    "            {channel: cropped_raw._data.reshape((-1,1))}\n",
    "            )\n",
    "    "
   ]
  }
 ],
 "metadata": {
  "kernelspec": {
   "display_name": "rodent_model",
   "language": "python",
   "name": "python3"
  },
  "language_info": {
   "codemirror_mode": {
    "name": "ipython",
    "version": 3
   },
   "file_extension": ".py",
   "mimetype": "text/x-python",
   "name": "python",
   "nbconvert_exporter": "python",
   "pygments_lexer": "ipython3",
   "version": "3.13.5"
  }
 },
 "nbformat": 4,
 "nbformat_minor": 5
}
