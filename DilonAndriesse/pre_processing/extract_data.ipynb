{
 "cells": [
  {
   "cell_type": "code",
   "execution_count": null,
   "id": "047a29ff",
   "metadata": {},
   "outputs": [],
   "source": [
    "import scipy\n",
    "import os\n",
    "\n",
    "import basic_mne_functions as bmf"
   ]
  },
  {
   "cell_type": "code",
   "execution_count": null,
   "id": "370eb043",
   "metadata": {},
   "outputs": [],
   "source": [
    "# epoch length\n",
    "epoch = 5\n",
    "# empty list to store sleep stages in 1d array where each \n",
    "# element is 1 epoch\n",
    "sleep_states = []\n",
    "\n",
    "# path to raw PSG files\n",
    "raw_path = \"C:/Users/andri/school/bio-informatics/internship/donders/data/human_test_data/input/raw_input\"\n",
    "# path to raw hypnogram annotation files\n",
    "anno_path = \"C:/Users/andri/school/bio-informatics/internship/donders/data/human_test_data/input/annotation_raw\"\n",
    "# path to the output for the .mat files\n",
    "output_path = \"C:/Users/andri/school/bio-informatics/internship/donders/data/human_test_data/mat_files/\"\n",
    "\n",
    "# iterate over both PSG and Hypno directories and get the file paths\n",
    "for raw_file, anno_file in zip(os.listdir(raw_path), os.listdir(anno_path)):\n",
    "        get_annotation = False\n",
    "        subject = raw_file.split(\"/\")[-1].split(\"-\")[0]\n",
    "        for channel in [\"Fpz-Cz\", \"Pz-Oz\", \"horizontal\", \"submental\"]:\n",
    "            # extract raw data\n",
    "            raw = bmf.extract_raw(f\"{raw_path}/{raw_file}\", channel)\n",
    "            anno = bmf.extract_anno(f\"{anno_path}/{anno_file}\", raw)\n",
    "            while get_annotation == False:\n",
    "                sleep_events = bmf.get_sleep_states(raw, epoch)\n",
    "                # create array from sleep events with only sleep stages\n",
    "                for event in sleep_events:\n",
    "                    sleep_states.append(int(event[-1]))\n",
    "                scipy.io.savemat(\n",
    "                    f\"{output_path}{subject}_sleep_states.mat\", \n",
    "                    {\"States\": sleep_states}\n",
    "                )\n",
    "                get_annotation = True\n",
    "            # rename obscure channel names\n",
    "            if channel == \"horizontal\":\n",
    "                raw.rename_channels({\"horizontal\": \"EOG\"})\n",
    "                channel = \"EOG\"\n",
    "            elif channel == \"submental\":\n",
    "                raw.rename_channels({\"submental\":\"EMG\"})\n",
    "                channel = \"EMG\"\n",
    "            # save numpy array to .mat file format\n",
    "            scipy.io.savemat(\n",
    "                f\"{output_path}{subject}_{channel}.mat\", \n",
    "                {channel: raw._data.reshape((-1,1))}\n",
    "                )"
   ]
  }
 ],
 "metadata": {
  "language_info": {
   "name": "python"
  }
 },
 "nbformat": 4,
 "nbformat_minor": 5
}
