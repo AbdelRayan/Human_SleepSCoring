{
 "cells": [
  {
   "cell_type": "code",
   "execution_count": null,
   "id": "047a29ff",
   "metadata": {},
   "outputs": [],
   "source": [
    "# general imports\n",
    "import scipy\n",
    "import os\n",
    "\n",
    "# import from custom script\n",
    "import basic_mne_functions as bmf"
   ]
  },
  {
   "cell_type": "code",
   "execution_count": null,
   "id": "370eb043",
   "metadata": {},
   "outputs": [
    {
     "name": "stdout",
     "output_type": "stream",
     "text": [
      "Extracting EDF parameters from C:\\Users\\andri\\school\\bio-informatics\\internship\\donders\\data\\human_test_data\\input\\raw_input\\SC4001E0-PSG.edf...\n",
      "EDF file detected\n",
      "Channel 'EEG Fpz-Cz' recognized as type EEG (renamed to 'Fpz-Cz').\n",
      "Channel 'EEG Pz-Oz' recognized as type EEG (renamed to 'Pz-Oz').\n",
      "Channel 'EOG horizontal' recognized as type EOG (renamed to 'horizontal').\n",
      "Channel 'Resp oro-nasal' recognized as type RESP (renamed to 'oro-nasal').\n",
      "Channel 'EMG submental' recognized as type EMG (renamed to 'submental').\n",
      "Channel 'Temp rectal' recognized as type TEMP (renamed to 'rectal').\n",
      "Setting channel info structure...\n",
      "Creating raw.info structure...\n",
      "Reading 0 ... 7949999  =      0.000 ... 79499.990 secs...\n"
     ]
    },
    {
     "name": "stderr",
     "output_type": "stream",
     "text": [
      "c:\\Users\\andri\\school\\bio-informatics\\internship\\donders\\vsc\\Human_SleepSCoring\\DilonAndriesse\\pre_processing\\basic_mne_functions.py:15: RuntimeWarning: Channels contain different highpass filters. Highest filter setting will be stored.\n",
      "  raw = mne.io.read_raw_edf(\n",
      "c:\\Users\\andri\\school\\bio-informatics\\internship\\donders\\vsc\\Human_SleepSCoring\\DilonAndriesse\\pre_processing\\basic_mne_functions.py:15: RuntimeWarning: Channels contain different lowpass filters. Lowest filter setting will be stored.\n",
      "  raw = mne.io.read_raw_edf(\n"
     ]
    },
    {
     "name": "stdout",
     "output_type": "stream",
     "text": [
      "First sleep starts at: 30630.0\n",
      "Last sleep ends at: 52260.0\n",
      "Cropping raw: 28830.0 - 54060.0\n",
      "Cropping finished.\n",
      "<RawEDF | SC4001E0-PSG.edf, 4 x 2523001 (25230.0 s), ~77.0 MiB, data loaded>\n",
      "Total amount of sleep stages in list: 25230\n",
      "Amount of data in cropped_raw; 2523001\n",
      "Extracting EDF parameters from C:\\Users\\andri\\school\\bio-informatics\\internship\\donders\\data\\human_test_data\\input\\raw_input\\SC4002E0-PSG.edf...\n",
      "EDF file detected\n",
      "Channel 'EEG Fpz-Cz' recognized as type EEG (renamed to 'Fpz-Cz').\n",
      "Channel 'EEG Pz-Oz' recognized as type EEG (renamed to 'Pz-Oz').\n",
      "Channel 'EOG horizontal' recognized as type EOG (renamed to 'horizontal').\n",
      "Channel 'Resp oro-nasal' recognized as type RESP (renamed to 'oro-nasal').\n",
      "Channel 'EMG submental' recognized as type EMG (renamed to 'submental').\n",
      "Channel 'Temp rectal' recognized as type TEMP (renamed to 'rectal').\n",
      "Setting channel info structure...\n",
      "Creating raw.info structure...\n",
      "Reading 0 ... 8489999  =      0.000 ... 84899.990 secs...\n"
     ]
    },
    {
     "name": "stderr",
     "output_type": "stream",
     "text": [
      "c:\\Users\\andri\\school\\bio-informatics\\internship\\donders\\vsc\\Human_SleepSCoring\\DilonAndriesse\\pre_processing\\basic_mne_functions.py:15: RuntimeWarning: Channels contain different highpass filters. Highest filter setting will be stored.\n",
      "  raw = mne.io.read_raw_edf(\n",
      "c:\\Users\\andri\\school\\bio-informatics\\internship\\donders\\vsc\\Human_SleepSCoring\\DilonAndriesse\\pre_processing\\basic_mne_functions.py:15: RuntimeWarning: Channels contain different lowpass filters. Lowest filter setting will be stored.\n",
      "  raw = mne.io.read_raw_edf(\n"
     ]
    },
    {
     "name": "stdout",
     "output_type": "stream",
     "text": [
      "First sleep starts at: 26070.0\n",
      "Last sleep ends at: 56310.0\n",
      "Cropping raw: 24270.0 - 58110.0\n",
      "Cropping finished.\n",
      "<RawEDF | SC4002E0-PSG.edf, 4 x 3384001 (33840.0 s), ~103.3 MiB, data loaded>\n",
      "Total amount of sleep stages in list: 33840\n",
      "Amount of data in cropped_raw; 3384001\n",
      "Extracting EDF parameters from C:\\Users\\andri\\school\\bio-informatics\\internship\\donders\\data\\human_test_data\\input\\raw_input\\SC4011E0-PSG.edf...\n",
      "EDF file detected\n",
      "Channel 'EEG Fpz-Cz' recognized as type EEG (renamed to 'Fpz-Cz').\n",
      "Channel 'EEG Pz-Oz' recognized as type EEG (renamed to 'Pz-Oz').\n",
      "Channel 'EOG horizontal' recognized as type EOG (renamed to 'horizontal').\n",
      "Channel 'Resp oro-nasal' recognized as type RESP (renamed to 'oro-nasal').\n",
      "Channel 'EMG submental' recognized as type EMG (renamed to 'submental').\n",
      "Channel 'Temp rectal' recognized as type TEMP (renamed to 'rectal').\n",
      "Setting channel info structure...\n",
      "Creating raw.info structure...\n",
      "Reading 0 ... 8405999  =      0.000 ... 84059.990 secs...\n"
     ]
    },
    {
     "name": "stderr",
     "output_type": "stream",
     "text": [
      "c:\\Users\\andri\\school\\bio-informatics\\internship\\donders\\vsc\\Human_SleepSCoring\\DilonAndriesse\\pre_processing\\basic_mne_functions.py:15: RuntimeWarning: Channels contain different highpass filters. Highest filter setting will be stored.\n",
      "  raw = mne.io.read_raw_edf(\n",
      "c:\\Users\\andri\\school\\bio-informatics\\internship\\donders\\vsc\\Human_SleepSCoring\\DilonAndriesse\\pre_processing\\basic_mne_functions.py:15: RuntimeWarning: Channels contain different lowpass filters. Lowest filter setting will be stored.\n",
      "  raw = mne.io.read_raw_edf(\n"
     ]
    },
    {
     "name": "stdout",
     "output_type": "stream",
     "text": [
      "First sleep starts at: 21540.0\n",
      "Last sleep ends at: 51030.0\n",
      "Cropping raw: 19740.0 - 52830.0\n",
      "Cropping finished.\n",
      "<RawEDF | SC4011E0-PSG.edf, 4 x 3309001 (33090.0 s), ~101.0 MiB, data loaded>\n",
      "Total amount of sleep stages in list: 33090\n",
      "Amount of data in cropped_raw; 3309001\n",
      "Extracting EDF parameters from C:\\Users\\andri\\school\\bio-informatics\\internship\\donders\\data\\human_test_data\\input\\raw_input\\SC4012E0-PSG.edf...\n",
      "EDF file detected\n",
      "Channel 'EEG Fpz-Cz' recognized as type EEG (renamed to 'Fpz-Cz').\n",
      "Channel 'EEG Pz-Oz' recognized as type EEG (renamed to 'Pz-Oz').\n",
      "Channel 'EOG horizontal' recognized as type EOG (renamed to 'horizontal').\n",
      "Channel 'Resp oro-nasal' recognized as type RESP (renamed to 'oro-nasal').\n",
      "Channel 'EMG submental' recognized as type EMG (renamed to 'submental').\n",
      "Channel 'Temp rectal' recognized as type TEMP (renamed to 'rectal').\n",
      "Setting channel info structure...\n",
      "Creating raw.info structure...\n",
      "Reading 0 ... 8549999  =      0.000 ... 85499.990 secs...\n"
     ]
    },
    {
     "name": "stderr",
     "output_type": "stream",
     "text": [
      "c:\\Users\\andri\\school\\bio-informatics\\internship\\donders\\vsc\\Human_SleepSCoring\\DilonAndriesse\\pre_processing\\basic_mne_functions.py:15: RuntimeWarning: Channels contain different highpass filters. Highest filter setting will be stored.\n",
      "  raw = mne.io.read_raw_edf(\n",
      "c:\\Users\\andri\\school\\bio-informatics\\internship\\donders\\vsc\\Human_SleepSCoring\\DilonAndriesse\\pre_processing\\basic_mne_functions.py:15: RuntimeWarning: Channels contain different lowpass filters. Lowest filter setting will be stored.\n",
      "  raw = mne.io.read_raw_edf(\n"
     ]
    },
    {
     "name": "stdout",
     "output_type": "stream",
     "text": [
      "First sleep starts at: 19290.0\n",
      "Last sleep ends at: 51270.0\n",
      "Cropping raw: 17490.0 - 53070.0\n",
      "Cropping finished.\n",
      "<RawEDF | SC4012E0-PSG.edf, 4 x 3558001 (35580.0 s), ~108.6 MiB, data loaded>\n",
      "Total amount of sleep stages in list: 35580\n",
      "Amount of data in cropped_raw; 3558001\n",
      "Extracting EDF parameters from C:\\Users\\andri\\school\\bio-informatics\\internship\\donders\\data\\human_test_data\\input\\raw_input\\SC4021E0-PSG.edf...\n",
      "EDF file detected\n",
      "Channel 'EEG Fpz-Cz' recognized as type EEG (renamed to 'Fpz-Cz').\n",
      "Channel 'EEG Pz-Oz' recognized as type EEG (renamed to 'Pz-Oz').\n",
      "Channel 'EOG horizontal' recognized as type EOG (renamed to 'horizontal').\n",
      "Channel 'Resp oro-nasal' recognized as type RESP (renamed to 'oro-nasal').\n",
      "Channel 'EMG submental' recognized as type EMG (renamed to 'submental').\n",
      "Channel 'Temp rectal' recognized as type TEMP (renamed to 'rectal').\n",
      "Setting channel info structure...\n",
      "Creating raw.info structure...\n",
      "Reading 0 ... 8411999  =      0.000 ... 84119.990 secs...\n"
     ]
    },
    {
     "name": "stderr",
     "output_type": "stream",
     "text": [
      "c:\\Users\\andri\\school\\bio-informatics\\internship\\donders\\vsc\\Human_SleepSCoring\\DilonAndriesse\\pre_processing\\basic_mne_functions.py:15: RuntimeWarning: Channels contain different highpass filters. Highest filter setting will be stored.\n",
      "  raw = mne.io.read_raw_edf(\n",
      "c:\\Users\\andri\\school\\bio-informatics\\internship\\donders\\vsc\\Human_SleepSCoring\\DilonAndriesse\\pre_processing\\basic_mne_functions.py:15: RuntimeWarning: Channels contain different lowpass filters. Lowest filter setting will be stored.\n",
      "  raw = mne.io.read_raw_edf(\n"
     ]
    },
    {
     "name": "stdout",
     "output_type": "stream",
     "text": [
      "First sleep starts at: 21870.0\n",
      "Last sleep ends at: 49020.0\n",
      "Cropping raw: 20070.0 - 50820.0\n",
      "Cropping finished.\n",
      "<RawEDF | SC4021E0-PSG.edf, 4 x 3075001 (30750.0 s), ~93.8 MiB, data loaded>\n",
      "Total amount of sleep stages in list: 30750\n",
      "Amount of data in cropped_raw; 3075001\n",
      "Extracting EDF parameters from C:\\Users\\andri\\school\\bio-informatics\\internship\\donders\\data\\human_test_data\\input\\raw_input\\SC4022E0-PSG.edf...\n",
      "EDF file detected\n",
      "Channel 'EEG Fpz-Cz' recognized as type EEG (renamed to 'Fpz-Cz').\n",
      "Channel 'EEG Pz-Oz' recognized as type EEG (renamed to 'Pz-Oz').\n",
      "Channel 'EOG horizontal' recognized as type EOG (renamed to 'horizontal').\n",
      "Channel 'Resp oro-nasal' recognized as type RESP (renamed to 'oro-nasal').\n",
      "Channel 'EMG submental' recognized as type EMG (renamed to 'submental').\n",
      "Channel 'Temp rectal' recognized as type TEMP (renamed to 'rectal').\n",
      "Setting channel info structure...\n",
      "Creating raw.info structure...\n",
      "Reading 0 ... 8267999  =      0.000 ... 82679.990 secs...\n"
     ]
    },
    {
     "name": "stderr",
     "output_type": "stream",
     "text": [
      "c:\\Users\\andri\\school\\bio-informatics\\internship\\donders\\vsc\\Human_SleepSCoring\\DilonAndriesse\\pre_processing\\basic_mne_functions.py:15: RuntimeWarning: Channels contain different highpass filters. Highest filter setting will be stored.\n",
      "  raw = mne.io.read_raw_edf(\n",
      "c:\\Users\\andri\\school\\bio-informatics\\internship\\donders\\vsc\\Human_SleepSCoring\\DilonAndriesse\\pre_processing\\basic_mne_functions.py:15: RuntimeWarning: Channels contain different lowpass filters. Lowest filter setting will be stored.\n",
      "  raw = mne.io.read_raw_edf(\n"
     ]
    },
    {
     "name": "stdout",
     "output_type": "stream",
     "text": [
      "First sleep starts at: 22710.0\n",
      "Last sleep ends at: 49410.0\n",
      "Cropping raw: 20910.0 - 51210.0\n",
      "Cropping finished.\n",
      "<RawEDF | SC4022E0-PSG.edf, 4 x 3030001 (30300.0 s), ~92.5 MiB, data loaded>\n",
      "Total amount of sleep stages in list: 30300\n",
      "Amount of data in cropped_raw; 3030001\n",
      "Extracting EDF parameters from C:\\Users\\andri\\school\\bio-informatics\\internship\\donders\\data\\human_test_data\\input\\raw_input\\SC4031E0-PSG.edf...\n",
      "EDF file detected\n",
      "Channel 'EEG Fpz-Cz' recognized as type EEG (renamed to 'Fpz-Cz').\n",
      "Channel 'EEG Pz-Oz' recognized as type EEG (renamed to 'Pz-Oz').\n",
      "Channel 'EOG horizontal' recognized as type EOG (renamed to 'horizontal').\n",
      "Channel 'Resp oro-nasal' recognized as type RESP (renamed to 'oro-nasal').\n",
      "Channel 'EMG submental' recognized as type EMG (renamed to 'submental').\n",
      "Channel 'Temp rectal' recognized as type TEMP (renamed to 'rectal').\n",
      "Setting channel info structure...\n",
      "Creating raw.info structure...\n",
      "Reading 0 ... 8459999  =      0.000 ... 84599.990 secs...\n"
     ]
    },
    {
     "name": "stderr",
     "output_type": "stream",
     "text": [
      "c:\\Users\\andri\\school\\bio-informatics\\internship\\donders\\vsc\\Human_SleepSCoring\\DilonAndriesse\\pre_processing\\basic_mne_functions.py:15: RuntimeWarning: Channels contain different highpass filters. Highest filter setting will be stored.\n",
      "  raw = mne.io.read_raw_edf(\n",
      "c:\\Users\\andri\\school\\bio-informatics\\internship\\donders\\vsc\\Human_SleepSCoring\\DilonAndriesse\\pre_processing\\basic_mne_functions.py:15: RuntimeWarning: Channels contain different lowpass filters. Lowest filter setting will be stored.\n",
      "  raw = mne.io.read_raw_edf(\n"
     ]
    },
    {
     "name": "stdout",
     "output_type": "stream",
     "text": [
      "First sleep starts at: 26130.0\n",
      "Last sleep ends at: 51090.0\n",
      "Cropping raw: 24330.0 - 52890.0\n",
      "Cropping finished.\n",
      "<RawEDF | SC4031E0-PSG.edf, 4 x 2856001 (28560.0 s), ~87.2 MiB, data loaded>\n",
      "Total amount of sleep stages in list: 28560\n",
      "Amount of data in cropped_raw; 2856001\n",
      "Extracting EDF parameters from C:\\Users\\andri\\school\\bio-informatics\\internship\\donders\\data\\human_test_data\\input\\raw_input\\SC4032E0-PSG.edf...\n",
      "EDF file detected\n",
      "Channel 'EEG Fpz-Cz' recognized as type EEG (renamed to 'Fpz-Cz').\n",
      "Channel 'EEG Pz-Oz' recognized as type EEG (renamed to 'Pz-Oz').\n",
      "Channel 'EOG horizontal' recognized as type EOG (renamed to 'horizontal').\n",
      "Channel 'Resp oro-nasal' recognized as type RESP (renamed to 'oro-nasal').\n",
      "Channel 'EMG submental' recognized as type EMG (renamed to 'submental').\n",
      "Channel 'Temp rectal' recognized as type TEMP (renamed to 'rectal').\n",
      "Setting channel info structure...\n",
      "Creating raw.info structure...\n",
      "Reading 0 ... 8195999  =      0.000 ... 81959.990 secs...\n"
     ]
    },
    {
     "name": "stderr",
     "output_type": "stream",
     "text": [
      "c:\\Users\\andri\\school\\bio-informatics\\internship\\donders\\vsc\\Human_SleepSCoring\\DilonAndriesse\\pre_processing\\basic_mne_functions.py:15: RuntimeWarning: Channels contain different highpass filters. Highest filter setting will be stored.\n",
      "  raw = mne.io.read_raw_edf(\n",
      "c:\\Users\\andri\\school\\bio-informatics\\internship\\donders\\vsc\\Human_SleepSCoring\\DilonAndriesse\\pre_processing\\basic_mne_functions.py:15: RuntimeWarning: Channels contain different lowpass filters. Lowest filter setting will be stored.\n",
      "  raw = mne.io.read_raw_edf(\n"
     ]
    },
    {
     "name": "stdout",
     "output_type": "stream",
     "text": [
      "First sleep starts at: 27630.0\n",
      "Last sleep ends at: 51360.0\n",
      "Cropping raw: 25830.0 - 53160.0\n",
      "Cropping finished.\n",
      "<RawEDF | SC4032E0-PSG.edf, 4 x 2733001 (27330.0 s), ~83.4 MiB, data loaded>\n",
      "Total amount of sleep stages in list: 27330\n",
      "Amount of data in cropped_raw; 2733001\n",
      "Extracting EDF parameters from C:\\Users\\andri\\school\\bio-informatics\\internship\\donders\\data\\human_test_data\\input\\raw_input\\SC4041E0-PSG.edf...\n",
      "EDF file detected\n",
      "Channel 'EEG Fpz-Cz' recognized as type EEG (renamed to 'Fpz-Cz').\n",
      "Channel 'EEG Pz-Oz' recognized as type EEG (renamed to 'Pz-Oz').\n",
      "Channel 'EOG horizontal' recognized as type EOG (renamed to 'horizontal').\n",
      "Channel 'Resp oro-nasal' recognized as type RESP (renamed to 'oro-nasal').\n",
      "Channel 'EMG submental' recognized as type EMG (renamed to 'submental').\n",
      "Channel 'Temp rectal' recognized as type TEMP (renamed to 'rectal').\n",
      "Setting channel info structure...\n",
      "Creating raw.info structure...\n",
      "Reading 0 ... 7709999  =      0.000 ... 77099.990 secs...\n"
     ]
    },
    {
     "name": "stderr",
     "output_type": "stream",
     "text": [
      "c:\\Users\\andri\\school\\bio-informatics\\internship\\donders\\vsc\\Human_SleepSCoring\\DilonAndriesse\\pre_processing\\basic_mne_functions.py:15: RuntimeWarning: Channels contain different highpass filters. Highest filter setting will be stored.\n",
      "  raw = mne.io.read_raw_edf(\n",
      "c:\\Users\\andri\\school\\bio-informatics\\internship\\donders\\vsc\\Human_SleepSCoring\\DilonAndriesse\\pre_processing\\basic_mne_functions.py:15: RuntimeWarning: Channels contain different lowpass filters. Lowest filter setting will be stored.\n",
      "  raw = mne.io.read_raw_edf(\n"
     ]
    },
    {
     "name": "stdout",
     "output_type": "stream",
     "text": [
      "First sleep starts at: 24360.0\n",
      "Last sleep ends at: 57840.0\n",
      "Cropping raw: 22560.0 - 59640.0\n",
      "Cropping finished.\n",
      "<RawEDF | SC4041E0-PSG.edf, 4 x 3708001 (37080.0 s), ~113.2 MiB, data loaded>\n",
      "Total amount of sleep stages in list: 37080\n",
      "Amount of data in cropped_raw; 3708001\n",
      "Extracting EDF parameters from C:\\Users\\andri\\school\\bio-informatics\\internship\\donders\\data\\human_test_data\\input\\raw_input\\SC4042E0-PSG.edf...\n",
      "EDF file detected\n",
      "Channel 'EEG Fpz-Cz' recognized as type EEG (renamed to 'Fpz-Cz').\n",
      "Channel 'EEG Pz-Oz' recognized as type EEG (renamed to 'Pz-Oz').\n",
      "Channel 'EOG horizontal' recognized as type EOG (renamed to 'horizontal').\n",
      "Channel 'Resp oro-nasal' recognized as type RESP (renamed to 'oro-nasal').\n",
      "Channel 'EMG submental' recognized as type EMG (renamed to 'submental').\n",
      "Channel 'Temp rectal' recognized as type TEMP (renamed to 'rectal').\n",
      "Setting channel info structure...\n",
      "Creating raw.info structure...\n",
      "Reading 0 ... 8375999  =      0.000 ... 83759.990 secs...\n"
     ]
    },
    {
     "name": "stderr",
     "output_type": "stream",
     "text": [
      "c:\\Users\\andri\\school\\bio-informatics\\internship\\donders\\vsc\\Human_SleepSCoring\\DilonAndriesse\\pre_processing\\basic_mne_functions.py:15: RuntimeWarning: Channels contain different highpass filters. Highest filter setting will be stored.\n",
      "  raw = mne.io.read_raw_edf(\n",
      "c:\\Users\\andri\\school\\bio-informatics\\internship\\donders\\vsc\\Human_SleepSCoring\\DilonAndriesse\\pre_processing\\basic_mne_functions.py:15: RuntimeWarning: Channels contain different lowpass filters. Lowest filter setting will be stored.\n",
      "  raw = mne.io.read_raw_edf(\n"
     ]
    },
    {
     "name": "stdout",
     "output_type": "stream",
     "text": [
      "First sleep starts at: 32220.0\n",
      "Last sleep ends at: 64740.0\n",
      "Cropping raw: 30420.0 - 66540.0\n",
      "Cropping finished.\n",
      "<RawEDF | SC4042E0-PSG.edf, 4 x 3612001 (36120.0 s), ~110.2 MiB, data loaded>\n",
      "Total amount of sleep stages in list: 36120\n",
      "Amount of data in cropped_raw; 3612001\n",
      "Extracting EDF parameters from C:\\Users\\andri\\school\\bio-informatics\\internship\\donders\\data\\human_test_data\\input\\raw_input\\SC4051E0-PSG.edf...\n",
      "EDF file detected\n",
      "Channel 'EEG Fpz-Cz' recognized as type EEG (renamed to 'Fpz-Cz').\n",
      "Channel 'EEG Pz-Oz' recognized as type EEG (renamed to 'Pz-Oz').\n",
      "Channel 'EOG horizontal' recognized as type EOG (renamed to 'horizontal').\n",
      "Channel 'Resp oro-nasal' recognized as type RESP (renamed to 'oro-nasal').\n",
      "Channel 'EMG submental' recognized as type EMG (renamed to 'submental').\n",
      "Channel 'Temp rectal' recognized as type TEMP (renamed to 'rectal').\n",
      "Setting channel info structure...\n",
      "Creating raw.info structure...\n",
      "Reading 0 ... 8165999  =      0.000 ... 81659.990 secs...\n"
     ]
    },
    {
     "name": "stderr",
     "output_type": "stream",
     "text": [
      "c:\\Users\\andri\\school\\bio-informatics\\internship\\donders\\vsc\\Human_SleepSCoring\\DilonAndriesse\\pre_processing\\basic_mne_functions.py:15: RuntimeWarning: Channels contain different highpass filters. Highest filter setting will be stored.\n",
      "  raw = mne.io.read_raw_edf(\n",
      "c:\\Users\\andri\\school\\bio-informatics\\internship\\donders\\vsc\\Human_SleepSCoring\\DilonAndriesse\\pre_processing\\basic_mne_functions.py:15: RuntimeWarning: Channels contain different lowpass filters. Lowest filter setting will be stored.\n",
      "  raw = mne.io.read_raw_edf(\n"
     ]
    },
    {
     "name": "stdout",
     "output_type": "stream",
     "text": [
      "First sleep starts at: 38670.0\n",
      "Last sleep ends at: 55230.0\n",
      "Cropping raw: 36870.0 - 57030.0\n",
      "Cropping finished.\n",
      "<RawEDF | SC4051E0-PSG.edf, 4 x 2016001 (20160.0 s), ~61.5 MiB, data loaded>\n",
      "Total amount of sleep stages in list: 20160\n",
      "Amount of data in cropped_raw; 2016001\n",
      "Extracting EDF parameters from C:\\Users\\andri\\school\\bio-informatics\\internship\\donders\\data\\human_test_data\\input\\raw_input\\SC4052E0-PSG.edf...\n",
      "EDF file detected\n",
      "Channel 'EEG Fpz-Cz' recognized as type EEG (renamed to 'Fpz-Cz').\n",
      "Channel 'EEG Pz-Oz' recognized as type EEG (renamed to 'Pz-Oz').\n",
      "Channel 'EOG horizontal' recognized as type EOG (renamed to 'horizontal').\n",
      "Channel 'Resp oro-nasal' recognized as type RESP (renamed to 'oro-nasal').\n",
      "Channel 'EMG submental' recognized as type EMG (renamed to 'submental').\n",
      "Channel 'Temp rectal' recognized as type TEMP (renamed to 'rectal').\n",
      "Setting channel info structure...\n",
      "Creating raw.info structure...\n",
      "Reading 0 ... 8417999  =      0.000 ... 84179.990 secs...\n"
     ]
    },
    {
     "name": "stderr",
     "output_type": "stream",
     "text": [
      "c:\\Users\\andri\\school\\bio-informatics\\internship\\donders\\vsc\\Human_SleepSCoring\\DilonAndriesse\\pre_processing\\basic_mne_functions.py:15: RuntimeWarning: Channels contain different highpass filters. Highest filter setting will be stored.\n",
      "  raw = mne.io.read_raw_edf(\n",
      "c:\\Users\\andri\\school\\bio-informatics\\internship\\donders\\vsc\\Human_SleepSCoring\\DilonAndriesse\\pre_processing\\basic_mne_functions.py:15: RuntimeWarning: Channels contain different lowpass filters. Lowest filter setting will be stored.\n",
      "  raw = mne.io.read_raw_edf(\n"
     ]
    },
    {
     "name": "stdout",
     "output_type": "stream",
     "text": [
      "First sleep starts at: 32430.0\n",
      "Last sleep ends at: 66270.0\n",
      "Cropping raw: 30630.0 - 68070.0\n",
      "Cropping finished.\n",
      "<RawEDF | SC4052E0-PSG.edf, 4 x 3744001 (37440.0 s), ~114.3 MiB, data loaded>\n",
      "Total amount of sleep stages in list: 37440\n",
      "Amount of data in cropped_raw; 3744001\n",
      "Extracting EDF parameters from C:\\Users\\andri\\school\\bio-informatics\\internship\\donders\\data\\human_test_data\\input\\raw_input\\SC4061E0-PSG.edf...\n",
      "EDF file detected\n",
      "Channel 'EEG Fpz-Cz' recognized as type EEG (renamed to 'Fpz-Cz').\n",
      "Channel 'EEG Pz-Oz' recognized as type EEG (renamed to 'Pz-Oz').\n",
      "Channel 'EOG horizontal' recognized as type EOG (renamed to 'horizontal').\n",
      "Channel 'Resp oro-nasal' recognized as type RESP (renamed to 'oro-nasal').\n",
      "Channel 'EMG submental' recognized as type EMG (renamed to 'submental').\n",
      "Channel 'Temp rectal' recognized as type TEMP (renamed to 'rectal').\n",
      "Setting channel info structure...\n",
      "Creating raw.info structure...\n",
      "Reading 0 ... 8309999  =      0.000 ... 83099.990 secs...\n"
     ]
    },
    {
     "name": "stderr",
     "output_type": "stream",
     "text": [
      "c:\\Users\\andri\\school\\bio-informatics\\internship\\donders\\vsc\\Human_SleepSCoring\\DilonAndriesse\\pre_processing\\basic_mne_functions.py:15: RuntimeWarning: Channels contain different highpass filters. Highest filter setting will be stored.\n",
      "  raw = mne.io.read_raw_edf(\n",
      "c:\\Users\\andri\\school\\bio-informatics\\internship\\donders\\vsc\\Human_SleepSCoring\\DilonAndriesse\\pre_processing\\basic_mne_functions.py:15: RuntimeWarning: Channels contain different lowpass filters. Lowest filter setting will be stored.\n",
      "  raw = mne.io.read_raw_edf(\n"
     ]
    },
    {
     "name": "stdout",
     "output_type": "stream",
     "text": [
      "First sleep starts at: 28050.0\n",
      "Last sleep ends at: 49740.0\n",
      "Cropping raw: 26250.0 - 51540.0\n",
      "Cropping finished.\n",
      "<RawEDF | SC4061E0-PSG.edf, 4 x 2529001 (25290.0 s), ~77.2 MiB, data loaded>\n",
      "Total amount of sleep stages in list: 25290\n",
      "Amount of data in cropped_raw; 2529001\n",
      "Extracting EDF parameters from C:\\Users\\andri\\school\\bio-informatics\\internship\\donders\\data\\human_test_data\\input\\raw_input\\SC4062E0-PSG.edf...\n",
      "EDF file detected\n",
      "Channel 'EEG Fpz-Cz' recognized as type EEG (renamed to 'Fpz-Cz').\n",
      "Channel 'EEG Pz-Oz' recognized as type EEG (renamed to 'Pz-Oz').\n",
      "Channel 'EOG horizontal' recognized as type EOG (renamed to 'horizontal').\n",
      "Channel 'Resp oro-nasal' recognized as type RESP (renamed to 'oro-nasal').\n",
      "Channel 'EMG submental' recognized as type EMG (renamed to 'submental').\n",
      "Channel 'Temp rectal' recognized as type TEMP (renamed to 'rectal').\n",
      "Setting channel info structure...\n",
      "Creating raw.info structure...\n",
      "Reading 0 ... 8489999  =      0.000 ... 84899.990 secs...\n"
     ]
    },
    {
     "name": "stderr",
     "output_type": "stream",
     "text": [
      "c:\\Users\\andri\\school\\bio-informatics\\internship\\donders\\vsc\\Human_SleepSCoring\\DilonAndriesse\\pre_processing\\basic_mne_functions.py:15: RuntimeWarning: Channels contain different highpass filters. Highest filter setting will be stored.\n",
      "  raw = mne.io.read_raw_edf(\n",
      "c:\\Users\\andri\\school\\bio-informatics\\internship\\donders\\vsc\\Human_SleepSCoring\\DilonAndriesse\\pre_processing\\basic_mne_functions.py:15: RuntimeWarning: Channels contain different lowpass filters. Lowest filter setting will be stored.\n",
      "  raw = mne.io.read_raw_edf(\n"
     ]
    },
    {
     "name": "stdout",
     "output_type": "stream",
     "text": [
      "First sleep starts at: 25410.0\n",
      "Last sleep ends at: 52290.0\n",
      "Cropping raw: 23610.0 - 54090.0\n",
      "Cropping finished.\n",
      "<RawEDF | SC4062E0-PSG.edf, 4 x 3048001 (30480.0 s), ~93.0 MiB, data loaded>\n",
      "Total amount of sleep stages in list: 30480\n",
      "Amount of data in cropped_raw; 3048001\n",
      "Extracting EDF parameters from C:\\Users\\andri\\school\\bio-informatics\\internship\\donders\\data\\human_test_data\\input\\raw_input\\SC4071E0-PSG.edf...\n",
      "EDF file detected\n",
      "Channel 'EEG Fpz-Cz' recognized as type EEG (renamed to 'Fpz-Cz').\n",
      "Channel 'EEG Pz-Oz' recognized as type EEG (renamed to 'Pz-Oz').\n",
      "Channel 'EOG horizontal' recognized as type EOG (renamed to 'horizontal').\n",
      "Channel 'Resp oro-nasal' recognized as type RESP (renamed to 'oro-nasal').\n",
      "Channel 'EMG submental' recognized as type EMG (renamed to 'submental').\n",
      "Channel 'Temp rectal' recognized as type TEMP (renamed to 'rectal').\n",
      "Setting channel info structure...\n",
      "Creating raw.info structure...\n",
      "Reading 0 ... 8429999  =      0.000 ... 84299.990 secs...\n"
     ]
    },
    {
     "name": "stderr",
     "output_type": "stream",
     "text": [
      "c:\\Users\\andri\\school\\bio-informatics\\internship\\donders\\vsc\\Human_SleepSCoring\\DilonAndriesse\\pre_processing\\basic_mne_functions.py:15: RuntimeWarning: Channels contain different highpass filters. Highest filter setting will be stored.\n",
      "  raw = mne.io.read_raw_edf(\n",
      "c:\\Users\\andri\\school\\bio-informatics\\internship\\donders\\vsc\\Human_SleepSCoring\\DilonAndriesse\\pre_processing\\basic_mne_functions.py:15: RuntimeWarning: Channels contain different lowpass filters. Lowest filter setting will be stored.\n",
      "  raw = mne.io.read_raw_edf(\n"
     ]
    },
    {
     "name": "stdout",
     "output_type": "stream",
     "text": [
      "First sleep starts at: 27990.0\n",
      "Last sleep ends at: 53670.0\n",
      "Cropping raw: 26190.0 - 55470.0\n",
      "Cropping finished.\n",
      "<RawEDF | SC4071E0-PSG.edf, 4 x 2928001 (29280.0 s), ~89.4 MiB, data loaded>\n",
      "Total amount of sleep stages in list: 29280\n",
      "Amount of data in cropped_raw; 2928001\n",
      "Extracting EDF parameters from C:\\Users\\andri\\school\\bio-informatics\\internship\\donders\\data\\human_test_data\\input\\raw_input\\SC4072E0-PSG.edf...\n",
      "EDF file detected\n",
      "Channel 'EEG Fpz-Cz' recognized as type EEG (renamed to 'Fpz-Cz').\n",
      "Channel 'EEG Pz-Oz' recognized as type EEG (renamed to 'Pz-Oz').\n",
      "Channel 'EOG horizontal' recognized as type EOG (renamed to 'horizontal').\n",
      "Channel 'Resp oro-nasal' recognized as type RESP (renamed to 'oro-nasal').\n",
      "Channel 'EMG submental' recognized as type EMG (renamed to 'submental').\n",
      "Channel 'Temp rectal' recognized as type TEMP (renamed to 'rectal').\n",
      "Setting channel info structure...\n",
      "Creating raw.info structure...\n",
      "Reading 0 ... 8309999  =      0.000 ... 83099.990 secs...\n"
     ]
    },
    {
     "name": "stderr",
     "output_type": "stream",
     "text": [
      "c:\\Users\\andri\\school\\bio-informatics\\internship\\donders\\vsc\\Human_SleepSCoring\\DilonAndriesse\\pre_processing\\basic_mne_functions.py:15: RuntimeWarning: Channels contain different highpass filters. Highest filter setting will be stored.\n",
      "  raw = mne.io.read_raw_edf(\n",
      "c:\\Users\\andri\\school\\bio-informatics\\internship\\donders\\vsc\\Human_SleepSCoring\\DilonAndriesse\\pre_processing\\basic_mne_functions.py:15: RuntimeWarning: Channels contain different lowpass filters. Lowest filter setting will be stored.\n",
      "  raw = mne.io.read_raw_edf(\n"
     ]
    },
    {
     "name": "stdout",
     "output_type": "stream",
     "text": [
      "First sleep starts at: 19200.0\n",
      "Last sleep ends at: 53790.0\n",
      "Cropping raw: 17400.0 - 55590.0\n",
      "Cropping finished.\n",
      "<RawEDF | SC4072E0-PSG.edf, 4 x 3819001 (38190.0 s), ~116.6 MiB, data loaded>\n",
      "Total amount of sleep stages in list: 38190\n",
      "Amount of data in cropped_raw; 3819001\n",
      "Extracting EDF parameters from C:\\Users\\andri\\school\\bio-informatics\\internship\\donders\\data\\human_test_data\\input\\raw_input\\SC4081E0-PSG.edf...\n",
      "EDF file detected\n",
      "Channel 'EEG Fpz-Cz' recognized as type EEG (renamed to 'Fpz-Cz').\n",
      "Channel 'EEG Pz-Oz' recognized as type EEG (renamed to 'Pz-Oz').\n",
      "Channel 'EOG horizontal' recognized as type EOG (renamed to 'horizontal').\n",
      "Channel 'Resp oro-nasal' recognized as type RESP (renamed to 'oro-nasal').\n",
      "Channel 'EMG submental' recognized as type EMG (renamed to 'submental').\n",
      "Channel 'Temp rectal' recognized as type TEMP (renamed to 'rectal').\n",
      "Setting channel info structure...\n",
      "Creating raw.info structure...\n",
      "Reading 0 ... 8387999  =      0.000 ... 83879.990 secs...\n"
     ]
    },
    {
     "name": "stderr",
     "output_type": "stream",
     "text": [
      "c:\\Users\\andri\\school\\bio-informatics\\internship\\donders\\vsc\\Human_SleepSCoring\\DilonAndriesse\\pre_processing\\basic_mne_functions.py:15: RuntimeWarning: Channels contain different highpass filters. Highest filter setting will be stored.\n",
      "  raw = mne.io.read_raw_edf(\n",
      "c:\\Users\\andri\\school\\bio-informatics\\internship\\donders\\vsc\\Human_SleepSCoring\\DilonAndriesse\\pre_processing\\basic_mne_functions.py:15: RuntimeWarning: Channels contain different lowpass filters. Lowest filter setting will be stored.\n",
      "  raw = mne.io.read_raw_edf(\n"
     ]
    },
    {
     "name": "stdout",
     "output_type": "stream",
     "text": [
      "First sleep starts at: 24090.0\n",
      "Last sleep ends at: 54510.0\n",
      "Cropping raw: 22290.0 - 56310.0\n",
      "Cropping finished.\n",
      "<RawEDF | SC4081E0-PSG.edf, 4 x 3402001 (34020.0 s), ~103.8 MiB, data loaded>\n",
      "Total amount of sleep stages in list: 34020\n",
      "Amount of data in cropped_raw; 3402001\n",
      "Extracting EDF parameters from C:\\Users\\andri\\school\\bio-informatics\\internship\\donders\\data\\human_test_data\\input\\raw_input\\SC4082E0-PSG.edf...\n",
      "EDF file detected\n",
      "Channel 'EEG Fpz-Cz' recognized as type EEG (renamed to 'Fpz-Cz').\n",
      "Channel 'EEG Pz-Oz' recognized as type EEG (renamed to 'Pz-Oz').\n",
      "Channel 'EOG horizontal' recognized as type EOG (renamed to 'horizontal').\n",
      "Channel 'Resp oro-nasal' recognized as type RESP (renamed to 'oro-nasal').\n",
      "Channel 'EMG submental' recognized as type EMG (renamed to 'submental').\n",
      "Channel 'Temp rectal' recognized as type TEMP (renamed to 'rectal').\n",
      "Setting channel info structure...\n",
      "Creating raw.info structure...\n",
      "Reading 0 ... 7901999  =      0.000 ... 79019.990 secs...\n"
     ]
    },
    {
     "name": "stderr",
     "output_type": "stream",
     "text": [
      "c:\\Users\\andri\\school\\bio-informatics\\internship\\donders\\vsc\\Human_SleepSCoring\\DilonAndriesse\\pre_processing\\basic_mne_functions.py:15: RuntimeWarning: Channels contain different highpass filters. Highest filter setting will be stored.\n",
      "  raw = mne.io.read_raw_edf(\n",
      "c:\\Users\\andri\\school\\bio-informatics\\internship\\donders\\vsc\\Human_SleepSCoring\\DilonAndriesse\\pre_processing\\basic_mne_functions.py:15: RuntimeWarning: Channels contain different lowpass filters. Lowest filter setting will be stored.\n",
      "  raw = mne.io.read_raw_edf(\n"
     ]
    },
    {
     "name": "stdout",
     "output_type": "stream",
     "text": [
      "First sleep starts at: 25350.0\n",
      "Last sleep ends at: 53370.0\n",
      "Cropping raw: 23550.0 - 55170.0\n",
      "Cropping finished.\n",
      "<RawEDF | SC4082E0-PSG.edf, 4 x 3162001 (31620.0 s), ~96.5 MiB, data loaded>\n",
      "Total amount of sleep stages in list: 31620\n",
      "Amount of data in cropped_raw; 3162001\n",
      "Extracting EDF parameters from C:\\Users\\andri\\school\\bio-informatics\\internship\\donders\\data\\human_test_data\\input\\raw_input\\SC4091E0-PSG.edf...\n",
      "EDF file detected\n",
      "Channel 'EEG Fpz-Cz' recognized as type EEG (renamed to 'Fpz-Cz').\n",
      "Channel 'EEG Pz-Oz' recognized as type EEG (renamed to 'Pz-Oz').\n",
      "Channel 'EOG horizontal' recognized as type EOG (renamed to 'horizontal').\n",
      "Channel 'Resp oro-nasal' recognized as type RESP (renamed to 'oro-nasal').\n",
      "Channel 'EMG submental' recognized as type EMG (renamed to 'submental').\n",
      "Channel 'Temp rectal' recognized as type TEMP (renamed to 'rectal').\n",
      "Setting channel info structure...\n",
      "Creating raw.info structure...\n",
      "Reading 0 ... 8195999  =      0.000 ... 81959.990 secs...\n"
     ]
    },
    {
     "name": "stderr",
     "output_type": "stream",
     "text": [
      "c:\\Users\\andri\\school\\bio-informatics\\internship\\donders\\vsc\\Human_SleepSCoring\\DilonAndriesse\\pre_processing\\basic_mne_functions.py:15: RuntimeWarning: Channels contain different highpass filters. Highest filter setting will be stored.\n",
      "  raw = mne.io.read_raw_edf(\n",
      "c:\\Users\\andri\\school\\bio-informatics\\internship\\donders\\vsc\\Human_SleepSCoring\\DilonAndriesse\\pre_processing\\basic_mne_functions.py:15: RuntimeWarning: Channels contain different lowpass filters. Lowest filter setting will be stored.\n",
      "  raw = mne.io.read_raw_edf(\n"
     ]
    },
    {
     "name": "stdout",
     "output_type": "stream",
     "text": [
      "First sleep starts at: 24150.0\n",
      "Last sleep ends at: 54840.0\n",
      "Cropping raw: 22350.0 - 56640.0\n",
      "Cropping finished.\n",
      "<RawEDF | SC4091E0-PSG.edf, 4 x 3429001 (34290.0 s), ~104.7 MiB, data loaded>\n",
      "Total amount of sleep stages in list: 34290\n",
      "Amount of data in cropped_raw; 3429001\n",
      "Extracting EDF parameters from C:\\Users\\andri\\school\\bio-informatics\\internship\\donders\\data\\human_test_data\\input\\raw_input\\SC4101E0-PSG.edf...\n",
      "EDF file detected\n",
      "Channel 'EEG Fpz-Cz' recognized as type EEG (renamed to 'Fpz-Cz').\n",
      "Channel 'EEG Pz-Oz' recognized as type EEG (renamed to 'Pz-Oz').\n",
      "Channel 'EOG horizontal' recognized as type EOG (renamed to 'horizontal').\n",
      "Channel 'Resp oro-nasal' recognized as type RESP (renamed to 'oro-nasal').\n",
      "Channel 'EMG submental' recognized as type EMG (renamed to 'submental').\n",
      "Channel 'Temp rectal' recognized as type TEMP (renamed to 'rectal').\n",
      "Setting channel info structure...\n",
      "Creating raw.info structure...\n",
      "Reading 0 ... 8159999  =      0.000 ... 81599.990 secs...\n"
     ]
    },
    {
     "name": "stderr",
     "output_type": "stream",
     "text": [
      "c:\\Users\\andri\\school\\bio-informatics\\internship\\donders\\vsc\\Human_SleepSCoring\\DilonAndriesse\\pre_processing\\basic_mne_functions.py:15: RuntimeWarning: Channels contain different highpass filters. Highest filter setting will be stored.\n",
      "  raw = mne.io.read_raw_edf(\n",
      "c:\\Users\\andri\\school\\bio-informatics\\internship\\donders\\vsc\\Human_SleepSCoring\\DilonAndriesse\\pre_processing\\basic_mne_functions.py:15: RuntimeWarning: Channels contain different lowpass filters. Lowest filter setting will be stored.\n",
      "  raw = mne.io.read_raw_edf(\n"
     ]
    },
    {
     "name": "stdout",
     "output_type": "stream",
     "text": [
      "First sleep starts at: 22860.0\n",
      "Last sleep ends at: 52410.0\n",
      "Cropping raw: 21060.0 - 54210.0\n",
      "Cropping finished.\n",
      "<RawEDF | SC4101E0-PSG.edf, 4 x 3315001 (33150.0 s), ~101.2 MiB, data loaded>\n",
      "Total amount of sleep stages in list: 33150\n",
      "Amount of data in cropped_raw; 3315001\n",
      "Extracting EDF parameters from C:\\Users\\andri\\school\\bio-informatics\\internship\\donders\\data\\human_test_data\\input\\raw_input\\SC4102E0-PSG.edf...\n",
      "EDF file detected\n",
      "Channel 'EEG Fpz-Cz' recognized as type EEG (renamed to 'Fpz-Cz').\n",
      "Channel 'EEG Pz-Oz' recognized as type EEG (renamed to 'Pz-Oz').\n",
      "Channel 'EOG horizontal' recognized as type EOG (renamed to 'horizontal').\n",
      "Channel 'Resp oro-nasal' recognized as type RESP (renamed to 'oro-nasal').\n",
      "Channel 'EMG submental' recognized as type EMG (renamed to 'submental').\n",
      "Channel 'Temp rectal' recognized as type TEMP (renamed to 'rectal').\n",
      "Setting channel info structure...\n",
      "Creating raw.info structure...\n",
      "Reading 0 ... 8573999  =      0.000 ... 85739.990 secs...\n"
     ]
    },
    {
     "name": "stderr",
     "output_type": "stream",
     "text": [
      "c:\\Users\\andri\\school\\bio-informatics\\internship\\donders\\vsc\\Human_SleepSCoring\\DilonAndriesse\\pre_processing\\basic_mne_functions.py:15: RuntimeWarning: Channels contain different highpass filters. Highest filter setting will be stored.\n",
      "  raw = mne.io.read_raw_edf(\n",
      "c:\\Users\\andri\\school\\bio-informatics\\internship\\donders\\vsc\\Human_SleepSCoring\\DilonAndriesse\\pre_processing\\basic_mne_functions.py:15: RuntimeWarning: Channels contain different lowpass filters. Lowest filter setting will be stored.\n",
      "  raw = mne.io.read_raw_edf(\n"
     ]
    },
    {
     "name": "stdout",
     "output_type": "stream",
     "text": [
      "First sleep starts at: 26400.0\n",
      "Last sleep ends at: 55590.0\n",
      "Cropping raw: 24600.0 - 57390.0\n",
      "Cropping finished.\n",
      "<RawEDF | SC4102E0-PSG.edf, 4 x 3279001 (32790.0 s), ~100.1 MiB, data loaded>\n",
      "Total amount of sleep stages in list: 32790\n",
      "Amount of data in cropped_raw; 3279001\n",
      "Extracting EDF parameters from C:\\Users\\andri\\school\\bio-informatics\\internship\\donders\\data\\human_test_data\\input\\raw_input\\SC4111E0-PSG.edf...\n",
      "EDF file detected\n",
      "Channel 'EEG Fpz-Cz' recognized as type EEG (renamed to 'Fpz-Cz').\n",
      "Channel 'EEG Pz-Oz' recognized as type EEG (renamed to 'Pz-Oz').\n",
      "Channel 'EOG horizontal' recognized as type EOG (renamed to 'horizontal').\n",
      "Channel 'Resp oro-nasal' recognized as type RESP (renamed to 'oro-nasal').\n",
      "Channel 'EMG submental' recognized as type EMG (renamed to 'submental').\n",
      "Channel 'Temp rectal' recognized as type TEMP (renamed to 'rectal').\n",
      "Setting channel info structure...\n",
      "Creating raw.info structure...\n",
      "Reading 0 ... 7925999  =      0.000 ... 79259.990 secs...\n"
     ]
    },
    {
     "name": "stderr",
     "output_type": "stream",
     "text": [
      "c:\\Users\\andri\\school\\bio-informatics\\internship\\donders\\vsc\\Human_SleepSCoring\\DilonAndriesse\\pre_processing\\basic_mne_functions.py:15: RuntimeWarning: Channels contain different highpass filters. Highest filter setting will be stored.\n",
      "  raw = mne.io.read_raw_edf(\n",
      "c:\\Users\\andri\\school\\bio-informatics\\internship\\donders\\vsc\\Human_SleepSCoring\\DilonAndriesse\\pre_processing\\basic_mne_functions.py:15: RuntimeWarning: Channels contain different lowpass filters. Lowest filter setting will be stored.\n",
      "  raw = mne.io.read_raw_edf(\n"
     ]
    },
    {
     "name": "stdout",
     "output_type": "stream",
     "text": [
      "First sleep starts at: 28050.0\n",
      "Last sleep ends at: 52320.0\n",
      "Cropping raw: 26250.0 - 54120.0\n",
      "Cropping finished.\n",
      "<RawEDF | SC4111E0-PSG.edf, 4 x 2787001 (27870.0 s), ~85.1 MiB, data loaded>\n",
      "Total amount of sleep stages in list: 27870\n",
      "Amount of data in cropped_raw; 2787001\n",
      "Extracting EDF parameters from C:\\Users\\andri\\school\\bio-informatics\\internship\\donders\\data\\human_test_data\\input\\raw_input\\SC4112E0-PSG.edf...\n",
      "EDF file detected\n",
      "Channel 'EEG Fpz-Cz' recognized as type EEG (renamed to 'Fpz-Cz').\n",
      "Channel 'EEG Pz-Oz' recognized as type EEG (renamed to 'Pz-Oz').\n",
      "Channel 'EOG horizontal' recognized as type EOG (renamed to 'horizontal').\n",
      "Channel 'Resp oro-nasal' recognized as type RESP (renamed to 'oro-nasal').\n",
      "Channel 'EMG submental' recognized as type EMG (renamed to 'submental').\n",
      "Channel 'Temp rectal' recognized as type TEMP (renamed to 'rectal').\n",
      "Setting channel info structure...\n",
      "Creating raw.info structure...\n",
      "Reading 0 ... 8339999  =      0.000 ... 83399.990 secs...\n"
     ]
    },
    {
     "name": "stderr",
     "output_type": "stream",
     "text": [
      "c:\\Users\\andri\\school\\bio-informatics\\internship\\donders\\vsc\\Human_SleepSCoring\\DilonAndriesse\\pre_processing\\basic_mne_functions.py:15: RuntimeWarning: Channels contain different highpass filters. Highest filter setting will be stored.\n",
      "  raw = mne.io.read_raw_edf(\n",
      "c:\\Users\\andri\\school\\bio-informatics\\internship\\donders\\vsc\\Human_SleepSCoring\\DilonAndriesse\\pre_processing\\basic_mne_functions.py:15: RuntimeWarning: Channels contain different lowpass filters. Lowest filter setting will be stored.\n",
      "  raw = mne.io.read_raw_edf(\n"
     ]
    },
    {
     "name": "stdout",
     "output_type": "stream",
     "text": [
      "First sleep starts at: 35850.0\n",
      "Last sleep ends at: 56310.0\n",
      "Cropping raw: 34050.0 - 58110.0\n",
      "Cropping finished.\n",
      "<RawEDF | SC4112E0-PSG.edf, 4 x 2406001 (24060.0 s), ~73.4 MiB, data loaded>\n",
      "Total amount of sleep stages in list: 24060\n",
      "Amount of data in cropped_raw; 2406001\n",
      "Extracting EDF parameters from C:\\Users\\andri\\school\\bio-informatics\\internship\\donders\\data\\human_test_data\\input\\raw_input\\SC4121E0-PSG.edf...\n",
      "EDF file detected\n",
      "Channel 'EEG Fpz-Cz' recognized as type EEG (renamed to 'Fpz-Cz').\n",
      "Channel 'EEG Pz-Oz' recognized as type EEG (renamed to 'Pz-Oz').\n",
      "Channel 'EOG horizontal' recognized as type EOG (renamed to 'horizontal').\n",
      "Channel 'Resp oro-nasal' recognized as type RESP (renamed to 'oro-nasal').\n",
      "Channel 'EMG submental' recognized as type EMG (renamed to 'submental').\n",
      "Channel 'Temp rectal' recognized as type TEMP (renamed to 'rectal').\n",
      "Setting channel info structure...\n",
      "Creating raw.info structure...\n",
      "Reading 0 ... 8357999  =      0.000 ... 83579.990 secs...\n"
     ]
    },
    {
     "name": "stderr",
     "output_type": "stream",
     "text": [
      "c:\\Users\\andri\\school\\bio-informatics\\internship\\donders\\vsc\\Human_SleepSCoring\\DilonAndriesse\\pre_processing\\basic_mne_functions.py:15: RuntimeWarning: Channels contain different highpass filters. Highest filter setting will be stored.\n",
      "  raw = mne.io.read_raw_edf(\n",
      "c:\\Users\\andri\\school\\bio-informatics\\internship\\donders\\vsc\\Human_SleepSCoring\\DilonAndriesse\\pre_processing\\basic_mne_functions.py:15: RuntimeWarning: Channels contain different lowpass filters. Lowest filter setting will be stored.\n",
      "  raw = mne.io.read_raw_edf(\n"
     ]
    },
    {
     "name": "stdout",
     "output_type": "stream",
     "text": [
      "First sleep starts at: 28860.0\n",
      "Last sleep ends at: 56820.0\n",
      "Cropping raw: 27060.0 - 58620.0\n",
      "Cropping finished.\n",
      "<RawEDF | SC4121E0-PSG.edf, 4 x 3156001 (31560.0 s), ~96.3 MiB, data loaded>\n",
      "Total amount of sleep stages in list: 31560\n",
      "Amount of data in cropped_raw; 3156001\n",
      "Extracting EDF parameters from C:\\Users\\andri\\school\\bio-informatics\\internship\\donders\\data\\human_test_data\\input\\raw_input\\SC4122E0-PSG.edf...\n",
      "EDF file detected\n",
      "Channel 'EEG Fpz-Cz' recognized as type EEG (renamed to 'Fpz-Cz').\n",
      "Channel 'EEG Pz-Oz' recognized as type EEG (renamed to 'Pz-Oz').\n",
      "Channel 'EOG horizontal' recognized as type EOG (renamed to 'horizontal').\n",
      "Channel 'Resp oro-nasal' recognized as type RESP (renamed to 'oro-nasal').\n",
      "Channel 'EMG submental' recognized as type EMG (renamed to 'submental').\n",
      "Channel 'Temp rectal' recognized as type TEMP (renamed to 'rectal').\n",
      "Setting channel info structure...\n",
      "Creating raw.info structure...\n",
      "Reading 0 ... 7817999  =      0.000 ... 78179.990 secs...\n"
     ]
    },
    {
     "name": "stderr",
     "output_type": "stream",
     "text": [
      "c:\\Users\\andri\\school\\bio-informatics\\internship\\donders\\vsc\\Human_SleepSCoring\\DilonAndriesse\\pre_processing\\basic_mne_functions.py:15: RuntimeWarning: Channels contain different highpass filters. Highest filter setting will be stored.\n",
      "  raw = mne.io.read_raw_edf(\n",
      "c:\\Users\\andri\\school\\bio-informatics\\internship\\donders\\vsc\\Human_SleepSCoring\\DilonAndriesse\\pre_processing\\basic_mne_functions.py:15: RuntimeWarning: Channels contain different lowpass filters. Lowest filter setting will be stored.\n",
      "  raw = mne.io.read_raw_edf(\n"
     ]
    },
    {
     "name": "stdout",
     "output_type": "stream",
     "text": [
      "First sleep starts at: 33420.0\n",
      "Last sleep ends at: 59130.0\n",
      "Cropping raw: 31620.0 - 60930.0\n",
      "Cropping finished.\n",
      "<RawEDF | SC4122E0-PSG.edf, 4 x 2931001 (29310.0 s), ~89.5 MiB, data loaded>\n",
      "Total amount of sleep stages in list: 29310\n",
      "Amount of data in cropped_raw; 2931001\n",
      "Extracting EDF parameters from C:\\Users\\andri\\school\\bio-informatics\\internship\\donders\\data\\human_test_data\\input\\raw_input\\SC4131E0-PSG.edf...\n",
      "EDF file detected\n",
      "Channel 'EEG Fpz-Cz' recognized as type EEG (renamed to 'Fpz-Cz').\n",
      "Channel 'EEG Pz-Oz' recognized as type EEG (renamed to 'Pz-Oz').\n",
      "Channel 'EOG horizontal' recognized as type EOG (renamed to 'horizontal').\n",
      "Channel 'Resp oro-nasal' recognized as type RESP (renamed to 'oro-nasal').\n",
      "Channel 'EMG submental' recognized as type EMG (renamed to 'submental').\n",
      "Channel 'Temp rectal' recognized as type TEMP (renamed to 'rectal').\n",
      "Setting channel info structure...\n",
      "Creating raw.info structure...\n",
      "Reading 0 ... 8441999  =      0.000 ... 84419.990 secs...\n"
     ]
    },
    {
     "name": "stderr",
     "output_type": "stream",
     "text": [
      "c:\\Users\\andri\\school\\bio-informatics\\internship\\donders\\vsc\\Human_SleepSCoring\\DilonAndriesse\\pre_processing\\basic_mne_functions.py:15: RuntimeWarning: Channels contain different highpass filters. Highest filter setting will be stored.\n",
      "  raw = mne.io.read_raw_edf(\n",
      "c:\\Users\\andri\\school\\bio-informatics\\internship\\donders\\vsc\\Human_SleepSCoring\\DilonAndriesse\\pre_processing\\basic_mne_functions.py:15: RuntimeWarning: Channels contain different lowpass filters. Lowest filter setting will be stored.\n",
      "  raw = mne.io.read_raw_edf(\n"
     ]
    },
    {
     "name": "stdout",
     "output_type": "stream",
     "text": [
      "First sleep starts at: 28860.0\n",
      "Last sleep ends at: 56100.0\n",
      "Cropping raw: 27060.0 - 57900.0\n",
      "Cropping finished.\n",
      "<RawEDF | SC4131E0-PSG.edf, 4 x 3084001 (30840.0 s), ~94.1 MiB, data loaded>\n",
      "Total amount of sleep stages in list: 30840\n",
      "Amount of data in cropped_raw; 3084001\n",
      "Extracting EDF parameters from C:\\Users\\andri\\school\\bio-informatics\\internship\\donders\\data\\human_test_data\\input\\raw_input\\SC4141E0-PSG.edf...\n",
      "EDF file detected\n",
      "Channel 'EEG Fpz-Cz' recognized as type EEG (renamed to 'Fpz-Cz').\n",
      "Channel 'EEG Pz-Oz' recognized as type EEG (renamed to 'Pz-Oz').\n",
      "Channel 'EOG horizontal' recognized as type EOG (renamed to 'horizontal').\n",
      "Channel 'Resp oro-nasal' recognized as type RESP (renamed to 'oro-nasal').\n",
      "Channel 'EMG submental' recognized as type EMG (renamed to 'submental').\n",
      "Channel 'Temp rectal' recognized as type TEMP (renamed to 'rectal').\n",
      "Setting channel info structure...\n",
      "Creating raw.info structure...\n",
      "Reading 0 ... 8267999  =      0.000 ... 82679.990 secs...\n"
     ]
    },
    {
     "name": "stderr",
     "output_type": "stream",
     "text": [
      "c:\\Users\\andri\\school\\bio-informatics\\internship\\donders\\vsc\\Human_SleepSCoring\\DilonAndriesse\\pre_processing\\basic_mne_functions.py:15: RuntimeWarning: Channels contain different highpass filters. Highest filter setting will be stored.\n",
      "  raw = mne.io.read_raw_edf(\n",
      "c:\\Users\\andri\\school\\bio-informatics\\internship\\donders\\vsc\\Human_SleepSCoring\\DilonAndriesse\\pre_processing\\basic_mne_functions.py:15: RuntimeWarning: Channels contain different lowpass filters. Lowest filter setting will be stored.\n",
      "  raw = mne.io.read_raw_edf(\n"
     ]
    },
    {
     "name": "stdout",
     "output_type": "stream",
     "text": [
      "First sleep starts at: 25140.0\n",
      "Last sleep ends at: 51660.0\n",
      "Cropping raw: 23340.0 - 53460.0\n",
      "Cropping finished.\n",
      "<RawEDF | SC4141E0-PSG.edf, 4 x 3012001 (30120.0 s), ~91.9 MiB, data loaded>\n",
      "Total amount of sleep stages in list: 30120\n",
      "Amount of data in cropped_raw; 3012001\n",
      "Extracting EDF parameters from C:\\Users\\andri\\school\\bio-informatics\\internship\\donders\\data\\human_test_data\\input\\raw_input\\SC4142E0-PSG.edf...\n",
      "EDF file detected\n",
      "Channel 'EEG Fpz-Cz' recognized as type EEG (renamed to 'Fpz-Cz').\n",
      "Channel 'EEG Pz-Oz' recognized as type EEG (renamed to 'Pz-Oz').\n",
      "Channel 'EOG horizontal' recognized as type EOG (renamed to 'horizontal').\n",
      "Channel 'Resp oro-nasal' recognized as type RESP (renamed to 'oro-nasal').\n",
      "Channel 'EMG submental' recognized as type EMG (renamed to 'submental').\n",
      "Channel 'Temp rectal' recognized as type TEMP (renamed to 'rectal').\n",
      "Setting channel info structure...\n",
      "Creating raw.info structure...\n",
      "Reading 0 ... 8321999  =      0.000 ... 83219.990 secs...\n"
     ]
    },
    {
     "name": "stderr",
     "output_type": "stream",
     "text": [
      "c:\\Users\\andri\\school\\bio-informatics\\internship\\donders\\vsc\\Human_SleepSCoring\\DilonAndriesse\\pre_processing\\basic_mne_functions.py:15: RuntimeWarning: Channels contain different highpass filters. Highest filter setting will be stored.\n",
      "  raw = mne.io.read_raw_edf(\n",
      "c:\\Users\\andri\\school\\bio-informatics\\internship\\donders\\vsc\\Human_SleepSCoring\\DilonAndriesse\\pre_processing\\basic_mne_functions.py:15: RuntimeWarning: Channels contain different lowpass filters. Lowest filter setting will be stored.\n",
      "  raw = mne.io.read_raw_edf(\n"
     ]
    },
    {
     "name": "stdout",
     "output_type": "stream",
     "text": [
      "First sleep starts at: 28590.0\n",
      "Last sleep ends at: 53550.0\n",
      "Cropping raw: 26790.0 - 55350.0\n",
      "Cropping finished.\n",
      "<RawEDF | SC4142E0-PSG.edf, 4 x 2856001 (28560.0 s), ~87.2 MiB, data loaded>\n",
      "Total amount of sleep stages in list: 28560\n",
      "Amount of data in cropped_raw; 2856001\n",
      "Extracting EDF parameters from C:\\Users\\andri\\school\\bio-informatics\\internship\\donders\\data\\human_test_data\\input\\raw_input\\SC4151E0-PSG.edf...\n",
      "EDF file detected\n",
      "Channel 'EEG Fpz-Cz' recognized as type EEG (renamed to 'Fpz-Cz').\n",
      "Channel 'EEG Pz-Oz' recognized as type EEG (renamed to 'Pz-Oz').\n",
      "Channel 'EOG horizontal' recognized as type EOG (renamed to 'horizontal').\n",
      "Channel 'Resp oro-nasal' recognized as type RESP (renamed to 'oro-nasal').\n",
      "Channel 'EMG submental' recognized as type EMG (renamed to 'submental').\n",
      "Channel 'Temp rectal' recognized as type TEMP (renamed to 'rectal').\n",
      "Setting channel info structure...\n",
      "Creating raw.info structure...\n",
      "Reading 0 ... 7859999  =      0.000 ... 78599.990 secs...\n"
     ]
    },
    {
     "name": "stderr",
     "output_type": "stream",
     "text": [
      "c:\\Users\\andri\\school\\bio-informatics\\internship\\donders\\vsc\\Human_SleepSCoring\\DilonAndriesse\\pre_processing\\basic_mne_functions.py:15: RuntimeWarning: Channels contain different highpass filters. Highest filter setting will be stored.\n",
      "  raw = mne.io.read_raw_edf(\n",
      "c:\\Users\\andri\\school\\bio-informatics\\internship\\donders\\vsc\\Human_SleepSCoring\\DilonAndriesse\\pre_processing\\basic_mne_functions.py:15: RuntimeWarning: Channels contain different lowpass filters. Lowest filter setting will be stored.\n",
      "  raw = mne.io.read_raw_edf(\n"
     ]
    },
    {
     "name": "stdout",
     "output_type": "stream",
     "text": [
      "First sleep starts at: 26820.0\n",
      "Last sleep ends at: 51900.0\n",
      "Cropping raw: 25020.0 - 53700.0\n",
      "Cropping finished.\n",
      "<RawEDF | SC4151E0-PSG.edf, 4 x 2868001 (28680.0 s), ~87.5 MiB, data loaded>\n",
      "Total amount of sleep stages in list: 28680\n",
      "Amount of data in cropped_raw; 2868001\n",
      "Extracting EDF parameters from C:\\Users\\andri\\school\\bio-informatics\\internship\\donders\\data\\human_test_data\\input\\raw_input\\SC4152E0-PSG.edf...\n",
      "EDF file detected\n",
      "Channel 'EEG Fpz-Cz' recognized as type EEG (renamed to 'Fpz-Cz').\n",
      "Channel 'EEG Pz-Oz' recognized as type EEG (renamed to 'Pz-Oz').\n",
      "Channel 'EOG horizontal' recognized as type EOG (renamed to 'horizontal').\n",
      "Channel 'Resp oro-nasal' recognized as type RESP (renamed to 'oro-nasal').\n",
      "Channel 'EMG submental' recognized as type EMG (renamed to 'submental').\n",
      "Channel 'Temp rectal' recognized as type TEMP (renamed to 'rectal').\n",
      "Setting channel info structure...\n",
      "Creating raw.info structure...\n",
      "Reading 0 ... 8591999  =      0.000 ... 85919.990 secs...\n"
     ]
    },
    {
     "name": "stderr",
     "output_type": "stream",
     "text": [
      "c:\\Users\\andri\\school\\bio-informatics\\internship\\donders\\vsc\\Human_SleepSCoring\\DilonAndriesse\\pre_processing\\basic_mne_functions.py:15: RuntimeWarning: Channels contain different highpass filters. Highest filter setting will be stored.\n",
      "  raw = mne.io.read_raw_edf(\n",
      "c:\\Users\\andri\\school\\bio-informatics\\internship\\donders\\vsc\\Human_SleepSCoring\\DilonAndriesse\\pre_processing\\basic_mne_functions.py:15: RuntimeWarning: Channels contain different lowpass filters. Lowest filter setting will be stored.\n",
      "  raw = mne.io.read_raw_edf(\n"
     ]
    },
    {
     "name": "stdout",
     "output_type": "stream",
     "text": [
      "First sleep starts at: 10350.0\n",
      "Last sleep ends at: 59760.0\n",
      "Cropping raw: 8550.0 - 61560.0\n",
      "Cropping finished.\n",
      "<RawEDF | SC4152E0-PSG.edf, 4 x 5301001 (53010.0 s), ~161.8 MiB, data loaded>\n",
      "Total amount of sleep stages in list: 53010\n",
      "Amount of data in cropped_raw; 5301001\n",
      "Extracting EDF parameters from C:\\Users\\andri\\school\\bio-informatics\\internship\\donders\\data\\human_test_data\\input\\raw_input\\SC4161E0-PSG.edf...\n",
      "EDF file detected\n",
      "Channel 'EEG Fpz-Cz' recognized as type EEG (renamed to 'Fpz-Cz').\n",
      "Channel 'EEG Pz-Oz' recognized as type EEG (renamed to 'Pz-Oz').\n",
      "Channel 'EOG horizontal' recognized as type EOG (renamed to 'horizontal').\n",
      "Channel 'Resp oro-nasal' recognized as type RESP (renamed to 'oro-nasal').\n",
      "Channel 'EMG submental' recognized as type EMG (renamed to 'submental').\n",
      "Channel 'Temp rectal' recognized as type TEMP (renamed to 'rectal').\n",
      "Setting channel info structure...\n",
      "Creating raw.info structure...\n",
      "Reading 0 ... 7877999  =      0.000 ... 78779.990 secs...\n"
     ]
    },
    {
     "name": "stderr",
     "output_type": "stream",
     "text": [
      "c:\\Users\\andri\\school\\bio-informatics\\internship\\donders\\vsc\\Human_SleepSCoring\\DilonAndriesse\\pre_processing\\basic_mne_functions.py:15: RuntimeWarning: Channels contain different highpass filters. Highest filter setting will be stored.\n",
      "  raw = mne.io.read_raw_edf(\n",
      "c:\\Users\\andri\\school\\bio-informatics\\internship\\donders\\vsc\\Human_SleepSCoring\\DilonAndriesse\\pre_processing\\basic_mne_functions.py:15: RuntimeWarning: Channels contain different lowpass filters. Lowest filter setting will be stored.\n",
      "  raw = mne.io.read_raw_edf(\n"
     ]
    },
    {
     "name": "stdout",
     "output_type": "stream",
     "text": [
      "First sleep starts at: 22290.0\n",
      "Last sleep ends at: 53160.0\n",
      "Cropping raw: 20490.0 - 54960.0\n",
      "Cropping finished.\n",
      "<RawEDF | SC4161E0-PSG.edf, 4 x 3447001 (34470.0 s), ~105.2 MiB, data loaded>\n",
      "Total amount of sleep stages in list: 34470\n",
      "Amount of data in cropped_raw; 3447001\n",
      "Extracting EDF parameters from C:\\Users\\andri\\school\\bio-informatics\\internship\\donders\\data\\human_test_data\\input\\raw_input\\SC4162E0-PSG.edf...\n",
      "EDF file detected\n",
      "Channel 'EEG Fpz-Cz' recognized as type EEG (renamed to 'Fpz-Cz').\n",
      "Channel 'EEG Pz-Oz' recognized as type EEG (renamed to 'Pz-Oz').\n",
      "Channel 'EOG horizontal' recognized as type EOG (renamed to 'horizontal').\n",
      "Channel 'Resp oro-nasal' recognized as type RESP (renamed to 'oro-nasal').\n",
      "Channel 'EMG submental' recognized as type EMG (renamed to 'submental').\n",
      "Channel 'Temp rectal' recognized as type TEMP (renamed to 'rectal').\n",
      "Setting channel info structure...\n",
      "Creating raw.info structure...\n",
      "Reading 0 ... 8255999  =      0.000 ... 82559.990 secs...\n"
     ]
    },
    {
     "name": "stderr",
     "output_type": "stream",
     "text": [
      "c:\\Users\\andri\\school\\bio-informatics\\internship\\donders\\vsc\\Human_SleepSCoring\\DilonAndriesse\\pre_processing\\basic_mne_functions.py:15: RuntimeWarning: Channels contain different highpass filters. Highest filter setting will be stored.\n",
      "  raw = mne.io.read_raw_edf(\n",
      "c:\\Users\\andri\\school\\bio-informatics\\internship\\donders\\vsc\\Human_SleepSCoring\\DilonAndriesse\\pre_processing\\basic_mne_functions.py:15: RuntimeWarning: Channels contain different lowpass filters. Lowest filter setting will be stored.\n",
      "  raw = mne.io.read_raw_edf(\n"
     ]
    },
    {
     "name": "stdout",
     "output_type": "stream",
     "text": [
      "First sleep starts at: 31500.0\n",
      "Last sleep ends at: 58050.0\n",
      "Cropping raw: 29700.0 - 59850.0\n",
      "Cropping finished.\n",
      "<RawEDF | SC4162E0-PSG.edf, 4 x 3015001 (30150.0 s), ~92.0 MiB, data loaded>\n",
      "Total amount of sleep stages in list: 30150\n",
      "Amount of data in cropped_raw; 3015001\n",
      "Extracting EDF parameters from C:\\Users\\andri\\school\\bio-informatics\\internship\\donders\\data\\human_test_data\\input\\raw_input\\SC4171E0-PSG.edf...\n",
      "EDF file detected\n",
      "Channel 'EEG Fpz-Cz' recognized as type EEG (renamed to 'Fpz-Cz').\n",
      "Channel 'EEG Pz-Oz' recognized as type EEG (renamed to 'Pz-Oz').\n",
      "Channel 'EOG horizontal' recognized as type EOG (renamed to 'horizontal').\n",
      "Channel 'Resp oro-nasal' recognized as type RESP (renamed to 'oro-nasal').\n",
      "Channel 'EMG submental' recognized as type EMG (renamed to 'submental').\n",
      "Channel 'Temp rectal' recognized as type TEMP (renamed to 'rectal').\n",
      "Setting channel info structure...\n",
      "Creating raw.info structure...\n",
      "Reading 0 ... 8225999  =      0.000 ... 82259.990 secs...\n"
     ]
    },
    {
     "name": "stderr",
     "output_type": "stream",
     "text": [
      "c:\\Users\\andri\\school\\bio-informatics\\internship\\donders\\vsc\\Human_SleepSCoring\\DilonAndriesse\\pre_processing\\basic_mne_functions.py:15: RuntimeWarning: Channels contain different highpass filters. Highest filter setting will be stored.\n",
      "  raw = mne.io.read_raw_edf(\n",
      "c:\\Users\\andri\\school\\bio-informatics\\internship\\donders\\vsc\\Human_SleepSCoring\\DilonAndriesse\\pre_processing\\basic_mne_functions.py:15: RuntimeWarning: Channels contain different lowpass filters. Lowest filter setting will be stored.\n",
      "  raw = mne.io.read_raw_edf(\n"
     ]
    },
    {
     "name": "stdout",
     "output_type": "stream",
     "text": [
      "First sleep starts at: 29010.0\n",
      "Last sleep ends at: 55500.0\n",
      "Cropping raw: 27210.0 - 57300.0\n",
      "Cropping finished.\n",
      "<RawEDF | SC4171E0-PSG.edf, 4 x 3009001 (30090.0 s), ~91.8 MiB, data loaded>\n",
      "Total amount of sleep stages in list: 30090\n",
      "Amount of data in cropped_raw; 3009001\n",
      "Extracting EDF parameters from C:\\Users\\andri\\school\\bio-informatics\\internship\\donders\\data\\human_test_data\\input\\raw_input\\SC4172E0-PSG.edf...\n",
      "EDF file detected\n",
      "Channel 'EEG Fpz-Cz' recognized as type EEG (renamed to 'Fpz-Cz').\n",
      "Channel 'EEG Pz-Oz' recognized as type EEG (renamed to 'Pz-Oz').\n",
      "Channel 'EOG horizontal' recognized as type EOG (renamed to 'horizontal').\n",
      "Channel 'Resp oro-nasal' recognized as type RESP (renamed to 'oro-nasal').\n",
      "Channel 'EMG submental' recognized as type EMG (renamed to 'submental').\n",
      "Channel 'Temp rectal' recognized as type TEMP (renamed to 'rectal').\n",
      "Setting channel info structure...\n",
      "Creating raw.info structure...\n",
      "Reading 0 ... 8171999  =      0.000 ... 81719.990 secs...\n"
     ]
    },
    {
     "name": "stderr",
     "output_type": "stream",
     "text": [
      "c:\\Users\\andri\\school\\bio-informatics\\internship\\donders\\vsc\\Human_SleepSCoring\\DilonAndriesse\\pre_processing\\basic_mne_functions.py:15: RuntimeWarning: Channels contain different highpass filters. Highest filter setting will be stored.\n",
      "  raw = mne.io.read_raw_edf(\n",
      "c:\\Users\\andri\\school\\bio-informatics\\internship\\donders\\vsc\\Human_SleepSCoring\\DilonAndriesse\\pre_processing\\basic_mne_functions.py:15: RuntimeWarning: Channels contain different lowpass filters. Lowest filter setting will be stored.\n",
      "  raw = mne.io.read_raw_edf(\n"
     ]
    },
    {
     "name": "stdout",
     "output_type": "stream",
     "text": [
      "First sleep starts at: 10260.0\n",
      "Last sleep ends at: 59970.0\n",
      "Cropping raw: 8460.0 - 61770.0\n",
      "Cropping finished.\n",
      "<RawEDF | SC4172E0-PSG.edf, 4 x 5331001 (53310.0 s), ~162.7 MiB, data loaded>\n",
      "Total amount of sleep stages in list: 53310\n",
      "Amount of data in cropped_raw; 5331001\n",
      "Extracting EDF parameters from C:\\Users\\andri\\school\\bio-informatics\\internship\\donders\\data\\human_test_data\\input\\raw_input\\SC4181E0-PSG.edf...\n",
      "EDF file detected\n",
      "Channel 'EEG Fpz-Cz' recognized as type EEG (renamed to 'Fpz-Cz').\n",
      "Channel 'EEG Pz-Oz' recognized as type EEG (renamed to 'Pz-Oz').\n",
      "Channel 'EOG horizontal' recognized as type EOG (renamed to 'horizontal').\n",
      "Channel 'Resp oro-nasal' recognized as type RESP (renamed to 'oro-nasal').\n",
      "Channel 'EMG submental' recognized as type EMG (renamed to 'submental').\n",
      "Channel 'Temp rectal' recognized as type TEMP (renamed to 'rectal').\n",
      "Setting channel info structure...\n",
      "Creating raw.info structure...\n",
      "Reading 0 ... 8267999  =      0.000 ... 82679.990 secs...\n"
     ]
    },
    {
     "name": "stderr",
     "output_type": "stream",
     "text": [
      "c:\\Users\\andri\\school\\bio-informatics\\internship\\donders\\vsc\\Human_SleepSCoring\\DilonAndriesse\\pre_processing\\basic_mne_functions.py:15: RuntimeWarning: Channels contain different highpass filters. Highest filter setting will be stored.\n",
      "  raw = mne.io.read_raw_edf(\n",
      "c:\\Users\\andri\\school\\bio-informatics\\internship\\donders\\vsc\\Human_SleepSCoring\\DilonAndriesse\\pre_processing\\basic_mne_functions.py:15: RuntimeWarning: Channels contain different lowpass filters. Lowest filter setting will be stored.\n",
      "  raw = mne.io.read_raw_edf(\n"
     ]
    },
    {
     "name": "stdout",
     "output_type": "stream",
     "text": [
      "First sleep starts at: 26880.0\n",
      "Last sleep ends at: 52200.0\n",
      "Cropping raw: 25080.0 - 54000.0\n",
      "Cropping finished.\n",
      "<RawEDF | SC4181E0-PSG.edf, 4 x 2892001 (28920.0 s), ~88.3 MiB, data loaded>\n",
      "Total amount of sleep stages in list: 28920\n",
      "Amount of data in cropped_raw; 2892001\n",
      "Extracting EDF parameters from C:\\Users\\andri\\school\\bio-informatics\\internship\\donders\\data\\human_test_data\\input\\raw_input\\SC4182E0-PSG.edf...\n",
      "EDF file detected\n",
      "Channel 'EEG Fpz-Cz' recognized as type EEG (renamed to 'Fpz-Cz').\n",
      "Channel 'EEG Pz-Oz' recognized as type EEG (renamed to 'Pz-Oz').\n",
      "Channel 'EOG horizontal' recognized as type EOG (renamed to 'horizontal').\n",
      "Channel 'Resp oro-nasal' recognized as type RESP (renamed to 'oro-nasal').\n",
      "Channel 'EMG submental' recognized as type EMG (renamed to 'submental').\n",
      "Channel 'Temp rectal' recognized as type TEMP (renamed to 'rectal').\n",
      "Setting channel info structure...\n",
      "Creating raw.info structure...\n",
      "Reading 0 ... 8525999  =      0.000 ... 85259.990 secs...\n"
     ]
    },
    {
     "name": "stderr",
     "output_type": "stream",
     "text": [
      "c:\\Users\\andri\\school\\bio-informatics\\internship\\donders\\vsc\\Human_SleepSCoring\\DilonAndriesse\\pre_processing\\basic_mne_functions.py:15: RuntimeWarning: Channels contain different highpass filters. Highest filter setting will be stored.\n",
      "  raw = mne.io.read_raw_edf(\n",
      "c:\\Users\\andri\\school\\bio-informatics\\internship\\donders\\vsc\\Human_SleepSCoring\\DilonAndriesse\\pre_processing\\basic_mne_functions.py:15: RuntimeWarning: Channels contain different lowpass filters. Lowest filter setting will be stored.\n",
      "  raw = mne.io.read_raw_edf(\n"
     ]
    },
    {
     "name": "stdout",
     "output_type": "stream",
     "text": [
      "First sleep starts at: 30390.0\n",
      "Last sleep ends at: 54390.0\n",
      "Cropping raw: 28590.0 - 56190.0\n",
      "Cropping finished.\n",
      "<RawEDF | SC4182E0-PSG.edf, 4 x 2760001 (27600.0 s), ~84.2 MiB, data loaded>\n",
      "Total amount of sleep stages in list: 27600\n",
      "Amount of data in cropped_raw; 2760001\n",
      "Extracting EDF parameters from C:\\Users\\andri\\school\\bio-informatics\\internship\\donders\\data\\human_test_data\\input\\raw_input\\SC4191E0-PSG.edf...\n",
      "EDF file detected\n",
      "Channel 'EEG Fpz-Cz' recognized as type EEG (renamed to 'Fpz-Cz').\n",
      "Channel 'EEG Pz-Oz' recognized as type EEG (renamed to 'Pz-Oz').\n",
      "Channel 'EOG horizontal' recognized as type EOG (renamed to 'horizontal').\n",
      "Channel 'Resp oro-nasal' recognized as type RESP (renamed to 'oro-nasal').\n",
      "Channel 'EMG submental' recognized as type EMG (renamed to 'submental').\n",
      "Channel 'Temp rectal' recognized as type TEMP (renamed to 'rectal').\n",
      "Setting channel info structure...\n",
      "Creating raw.info structure...\n",
      "Reading 0 ... 8321999  =      0.000 ... 83219.990 secs...\n"
     ]
    },
    {
     "name": "stderr",
     "output_type": "stream",
     "text": [
      "c:\\Users\\andri\\school\\bio-informatics\\internship\\donders\\vsc\\Human_SleepSCoring\\DilonAndriesse\\pre_processing\\basic_mne_functions.py:15: RuntimeWarning: Channels contain different highpass filters. Highest filter setting will be stored.\n",
      "  raw = mne.io.read_raw_edf(\n",
      "c:\\Users\\andri\\school\\bio-informatics\\internship\\donders\\vsc\\Human_SleepSCoring\\DilonAndriesse\\pre_processing\\basic_mne_functions.py:15: RuntimeWarning: Channels contain different lowpass filters. Lowest filter setting will be stored.\n",
      "  raw = mne.io.read_raw_edf(\n"
     ]
    },
    {
     "name": "stdout",
     "output_type": "stream",
     "text": [
      "First sleep starts at: 35220.0\n",
      "Last sleep ends at: 77670.0\n",
      "Cropping raw: 33420.0 - 79470.0\n",
      "Cropping finished.\n",
      "<RawEDF | SC4191E0-PSG.edf, 4 x 4605001 (46050.0 s), ~140.5 MiB, data loaded>\n",
      "Total amount of sleep stages in list: 46050\n",
      "Amount of data in cropped_raw; 4605001\n",
      "Extracting EDF parameters from C:\\Users\\andri\\school\\bio-informatics\\internship\\donders\\data\\human_test_data\\input\\raw_input\\SC4192E0-PSG.edf...\n",
      "EDF file detected\n",
      "Channel 'EEG Fpz-Cz' recognized as type EEG (renamed to 'Fpz-Cz').\n",
      "Channel 'EEG Pz-Oz' recognized as type EEG (renamed to 'Pz-Oz').\n",
      "Channel 'EOG horizontal' recognized as type EOG (renamed to 'horizontal').\n",
      "Channel 'Resp oro-nasal' recognized as type RESP (renamed to 'oro-nasal').\n",
      "Channel 'EMG submental' recognized as type EMG (renamed to 'submental').\n",
      "Channel 'Temp rectal' recognized as type TEMP (renamed to 'rectal').\n",
      "Setting channel info structure...\n",
      "Creating raw.info structure...\n",
      "Reading 0 ... 7829999  =      0.000 ... 78299.990 secs...\n"
     ]
    },
    {
     "name": "stderr",
     "output_type": "stream",
     "text": [
      "c:\\Users\\andri\\school\\bio-informatics\\internship\\donders\\vsc\\Human_SleepSCoring\\DilonAndriesse\\pre_processing\\basic_mne_functions.py:15: RuntimeWarning: Channels contain different highpass filters. Highest filter setting will be stored.\n",
      "  raw = mne.io.read_raw_edf(\n",
      "c:\\Users\\andri\\school\\bio-informatics\\internship\\donders\\vsc\\Human_SleepSCoring\\DilonAndriesse\\pre_processing\\basic_mne_functions.py:15: RuntimeWarning: Channels contain different lowpass filters. Lowest filter setting will be stored.\n",
      "  raw = mne.io.read_raw_edf(\n"
     ]
    },
    {
     "name": "stdout",
     "output_type": "stream",
     "text": [
      "First sleep starts at: 39300.0\n",
      "Last sleep ends at: 74070.0\n",
      "Cropping raw: 37500.0 - 75870.0\n",
      "Cropping finished.\n",
      "<RawEDF | SC4192E0-PSG.edf, 4 x 3837001 (38370.0 s), ~117.1 MiB, data loaded>\n",
      "Total amount of sleep stages in list: 38370\n",
      "Amount of data in cropped_raw; 3837001\n",
      "Extracting EDF parameters from C:\\Users\\andri\\school\\bio-informatics\\internship\\donders\\data\\human_test_data\\input\\raw_input\\SC4201E0-PSG.edf...\n",
      "EDF file detected\n",
      "Channel 'EEG Fpz-Cz' recognized as type EEG (renamed to 'Fpz-Cz').\n",
      "Channel 'EEG Pz-Oz' recognized as type EEG (renamed to 'Pz-Oz').\n",
      "Channel 'EOG horizontal' recognized as type EOG (renamed to 'horizontal').\n",
      "Channel 'Resp oro-nasal' recognized as type RESP (renamed to 'oro-nasal').\n",
      "Channel 'EMG submental' recognized as type EMG (renamed to 'submental').\n",
      "Channel 'Temp rectal' recognized as type TEMP (renamed to 'rectal').\n",
      "Setting channel info structure...\n",
      "Creating raw.info structure...\n",
      "Reading 0 ... 8411999  =      0.000 ... 84119.990 secs...\n"
     ]
    },
    {
     "name": "stderr",
     "output_type": "stream",
     "text": [
      "c:\\Users\\andri\\school\\bio-informatics\\internship\\donders\\vsc\\Human_SleepSCoring\\DilonAndriesse\\pre_processing\\basic_mne_functions.py:15: RuntimeWarning: Channels contain different highpass filters. Highest filter setting will be stored.\n",
      "  raw = mne.io.read_raw_edf(\n",
      "c:\\Users\\andri\\school\\bio-informatics\\internship\\donders\\vsc\\Human_SleepSCoring\\DilonAndriesse\\pre_processing\\basic_mne_functions.py:15: RuntimeWarning: Channels contain different lowpass filters. Lowest filter setting will be stored.\n",
      "  raw = mne.io.read_raw_edf(\n"
     ]
    },
    {
     "name": "stdout",
     "output_type": "stream",
     "text": [
      "First sleep starts at: 25350.0\n",
      "Last sleep ends at: 52440.0\n",
      "Cropping raw: 23550.0 - 54240.0\n",
      "Cropping finished.\n",
      "<RawEDF | SC4201E0-PSG.edf, 4 x 3069001 (30690.0 s), ~93.7 MiB, data loaded>\n",
      "Total amount of sleep stages in list: 30690\n",
      "Amount of data in cropped_raw; 3069001\n",
      "Extracting EDF parameters from C:\\Users\\andri\\school\\bio-informatics\\internship\\donders\\data\\human_test_data\\input\\raw_input\\SC4202E0-PSG.edf...\n",
      "EDF file detected\n",
      "Channel 'EEG Fpz-Cz' recognized as type EEG (renamed to 'Fpz-Cz').\n",
      "Channel 'EEG Pz-Oz' recognized as type EEG (renamed to 'Pz-Oz').\n",
      "Channel 'EOG horizontal' recognized as type EOG (renamed to 'horizontal').\n",
      "Channel 'Resp oro-nasal' recognized as type RESP (renamed to 'oro-nasal').\n",
      "Channel 'EMG submental' recognized as type EMG (renamed to 'submental').\n",
      "Channel 'Temp rectal' recognized as type TEMP (renamed to 'rectal').\n",
      "Setting channel info structure...\n",
      "Creating raw.info structure...\n",
      "Reading 0 ... 8009999  =      0.000 ... 80099.990 secs...\n"
     ]
    },
    {
     "name": "stderr",
     "output_type": "stream",
     "text": [
      "c:\\Users\\andri\\school\\bio-informatics\\internship\\donders\\vsc\\Human_SleepSCoring\\DilonAndriesse\\pre_processing\\basic_mne_functions.py:15: RuntimeWarning: Channels contain different highpass filters. Highest filter setting will be stored.\n",
      "  raw = mne.io.read_raw_edf(\n",
      "c:\\Users\\andri\\school\\bio-informatics\\internship\\donders\\vsc\\Human_SleepSCoring\\DilonAndriesse\\pre_processing\\basic_mne_functions.py:15: RuntimeWarning: Channels contain different lowpass filters. Lowest filter setting will be stored.\n",
      "  raw = mne.io.read_raw_edf(\n"
     ]
    },
    {
     "name": "stdout",
     "output_type": "stream",
     "text": [
      "First sleep starts at: 26010.0\n",
      "Last sleep ends at: 53040.0\n",
      "Cropping raw: 24210.0 - 54840.0\n",
      "Cropping finished.\n",
      "<RawEDF | SC4202E0-PSG.edf, 4 x 3063001 (30630.0 s), ~93.5 MiB, data loaded>\n",
      "Total amount of sleep stages in list: 30630\n",
      "Amount of data in cropped_raw; 3063001\n",
      "Extracting EDF parameters from C:\\Users\\andri\\school\\bio-informatics\\internship\\donders\\data\\human_test_data\\input\\raw_input\\SC4211E0-PSG.edf...\n",
      "EDF file detected\n",
      "Channel 'EEG Fpz-Cz' recognized as type EEG (renamed to 'Fpz-Cz').\n",
      "Channel 'EEG Pz-Oz' recognized as type EEG (renamed to 'Pz-Oz').\n",
      "Channel 'EOG horizontal' recognized as type EOG (renamed to 'horizontal').\n",
      "Channel 'Resp oro-nasal' recognized as type RESP (renamed to 'oro-nasal').\n",
      "Channel 'EMG submental' recognized as type EMG (renamed to 'submental').\n",
      "Channel 'Temp rectal' recognized as type TEMP (renamed to 'rectal').\n",
      "Setting channel info structure...\n",
      "Creating raw.info structure...\n",
      "Reading 0 ... 8429999  =      0.000 ... 84299.990 secs...\n"
     ]
    },
    {
     "name": "stderr",
     "output_type": "stream",
     "text": [
      "c:\\Users\\andri\\school\\bio-informatics\\internship\\donders\\vsc\\Human_SleepSCoring\\DilonAndriesse\\pre_processing\\basic_mne_functions.py:15: RuntimeWarning: Channels contain different highpass filters. Highest filter setting will be stored.\n",
      "  raw = mne.io.read_raw_edf(\n",
      "c:\\Users\\andri\\school\\bio-informatics\\internship\\donders\\vsc\\Human_SleepSCoring\\DilonAndriesse\\pre_processing\\basic_mne_functions.py:15: RuntimeWarning: Channels contain different lowpass filters. Lowest filter setting will be stored.\n",
      "  raw = mne.io.read_raw_edf(\n"
     ]
    },
    {
     "name": "stdout",
     "output_type": "stream",
     "text": [
      "First sleep starts at: 7920.0\n",
      "Last sleep ends at: 51810.0\n",
      "Cropping raw: 6120.0 - 53610.0\n",
      "Cropping finished.\n",
      "<RawEDF | SC4211E0-PSG.edf, 4 x 4749001 (47490.0 s), ~144.9 MiB, data loaded>\n",
      "Total amount of sleep stages in list: 47490\n",
      "Amount of data in cropped_raw; 4749001\n",
      "Extracting EDF parameters from C:\\Users\\andri\\school\\bio-informatics\\internship\\donders\\data\\human_test_data\\input\\raw_input\\SC4212E0-PSG.edf...\n",
      "EDF file detected\n",
      "Channel 'EEG Fpz-Cz' recognized as type EEG (renamed to 'Fpz-Cz').\n",
      "Channel 'EEG Pz-Oz' recognized as type EEG (renamed to 'Pz-Oz').\n",
      "Channel 'EOG horizontal' recognized as type EOG (renamed to 'horizontal').\n",
      "Channel 'Resp oro-nasal' recognized as type RESP (renamed to 'oro-nasal').\n",
      "Channel 'EMG submental' recognized as type EMG (renamed to 'submental').\n",
      "Channel 'Temp rectal' recognized as type TEMP (renamed to 'rectal').\n",
      "Setting channel info structure...\n",
      "Creating raw.info structure...\n",
      "Reading 0 ... 8081999  =      0.000 ... 80819.990 secs...\n"
     ]
    },
    {
     "name": "stderr",
     "output_type": "stream",
     "text": [
      "c:\\Users\\andri\\school\\bio-informatics\\internship\\donders\\vsc\\Human_SleepSCoring\\DilonAndriesse\\pre_processing\\basic_mne_functions.py:15: RuntimeWarning: Channels contain different highpass filters. Highest filter setting will be stored.\n",
      "  raw = mne.io.read_raw_edf(\n",
      "c:\\Users\\andri\\school\\bio-informatics\\internship\\donders\\vsc\\Human_SleepSCoring\\DilonAndriesse\\pre_processing\\basic_mne_functions.py:15: RuntimeWarning: Channels contain different lowpass filters. Lowest filter setting will be stored.\n",
      "  raw = mne.io.read_raw_edf(\n"
     ]
    },
    {
     "name": "stdout",
     "output_type": "stream",
     "text": [
      "First sleep starts at: 30150.0\n",
      "Last sleep ends at: 50790.0\n",
      "Cropping raw: 28350.0 - 52590.0\n",
      "Cropping finished.\n",
      "<RawEDF | SC4212E0-PSG.edf, 4 x 2424001 (24240.0 s), ~74.0 MiB, data loaded>\n",
      "Total amount of sleep stages in list: 24240\n",
      "Amount of data in cropped_raw; 2424001\n",
      "Extracting EDF parameters from C:\\Users\\andri\\school\\bio-informatics\\internship\\donders\\data\\human_test_data\\input\\raw_input\\SC4221E0-PSG.edf...\n",
      "EDF file detected\n",
      "Channel 'EEG Fpz-Cz' recognized as type EEG (renamed to 'Fpz-Cz').\n",
      "Channel 'EEG Pz-Oz' recognized as type EEG (renamed to 'Pz-Oz').\n",
      "Channel 'EOG horizontal' recognized as type EOG (renamed to 'horizontal').\n",
      "Channel 'Resp oro-nasal' recognized as type RESP (renamed to 'oro-nasal').\n",
      "Channel 'EMG submental' recognized as type EMG (renamed to 'submental').\n",
      "Channel 'Temp rectal' recognized as type TEMP (renamed to 'rectal').\n",
      "Setting channel info structure...\n",
      "Creating raw.info structure...\n",
      "Reading 0 ... 8099999  =      0.000 ... 80999.990 secs...\n"
     ]
    },
    {
     "name": "stderr",
     "output_type": "stream",
     "text": [
      "c:\\Users\\andri\\school\\bio-informatics\\internship\\donders\\vsc\\Human_SleepSCoring\\DilonAndriesse\\pre_processing\\basic_mne_functions.py:15: RuntimeWarning: Channels contain different highpass filters. Highest filter setting will be stored.\n",
      "  raw = mne.io.read_raw_edf(\n",
      "c:\\Users\\andri\\school\\bio-informatics\\internship\\donders\\vsc\\Human_SleepSCoring\\DilonAndriesse\\pre_processing\\basic_mne_functions.py:15: RuntimeWarning: Channels contain different lowpass filters. Lowest filter setting will be stored.\n",
      "  raw = mne.io.read_raw_edf(\n"
     ]
    },
    {
     "name": "stdout",
     "output_type": "stream",
     "text": [
      "First sleep starts at: 24780.0\n",
      "Last sleep ends at: 54150.0\n",
      "Cropping raw: 22980.0 - 55950.0\n",
      "Cropping finished.\n",
      "<RawEDF | SC4221E0-PSG.edf, 4 x 3297001 (32970.0 s), ~100.6 MiB, data loaded>\n",
      "Total amount of sleep stages in list: 32970\n",
      "Amount of data in cropped_raw; 3297001\n",
      "Extracting EDF parameters from C:\\Users\\andri\\school\\bio-informatics\\internship\\donders\\data\\human_test_data\\input\\raw_input\\SC4222E0-PSG.edf...\n",
      "EDF file detected\n",
      "Channel 'EEG Fpz-Cz' recognized as type EEG (renamed to 'Fpz-Cz').\n",
      "Channel 'EEG Pz-Oz' recognized as type EEG (renamed to 'Pz-Oz').\n",
      "Channel 'EOG horizontal' recognized as type EOG (renamed to 'horizontal').\n",
      "Channel 'Resp oro-nasal' recognized as type RESP (renamed to 'oro-nasal').\n",
      "Channel 'EMG submental' recognized as type EMG (renamed to 'submental').\n",
      "Channel 'Temp rectal' recognized as type TEMP (renamed to 'rectal').\n",
      "Setting channel info structure...\n",
      "Creating raw.info structure...\n",
      "Reading 0 ... 8279999  =      0.000 ... 82799.990 secs...\n"
     ]
    },
    {
     "name": "stderr",
     "output_type": "stream",
     "text": [
      "c:\\Users\\andri\\school\\bio-informatics\\internship\\donders\\vsc\\Human_SleepSCoring\\DilonAndriesse\\pre_processing\\basic_mne_functions.py:15: RuntimeWarning: Channels contain different highpass filters. Highest filter setting will be stored.\n",
      "  raw = mne.io.read_raw_edf(\n",
      "c:\\Users\\andri\\school\\bio-informatics\\internship\\donders\\vsc\\Human_SleepSCoring\\DilonAndriesse\\pre_processing\\basic_mne_functions.py:15: RuntimeWarning: Channels contain different lowpass filters. Lowest filter setting will be stored.\n",
      "  raw = mne.io.read_raw_edf(\n"
     ]
    },
    {
     "name": "stdout",
     "output_type": "stream",
     "text": [
      "First sleep starts at: 24570.0\n",
      "Last sleep ends at: 54210.0\n",
      "Cropping raw: 22770.0 - 56010.0\n",
      "Cropping finished.\n",
      "<RawEDF | SC4222E0-PSG.edf, 4 x 3324001 (33240.0 s), ~101.4 MiB, data loaded>\n",
      "Total amount of sleep stages in list: 33240\n",
      "Amount of data in cropped_raw; 3324001\n",
      "Extracting EDF parameters from C:\\Users\\andri\\school\\bio-informatics\\internship\\donders\\data\\human_test_data\\input\\raw_input\\SC4231E0-PSG.edf...\n",
      "EDF file detected\n",
      "Channel 'EEG Fpz-Cz' recognized as type EEG (renamed to 'Fpz-Cz').\n",
      "Channel 'EEG Pz-Oz' recognized as type EEG (renamed to 'Pz-Oz').\n",
      "Channel 'EOG horizontal' recognized as type EOG (renamed to 'horizontal').\n",
      "Channel 'Resp oro-nasal' recognized as type RESP (renamed to 'oro-nasal').\n",
      "Channel 'EMG submental' recognized as type EMG (renamed to 'submental').\n",
      "Channel 'Temp rectal' recognized as type TEMP (renamed to 'rectal').\n",
      "Setting channel info structure...\n",
      "Creating raw.info structure...\n",
      "Reading 0 ... 8237999  =      0.000 ... 82379.990 secs...\n"
     ]
    },
    {
     "name": "stderr",
     "output_type": "stream",
     "text": [
      "c:\\Users\\andri\\school\\bio-informatics\\internship\\donders\\vsc\\Human_SleepSCoring\\DilonAndriesse\\pre_processing\\basic_mne_functions.py:15: RuntimeWarning: Channels contain different highpass filters. Highest filter setting will be stored.\n",
      "  raw = mne.io.read_raw_edf(\n",
      "c:\\Users\\andri\\school\\bio-informatics\\internship\\donders\\vsc\\Human_SleepSCoring\\DilonAndriesse\\pre_processing\\basic_mne_functions.py:15: RuntimeWarning: Channels contain different lowpass filters. Lowest filter setting will be stored.\n",
      "  raw = mne.io.read_raw_edf(\n"
     ]
    },
    {
     "name": "stdout",
     "output_type": "stream",
     "text": [
      "First sleep starts at: 31710.0\n",
      "Last sleep ends at: 55320.0\n",
      "Cropping raw: 29910.0 - 57120.0\n",
      "Cropping finished.\n",
      "<RawEDF | SC4231E0-PSG.edf, 4 x 2721001 (27210.0 s), ~83.0 MiB, data loaded>\n",
      "Total amount of sleep stages in list: 27210\n",
      "Amount of data in cropped_raw; 2721001\n",
      "Extracting EDF parameters from C:\\Users\\andri\\school\\bio-informatics\\internship\\donders\\data\\human_test_data\\input\\raw_input\\SC4232E0-PSG.edf...\n",
      "EDF file detected\n",
      "Channel 'EEG Fpz-Cz' recognized as type EEG (renamed to 'Fpz-Cz').\n",
      "Channel 'EEG Pz-Oz' recognized as type EEG (renamed to 'Pz-Oz').\n",
      "Channel 'EOG horizontal' recognized as type EOG (renamed to 'horizontal').\n",
      "Channel 'Resp oro-nasal' recognized as type RESP (renamed to 'oro-nasal').\n",
      "Channel 'EMG submental' recognized as type EMG (renamed to 'submental').\n",
      "Channel 'Temp rectal' recognized as type TEMP (renamed to 'rectal').\n",
      "Setting channel info structure...\n",
      "Creating raw.info structure...\n",
      "Reading 0 ... 7919999  =      0.000 ... 79199.990 secs...\n"
     ]
    },
    {
     "name": "stderr",
     "output_type": "stream",
     "text": [
      "c:\\Users\\andri\\school\\bio-informatics\\internship\\donders\\vsc\\Human_SleepSCoring\\DilonAndriesse\\pre_processing\\basic_mne_functions.py:15: RuntimeWarning: Channels contain different highpass filters. Highest filter setting will be stored.\n",
      "  raw = mne.io.read_raw_edf(\n",
      "c:\\Users\\andri\\school\\bio-informatics\\internship\\donders\\vsc\\Human_SleepSCoring\\DilonAndriesse\\pre_processing\\basic_mne_functions.py:15: RuntimeWarning: Channels contain different lowpass filters. Lowest filter setting will be stored.\n",
      "  raw = mne.io.read_raw_edf(\n"
     ]
    },
    {
     "name": "stdout",
     "output_type": "stream",
     "text": [
      "First sleep starts at: 28920.0\n",
      "Last sleep ends at: 77340.0\n",
      "Cropping raw: 27120.0 - 79140.0\n",
      "Cropping finished.\n",
      "<RawEDF | SC4232E0-PSG.edf, 4 x 5202001 (52020.0 s), ~158.8 MiB, data loaded>\n",
      "Total amount of sleep stages in list: 52020\n",
      "Amount of data in cropped_raw; 5202001\n",
      "Extracting EDF parameters from C:\\Users\\andri\\school\\bio-informatics\\internship\\donders\\data\\human_test_data\\input\\raw_input\\SC4241E0-PSG.edf...\n",
      "EDF file detected\n",
      "Channel 'EEG Fpz-Cz' recognized as type EEG (renamed to 'Fpz-Cz').\n",
      "Channel 'EEG Pz-Oz' recognized as type EEG (renamed to 'Pz-Oz').\n",
      "Channel 'EOG horizontal' recognized as type EOG (renamed to 'horizontal').\n",
      "Channel 'Resp oro-nasal' recognized as type RESP (renamed to 'oro-nasal').\n",
      "Channel 'EMG submental' recognized as type EMG (renamed to 'submental').\n",
      "Channel 'Temp rectal' recognized as type TEMP (renamed to 'rectal').\n",
      "Setting channel info structure...\n",
      "Creating raw.info structure...\n",
      "Reading 0 ... 8105999  =      0.000 ... 81059.990 secs...\n"
     ]
    },
    {
     "name": "stderr",
     "output_type": "stream",
     "text": [
      "c:\\Users\\andri\\school\\bio-informatics\\internship\\donders\\vsc\\Human_SleepSCoring\\DilonAndriesse\\pre_processing\\basic_mne_functions.py:15: RuntimeWarning: Channels contain different highpass filters. Highest filter setting will be stored.\n",
      "  raw = mne.io.read_raw_edf(\n",
      "c:\\Users\\andri\\school\\bio-informatics\\internship\\donders\\vsc\\Human_SleepSCoring\\DilonAndriesse\\pre_processing\\basic_mne_functions.py:15: RuntimeWarning: Channels contain different lowpass filters. Lowest filter setting will be stored.\n",
      "  raw = mne.io.read_raw_edf(\n"
     ]
    },
    {
     "name": "stdout",
     "output_type": "stream",
     "text": [
      "First sleep starts at: 7350.0\n",
      "Last sleep ends at: 54000.0\n",
      "Cropping raw: 5550.0 - 55800.0\n",
      "Cropping finished.\n",
      "<RawEDF | SC4241E0-PSG.edf, 4 x 5025001 (50250.0 s), ~153.4 MiB, data loaded>\n",
      "Total amount of sleep stages in list: 50250\n",
      "Amount of data in cropped_raw; 5025001\n",
      "Extracting EDF parameters from C:\\Users\\andri\\school\\bio-informatics\\internship\\donders\\data\\human_test_data\\input\\raw_input\\SC4242E0-PSG.edf...\n",
      "EDF file detected\n",
      "Channel 'EEG Fpz-Cz' recognized as type EEG (renamed to 'Fpz-Cz').\n",
      "Channel 'EEG Pz-Oz' recognized as type EEG (renamed to 'Pz-Oz').\n",
      "Channel 'EOG horizontal' recognized as type EOG (renamed to 'horizontal').\n",
      "Channel 'Resp oro-nasal' recognized as type RESP (renamed to 'oro-nasal').\n",
      "Channel 'EMG submental' recognized as type EMG (renamed to 'submental').\n",
      "Channel 'Temp rectal' recognized as type TEMP (renamed to 'rectal').\n",
      "Setting channel info structure...\n",
      "Creating raw.info structure...\n",
      "Reading 0 ... 8129999  =      0.000 ... 81299.990 secs...\n"
     ]
    },
    {
     "name": "stderr",
     "output_type": "stream",
     "text": [
      "c:\\Users\\andri\\school\\bio-informatics\\internship\\donders\\vsc\\Human_SleepSCoring\\DilonAndriesse\\pre_processing\\basic_mne_functions.py:15: RuntimeWarning: Channels contain different highpass filters. Highest filter setting will be stored.\n",
      "  raw = mne.io.read_raw_edf(\n",
      "c:\\Users\\andri\\school\\bio-informatics\\internship\\donders\\vsc\\Human_SleepSCoring\\DilonAndriesse\\pre_processing\\basic_mne_functions.py:15: RuntimeWarning: Channels contain different lowpass filters. Lowest filter setting will be stored.\n",
      "  raw = mne.io.read_raw_edf(\n"
     ]
    },
    {
     "name": "stdout",
     "output_type": "stream",
     "text": [
      "First sleep starts at: 7260.0\n",
      "Last sleep ends at: 56910.0\n",
      "Cropping raw: 5460.0 - 58710.0\n",
      "Cropping finished.\n",
      "<RawEDF | SC4242E0-PSG.edf, 4 x 5325001 (53250.0 s), ~162.5 MiB, data loaded>\n",
      "Total amount of sleep stages in list: 53250\n",
      "Amount of data in cropped_raw; 5325001\n",
      "Extracting EDF parameters from C:\\Users\\andri\\school\\bio-informatics\\internship\\donders\\data\\human_test_data\\input\\raw_input\\SC4251E0-PSG.edf...\n",
      "EDF file detected\n",
      "Channel 'EEG Fpz-Cz' recognized as type EEG (renamed to 'Fpz-Cz').\n",
      "Channel 'EEG Pz-Oz' recognized as type EEG (renamed to 'Pz-Oz').\n",
      "Channel 'EOG horizontal' recognized as type EOG (renamed to 'horizontal').\n",
      "Channel 'Resp oro-nasal' recognized as type RESP (renamed to 'oro-nasal').\n",
      "Channel 'EMG submental' recognized as type EMG (renamed to 'submental').\n",
      "Channel 'Temp rectal' recognized as type TEMP (renamed to 'rectal').\n",
      "Setting channel info structure...\n",
      "Creating raw.info structure...\n",
      "Reading 0 ... 8279999  =      0.000 ... 82799.990 secs...\n"
     ]
    },
    {
     "name": "stderr",
     "output_type": "stream",
     "text": [
      "c:\\Users\\andri\\school\\bio-informatics\\internship\\donders\\vsc\\Human_SleepSCoring\\DilonAndriesse\\pre_processing\\basic_mne_functions.py:15: RuntimeWarning: Channels contain different highpass filters. Highest filter setting will be stored.\n",
      "  raw = mne.io.read_raw_edf(\n",
      "c:\\Users\\andri\\school\\bio-informatics\\internship\\donders\\vsc\\Human_SleepSCoring\\DilonAndriesse\\pre_processing\\basic_mne_functions.py:15: RuntimeWarning: Channels contain different lowpass filters. Lowest filter setting will be stored.\n",
      "  raw = mne.io.read_raw_edf(\n"
     ]
    },
    {
     "name": "stdout",
     "output_type": "stream",
     "text": [
      "First sleep starts at: 30480.0\n",
      "Last sleep ends at: 56040.0\n",
      "Cropping raw: 28680.0 - 57840.0\n",
      "Cropping finished.\n",
      "<RawEDF | SC4251E0-PSG.edf, 4 x 2916001 (29160.0 s), ~89.0 MiB, data loaded>\n",
      "Total amount of sleep stages in list: 29160\n",
      "Amount of data in cropped_raw; 2916001\n",
      "Extracting EDF parameters from C:\\Users\\andri\\school\\bio-informatics\\internship\\donders\\data\\human_test_data\\input\\raw_input\\SC4252E0-PSG.edf...\n",
      "EDF file detected\n",
      "Channel 'EEG Fpz-Cz' recognized as type EEG (renamed to 'Fpz-Cz').\n",
      "Channel 'EEG Pz-Oz' recognized as type EEG (renamed to 'Pz-Oz').\n",
      "Channel 'EOG horizontal' recognized as type EOG (renamed to 'horizontal').\n",
      "Channel 'Resp oro-nasal' recognized as type RESP (renamed to 'oro-nasal').\n",
      "Channel 'EMG submental' recognized as type EMG (renamed to 'submental').\n",
      "Channel 'Temp rectal' recognized as type TEMP (renamed to 'rectal').\n",
      "Setting channel info structure...\n",
      "Creating raw.info structure...\n",
      "Reading 0 ... 7997999  =      0.000 ... 79979.990 secs...\n"
     ]
    },
    {
     "name": "stderr",
     "output_type": "stream",
     "text": [
      "c:\\Users\\andri\\school\\bio-informatics\\internship\\donders\\vsc\\Human_SleepSCoring\\DilonAndriesse\\pre_processing\\basic_mne_functions.py:15: RuntimeWarning: Channels contain different highpass filters. Highest filter setting will be stored.\n",
      "  raw = mne.io.read_raw_edf(\n",
      "c:\\Users\\andri\\school\\bio-informatics\\internship\\donders\\vsc\\Human_SleepSCoring\\DilonAndriesse\\pre_processing\\basic_mne_functions.py:15: RuntimeWarning: Channels contain different lowpass filters. Lowest filter setting will be stored.\n",
      "  raw = mne.io.read_raw_edf(\n"
     ]
    },
    {
     "name": "stdout",
     "output_type": "stream",
     "text": [
      "First sleep starts at: 30000.0\n",
      "Last sleep ends at: 57030.0\n",
      "Cropping raw: 28200.0 - 58830.0\n",
      "Cropping finished.\n",
      "<RawEDF | SC4252E0-PSG.edf, 4 x 3063001 (30630.0 s), ~93.5 MiB, data loaded>\n",
      "Total amount of sleep stages in list: 30630\n",
      "Amount of data in cropped_raw; 3063001\n",
      "Extracting EDF parameters from C:\\Users\\andri\\school\\bio-informatics\\internship\\donders\\data\\human_test_data\\input\\raw_input\\SC4261F0-PSG.edf...\n",
      "EDF file detected\n",
      "Channel 'EEG Fpz-Cz' recognized as type EEG (renamed to 'Fpz-Cz').\n",
      "Channel 'EEG Pz-Oz' recognized as type EEG (renamed to 'Pz-Oz').\n",
      "Channel 'EOG horizontal' recognized as type EOG (renamed to 'horizontal').\n",
      "Channel 'Resp oro-nasal' recognized as type RESP (renamed to 'oro-nasal').\n",
      "Channel 'EMG submental' recognized as type EMG (renamed to 'submental').\n",
      "Channel 'Temp rectal' recognized as type TEMP (renamed to 'rectal').\n",
      "Setting channel info structure...\n",
      "Creating raw.info structure...\n",
      "Reading 0 ... 8399999  =      0.000 ... 83999.990 secs...\n"
     ]
    },
    {
     "name": "stderr",
     "output_type": "stream",
     "text": [
      "c:\\Users\\andri\\school\\bio-informatics\\internship\\donders\\vsc\\Human_SleepSCoring\\DilonAndriesse\\pre_processing\\basic_mne_functions.py:15: RuntimeWarning: Channels contain different highpass filters. Highest filter setting will be stored.\n",
      "  raw = mne.io.read_raw_edf(\n",
      "c:\\Users\\andri\\school\\bio-informatics\\internship\\donders\\vsc\\Human_SleepSCoring\\DilonAndriesse\\pre_processing\\basic_mne_functions.py:15: RuntimeWarning: Channels contain different lowpass filters. Lowest filter setting will be stored.\n",
      "  raw = mne.io.read_raw_edf(\n"
     ]
    },
    {
     "name": "stdout",
     "output_type": "stream",
     "text": [
      "First sleep starts at: 14250.0\n",
      "Last sleep ends at: 58560.0\n",
      "Cropping raw: 12450.0 - 60360.0\n",
      "Cropping finished.\n",
      "<RawEDF | SC4261F0-PSG.edf, 4 x 4791001 (47910.0 s), ~146.2 MiB, data loaded>\n",
      "Total amount of sleep stages in list: 47910\n",
      "Amount of data in cropped_raw; 4791001\n",
      "Extracting EDF parameters from C:\\Users\\andri\\school\\bio-informatics\\internship\\donders\\data\\human_test_data\\input\\raw_input\\SC4262F0-PSG.edf...\n",
      "EDF file detected\n",
      "Channel 'EEG Fpz-Cz' recognized as type EEG (renamed to 'Fpz-Cz').\n",
      "Channel 'EEG Pz-Oz' recognized as type EEG (renamed to 'Pz-Oz').\n",
      "Channel 'EOG horizontal' recognized as type EOG (renamed to 'horizontal').\n",
      "Channel 'Resp oro-nasal' recognized as type RESP (renamed to 'oro-nasal').\n",
      "Channel 'EMG submental' recognized as type EMG (renamed to 'submental').\n",
      "Channel 'Temp rectal' recognized as type TEMP (renamed to 'rectal').\n",
      "Setting channel info structure...\n",
      "Creating raw.info structure...\n",
      "Reading 0 ... 8159999  =      0.000 ... 81599.990 secs...\n"
     ]
    },
    {
     "name": "stderr",
     "output_type": "stream",
     "text": [
      "c:\\Users\\andri\\school\\bio-informatics\\internship\\donders\\vsc\\Human_SleepSCoring\\DilonAndriesse\\pre_processing\\basic_mne_functions.py:15: RuntimeWarning: Channels contain different highpass filters. Highest filter setting will be stored.\n",
      "  raw = mne.io.read_raw_edf(\n",
      "c:\\Users\\andri\\school\\bio-informatics\\internship\\donders\\vsc\\Human_SleepSCoring\\DilonAndriesse\\pre_processing\\basic_mne_functions.py:15: RuntimeWarning: Channels contain different lowpass filters. Lowest filter setting will be stored.\n",
      "  raw = mne.io.read_raw_edf(\n"
     ]
    },
    {
     "name": "stdout",
     "output_type": "stream",
     "text": [
      "First sleep starts at: 30420.0\n",
      "Last sleep ends at: 56220.0\n",
      "Cropping raw: 28620.0 - 58020.0\n",
      "Cropping finished.\n",
      "<RawEDF | SC4262F0-PSG.edf, 4 x 2940001 (29400.0 s), ~89.7 MiB, data loaded>\n",
      "Total amount of sleep stages in list: 29400\n",
      "Amount of data in cropped_raw; 2940001\n",
      "Extracting EDF parameters from C:\\Users\\andri\\school\\bio-informatics\\internship\\donders\\data\\human_test_data\\input\\raw_input\\SC4271F0-PSG.edf...\n",
      "EDF file detected\n",
      "Channel 'EEG Fpz-Cz' recognized as type EEG (renamed to 'Fpz-Cz').\n",
      "Channel 'EEG Pz-Oz' recognized as type EEG (renamed to 'Pz-Oz').\n",
      "Channel 'EOG horizontal' recognized as type EOG (renamed to 'horizontal').\n",
      "Channel 'Resp oro-nasal' recognized as type RESP (renamed to 'oro-nasal').\n",
      "Channel 'EMG submental' recognized as type EMG (renamed to 'submental').\n",
      "Channel 'Temp rectal' recognized as type TEMP (renamed to 'rectal').\n",
      "Setting channel info structure...\n",
      "Creating raw.info structure...\n",
      "Reading 0 ... 7319999  =      0.000 ... 73199.990 secs...\n"
     ]
    },
    {
     "name": "stderr",
     "output_type": "stream",
     "text": [
      "c:\\Users\\andri\\school\\bio-informatics\\internship\\donders\\vsc\\Human_SleepSCoring\\DilonAndriesse\\pre_processing\\basic_mne_functions.py:15: RuntimeWarning: Channels contain different highpass filters. Highest filter setting will be stored.\n",
      "  raw = mne.io.read_raw_edf(\n",
      "c:\\Users\\andri\\school\\bio-informatics\\internship\\donders\\vsc\\Human_SleepSCoring\\DilonAndriesse\\pre_processing\\basic_mne_functions.py:15: RuntimeWarning: Channels contain different lowpass filters. Lowest filter setting will be stored.\n",
      "  raw = mne.io.read_raw_edf(\n"
     ]
    },
    {
     "name": "stdout",
     "output_type": "stream",
     "text": [
      "First sleep starts at: 30150.0\n",
      "Last sleep ends at: 58110.0\n",
      "Cropping raw: 28350.0 - 59910.0\n",
      "Cropping finished.\n",
      "<RawEDF | SC4271F0-PSG.edf, 4 x 3156001 (31560.0 s), ~96.3 MiB, data loaded>\n",
      "Total amount of sleep stages in list: 31560\n",
      "Amount of data in cropped_raw; 3156001\n",
      "Extracting EDF parameters from C:\\Users\\andri\\school\\bio-informatics\\internship\\donders\\data\\human_test_data\\input\\raw_input\\SC4272F0-PSG.edf...\n",
      "EDF file detected\n",
      "Channel 'EEG Fpz-Cz' recognized as type EEG (renamed to 'Fpz-Cz').\n",
      "Channel 'EEG Pz-Oz' recognized as type EEG (renamed to 'Pz-Oz').\n",
      "Channel 'EOG horizontal' recognized as type EOG (renamed to 'horizontal').\n",
      "Channel 'Resp oro-nasal' recognized as type RESP (renamed to 'oro-nasal').\n",
      "Channel 'EMG submental' recognized as type EMG (renamed to 'submental').\n",
      "Channel 'Temp rectal' recognized as type TEMP (renamed to 'rectal').\n",
      "Setting channel info structure...\n",
      "Creating raw.info structure...\n",
      "Reading 0 ... 8609999  =      0.000 ... 86099.990 secs...\n"
     ]
    },
    {
     "name": "stderr",
     "output_type": "stream",
     "text": [
      "c:\\Users\\andri\\school\\bio-informatics\\internship\\donders\\vsc\\Human_SleepSCoring\\DilonAndriesse\\pre_processing\\basic_mne_functions.py:15: RuntimeWarning: Channels contain different highpass filters. Highest filter setting will be stored.\n",
      "  raw = mne.io.read_raw_edf(\n",
      "c:\\Users\\andri\\school\\bio-informatics\\internship\\donders\\vsc\\Human_SleepSCoring\\DilonAndriesse\\pre_processing\\basic_mne_functions.py:15: RuntimeWarning: Channels contain different lowpass filters. Lowest filter setting will be stored.\n",
      "  raw = mne.io.read_raw_edf(\n"
     ]
    },
    {
     "name": "stdout",
     "output_type": "stream",
     "text": [
      "First sleep starts at: 40530.0\n",
      "Last sleep ends at: 69630.0\n",
      "Cropping raw: 38730.0 - 71430.0\n",
      "Cropping finished.\n",
      "<RawEDF | SC4272F0-PSG.edf, 4 x 3270001 (32700.0 s), ~99.8 MiB, data loaded>\n",
      "Total amount of sleep stages in list: 32700\n",
      "Amount of data in cropped_raw; 3270001\n",
      "Extracting EDF parameters from C:\\Users\\andri\\school\\bio-informatics\\internship\\donders\\data\\human_test_data\\input\\raw_input\\SC4281G0-PSG.edf...\n",
      "EDF file detected\n",
      "Channel 'EEG Fpz-Cz' recognized as type EEG (renamed to 'Fpz-Cz').\n",
      "Channel 'EEG Pz-Oz' recognized as type EEG (renamed to 'Pz-Oz').\n",
      "Channel 'EOG horizontal' recognized as type EOG (renamed to 'horizontal').\n",
      "Channel 'Resp oro-nasal' recognized as type RESP (renamed to 'oro-nasal').\n",
      "Channel 'EMG submental' recognized as type EMG (renamed to 'submental').\n",
      "Channel 'Temp rectal' recognized as type TEMP (renamed to 'rectal').\n",
      "Setting channel info structure...\n",
      "Creating raw.info structure...\n",
      "Reading 0 ... 8363999  =      0.000 ... 83639.990 secs...\n"
     ]
    },
    {
     "name": "stderr",
     "output_type": "stream",
     "text": [
      "c:\\Users\\andri\\school\\bio-informatics\\internship\\donders\\vsc\\Human_SleepSCoring\\DilonAndriesse\\pre_processing\\basic_mne_functions.py:15: RuntimeWarning: Channels contain different highpass filters. Highest filter setting will be stored.\n",
      "  raw = mne.io.read_raw_edf(\n",
      "c:\\Users\\andri\\school\\bio-informatics\\internship\\donders\\vsc\\Human_SleepSCoring\\DilonAndriesse\\pre_processing\\basic_mne_functions.py:15: RuntimeWarning: Channels contain different lowpass filters. Lowest filter setting will be stored.\n",
      "  raw = mne.io.read_raw_edf(\n"
     ]
    },
    {
     "name": "stdout",
     "output_type": "stream",
     "text": [
      "First sleep starts at: 37530.0\n",
      "Last sleep ends at: 67740.0\n",
      "Cropping raw: 35730.0 - 69540.0\n",
      "Cropping finished.\n",
      "<RawEDF | SC4281G0-PSG.edf, 4 x 3381001 (33810.0 s), ~103.2 MiB, data loaded>\n",
      "Total amount of sleep stages in list: 33810\n",
      "Amount of data in cropped_raw; 3381001\n",
      "Extracting EDF parameters from C:\\Users\\andri\\school\\bio-informatics\\internship\\donders\\data\\human_test_data\\input\\raw_input\\SC4282G0-PSG.edf...\n",
      "EDF file detected\n",
      "Channel 'EEG Fpz-Cz' recognized as type EEG (renamed to 'Fpz-Cz').\n",
      "Channel 'EEG Pz-Oz' recognized as type EEG (renamed to 'Pz-Oz').\n",
      "Channel 'EOG horizontal' recognized as type EOG (renamed to 'horizontal').\n",
      "Channel 'Resp oro-nasal' recognized as type RESP (renamed to 'oro-nasal').\n",
      "Channel 'EMG submental' recognized as type EMG (renamed to 'submental').\n",
      "Channel 'Temp rectal' recognized as type TEMP (renamed to 'rectal').\n",
      "Setting channel info structure...\n",
      "Creating raw.info structure...\n",
      "Reading 0 ... 8441999  =      0.000 ... 84419.990 secs...\n"
     ]
    },
    {
     "name": "stderr",
     "output_type": "stream",
     "text": [
      "c:\\Users\\andri\\school\\bio-informatics\\internship\\donders\\vsc\\Human_SleepSCoring\\DilonAndriesse\\pre_processing\\basic_mne_functions.py:15: RuntimeWarning: Channels contain different highpass filters. Highest filter setting will be stored.\n",
      "  raw = mne.io.read_raw_edf(\n",
      "c:\\Users\\andri\\school\\bio-informatics\\internship\\donders\\vsc\\Human_SleepSCoring\\DilonAndriesse\\pre_processing\\basic_mne_functions.py:15: RuntimeWarning: Channels contain different lowpass filters. Lowest filter setting will be stored.\n",
      "  raw = mne.io.read_raw_edf(\n"
     ]
    },
    {
     "name": "stdout",
     "output_type": "stream",
     "text": [
      "First sleep starts at: 39480.0\n",
      "Last sleep ends at: 67980.0\n",
      "Cropping raw: 37680.0 - 69780.0\n",
      "Cropping finished.\n",
      "<RawEDF | SC4282G0-PSG.edf, 4 x 3210001 (32100.0 s), ~98.0 MiB, data loaded>\n",
      "Total amount of sleep stages in list: 32100\n",
      "Amount of data in cropped_raw; 3210001\n",
      "Extracting EDF parameters from C:\\Users\\andri\\school\\bio-informatics\\internship\\donders\\data\\human_test_data\\input\\raw_input\\SC4291G0-PSG.edf...\n",
      "EDF file detected\n",
      "Channel 'EEG Fpz-Cz' recognized as type EEG (renamed to 'Fpz-Cz').\n",
      "Channel 'EEG Pz-Oz' recognized as type EEG (renamed to 'Pz-Oz').\n",
      "Channel 'EOG horizontal' recognized as type EOG (renamed to 'horizontal').\n",
      "Channel 'Resp oro-nasal' recognized as type RESP (renamed to 'oro-nasal').\n",
      "Channel 'EMG submental' recognized as type EMG (renamed to 'submental').\n",
      "Channel 'Temp rectal' recognized as type TEMP (renamed to 'rectal').\n",
      "Setting channel info structure...\n",
      "Creating raw.info structure...\n",
      "Reading 0 ... 8267999  =      0.000 ... 82679.990 secs...\n"
     ]
    },
    {
     "name": "stderr",
     "output_type": "stream",
     "text": [
      "c:\\Users\\andri\\school\\bio-informatics\\internship\\donders\\vsc\\Human_SleepSCoring\\DilonAndriesse\\pre_processing\\basic_mne_functions.py:15: RuntimeWarning: Channels contain different highpass filters. Highest filter setting will be stored.\n",
      "  raw = mne.io.read_raw_edf(\n",
      "c:\\Users\\andri\\school\\bio-informatics\\internship\\donders\\vsc\\Human_SleepSCoring\\DilonAndriesse\\pre_processing\\basic_mne_functions.py:15: RuntimeWarning: Channels contain different lowpass filters. Lowest filter setting will be stored.\n",
      "  raw = mne.io.read_raw_edf(\n"
     ]
    },
    {
     "name": "stdout",
     "output_type": "stream",
     "text": [
      "First sleep starts at: 26430.0\n",
      "Last sleep ends at: 56760.0\n",
      "Cropping raw: 24630.0 - 58560.0\n",
      "Cropping finished.\n",
      "<RawEDF | SC4291G0-PSG.edf, 4 x 3393001 (33930.0 s), ~103.6 MiB, data loaded>\n",
      "Total amount of sleep stages in list: 33930\n",
      "Amount of data in cropped_raw; 3393001\n",
      "Extracting EDF parameters from C:\\Users\\andri\\school\\bio-informatics\\internship\\donders\\data\\human_test_data\\input\\raw_input\\SC4292G0-PSG.edf...\n",
      "EDF file detected\n",
      "Channel 'EEG Fpz-Cz' recognized as type EEG (renamed to 'Fpz-Cz').\n",
      "Channel 'EEG Pz-Oz' recognized as type EEG (renamed to 'Pz-Oz').\n",
      "Channel 'EOG horizontal' recognized as type EOG (renamed to 'horizontal').\n",
      "Channel 'Resp oro-nasal' recognized as type RESP (renamed to 'oro-nasal').\n",
      "Channel 'EMG submental' recognized as type EMG (renamed to 'submental').\n",
      "Channel 'Temp rectal' recognized as type TEMP (renamed to 'rectal').\n",
      "Setting channel info structure...\n",
      "Creating raw.info structure...\n",
      "Reading 0 ... 8429999  =      0.000 ... 84299.990 secs...\n"
     ]
    },
    {
     "name": "stderr",
     "output_type": "stream",
     "text": [
      "c:\\Users\\andri\\school\\bio-informatics\\internship\\donders\\vsc\\Human_SleepSCoring\\DilonAndriesse\\pre_processing\\basic_mne_functions.py:15: RuntimeWarning: Channels contain different highpass filters. Highest filter setting will be stored.\n",
      "  raw = mne.io.read_raw_edf(\n",
      "c:\\Users\\andri\\school\\bio-informatics\\internship\\donders\\vsc\\Human_SleepSCoring\\DilonAndriesse\\pre_processing\\basic_mne_functions.py:15: RuntimeWarning: Channels contain different lowpass filters. Lowest filter setting will be stored.\n",
      "  raw = mne.io.read_raw_edf(\n"
     ]
    },
    {
     "name": "stdout",
     "output_type": "stream",
     "text": [
      "First sleep starts at: 13440.0\n",
      "Last sleep ends at: 58080.0\n",
      "Cropping raw: 11640.0 - 59880.0\n",
      "Cropping finished.\n",
      "<RawEDF | SC4292G0-PSG.edf, 4 x 4824001 (48240.0 s), ~147.2 MiB, data loaded>\n",
      "Total amount of sleep stages in list: 48240\n",
      "Amount of data in cropped_raw; 4824001\n",
      "Extracting EDF parameters from C:\\Users\\andri\\school\\bio-informatics\\internship\\donders\\data\\human_test_data\\input\\raw_input\\SC4301E0-PSG.edf...\n",
      "EDF file detected\n",
      "Channel 'EEG Fpz-Cz' recognized as type EEG (renamed to 'Fpz-Cz').\n",
      "Channel 'EEG Pz-Oz' recognized as type EEG (renamed to 'Pz-Oz').\n",
      "Channel 'EOG horizontal' recognized as type EOG (renamed to 'horizontal').\n",
      "Channel 'Resp oro-nasal' recognized as type RESP (renamed to 'oro-nasal').\n",
      "Channel 'EMG submental' recognized as type EMG (renamed to 'submental').\n",
      "Channel 'Temp rectal' recognized as type TEMP (renamed to 'rectal').\n",
      "Setting channel info structure...\n",
      "Creating raw.info structure...\n",
      "Reading 0 ... 7937999  =      0.000 ... 79379.990 secs...\n"
     ]
    },
    {
     "name": "stderr",
     "output_type": "stream",
     "text": [
      "c:\\Users\\andri\\school\\bio-informatics\\internship\\donders\\vsc\\Human_SleepSCoring\\DilonAndriesse\\pre_processing\\basic_mne_functions.py:15: RuntimeWarning: Channels contain different highpass filters. Highest filter setting will be stored.\n",
      "  raw = mne.io.read_raw_edf(\n",
      "c:\\Users\\andri\\school\\bio-informatics\\internship\\donders\\vsc\\Human_SleepSCoring\\DilonAndriesse\\pre_processing\\basic_mne_functions.py:15: RuntimeWarning: Channels contain different lowpass filters. Lowest filter setting will be stored.\n",
      "  raw = mne.io.read_raw_edf(\n"
     ]
    },
    {
     "name": "stdout",
     "output_type": "stream",
     "text": [
      "First sleep starts at: 28140.0\n",
      "Last sleep ends at: 52470.0\n",
      "Cropping raw: 26340.0 - 54270.0\n",
      "Cropping finished.\n",
      "<RawEDF | SC4301E0-PSG.edf, 4 x 2793001 (27930.0 s), ~85.2 MiB, data loaded>\n",
      "Total amount of sleep stages in list: 27930\n",
      "Amount of data in cropped_raw; 2793001\n",
      "Extracting EDF parameters from C:\\Users\\andri\\school\\bio-informatics\\internship\\donders\\data\\human_test_data\\input\\raw_input\\SC4302E0-PSG.edf...\n",
      "EDF file detected\n",
      "Channel 'EEG Fpz-Cz' recognized as type EEG (renamed to 'Fpz-Cz').\n",
      "Channel 'EEG Pz-Oz' recognized as type EEG (renamed to 'Pz-Oz').\n",
      "Channel 'EOG horizontal' recognized as type EOG (renamed to 'horizontal').\n",
      "Channel 'Resp oro-nasal' recognized as type RESP (renamed to 'oro-nasal').\n",
      "Channel 'EMG submental' recognized as type EMG (renamed to 'submental').\n",
      "Channel 'Temp rectal' recognized as type TEMP (renamed to 'rectal').\n",
      "Setting channel info structure...\n",
      "Creating raw.info structure...\n",
      "Reading 0 ... 8423999  =      0.000 ... 84239.990 secs...\n"
     ]
    },
    {
     "name": "stderr",
     "output_type": "stream",
     "text": [
      "c:\\Users\\andri\\school\\bio-informatics\\internship\\donders\\vsc\\Human_SleepSCoring\\DilonAndriesse\\pre_processing\\basic_mne_functions.py:15: RuntimeWarning: Channels contain different highpass filters. Highest filter setting will be stored.\n",
      "  raw = mne.io.read_raw_edf(\n",
      "c:\\Users\\andri\\school\\bio-informatics\\internship\\donders\\vsc\\Human_SleepSCoring\\DilonAndriesse\\pre_processing\\basic_mne_functions.py:15: RuntimeWarning: Channels contain different lowpass filters. Lowest filter setting will be stored.\n",
      "  raw = mne.io.read_raw_edf(\n"
     ]
    },
    {
     "name": "stdout",
     "output_type": "stream",
     "text": [
      "First sleep starts at: 33360.0\n",
      "Last sleep ends at: 55380.0\n",
      "Cropping raw: 31560.0 - 57180.0\n",
      "Cropping finished.\n",
      "<RawEDF | SC4302E0-PSG.edf, 4 x 2562001 (25620.0 s), ~78.2 MiB, data loaded>\n",
      "Total amount of sleep stages in list: 25620\n",
      "Amount of data in cropped_raw; 2562001\n",
      "Extracting EDF parameters from C:\\Users\\andri\\school\\bio-informatics\\internship\\donders\\data\\human_test_data\\input\\raw_input\\SC4311E0-PSG.edf...\n",
      "EDF file detected\n",
      "Channel 'EEG Fpz-Cz' recognized as type EEG (renamed to 'Fpz-Cz').\n",
      "Channel 'EEG Pz-Oz' recognized as type EEG (renamed to 'Pz-Oz').\n",
      "Channel 'EOG horizontal' recognized as type EOG (renamed to 'horizontal').\n",
      "Channel 'Resp oro-nasal' recognized as type RESP (renamed to 'oro-nasal').\n",
      "Channel 'EMG submental' recognized as type EMG (renamed to 'submental').\n",
      "Channel 'Temp rectal' recognized as type TEMP (renamed to 'rectal').\n",
      "Setting channel info structure...\n",
      "Creating raw.info structure...\n",
      "Reading 0 ... 8009999  =      0.000 ... 80099.990 secs...\n"
     ]
    },
    {
     "name": "stderr",
     "output_type": "stream",
     "text": [
      "c:\\Users\\andri\\school\\bio-informatics\\internship\\donders\\vsc\\Human_SleepSCoring\\DilonAndriesse\\pre_processing\\basic_mne_functions.py:15: RuntimeWarning: Channels contain different highpass filters. Highest filter setting will be stored.\n",
      "  raw = mne.io.read_raw_edf(\n",
      "c:\\Users\\andri\\school\\bio-informatics\\internship\\donders\\vsc\\Human_SleepSCoring\\DilonAndriesse\\pre_processing\\basic_mne_functions.py:15: RuntimeWarning: Channels contain different lowpass filters. Lowest filter setting will be stored.\n",
      "  raw = mne.io.read_raw_edf(\n"
     ]
    },
    {
     "name": "stdout",
     "output_type": "stream",
     "text": [
      "First sleep starts at: 26970.0\n",
      "Last sleep ends at: 54990.0\n",
      "Cropping raw: 25170.0 - 56790.0\n",
      "Cropping finished.\n",
      "<RawEDF | SC4311E0-PSG.edf, 4 x 3162001 (31620.0 s), ~96.5 MiB, data loaded>\n",
      "Total amount of sleep stages in list: 31620\n",
      "Amount of data in cropped_raw; 3162001\n",
      "Extracting EDF parameters from C:\\Users\\andri\\school\\bio-informatics\\internship\\donders\\data\\human_test_data\\input\\raw_input\\SC4312E0-PSG.edf...\n",
      "EDF file detected\n",
      "Channel 'EEG Fpz-Cz' recognized as type EEG (renamed to 'Fpz-Cz').\n",
      "Channel 'EEG Pz-Oz' recognized as type EEG (renamed to 'Pz-Oz').\n",
      "Channel 'EOG horizontal' recognized as type EOG (renamed to 'horizontal').\n",
      "Channel 'Resp oro-nasal' recognized as type RESP (renamed to 'oro-nasal').\n",
      "Channel 'EMG submental' recognized as type EMG (renamed to 'submental').\n",
      "Channel 'Temp rectal' recognized as type TEMP (renamed to 'rectal').\n",
      "Setting channel info structure...\n",
      "Creating raw.info structure...\n",
      "Reading 0 ... 8099999  =      0.000 ... 80999.990 secs...\n"
     ]
    },
    {
     "name": "stderr",
     "output_type": "stream",
     "text": [
      "c:\\Users\\andri\\school\\bio-informatics\\internship\\donders\\vsc\\Human_SleepSCoring\\DilonAndriesse\\pre_processing\\basic_mne_functions.py:15: RuntimeWarning: Channels contain different highpass filters. Highest filter setting will be stored.\n",
      "  raw = mne.io.read_raw_edf(\n",
      "c:\\Users\\andri\\school\\bio-informatics\\internship\\donders\\vsc\\Human_SleepSCoring\\DilonAndriesse\\pre_processing\\basic_mne_functions.py:15: RuntimeWarning: Channels contain different lowpass filters. Lowest filter setting will be stored.\n",
      "  raw = mne.io.read_raw_edf(\n"
     ]
    },
    {
     "name": "stdout",
     "output_type": "stream",
     "text": [
      "First sleep starts at: 28050.0\n",
      "Last sleep ends at: 59880.0\n",
      "Cropping raw: 26250.0 - 61680.0\n",
      "Cropping finished.\n",
      "<RawEDF | SC4312E0-PSG.edf, 4 x 3543001 (35430.0 s), ~108.1 MiB, data loaded>\n",
      "Total amount of sleep stages in list: 35430\n",
      "Amount of data in cropped_raw; 3543001\n",
      "Extracting EDF parameters from C:\\Users\\andri\\school\\bio-informatics\\internship\\donders\\data\\human_test_data\\input\\raw_input\\SC4321E0-PSG.edf...\n",
      "EDF file detected\n",
      "Channel 'EEG Fpz-Cz' recognized as type EEG (renamed to 'Fpz-Cz').\n",
      "Channel 'EEG Pz-Oz' recognized as type EEG (renamed to 'Pz-Oz').\n",
      "Channel 'EOG horizontal' recognized as type EOG (renamed to 'horizontal').\n",
      "Channel 'Resp oro-nasal' recognized as type RESP (renamed to 'oro-nasal').\n",
      "Channel 'EMG submental' recognized as type EMG (renamed to 'submental').\n",
      "Channel 'Temp rectal' recognized as type TEMP (renamed to 'rectal').\n",
      "Setting channel info structure...\n",
      "Creating raw.info structure...\n",
      "Reading 0 ... 8069999  =      0.000 ... 80699.990 secs...\n"
     ]
    },
    {
     "name": "stderr",
     "output_type": "stream",
     "text": [
      "c:\\Users\\andri\\school\\bio-informatics\\internship\\donders\\vsc\\Human_SleepSCoring\\DilonAndriesse\\pre_processing\\basic_mne_functions.py:15: RuntimeWarning: Channels contain different highpass filters. Highest filter setting will be stored.\n",
      "  raw = mne.io.read_raw_edf(\n",
      "c:\\Users\\andri\\school\\bio-informatics\\internship\\donders\\vsc\\Human_SleepSCoring\\DilonAndriesse\\pre_processing\\basic_mne_functions.py:15: RuntimeWarning: Channels contain different lowpass filters. Lowest filter setting will be stored.\n",
      "  raw = mne.io.read_raw_edf(\n"
     ]
    },
    {
     "name": "stdout",
     "output_type": "stream",
     "text": [
      "First sleep starts at: 12630.0\n",
      "Last sleep ends at: 55860.0\n",
      "Cropping raw: 10830.0 - 57660.0\n",
      "Cropping finished.\n",
      "<RawEDF | SC4321E0-PSG.edf, 4 x 4683001 (46830.0 s), ~142.9 MiB, data loaded>\n",
      "Total amount of sleep stages in list: 46830\n",
      "Amount of data in cropped_raw; 4683001\n",
      "Extracting EDF parameters from C:\\Users\\andri\\school\\bio-informatics\\internship\\donders\\data\\human_test_data\\input\\raw_input\\SC4322E0-PSG.edf...\n",
      "EDF file detected\n",
      "Channel 'EEG Fpz-Cz' recognized as type EEG (renamed to 'Fpz-Cz').\n",
      "Channel 'EEG Pz-Oz' recognized as type EEG (renamed to 'Pz-Oz').\n",
      "Channel 'EOG horizontal' recognized as type EOG (renamed to 'horizontal').\n",
      "Channel 'Resp oro-nasal' recognized as type RESP (renamed to 'oro-nasal').\n",
      "Channel 'EMG submental' recognized as type EMG (renamed to 'submental').\n",
      "Channel 'Temp rectal' recognized as type TEMP (renamed to 'rectal').\n",
      "Setting channel info structure...\n",
      "Creating raw.info structure...\n",
      "Reading 0 ... 7847999  =      0.000 ... 78479.990 secs...\n"
     ]
    },
    {
     "name": "stderr",
     "output_type": "stream",
     "text": [
      "c:\\Users\\andri\\school\\bio-informatics\\internship\\donders\\vsc\\Human_SleepSCoring\\DilonAndriesse\\pre_processing\\basic_mne_functions.py:15: RuntimeWarning: Channels contain different highpass filters. Highest filter setting will be stored.\n",
      "  raw = mne.io.read_raw_edf(\n",
      "c:\\Users\\andri\\school\\bio-informatics\\internship\\donders\\vsc\\Human_SleepSCoring\\DilonAndriesse\\pre_processing\\basic_mne_functions.py:15: RuntimeWarning: Channels contain different lowpass filters. Lowest filter setting will be stored.\n",
      "  raw = mne.io.read_raw_edf(\n"
     ]
    },
    {
     "name": "stdout",
     "output_type": "stream",
     "text": [
      "First sleep starts at: 29520.0\n",
      "Last sleep ends at: 56550.0\n",
      "Cropping raw: 27720.0 - 58350.0\n",
      "Cropping finished.\n",
      "<RawEDF | SC4322E0-PSG.edf, 4 x 3063001 (30630.0 s), ~93.5 MiB, data loaded>\n",
      "Total amount of sleep stages in list: 30630\n",
      "Amount of data in cropped_raw; 3063001\n",
      "Extracting EDF parameters from C:\\Users\\andri\\school\\bio-informatics\\internship\\donders\\data\\human_test_data\\input\\raw_input\\SC4331F0-PSG.edf...\n",
      "EDF file detected\n",
      "Channel 'EEG Fpz-Cz' recognized as type EEG (renamed to 'Fpz-Cz').\n",
      "Channel 'EEG Pz-Oz' recognized as type EEG (renamed to 'Pz-Oz').\n",
      "Channel 'EOG horizontal' recognized as type EOG (renamed to 'horizontal').\n",
      "Channel 'Resp oro-nasal' recognized as type RESP (renamed to 'oro-nasal').\n",
      "Channel 'EMG submental' recognized as type EMG (renamed to 'submental').\n",
      "Channel 'Temp rectal' recognized as type TEMP (renamed to 'rectal').\n",
      "Setting channel info structure...\n",
      "Creating raw.info structure...\n",
      "Reading 0 ... 8429999  =      0.000 ... 84299.990 secs...\n"
     ]
    },
    {
     "name": "stderr",
     "output_type": "stream",
     "text": [
      "c:\\Users\\andri\\school\\bio-informatics\\internship\\donders\\vsc\\Human_SleepSCoring\\DilonAndriesse\\pre_processing\\basic_mne_functions.py:15: RuntimeWarning: Channels contain different highpass filters. Highest filter setting will be stored.\n",
      "  raw = mne.io.read_raw_edf(\n",
      "c:\\Users\\andri\\school\\bio-informatics\\internship\\donders\\vsc\\Human_SleepSCoring\\DilonAndriesse\\pre_processing\\basic_mne_functions.py:15: RuntimeWarning: Channels contain different lowpass filters. Lowest filter setting will be stored.\n",
      "  raw = mne.io.read_raw_edf(\n"
     ]
    },
    {
     "name": "stdout",
     "output_type": "stream",
     "text": [
      "First sleep starts at: 28380.0\n",
      "Last sleep ends at: 81450.0\n",
      "Cropping raw: 26580.0 - 83250.0\n",
      "Cropping finished.\n",
      "<RawEDF | SC4331F0-PSG.edf, 4 x 5667001 (56670.0 s), ~173.0 MiB, data loaded>\n",
      "Total amount of sleep stages in list: 56670\n",
      "Amount of data in cropped_raw; 5667001\n",
      "Extracting EDF parameters from C:\\Users\\andri\\school\\bio-informatics\\internship\\donders\\data\\human_test_data\\input\\raw_input\\SC4332F0-PSG.edf...\n",
      "EDF file detected\n",
      "Channel 'EEG Fpz-Cz' recognized as type EEG (renamed to 'Fpz-Cz').\n",
      "Channel 'EEG Pz-Oz' recognized as type EEG (renamed to 'Pz-Oz').\n",
      "Channel 'EOG horizontal' recognized as type EOG (renamed to 'horizontal').\n",
      "Channel 'Resp oro-nasal' recognized as type RESP (renamed to 'oro-nasal').\n",
      "Channel 'EMG submental' recognized as type EMG (renamed to 'submental').\n",
      "Channel 'Temp rectal' recognized as type TEMP (renamed to 'rectal').\n",
      "Setting channel info structure...\n",
      "Creating raw.info structure...\n",
      "Reading 0 ... 8279999  =      0.000 ... 82799.990 secs...\n"
     ]
    },
    {
     "name": "stderr",
     "output_type": "stream",
     "text": [
      "c:\\Users\\andri\\school\\bio-informatics\\internship\\donders\\vsc\\Human_SleepSCoring\\DilonAndriesse\\pre_processing\\basic_mne_functions.py:15: RuntimeWarning: Channels contain different highpass filters. Highest filter setting will be stored.\n",
      "  raw = mne.io.read_raw_edf(\n",
      "c:\\Users\\andri\\school\\bio-informatics\\internship\\donders\\vsc\\Human_SleepSCoring\\DilonAndriesse\\pre_processing\\basic_mne_functions.py:15: RuntimeWarning: Channels contain different lowpass filters. Lowest filter setting will be stored.\n",
      "  raw = mne.io.read_raw_edf(\n"
     ]
    },
    {
     "name": "stdout",
     "output_type": "stream",
     "text": [
      "First sleep starts at: 16170.0\n",
      "Last sleep ends at: 51990.0\n",
      "Cropping raw: 14370.0 - 53790.0\n",
      "Cropping finished.\n",
      "<RawEDF | SC4332F0-PSG.edf, 4 x 3942001 (39420.0 s), ~120.3 MiB, data loaded>\n",
      "Total amount of sleep stages in list: 39420\n",
      "Amount of data in cropped_raw; 3942001\n",
      "Extracting EDF parameters from C:\\Users\\andri\\school\\bio-informatics\\internship\\donders\\data\\human_test_data\\input\\raw_input\\SC4341F0-PSG.edf...\n",
      "EDF file detected\n",
      "Channel 'EEG Fpz-Cz' recognized as type EEG (renamed to 'Fpz-Cz').\n",
      "Channel 'EEG Pz-Oz' recognized as type EEG (renamed to 'Pz-Oz').\n",
      "Channel 'EOG horizontal' recognized as type EOG (renamed to 'horizontal').\n",
      "Channel 'Resp oro-nasal' recognized as type RESP (renamed to 'oro-nasal').\n",
      "Channel 'EMG submental' recognized as type EMG (renamed to 'submental').\n",
      "Channel 'Temp rectal' recognized as type TEMP (renamed to 'rectal').\n",
      "Setting channel info structure...\n",
      "Creating raw.info structure...\n",
      "Reading 0 ... 8249999  =      0.000 ... 82499.990 secs...\n"
     ]
    },
    {
     "name": "stderr",
     "output_type": "stream",
     "text": [
      "c:\\Users\\andri\\school\\bio-informatics\\internship\\donders\\vsc\\Human_SleepSCoring\\DilonAndriesse\\pre_processing\\basic_mne_functions.py:15: RuntimeWarning: Channels contain different highpass filters. Highest filter setting will be stored.\n",
      "  raw = mne.io.read_raw_edf(\n",
      "c:\\Users\\andri\\school\\bio-informatics\\internship\\donders\\vsc\\Human_SleepSCoring\\DilonAndriesse\\pre_processing\\basic_mne_functions.py:15: RuntimeWarning: Channels contain different lowpass filters. Lowest filter setting will be stored.\n",
      "  raw = mne.io.read_raw_edf(\n"
     ]
    },
    {
     "name": "stdout",
     "output_type": "stream",
     "text": [
      "First sleep starts at: 9720.0\n",
      "Last sleep ends at: 51150.0\n",
      "Cropping raw: 7920.0 - 52950.0\n",
      "Cropping finished.\n",
      "<RawEDF | SC4341F0-PSG.edf, 4 x 4503001 (45030.0 s), ~137.4 MiB, data loaded>\n",
      "Total amount of sleep stages in list: 45030\n",
      "Amount of data in cropped_raw; 4503001\n",
      "Extracting EDF parameters from C:\\Users\\andri\\school\\bio-informatics\\internship\\donders\\data\\human_test_data\\input\\raw_input\\SC4342F0-PSG.edf...\n",
      "EDF file detected\n",
      "Channel 'EEG Fpz-Cz' recognized as type EEG (renamed to 'Fpz-Cz').\n",
      "Channel 'EEG Pz-Oz' recognized as type EEG (renamed to 'Pz-Oz').\n",
      "Channel 'EOG horizontal' recognized as type EOG (renamed to 'horizontal').\n",
      "Channel 'Resp oro-nasal' recognized as type RESP (renamed to 'oro-nasal').\n",
      "Channel 'EMG submental' recognized as type EMG (renamed to 'submental').\n",
      "Channel 'Temp rectal' recognized as type TEMP (renamed to 'rectal').\n",
      "Setting channel info structure...\n",
      "Creating raw.info structure...\n",
      "Reading 0 ... 8369999  =      0.000 ... 83699.990 secs...\n"
     ]
    },
    {
     "name": "stderr",
     "output_type": "stream",
     "text": [
      "c:\\Users\\andri\\school\\bio-informatics\\internship\\donders\\vsc\\Human_SleepSCoring\\DilonAndriesse\\pre_processing\\basic_mne_functions.py:15: RuntimeWarning: Channels contain different highpass filters. Highest filter setting will be stored.\n",
      "  raw = mne.io.read_raw_edf(\n",
      "c:\\Users\\andri\\school\\bio-informatics\\internship\\donders\\vsc\\Human_SleepSCoring\\DilonAndriesse\\pre_processing\\basic_mne_functions.py:15: RuntimeWarning: Channels contain different lowpass filters. Lowest filter setting will be stored.\n",
      "  raw = mne.io.read_raw_edf(\n"
     ]
    },
    {
     "name": "stdout",
     "output_type": "stream",
     "text": [
      "First sleep starts at: 10410.0\n",
      "Last sleep ends at: 54270.0\n",
      "Cropping raw: 8610.0 - 56070.0\n",
      "Cropping finished.\n",
      "<RawEDF | SC4342F0-PSG.edf, 4 x 4746001 (47460.0 s), ~144.8 MiB, data loaded>\n",
      "Total amount of sleep stages in list: 47460\n",
      "Amount of data in cropped_raw; 4746001\n",
      "Extracting EDF parameters from C:\\Users\\andri\\school\\bio-informatics\\internship\\donders\\data\\human_test_data\\input\\raw_input\\SC4351F0-PSG.edf...\n",
      "EDF file detected\n",
      "Channel 'EEG Fpz-Cz' recognized as type EEG (renamed to 'Fpz-Cz').\n",
      "Channel 'EEG Pz-Oz' recognized as type EEG (renamed to 'Pz-Oz').\n",
      "Channel 'EOG horizontal' recognized as type EOG (renamed to 'horizontal').\n",
      "Channel 'Resp oro-nasal' recognized as type RESP (renamed to 'oro-nasal').\n",
      "Channel 'EMG submental' recognized as type EMG (renamed to 'submental').\n",
      "Channel 'Temp rectal' recognized as type TEMP (renamed to 'rectal').\n",
      "Setting channel info structure...\n",
      "Creating raw.info structure...\n",
      "Reading 0 ... 8129999  =      0.000 ... 81299.990 secs...\n"
     ]
    },
    {
     "name": "stderr",
     "output_type": "stream",
     "text": [
      "c:\\Users\\andri\\school\\bio-informatics\\internship\\donders\\vsc\\Human_SleepSCoring\\DilonAndriesse\\pre_processing\\basic_mne_functions.py:15: RuntimeWarning: Channels contain different highpass filters. Highest filter setting will be stored.\n",
      "  raw = mne.io.read_raw_edf(\n",
      "c:\\Users\\andri\\school\\bio-informatics\\internship\\donders\\vsc\\Human_SleepSCoring\\DilonAndriesse\\pre_processing\\basic_mne_functions.py:15: RuntimeWarning: Channels contain different lowpass filters. Lowest filter setting will be stored.\n",
      "  raw = mne.io.read_raw_edf(\n"
     ]
    },
    {
     "name": "stdout",
     "output_type": "stream",
     "text": [
      "First sleep starts at: 29160.0\n",
      "Last sleep ends at: 54840.0\n",
      "Cropping raw: 27360.0 - 56640.0\n",
      "Cropping finished.\n",
      "<RawEDF | SC4351F0-PSG.edf, 4 x 2928001 (29280.0 s), ~89.4 MiB, data loaded>\n",
      "Total amount of sleep stages in list: 29280\n",
      "Amount of data in cropped_raw; 2928001\n",
      "Extracting EDF parameters from C:\\Users\\andri\\school\\bio-informatics\\internship\\donders\\data\\human_test_data\\input\\raw_input\\SC4352F0-PSG.edf...\n",
      "EDF file detected\n",
      "Channel 'EEG Fpz-Cz' recognized as type EEG (renamed to 'Fpz-Cz').\n",
      "Channel 'EEG Pz-Oz' recognized as type EEG (renamed to 'Pz-Oz').\n",
      "Channel 'EOG horizontal' recognized as type EOG (renamed to 'horizontal').\n",
      "Channel 'Resp oro-nasal' recognized as type RESP (renamed to 'oro-nasal').\n",
      "Channel 'EMG submental' recognized as type EMG (renamed to 'submental').\n",
      "Channel 'Temp rectal' recognized as type TEMP (renamed to 'rectal').\n",
      "Setting channel info structure...\n",
      "Creating raw.info structure...\n",
      "Reading 0 ... 7595999  =      0.000 ... 75959.990 secs...\n"
     ]
    },
    {
     "name": "stderr",
     "output_type": "stream",
     "text": [
      "c:\\Users\\andri\\school\\bio-informatics\\internship\\donders\\vsc\\Human_SleepSCoring\\DilonAndriesse\\pre_processing\\basic_mne_functions.py:15: RuntimeWarning: Channels contain different highpass filters. Highest filter setting will be stored.\n",
      "  raw = mne.io.read_raw_edf(\n",
      "c:\\Users\\andri\\school\\bio-informatics\\internship\\donders\\vsc\\Human_SleepSCoring\\DilonAndriesse\\pre_processing\\basic_mne_functions.py:15: RuntimeWarning: Channels contain different lowpass filters. Lowest filter setting will be stored.\n",
      "  raw = mne.io.read_raw_edf(\n"
     ]
    },
    {
     "name": "stdout",
     "output_type": "stream",
     "text": [
      "First sleep starts at: 32940.0\n",
      "Last sleep ends at: 58290.0\n",
      "Cropping raw: 31140.0 - 60090.0\n",
      "Cropping finished.\n",
      "<RawEDF | SC4352F0-PSG.edf, 4 x 2895001 (28950.0 s), ~88.4 MiB, data loaded>\n",
      "Total amount of sleep stages in list: 28950\n",
      "Amount of data in cropped_raw; 2895001\n",
      "Extracting EDF parameters from C:\\Users\\andri\\school\\bio-informatics\\internship\\donders\\data\\human_test_data\\input\\raw_input\\SC4362F0-PSG.edf...\n",
      "EDF file detected\n",
      "Channel 'EEG Fpz-Cz' recognized as type EEG (renamed to 'Fpz-Cz').\n",
      "Channel 'EEG Pz-Oz' recognized as type EEG (renamed to 'Pz-Oz').\n",
      "Channel 'EOG horizontal' recognized as type EOG (renamed to 'horizontal').\n",
      "Channel 'Resp oro-nasal' recognized as type RESP (renamed to 'oro-nasal').\n",
      "Channel 'EMG submental' recognized as type EMG (renamed to 'submental').\n",
      "Channel 'Temp rectal' recognized as type TEMP (renamed to 'rectal').\n",
      "Setting channel info structure...\n",
      "Creating raw.info structure...\n",
      "Reading 0 ... 6797999  =      0.000 ... 67979.990 secs...\n"
     ]
    },
    {
     "name": "stderr",
     "output_type": "stream",
     "text": [
      "c:\\Users\\andri\\school\\bio-informatics\\internship\\donders\\vsc\\Human_SleepSCoring\\DilonAndriesse\\pre_processing\\basic_mne_functions.py:15: RuntimeWarning: Channels contain different highpass filters. Highest filter setting will be stored.\n",
      "  raw = mne.io.read_raw_edf(\n",
      "c:\\Users\\andri\\school\\bio-informatics\\internship\\donders\\vsc\\Human_SleepSCoring\\DilonAndriesse\\pre_processing\\basic_mne_functions.py:15: RuntimeWarning: Channels contain different lowpass filters. Lowest filter setting will be stored.\n",
      "  raw = mne.io.read_raw_edf(\n"
     ]
    },
    {
     "name": "stdout",
     "output_type": "stream",
     "text": [
      "First sleep starts at: 31260.0\n",
      "Last sleep ends at: 52380.0\n",
      "Cropping raw: 29460.0 - 54180.0\n",
      "Cropping finished.\n",
      "<RawEDF | SC4362F0-PSG.edf, 4 x 2472001 (24720.0 s), ~75.4 MiB, data loaded>\n",
      "Total amount of sleep stages in list: 24720\n",
      "Amount of data in cropped_raw; 2472001\n",
      "Extracting EDF parameters from C:\\Users\\andri\\school\\bio-informatics\\internship\\donders\\data\\human_test_data\\input\\raw_input\\SC4371F0-PSG.edf...\n",
      "EDF file detected\n",
      "Channel 'EEG Fpz-Cz' recognized as type EEG (renamed to 'Fpz-Cz').\n",
      "Channel 'EEG Pz-Oz' recognized as type EEG (renamed to 'Pz-Oz').\n",
      "Channel 'EOG horizontal' recognized as type EOG (renamed to 'horizontal').\n",
      "Channel 'Resp oro-nasal' recognized as type RESP (renamed to 'oro-nasal').\n",
      "Channel 'EMG submental' recognized as type EMG (renamed to 'submental').\n",
      "Channel 'Temp rectal' recognized as type TEMP (renamed to 'rectal').\n",
      "Setting channel info structure...\n",
      "Creating raw.info structure...\n",
      "Reading 0 ... 8549999  =      0.000 ... 85499.990 secs...\n"
     ]
    },
    {
     "name": "stderr",
     "output_type": "stream",
     "text": [
      "c:\\Users\\andri\\school\\bio-informatics\\internship\\donders\\vsc\\Human_SleepSCoring\\DilonAndriesse\\pre_processing\\basic_mne_functions.py:15: RuntimeWarning: Channels contain different highpass filters. Highest filter setting will be stored.\n",
      "  raw = mne.io.read_raw_edf(\n",
      "c:\\Users\\andri\\school\\bio-informatics\\internship\\donders\\vsc\\Human_SleepSCoring\\DilonAndriesse\\pre_processing\\basic_mne_functions.py:15: RuntimeWarning: Channels contain different lowpass filters. Lowest filter setting will be stored.\n",
      "  raw = mne.io.read_raw_edf(\n"
     ]
    },
    {
     "name": "stdout",
     "output_type": "stream",
     "text": [
      "First sleep starts at: 26760.0\n",
      "Last sleep ends at: 50700.0\n",
      "Cropping raw: 24960.0 - 52500.0\n",
      "Cropping finished.\n",
      "<RawEDF | SC4371F0-PSG.edf, 4 x 2754001 (27540.0 s), ~84.1 MiB, data loaded>\n",
      "Total amount of sleep stages in list: 27540\n",
      "Amount of data in cropped_raw; 2754001\n",
      "Extracting EDF parameters from C:\\Users\\andri\\school\\bio-informatics\\internship\\donders\\data\\human_test_data\\input\\raw_input\\SC4372F0-PSG.edf...\n",
      "EDF file detected\n",
      "Channel 'EEG Fpz-Cz' recognized as type EEG (renamed to 'Fpz-Cz').\n",
      "Channel 'EEG Pz-Oz' recognized as type EEG (renamed to 'Pz-Oz').\n",
      "Channel 'EOG horizontal' recognized as type EOG (renamed to 'horizontal').\n",
      "Channel 'Resp oro-nasal' recognized as type RESP (renamed to 'oro-nasal').\n",
      "Channel 'EMG submental' recognized as type EMG (renamed to 'submental').\n",
      "Channel 'Temp rectal' recognized as type TEMP (renamed to 'rectal').\n",
      "Setting channel info structure...\n",
      "Creating raw.info structure...\n",
      "Reading 0 ... 8519999  =      0.000 ... 85199.990 secs...\n"
     ]
    },
    {
     "name": "stderr",
     "output_type": "stream",
     "text": [
      "c:\\Users\\andri\\school\\bio-informatics\\internship\\donders\\vsc\\Human_SleepSCoring\\DilonAndriesse\\pre_processing\\basic_mne_functions.py:15: RuntimeWarning: Channels contain different highpass filters. Highest filter setting will be stored.\n",
      "  raw = mne.io.read_raw_edf(\n",
      "c:\\Users\\andri\\school\\bio-informatics\\internship\\donders\\vsc\\Human_SleepSCoring\\DilonAndriesse\\pre_processing\\basic_mne_functions.py:15: RuntimeWarning: Channels contain different lowpass filters. Lowest filter setting will be stored.\n",
      "  raw = mne.io.read_raw_edf(\n"
     ]
    },
    {
     "name": "stdout",
     "output_type": "stream",
     "text": [
      "First sleep starts at: 8340.0\n",
      "Last sleep ends at: 50010.0\n",
      "Cropping raw: 6540.0 - 51810.0\n",
      "Cropping finished.\n",
      "<RawEDF | SC4372F0-PSG.edf, 4 x 4527001 (45270.0 s), ~138.2 MiB, data loaded>\n",
      "Total amount of sleep stages in list: 45270\n",
      "Amount of data in cropped_raw; 4527001\n",
      "Extracting EDF parameters from C:\\Users\\andri\\school\\bio-informatics\\internship\\donders\\data\\human_test_data\\input\\raw_input\\SC4381F0-PSG.edf...\n",
      "EDF file detected\n",
      "Channel 'EEG Fpz-Cz' recognized as type EEG (renamed to 'Fpz-Cz').\n",
      "Channel 'EEG Pz-Oz' recognized as type EEG (renamed to 'Pz-Oz').\n",
      "Channel 'EOG horizontal' recognized as type EOG (renamed to 'horizontal').\n",
      "Channel 'Resp oro-nasal' recognized as type RESP (renamed to 'oro-nasal').\n",
      "Channel 'EMG submental' recognized as type EMG (renamed to 'submental').\n",
      "Channel 'Temp rectal' recognized as type TEMP (renamed to 'rectal').\n",
      "Setting channel info structure...\n",
      "Creating raw.info structure...\n",
      "Reading 0 ... 8249999  =      0.000 ... 82499.990 secs...\n"
     ]
    },
    {
     "name": "stderr",
     "output_type": "stream",
     "text": [
      "c:\\Users\\andri\\school\\bio-informatics\\internship\\donders\\vsc\\Human_SleepSCoring\\DilonAndriesse\\pre_processing\\basic_mne_functions.py:15: RuntimeWarning: Channels contain different highpass filters. Highest filter setting will be stored.\n",
      "  raw = mne.io.read_raw_edf(\n",
      "c:\\Users\\andri\\school\\bio-informatics\\internship\\donders\\vsc\\Human_SleepSCoring\\DilonAndriesse\\pre_processing\\basic_mne_functions.py:15: RuntimeWarning: Channels contain different lowpass filters. Lowest filter setting will be stored.\n",
      "  raw = mne.io.read_raw_edf(\n"
     ]
    },
    {
     "name": "stdout",
     "output_type": "stream",
     "text": [
      "First sleep starts at: 6210.0\n",
      "Last sleep ends at: 55890.0\n",
      "Cropping raw: 4410.0 - 57690.0\n",
      "Cropping finished.\n",
      "<RawEDF | SC4381F0-PSG.edf, 4 x 5328001 (53280.0 s), ~162.6 MiB, data loaded>\n",
      "Total amount of sleep stages in list: 53280\n",
      "Amount of data in cropped_raw; 5328001\n",
      "Extracting EDF parameters from C:\\Users\\andri\\school\\bio-informatics\\internship\\donders\\data\\human_test_data\\input\\raw_input\\SC4382F0-PSG.edf...\n",
      "EDF file detected\n",
      "Channel 'EEG Fpz-Cz' recognized as type EEG (renamed to 'Fpz-Cz').\n",
      "Channel 'EEG Pz-Oz' recognized as type EEG (renamed to 'Pz-Oz').\n",
      "Channel 'EOG horizontal' recognized as type EOG (renamed to 'horizontal').\n",
      "Channel 'Resp oro-nasal' recognized as type RESP (renamed to 'oro-nasal').\n",
      "Channel 'EMG submental' recognized as type EMG (renamed to 'submental').\n",
      "Channel 'Temp rectal' recognized as type TEMP (renamed to 'rectal').\n",
      "Setting channel info structure...\n",
      "Creating raw.info structure...\n",
      "Reading 0 ... 8309999  =      0.000 ... 83099.990 secs...\n"
     ]
    },
    {
     "name": "stderr",
     "output_type": "stream",
     "text": [
      "c:\\Users\\andri\\school\\bio-informatics\\internship\\donders\\vsc\\Human_SleepSCoring\\DilonAndriesse\\pre_processing\\basic_mne_functions.py:15: RuntimeWarning: Channels contain different highpass filters. Highest filter setting will be stored.\n",
      "  raw = mne.io.read_raw_edf(\n",
      "c:\\Users\\andri\\school\\bio-informatics\\internship\\donders\\vsc\\Human_SleepSCoring\\DilonAndriesse\\pre_processing\\basic_mne_functions.py:15: RuntimeWarning: Channels contain different lowpass filters. Lowest filter setting will be stored.\n",
      "  raw = mne.io.read_raw_edf(\n"
     ]
    },
    {
     "name": "stdout",
     "output_type": "stream",
     "text": [
      "First sleep starts at: 5250.0\n",
      "Last sleep ends at: 57780.0\n",
      "Cropping raw: 3450.0 - 59580.0\n",
      "Cropping finished.\n",
      "<RawEDF | SC4382F0-PSG.edf, 4 x 5613001 (56130.0 s), ~171.3 MiB, data loaded>\n",
      "Total amount of sleep stages in list: 56130\n",
      "Amount of data in cropped_raw; 5613001\n",
      "Extracting EDF parameters from C:\\Users\\andri\\school\\bio-informatics\\internship\\donders\\data\\human_test_data\\input\\raw_input\\SC4401E0-PSG.edf...\n",
      "EDF file detected\n",
      "Channel 'EEG Fpz-Cz' recognized as type EEG (renamed to 'Fpz-Cz').\n",
      "Channel 'EEG Pz-Oz' recognized as type EEG (renamed to 'Pz-Oz').\n",
      "Channel 'EOG horizontal' recognized as type EOG (renamed to 'horizontal').\n",
      "Channel 'Resp oro-nasal' recognized as type RESP (renamed to 'oro-nasal').\n",
      "Channel 'EMG submental' recognized as type EMG (renamed to 'submental').\n",
      "Channel 'Temp rectal' recognized as type TEMP (renamed to 'rectal').\n",
      "Setting channel info structure...\n",
      "Creating raw.info structure...\n",
      "Reading 0 ... 7889999  =      0.000 ... 78899.990 secs...\n"
     ]
    },
    {
     "name": "stderr",
     "output_type": "stream",
     "text": [
      "c:\\Users\\andri\\school\\bio-informatics\\internship\\donders\\vsc\\Human_SleepSCoring\\DilonAndriesse\\pre_processing\\basic_mne_functions.py:15: RuntimeWarning: Channels contain different highpass filters. Highest filter setting will be stored.\n",
      "  raw = mne.io.read_raw_edf(\n",
      "c:\\Users\\andri\\school\\bio-informatics\\internship\\donders\\vsc\\Human_SleepSCoring\\DilonAndriesse\\pre_processing\\basic_mne_functions.py:15: RuntimeWarning: Channels contain different lowpass filters. Lowest filter setting will be stored.\n",
      "  raw = mne.io.read_raw_edf(\n"
     ]
    },
    {
     "name": "stdout",
     "output_type": "stream",
     "text": [
      "First sleep starts at: 27390.0\n",
      "Last sleep ends at: 55710.0\n",
      "Cropping raw: 25590.0 - 57510.0\n",
      "Cropping finished.\n",
      "<RawEDF | SC4401E0-PSG.edf, 4 x 3192001 (31920.0 s), ~97.4 MiB, data loaded>\n",
      "Total amount of sleep stages in list: 31920\n",
      "Amount of data in cropped_raw; 3192001\n",
      "Extracting EDF parameters from C:\\Users\\andri\\school\\bio-informatics\\internship\\donders\\data\\human_test_data\\input\\raw_input\\SC4402E0-PSG.edf...\n",
      "EDF file detected\n",
      "Channel 'EEG Fpz-Cz' recognized as type EEG (renamed to 'Fpz-Cz').\n",
      "Channel 'EEG Pz-Oz' recognized as type EEG (renamed to 'Pz-Oz').\n",
      "Channel 'EOG horizontal' recognized as type EOG (renamed to 'horizontal').\n",
      "Channel 'Resp oro-nasal' recognized as type RESP (renamed to 'oro-nasal').\n",
      "Channel 'EMG submental' recognized as type EMG (renamed to 'submental').\n",
      "Channel 'Temp rectal' recognized as type TEMP (renamed to 'rectal').\n",
      "Setting channel info structure...\n",
      "Creating raw.info structure...\n",
      "Reading 0 ... 8369999  =      0.000 ... 83699.990 secs...\n"
     ]
    },
    {
     "name": "stderr",
     "output_type": "stream",
     "text": [
      "c:\\Users\\andri\\school\\bio-informatics\\internship\\donders\\vsc\\Human_SleepSCoring\\DilonAndriesse\\pre_processing\\basic_mne_functions.py:15: RuntimeWarning: Channels contain different highpass filters. Highest filter setting will be stored.\n",
      "  raw = mne.io.read_raw_edf(\n",
      "c:\\Users\\andri\\school\\bio-informatics\\internship\\donders\\vsc\\Human_SleepSCoring\\DilonAndriesse\\pre_processing\\basic_mne_functions.py:15: RuntimeWarning: Channels contain different lowpass filters. Lowest filter setting will be stored.\n",
      "  raw = mne.io.read_raw_edf(\n"
     ]
    },
    {
     "name": "stdout",
     "output_type": "stream",
     "text": [
      "First sleep starts at: 30660.0\n",
      "Last sleep ends at: 59220.0\n",
      "Cropping raw: 28860.0 - 61020.0\n",
      "Cropping finished.\n",
      "<RawEDF | SC4402E0-PSG.edf, 4 x 3216001 (32160.0 s), ~98.2 MiB, data loaded>\n",
      "Total amount of sleep stages in list: 32160\n",
      "Amount of data in cropped_raw; 3216001\n",
      "Extracting EDF parameters from C:\\Users\\andri\\school\\bio-informatics\\internship\\donders\\data\\human_test_data\\input\\raw_input\\SC4411E0-PSG.edf...\n",
      "EDF file detected\n",
      "Channel 'EEG Fpz-Cz' recognized as type EEG (renamed to 'Fpz-Cz').\n",
      "Channel 'EEG Pz-Oz' recognized as type EEG (renamed to 'Pz-Oz').\n",
      "Channel 'EOG horizontal' recognized as type EOG (renamed to 'horizontal').\n",
      "Channel 'Resp oro-nasal' recognized as type RESP (renamed to 'oro-nasal').\n",
      "Channel 'EMG submental' recognized as type EMG (renamed to 'submental').\n",
      "Channel 'Temp rectal' recognized as type TEMP (renamed to 'rectal').\n",
      "Setting channel info structure...\n",
      "Creating raw.info structure...\n",
      "Reading 0 ... 8183999  =      0.000 ... 81839.990 secs...\n"
     ]
    },
    {
     "name": "stderr",
     "output_type": "stream",
     "text": [
      "c:\\Users\\andri\\school\\bio-informatics\\internship\\donders\\vsc\\Human_SleepSCoring\\DilonAndriesse\\pre_processing\\basic_mne_functions.py:15: RuntimeWarning: Channels contain different highpass filters. Highest filter setting will be stored.\n",
      "  raw = mne.io.read_raw_edf(\n",
      "c:\\Users\\andri\\school\\bio-informatics\\internship\\donders\\vsc\\Human_SleepSCoring\\DilonAndriesse\\pre_processing\\basic_mne_functions.py:15: RuntimeWarning: Channels contain different lowpass filters. Lowest filter setting will be stored.\n",
      "  raw = mne.io.read_raw_edf(\n"
     ]
    },
    {
     "name": "stdout",
     "output_type": "stream",
     "text": [
      "First sleep starts at: 24390.0\n",
      "Last sleep ends at: 53130.0\n",
      "Cropping raw: 22590.0 - 54930.0\n",
      "Cropping finished.\n",
      "<RawEDF | SC4411E0-PSG.edf, 4 x 3234001 (32340.0 s), ~98.7 MiB, data loaded>\n",
      "Total amount of sleep stages in list: 32340\n",
      "Amount of data in cropped_raw; 3234001\n",
      "Extracting EDF parameters from C:\\Users\\andri\\school\\bio-informatics\\internship\\donders\\data\\human_test_data\\input\\raw_input\\SC4412E0-PSG.edf...\n",
      "EDF file detected\n",
      "Channel 'EEG Fpz-Cz' recognized as type EEG (renamed to 'Fpz-Cz').\n",
      "Channel 'EEG Pz-Oz' recognized as type EEG (renamed to 'Pz-Oz').\n",
      "Channel 'EOG horizontal' recognized as type EOG (renamed to 'horizontal').\n",
      "Channel 'Resp oro-nasal' recognized as type RESP (renamed to 'oro-nasal').\n",
      "Channel 'EMG submental' recognized as type EMG (renamed to 'submental').\n",
      "Channel 'Temp rectal' recognized as type TEMP (renamed to 'rectal').\n",
      "Setting channel info structure...\n",
      "Creating raw.info structure...\n",
      "Reading 0 ... 8573999  =      0.000 ... 85739.990 secs...\n"
     ]
    },
    {
     "name": "stderr",
     "output_type": "stream",
     "text": [
      "c:\\Users\\andri\\school\\bio-informatics\\internship\\donders\\vsc\\Human_SleepSCoring\\DilonAndriesse\\pre_processing\\basic_mne_functions.py:15: RuntimeWarning: Channels contain different highpass filters. Highest filter setting will be stored.\n",
      "  raw = mne.io.read_raw_edf(\n",
      "c:\\Users\\andri\\school\\bio-informatics\\internship\\donders\\vsc\\Human_SleepSCoring\\DilonAndriesse\\pre_processing\\basic_mne_functions.py:15: RuntimeWarning: Channels contain different lowpass filters. Lowest filter setting will be stored.\n",
      "  raw = mne.io.read_raw_edf(\n"
     ]
    },
    {
     "name": "stdout",
     "output_type": "stream",
     "text": [
      "First sleep starts at: 26580.0\n",
      "Last sleep ends at: 50700.0\n",
      "Cropping raw: 24780.0 - 52500.0\n",
      "Cropping finished.\n",
      "<RawEDF | SC4412E0-PSG.edf, 4 x 2772001 (27720.0 s), ~84.6 MiB, data loaded>\n",
      "Total amount of sleep stages in list: 27720\n",
      "Amount of data in cropped_raw; 2772001\n",
      "Extracting EDF parameters from C:\\Users\\andri\\school\\bio-informatics\\internship\\donders\\data\\human_test_data\\input\\raw_input\\SC4421E0-PSG.edf...\n",
      "EDF file detected\n",
      "Channel 'EEG Fpz-Cz' recognized as type EEG (renamed to 'Fpz-Cz').\n",
      "Channel 'EEG Pz-Oz' recognized as type EEG (renamed to 'Pz-Oz').\n",
      "Channel 'EOG horizontal' recognized as type EOG (renamed to 'horizontal').\n",
      "Channel 'Resp oro-nasal' recognized as type RESP (renamed to 'oro-nasal').\n",
      "Channel 'EMG submental' recognized as type EMG (renamed to 'submental').\n",
      "Channel 'Temp rectal' recognized as type TEMP (renamed to 'rectal').\n",
      "Setting channel info structure...\n",
      "Creating raw.info structure...\n",
      "Reading 0 ... 8291999  =      0.000 ... 82919.990 secs...\n"
     ]
    },
    {
     "name": "stderr",
     "output_type": "stream",
     "text": [
      "c:\\Users\\andri\\school\\bio-informatics\\internship\\donders\\vsc\\Human_SleepSCoring\\DilonAndriesse\\pre_processing\\basic_mne_functions.py:15: RuntimeWarning: Channels contain different highpass filters. Highest filter setting will be stored.\n",
      "  raw = mne.io.read_raw_edf(\n",
      "c:\\Users\\andri\\school\\bio-informatics\\internship\\donders\\vsc\\Human_SleepSCoring\\DilonAndriesse\\pre_processing\\basic_mne_functions.py:15: RuntimeWarning: Channels contain different lowpass filters. Lowest filter setting will be stored.\n",
      "  raw = mne.io.read_raw_edf(\n"
     ]
    },
    {
     "name": "stdout",
     "output_type": "stream",
     "text": [
      "First sleep starts at: 32640.0\n",
      "Last sleep ends at: 52590.0\n",
      "Cropping raw: 30840.0 - 54390.0\n",
      "Cropping finished.\n",
      "<RawEDF | SC4421E0-PSG.edf, 4 x 2355001 (23550.0 s), ~71.9 MiB, data loaded>\n",
      "Total amount of sleep stages in list: 23550\n",
      "Amount of data in cropped_raw; 2355001\n",
      "Extracting EDF parameters from C:\\Users\\andri\\school\\bio-informatics\\internship\\donders\\data\\human_test_data\\input\\raw_input\\SC4422E0-PSG.edf...\n",
      "EDF file detected\n",
      "Channel 'EEG Fpz-Cz' recognized as type EEG (renamed to 'Fpz-Cz').\n",
      "Channel 'EEG Pz-Oz' recognized as type EEG (renamed to 'Pz-Oz').\n",
      "Channel 'EOG horizontal' recognized as type EOG (renamed to 'horizontal').\n",
      "Channel 'Resp oro-nasal' recognized as type RESP (renamed to 'oro-nasal').\n",
      "Channel 'EMG submental' recognized as type EMG (renamed to 'submental').\n",
      "Channel 'Temp rectal' recognized as type TEMP (renamed to 'rectal').\n",
      "Setting channel info structure...\n",
      "Creating raw.info structure...\n",
      "Reading 0 ... 8045999  =      0.000 ... 80459.990 secs...\n"
     ]
    },
    {
     "name": "stderr",
     "output_type": "stream",
     "text": [
      "c:\\Users\\andri\\school\\bio-informatics\\internship\\donders\\vsc\\Human_SleepSCoring\\DilonAndriesse\\pre_processing\\basic_mne_functions.py:15: RuntimeWarning: Channels contain different highpass filters. Highest filter setting will be stored.\n",
      "  raw = mne.io.read_raw_edf(\n",
      "c:\\Users\\andri\\school\\bio-informatics\\internship\\donders\\vsc\\Human_SleepSCoring\\DilonAndriesse\\pre_processing\\basic_mne_functions.py:15: RuntimeWarning: Channels contain different lowpass filters. Lowest filter setting will be stored.\n",
      "  raw = mne.io.read_raw_edf(\n"
     ]
    },
    {
     "name": "stdout",
     "output_type": "stream",
     "text": [
      "First sleep starts at: 29520.0\n",
      "Last sleep ends at: 52440.0\n",
      "Cropping raw: 27720.0 - 54240.0\n",
      "Cropping finished.\n",
      "<RawEDF | SC4422E0-PSG.edf, 4 x 2652001 (26520.0 s), ~80.9 MiB, data loaded>\n",
      "Total amount of sleep stages in list: 26520\n",
      "Amount of data in cropped_raw; 2652001\n",
      "Extracting EDF parameters from C:\\Users\\andri\\school\\bio-informatics\\internship\\donders\\data\\human_test_data\\input\\raw_input\\SC4431E0-PSG.edf...\n",
      "EDF file detected\n",
      "Channel 'EEG Fpz-Cz' recognized as type EEG (renamed to 'Fpz-Cz').\n",
      "Channel 'EEG Pz-Oz' recognized as type EEG (renamed to 'Pz-Oz').\n",
      "Channel 'EOG horizontal' recognized as type EOG (renamed to 'horizontal').\n",
      "Channel 'Resp oro-nasal' recognized as type RESP (renamed to 'oro-nasal').\n",
      "Channel 'EMG submental' recognized as type EMG (renamed to 'submental').\n",
      "Channel 'Temp rectal' recognized as type TEMP (renamed to 'rectal').\n",
      "Setting channel info structure...\n",
      "Creating raw.info structure...\n",
      "Reading 0 ... 8429999  =      0.000 ... 84299.990 secs...\n"
     ]
    },
    {
     "name": "stderr",
     "output_type": "stream",
     "text": [
      "c:\\Users\\andri\\school\\bio-informatics\\internship\\donders\\vsc\\Human_SleepSCoring\\DilonAndriesse\\pre_processing\\basic_mne_functions.py:15: RuntimeWarning: Channels contain different highpass filters. Highest filter setting will be stored.\n",
      "  raw = mne.io.read_raw_edf(\n",
      "c:\\Users\\andri\\school\\bio-informatics\\internship\\donders\\vsc\\Human_SleepSCoring\\DilonAndriesse\\pre_processing\\basic_mne_functions.py:15: RuntimeWarning: Channels contain different lowpass filters. Lowest filter setting will be stored.\n",
      "  raw = mne.io.read_raw_edf(\n"
     ]
    },
    {
     "name": "stdout",
     "output_type": "stream",
     "text": [
      "First sleep starts at: 35670.0\n",
      "Last sleep ends at: 53040.0\n",
      "Cropping raw: 33870.0 - 54840.0\n",
      "Cropping finished.\n",
      "<RawEDF | SC4431E0-PSG.edf, 4 x 2097001 (20970.0 s), ~64.0 MiB, data loaded>\n",
      "Total amount of sleep stages in list: 20970\n",
      "Amount of data in cropped_raw; 2097001\n",
      "Extracting EDF parameters from C:\\Users\\andri\\school\\bio-informatics\\internship\\donders\\data\\human_test_data\\input\\raw_input\\SC4432E0-PSG.edf...\n",
      "EDF file detected\n",
      "Channel 'EEG Fpz-Cz' recognized as type EEG (renamed to 'Fpz-Cz').\n",
      "Channel 'EEG Pz-Oz' recognized as type EEG (renamed to 'Pz-Oz').\n",
      "Channel 'EOG horizontal' recognized as type EOG (renamed to 'horizontal').\n",
      "Channel 'Resp oro-nasal' recognized as type RESP (renamed to 'oro-nasal').\n",
      "Channel 'EMG submental' recognized as type EMG (renamed to 'submental').\n",
      "Channel 'Temp rectal' recognized as type TEMP (renamed to 'rectal').\n",
      "Setting channel info structure...\n",
      "Creating raw.info structure...\n",
      "Reading 0 ... 8339999  =      0.000 ... 83399.990 secs...\n"
     ]
    },
    {
     "name": "stderr",
     "output_type": "stream",
     "text": [
      "c:\\Users\\andri\\school\\bio-informatics\\internship\\donders\\vsc\\Human_SleepSCoring\\DilonAndriesse\\pre_processing\\basic_mne_functions.py:15: RuntimeWarning: Channels contain different highpass filters. Highest filter setting will be stored.\n",
      "  raw = mne.io.read_raw_edf(\n",
      "c:\\Users\\andri\\school\\bio-informatics\\internship\\donders\\vsc\\Human_SleepSCoring\\DilonAndriesse\\pre_processing\\basic_mne_functions.py:15: RuntimeWarning: Channels contain different lowpass filters. Lowest filter setting will be stored.\n",
      "  raw = mne.io.read_raw_edf(\n"
     ]
    },
    {
     "name": "stdout",
     "output_type": "stream",
     "text": [
      "First sleep starts at: 35220.0\n",
      "Last sleep ends at: 60480.0\n",
      "Cropping raw: 33420.0 - 62280.0\n",
      "Cropping finished.\n",
      "<RawEDF | SC4432E0-PSG.edf, 4 x 2886001 (28860.0 s), ~88.1 MiB, data loaded>\n",
      "Total amount of sleep stages in list: 28860\n",
      "Amount of data in cropped_raw; 2886001\n",
      "Extracting EDF parameters from C:\\Users\\andri\\school\\bio-informatics\\internship\\donders\\data\\human_test_data\\input\\raw_input\\SC4441E0-PSG.edf...\n",
      "EDF file detected\n",
      "Channel 'EEG Fpz-Cz' recognized as type EEG (renamed to 'Fpz-Cz').\n",
      "Channel 'EEG Pz-Oz' recognized as type EEG (renamed to 'Pz-Oz').\n",
      "Channel 'EOG horizontal' recognized as type EOG (renamed to 'horizontal').\n",
      "Channel 'Resp oro-nasal' recognized as type RESP (renamed to 'oro-nasal').\n",
      "Channel 'EMG submental' recognized as type EMG (renamed to 'submental').\n",
      "Channel 'Temp rectal' recognized as type TEMP (renamed to 'rectal').\n",
      "Setting channel info structure...\n",
      "Creating raw.info structure...\n",
      "Reading 0 ... 7859999  =      0.000 ... 78599.990 secs...\n"
     ]
    },
    {
     "name": "stderr",
     "output_type": "stream",
     "text": [
      "c:\\Users\\andri\\school\\bio-informatics\\internship\\donders\\vsc\\Human_SleepSCoring\\DilonAndriesse\\pre_processing\\basic_mne_functions.py:15: RuntimeWarning: Channels contain different highpass filters. Highest filter setting will be stored.\n",
      "  raw = mne.io.read_raw_edf(\n",
      "c:\\Users\\andri\\school\\bio-informatics\\internship\\donders\\vsc\\Human_SleepSCoring\\DilonAndriesse\\pre_processing\\basic_mne_functions.py:15: RuntimeWarning: Channels contain different lowpass filters. Lowest filter setting will be stored.\n",
      "  raw = mne.io.read_raw_edf(\n"
     ]
    },
    {
     "name": "stdout",
     "output_type": "stream",
     "text": [
      "First sleep starts at: 29100.0\n",
      "Last sleep ends at: 61350.0\n",
      "Cropping raw: 27300.0 - 63150.0\n",
      "Cropping finished.\n",
      "<RawEDF | SC4441E0-PSG.edf, 4 x 3585001 (35850.0 s), ~109.4 MiB, data loaded>\n",
      "Total amount of sleep stages in list: 35850\n",
      "Amount of data in cropped_raw; 3585001\n",
      "Extracting EDF parameters from C:\\Users\\andri\\school\\bio-informatics\\internship\\donders\\data\\human_test_data\\input\\raw_input\\SC4442E0-PSG.edf...\n",
      "EDF file detected\n",
      "Channel 'EEG Fpz-Cz' recognized as type EEG (renamed to 'Fpz-Cz').\n",
      "Channel 'EEG Pz-Oz' recognized as type EEG (renamed to 'Pz-Oz').\n",
      "Channel 'EOG horizontal' recognized as type EOG (renamed to 'horizontal').\n",
      "Channel 'Resp oro-nasal' recognized as type RESP (renamed to 'oro-nasal').\n",
      "Channel 'EMG submental' recognized as type EMG (renamed to 'submental').\n",
      "Channel 'Temp rectal' recognized as type TEMP (renamed to 'rectal').\n",
      "Setting channel info structure...\n",
      "Creating raw.info structure...\n",
      "Reading 0 ... 8333999  =      0.000 ... 83339.990 secs...\n"
     ]
    },
    {
     "name": "stderr",
     "output_type": "stream",
     "text": [
      "c:\\Users\\andri\\school\\bio-informatics\\internship\\donders\\vsc\\Human_SleepSCoring\\DilonAndriesse\\pre_processing\\basic_mne_functions.py:15: RuntimeWarning: Channels contain different highpass filters. Highest filter setting will be stored.\n",
      "  raw = mne.io.read_raw_edf(\n",
      "c:\\Users\\andri\\school\\bio-informatics\\internship\\donders\\vsc\\Human_SleepSCoring\\DilonAndriesse\\pre_processing\\basic_mne_functions.py:15: RuntimeWarning: Channels contain different lowpass filters. Lowest filter setting will be stored.\n",
      "  raw = mne.io.read_raw_edf(\n"
     ]
    },
    {
     "name": "stdout",
     "output_type": "stream",
     "text": [
      "First sleep starts at: 31740.0\n",
      "Last sleep ends at: 60900.0\n",
      "Cropping raw: 29940.0 - 62700.0\n",
      "Cropping finished.\n",
      "<RawEDF | SC4442E0-PSG.edf, 4 x 3276001 (32760.0 s), ~100.0 MiB, data loaded>\n",
      "Total amount of sleep stages in list: 32760\n",
      "Amount of data in cropped_raw; 3276001\n",
      "Extracting EDF parameters from C:\\Users\\andri\\school\\bio-informatics\\internship\\donders\\data\\human_test_data\\input\\raw_input\\SC4451F0-PSG.edf...\n",
      "EDF file detected\n",
      "Channel 'EEG Fpz-Cz' recognized as type EEG (renamed to 'Fpz-Cz').\n",
      "Channel 'EEG Pz-Oz' recognized as type EEG (renamed to 'Pz-Oz').\n",
      "Channel 'EOG horizontal' recognized as type EOG (renamed to 'horizontal').\n",
      "Channel 'Resp oro-nasal' recognized as type RESP (renamed to 'oro-nasal').\n",
      "Channel 'EMG submental' recognized as type EMG (renamed to 'submental').\n",
      "Channel 'Temp rectal' recognized as type TEMP (renamed to 'rectal').\n",
      "Setting channel info structure...\n",
      "Creating raw.info structure...\n",
      "Reading 0 ... 8369999  =      0.000 ... 83699.990 secs...\n"
     ]
    },
    {
     "name": "stderr",
     "output_type": "stream",
     "text": [
      "c:\\Users\\andri\\school\\bio-informatics\\internship\\donders\\vsc\\Human_SleepSCoring\\DilonAndriesse\\pre_processing\\basic_mne_functions.py:15: RuntimeWarning: Channels contain different highpass filters. Highest filter setting will be stored.\n",
      "  raw = mne.io.read_raw_edf(\n",
      "c:\\Users\\andri\\school\\bio-informatics\\internship\\donders\\vsc\\Human_SleepSCoring\\DilonAndriesse\\pre_processing\\basic_mne_functions.py:15: RuntimeWarning: Channels contain different lowpass filters. Lowest filter setting will be stored.\n",
      "  raw = mne.io.read_raw_edf(\n"
     ]
    },
    {
     "name": "stdout",
     "output_type": "stream",
     "text": [
      "First sleep starts at: 33210.0\n",
      "Last sleep ends at: 65850.0\n",
      "Cropping raw: 31410.0 - 67650.0\n",
      "Cropping finished.\n",
      "<RawEDF | SC4451F0-PSG.edf, 4 x 3624001 (36240.0 s), ~110.6 MiB, data loaded>\n",
      "Total amount of sleep stages in list: 36240\n",
      "Amount of data in cropped_raw; 3624001\n",
      "Extracting EDF parameters from C:\\Users\\andri\\school\\bio-informatics\\internship\\donders\\data\\human_test_data\\input\\raw_input\\SC4452F0-PSG.edf...\n",
      "EDF file detected\n",
      "Channel 'EEG Fpz-Cz' recognized as type EEG (renamed to 'Fpz-Cz').\n",
      "Channel 'EEG Pz-Oz' recognized as type EEG (renamed to 'Pz-Oz').\n",
      "Channel 'EOG horizontal' recognized as type EOG (renamed to 'horizontal').\n",
      "Channel 'Resp oro-nasal' recognized as type RESP (renamed to 'oro-nasal').\n",
      "Channel 'EMG submental' recognized as type EMG (renamed to 'submental').\n",
      "Channel 'Temp rectal' recognized as type TEMP (renamed to 'rectal').\n",
      "Setting channel info structure...\n",
      "Creating raw.info structure...\n",
      "Reading 0 ... 8009999  =      0.000 ... 80099.990 secs...\n"
     ]
    },
    {
     "name": "stderr",
     "output_type": "stream",
     "text": [
      "c:\\Users\\andri\\school\\bio-informatics\\internship\\donders\\vsc\\Human_SleepSCoring\\DilonAndriesse\\pre_processing\\basic_mne_functions.py:15: RuntimeWarning: Channels contain different highpass filters. Highest filter setting will be stored.\n",
      "  raw = mne.io.read_raw_edf(\n",
      "c:\\Users\\andri\\school\\bio-informatics\\internship\\donders\\vsc\\Human_SleepSCoring\\DilonAndriesse\\pre_processing\\basic_mne_functions.py:15: RuntimeWarning: Channels contain different lowpass filters. Lowest filter setting will be stored.\n",
      "  raw = mne.io.read_raw_edf(\n"
     ]
    },
    {
     "name": "stdout",
     "output_type": "stream",
     "text": [
      "First sleep starts at: 35460.0\n",
      "Last sleep ends at: 66840.0\n",
      "Cropping raw: 33660.0 - 68640.0\n",
      "Cropping finished.\n",
      "<RawEDF | SC4452F0-PSG.edf, 4 x 3498001 (34980.0 s), ~106.8 MiB, data loaded>\n",
      "Total amount of sleep stages in list: 34980\n",
      "Amount of data in cropped_raw; 3498001\n",
      "Extracting EDF parameters from C:\\Users\\andri\\school\\bio-informatics\\internship\\donders\\data\\human_test_data\\input\\raw_input\\SC4461F0-PSG.edf...\n",
      "EDF file detected\n",
      "Channel 'EEG Fpz-Cz' recognized as type EEG (renamed to 'Fpz-Cz').\n",
      "Channel 'EEG Pz-Oz' recognized as type EEG (renamed to 'Pz-Oz').\n",
      "Channel 'EOG horizontal' recognized as type EOG (renamed to 'horizontal').\n",
      "Channel 'Resp oro-nasal' recognized as type RESP (renamed to 'oro-nasal').\n",
      "Channel 'EMG submental' recognized as type EMG (renamed to 'submental').\n",
      "Channel 'Temp rectal' recognized as type TEMP (renamed to 'rectal').\n",
      "Setting channel info structure...\n",
      "Creating raw.info structure...\n",
      "Reading 0 ... 8087999  =      0.000 ... 80879.990 secs...\n"
     ]
    },
    {
     "name": "stderr",
     "output_type": "stream",
     "text": [
      "c:\\Users\\andri\\school\\bio-informatics\\internship\\donders\\vsc\\Human_SleepSCoring\\DilonAndriesse\\pre_processing\\basic_mne_functions.py:15: RuntimeWarning: Channels contain different highpass filters. Highest filter setting will be stored.\n",
      "  raw = mne.io.read_raw_edf(\n",
      "c:\\Users\\andri\\school\\bio-informatics\\internship\\donders\\vsc\\Human_SleepSCoring\\DilonAndriesse\\pre_processing\\basic_mne_functions.py:15: RuntimeWarning: Channels contain different lowpass filters. Lowest filter setting will be stored.\n",
      "  raw = mne.io.read_raw_edf(\n"
     ]
    },
    {
     "name": "stdout",
     "output_type": "stream",
     "text": [
      "First sleep starts at: 32370.0\n",
      "Last sleep ends at: 58290.0\n",
      "Cropping raw: 30570.0 - 60090.0\n",
      "Cropping finished.\n",
      "<RawEDF | SC4461F0-PSG.edf, 4 x 2952001 (29520.0 s), ~90.1 MiB, data loaded>\n",
      "Total amount of sleep stages in list: 29520\n",
      "Amount of data in cropped_raw; 2952001\n",
      "Extracting EDF parameters from C:\\Users\\andri\\school\\bio-informatics\\internship\\donders\\data\\human_test_data\\input\\raw_input\\SC4462F0-PSG.edf...\n",
      "EDF file detected\n",
      "Channel 'EEG Fpz-Cz' recognized as type EEG (renamed to 'Fpz-Cz').\n",
      "Channel 'EEG Pz-Oz' recognized as type EEG (renamed to 'Pz-Oz').\n",
      "Channel 'EOG horizontal' recognized as type EOG (renamed to 'horizontal').\n",
      "Channel 'Resp oro-nasal' recognized as type RESP (renamed to 'oro-nasal').\n",
      "Channel 'EMG submental' recognized as type EMG (renamed to 'submental').\n",
      "Channel 'Temp rectal' recognized as type TEMP (renamed to 'rectal').\n",
      "Setting channel info structure...\n",
      "Creating raw.info structure...\n",
      "Reading 0 ... 8567999  =      0.000 ... 85679.990 secs...\n"
     ]
    },
    {
     "name": "stderr",
     "output_type": "stream",
     "text": [
      "c:\\Users\\andri\\school\\bio-informatics\\internship\\donders\\vsc\\Human_SleepSCoring\\DilonAndriesse\\pre_processing\\basic_mne_functions.py:15: RuntimeWarning: Channels contain different highpass filters. Highest filter setting will be stored.\n",
      "  raw = mne.io.read_raw_edf(\n",
      "c:\\Users\\andri\\school\\bio-informatics\\internship\\donders\\vsc\\Human_SleepSCoring\\DilonAndriesse\\pre_processing\\basic_mne_functions.py:15: RuntimeWarning: Channels contain different lowpass filters. Lowest filter setting will be stored.\n",
      "  raw = mne.io.read_raw_edf(\n"
     ]
    },
    {
     "name": "stdout",
     "output_type": "stream",
     "text": [
      "First sleep starts at: 36240.0\n",
      "Last sleep ends at: 63360.0\n",
      "Cropping raw: 34440.0 - 65160.0\n",
      "Cropping finished.\n",
      "<RawEDF | SC4462F0-PSG.edf, 4 x 3072001 (30720.0 s), ~93.8 MiB, data loaded>\n",
      "Total amount of sleep stages in list: 30720\n",
      "Amount of data in cropped_raw; 3072001\n",
      "Extracting EDF parameters from C:\\Users\\andri\\school\\bio-informatics\\internship\\donders\\data\\human_test_data\\input\\raw_input\\SC4471F0-PSG.edf...\n",
      "EDF file detected\n",
      "Channel 'EEG Fpz-Cz' recognized as type EEG (renamed to 'Fpz-Cz').\n",
      "Channel 'EEG Pz-Oz' recognized as type EEG (renamed to 'Pz-Oz').\n",
      "Channel 'EOG horizontal' recognized as type EOG (renamed to 'horizontal').\n",
      "Channel 'Resp oro-nasal' recognized as type RESP (renamed to 'oro-nasal').\n",
      "Channel 'EMG submental' recognized as type EMG (renamed to 'submental').\n",
      "Channel 'Temp rectal' recognized as type TEMP (renamed to 'rectal').\n",
      "Setting channel info structure...\n",
      "Creating raw.info structure...\n",
      "Reading 0 ... 8219999  =      0.000 ... 82199.990 secs...\n"
     ]
    },
    {
     "name": "stderr",
     "output_type": "stream",
     "text": [
      "c:\\Users\\andri\\school\\bio-informatics\\internship\\donders\\vsc\\Human_SleepSCoring\\DilonAndriesse\\pre_processing\\basic_mne_functions.py:15: RuntimeWarning: Channels contain different highpass filters. Highest filter setting will be stored.\n",
      "  raw = mne.io.read_raw_edf(\n",
      "c:\\Users\\andri\\school\\bio-informatics\\internship\\donders\\vsc\\Human_SleepSCoring\\DilonAndriesse\\pre_processing\\basic_mne_functions.py:15: RuntimeWarning: Channels contain different lowpass filters. Lowest filter setting will be stored.\n",
      "  raw = mne.io.read_raw_edf(\n"
     ]
    },
    {
     "name": "stdout",
     "output_type": "stream",
     "text": [
      "First sleep starts at: 22980.0\n",
      "Last sleep ends at: 55020.0\n",
      "Cropping raw: 21180.0 - 56820.0\n",
      "Cropping finished.\n",
      "<RawEDF | SC4471F0-PSG.edf, 4 x 3564001 (35640.0 s), ~108.8 MiB, data loaded>\n",
      "Total amount of sleep stages in list: 35640\n",
      "Amount of data in cropped_raw; 3564001\n",
      "Extracting EDF parameters from C:\\Users\\andri\\school\\bio-informatics\\internship\\donders\\data\\human_test_data\\input\\raw_input\\SC4472F0-PSG.edf...\n",
      "EDF file detected\n",
      "Channel 'EEG Fpz-Cz' recognized as type EEG (renamed to 'Fpz-Cz').\n",
      "Channel 'EEG Pz-Oz' recognized as type EEG (renamed to 'Pz-Oz').\n",
      "Channel 'EOG horizontal' recognized as type EOG (renamed to 'horizontal').\n",
      "Channel 'Resp oro-nasal' recognized as type RESP (renamed to 'oro-nasal').\n",
      "Channel 'EMG submental' recognized as type EMG (renamed to 'submental').\n",
      "Channel 'Temp rectal' recognized as type TEMP (renamed to 'rectal').\n",
      "Setting channel info structure...\n",
      "Creating raw.info structure...\n",
      "Reading 0 ... 8369999  =      0.000 ... 83699.990 secs...\n"
     ]
    },
    {
     "name": "stderr",
     "output_type": "stream",
     "text": [
      "c:\\Users\\andri\\school\\bio-informatics\\internship\\donders\\vsc\\Human_SleepSCoring\\DilonAndriesse\\pre_processing\\basic_mne_functions.py:15: RuntimeWarning: Channels contain different highpass filters. Highest filter setting will be stored.\n",
      "  raw = mne.io.read_raw_edf(\n",
      "c:\\Users\\andri\\school\\bio-informatics\\internship\\donders\\vsc\\Human_SleepSCoring\\DilonAndriesse\\pre_processing\\basic_mne_functions.py:15: RuntimeWarning: Channels contain different lowpass filters. Lowest filter setting will be stored.\n",
      "  raw = mne.io.read_raw_edf(\n"
     ]
    },
    {
     "name": "stdout",
     "output_type": "stream",
     "text": [
      "First sleep starts at: 20640.0\n",
      "Last sleep ends at: 82320.0\n",
      "Cropping raw: 18840.0 - 83699.99\n",
      "Cropping finished.\n",
      "<RawEDF | SC4472F0-PSG.edf, 4 x 6486000 (64860.0 s), ~197.9 MiB, data loaded>\n",
      "Total amount of sleep stages in list: 64860\n",
      "Amount of data in cropped_raw; 6486000\n",
      "Extracting EDF parameters from C:\\Users\\andri\\school\\bio-informatics\\internship\\donders\\data\\human_test_data\\input\\raw_input\\SC4481F0-PSG.edf...\n",
      "EDF file detected\n",
      "Channel 'EEG Fpz-Cz' recognized as type EEG (renamed to 'Fpz-Cz').\n",
      "Channel 'EEG Pz-Oz' recognized as type EEG (renamed to 'Pz-Oz').\n",
      "Channel 'EOG horizontal' recognized as type EOG (renamed to 'horizontal').\n",
      "Channel 'Resp oro-nasal' recognized as type RESP (renamed to 'oro-nasal').\n",
      "Channel 'EMG submental' recognized as type EMG (renamed to 'submental').\n",
      "Channel 'Temp rectal' recognized as type TEMP (renamed to 'rectal').\n",
      "Setting channel info structure...\n",
      "Creating raw.info structure...\n",
      "Reading 0 ... 8639999  =      0.000 ... 86399.990 secs...\n"
     ]
    },
    {
     "name": "stderr",
     "output_type": "stream",
     "text": [
      "c:\\Users\\andri\\school\\bio-informatics\\internship\\donders\\vsc\\Human_SleepSCoring\\DilonAndriesse\\pre_processing\\basic_mne_functions.py:15: RuntimeWarning: Channels contain different highpass filters. Highest filter setting will be stored.\n",
      "  raw = mne.io.read_raw_edf(\n",
      "c:\\Users\\andri\\school\\bio-informatics\\internship\\donders\\vsc\\Human_SleepSCoring\\DilonAndriesse\\pre_processing\\basic_mne_functions.py:15: RuntimeWarning: Channels contain different lowpass filters. Lowest filter setting will be stored.\n",
      "  raw = mne.io.read_raw_edf(\n"
     ]
    },
    {
     "name": "stdout",
     "output_type": "stream",
     "text": [
      "First sleep starts at: 27390.0\n",
      "Last sleep ends at: 85980.0\n",
      "Cropping raw: 25590.0 - 86399.99\n",
      "Cropping finished.\n",
      "<RawEDF | SC4481F0-PSG.edf, 4 x 6081000 (60810.0 s), ~185.6 MiB, data loaded>\n",
      "Total amount of sleep stages in list: 60810\n",
      "Amount of data in cropped_raw; 6081000\n",
      "Extracting EDF parameters from C:\\Users\\andri\\school\\bio-informatics\\internship\\donders\\data\\human_test_data\\input\\raw_input\\SC4482F0-PSG.edf...\n",
      "EDF file detected\n",
      "Channel 'EEG Fpz-Cz' recognized as type EEG (renamed to 'Fpz-Cz').\n",
      "Channel 'EEG Pz-Oz' recognized as type EEG (renamed to 'Pz-Oz').\n",
      "Channel 'EOG horizontal' recognized as type EOG (renamed to 'horizontal').\n",
      "Channel 'Resp oro-nasal' recognized as type RESP (renamed to 'oro-nasal').\n",
      "Channel 'EMG submental' recognized as type EMG (renamed to 'submental').\n",
      "Channel 'Temp rectal' recognized as type TEMP (renamed to 'rectal').\n",
      "Setting channel info structure...\n",
      "Creating raw.info structure...\n",
      "Reading 0 ... 8639999  =      0.000 ... 86399.990 secs...\n"
     ]
    },
    {
     "name": "stderr",
     "output_type": "stream",
     "text": [
      "c:\\Users\\andri\\school\\bio-informatics\\internship\\donders\\vsc\\Human_SleepSCoring\\DilonAndriesse\\pre_processing\\basic_mne_functions.py:15: RuntimeWarning: Channels contain different highpass filters. Highest filter setting will be stored.\n",
      "  raw = mne.io.read_raw_edf(\n",
      "c:\\Users\\andri\\school\\bio-informatics\\internship\\donders\\vsc\\Human_SleepSCoring\\DilonAndriesse\\pre_processing\\basic_mne_functions.py:15: RuntimeWarning: Channels contain different lowpass filters. Lowest filter setting will be stored.\n",
      "  raw = mne.io.read_raw_edf(\n"
     ]
    },
    {
     "name": "stdout",
     "output_type": "stream",
     "text": [
      "First sleep starts at: 29100.0\n",
      "Last sleep ends at: 82800.0\n",
      "Cropping raw: 27300.0 - 84600.0\n",
      "Cropping finished.\n",
      "<RawEDF | SC4482F0-PSG.edf, 4 x 5730001 (57300.0 s), ~174.9 MiB, data loaded>\n",
      "Total amount of sleep stages in list: 57300\n",
      "Amount of data in cropped_raw; 5730001\n",
      "Extracting EDF parameters from C:\\Users\\andri\\school\\bio-informatics\\internship\\donders\\data\\human_test_data\\input\\raw_input\\SC4491G0-PSG.edf...\n",
      "EDF file detected\n",
      "Channel 'EEG Fpz-Cz' recognized as type EEG (renamed to 'Fpz-Cz').\n",
      "Channel 'EEG Pz-Oz' recognized as type EEG (renamed to 'Pz-Oz').\n",
      "Channel 'EOG horizontal' recognized as type EOG (renamed to 'horizontal').\n",
      "Channel 'Resp oro-nasal' recognized as type RESP (renamed to 'oro-nasal').\n",
      "Channel 'EMG submental' recognized as type EMG (renamed to 'submental').\n",
      "Channel 'Temp rectal' recognized as type TEMP (renamed to 'rectal').\n",
      "Setting channel info structure...\n",
      "Creating raw.info structure...\n",
      "Reading 0 ... 8399999  =      0.000 ... 83999.990 secs...\n"
     ]
    },
    {
     "name": "stderr",
     "output_type": "stream",
     "text": [
      "c:\\Users\\andri\\school\\bio-informatics\\internship\\donders\\vsc\\Human_SleepSCoring\\DilonAndriesse\\pre_processing\\basic_mne_functions.py:15: RuntimeWarning: Channels contain different highpass filters. Highest filter setting will be stored.\n",
      "  raw = mne.io.read_raw_edf(\n",
      "c:\\Users\\andri\\school\\bio-informatics\\internship\\donders\\vsc\\Human_SleepSCoring\\DilonAndriesse\\pre_processing\\basic_mne_functions.py:15: RuntimeWarning: Channels contain different lowpass filters. Lowest filter setting will be stored.\n",
      "  raw = mne.io.read_raw_edf(\n"
     ]
    },
    {
     "name": "stdout",
     "output_type": "stream",
     "text": [
      "First sleep starts at: 29760.0\n",
      "Last sleep ends at: 59190.0\n",
      "Cropping raw: 27960.0 - 60990.0\n",
      "Cropping finished.\n",
      "<RawEDF | SC4491G0-PSG.edf, 4 x 3303001 (33030.0 s), ~100.8 MiB, data loaded>\n",
      "Total amount of sleep stages in list: 33030\n",
      "Amount of data in cropped_raw; 3303001\n",
      "Extracting EDF parameters from C:\\Users\\andri\\school\\bio-informatics\\internship\\donders\\data\\human_test_data\\input\\raw_input\\SC4492G0-PSG.edf...\n",
      "EDF file detected\n",
      "Channel 'EEG Fpz-Cz' recognized as type EEG (renamed to 'Fpz-Cz').\n",
      "Channel 'EEG Pz-Oz' recognized as type EEG (renamed to 'Pz-Oz').\n",
      "Channel 'EOG horizontal' recognized as type EOG (renamed to 'horizontal').\n",
      "Channel 'Resp oro-nasal' recognized as type RESP (renamed to 'oro-nasal').\n",
      "Channel 'EMG submental' recognized as type EMG (renamed to 'submental').\n",
      "Channel 'Temp rectal' recognized as type TEMP (renamed to 'rectal').\n",
      "Setting channel info structure...\n",
      "Creating raw.info structure...\n",
      "Reading 0 ... 6407999  =      0.000 ... 64079.990 secs...\n"
     ]
    },
    {
     "name": "stderr",
     "output_type": "stream",
     "text": [
      "c:\\Users\\andri\\school\\bio-informatics\\internship\\donders\\vsc\\Human_SleepSCoring\\DilonAndriesse\\pre_processing\\basic_mne_functions.py:15: RuntimeWarning: Channels contain different highpass filters. Highest filter setting will be stored.\n",
      "  raw = mne.io.read_raw_edf(\n",
      "c:\\Users\\andri\\school\\bio-informatics\\internship\\donders\\vsc\\Human_SleepSCoring\\DilonAndriesse\\pre_processing\\basic_mne_functions.py:15: RuntimeWarning: Channels contain different lowpass filters. Lowest filter setting will be stored.\n",
      "  raw = mne.io.read_raw_edf(\n"
     ]
    },
    {
     "name": "stdout",
     "output_type": "stream",
     "text": [
      "First sleep starts at: 33780.0\n",
      "Last sleep ends at: 61410.0\n",
      "Cropping raw: 31980.0 - 63210.0\n",
      "Cropping finished.\n",
      "<RawEDF | SC4492G0-PSG.edf, 4 x 3123001 (31230.0 s), ~95.3 MiB, data loaded>\n",
      "Total amount of sleep stages in list: 31230\n",
      "Amount of data in cropped_raw; 3123001\n",
      "Extracting EDF parameters from C:\\Users\\andri\\school\\bio-informatics\\internship\\donders\\data\\human_test_data\\input\\raw_input\\SC4501E0-PSG.edf...\n",
      "EDF file detected\n",
      "Channel 'EEG Fpz-Cz' recognized as type EEG (renamed to 'Fpz-Cz').\n",
      "Channel 'EEG Pz-Oz' recognized as type EEG (renamed to 'Pz-Oz').\n",
      "Channel 'EOG horizontal' recognized as type EOG (renamed to 'horizontal').\n",
      "Channel 'Resp oro-nasal' recognized as type RESP (renamed to 'oro-nasal').\n",
      "Channel 'EMG submental' recognized as type EMG (renamed to 'submental').\n",
      "Channel 'Temp rectal' recognized as type TEMP (renamed to 'rectal').\n",
      "Setting channel info structure...\n",
      "Creating raw.info structure...\n",
      "Reading 0 ... 8249999  =      0.000 ... 82499.990 secs...\n"
     ]
    },
    {
     "name": "stderr",
     "output_type": "stream",
     "text": [
      "c:\\Users\\andri\\school\\bio-informatics\\internship\\donders\\vsc\\Human_SleepSCoring\\DilonAndriesse\\pre_processing\\basic_mne_functions.py:15: RuntimeWarning: Channels contain different highpass filters. Highest filter setting will be stored.\n",
      "  raw = mne.io.read_raw_edf(\n",
      "c:\\Users\\andri\\school\\bio-informatics\\internship\\donders\\vsc\\Human_SleepSCoring\\DilonAndriesse\\pre_processing\\basic_mne_functions.py:15: RuntimeWarning: Channels contain different lowpass filters. Lowest filter setting will be stored.\n",
      "  raw = mne.io.read_raw_edf(\n"
     ]
    },
    {
     "name": "stdout",
     "output_type": "stream",
     "text": [
      "First sleep starts at: 22740.0\n",
      "Last sleep ends at: 58920.0\n",
      "Cropping raw: 20940.0 - 60720.0\n",
      "Cropping finished.\n",
      "<RawEDF | SC4501E0-PSG.edf, 4 x 3978001 (39780.0 s), ~121.4 MiB, data loaded>\n",
      "Total amount of sleep stages in list: 39780\n",
      "Amount of data in cropped_raw; 3978001\n",
      "Extracting EDF parameters from C:\\Users\\andri\\school\\bio-informatics\\internship\\donders\\data\\human_test_data\\input\\raw_input\\SC4502E0-PSG.edf...\n",
      "EDF file detected\n",
      "Channel 'EEG Fpz-Cz' recognized as type EEG (renamed to 'Fpz-Cz').\n",
      "Channel 'EEG Pz-Oz' recognized as type EEG (renamed to 'Pz-Oz').\n",
      "Channel 'EOG horizontal' recognized as type EOG (renamed to 'horizontal').\n",
      "Channel 'Resp oro-nasal' recognized as type RESP (renamed to 'oro-nasal').\n",
      "Channel 'EMG submental' recognized as type EMG (renamed to 'submental').\n",
      "Channel 'Temp rectal' recognized as type TEMP (renamed to 'rectal').\n",
      "Setting channel info structure...\n",
      "Creating raw.info structure...\n",
      "Reading 0 ... 8309999  =      0.000 ... 83099.990 secs...\n"
     ]
    },
    {
     "name": "stderr",
     "output_type": "stream",
     "text": [
      "c:\\Users\\andri\\school\\bio-informatics\\internship\\donders\\vsc\\Human_SleepSCoring\\DilonAndriesse\\pre_processing\\basic_mne_functions.py:15: RuntimeWarning: Channels contain different highpass filters. Highest filter setting will be stored.\n",
      "  raw = mne.io.read_raw_edf(\n",
      "c:\\Users\\andri\\school\\bio-informatics\\internship\\donders\\vsc\\Human_SleepSCoring\\DilonAndriesse\\pre_processing\\basic_mne_functions.py:15: RuntimeWarning: Channels contain different lowpass filters. Lowest filter setting will be stored.\n",
      "  raw = mne.io.read_raw_edf(\n"
     ]
    },
    {
     "name": "stdout",
     "output_type": "stream",
     "text": [
      "First sleep starts at: 28770.0\n",
      "Last sleep ends at: 58260.0\n",
      "Cropping raw: 26970.0 - 60060.0\n",
      "Cropping finished.\n",
      "<RawEDF | SC4502E0-PSG.edf, 4 x 3309001 (33090.0 s), ~101.0 MiB, data loaded>\n",
      "Total amount of sleep stages in list: 33090\n",
      "Amount of data in cropped_raw; 3309001\n",
      "Extracting EDF parameters from C:\\Users\\andri\\school\\bio-informatics\\internship\\donders\\data\\human_test_data\\input\\raw_input\\SC4511E0-PSG.edf...\n",
      "EDF file detected\n",
      "Channel 'EEG Fpz-Cz' recognized as type EEG (renamed to 'Fpz-Cz').\n",
      "Channel 'EEG Pz-Oz' recognized as type EEG (renamed to 'Pz-Oz').\n",
      "Channel 'EOG horizontal' recognized as type EOG (renamed to 'horizontal').\n",
      "Channel 'Resp oro-nasal' recognized as type RESP (renamed to 'oro-nasal').\n",
      "Channel 'EMG submental' recognized as type EMG (renamed to 'submental').\n",
      "Channel 'Temp rectal' recognized as type TEMP (renamed to 'rectal').\n",
      "Setting channel info structure...\n",
      "Creating raw.info structure...\n",
      "Reading 0 ... 8135999  =      0.000 ... 81359.990 secs...\n"
     ]
    },
    {
     "name": "stderr",
     "output_type": "stream",
     "text": [
      "c:\\Users\\andri\\school\\bio-informatics\\internship\\donders\\vsc\\Human_SleepSCoring\\DilonAndriesse\\pre_processing\\basic_mne_functions.py:15: RuntimeWarning: Channels contain different highpass filters. Highest filter setting will be stored.\n",
      "  raw = mne.io.read_raw_edf(\n",
      "c:\\Users\\andri\\school\\bio-informatics\\internship\\donders\\vsc\\Human_SleepSCoring\\DilonAndriesse\\pre_processing\\basic_mne_functions.py:15: RuntimeWarning: Channels contain different lowpass filters. Lowest filter setting will be stored.\n",
      "  raw = mne.io.read_raw_edf(\n"
     ]
    },
    {
     "name": "stdout",
     "output_type": "stream",
     "text": [
      "First sleep starts at: 24960.0\n",
      "Last sleep ends at: 53970.0\n",
      "Cropping raw: 23160.0 - 55770.0\n",
      "Cropping finished.\n",
      "<RawEDF | SC4511E0-PSG.edf, 4 x 3261001 (32610.0 s), ~99.5 MiB, data loaded>\n",
      "Total amount of sleep stages in list: 32610\n",
      "Amount of data in cropped_raw; 3261001\n",
      "Extracting EDF parameters from C:\\Users\\andri\\school\\bio-informatics\\internship\\donders\\data\\human_test_data\\input\\raw_input\\SC4512E0-PSG.edf...\n",
      "EDF file detected\n",
      "Channel 'EEG Fpz-Cz' recognized as type EEG (renamed to 'Fpz-Cz').\n",
      "Channel 'EEG Pz-Oz' recognized as type EEG (renamed to 'Pz-Oz').\n",
      "Channel 'EOG horizontal' recognized as type EOG (renamed to 'horizontal').\n",
      "Channel 'Resp oro-nasal' recognized as type RESP (renamed to 'oro-nasal').\n",
      "Channel 'EMG submental' recognized as type EMG (renamed to 'submental').\n",
      "Channel 'Temp rectal' recognized as type TEMP (renamed to 'rectal').\n",
      "Setting channel info structure...\n",
      "Creating raw.info structure...\n",
      "Reading 0 ... 8249999  =      0.000 ... 82499.990 secs...\n"
     ]
    },
    {
     "name": "stderr",
     "output_type": "stream",
     "text": [
      "c:\\Users\\andri\\school\\bio-informatics\\internship\\donders\\vsc\\Human_SleepSCoring\\DilonAndriesse\\pre_processing\\basic_mne_functions.py:15: RuntimeWarning: Channels contain different highpass filters. Highest filter setting will be stored.\n",
      "  raw = mne.io.read_raw_edf(\n",
      "c:\\Users\\andri\\school\\bio-informatics\\internship\\donders\\vsc\\Human_SleepSCoring\\DilonAndriesse\\pre_processing\\basic_mne_functions.py:15: RuntimeWarning: Channels contain different lowpass filters. Lowest filter setting will be stored.\n",
      "  raw = mne.io.read_raw_edf(\n"
     ]
    },
    {
     "name": "stdout",
     "output_type": "stream",
     "text": [
      "First sleep starts at: 31020.0\n",
      "Last sleep ends at: 56040.0\n",
      "Cropping raw: 29220.0 - 57840.0\n",
      "Cropping finished.\n",
      "<RawEDF | SC4512E0-PSG.edf, 4 x 2862001 (28620.0 s), ~87.3 MiB, data loaded>\n",
      "Total amount of sleep stages in list: 28620\n",
      "Amount of data in cropped_raw; 2862001\n",
      "Extracting EDF parameters from C:\\Users\\andri\\school\\bio-informatics\\internship\\donders\\data\\human_test_data\\input\\raw_input\\SC4522E0-PSG.edf...\n",
      "EDF file detected\n",
      "Channel 'EEG Fpz-Cz' recognized as type EEG (renamed to 'Fpz-Cz').\n",
      "Channel 'EEG Pz-Oz' recognized as type EEG (renamed to 'Pz-Oz').\n",
      "Channel 'EOG horizontal' recognized as type EOG (renamed to 'horizontal').\n",
      "Channel 'Resp oro-nasal' recognized as type RESP (renamed to 'oro-nasal').\n",
      "Channel 'EMG submental' recognized as type EMG (renamed to 'submental').\n",
      "Channel 'Temp rectal' recognized as type TEMP (renamed to 'rectal').\n",
      "Setting channel info structure...\n",
      "Creating raw.info structure...\n",
      "Reading 0 ... 8321999  =      0.000 ... 83219.990 secs...\n"
     ]
    },
    {
     "name": "stderr",
     "output_type": "stream",
     "text": [
      "c:\\Users\\andri\\school\\bio-informatics\\internship\\donders\\vsc\\Human_SleepSCoring\\DilonAndriesse\\pre_processing\\basic_mne_functions.py:15: RuntimeWarning: Channels contain different highpass filters. Highest filter setting will be stored.\n",
      "  raw = mne.io.read_raw_edf(\n",
      "c:\\Users\\andri\\school\\bio-informatics\\internship\\donders\\vsc\\Human_SleepSCoring\\DilonAndriesse\\pre_processing\\basic_mne_functions.py:15: RuntimeWarning: Channels contain different lowpass filters. Lowest filter setting will be stored.\n",
      "  raw = mne.io.read_raw_edf(\n"
     ]
    },
    {
     "name": "stdout",
     "output_type": "stream",
     "text": [
      "First sleep starts at: 32040.0\n",
      "Last sleep ends at: 58350.0\n",
      "Cropping raw: 30240.0 - 60150.0\n",
      "Cropping finished.\n",
      "<RawEDF | SC4522E0-PSG.edf, 4 x 2991001 (29910.0 s), ~91.3 MiB, data loaded>\n",
      "Total amount of sleep stages in list: 29910\n",
      "Amount of data in cropped_raw; 2991001\n",
      "Extracting EDF parameters from C:\\Users\\andri\\school\\bio-informatics\\internship\\donders\\data\\human_test_data\\input\\raw_input\\SC4531E0-PSG.edf...\n",
      "EDF file detected\n",
      "Channel 'EEG Fpz-Cz' recognized as type EEG (renamed to 'Fpz-Cz').\n",
      "Channel 'EEG Pz-Oz' recognized as type EEG (renamed to 'Pz-Oz').\n",
      "Channel 'EOG horizontal' recognized as type EOG (renamed to 'horizontal').\n",
      "Channel 'Resp oro-nasal' recognized as type RESP (renamed to 'oro-nasal').\n",
      "Channel 'EMG submental' recognized as type EMG (renamed to 'submental').\n",
      "Channel 'Temp rectal' recognized as type TEMP (renamed to 'rectal').\n",
      "Setting channel info structure...\n",
      "Creating raw.info structure...\n",
      "Reading 0 ... 7805999  =      0.000 ... 78059.990 secs...\n"
     ]
    },
    {
     "name": "stderr",
     "output_type": "stream",
     "text": [
      "c:\\Users\\andri\\school\\bio-informatics\\internship\\donders\\vsc\\Human_SleepSCoring\\DilonAndriesse\\pre_processing\\basic_mne_functions.py:15: RuntimeWarning: Channels contain different highpass filters. Highest filter setting will be stored.\n",
      "  raw = mne.io.read_raw_edf(\n",
      "c:\\Users\\andri\\school\\bio-informatics\\internship\\donders\\vsc\\Human_SleepSCoring\\DilonAndriesse\\pre_processing\\basic_mne_functions.py:15: RuntimeWarning: Channels contain different lowpass filters. Lowest filter setting will be stored.\n",
      "  raw = mne.io.read_raw_edf(\n"
     ]
    },
    {
     "name": "stdout",
     "output_type": "stream",
     "text": [
      "First sleep starts at: 26190.0\n",
      "Last sleep ends at: 55470.0\n",
      "Cropping raw: 24390.0 - 57270.0\n",
      "Cropping finished.\n",
      "<RawEDF | SC4531E0-PSG.edf, 4 x 3288001 (32880.0 s), ~100.4 MiB, data loaded>\n",
      "Total amount of sleep stages in list: 32880\n",
      "Amount of data in cropped_raw; 3288001\n",
      "Extracting EDF parameters from C:\\Users\\andri\\school\\bio-informatics\\internship\\donders\\data\\human_test_data\\input\\raw_input\\SC4532E0-PSG.edf...\n",
      "EDF file detected\n",
      "Channel 'EEG Fpz-Cz' recognized as type EEG (renamed to 'Fpz-Cz').\n",
      "Channel 'EEG Pz-Oz' recognized as type EEG (renamed to 'Pz-Oz').\n",
      "Channel 'EOG horizontal' recognized as type EOG (renamed to 'horizontal').\n",
      "Channel 'Resp oro-nasal' recognized as type RESP (renamed to 'oro-nasal').\n",
      "Channel 'EMG submental' recognized as type EMG (renamed to 'submental').\n",
      "Channel 'Temp rectal' recognized as type TEMP (renamed to 'rectal').\n",
      "Setting channel info structure...\n",
      "Creating raw.info structure...\n",
      "Reading 0 ... 8231999  =      0.000 ... 82319.990 secs...\n"
     ]
    },
    {
     "name": "stderr",
     "output_type": "stream",
     "text": [
      "c:\\Users\\andri\\school\\bio-informatics\\internship\\donders\\vsc\\Human_SleepSCoring\\DilonAndriesse\\pre_processing\\basic_mne_functions.py:15: RuntimeWarning: Channels contain different highpass filters. Highest filter setting will be stored.\n",
      "  raw = mne.io.read_raw_edf(\n",
      "c:\\Users\\andri\\school\\bio-informatics\\internship\\donders\\vsc\\Human_SleepSCoring\\DilonAndriesse\\pre_processing\\basic_mne_functions.py:15: RuntimeWarning: Channels contain different lowpass filters. Lowest filter setting will be stored.\n",
      "  raw = mne.io.read_raw_edf(\n"
     ]
    },
    {
     "name": "stdout",
     "output_type": "stream",
     "text": [
      "First sleep starts at: 32280.0\n",
      "Last sleep ends at: 60360.0\n",
      "Cropping raw: 30480.0 - 62160.0\n",
      "Cropping finished.\n",
      "<RawEDF | SC4532E0-PSG.edf, 4 x 3168001 (31680.0 s), ~96.7 MiB, data loaded>\n",
      "Total amount of sleep stages in list: 31680\n",
      "Amount of data in cropped_raw; 3168001\n",
      "Extracting EDF parameters from C:\\Users\\andri\\school\\bio-informatics\\internship\\donders\\data\\human_test_data\\input\\raw_input\\SC4541F0-PSG.edf...\n",
      "EDF file detected\n",
      "Channel 'EEG Fpz-Cz' recognized as type EEG (renamed to 'Fpz-Cz').\n",
      "Channel 'EEG Pz-Oz' recognized as type EEG (renamed to 'Pz-Oz').\n",
      "Channel 'EOG horizontal' recognized as type EOG (renamed to 'horizontal').\n",
      "Channel 'Resp oro-nasal' recognized as type RESP (renamed to 'oro-nasal').\n",
      "Channel 'EMG submental' recognized as type EMG (renamed to 'submental').\n",
      "Channel 'Temp rectal' recognized as type TEMP (renamed to 'rectal').\n",
      "Setting channel info structure...\n",
      "Creating raw.info structure...\n",
      "Reading 0 ... 8219999  =      0.000 ... 82199.990 secs...\n"
     ]
    },
    {
     "name": "stderr",
     "output_type": "stream",
     "text": [
      "c:\\Users\\andri\\school\\bio-informatics\\internship\\donders\\vsc\\Human_SleepSCoring\\DilonAndriesse\\pre_processing\\basic_mne_functions.py:15: RuntimeWarning: Channels contain different highpass filters. Highest filter setting will be stored.\n",
      "  raw = mne.io.read_raw_edf(\n",
      "c:\\Users\\andri\\school\\bio-informatics\\internship\\donders\\vsc\\Human_SleepSCoring\\DilonAndriesse\\pre_processing\\basic_mne_functions.py:15: RuntimeWarning: Channels contain different lowpass filters. Lowest filter setting will be stored.\n",
      "  raw = mne.io.read_raw_edf(\n"
     ]
    },
    {
     "name": "stdout",
     "output_type": "stream",
     "text": [
      "First sleep starts at: 15990.0\n",
      "Last sleep ends at: 63900.0\n",
      "Cropping raw: 14190.0 - 65700.0\n",
      "Cropping finished.\n",
      "<RawEDF | SC4541F0-PSG.edf, 4 x 5151001 (51510.0 s), ~157.2 MiB, data loaded>\n",
      "Total amount of sleep stages in list: 51510\n",
      "Amount of data in cropped_raw; 5151001\n",
      "Extracting EDF parameters from C:\\Users\\andri\\school\\bio-informatics\\internship\\donders\\data\\human_test_data\\input\\raw_input\\SC4542F0-PSG.edf...\n",
      "EDF file detected\n",
      "Channel 'EEG Fpz-Cz' recognized as type EEG (renamed to 'Fpz-Cz').\n",
      "Channel 'EEG Pz-Oz' recognized as type EEG (renamed to 'Pz-Oz').\n",
      "Channel 'EOG horizontal' recognized as type EOG (renamed to 'horizontal').\n",
      "Channel 'Resp oro-nasal' recognized as type RESP (renamed to 'oro-nasal').\n",
      "Channel 'EMG submental' recognized as type EMG (renamed to 'submental').\n",
      "Channel 'Temp rectal' recognized as type TEMP (renamed to 'rectal').\n",
      "Setting channel info structure...\n",
      "Creating raw.info structure...\n",
      "Reading 0 ... 8039999  =      0.000 ... 80399.990 secs...\n"
     ]
    },
    {
     "name": "stderr",
     "output_type": "stream",
     "text": [
      "c:\\Users\\andri\\school\\bio-informatics\\internship\\donders\\vsc\\Human_SleepSCoring\\DilonAndriesse\\pre_processing\\basic_mne_functions.py:15: RuntimeWarning: Channels contain different highpass filters. Highest filter setting will be stored.\n",
      "  raw = mne.io.read_raw_edf(\n",
      "c:\\Users\\andri\\school\\bio-informatics\\internship\\donders\\vsc\\Human_SleepSCoring\\DilonAndriesse\\pre_processing\\basic_mne_functions.py:15: RuntimeWarning: Channels contain different lowpass filters. Lowest filter setting will be stored.\n",
      "  raw = mne.io.read_raw_edf(\n"
     ]
    },
    {
     "name": "stdout",
     "output_type": "stream",
     "text": [
      "First sleep starts at: 36360.0\n",
      "Last sleep ends at: 67200.0\n",
      "Cropping raw: 34560.0 - 69000.0\n",
      "Cropping finished.\n",
      "<RawEDF | SC4542F0-PSG.edf, 4 x 3444001 (34440.0 s), ~105.1 MiB, data loaded>\n",
      "Total amount of sleep stages in list: 34440\n",
      "Amount of data in cropped_raw; 3444001\n",
      "Extracting EDF parameters from C:\\Users\\andri\\school\\bio-informatics\\internship\\donders\\data\\human_test_data\\input\\raw_input\\SC4551F0-PSG.edf...\n",
      "EDF file detected\n",
      "Channel 'EEG Fpz-Cz' recognized as type EEG (renamed to 'Fpz-Cz').\n",
      "Channel 'EEG Pz-Oz' recognized as type EEG (renamed to 'Pz-Oz').\n",
      "Channel 'EOG horizontal' recognized as type EOG (renamed to 'horizontal').\n",
      "Channel 'Resp oro-nasal' recognized as type RESP (renamed to 'oro-nasal').\n",
      "Channel 'EMG submental' recognized as type EMG (renamed to 'submental').\n",
      "Channel 'Temp rectal' recognized as type TEMP (renamed to 'rectal').\n",
      "Setting channel info structure...\n",
      "Creating raw.info structure...\n",
      "Reading 0 ... 8315999  =      0.000 ... 83159.990 secs...\n"
     ]
    },
    {
     "name": "stderr",
     "output_type": "stream",
     "text": [
      "c:\\Users\\andri\\school\\bio-informatics\\internship\\donders\\vsc\\Human_SleepSCoring\\DilonAndriesse\\pre_processing\\basic_mne_functions.py:15: RuntimeWarning: Channels contain different highpass filters. Highest filter setting will be stored.\n",
      "  raw = mne.io.read_raw_edf(\n",
      "c:\\Users\\andri\\school\\bio-informatics\\internship\\donders\\vsc\\Human_SleepSCoring\\DilonAndriesse\\pre_processing\\basic_mne_functions.py:15: RuntimeWarning: Channels contain different lowpass filters. Lowest filter setting will be stored.\n",
      "  raw = mne.io.read_raw_edf(\n"
     ]
    },
    {
     "name": "stdout",
     "output_type": "stream",
     "text": [
      "First sleep starts at: 27240.0\n",
      "Last sleep ends at: 55050.0\n",
      "Cropping raw: 25440.0 - 56850.0\n",
      "Cropping finished.\n",
      "<RawEDF | SC4551F0-PSG.edf, 4 x 3141001 (31410.0 s), ~95.9 MiB, data loaded>\n",
      "Total amount of sleep stages in list: 31410\n",
      "Amount of data in cropped_raw; 3141001\n",
      "Extracting EDF parameters from C:\\Users\\andri\\school\\bio-informatics\\internship\\donders\\data\\human_test_data\\input\\raw_input\\SC4552F0-PSG.edf...\n",
      "EDF file detected\n",
      "Channel 'EEG Fpz-Cz' recognized as type EEG (renamed to 'Fpz-Cz').\n",
      "Channel 'EEG Pz-Oz' recognized as type EEG (renamed to 'Pz-Oz').\n",
      "Channel 'EOG horizontal' recognized as type EOG (renamed to 'horizontal').\n",
      "Channel 'Resp oro-nasal' recognized as type RESP (renamed to 'oro-nasal').\n",
      "Channel 'EMG submental' recognized as type EMG (renamed to 'submental').\n",
      "Channel 'Temp rectal' recognized as type TEMP (renamed to 'rectal').\n",
      "Setting channel info structure...\n",
      "Creating raw.info structure...\n",
      "Reading 0 ... 8429999  =      0.000 ... 84299.990 secs...\n"
     ]
    },
    {
     "name": "stderr",
     "output_type": "stream",
     "text": [
      "c:\\Users\\andri\\school\\bio-informatics\\internship\\donders\\vsc\\Human_SleepSCoring\\DilonAndriesse\\pre_processing\\basic_mne_functions.py:15: RuntimeWarning: Channels contain different highpass filters. Highest filter setting will be stored.\n",
      "  raw = mne.io.read_raw_edf(\n",
      "c:\\Users\\andri\\school\\bio-informatics\\internship\\donders\\vsc\\Human_SleepSCoring\\DilonAndriesse\\pre_processing\\basic_mne_functions.py:15: RuntimeWarning: Channels contain different lowpass filters. Lowest filter setting will be stored.\n",
      "  raw = mne.io.read_raw_edf(\n"
     ]
    },
    {
     "name": "stdout",
     "output_type": "stream",
     "text": [
      "First sleep starts at: 24900.0\n",
      "Last sleep ends at: 54000.0\n",
      "Cropping raw: 23100.0 - 55800.0\n",
      "Cropping finished.\n",
      "<RawEDF | SC4552F0-PSG.edf, 4 x 3270001 (32700.0 s), ~99.8 MiB, data loaded>\n",
      "Total amount of sleep stages in list: 32700\n",
      "Amount of data in cropped_raw; 3270001\n",
      "Extracting EDF parameters from C:\\Users\\andri\\school\\bio-informatics\\internship\\donders\\data\\human_test_data\\input\\raw_input\\SC4561F0-PSG.edf...\n",
      "EDF file detected\n",
      "Channel 'EEG Fpz-Cz' recognized as type EEG (renamed to 'Fpz-Cz').\n",
      "Channel 'EEG Pz-Oz' recognized as type EEG (renamed to 'Pz-Oz').\n",
      "Channel 'EOG horizontal' recognized as type EOG (renamed to 'horizontal').\n",
      "Channel 'Resp oro-nasal' recognized as type RESP (renamed to 'oro-nasal').\n",
      "Channel 'EMG submental' recognized as type EMG (renamed to 'submental').\n",
      "Channel 'Temp rectal' recognized as type TEMP (renamed to 'rectal').\n",
      "Setting channel info structure...\n",
      "Creating raw.info structure...\n",
      "Reading 0 ... 8111999  =      0.000 ... 81119.990 secs...\n"
     ]
    },
    {
     "name": "stderr",
     "output_type": "stream",
     "text": [
      "c:\\Users\\andri\\school\\bio-informatics\\internship\\donders\\vsc\\Human_SleepSCoring\\DilonAndriesse\\pre_processing\\basic_mne_functions.py:15: RuntimeWarning: Channels contain different highpass filters. Highest filter setting will be stored.\n",
      "  raw = mne.io.read_raw_edf(\n",
      "c:\\Users\\andri\\school\\bio-informatics\\internship\\donders\\vsc\\Human_SleepSCoring\\DilonAndriesse\\pre_processing\\basic_mne_functions.py:15: RuntimeWarning: Channels contain different lowpass filters. Lowest filter setting will be stored.\n",
      "  raw = mne.io.read_raw_edf(\n"
     ]
    },
    {
     "name": "stdout",
     "output_type": "stream",
     "text": [
      "First sleep starts at: 27030.0\n",
      "Last sleep ends at: 60600.0\n",
      "Cropping raw: 25230.0 - 62400.0\n",
      "Cropping finished.\n",
      "<RawEDF | SC4561F0-PSG.edf, 4 x 3717001 (37170.0 s), ~113.4 MiB, data loaded>\n",
      "Total amount of sleep stages in list: 37170\n",
      "Amount of data in cropped_raw; 3717001\n",
      "Extracting EDF parameters from C:\\Users\\andri\\school\\bio-informatics\\internship\\donders\\data\\human_test_data\\input\\raw_input\\SC4562F0-PSG.edf...\n",
      "EDF file detected\n",
      "Channel 'EEG Fpz-Cz' recognized as type EEG (renamed to 'Fpz-Cz').\n",
      "Channel 'EEG Pz-Oz' recognized as type EEG (renamed to 'Pz-Oz').\n",
      "Channel 'EOG horizontal' recognized as type EOG (renamed to 'horizontal').\n",
      "Channel 'Resp oro-nasal' recognized as type RESP (renamed to 'oro-nasal').\n",
      "Channel 'EMG submental' recognized as type EMG (renamed to 'submental').\n",
      "Channel 'Temp rectal' recognized as type TEMP (renamed to 'rectal').\n",
      "Setting channel info structure...\n",
      "Creating raw.info structure...\n",
      "Reading 0 ... 8399999  =      0.000 ... 83999.990 secs...\n"
     ]
    },
    {
     "name": "stderr",
     "output_type": "stream",
     "text": [
      "c:\\Users\\andri\\school\\bio-informatics\\internship\\donders\\vsc\\Human_SleepSCoring\\DilonAndriesse\\pre_processing\\basic_mne_functions.py:15: RuntimeWarning: Channels contain different highpass filters. Highest filter setting will be stored.\n",
      "  raw = mne.io.read_raw_edf(\n",
      "c:\\Users\\andri\\school\\bio-informatics\\internship\\donders\\vsc\\Human_SleepSCoring\\DilonAndriesse\\pre_processing\\basic_mne_functions.py:15: RuntimeWarning: Channels contain different lowpass filters. Lowest filter setting will be stored.\n",
      "  raw = mne.io.read_raw_edf(\n"
     ]
    },
    {
     "name": "stdout",
     "output_type": "stream",
     "text": [
      "First sleep starts at: 30450.0\n",
      "Last sleep ends at: 61290.0\n",
      "Cropping raw: 28650.0 - 63090.0\n",
      "Cropping finished.\n",
      "<RawEDF | SC4562F0-PSG.edf, 4 x 3444001 (34440.0 s), ~105.1 MiB, data loaded>\n",
      "Total amount of sleep stages in list: 34440\n",
      "Amount of data in cropped_raw; 3444001\n",
      "Extracting EDF parameters from C:\\Users\\andri\\school\\bio-informatics\\internship\\donders\\data\\human_test_data\\input\\raw_input\\SC4571F0-PSG.edf...\n",
      "EDF file detected\n",
      "Channel 'EEG Fpz-Cz' recognized as type EEG (renamed to 'Fpz-Cz').\n",
      "Channel 'EEG Pz-Oz' recognized as type EEG (renamed to 'Pz-Oz').\n",
      "Channel 'EOG horizontal' recognized as type EOG (renamed to 'horizontal').\n",
      "Channel 'Resp oro-nasal' recognized as type RESP (renamed to 'oro-nasal').\n",
      "Channel 'EMG submental' recognized as type EMG (renamed to 'submental').\n",
      "Channel 'Temp rectal' recognized as type TEMP (renamed to 'rectal').\n",
      "Setting channel info structure...\n",
      "Creating raw.info structure...\n",
      "Reading 0 ... 8549999  =      0.000 ... 85499.990 secs...\n"
     ]
    },
    {
     "name": "stderr",
     "output_type": "stream",
     "text": [
      "c:\\Users\\andri\\school\\bio-informatics\\internship\\donders\\vsc\\Human_SleepSCoring\\DilonAndriesse\\pre_processing\\basic_mne_functions.py:15: RuntimeWarning: Channels contain different highpass filters. Highest filter setting will be stored.\n",
      "  raw = mne.io.read_raw_edf(\n",
      "c:\\Users\\andri\\school\\bio-informatics\\internship\\donders\\vsc\\Human_SleepSCoring\\DilonAndriesse\\pre_processing\\basic_mne_functions.py:15: RuntimeWarning: Channels contain different lowpass filters. Lowest filter setting will be stored.\n",
      "  raw = mne.io.read_raw_edf(\n"
     ]
    },
    {
     "name": "stdout",
     "output_type": "stream",
     "text": [
      "First sleep starts at: 27600.0\n",
      "Last sleep ends at: 61080.0\n",
      "Cropping raw: 25800.0 - 62880.0\n",
      "Cropping finished.\n",
      "<RawEDF | SC4571F0-PSG.edf, 4 x 3708001 (37080.0 s), ~113.2 MiB, data loaded>\n",
      "Total amount of sleep stages in list: 37080\n",
      "Amount of data in cropped_raw; 3708001\n",
      "Extracting EDF parameters from C:\\Users\\andri\\school\\bio-informatics\\internship\\donders\\data\\human_test_data\\input\\raw_input\\SC4572F0-PSG.edf...\n",
      "EDF file detected\n",
      "Channel 'EEG Fpz-Cz' recognized as type EEG (renamed to 'Fpz-Cz').\n",
      "Channel 'EEG Pz-Oz' recognized as type EEG (renamed to 'Pz-Oz').\n",
      "Channel 'EOG horizontal' recognized as type EOG (renamed to 'horizontal').\n",
      "Channel 'Resp oro-nasal' recognized as type RESP (renamed to 'oro-nasal').\n",
      "Channel 'EMG submental' recognized as type EMG (renamed to 'submental').\n",
      "Channel 'Temp rectal' recognized as type TEMP (renamed to 'rectal').\n",
      "Setting channel info structure...\n",
      "Creating raw.info structure...\n",
      "Reading 0 ... 8639999  =      0.000 ... 86399.990 secs...\n"
     ]
    },
    {
     "name": "stderr",
     "output_type": "stream",
     "text": [
      "c:\\Users\\andri\\school\\bio-informatics\\internship\\donders\\vsc\\Human_SleepSCoring\\DilonAndriesse\\pre_processing\\basic_mne_functions.py:15: RuntimeWarning: Channels contain different highpass filters. Highest filter setting will be stored.\n",
      "  raw = mne.io.read_raw_edf(\n",
      "c:\\Users\\andri\\school\\bio-informatics\\internship\\donders\\vsc\\Human_SleepSCoring\\DilonAndriesse\\pre_processing\\basic_mne_functions.py:15: RuntimeWarning: Channels contain different lowpass filters. Lowest filter setting will be stored.\n",
      "  raw = mne.io.read_raw_edf(\n"
     ]
    },
    {
     "name": "stdout",
     "output_type": "stream",
     "text": [
      "First sleep starts at: 30540.0\n",
      "Last sleep ends at: 60000.0\n",
      "Cropping raw: 28740.0 - 61800.0\n",
      "Cropping finished.\n",
      "<RawEDF | SC4572F0-PSG.edf, 4 x 3306001 (33060.0 s), ~100.9 MiB, data loaded>\n",
      "Total amount of sleep stages in list: 33060\n",
      "Amount of data in cropped_raw; 3306001\n",
      "Extracting EDF parameters from C:\\Users\\andri\\school\\bio-informatics\\internship\\donders\\data\\human_test_data\\input\\raw_input\\SC4581G0-PSG.edf...\n",
      "EDF file detected\n",
      "Channel 'EEG Fpz-Cz' recognized as type EEG (renamed to 'Fpz-Cz').\n",
      "Channel 'EEG Pz-Oz' recognized as type EEG (renamed to 'Pz-Oz').\n",
      "Channel 'EOG horizontal' recognized as type EOG (renamed to 'horizontal').\n",
      "Channel 'Resp oro-nasal' recognized as type RESP (renamed to 'oro-nasal').\n",
      "Channel 'EMG submental' recognized as type EMG (renamed to 'submental').\n",
      "Channel 'Temp rectal' recognized as type TEMP (renamed to 'rectal').\n",
      "Setting channel info structure...\n",
      "Creating raw.info structure...\n",
      "Reading 0 ... 8213999  =      0.000 ... 82139.990 secs...\n"
     ]
    },
    {
     "name": "stderr",
     "output_type": "stream",
     "text": [
      "c:\\Users\\andri\\school\\bio-informatics\\internship\\donders\\vsc\\Human_SleepSCoring\\DilonAndriesse\\pre_processing\\basic_mne_functions.py:15: RuntimeWarning: Channels contain different highpass filters. Highest filter setting will be stored.\n",
      "  raw = mne.io.read_raw_edf(\n",
      "c:\\Users\\andri\\school\\bio-informatics\\internship\\donders\\vsc\\Human_SleepSCoring\\DilonAndriesse\\pre_processing\\basic_mne_functions.py:15: RuntimeWarning: Channels contain different lowpass filters. Lowest filter setting will be stored.\n",
      "  raw = mne.io.read_raw_edf(\n"
     ]
    },
    {
     "name": "stdout",
     "output_type": "stream",
     "text": [
      "First sleep starts at: 26700.0\n",
      "Last sleep ends at: 55950.0\n",
      "Cropping raw: 24900.0 - 57750.0\n",
      "Cropping finished.\n",
      "<RawEDF | SC4581G0-PSG.edf, 4 x 3285001 (32850.0 s), ~100.3 MiB, data loaded>\n",
      "Total amount of sleep stages in list: 32850\n",
      "Amount of data in cropped_raw; 3285001\n",
      "Extracting EDF parameters from C:\\Users\\andri\\school\\bio-informatics\\internship\\donders\\data\\human_test_data\\input\\raw_input\\SC4582G0-PSG.edf...\n",
      "EDF file detected\n",
      "Channel 'EEG Fpz-Cz' recognized as type EEG (renamed to 'Fpz-Cz').\n",
      "Channel 'EEG Pz-Oz' recognized as type EEG (renamed to 'Pz-Oz').\n",
      "Channel 'EOG horizontal' recognized as type EOG (renamed to 'horizontal').\n",
      "Channel 'Resp oro-nasal' recognized as type RESP (renamed to 'oro-nasal').\n",
      "Channel 'EMG submental' recognized as type EMG (renamed to 'submental').\n",
      "Channel 'Temp rectal' recognized as type TEMP (renamed to 'rectal').\n",
      "Setting channel info structure...\n",
      "Creating raw.info structure...\n",
      "Reading 0 ... 7901999  =      0.000 ... 79019.990 secs...\n"
     ]
    },
    {
     "name": "stderr",
     "output_type": "stream",
     "text": [
      "c:\\Users\\andri\\school\\bio-informatics\\internship\\donders\\vsc\\Human_SleepSCoring\\DilonAndriesse\\pre_processing\\basic_mne_functions.py:15: RuntimeWarning: Channels contain different highpass filters. Highest filter setting will be stored.\n",
      "  raw = mne.io.read_raw_edf(\n",
      "c:\\Users\\andri\\school\\bio-informatics\\internship\\donders\\vsc\\Human_SleepSCoring\\DilonAndriesse\\pre_processing\\basic_mne_functions.py:15: RuntimeWarning: Channels contain different lowpass filters. Lowest filter setting will be stored.\n",
      "  raw = mne.io.read_raw_edf(\n"
     ]
    },
    {
     "name": "stdout",
     "output_type": "stream",
     "text": [
      "First sleep starts at: 29850.0\n",
      "Last sleep ends at: 61500.0\n",
      "Cropping raw: 28050.0 - 63300.0\n",
      "Cropping finished.\n",
      "<RawEDF | SC4582G0-PSG.edf, 4 x 3525001 (35250.0 s), ~107.6 MiB, data loaded>\n",
      "Total amount of sleep stages in list: 35250\n",
      "Amount of data in cropped_raw; 3525001\n",
      "Extracting EDF parameters from C:\\Users\\andri\\school\\bio-informatics\\internship\\donders\\data\\human_test_data\\input\\raw_input\\SC4591G0-PSG.edf...\n",
      "EDF file detected\n",
      "Channel 'EEG Fpz-Cz' recognized as type EEG (renamed to 'Fpz-Cz').\n",
      "Channel 'EEG Pz-Oz' recognized as type EEG (renamed to 'Pz-Oz').\n",
      "Channel 'EOG horizontal' recognized as type EOG (renamed to 'horizontal').\n",
      "Channel 'Resp oro-nasal' recognized as type RESP (renamed to 'oro-nasal').\n",
      "Channel 'EMG submental' recognized as type EMG (renamed to 'submental').\n",
      "Channel 'Temp rectal' recognized as type TEMP (renamed to 'rectal').\n",
      "Setting channel info structure...\n",
      "Creating raw.info structure...\n",
      "Reading 0 ... 8459999  =      0.000 ... 84599.990 secs...\n"
     ]
    },
    {
     "name": "stderr",
     "output_type": "stream",
     "text": [
      "c:\\Users\\andri\\school\\bio-informatics\\internship\\donders\\vsc\\Human_SleepSCoring\\DilonAndriesse\\pre_processing\\basic_mne_functions.py:15: RuntimeWarning: Channels contain different highpass filters. Highest filter setting will be stored.\n",
      "  raw = mne.io.read_raw_edf(\n",
      "c:\\Users\\andri\\school\\bio-informatics\\internship\\donders\\vsc\\Human_SleepSCoring\\DilonAndriesse\\pre_processing\\basic_mne_functions.py:15: RuntimeWarning: Channels contain different lowpass filters. Lowest filter setting will be stored.\n",
      "  raw = mne.io.read_raw_edf(\n"
     ]
    },
    {
     "name": "stdout",
     "output_type": "stream",
     "text": [
      "First sleep starts at: 29160.0\n",
      "Last sleep ends at: 80790.0\n",
      "Cropping raw: 27360.0 - 82590.0\n",
      "Cropping finished.\n",
      "<RawEDF | SC4591G0-PSG.edf, 4 x 5523001 (55230.0 s), ~168.6 MiB, data loaded>\n",
      "Total amount of sleep stages in list: 55230\n",
      "Amount of data in cropped_raw; 5523001\n",
      "Extracting EDF parameters from C:\\Users\\andri\\school\\bio-informatics\\internship\\donders\\data\\human_test_data\\input\\raw_input\\SC4592G0-PSG.edf...\n",
      "EDF file detected\n",
      "Channel 'EEG Fpz-Cz' recognized as type EEG (renamed to 'Fpz-Cz').\n",
      "Channel 'EEG Pz-Oz' recognized as type EEG (renamed to 'Pz-Oz').\n",
      "Channel 'EOG horizontal' recognized as type EOG (renamed to 'horizontal').\n",
      "Channel 'Resp oro-nasal' recognized as type RESP (renamed to 'oro-nasal').\n",
      "Channel 'EMG submental' recognized as type EMG (renamed to 'submental').\n",
      "Channel 'Temp rectal' recognized as type TEMP (renamed to 'rectal').\n",
      "Setting channel info structure...\n",
      "Creating raw.info structure...\n",
      "Reading 0 ... 6119999  =      0.000 ... 61199.990 secs...\n"
     ]
    },
    {
     "name": "stderr",
     "output_type": "stream",
     "text": [
      "c:\\Users\\andri\\school\\bio-informatics\\internship\\donders\\vsc\\Human_SleepSCoring\\DilonAndriesse\\pre_processing\\basic_mne_functions.py:15: RuntimeWarning: Channels contain different highpass filters. Highest filter setting will be stored.\n",
      "  raw = mne.io.read_raw_edf(\n",
      "c:\\Users\\andri\\school\\bio-informatics\\internship\\donders\\vsc\\Human_SleepSCoring\\DilonAndriesse\\pre_processing\\basic_mne_functions.py:15: RuntimeWarning: Channels contain different lowpass filters. Lowest filter setting will be stored.\n",
      "  raw = mne.io.read_raw_edf(\n"
     ]
    },
    {
     "name": "stdout",
     "output_type": "stream",
     "text": [
      "First sleep starts at: 26070.0\n",
      "Last sleep ends at: 60420.0\n",
      "Cropping raw: 24270.0 - 61199.99\n",
      "Cropping finished.\n",
      "<RawEDF | SC4592G0-PSG.edf, 4 x 3693000 (36930.0 s), ~112.7 MiB, data loaded>\n",
      "Total amount of sleep stages in list: 36930\n",
      "Amount of data in cropped_raw; 3693000\n",
      "Extracting EDF parameters from C:\\Users\\andri\\school\\bio-informatics\\internship\\donders\\data\\human_test_data\\input\\raw_input\\SC4601E0-PSG.edf...\n",
      "EDF file detected\n",
      "Channel 'EEG Fpz-Cz' recognized as type EEG (renamed to 'Fpz-Cz').\n",
      "Channel 'EEG Pz-Oz' recognized as type EEG (renamed to 'Pz-Oz').\n",
      "Channel 'EOG horizontal' recognized as type EOG (renamed to 'horizontal').\n",
      "Channel 'Resp oro-nasal' recognized as type RESP (renamed to 'oro-nasal').\n",
      "Channel 'EMG submental' recognized as type EMG (renamed to 'submental').\n",
      "Channel 'Temp rectal' recognized as type TEMP (renamed to 'rectal').\n",
      "Setting channel info structure...\n",
      "Creating raw.info structure...\n",
      "Reading 0 ... 8189999  =      0.000 ... 81899.990 secs...\n"
     ]
    },
    {
     "name": "stderr",
     "output_type": "stream",
     "text": [
      "c:\\Users\\andri\\school\\bio-informatics\\internship\\donders\\vsc\\Human_SleepSCoring\\DilonAndriesse\\pre_processing\\basic_mne_functions.py:15: RuntimeWarning: Channels contain different highpass filters. Highest filter setting will be stored.\n",
      "  raw = mne.io.read_raw_edf(\n",
      "c:\\Users\\andri\\school\\bio-informatics\\internship\\donders\\vsc\\Human_SleepSCoring\\DilonAndriesse\\pre_processing\\basic_mne_functions.py:15: RuntimeWarning: Channels contain different lowpass filters. Lowest filter setting will be stored.\n",
      "  raw = mne.io.read_raw_edf(\n"
     ]
    },
    {
     "name": "stdout",
     "output_type": "stream",
     "text": [
      "First sleep starts at: 21810.0\n",
      "Last sleep ends at: 58680.0\n",
      "Cropping raw: 20010.0 - 60480.0\n",
      "Cropping finished.\n",
      "<RawEDF | SC4601E0-PSG.edf, 4 x 4047001 (40470.0 s), ~123.5 MiB, data loaded>\n",
      "Total amount of sleep stages in list: 40470\n",
      "Amount of data in cropped_raw; 4047001\n",
      "Extracting EDF parameters from C:\\Users\\andri\\school\\bio-informatics\\internship\\donders\\data\\human_test_data\\input\\raw_input\\SC4602E0-PSG.edf...\n",
      "EDF file detected\n",
      "Channel 'EEG Fpz-Cz' recognized as type EEG (renamed to 'Fpz-Cz').\n",
      "Channel 'EEG Pz-Oz' recognized as type EEG (renamed to 'Pz-Oz').\n",
      "Channel 'EOG horizontal' recognized as type EOG (renamed to 'horizontal').\n",
      "Channel 'Resp oro-nasal' recognized as type RESP (renamed to 'oro-nasal').\n",
      "Channel 'EMG submental' recognized as type EMG (renamed to 'submental').\n",
      "Channel 'Temp rectal' recognized as type TEMP (renamed to 'rectal').\n",
      "Setting channel info structure...\n",
      "Creating raw.info structure...\n",
      "Reading 0 ... 8399999  =      0.000 ... 83999.990 secs...\n"
     ]
    },
    {
     "name": "stderr",
     "output_type": "stream",
     "text": [
      "c:\\Users\\andri\\school\\bio-informatics\\internship\\donders\\vsc\\Human_SleepSCoring\\DilonAndriesse\\pre_processing\\basic_mne_functions.py:15: RuntimeWarning: Channels contain different highpass filters. Highest filter setting will be stored.\n",
      "  raw = mne.io.read_raw_edf(\n",
      "c:\\Users\\andri\\school\\bio-informatics\\internship\\donders\\vsc\\Human_SleepSCoring\\DilonAndriesse\\pre_processing\\basic_mne_functions.py:15: RuntimeWarning: Channels contain different lowpass filters. Lowest filter setting will be stored.\n",
      "  raw = mne.io.read_raw_edf(\n"
     ]
    },
    {
     "name": "stdout",
     "output_type": "stream",
     "text": [
      "First sleep starts at: 3030.0\n",
      "Last sleep ends at: 60720.0\n",
      "Cropping raw: 1230.0 - 62520.0\n",
      "Cropping finished.\n",
      "<RawEDF | SC4602E0-PSG.edf, 4 x 6129001 (61290.0 s), ~187.1 MiB, data loaded>\n",
      "Total amount of sleep stages in list: 61290\n",
      "Amount of data in cropped_raw; 6129001\n",
      "Extracting EDF parameters from C:\\Users\\andri\\school\\bio-informatics\\internship\\donders\\data\\human_test_data\\input\\raw_input\\SC4611E0-PSG.edf...\n",
      "EDF file detected\n",
      "Channel 'EEG Fpz-Cz' recognized as type EEG (renamed to 'Fpz-Cz').\n",
      "Channel 'EEG Pz-Oz' recognized as type EEG (renamed to 'Pz-Oz').\n",
      "Channel 'EOG horizontal' recognized as type EOG (renamed to 'horizontal').\n",
      "Channel 'Resp oro-nasal' recognized as type RESP (renamed to 'oro-nasal').\n",
      "Channel 'EMG submental' recognized as type EMG (renamed to 'submental').\n",
      "Channel 'Temp rectal' recognized as type TEMP (renamed to 'rectal').\n",
      "Setting channel info structure...\n",
      "Creating raw.info structure...\n",
      "Reading 0 ... 7949999  =      0.000 ... 79499.990 secs...\n"
     ]
    },
    {
     "name": "stderr",
     "output_type": "stream",
     "text": [
      "c:\\Users\\andri\\school\\bio-informatics\\internship\\donders\\vsc\\Human_SleepSCoring\\DilonAndriesse\\pre_processing\\basic_mne_functions.py:15: RuntimeWarning: Channels contain different highpass filters. Highest filter setting will be stored.\n",
      "  raw = mne.io.read_raw_edf(\n",
      "c:\\Users\\andri\\school\\bio-informatics\\internship\\donders\\vsc\\Human_SleepSCoring\\DilonAndriesse\\pre_processing\\basic_mne_functions.py:15: RuntimeWarning: Channels contain different lowpass filters. Lowest filter setting will be stored.\n",
      "  raw = mne.io.read_raw_edf(\n"
     ]
    },
    {
     "name": "stdout",
     "output_type": "stream",
     "text": [
      "First sleep starts at: 12360.0\n",
      "Last sleep ends at: 58500.0\n",
      "Cropping raw: 10560.0 - 60300.0\n",
      "Cropping finished.\n",
      "<RawEDF | SC4611E0-PSG.edf, 4 x 4974001 (49740.0 s), ~151.8 MiB, data loaded>\n",
      "Total amount of sleep stages in list: 49740\n",
      "Amount of data in cropped_raw; 4974001\n",
      "Extracting EDF parameters from C:\\Users\\andri\\school\\bio-informatics\\internship\\donders\\data\\human_test_data\\input\\raw_input\\SC4612E0-PSG.edf...\n",
      "EDF file detected\n",
      "Channel 'EEG Fpz-Cz' recognized as type EEG (renamed to 'Fpz-Cz').\n",
      "Channel 'EEG Pz-Oz' recognized as type EEG (renamed to 'Pz-Oz').\n",
      "Channel 'EOG horizontal' recognized as type EOG (renamed to 'horizontal').\n",
      "Channel 'Resp oro-nasal' recognized as type RESP (renamed to 'oro-nasal').\n",
      "Channel 'EMG submental' recognized as type EMG (renamed to 'submental').\n",
      "Channel 'Temp rectal' recognized as type TEMP (renamed to 'rectal').\n",
      "Setting channel info structure...\n",
      "Creating raw.info structure...\n",
      "Reading 0 ... 8189999  =      0.000 ... 81899.990 secs...\n"
     ]
    },
    {
     "name": "stderr",
     "output_type": "stream",
     "text": [
      "c:\\Users\\andri\\school\\bio-informatics\\internship\\donders\\vsc\\Human_SleepSCoring\\DilonAndriesse\\pre_processing\\basic_mne_functions.py:15: RuntimeWarning: Channels contain different highpass filters. Highest filter setting will be stored.\n",
      "  raw = mne.io.read_raw_edf(\n",
      "c:\\Users\\andri\\school\\bio-informatics\\internship\\donders\\vsc\\Human_SleepSCoring\\DilonAndriesse\\pre_processing\\basic_mne_functions.py:15: RuntimeWarning: Channels contain different lowpass filters. Lowest filter setting will be stored.\n",
      "  raw = mne.io.read_raw_edf(\n"
     ]
    },
    {
     "name": "stdout",
     "output_type": "stream",
     "text": [
      "First sleep starts at: 32640.0\n",
      "Last sleep ends at: 60900.0\n",
      "Cropping raw: 30840.0 - 62700.0\n",
      "Cropping finished.\n",
      "<RawEDF | SC4612E0-PSG.edf, 4 x 3186001 (31860.0 s), ~97.2 MiB, data loaded>\n",
      "Total amount of sleep stages in list: 31860\n",
      "Amount of data in cropped_raw; 3186001\n",
      "Extracting EDF parameters from C:\\Users\\andri\\school\\bio-informatics\\internship\\donders\\data\\human_test_data\\input\\raw_input\\SC4621E0-PSG.edf...\n",
      "EDF file detected\n",
      "Channel 'EEG Fpz-Cz' recognized as type EEG (renamed to 'Fpz-Cz').\n",
      "Channel 'EEG Pz-Oz' recognized as type EEG (renamed to 'Pz-Oz').\n",
      "Channel 'EOG horizontal' recognized as type EOG (renamed to 'horizontal').\n",
      "Channel 'Resp oro-nasal' recognized as type RESP (renamed to 'oro-nasal').\n",
      "Channel 'EMG submental' recognized as type EMG (renamed to 'submental').\n",
      "Channel 'Temp rectal' recognized as type TEMP (renamed to 'rectal').\n",
      "Setting channel info structure...\n",
      "Creating raw.info structure...\n",
      "Reading 0 ... 7835999  =      0.000 ... 78359.990 secs...\n"
     ]
    },
    {
     "name": "stderr",
     "output_type": "stream",
     "text": [
      "c:\\Users\\andri\\school\\bio-informatics\\internship\\donders\\vsc\\Human_SleepSCoring\\DilonAndriesse\\pre_processing\\basic_mne_functions.py:15: RuntimeWarning: Channels contain different highpass filters. Highest filter setting will be stored.\n",
      "  raw = mne.io.read_raw_edf(\n",
      "c:\\Users\\andri\\school\\bio-informatics\\internship\\donders\\vsc\\Human_SleepSCoring\\DilonAndriesse\\pre_processing\\basic_mne_functions.py:15: RuntimeWarning: Channels contain different lowpass filters. Lowest filter setting will be stored.\n",
      "  raw = mne.io.read_raw_edf(\n"
     ]
    },
    {
     "name": "stdout",
     "output_type": "stream",
     "text": [
      "First sleep starts at: 15360.0\n",
      "Last sleep ends at: 55110.0\n",
      "Cropping raw: 13560.0 - 56910.0\n",
      "Cropping finished.\n",
      "<RawEDF | SC4621E0-PSG.edf, 4 x 4335001 (43350.0 s), ~132.3 MiB, data loaded>\n",
      "Total amount of sleep stages in list: 43350\n",
      "Amount of data in cropped_raw; 4335001\n",
      "Extracting EDF parameters from C:\\Users\\andri\\school\\bio-informatics\\internship\\donders\\data\\human_test_data\\input\\raw_input\\SC4622E0-PSG.edf...\n",
      "EDF file detected\n",
      "Channel 'EEG Fpz-Cz' recognized as type EEG (renamed to 'Fpz-Cz').\n",
      "Channel 'EEG Pz-Oz' recognized as type EEG (renamed to 'Pz-Oz').\n",
      "Channel 'EOG horizontal' recognized as type EOG (renamed to 'horizontal').\n",
      "Channel 'Resp oro-nasal' recognized as type RESP (renamed to 'oro-nasal').\n",
      "Channel 'EMG submental' recognized as type EMG (renamed to 'submental').\n",
      "Channel 'Temp rectal' recognized as type TEMP (renamed to 'rectal').\n",
      "Setting channel info structure...\n",
      "Creating raw.info structure...\n",
      "Reading 0 ... 8567999  =      0.000 ... 85679.990 secs...\n"
     ]
    },
    {
     "name": "stderr",
     "output_type": "stream",
     "text": [
      "c:\\Users\\andri\\school\\bio-informatics\\internship\\donders\\vsc\\Human_SleepSCoring\\DilonAndriesse\\pre_processing\\basic_mne_functions.py:15: RuntimeWarning: Channels contain different highpass filters. Highest filter setting will be stored.\n",
      "  raw = mne.io.read_raw_edf(\n",
      "c:\\Users\\andri\\school\\bio-informatics\\internship\\donders\\vsc\\Human_SleepSCoring\\DilonAndriesse\\pre_processing\\basic_mne_functions.py:15: RuntimeWarning: Channels contain different lowpass filters. Lowest filter setting will be stored.\n",
      "  raw = mne.io.read_raw_edf(\n"
     ]
    },
    {
     "name": "stdout",
     "output_type": "stream",
     "text": [
      "First sleep starts at: 23160.0\n",
      "Last sleep ends at: 74250.0\n",
      "Cropping raw: 21360.0 - 76050.0\n",
      "Cropping finished.\n",
      "<RawEDF | SC4622E0-PSG.edf, 4 x 5469001 (54690.0 s), ~166.9 MiB, data loaded>\n",
      "Total amount of sleep stages in list: 54690\n",
      "Amount of data in cropped_raw; 5469001\n",
      "Extracting EDF parameters from C:\\Users\\andri\\school\\bio-informatics\\internship\\donders\\data\\human_test_data\\input\\raw_input\\SC4631E0-PSG.edf...\n",
      "EDF file detected\n",
      "Channel 'EEG Fpz-Cz' recognized as type EEG (renamed to 'Fpz-Cz').\n",
      "Channel 'EEG Pz-Oz' recognized as type EEG (renamed to 'Pz-Oz').\n",
      "Channel 'EOG horizontal' recognized as type EOG (renamed to 'horizontal').\n",
      "Channel 'Resp oro-nasal' recognized as type RESP (renamed to 'oro-nasal').\n",
      "Channel 'EMG submental' recognized as type EMG (renamed to 'submental').\n",
      "Channel 'Temp rectal' recognized as type TEMP (renamed to 'rectal').\n",
      "Setting channel info structure...\n",
      "Creating raw.info structure...\n",
      "Reading 0 ... 8273999  =      0.000 ... 82739.990 secs...\n"
     ]
    },
    {
     "name": "stderr",
     "output_type": "stream",
     "text": [
      "c:\\Users\\andri\\school\\bio-informatics\\internship\\donders\\vsc\\Human_SleepSCoring\\DilonAndriesse\\pre_processing\\basic_mne_functions.py:15: RuntimeWarning: Channels contain different highpass filters. Highest filter setting will be stored.\n",
      "  raw = mne.io.read_raw_edf(\n",
      "c:\\Users\\andri\\school\\bio-informatics\\internship\\donders\\vsc\\Human_SleepSCoring\\DilonAndriesse\\pre_processing\\basic_mne_functions.py:15: RuntimeWarning: Channels contain different lowpass filters. Lowest filter setting will be stored.\n",
      "  raw = mne.io.read_raw_edf(\n"
     ]
    },
    {
     "name": "stdout",
     "output_type": "stream",
     "text": [
      "First sleep starts at: 30810.0\n",
      "Last sleep ends at: 59100.0\n",
      "Cropping raw: 29010.0 - 60900.0\n",
      "Cropping finished.\n",
      "<RawEDF | SC4631E0-PSG.edf, 4 x 3189001 (31890.0 s), ~97.3 MiB, data loaded>\n",
      "Total amount of sleep stages in list: 31890\n",
      "Amount of data in cropped_raw; 3189001\n",
      "Extracting EDF parameters from C:\\Users\\andri\\school\\bio-informatics\\internship\\donders\\data\\human_test_data\\input\\raw_input\\SC4632E0-PSG.edf...\n",
      "EDF file detected\n",
      "Channel 'EEG Fpz-Cz' recognized as type EEG (renamed to 'Fpz-Cz').\n",
      "Channel 'EEG Pz-Oz' recognized as type EEG (renamed to 'Pz-Oz').\n",
      "Channel 'EOG horizontal' recognized as type EOG (renamed to 'horizontal').\n",
      "Channel 'Resp oro-nasal' recognized as type RESP (renamed to 'oro-nasal').\n",
      "Channel 'EMG submental' recognized as type EMG (renamed to 'submental').\n",
      "Channel 'Temp rectal' recognized as type TEMP (renamed to 'rectal').\n",
      "Setting channel info structure...\n",
      "Creating raw.info structure...\n",
      "Reading 0 ... 8543999  =      0.000 ... 85439.990 secs...\n"
     ]
    },
    {
     "name": "stderr",
     "output_type": "stream",
     "text": [
      "c:\\Users\\andri\\school\\bio-informatics\\internship\\donders\\vsc\\Human_SleepSCoring\\DilonAndriesse\\pre_processing\\basic_mne_functions.py:15: RuntimeWarning: Channels contain different highpass filters. Highest filter setting will be stored.\n",
      "  raw = mne.io.read_raw_edf(\n",
      "c:\\Users\\andri\\school\\bio-informatics\\internship\\donders\\vsc\\Human_SleepSCoring\\DilonAndriesse\\pre_processing\\basic_mne_functions.py:15: RuntimeWarning: Channels contain different lowpass filters. Lowest filter setting will be stored.\n",
      "  raw = mne.io.read_raw_edf(\n"
     ]
    },
    {
     "name": "stdout",
     "output_type": "stream",
     "text": [
      "First sleep starts at: 31410.0\n",
      "Last sleep ends at: 61020.0\n",
      "Cropping raw: 29610.0 - 62820.0\n",
      "Cropping finished.\n",
      "<RawEDF | SC4632E0-PSG.edf, 4 x 3321001 (33210.0 s), ~101.4 MiB, data loaded>\n",
      "Total amount of sleep stages in list: 33210\n",
      "Amount of data in cropped_raw; 3321001\n",
      "Extracting EDF parameters from C:\\Users\\andri\\school\\bio-informatics\\internship\\donders\\data\\human_test_data\\input\\raw_input\\SC4641E0-PSG.edf...\n",
      "EDF file detected\n",
      "Channel 'EEG Fpz-Cz' recognized as type EEG (renamed to 'Fpz-Cz').\n",
      "Channel 'EEG Pz-Oz' recognized as type EEG (renamed to 'Pz-Oz').\n",
      "Channel 'EOG horizontal' recognized as type EOG (renamed to 'horizontal').\n",
      "Channel 'Resp oro-nasal' recognized as type RESP (renamed to 'oro-nasal').\n",
      "Channel 'EMG submental' recognized as type EMG (renamed to 'submental').\n",
      "Channel 'Temp rectal' recognized as type TEMP (renamed to 'rectal').\n",
      "Setting channel info structure...\n",
      "Creating raw.info structure...\n",
      "Reading 0 ... 8039999  =      0.000 ... 80399.990 secs...\n"
     ]
    },
    {
     "name": "stderr",
     "output_type": "stream",
     "text": [
      "c:\\Users\\andri\\school\\bio-informatics\\internship\\donders\\vsc\\Human_SleepSCoring\\DilonAndriesse\\pre_processing\\basic_mne_functions.py:15: RuntimeWarning: Channels contain different highpass filters. Highest filter setting will be stored.\n",
      "  raw = mne.io.read_raw_edf(\n",
      "c:\\Users\\andri\\school\\bio-informatics\\internship\\donders\\vsc\\Human_SleepSCoring\\DilonAndriesse\\pre_processing\\basic_mne_functions.py:15: RuntimeWarning: Channels contain different lowpass filters. Lowest filter setting will be stored.\n",
      "  raw = mne.io.read_raw_edf(\n"
     ]
    },
    {
     "name": "stdout",
     "output_type": "stream",
     "text": [
      "First sleep starts at: 24810.0\n",
      "Last sleep ends at: 59340.0\n",
      "Cropping raw: 23010.0 - 61140.0\n",
      "Cropping finished.\n",
      "<RawEDF | SC4641E0-PSG.edf, 4 x 3813001 (38130.0 s), ~116.4 MiB, data loaded>\n",
      "Total amount of sleep stages in list: 38130\n",
      "Amount of data in cropped_raw; 3813001\n",
      "Extracting EDF parameters from C:\\Users\\andri\\school\\bio-informatics\\internship\\donders\\data\\human_test_data\\input\\raw_input\\SC4642E0-PSG.edf...\n",
      "EDF file detected\n",
      "Channel 'EEG Fpz-Cz' recognized as type EEG (renamed to 'Fpz-Cz').\n",
      "Channel 'EEG Pz-Oz' recognized as type EEG (renamed to 'Pz-Oz').\n",
      "Channel 'EOG horizontal' recognized as type EOG (renamed to 'horizontal').\n",
      "Channel 'Resp oro-nasal' recognized as type RESP (renamed to 'oro-nasal').\n",
      "Channel 'EMG submental' recognized as type EMG (renamed to 'submental').\n",
      "Channel 'Temp rectal' recognized as type TEMP (renamed to 'rectal').\n",
      "Setting channel info structure...\n",
      "Creating raw.info structure...\n",
      "Reading 0 ... 8369999  =      0.000 ... 83699.990 secs...\n"
     ]
    },
    {
     "name": "stderr",
     "output_type": "stream",
     "text": [
      "c:\\Users\\andri\\school\\bio-informatics\\internship\\donders\\vsc\\Human_SleepSCoring\\DilonAndriesse\\pre_processing\\basic_mne_functions.py:15: RuntimeWarning: Channels contain different highpass filters. Highest filter setting will be stored.\n",
      "  raw = mne.io.read_raw_edf(\n",
      "c:\\Users\\andri\\school\\bio-informatics\\internship\\donders\\vsc\\Human_SleepSCoring\\DilonAndriesse\\pre_processing\\basic_mne_functions.py:15: RuntimeWarning: Channels contain different lowpass filters. Lowest filter setting will be stored.\n",
      "  raw = mne.io.read_raw_edf(\n"
     ]
    },
    {
     "name": "stdout",
     "output_type": "stream",
     "text": [
      "First sleep starts at: 4500.0\n",
      "Last sleep ends at: 62370.0\n",
      "Cropping raw: 2700.0 - 64170.0\n",
      "Cropping finished.\n",
      "<RawEDF | SC4642E0-PSG.edf, 4 x 6147001 (61470.0 s), ~187.6 MiB, data loaded>\n",
      "Total amount of sleep stages in list: 61470\n",
      "Amount of data in cropped_raw; 6147001\n",
      "Extracting EDF parameters from C:\\Users\\andri\\school\\bio-informatics\\internship\\donders\\data\\human_test_data\\input\\raw_input\\SC4651E0-PSG.edf...\n",
      "EDF file detected\n",
      "Channel 'EEG Fpz-Cz' recognized as type EEG (renamed to 'Fpz-Cz').\n",
      "Channel 'EEG Pz-Oz' recognized as type EEG (renamed to 'Pz-Oz').\n",
      "Channel 'EOG horizontal' recognized as type EOG (renamed to 'horizontal').\n",
      "Channel 'Resp oro-nasal' recognized as type RESP (renamed to 'oro-nasal').\n",
      "Channel 'EMG submental' recognized as type EMG (renamed to 'submental').\n",
      "Channel 'Temp rectal' recognized as type TEMP (renamed to 'rectal').\n",
      "Setting channel info structure...\n",
      "Creating raw.info structure...\n",
      "Reading 0 ... 8579999  =      0.000 ... 85799.990 secs...\n"
     ]
    },
    {
     "name": "stderr",
     "output_type": "stream",
     "text": [
      "c:\\Users\\andri\\school\\bio-informatics\\internship\\donders\\vsc\\Human_SleepSCoring\\DilonAndriesse\\pre_processing\\basic_mne_functions.py:15: RuntimeWarning: Channels contain different highpass filters. Highest filter setting will be stored.\n",
      "  raw = mne.io.read_raw_edf(\n",
      "c:\\Users\\andri\\school\\bio-informatics\\internship\\donders\\vsc\\Human_SleepSCoring\\DilonAndriesse\\pre_processing\\basic_mne_functions.py:15: RuntimeWarning: Channels contain different lowpass filters. Lowest filter setting will be stored.\n",
      "  raw = mne.io.read_raw_edf(\n"
     ]
    },
    {
     "name": "stdout",
     "output_type": "stream",
     "text": [
      "First sleep starts at: 1680.0\n",
      "Last sleep ends at: 77520.0\n",
      "Cropping raw: 0 - 79320.0\n",
      "Cropping finished.\n",
      "<RawEDF | SC4651E0-PSG.edf, 4 x 7932001 (79320.0 s), ~242.1 MiB, data loaded>\n",
      "Total amount of sleep stages in list: 79320\n",
      "Amount of data in cropped_raw; 7932001\n",
      "Extracting EDF parameters from C:\\Users\\andri\\school\\bio-informatics\\internship\\donders\\data\\human_test_data\\input\\raw_input\\SC4652E0-PSG.edf...\n",
      "EDF file detected\n",
      "Channel 'EEG Fpz-Cz' recognized as type EEG (renamed to 'Fpz-Cz').\n",
      "Channel 'EEG Pz-Oz' recognized as type EEG (renamed to 'Pz-Oz').\n",
      "Channel 'EOG horizontal' recognized as type EOG (renamed to 'horizontal').\n",
      "Channel 'Resp oro-nasal' recognized as type RESP (renamed to 'oro-nasal').\n",
      "Channel 'EMG submental' recognized as type EMG (renamed to 'submental').\n",
      "Channel 'Temp rectal' recognized as type TEMP (renamed to 'rectal').\n",
      "Setting channel info structure...\n",
      "Creating raw.info structure...\n",
      "Reading 0 ... 8519999  =      0.000 ... 85199.990 secs...\n"
     ]
    },
    {
     "name": "stderr",
     "output_type": "stream",
     "text": [
      "c:\\Users\\andri\\school\\bio-informatics\\internship\\donders\\vsc\\Human_SleepSCoring\\DilonAndriesse\\pre_processing\\basic_mne_functions.py:15: RuntimeWarning: Channels contain different highpass filters. Highest filter setting will be stored.\n",
      "  raw = mne.io.read_raw_edf(\n",
      "c:\\Users\\andri\\school\\bio-informatics\\internship\\donders\\vsc\\Human_SleepSCoring\\DilonAndriesse\\pre_processing\\basic_mne_functions.py:15: RuntimeWarning: Channels contain different lowpass filters. Lowest filter setting will be stored.\n",
      "  raw = mne.io.read_raw_edf(\n"
     ]
    },
    {
     "name": "stdout",
     "output_type": "stream",
     "text": [
      "First sleep starts at: 10140.0\n",
      "Last sleep ends at: 64470.0\n",
      "Cropping raw: 8340.0 - 66270.0\n",
      "Cropping finished.\n",
      "<RawEDF | SC4652E0-PSG.edf, 4 x 5793001 (57930.0 s), ~176.8 MiB, data loaded>\n",
      "Total amount of sleep stages in list: 57930\n",
      "Amount of data in cropped_raw; 5793001\n",
      "Extracting EDF parameters from C:\\Users\\andri\\school\\bio-informatics\\internship\\donders\\data\\human_test_data\\input\\raw_input\\SC4661E0-PSG.edf...\n",
      "EDF file detected\n",
      "Channel 'EEG Fpz-Cz' recognized as type EEG (renamed to 'Fpz-Cz').\n",
      "Channel 'EEG Pz-Oz' recognized as type EEG (renamed to 'Pz-Oz').\n",
      "Channel 'EOG horizontal' recognized as type EOG (renamed to 'horizontal').\n",
      "Channel 'Resp oro-nasal' recognized as type RESP (renamed to 'oro-nasal').\n",
      "Channel 'EMG submental' recognized as type EMG (renamed to 'submental').\n",
      "Channel 'Temp rectal' recognized as type TEMP (renamed to 'rectal').\n",
      "Setting channel info structure...\n",
      "Creating raw.info structure...\n",
      "Reading 0 ... 8219999  =      0.000 ... 82199.990 secs...\n"
     ]
    },
    {
     "name": "stderr",
     "output_type": "stream",
     "text": [
      "c:\\Users\\andri\\school\\bio-informatics\\internship\\donders\\vsc\\Human_SleepSCoring\\DilonAndriesse\\pre_processing\\basic_mne_functions.py:15: RuntimeWarning: Channels contain different highpass filters. Highest filter setting will be stored.\n",
      "  raw = mne.io.read_raw_edf(\n",
      "c:\\Users\\andri\\school\\bio-informatics\\internship\\donders\\vsc\\Human_SleepSCoring\\DilonAndriesse\\pre_processing\\basic_mne_functions.py:15: RuntimeWarning: Channels contain different lowpass filters. Lowest filter setting will be stored.\n",
      "  raw = mne.io.read_raw_edf(\n"
     ]
    },
    {
     "name": "stdout",
     "output_type": "stream",
     "text": [
      "First sleep starts at: 20940.0\n",
      "Last sleep ends at: 78150.0\n",
      "Cropping raw: 19140.0 - 79950.0\n",
      "Cropping finished.\n",
      "<RawEDF | SC4661E0-PSG.edf, 4 x 6081001 (60810.0 s), ~185.6 MiB, data loaded>\n",
      "Total amount of sleep stages in list: 60810\n",
      "Amount of data in cropped_raw; 6081001\n",
      "Extracting EDF parameters from C:\\Users\\andri\\school\\bio-informatics\\internship\\donders\\data\\human_test_data\\input\\raw_input\\SC4662E0-PSG.edf...\n",
      "EDF file detected\n",
      "Channel 'EEG Fpz-Cz' recognized as type EEG (renamed to 'Fpz-Cz').\n",
      "Channel 'EEG Pz-Oz' recognized as type EEG (renamed to 'Pz-Oz').\n",
      "Channel 'EOG horizontal' recognized as type EOG (renamed to 'horizontal').\n",
      "Channel 'Resp oro-nasal' recognized as type RESP (renamed to 'oro-nasal').\n",
      "Channel 'EMG submental' recognized as type EMG (renamed to 'submental').\n",
      "Channel 'Temp rectal' recognized as type TEMP (renamed to 'rectal').\n",
      "Setting channel info structure...\n",
      "Creating raw.info structure...\n",
      "Reading 0 ... 8459999  =      0.000 ... 84599.990 secs...\n"
     ]
    },
    {
     "name": "stderr",
     "output_type": "stream",
     "text": [
      "c:\\Users\\andri\\school\\bio-informatics\\internship\\donders\\vsc\\Human_SleepSCoring\\DilonAndriesse\\pre_processing\\basic_mne_functions.py:15: RuntimeWarning: Channels contain different highpass filters. Highest filter setting will be stored.\n",
      "  raw = mne.io.read_raw_edf(\n",
      "c:\\Users\\andri\\school\\bio-informatics\\internship\\donders\\vsc\\Human_SleepSCoring\\DilonAndriesse\\pre_processing\\basic_mne_functions.py:15: RuntimeWarning: Channels contain different lowpass filters. Lowest filter setting will be stored.\n",
      "  raw = mne.io.read_raw_edf(\n"
     ]
    },
    {
     "name": "stdout",
     "output_type": "stream",
     "text": [
      "First sleep starts at: 25920.0\n",
      "Last sleep ends at: 82140.0\n",
      "Cropping raw: 24120.0 - 83940.0\n",
      "Cropping finished.\n",
      "<RawEDF | SC4662E0-PSG.edf, 4 x 5982001 (59820.0 s), ~182.6 MiB, data loaded>\n",
      "Total amount of sleep stages in list: 59820\n",
      "Amount of data in cropped_raw; 5982001\n",
      "Extracting EDF parameters from C:\\Users\\andri\\school\\bio-informatics\\internship\\donders\\data\\human_test_data\\input\\raw_input\\SC4671G0-PSG.edf...\n",
      "EDF file detected\n",
      "Channel 'EEG Fpz-Cz' recognized as type EEG (renamed to 'Fpz-Cz').\n",
      "Channel 'EEG Pz-Oz' recognized as type EEG (renamed to 'Pz-Oz').\n",
      "Channel 'EOG horizontal' recognized as type EOG (renamed to 'horizontal').\n",
      "Channel 'Resp oro-nasal' recognized as type RESP (renamed to 'oro-nasal').\n",
      "Channel 'EMG submental' recognized as type EMG (renamed to 'submental').\n",
      "Channel 'Temp rectal' recognized as type TEMP (renamed to 'rectal').\n",
      "Setting channel info structure...\n",
      "Creating raw.info structure...\n",
      "Reading 0 ... 8339999  =      0.000 ... 83399.990 secs...\n"
     ]
    },
    {
     "name": "stderr",
     "output_type": "stream",
     "text": [
      "c:\\Users\\andri\\school\\bio-informatics\\internship\\donders\\vsc\\Human_SleepSCoring\\DilonAndriesse\\pre_processing\\basic_mne_functions.py:15: RuntimeWarning: Channels contain different highpass filters. Highest filter setting will be stored.\n",
      "  raw = mne.io.read_raw_edf(\n",
      "c:\\Users\\andri\\school\\bio-informatics\\internship\\donders\\vsc\\Human_SleepSCoring\\DilonAndriesse\\pre_processing\\basic_mne_functions.py:15: RuntimeWarning: Channels contain different lowpass filters. Lowest filter setting will be stored.\n",
      "  raw = mne.io.read_raw_edf(\n"
     ]
    },
    {
     "name": "stdout",
     "output_type": "stream",
     "text": [
      "First sleep starts at: 25950.0\n",
      "Last sleep ends at: 81390.0\n",
      "Cropping raw: 24150.0 - 83190.0\n",
      "Cropping finished.\n",
      "<RawEDF | SC4671G0-PSG.edf, 4 x 5904001 (59040.0 s), ~180.2 MiB, data loaded>\n",
      "Total amount of sleep stages in list: 59040\n",
      "Amount of data in cropped_raw; 5904001\n",
      "Extracting EDF parameters from C:\\Users\\andri\\school\\bio-informatics\\internship\\donders\\data\\human_test_data\\input\\raw_input\\SC4672G0-PSG.edf...\n",
      "EDF file detected\n",
      "Channel 'EEG Fpz-Cz' recognized as type EEG (renamed to 'Fpz-Cz').\n",
      "Channel 'EEG Pz-Oz' recognized as type EEG (renamed to 'Pz-Oz').\n",
      "Channel 'EOG horizontal' recognized as type EOG (renamed to 'horizontal').\n",
      "Channel 'Resp oro-nasal' recognized as type RESP (renamed to 'oro-nasal').\n",
      "Channel 'EMG submental' recognized as type EMG (renamed to 'submental').\n",
      "Channel 'Temp rectal' recognized as type TEMP (renamed to 'rectal').\n",
      "Setting channel info structure...\n",
      "Creating raw.info structure...\n",
      "Reading 0 ... 7739999  =      0.000 ... 77399.990 secs...\n"
     ]
    },
    {
     "name": "stderr",
     "output_type": "stream",
     "text": [
      "c:\\Users\\andri\\school\\bio-informatics\\internship\\donders\\vsc\\Human_SleepSCoring\\DilonAndriesse\\pre_processing\\basic_mne_functions.py:15: RuntimeWarning: Channels contain different highpass filters. Highest filter setting will be stored.\n",
      "  raw = mne.io.read_raw_edf(\n",
      "c:\\Users\\andri\\school\\bio-informatics\\internship\\donders\\vsc\\Human_SleepSCoring\\DilonAndriesse\\pre_processing\\basic_mne_functions.py:15: RuntimeWarning: Channels contain different lowpass filters. Lowest filter setting will be stored.\n",
      "  raw = mne.io.read_raw_edf(\n"
     ]
    },
    {
     "name": "stdout",
     "output_type": "stream",
     "text": [
      "First sleep starts at: 32040.0\n",
      "Last sleep ends at: 59070.0\n",
      "Cropping raw: 30240.0 - 60870.0\n",
      "Cropping finished.\n",
      "<RawEDF | SC4672G0-PSG.edf, 4 x 3063001 (30630.0 s), ~93.5 MiB, data loaded>\n",
      "Total amount of sleep stages in list: 30630\n",
      "Amount of data in cropped_raw; 3063001\n",
      "Extracting EDF parameters from C:\\Users\\andri\\school\\bio-informatics\\internship\\donders\\data\\human_test_data\\input\\raw_input\\SC4701E0-PSG.edf...\n",
      "EDF file detected\n",
      "Channel 'EEG Fpz-Cz' recognized as type EEG (renamed to 'Fpz-Cz').\n",
      "Channel 'EEG Pz-Oz' recognized as type EEG (renamed to 'Pz-Oz').\n",
      "Channel 'EOG horizontal' recognized as type EOG (renamed to 'horizontal').\n",
      "Channel 'Resp oro-nasal' recognized as type RESP (renamed to 'oro-nasal').\n",
      "Channel 'EMG submental' recognized as type EMG (renamed to 'submental').\n",
      "Channel 'Temp rectal' recognized as type TEMP (renamed to 'rectal').\n",
      "Setting channel info structure...\n",
      "Creating raw.info structure...\n",
      "Reading 0 ... 8039999  =      0.000 ... 80399.990 secs...\n"
     ]
    },
    {
     "name": "stderr",
     "output_type": "stream",
     "text": [
      "c:\\Users\\andri\\school\\bio-informatics\\internship\\donders\\vsc\\Human_SleepSCoring\\DilonAndriesse\\pre_processing\\basic_mne_functions.py:15: RuntimeWarning: Channels contain different highpass filters. Highest filter setting will be stored.\n",
      "  raw = mne.io.read_raw_edf(\n",
      "c:\\Users\\andri\\school\\bio-informatics\\internship\\donders\\vsc\\Human_SleepSCoring\\DilonAndriesse\\pre_processing\\basic_mne_functions.py:15: RuntimeWarning: Channels contain different lowpass filters. Lowest filter setting will be stored.\n",
      "  raw = mne.io.read_raw_edf(\n"
     ]
    },
    {
     "name": "stdout",
     "output_type": "stream",
     "text": [
      "First sleep starts at: 7020.0\n",
      "Last sleep ends at: 54960.0\n",
      "Cropping raw: 5220.0 - 56760.0\n",
      "Cropping finished.\n",
      "<RawEDF | SC4701E0-PSG.edf, 4 x 5154001 (51540.0 s), ~157.3 MiB, data loaded>\n",
      "Total amount of sleep stages in list: 51540\n",
      "Amount of data in cropped_raw; 5154001\n",
      "Extracting EDF parameters from C:\\Users\\andri\\school\\bio-informatics\\internship\\donders\\data\\human_test_data\\input\\raw_input\\SC4702E0-PSG.edf...\n",
      "EDF file detected\n",
      "Channel 'EEG Fpz-Cz' recognized as type EEG (renamed to 'Fpz-Cz').\n",
      "Channel 'EEG Pz-Oz' recognized as type EEG (renamed to 'Pz-Oz').\n",
      "Channel 'EOG horizontal' recognized as type EOG (renamed to 'horizontal').\n",
      "Channel 'Resp oro-nasal' recognized as type RESP (renamed to 'oro-nasal').\n",
      "Channel 'EMG submental' recognized as type EMG (renamed to 'submental').\n",
      "Channel 'Temp rectal' recognized as type TEMP (renamed to 'rectal').\n",
      "Setting channel info structure...\n",
      "Creating raw.info structure...\n",
      "Reading 0 ... 7871999  =      0.000 ... 78719.990 secs...\n"
     ]
    },
    {
     "name": "stderr",
     "output_type": "stream",
     "text": [
      "c:\\Users\\andri\\school\\bio-informatics\\internship\\donders\\vsc\\Human_SleepSCoring\\DilonAndriesse\\pre_processing\\basic_mne_functions.py:15: RuntimeWarning: Channels contain different highpass filters. Highest filter setting will be stored.\n",
      "  raw = mne.io.read_raw_edf(\n",
      "c:\\Users\\andri\\school\\bio-informatics\\internship\\donders\\vsc\\Human_SleepSCoring\\DilonAndriesse\\pre_processing\\basic_mne_functions.py:15: RuntimeWarning: Channels contain different lowpass filters. Lowest filter setting will be stored.\n",
      "  raw = mne.io.read_raw_edf(\n"
     ]
    },
    {
     "name": "stdout",
     "output_type": "stream",
     "text": [
      "First sleep starts at: 10830.0\n",
      "Last sleep ends at: 52680.0\n",
      "Cropping raw: 9030.0 - 54480.0\n",
      "Cropping finished.\n",
      "<RawEDF | SC4702E0-PSG.edf, 4 x 4545001 (45450.0 s), ~138.7 MiB, data loaded>\n",
      "Total amount of sleep stages in list: 45450\n",
      "Amount of data in cropped_raw; 4545001\n",
      "Extracting EDF parameters from C:\\Users\\andri\\school\\bio-informatics\\internship\\donders\\data\\human_test_data\\input\\raw_input\\SC4711E0-PSG.edf...\n",
      "EDF file detected\n",
      "Channel 'EEG Fpz-Cz' recognized as type EEG (renamed to 'Fpz-Cz').\n",
      "Channel 'EEG Pz-Oz' recognized as type EEG (renamed to 'Pz-Oz').\n",
      "Channel 'EOG horizontal' recognized as type EOG (renamed to 'horizontal').\n",
      "Channel 'Resp oro-nasal' recognized as type RESP (renamed to 'oro-nasal').\n",
      "Channel 'EMG submental' recognized as type EMG (renamed to 'submental').\n",
      "Channel 'Temp rectal' recognized as type TEMP (renamed to 'rectal').\n",
      "Setting channel info structure...\n",
      "Creating raw.info structure...\n",
      "Reading 0 ... 8189999  =      0.000 ... 81899.990 secs...\n"
     ]
    },
    {
     "name": "stderr",
     "output_type": "stream",
     "text": [
      "c:\\Users\\andri\\school\\bio-informatics\\internship\\donders\\vsc\\Human_SleepSCoring\\DilonAndriesse\\pre_processing\\basic_mne_functions.py:15: RuntimeWarning: Channels contain different highpass filters. Highest filter setting will be stored.\n",
      "  raw = mne.io.read_raw_edf(\n",
      "c:\\Users\\andri\\school\\bio-informatics\\internship\\donders\\vsc\\Human_SleepSCoring\\DilonAndriesse\\pre_processing\\basic_mne_functions.py:15: RuntimeWarning: Channels contain different lowpass filters. Lowest filter setting will be stored.\n",
      "  raw = mne.io.read_raw_edf(\n"
     ]
    },
    {
     "name": "stdout",
     "output_type": "stream",
     "text": [
      "First sleep starts at: 19290.0\n",
      "Last sleep ends at: 58080.0\n",
      "Cropping raw: 17490.0 - 59880.0\n",
      "Cropping finished.\n",
      "<RawEDF | SC4711E0-PSG.edf, 4 x 4239001 (42390.0 s), ~129.4 MiB, data loaded>\n",
      "Total amount of sleep stages in list: 42390\n",
      "Amount of data in cropped_raw; 4239001\n",
      "Extracting EDF parameters from C:\\Users\\andri\\school\\bio-informatics\\internship\\donders\\data\\human_test_data\\input\\raw_input\\SC4712E0-PSG.edf...\n",
      "EDF file detected\n",
      "Channel 'EEG Fpz-Cz' recognized as type EEG (renamed to 'Fpz-Cz').\n",
      "Channel 'EEG Pz-Oz' recognized as type EEG (renamed to 'Pz-Oz').\n",
      "Channel 'EOG horizontal' recognized as type EOG (renamed to 'horizontal').\n",
      "Channel 'Resp oro-nasal' recognized as type RESP (renamed to 'oro-nasal').\n",
      "Channel 'EMG submental' recognized as type EMG (renamed to 'submental').\n",
      "Channel 'Temp rectal' recognized as type TEMP (renamed to 'rectal').\n",
      "Setting channel info structure...\n",
      "Creating raw.info structure...\n",
      "Reading 0 ... 8459999  =      0.000 ... 84599.990 secs...\n"
     ]
    },
    {
     "name": "stderr",
     "output_type": "stream",
     "text": [
      "c:\\Users\\andri\\school\\bio-informatics\\internship\\donders\\vsc\\Human_SleepSCoring\\DilonAndriesse\\pre_processing\\basic_mne_functions.py:15: RuntimeWarning: Channels contain different highpass filters. Highest filter setting will be stored.\n",
      "  raw = mne.io.read_raw_edf(\n",
      "c:\\Users\\andri\\school\\bio-informatics\\internship\\donders\\vsc\\Human_SleepSCoring\\DilonAndriesse\\pre_processing\\basic_mne_functions.py:15: RuntimeWarning: Channels contain different lowpass filters. Lowest filter setting will be stored.\n",
      "  raw = mne.io.read_raw_edf(\n"
     ]
    },
    {
     "name": "stdout",
     "output_type": "stream",
     "text": [
      "First sleep starts at: 22890.0\n",
      "Last sleep ends at: 56520.0\n",
      "Cropping raw: 21090.0 - 58320.0\n",
      "Cropping finished.\n",
      "<RawEDF | SC4712E0-PSG.edf, 4 x 3723001 (37230.0 s), ~113.6 MiB, data loaded>\n",
      "Total amount of sleep stages in list: 37230\n",
      "Amount of data in cropped_raw; 3723001\n",
      "Extracting EDF parameters from C:\\Users\\andri\\school\\bio-informatics\\internship\\donders\\data\\human_test_data\\input\\raw_input\\SC4721E0-PSG.edf...\n",
      "EDF file detected\n",
      "Channel 'EEG Fpz-Cz' recognized as type EEG (renamed to 'Fpz-Cz').\n",
      "Channel 'EEG Pz-Oz' recognized as type EEG (renamed to 'Pz-Oz').\n",
      "Channel 'EOG horizontal' recognized as type EOG (renamed to 'horizontal').\n",
      "Channel 'Resp oro-nasal' recognized as type RESP (renamed to 'oro-nasal').\n",
      "Channel 'EMG submental' recognized as type EMG (renamed to 'submental').\n",
      "Channel 'Temp rectal' recognized as type TEMP (renamed to 'rectal').\n",
      "Setting channel info structure...\n",
      "Creating raw.info structure...\n",
      "Reading 0 ... 7025999  =      0.000 ... 70259.990 secs...\n"
     ]
    },
    {
     "name": "stderr",
     "output_type": "stream",
     "text": [
      "c:\\Users\\andri\\school\\bio-informatics\\internship\\donders\\vsc\\Human_SleepSCoring\\DilonAndriesse\\pre_processing\\basic_mne_functions.py:15: RuntimeWarning: Channels contain different highpass filters. Highest filter setting will be stored.\n",
      "  raw = mne.io.read_raw_edf(\n",
      "c:\\Users\\andri\\school\\bio-informatics\\internship\\donders\\vsc\\Human_SleepSCoring\\DilonAndriesse\\pre_processing\\basic_mne_functions.py:15: RuntimeWarning: Channels contain different lowpass filters. Lowest filter setting will be stored.\n",
      "  raw = mne.io.read_raw_edf(\n"
     ]
    },
    {
     "name": "stdout",
     "output_type": "stream",
     "text": [
      "First sleep starts at: 29790.0\n",
      "Last sleep ends at: 57120.0\n",
      "Cropping raw: 27990.0 - 58920.0\n",
      "Cropping finished.\n",
      "<RawEDF | SC4721E0-PSG.edf, 4 x 3093001 (30930.0 s), ~94.4 MiB, data loaded>\n",
      "Total amount of sleep stages in list: 30930\n",
      "Amount of data in cropped_raw; 3093001\n",
      "Extracting EDF parameters from C:\\Users\\andri\\school\\bio-informatics\\internship\\donders\\data\\human_test_data\\input\\raw_input\\SC4722E0-PSG.edf...\n",
      "EDF file detected\n",
      "Channel 'EEG Fpz-Cz' recognized as type EEG (renamed to 'Fpz-Cz').\n",
      "Channel 'EEG Pz-Oz' recognized as type EEG (renamed to 'Pz-Oz').\n",
      "Channel 'EOG horizontal' recognized as type EOG (renamed to 'horizontal').\n",
      "Channel 'Resp oro-nasal' recognized as type RESP (renamed to 'oro-nasal').\n",
      "Channel 'EMG submental' recognized as type EMG (renamed to 'submental').\n",
      "Channel 'Temp rectal' recognized as type TEMP (renamed to 'rectal').\n",
      "Setting channel info structure...\n",
      "Creating raw.info structure...\n",
      "Reading 0 ... 8237999  =      0.000 ... 82379.990 secs...\n"
     ]
    },
    {
     "name": "stderr",
     "output_type": "stream",
     "text": [
      "c:\\Users\\andri\\school\\bio-informatics\\internship\\donders\\vsc\\Human_SleepSCoring\\DilonAndriesse\\pre_processing\\basic_mne_functions.py:15: RuntimeWarning: Channels contain different highpass filters. Highest filter setting will be stored.\n",
      "  raw = mne.io.read_raw_edf(\n",
      "c:\\Users\\andri\\school\\bio-informatics\\internship\\donders\\vsc\\Human_SleepSCoring\\DilonAndriesse\\pre_processing\\basic_mne_functions.py:15: RuntimeWarning: Channels contain different lowpass filters. Lowest filter setting will be stored.\n",
      "  raw = mne.io.read_raw_edf(\n"
     ]
    },
    {
     "name": "stdout",
     "output_type": "stream",
     "text": [
      "First sleep starts at: 28020.0\n",
      "Last sleep ends at: 58320.0\n",
      "Cropping raw: 26220.0 - 60120.0\n",
      "Cropping finished.\n",
      "<RawEDF | SC4722E0-PSG.edf, 4 x 3390001 (33900.0 s), ~103.5 MiB, data loaded>\n",
      "Total amount of sleep stages in list: 33900\n",
      "Amount of data in cropped_raw; 3390001\n",
      "Extracting EDF parameters from C:\\Users\\andri\\school\\bio-informatics\\internship\\donders\\data\\human_test_data\\input\\raw_input\\SC4731E0-PSG.edf...\n",
      "EDF file detected\n",
      "Channel 'EEG Fpz-Cz' recognized as type EEG (renamed to 'Fpz-Cz').\n",
      "Channel 'EEG Pz-Oz' recognized as type EEG (renamed to 'Pz-Oz').\n",
      "Channel 'EOG horizontal' recognized as type EOG (renamed to 'horizontal').\n",
      "Channel 'Resp oro-nasal' recognized as type RESP (renamed to 'oro-nasal').\n",
      "Channel 'EMG submental' recognized as type EMG (renamed to 'submental').\n",
      "Channel 'Temp rectal' recognized as type TEMP (renamed to 'rectal').\n",
      "Setting channel info structure...\n",
      "Creating raw.info structure...\n",
      "Reading 0 ... 8339999  =      0.000 ... 83399.990 secs...\n"
     ]
    },
    {
     "name": "stderr",
     "output_type": "stream",
     "text": [
      "c:\\Users\\andri\\school\\bio-informatics\\internship\\donders\\vsc\\Human_SleepSCoring\\DilonAndriesse\\pre_processing\\basic_mne_functions.py:15: RuntimeWarning: Channels contain different highpass filters. Highest filter setting will be stored.\n",
      "  raw = mne.io.read_raw_edf(\n",
      "c:\\Users\\andri\\school\\bio-informatics\\internship\\donders\\vsc\\Human_SleepSCoring\\DilonAndriesse\\pre_processing\\basic_mne_functions.py:15: RuntimeWarning: Channels contain different lowpass filters. Lowest filter setting will be stored.\n",
      "  raw = mne.io.read_raw_edf(\n"
     ]
    },
    {
     "name": "stdout",
     "output_type": "stream",
     "text": [
      "First sleep starts at: 5190.0\n",
      "Last sleep ends at: 83400.0\n",
      "Cropping raw: 3390.0 - 83399.99\n",
      "Cropping finished.\n",
      "<RawEDF | SC4731E0-PSG.edf, 4 x 8001000 (80010.0 s), ~244.2 MiB, data loaded>\n",
      "Total amount of sleep stages in list: 80010\n",
      "Amount of data in cropped_raw; 8001000\n",
      "Extracting EDF parameters from C:\\Users\\andri\\school\\bio-informatics\\internship\\donders\\data\\human_test_data\\input\\raw_input\\SC4732E0-PSG.edf...\n",
      "EDF file detected\n",
      "Channel 'EEG Fpz-Cz' recognized as type EEG (renamed to 'Fpz-Cz').\n",
      "Channel 'EEG Pz-Oz' recognized as type EEG (renamed to 'Pz-Oz').\n",
      "Channel 'EOG horizontal' recognized as type EOG (renamed to 'horizontal').\n",
      "Channel 'Resp oro-nasal' recognized as type RESP (renamed to 'oro-nasal').\n",
      "Channel 'EMG submental' recognized as type EMG (renamed to 'submental').\n",
      "Channel 'Temp rectal' recognized as type TEMP (renamed to 'rectal').\n",
      "Setting channel info structure...\n",
      "Creating raw.info structure...\n",
      "Reading 0 ... 7559999  =      0.000 ... 75599.990 secs...\n"
     ]
    },
    {
     "name": "stderr",
     "output_type": "stream",
     "text": [
      "c:\\Users\\andri\\school\\bio-informatics\\internship\\donders\\vsc\\Human_SleepSCoring\\DilonAndriesse\\pre_processing\\basic_mne_functions.py:15: RuntimeWarning: Channels contain different highpass filters. Highest filter setting will be stored.\n",
      "  raw = mne.io.read_raw_edf(\n",
      "c:\\Users\\andri\\school\\bio-informatics\\internship\\donders\\vsc\\Human_SleepSCoring\\DilonAndriesse\\pre_processing\\basic_mne_functions.py:15: RuntimeWarning: Channels contain different lowpass filters. Lowest filter setting will be stored.\n",
      "  raw = mne.io.read_raw_edf(\n"
     ]
    },
    {
     "name": "stdout",
     "output_type": "stream",
     "text": [
      "First sleep starts at: 7830.0\n",
      "Last sleep ends at: 75390.0\n",
      "Cropping raw: 6030.0 - 75599.99\n",
      "Cropping finished.\n",
      "<RawEDF | SC4732E0-PSG.edf, 4 x 6957000 (69570.0 s), ~212.3 MiB, data loaded>\n",
      "Total amount of sleep stages in list: 69570\n",
      "Amount of data in cropped_raw; 6957000\n",
      "Extracting EDF parameters from C:\\Users\\andri\\school\\bio-informatics\\internship\\donders\\data\\human_test_data\\input\\raw_input\\SC4741E0-PSG.edf...\n",
      "EDF file detected\n",
      "Channel 'EEG Fpz-Cz' recognized as type EEG (renamed to 'Fpz-Cz').\n",
      "Channel 'EEG Pz-Oz' recognized as type EEG (renamed to 'Pz-Oz').\n",
      "Channel 'EOG horizontal' recognized as type EOG (renamed to 'horizontal').\n",
      "Channel 'Resp oro-nasal' recognized as type RESP (renamed to 'oro-nasal').\n",
      "Channel 'EMG submental' recognized as type EMG (renamed to 'submental').\n",
      "Channel 'Temp rectal' recognized as type TEMP (renamed to 'rectal').\n",
      "Setting channel info structure...\n",
      "Creating raw.info structure...\n",
      "Reading 0 ... 8069999  =      0.000 ... 80699.990 secs...\n"
     ]
    },
    {
     "name": "stderr",
     "output_type": "stream",
     "text": [
      "c:\\Users\\andri\\school\\bio-informatics\\internship\\donders\\vsc\\Human_SleepSCoring\\DilonAndriesse\\pre_processing\\basic_mne_functions.py:15: RuntimeWarning: Channels contain different highpass filters. Highest filter setting will be stored.\n",
      "  raw = mne.io.read_raw_edf(\n",
      "c:\\Users\\andri\\school\\bio-informatics\\internship\\donders\\vsc\\Human_SleepSCoring\\DilonAndriesse\\pre_processing\\basic_mne_functions.py:15: RuntimeWarning: Channels contain different lowpass filters. Lowest filter setting will be stored.\n",
      "  raw = mne.io.read_raw_edf(\n"
     ]
    },
    {
     "name": "stdout",
     "output_type": "stream",
     "text": [
      "First sleep starts at: 15960.0\n",
      "Last sleep ends at: 78690.0\n",
      "Cropping raw: 14160.0 - 80490.0\n",
      "Cropping finished.\n",
      "<RawEDF | SC4741E0-PSG.edf, 4 x 6633001 (66330.0 s), ~202.4 MiB, data loaded>\n",
      "Total amount of sleep stages in list: 66330\n",
      "Amount of data in cropped_raw; 6633001\n",
      "Extracting EDF parameters from C:\\Users\\andri\\school\\bio-informatics\\internship\\donders\\data\\human_test_data\\input\\raw_input\\SC4742E0-PSG.edf...\n",
      "EDF file detected\n",
      "Channel 'EEG Fpz-Cz' recognized as type EEG (renamed to 'Fpz-Cz').\n",
      "Channel 'EEG Pz-Oz' recognized as type EEG (renamed to 'Pz-Oz').\n",
      "Channel 'EOG horizontal' recognized as type EOG (renamed to 'horizontal').\n",
      "Channel 'Resp oro-nasal' recognized as type RESP (renamed to 'oro-nasal').\n",
      "Channel 'EMG submental' recognized as type EMG (renamed to 'submental').\n",
      "Channel 'Temp rectal' recognized as type TEMP (renamed to 'rectal').\n",
      "Setting channel info structure...\n",
      "Creating raw.info structure...\n",
      "Reading 0 ... 7949999  =      0.000 ... 79499.990 secs...\n"
     ]
    },
    {
     "name": "stderr",
     "output_type": "stream",
     "text": [
      "c:\\Users\\andri\\school\\bio-informatics\\internship\\donders\\vsc\\Human_SleepSCoring\\DilonAndriesse\\pre_processing\\basic_mne_functions.py:15: RuntimeWarning: Channels contain different highpass filters. Highest filter setting will be stored.\n",
      "  raw = mne.io.read_raw_edf(\n",
      "c:\\Users\\andri\\school\\bio-informatics\\internship\\donders\\vsc\\Human_SleepSCoring\\DilonAndriesse\\pre_processing\\basic_mne_functions.py:15: RuntimeWarning: Channels contain different lowpass filters. Lowest filter setting will be stored.\n",
      "  raw = mne.io.read_raw_edf(\n"
     ]
    },
    {
     "name": "stdout",
     "output_type": "stream",
     "text": [
      "First sleep starts at: 30630.0\n",
      "Last sleep ends at: 58920.0\n",
      "Cropping raw: 28830.0 - 60720.0\n",
      "Cropping finished.\n",
      "<RawEDF | SC4742E0-PSG.edf, 4 x 3189001 (31890.0 s), ~97.3 MiB, data loaded>\n",
      "Total amount of sleep stages in list: 31890\n",
      "Amount of data in cropped_raw; 3189001\n",
      "Extracting EDF parameters from C:\\Users\\andri\\school\\bio-informatics\\internship\\donders\\data\\human_test_data\\input\\raw_input\\SC4751E0-PSG.edf...\n",
      "EDF file detected\n",
      "Channel 'EEG Fpz-Cz' recognized as type EEG (renamed to 'Fpz-Cz').\n",
      "Channel 'EEG Pz-Oz' recognized as type EEG (renamed to 'Pz-Oz').\n",
      "Channel 'EOG horizontal' recognized as type EOG (renamed to 'horizontal').\n",
      "Channel 'Resp oro-nasal' recognized as type RESP (renamed to 'oro-nasal').\n",
      "Channel 'EMG submental' recognized as type EMG (renamed to 'submental').\n",
      "Channel 'Temp rectal' recognized as type TEMP (renamed to 'rectal').\n",
      "Setting channel info structure...\n",
      "Creating raw.info structure...\n",
      "Reading 0 ... 8039999  =      0.000 ... 80399.990 secs...\n"
     ]
    },
    {
     "name": "stderr",
     "output_type": "stream",
     "text": [
      "c:\\Users\\andri\\school\\bio-informatics\\internship\\donders\\vsc\\Human_SleepSCoring\\DilonAndriesse\\pre_processing\\basic_mne_functions.py:15: RuntimeWarning: Channels contain different highpass filters. Highest filter setting will be stored.\n",
      "  raw = mne.io.read_raw_edf(\n",
      "c:\\Users\\andri\\school\\bio-informatics\\internship\\donders\\vsc\\Human_SleepSCoring\\DilonAndriesse\\pre_processing\\basic_mne_functions.py:15: RuntimeWarning: Channels contain different lowpass filters. Lowest filter setting will be stored.\n",
      "  raw = mne.io.read_raw_edf(\n"
     ]
    },
    {
     "name": "stdout",
     "output_type": "stream",
     "text": [
      "First sleep starts at: 20880.0\n",
      "Last sleep ends at: 79140.0\n",
      "Cropping raw: 19080.0 - 80399.99\n",
      "Cropping finished.\n",
      "<RawEDF | SC4751E0-PSG.edf, 4 x 6132000 (61320.0 s), ~187.1 MiB, data loaded>\n",
      "Total amount of sleep stages in list: 61320\n",
      "Amount of data in cropped_raw; 6132000\n",
      "Extracting EDF parameters from C:\\Users\\andri\\school\\bio-informatics\\internship\\donders\\data\\human_test_data\\input\\raw_input\\SC4752E0-PSG.edf...\n",
      "EDF file detected\n",
      "Channel 'EEG Fpz-Cz' recognized as type EEG (renamed to 'Fpz-Cz').\n",
      "Channel 'EEG Pz-Oz' recognized as type EEG (renamed to 'Pz-Oz').\n",
      "Channel 'EOG horizontal' recognized as type EOG (renamed to 'horizontal').\n",
      "Channel 'Resp oro-nasal' recognized as type RESP (renamed to 'oro-nasal').\n",
      "Channel 'EMG submental' recognized as type EMG (renamed to 'submental').\n",
      "Channel 'Temp rectal' recognized as type TEMP (renamed to 'rectal').\n",
      "Setting channel info structure...\n",
      "Creating raw.info structure...\n",
      "Reading 0 ... 7409999  =      0.000 ... 74099.990 secs...\n"
     ]
    },
    {
     "name": "stderr",
     "output_type": "stream",
     "text": [
      "c:\\Users\\andri\\school\\bio-informatics\\internship\\donders\\vsc\\Human_SleepSCoring\\DilonAndriesse\\pre_processing\\basic_mne_functions.py:15: RuntimeWarning: Channels contain different highpass filters. Highest filter setting will be stored.\n",
      "  raw = mne.io.read_raw_edf(\n",
      "c:\\Users\\andri\\school\\bio-informatics\\internship\\donders\\vsc\\Human_SleepSCoring\\DilonAndriesse\\pre_processing\\basic_mne_functions.py:15: RuntimeWarning: Channels contain different lowpass filters. Lowest filter setting will be stored.\n",
      "  raw = mne.io.read_raw_edf(\n"
     ]
    },
    {
     "name": "stdout",
     "output_type": "stream",
     "text": [
      "First sleep starts at: 29970.0\n",
      "Last sleep ends at: 57840.0\n",
      "Cropping raw: 28170.0 - 59640.0\n",
      "Cropping finished.\n",
      "<RawEDF | SC4752E0-PSG.edf, 4 x 3147001 (31470.0 s), ~96.0 MiB, data loaded>\n",
      "Total amount of sleep stages in list: 31470\n",
      "Amount of data in cropped_raw; 3147001\n",
      "Extracting EDF parameters from C:\\Users\\andri\\school\\bio-informatics\\internship\\donders\\data\\human_test_data\\input\\raw_input\\SC4761E0-PSG.edf...\n",
      "EDF file detected\n",
      "Channel 'EEG Fpz-Cz' recognized as type EEG (renamed to 'Fpz-Cz').\n",
      "Channel 'EEG Pz-Oz' recognized as type EEG (renamed to 'Pz-Oz').\n",
      "Channel 'EOG horizontal' recognized as type EOG (renamed to 'horizontal').\n",
      "Channel 'Resp oro-nasal' recognized as type RESP (renamed to 'oro-nasal').\n",
      "Channel 'EMG submental' recognized as type EMG (renamed to 'submental').\n",
      "Channel 'Temp rectal' recognized as type TEMP (renamed to 'rectal').\n",
      "Setting channel info structure...\n",
      "Creating raw.info structure...\n",
      "Reading 0 ... 7889999  =      0.000 ... 78899.990 secs...\n"
     ]
    },
    {
     "name": "stderr",
     "output_type": "stream",
     "text": [
      "c:\\Users\\andri\\school\\bio-informatics\\internship\\donders\\vsc\\Human_SleepSCoring\\DilonAndriesse\\pre_processing\\basic_mne_functions.py:15: RuntimeWarning: Channels contain different highpass filters. Highest filter setting will be stored.\n",
      "  raw = mne.io.read_raw_edf(\n",
      "c:\\Users\\andri\\school\\bio-informatics\\internship\\donders\\vsc\\Human_SleepSCoring\\DilonAndriesse\\pre_processing\\basic_mne_functions.py:15: RuntimeWarning: Channels contain different lowpass filters. Lowest filter setting will be stored.\n",
      "  raw = mne.io.read_raw_edf(\n"
     ]
    },
    {
     "name": "stdout",
     "output_type": "stream",
     "text": [
      "First sleep starts at: 16290.0\n",
      "Last sleep ends at: 63780.0\n",
      "Cropping raw: 14490.0 - 65580.0\n",
      "Cropping finished.\n",
      "<RawEDF | SC4761E0-PSG.edf, 4 x 5109001 (51090.0 s), ~155.9 MiB, data loaded>\n",
      "Total amount of sleep stages in list: 51090\n",
      "Amount of data in cropped_raw; 5109001\n",
      "Extracting EDF parameters from C:\\Users\\andri\\school\\bio-informatics\\internship\\donders\\data\\human_test_data\\input\\raw_input\\SC4762E0-PSG.edf...\n",
      "EDF file detected\n",
      "Channel 'EEG Fpz-Cz' recognized as type EEG (renamed to 'Fpz-Cz').\n",
      "Channel 'EEG Pz-Oz' recognized as type EEG (renamed to 'Pz-Oz').\n",
      "Channel 'EOG horizontal' recognized as type EOG (renamed to 'horizontal').\n",
      "Channel 'Resp oro-nasal' recognized as type RESP (renamed to 'oro-nasal').\n",
      "Channel 'EMG submental' recognized as type EMG (renamed to 'submental').\n",
      "Channel 'Temp rectal' recognized as type TEMP (renamed to 'rectal').\n",
      "Setting channel info structure...\n",
      "Creating raw.info structure...\n",
      "Reading 0 ... 8429999  =      0.000 ... 84299.990 secs...\n"
     ]
    },
    {
     "name": "stderr",
     "output_type": "stream",
     "text": [
      "c:\\Users\\andri\\school\\bio-informatics\\internship\\donders\\vsc\\Human_SleepSCoring\\DilonAndriesse\\pre_processing\\basic_mne_functions.py:15: RuntimeWarning: Channels contain different highpass filters. Highest filter setting will be stored.\n",
      "  raw = mne.io.read_raw_edf(\n",
      "c:\\Users\\andri\\school\\bio-informatics\\internship\\donders\\vsc\\Human_SleepSCoring\\DilonAndriesse\\pre_processing\\basic_mne_functions.py:15: RuntimeWarning: Channels contain different lowpass filters. Lowest filter setting will be stored.\n",
      "  raw = mne.io.read_raw_edf(\n"
     ]
    },
    {
     "name": "stdout",
     "output_type": "stream",
     "text": [
      "First sleep starts at: 1380.0\n",
      "Last sleep ends at: 83940.0\n",
      "Cropping raw: 0 - 84299.99\n",
      "Cropping finished.\n",
      "<RawEDF | SC4762E0-PSG.edf, 4 x 8430000 (84300.0 s), ~257.3 MiB, data loaded>\n",
      "Total amount of sleep stages in list: 84300\n",
      "Amount of data in cropped_raw; 8430000\n",
      "Extracting EDF parameters from C:\\Users\\andri\\school\\bio-informatics\\internship\\donders\\data\\human_test_data\\input\\raw_input\\SC4771G0-PSG.edf...\n",
      "EDF file detected\n",
      "Channel 'EEG Fpz-Cz' recognized as type EEG (renamed to 'Fpz-Cz').\n",
      "Channel 'EEG Pz-Oz' recognized as type EEG (renamed to 'Pz-Oz').\n",
      "Channel 'EOG horizontal' recognized as type EOG (renamed to 'horizontal').\n",
      "Channel 'Resp oro-nasal' recognized as type RESP (renamed to 'oro-nasal').\n",
      "Channel 'EMG submental' recognized as type EMG (renamed to 'submental').\n",
      "Channel 'Temp rectal' recognized as type TEMP (renamed to 'rectal').\n",
      "Setting channel info structure...\n",
      "Creating raw.info structure...\n",
      "Reading 0 ... 8267999  =      0.000 ... 82679.990 secs...\n"
     ]
    },
    {
     "name": "stderr",
     "output_type": "stream",
     "text": [
      "c:\\Users\\andri\\school\\bio-informatics\\internship\\donders\\vsc\\Human_SleepSCoring\\DilonAndriesse\\pre_processing\\basic_mne_functions.py:15: RuntimeWarning: Channels contain different highpass filters. Highest filter setting will be stored.\n",
      "  raw = mne.io.read_raw_edf(\n",
      "c:\\Users\\andri\\school\\bio-informatics\\internship\\donders\\vsc\\Human_SleepSCoring\\DilonAndriesse\\pre_processing\\basic_mne_functions.py:15: RuntimeWarning: Channels contain different lowpass filters. Lowest filter setting will be stored.\n",
      "  raw = mne.io.read_raw_edf(\n"
     ]
    },
    {
     "name": "stdout",
     "output_type": "stream",
     "text": [
      "First sleep starts at: 30060.0\n",
      "Last sleep ends at: 66210.0\n",
      "Cropping raw: 28260.0 - 68010.0\n",
      "Cropping finished.\n",
      "<RawEDF | SC4771G0-PSG.edf, 4 x 3975001 (39750.0 s), ~121.3 MiB, data loaded>\n",
      "Total amount of sleep stages in list: 39750\n",
      "Amount of data in cropped_raw; 3975001\n",
      "Extracting EDF parameters from C:\\Users\\andri\\school\\bio-informatics\\internship\\donders\\data\\human_test_data\\input\\raw_input\\SC4772G0-PSG.edf...\n",
      "EDF file detected\n",
      "Channel 'EEG Fpz-Cz' recognized as type EEG (renamed to 'Fpz-Cz').\n",
      "Channel 'EEG Pz-Oz' recognized as type EEG (renamed to 'Pz-Oz').\n",
      "Channel 'EOG horizontal' recognized as type EOG (renamed to 'horizontal').\n",
      "Channel 'Resp oro-nasal' recognized as type RESP (renamed to 'oro-nasal').\n",
      "Channel 'EMG submental' recognized as type EMG (renamed to 'submental').\n",
      "Channel 'Temp rectal' recognized as type TEMP (renamed to 'rectal').\n",
      "Setting channel info structure...\n",
      "Creating raw.info structure...\n",
      "Reading 0 ... 6725999  =      0.000 ... 67259.990 secs...\n"
     ]
    },
    {
     "name": "stderr",
     "output_type": "stream",
     "text": [
      "c:\\Users\\andri\\school\\bio-informatics\\internship\\donders\\vsc\\Human_SleepSCoring\\DilonAndriesse\\pre_processing\\basic_mne_functions.py:15: RuntimeWarning: Channels contain different highpass filters. Highest filter setting will be stored.\n",
      "  raw = mne.io.read_raw_edf(\n",
      "c:\\Users\\andri\\school\\bio-informatics\\internship\\donders\\vsc\\Human_SleepSCoring\\DilonAndriesse\\pre_processing\\basic_mne_functions.py:15: RuntimeWarning: Channels contain different lowpass filters. Lowest filter setting will be stored.\n",
      "  raw = mne.io.read_raw_edf(\n"
     ]
    },
    {
     "name": "stdout",
     "output_type": "stream",
     "text": [
      "First sleep starts at: 25920.0\n",
      "Last sleep ends at: 62040.0\n",
      "Cropping raw: 24120.0 - 63840.0\n",
      "Cropping finished.\n",
      "<RawEDF | SC4772G0-PSG.edf, 4 x 3972001 (39720.0 s), ~121.2 MiB, data loaded>\n",
      "Total amount of sleep stages in list: 39720\n",
      "Amount of data in cropped_raw; 3972001\n",
      "Extracting EDF parameters from C:\\Users\\andri\\school\\bio-informatics\\internship\\donders\\data\\human_test_data\\input\\raw_input\\SC4801G0-PSG.edf...\n",
      "EDF file detected\n",
      "Channel 'EEG Fpz-Cz' recognized as type EEG (renamed to 'Fpz-Cz').\n",
      "Channel 'EEG Pz-Oz' recognized as type EEG (renamed to 'Pz-Oz').\n",
      "Channel 'EOG horizontal' recognized as type EOG (renamed to 'horizontal').\n",
      "Channel 'Resp oro-nasal' recognized as type RESP (renamed to 'oro-nasal').\n",
      "Channel 'EMG submental' recognized as type EMG (renamed to 'submental').\n",
      "Channel 'Temp rectal' recognized as type TEMP (renamed to 'rectal').\n",
      "Setting channel info structure...\n",
      "Creating raw.info structure...\n",
      "Reading 0 ... 8321999  =      0.000 ... 83219.990 secs...\n"
     ]
    },
    {
     "name": "stderr",
     "output_type": "stream",
     "text": [
      "c:\\Users\\andri\\school\\bio-informatics\\internship\\donders\\vsc\\Human_SleepSCoring\\DilonAndriesse\\pre_processing\\basic_mne_functions.py:15: RuntimeWarning: Channels contain different highpass filters. Highest filter setting will be stored.\n",
      "  raw = mne.io.read_raw_edf(\n",
      "c:\\Users\\andri\\school\\bio-informatics\\internship\\donders\\vsc\\Human_SleepSCoring\\DilonAndriesse\\pre_processing\\basic_mne_functions.py:15: RuntimeWarning: Channels contain different lowpass filters. Lowest filter setting will be stored.\n",
      "  raw = mne.io.read_raw_edf(\n"
     ]
    },
    {
     "name": "stdout",
     "output_type": "stream",
     "text": [
      "First sleep starts at: 30780.0\n",
      "Last sleep ends at: 64410.0\n",
      "Cropping raw: 28980.0 - 66210.0\n",
      "Cropping finished.\n",
      "<RawEDF | SC4801G0-PSG.edf, 4 x 3723001 (37230.0 s), ~113.6 MiB, data loaded>\n",
      "Total amount of sleep stages in list: 37230\n",
      "Amount of data in cropped_raw; 3723001\n",
      "Extracting EDF parameters from C:\\Users\\andri\\school\\bio-informatics\\internship\\donders\\data\\human_test_data\\input\\raw_input\\SC4802G0-PSG.edf...\n",
      "EDF file detected\n",
      "Channel 'EEG Fpz-Cz' recognized as type EEG (renamed to 'Fpz-Cz').\n",
      "Channel 'EEG Pz-Oz' recognized as type EEG (renamed to 'Pz-Oz').\n",
      "Channel 'EOG horizontal' recognized as type EOG (renamed to 'horizontal').\n",
      "Channel 'Resp oro-nasal' recognized as type RESP (renamed to 'oro-nasal').\n",
      "Channel 'EMG submental' recognized as type EMG (renamed to 'submental').\n",
      "Channel 'Temp rectal' recognized as type TEMP (renamed to 'rectal').\n",
      "Setting channel info structure...\n",
      "Creating raw.info structure...\n",
      "Reading 0 ... 8429999  =      0.000 ... 84299.990 secs...\n"
     ]
    },
    {
     "name": "stderr",
     "output_type": "stream",
     "text": [
      "c:\\Users\\andri\\school\\bio-informatics\\internship\\donders\\vsc\\Human_SleepSCoring\\DilonAndriesse\\pre_processing\\basic_mne_functions.py:15: RuntimeWarning: Channels contain different highpass filters. Highest filter setting will be stored.\n",
      "  raw = mne.io.read_raw_edf(\n",
      "c:\\Users\\andri\\school\\bio-informatics\\internship\\donders\\vsc\\Human_SleepSCoring\\DilonAndriesse\\pre_processing\\basic_mne_functions.py:15: RuntimeWarning: Channels contain different lowpass filters. Lowest filter setting will be stored.\n",
      "  raw = mne.io.read_raw_edf(\n"
     ]
    },
    {
     "name": "stdout",
     "output_type": "stream",
     "text": [
      "First sleep starts at: 32220.0\n",
      "Last sleep ends at: 65490.0\n",
      "Cropping raw: 30420.0 - 67290.0\n",
      "Cropping finished.\n",
      "<RawEDF | SC4802G0-PSG.edf, 4 x 3687001 (36870.0 s), ~112.5 MiB, data loaded>\n",
      "Total amount of sleep stages in list: 36870\n",
      "Amount of data in cropped_raw; 3687001\n",
      "Extracting EDF parameters from C:\\Users\\andri\\school\\bio-informatics\\internship\\donders\\data\\human_test_data\\input\\raw_input\\SC4811G0-PSG.edf...\n",
      "EDF file detected\n",
      "Channel 'EEG Fpz-Cz' recognized as type EEG (renamed to 'Fpz-Cz').\n",
      "Channel 'EEG Pz-Oz' recognized as type EEG (renamed to 'Pz-Oz').\n",
      "Channel 'EOG horizontal' recognized as type EOG (renamed to 'horizontal').\n",
      "Channel 'Resp oro-nasal' recognized as type RESP (renamed to 'oro-nasal').\n",
      "Channel 'EMG submental' recognized as type EMG (renamed to 'submental').\n",
      "Channel 'Temp rectal' recognized as type TEMP (renamed to 'rectal').\n",
      "Setting channel info structure...\n",
      "Creating raw.info structure...\n",
      "Reading 0 ... 7205999  =      0.000 ... 72059.990 secs...\n"
     ]
    },
    {
     "name": "stderr",
     "output_type": "stream",
     "text": [
      "c:\\Users\\andri\\school\\bio-informatics\\internship\\donders\\vsc\\Human_SleepSCoring\\DilonAndriesse\\pre_processing\\basic_mne_functions.py:15: RuntimeWarning: Channels contain different highpass filters. Highest filter setting will be stored.\n",
      "  raw = mne.io.read_raw_edf(\n",
      "c:\\Users\\andri\\school\\bio-informatics\\internship\\donders\\vsc\\Human_SleepSCoring\\DilonAndriesse\\pre_processing\\basic_mne_functions.py:15: RuntimeWarning: Channels contain different lowpass filters. Lowest filter setting will be stored.\n",
      "  raw = mne.io.read_raw_edf(\n"
     ]
    },
    {
     "name": "stdout",
     "output_type": "stream",
     "text": [
      "First sleep starts at: 18000.0\n",
      "Last sleep ends at: 53190.0\n",
      "Cropping raw: 16200.0 - 54990.0\n",
      "Cropping finished.\n",
      "<RawEDF | SC4811G0-PSG.edf, 4 x 3879001 (38790.0 s), ~118.4 MiB, data loaded>\n",
      "Total amount of sleep stages in list: 38790\n",
      "Amount of data in cropped_raw; 3879001\n",
      "Extracting EDF parameters from C:\\Users\\andri\\school\\bio-informatics\\internship\\donders\\data\\human_test_data\\input\\raw_input\\SC4812G0-PSG.edf...\n",
      "EDF file detected\n",
      "Channel 'EEG Fpz-Cz' recognized as type EEG (renamed to 'Fpz-Cz').\n",
      "Channel 'EEG Pz-Oz' recognized as type EEG (renamed to 'Pz-Oz').\n",
      "Channel 'EOG horizontal' recognized as type EOG (renamed to 'horizontal').\n",
      "Channel 'Resp oro-nasal' recognized as type RESP (renamed to 'oro-nasal').\n",
      "Channel 'EMG submental' recognized as type EMG (renamed to 'submental').\n",
      "Channel 'Temp rectal' recognized as type TEMP (renamed to 'rectal').\n",
      "Setting channel info structure...\n",
      "Creating raw.info structure...\n",
      "Reading 0 ... 7247999  =      0.000 ... 72479.990 secs...\n"
     ]
    },
    {
     "name": "stderr",
     "output_type": "stream",
     "text": [
      "c:\\Users\\andri\\school\\bio-informatics\\internship\\donders\\vsc\\Human_SleepSCoring\\DilonAndriesse\\pre_processing\\basic_mne_functions.py:15: RuntimeWarning: Channels contain different highpass filters. Highest filter setting will be stored.\n",
      "  raw = mne.io.read_raw_edf(\n",
      "c:\\Users\\andri\\school\\bio-informatics\\internship\\donders\\vsc\\Human_SleepSCoring\\DilonAndriesse\\pre_processing\\basic_mne_functions.py:15: RuntimeWarning: Channels contain different lowpass filters. Lowest filter setting will be stored.\n",
      "  raw = mne.io.read_raw_edf(\n"
     ]
    },
    {
     "name": "stdout",
     "output_type": "stream",
     "text": [
      "First sleep starts at: 32430.0\n",
      "Last sleep ends at: 64380.0\n",
      "Cropping raw: 30630.0 - 66180.0\n",
      "Cropping finished.\n",
      "<RawEDF | SC4812G0-PSG.edf, 4 x 3555001 (35550.0 s), ~108.5 MiB, data loaded>\n",
      "Total amount of sleep stages in list: 35550\n",
      "Amount of data in cropped_raw; 3555001\n",
      "Extracting EDF parameters from C:\\Users\\andri\\school\\bio-informatics\\internship\\donders\\data\\human_test_data\\input\\raw_input\\SC4821G0-PSG.edf...\n",
      "EDF file detected\n",
      "Channel 'EEG Fpz-Cz' recognized as type EEG (renamed to 'Fpz-Cz').\n",
      "Channel 'EEG Pz-Oz' recognized as type EEG (renamed to 'Pz-Oz').\n",
      "Channel 'EOG horizontal' recognized as type EOG (renamed to 'horizontal').\n",
      "Channel 'Resp oro-nasal' recognized as type RESP (renamed to 'oro-nasal').\n",
      "Channel 'EMG submental' recognized as type EMG (renamed to 'submental').\n",
      "Channel 'Temp rectal' recognized as type TEMP (renamed to 'rectal').\n",
      "Setting channel info structure...\n",
      "Creating raw.info structure...\n",
      "Reading 0 ... 8165999  =      0.000 ... 81659.990 secs...\n"
     ]
    },
    {
     "name": "stderr",
     "output_type": "stream",
     "text": [
      "c:\\Users\\andri\\school\\bio-informatics\\internship\\donders\\vsc\\Human_SleepSCoring\\DilonAndriesse\\pre_processing\\basic_mne_functions.py:15: RuntimeWarning: Channels contain different highpass filters. Highest filter setting will be stored.\n",
      "  raw = mne.io.read_raw_edf(\n",
      "c:\\Users\\andri\\school\\bio-informatics\\internship\\donders\\vsc\\Human_SleepSCoring\\DilonAndriesse\\pre_processing\\basic_mne_functions.py:15: RuntimeWarning: Channels contain different lowpass filters. Lowest filter setting will be stored.\n",
      "  raw = mne.io.read_raw_edf(\n"
     ]
    },
    {
     "name": "stdout",
     "output_type": "stream",
     "text": [
      "First sleep starts at: 11070.0\n",
      "Last sleep ends at: 58620.0\n",
      "Cropping raw: 9270.0 - 60420.0\n",
      "Cropping finished.\n",
      "<RawEDF | SC4821G0-PSG.edf, 4 x 5115001 (51150.0 s), ~156.1 MiB, data loaded>\n",
      "Total amount of sleep stages in list: 51150\n",
      "Amount of data in cropped_raw; 5115001\n",
      "Extracting EDF parameters from C:\\Users\\andri\\school\\bio-informatics\\internship\\donders\\data\\human_test_data\\input\\raw_input\\SC4822G0-PSG.edf...\n",
      "EDF file detected\n",
      "Channel 'EEG Fpz-Cz' recognized as type EEG (renamed to 'Fpz-Cz').\n",
      "Channel 'EEG Pz-Oz' recognized as type EEG (renamed to 'Pz-Oz').\n",
      "Channel 'EOG horizontal' recognized as type EOG (renamed to 'horizontal').\n",
      "Channel 'Resp oro-nasal' recognized as type RESP (renamed to 'oro-nasal').\n",
      "Channel 'EMG submental' recognized as type EMG (renamed to 'submental').\n",
      "Channel 'Temp rectal' recognized as type TEMP (renamed to 'rectal').\n",
      "Setting channel info structure...\n",
      "Creating raw.info structure...\n",
      "Reading 0 ... 8429999  =      0.000 ... 84299.990 secs...\n"
     ]
    },
    {
     "name": "stderr",
     "output_type": "stream",
     "text": [
      "c:\\Users\\andri\\school\\bio-informatics\\internship\\donders\\vsc\\Human_SleepSCoring\\DilonAndriesse\\pre_processing\\basic_mne_functions.py:15: RuntimeWarning: Channels contain different highpass filters. Highest filter setting will be stored.\n",
      "  raw = mne.io.read_raw_edf(\n",
      "c:\\Users\\andri\\school\\bio-informatics\\internship\\donders\\vsc\\Human_SleepSCoring\\DilonAndriesse\\pre_processing\\basic_mne_functions.py:15: RuntimeWarning: Channels contain different lowpass filters. Lowest filter setting will be stored.\n",
      "  raw = mne.io.read_raw_edf(\n"
     ]
    },
    {
     "name": "stdout",
     "output_type": "stream",
     "text": [
      "First sleep starts at: 24120.0\n",
      "Last sleep ends at: 61500.0\n",
      "Cropping raw: 22320.0 - 63300.0\n",
      "Cropping finished.\n",
      "<RawEDF | SC4822G0-PSG.edf, 4 x 4098001 (40980.0 s), ~125.1 MiB, data loaded>\n",
      "Total amount of sleep stages in list: 40980\n",
      "Amount of data in cropped_raw; 4098001\n"
     ]
    }
   ],
   "source": [
    "# epoch length\n",
    "epoch = 1\n",
    "# wake time (s) to save before first sleep and after last sleep\n",
    "# (30 mins, so 30(s) * 60(s))\n",
    "wake_time = 30 * 60\n",
    "# which channels to extract\n",
    "channels = [\"Fpz-Cz\", \"Pz-Oz\", \"horizontal\", \"submental\"]\n",
    "\n",
    "# path to raw PSG files\n",
    "raw_path = \"C:/Users/andri/school/bio-informatics/internship/donders/data/human_test_data/input/raw_input\"\n",
    "# path to raw hypnogram annotation files\n",
    "anno_path = \"C:/Users/andri/school/bio-informatics/internship/donders/data/human_test_data/input/annotation_raw\"\n",
    "# path to the output for the .mat files\n",
    "output_path = \"C:/Users/andri/school/bio-informatics/internship/donders/data/human_test_data/mat_files/\"\n",
    "\n",
    "stage_id = {\n",
    "    \"Sleep stage W\": 0,\n",
    "    \"Sleep stage 1\": 1,\n",
    "    \"Sleep stage 2\": 2,\n",
    "    \"Sleep stage 3\": 3,\n",
    "    \"Sleep stage 4\": 3,\n",
    "    \"Sleep stage R\": 4,\n",
    "    \"Movement time\": 5,\n",
    "    \"Sleep stage ?\": 6\n",
    "}\n",
    "\n",
    "# iterate over both PSG and Hypno directories and get the file paths\n",
    "for raw_file, anno_file in zip(os.listdir(raw_path), os.listdir(anno_path)):\n",
    "    # empty list to store sleep stages in 1d array where each \n",
    "    # element is 1 epoch\n",
    "    sleep_states = []\n",
    "    #get_annotation = False\n",
    "    subject = raw_file.split(\"/\")[-1].split(\"-\")[0]\n",
    "    # extract, annotate and crop raw data\n",
    "    raw = bmf.read_raw_psg(f\"{raw_path}/{raw_file}\", channels)\n",
    "    bmf.extract_annotation(f\"{anno_path}/{anno_file}\", raw)\n",
    "    cropped_raw = bmf.crop_data(raw, wake_time)\n",
    "    print(cropped_raw)\n",
    "    for anno in cropped_raw.annotations:\n",
    "        stage = stage_id[str(anno[\"description\"])]\n",
    "        duration_sample = int(anno[\"duration\"])\n",
    "        sleep_states.extend([stage] * duration_sample)\n",
    "    scipy.io.savemat(\n",
    "        f\"{output_path}{subject}_sleep_states.mat\", \n",
    "        {\"States\": sleep_states}\n",
    "    )\n",
    "    for channel in [\"Fpz-Cz\", \"Pz-Oz\", \"horizontal\", \"submental\"]:\n",
    "        cropped_raw_c = cropped_raw.copy().pick([channel])\n",
    "        # rename indistinct channel names\n",
    "        if channel == \"horizontal\":\n",
    "            cropped_raw_c.rename_channels({\"horizontal\": \"EOG\"})\n",
    "            channel = \"EOG\"\n",
    "        elif channel == \"submental\":\n",
    "            cropped_raw_c.rename_channels({\"submental\":\"EMG\"})\n",
    "            channel = \"EMG\"\n",
    "        # save numpy array to .mat file format\n",
    "        scipy.io.savemat(\n",
    "            f\"{output_path}{subject}_{channel}.mat\", \n",
    "            {channel: cropped_raw_c._data.reshape((-1,1))}\n",
    "            )\n",
    "    print(f\"Total amount of sleep stages in list: {len(sleep_states)}\")\n",
    "    print(f\"Amount of data in cropped_raw; {len(cropped_raw_c._data.reshape((-1,1)))}\")\n",
    "    "
   ]
  }
 ],
 "metadata": {
  "kernelspec": {
   "display_name": "rodent_model",
   "language": "python",
   "name": "python3"
  },
  "language_info": {
   "codemirror_mode": {
    "name": "ipython",
    "version": 3
   },
   "file_extension": ".py",
   "mimetype": "text/x-python",
   "name": "python",
   "nbconvert_exporter": "python",
   "pygments_lexer": "ipython3",
   "version": "3.13.5"
  }
 },
 "nbformat": 4,
 "nbformat_minor": 5
}
