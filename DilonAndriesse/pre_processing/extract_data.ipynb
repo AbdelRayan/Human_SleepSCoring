{
 "cells": [
  {
   "cell_type": "code",
   "execution_count": 3,
   "id": "047a29ff",
   "metadata": {},
   "outputs": [],
   "source": [
    "import scipy\n",
    "import os\n",
    "\n",
    "import basic_mne_functions as bmf"
   ]
  },
  {
   "cell_type": "code",
   "execution_count": 4,
   "id": "370eb043",
   "metadata": {},
   "outputs": [
    {
     "name": "stdout",
     "output_type": "stream",
     "text": [
      "Extracting EDF parameters from C:\\Users\\andri\\school\\bio-informatics\\internship\\donders\\data\\human_test_data\\input\\raw_input\\SC4001E0-PSG.edf...\n",
      "EDF file detected\n",
      "Channel 'EEG Fpz-Cz' recognized as type EEG (renamed to 'Fpz-Cz').\n",
      "Channel 'EEG Pz-Oz' recognized as type EEG (renamed to 'Pz-Oz').\n",
      "Channel 'EOG horizontal' recognized as type EOG (renamed to 'horizontal').\n",
      "Channel 'Resp oro-nasal' recognized as type RESP (renamed to 'oro-nasal').\n",
      "Channel 'EMG submental' recognized as type EMG (renamed to 'submental').\n",
      "Channel 'Temp rectal' recognized as type TEMP (renamed to 'rectal').\n",
      "Setting channel info structure...\n",
      "Creating raw.info structure...\n",
      "Reading 0 ... 7949999  =      0.000 ... 79499.990 secs...\n"
     ]
    },
    {
     "name": "stderr",
     "output_type": "stream",
     "text": [
      "c:\\Users\\andri\\school\\bio-informatics\\internship\\donders\\vsc\\Human_SleepSCoring\\DilonAndriesse\\pre_processing\\basic_mne_functions.py:15: RuntimeWarning: Channels contain different highpass filters. Highest filter setting will be stored.\n",
      "  raw = mne.io.read_raw_edf(\n",
      "c:\\Users\\andri\\school\\bio-informatics\\internship\\donders\\vsc\\Human_SleepSCoring\\DilonAndriesse\\pre_processing\\basic_mne_functions.py:15: RuntimeWarning: Channels contain different lowpass filters. Lowest filter setting will be stored.\n",
      "  raw = mne.io.read_raw_edf(\n"
     ]
    },
    {
     "name": "stdout",
     "output_type": "stream",
     "text": [
      "First sleep starts at: 30630.0\n",
      "Last sleep ends at: 52260.0\n",
      "Cropping raw: 28830.0 - 54060.0\n",
      "Cropping finished.\n",
      "Used Annotations descriptions: [np.str_('Sleep stage 1'), np.str_('Sleep stage 2'), np.str_('Sleep stage 3'), np.str_('Sleep stage 4'), np.str_('Sleep stage R'), np.str_('Sleep stage W')]\n",
      "Extracting EDF parameters from C:\\Users\\andri\\school\\bio-informatics\\internship\\donders\\data\\human_test_data\\input\\raw_input\\SC4002E0-PSG.edf...\n",
      "EDF file detected\n",
      "Channel 'EEG Fpz-Cz' recognized as type EEG (renamed to 'Fpz-Cz').\n",
      "Channel 'EEG Pz-Oz' recognized as type EEG (renamed to 'Pz-Oz').\n",
      "Channel 'EOG horizontal' recognized as type EOG (renamed to 'horizontal').\n",
      "Channel 'Resp oro-nasal' recognized as type RESP (renamed to 'oro-nasal').\n",
      "Channel 'EMG submental' recognized as type EMG (renamed to 'submental').\n",
      "Channel 'Temp rectal' recognized as type TEMP (renamed to 'rectal').\n",
      "Setting channel info structure...\n",
      "Creating raw.info structure...\n",
      "Reading 0 ... 8489999  =      0.000 ... 84899.990 secs...\n"
     ]
    },
    {
     "name": "stderr",
     "output_type": "stream",
     "text": [
      "c:\\Users\\andri\\school\\bio-informatics\\internship\\donders\\vsc\\Human_SleepSCoring\\DilonAndriesse\\pre_processing\\basic_mne_functions.py:15: RuntimeWarning: Channels contain different highpass filters. Highest filter setting will be stored.\n",
      "  raw = mne.io.read_raw_edf(\n",
      "c:\\Users\\andri\\school\\bio-informatics\\internship\\donders\\vsc\\Human_SleepSCoring\\DilonAndriesse\\pre_processing\\basic_mne_functions.py:15: RuntimeWarning: Channels contain different lowpass filters. Lowest filter setting will be stored.\n",
      "  raw = mne.io.read_raw_edf(\n"
     ]
    },
    {
     "name": "stdout",
     "output_type": "stream",
     "text": [
      "First sleep starts at: 26070.0\n",
      "Last sleep ends at: 56310.0\n",
      "Cropping raw: 24270.0 - 58110.0\n",
      "Cropping finished.\n",
      "Used Annotations descriptions: [np.str_('Sleep stage 1'), np.str_('Sleep stage 2'), np.str_('Sleep stage 3'), np.str_('Sleep stage 4'), np.str_('Sleep stage R'), np.str_('Sleep stage W')]\n",
      "Extracting EDF parameters from C:\\Users\\andri\\school\\bio-informatics\\internship\\donders\\data\\human_test_data\\input\\raw_input\\SC4011E0-PSG.edf...\n",
      "EDF file detected\n",
      "Channel 'EEG Fpz-Cz' recognized as type EEG (renamed to 'Fpz-Cz').\n",
      "Channel 'EEG Pz-Oz' recognized as type EEG (renamed to 'Pz-Oz').\n",
      "Channel 'EOG horizontal' recognized as type EOG (renamed to 'horizontal').\n",
      "Channel 'Resp oro-nasal' recognized as type RESP (renamed to 'oro-nasal').\n",
      "Channel 'EMG submental' recognized as type EMG (renamed to 'submental').\n",
      "Channel 'Temp rectal' recognized as type TEMP (renamed to 'rectal').\n",
      "Setting channel info structure...\n",
      "Creating raw.info structure...\n",
      "Reading 0 ... 8405999  =      0.000 ... 84059.990 secs...\n"
     ]
    },
    {
     "name": "stderr",
     "output_type": "stream",
     "text": [
      "c:\\Users\\andri\\school\\bio-informatics\\internship\\donders\\vsc\\Human_SleepSCoring\\DilonAndriesse\\pre_processing\\basic_mne_functions.py:15: RuntimeWarning: Channels contain different highpass filters. Highest filter setting will be stored.\n",
      "  raw = mne.io.read_raw_edf(\n",
      "c:\\Users\\andri\\school\\bio-informatics\\internship\\donders\\vsc\\Human_SleepSCoring\\DilonAndriesse\\pre_processing\\basic_mne_functions.py:15: RuntimeWarning: Channels contain different lowpass filters. Lowest filter setting will be stored.\n",
      "  raw = mne.io.read_raw_edf(\n"
     ]
    },
    {
     "name": "stdout",
     "output_type": "stream",
     "text": [
      "First sleep starts at: 21540.0\n",
      "Last sleep ends at: 51030.0\n",
      "Cropping raw: 19740.0 - 52830.0\n",
      "Cropping finished.\n",
      "Used Annotations descriptions: [np.str_('Sleep stage 1'), np.str_('Sleep stage 2'), np.str_('Sleep stage 3'), np.str_('Sleep stage 4'), np.str_('Sleep stage R'), np.str_('Sleep stage W')]\n",
      "Extracting EDF parameters from C:\\Users\\andri\\school\\bio-informatics\\internship\\donders\\data\\human_test_data\\input\\raw_input\\SC4012E0-PSG.edf...\n",
      "EDF file detected\n",
      "Channel 'EEG Fpz-Cz' recognized as type EEG (renamed to 'Fpz-Cz').\n",
      "Channel 'EEG Pz-Oz' recognized as type EEG (renamed to 'Pz-Oz').\n",
      "Channel 'EOG horizontal' recognized as type EOG (renamed to 'horizontal').\n",
      "Channel 'Resp oro-nasal' recognized as type RESP (renamed to 'oro-nasal').\n",
      "Channel 'EMG submental' recognized as type EMG (renamed to 'submental').\n",
      "Channel 'Temp rectal' recognized as type TEMP (renamed to 'rectal').\n",
      "Setting channel info structure...\n",
      "Creating raw.info structure...\n",
      "Reading 0 ... 8549999  =      0.000 ... 85499.990 secs...\n"
     ]
    },
    {
     "name": "stderr",
     "output_type": "stream",
     "text": [
      "c:\\Users\\andri\\school\\bio-informatics\\internship\\donders\\vsc\\Human_SleepSCoring\\DilonAndriesse\\pre_processing\\basic_mne_functions.py:15: RuntimeWarning: Channels contain different highpass filters. Highest filter setting will be stored.\n",
      "  raw = mne.io.read_raw_edf(\n",
      "c:\\Users\\andri\\school\\bio-informatics\\internship\\donders\\vsc\\Human_SleepSCoring\\DilonAndriesse\\pre_processing\\basic_mne_functions.py:15: RuntimeWarning: Channels contain different lowpass filters. Lowest filter setting will be stored.\n",
      "  raw = mne.io.read_raw_edf(\n"
     ]
    },
    {
     "name": "stdout",
     "output_type": "stream",
     "text": [
      "First sleep starts at: 19290.0\n",
      "Last sleep ends at: 51270.0\n",
      "Cropping raw: 17490.0 - 53070.0\n",
      "Cropping finished.\n",
      "Used Annotations descriptions: [np.str_('Sleep stage 1'), np.str_('Sleep stage 2'), np.str_('Sleep stage 3'), np.str_('Sleep stage 4'), np.str_('Sleep stage R'), np.str_('Sleep stage W')]\n",
      "Extracting EDF parameters from C:\\Users\\andri\\school\\bio-informatics\\internship\\donders\\data\\human_test_data\\input\\raw_input\\SC4021E0-PSG.edf...\n",
      "EDF file detected\n",
      "Channel 'EEG Fpz-Cz' recognized as type EEG (renamed to 'Fpz-Cz').\n",
      "Channel 'EEG Pz-Oz' recognized as type EEG (renamed to 'Pz-Oz').\n",
      "Channel 'EOG horizontal' recognized as type EOG (renamed to 'horizontal').\n",
      "Channel 'Resp oro-nasal' recognized as type RESP (renamed to 'oro-nasal').\n",
      "Channel 'EMG submental' recognized as type EMG (renamed to 'submental').\n",
      "Channel 'Temp rectal' recognized as type TEMP (renamed to 'rectal').\n",
      "Setting channel info structure...\n",
      "Creating raw.info structure...\n",
      "Reading 0 ... 8411999  =      0.000 ... 84119.990 secs...\n"
     ]
    },
    {
     "name": "stderr",
     "output_type": "stream",
     "text": [
      "c:\\Users\\andri\\school\\bio-informatics\\internship\\donders\\vsc\\Human_SleepSCoring\\DilonAndriesse\\pre_processing\\basic_mne_functions.py:15: RuntimeWarning: Channels contain different highpass filters. Highest filter setting will be stored.\n",
      "  raw = mne.io.read_raw_edf(\n",
      "c:\\Users\\andri\\school\\bio-informatics\\internship\\donders\\vsc\\Human_SleepSCoring\\DilonAndriesse\\pre_processing\\basic_mne_functions.py:15: RuntimeWarning: Channels contain different lowpass filters. Lowest filter setting will be stored.\n",
      "  raw = mne.io.read_raw_edf(\n"
     ]
    },
    {
     "name": "stdout",
     "output_type": "stream",
     "text": [
      "First sleep starts at: 21870.0\n",
      "Last sleep ends at: 49020.0\n",
      "Cropping raw: 20070.0 - 50820.0\n",
      "Cropping finished.\n",
      "Used Annotations descriptions: [np.str_('Sleep stage 1'), np.str_('Sleep stage 2'), np.str_('Sleep stage 3'), np.str_('Sleep stage 4'), np.str_('Sleep stage R'), np.str_('Sleep stage W')]\n",
      "Extracting EDF parameters from C:\\Users\\andri\\school\\bio-informatics\\internship\\donders\\data\\human_test_data\\input\\raw_input\\SC4022E0-PSG.edf...\n",
      "EDF file detected\n",
      "Channel 'EEG Fpz-Cz' recognized as type EEG (renamed to 'Fpz-Cz').\n",
      "Channel 'EEG Pz-Oz' recognized as type EEG (renamed to 'Pz-Oz').\n",
      "Channel 'EOG horizontal' recognized as type EOG (renamed to 'horizontal').\n",
      "Channel 'Resp oro-nasal' recognized as type RESP (renamed to 'oro-nasal').\n",
      "Channel 'EMG submental' recognized as type EMG (renamed to 'submental').\n",
      "Channel 'Temp rectal' recognized as type TEMP (renamed to 'rectal').\n",
      "Setting channel info structure...\n",
      "Creating raw.info structure...\n",
      "Reading 0 ... 8267999  =      0.000 ... 82679.990 secs...\n"
     ]
    },
    {
     "name": "stderr",
     "output_type": "stream",
     "text": [
      "c:\\Users\\andri\\school\\bio-informatics\\internship\\donders\\vsc\\Human_SleepSCoring\\DilonAndriesse\\pre_processing\\basic_mne_functions.py:15: RuntimeWarning: Channels contain different highpass filters. Highest filter setting will be stored.\n",
      "  raw = mne.io.read_raw_edf(\n",
      "c:\\Users\\andri\\school\\bio-informatics\\internship\\donders\\vsc\\Human_SleepSCoring\\DilonAndriesse\\pre_processing\\basic_mne_functions.py:15: RuntimeWarning: Channels contain different lowpass filters. Lowest filter setting will be stored.\n",
      "  raw = mne.io.read_raw_edf(\n"
     ]
    },
    {
     "name": "stdout",
     "output_type": "stream",
     "text": [
      "First sleep starts at: 22710.0\n",
      "Last sleep ends at: 49410.0\n",
      "Cropping raw: 20910.0 - 51210.0\n",
      "Cropping finished.\n",
      "Used Annotations descriptions: [np.str_('Sleep stage 1'), np.str_('Sleep stage 2'), np.str_('Sleep stage 3'), np.str_('Sleep stage 4'), np.str_('Sleep stage R'), np.str_('Sleep stage W')]\n",
      "Extracting EDF parameters from C:\\Users\\andri\\school\\bio-informatics\\internship\\donders\\data\\human_test_data\\input\\raw_input\\SC4031E0-PSG.edf...\n",
      "EDF file detected\n",
      "Channel 'EEG Fpz-Cz' recognized as type EEG (renamed to 'Fpz-Cz').\n",
      "Channel 'EEG Pz-Oz' recognized as type EEG (renamed to 'Pz-Oz').\n",
      "Channel 'EOG horizontal' recognized as type EOG (renamed to 'horizontal').\n",
      "Channel 'Resp oro-nasal' recognized as type RESP (renamed to 'oro-nasal').\n",
      "Channel 'EMG submental' recognized as type EMG (renamed to 'submental').\n",
      "Channel 'Temp rectal' recognized as type TEMP (renamed to 'rectal').\n",
      "Setting channel info structure...\n",
      "Creating raw.info structure...\n",
      "Reading 0 ... 8459999  =      0.000 ... 84599.990 secs...\n"
     ]
    },
    {
     "name": "stderr",
     "output_type": "stream",
     "text": [
      "c:\\Users\\andri\\school\\bio-informatics\\internship\\donders\\vsc\\Human_SleepSCoring\\DilonAndriesse\\pre_processing\\basic_mne_functions.py:15: RuntimeWarning: Channels contain different highpass filters. Highest filter setting will be stored.\n",
      "  raw = mne.io.read_raw_edf(\n",
      "c:\\Users\\andri\\school\\bio-informatics\\internship\\donders\\vsc\\Human_SleepSCoring\\DilonAndriesse\\pre_processing\\basic_mne_functions.py:15: RuntimeWarning: Channels contain different lowpass filters. Lowest filter setting will be stored.\n",
      "  raw = mne.io.read_raw_edf(\n"
     ]
    },
    {
     "name": "stdout",
     "output_type": "stream",
     "text": [
      "First sleep starts at: 26130.0\n",
      "Last sleep ends at: 51090.0\n",
      "Cropping raw: 24330.0 - 52890.0\n",
      "Cropping finished.\n",
      "Used Annotations descriptions: [np.str_('Sleep stage 1'), np.str_('Sleep stage 2'), np.str_('Sleep stage 3'), np.str_('Sleep stage 4'), np.str_('Sleep stage R'), np.str_('Sleep stage W')]\n",
      "Extracting EDF parameters from C:\\Users\\andri\\school\\bio-informatics\\internship\\donders\\data\\human_test_data\\input\\raw_input\\SC4032E0-PSG.edf...\n",
      "EDF file detected\n",
      "Channel 'EEG Fpz-Cz' recognized as type EEG (renamed to 'Fpz-Cz').\n",
      "Channel 'EEG Pz-Oz' recognized as type EEG (renamed to 'Pz-Oz').\n",
      "Channel 'EOG horizontal' recognized as type EOG (renamed to 'horizontal').\n",
      "Channel 'Resp oro-nasal' recognized as type RESP (renamed to 'oro-nasal').\n",
      "Channel 'EMG submental' recognized as type EMG (renamed to 'submental').\n",
      "Channel 'Temp rectal' recognized as type TEMP (renamed to 'rectal').\n",
      "Setting channel info structure...\n",
      "Creating raw.info structure...\n",
      "Reading 0 ... 8195999  =      0.000 ... 81959.990 secs...\n"
     ]
    },
    {
     "name": "stderr",
     "output_type": "stream",
     "text": [
      "c:\\Users\\andri\\school\\bio-informatics\\internship\\donders\\vsc\\Human_SleepSCoring\\DilonAndriesse\\pre_processing\\basic_mne_functions.py:15: RuntimeWarning: Channels contain different highpass filters. Highest filter setting will be stored.\n",
      "  raw = mne.io.read_raw_edf(\n",
      "c:\\Users\\andri\\school\\bio-informatics\\internship\\donders\\vsc\\Human_SleepSCoring\\DilonAndriesse\\pre_processing\\basic_mne_functions.py:15: RuntimeWarning: Channels contain different lowpass filters. Lowest filter setting will be stored.\n",
      "  raw = mne.io.read_raw_edf(\n"
     ]
    },
    {
     "name": "stdout",
     "output_type": "stream",
     "text": [
      "First sleep starts at: 27630.0\n",
      "Last sleep ends at: 51360.0\n",
      "Cropping raw: 25830.0 - 53160.0\n",
      "Cropping finished.\n",
      "Used Annotations descriptions: [np.str_('Sleep stage 1'), np.str_('Sleep stage 2'), np.str_('Sleep stage 3'), np.str_('Sleep stage 4'), np.str_('Sleep stage R'), np.str_('Sleep stage W')]\n",
      "Extracting EDF parameters from C:\\Users\\andri\\school\\bio-informatics\\internship\\donders\\data\\human_test_data\\input\\raw_input\\SC4041E0-PSG.edf...\n",
      "EDF file detected\n",
      "Channel 'EEG Fpz-Cz' recognized as type EEG (renamed to 'Fpz-Cz').\n",
      "Channel 'EEG Pz-Oz' recognized as type EEG (renamed to 'Pz-Oz').\n",
      "Channel 'EOG horizontal' recognized as type EOG (renamed to 'horizontal').\n",
      "Channel 'Resp oro-nasal' recognized as type RESP (renamed to 'oro-nasal').\n",
      "Channel 'EMG submental' recognized as type EMG (renamed to 'submental').\n",
      "Channel 'Temp rectal' recognized as type TEMP (renamed to 'rectal').\n",
      "Setting channel info structure...\n",
      "Creating raw.info structure...\n",
      "Reading 0 ... 7709999  =      0.000 ... 77099.990 secs...\n"
     ]
    },
    {
     "name": "stderr",
     "output_type": "stream",
     "text": [
      "c:\\Users\\andri\\school\\bio-informatics\\internship\\donders\\vsc\\Human_SleepSCoring\\DilonAndriesse\\pre_processing\\basic_mne_functions.py:15: RuntimeWarning: Channels contain different highpass filters. Highest filter setting will be stored.\n",
      "  raw = mne.io.read_raw_edf(\n",
      "c:\\Users\\andri\\school\\bio-informatics\\internship\\donders\\vsc\\Human_SleepSCoring\\DilonAndriesse\\pre_processing\\basic_mne_functions.py:15: RuntimeWarning: Channels contain different lowpass filters. Lowest filter setting will be stored.\n",
      "  raw = mne.io.read_raw_edf(\n"
     ]
    },
    {
     "name": "stdout",
     "output_type": "stream",
     "text": [
      "First sleep starts at: 24360.0\n",
      "Last sleep ends at: 57840.0\n",
      "Cropping raw: 22560.0 - 59640.0\n",
      "Cropping finished.\n",
      "Used Annotations descriptions: [np.str_('Sleep stage 1'), np.str_('Sleep stage 2'), np.str_('Sleep stage 3'), np.str_('Sleep stage R'), np.str_('Sleep stage W')]\n",
      "Extracting EDF parameters from C:\\Users\\andri\\school\\bio-informatics\\internship\\donders\\data\\human_test_data\\input\\raw_input\\SC4042E0-PSG.edf...\n",
      "EDF file detected\n",
      "Channel 'EEG Fpz-Cz' recognized as type EEG (renamed to 'Fpz-Cz').\n",
      "Channel 'EEG Pz-Oz' recognized as type EEG (renamed to 'Pz-Oz').\n",
      "Channel 'EOG horizontal' recognized as type EOG (renamed to 'horizontal').\n",
      "Channel 'Resp oro-nasal' recognized as type RESP (renamed to 'oro-nasal').\n",
      "Channel 'EMG submental' recognized as type EMG (renamed to 'submental').\n",
      "Channel 'Temp rectal' recognized as type TEMP (renamed to 'rectal').\n",
      "Setting channel info structure...\n",
      "Creating raw.info structure...\n",
      "Reading 0 ... 8375999  =      0.000 ... 83759.990 secs...\n"
     ]
    },
    {
     "name": "stderr",
     "output_type": "stream",
     "text": [
      "c:\\Users\\andri\\school\\bio-informatics\\internship\\donders\\vsc\\Human_SleepSCoring\\DilonAndriesse\\pre_processing\\basic_mne_functions.py:15: RuntimeWarning: Channels contain different highpass filters. Highest filter setting will be stored.\n",
      "  raw = mne.io.read_raw_edf(\n",
      "c:\\Users\\andri\\school\\bio-informatics\\internship\\donders\\vsc\\Human_SleepSCoring\\DilonAndriesse\\pre_processing\\basic_mne_functions.py:15: RuntimeWarning: Channels contain different lowpass filters. Lowest filter setting will be stored.\n",
      "  raw = mne.io.read_raw_edf(\n"
     ]
    },
    {
     "name": "stdout",
     "output_type": "stream",
     "text": [
      "First sleep starts at: 32220.0\n",
      "Last sleep ends at: 64740.0\n",
      "Cropping raw: 30420.0 - 66540.0\n",
      "Cropping finished.\n",
      "Used Annotations descriptions: [np.str_('Sleep stage 1'), np.str_('Sleep stage 2'), np.str_('Sleep stage 3'), np.str_('Sleep stage 4'), np.str_('Sleep stage R'), np.str_('Sleep stage W')]\n",
      "Extracting EDF parameters from C:\\Users\\andri\\school\\bio-informatics\\internship\\donders\\data\\human_test_data\\input\\raw_input\\SC4051E0-PSG.edf...\n",
      "EDF file detected\n",
      "Channel 'EEG Fpz-Cz' recognized as type EEG (renamed to 'Fpz-Cz').\n",
      "Channel 'EEG Pz-Oz' recognized as type EEG (renamed to 'Pz-Oz').\n",
      "Channel 'EOG horizontal' recognized as type EOG (renamed to 'horizontal').\n",
      "Channel 'Resp oro-nasal' recognized as type RESP (renamed to 'oro-nasal').\n",
      "Channel 'EMG submental' recognized as type EMG (renamed to 'submental').\n",
      "Channel 'Temp rectal' recognized as type TEMP (renamed to 'rectal').\n",
      "Setting channel info structure...\n",
      "Creating raw.info structure...\n",
      "Reading 0 ... 8165999  =      0.000 ... 81659.990 secs...\n"
     ]
    },
    {
     "name": "stderr",
     "output_type": "stream",
     "text": [
      "c:\\Users\\andri\\school\\bio-informatics\\internship\\donders\\vsc\\Human_SleepSCoring\\DilonAndriesse\\pre_processing\\basic_mne_functions.py:15: RuntimeWarning: Channels contain different highpass filters. Highest filter setting will be stored.\n",
      "  raw = mne.io.read_raw_edf(\n",
      "c:\\Users\\andri\\school\\bio-informatics\\internship\\donders\\vsc\\Human_SleepSCoring\\DilonAndriesse\\pre_processing\\basic_mne_functions.py:15: RuntimeWarning: Channels contain different lowpass filters. Lowest filter setting will be stored.\n",
      "  raw = mne.io.read_raw_edf(\n"
     ]
    },
    {
     "name": "stdout",
     "output_type": "stream",
     "text": [
      "First sleep starts at: 38670.0\n",
      "Last sleep ends at: 55230.0\n",
      "Cropping raw: 36870.0 - 57030.0\n",
      "Cropping finished.\n",
      "Used Annotations descriptions: [np.str_('Sleep stage 1'), np.str_('Sleep stage 2'), np.str_('Sleep stage 3'), np.str_('Sleep stage 4'), np.str_('Sleep stage R'), np.str_('Sleep stage W')]\n",
      "Extracting EDF parameters from C:\\Users\\andri\\school\\bio-informatics\\internship\\donders\\data\\human_test_data\\input\\raw_input\\SC4052E0-PSG.edf...\n",
      "EDF file detected\n",
      "Channel 'EEG Fpz-Cz' recognized as type EEG (renamed to 'Fpz-Cz').\n",
      "Channel 'EEG Pz-Oz' recognized as type EEG (renamed to 'Pz-Oz').\n",
      "Channel 'EOG horizontal' recognized as type EOG (renamed to 'horizontal').\n",
      "Channel 'Resp oro-nasal' recognized as type RESP (renamed to 'oro-nasal').\n",
      "Channel 'EMG submental' recognized as type EMG (renamed to 'submental').\n",
      "Channel 'Temp rectal' recognized as type TEMP (renamed to 'rectal').\n",
      "Setting channel info structure...\n",
      "Creating raw.info structure...\n",
      "Reading 0 ... 8417999  =      0.000 ... 84179.990 secs...\n"
     ]
    },
    {
     "name": "stderr",
     "output_type": "stream",
     "text": [
      "c:\\Users\\andri\\school\\bio-informatics\\internship\\donders\\vsc\\Human_SleepSCoring\\DilonAndriesse\\pre_processing\\basic_mne_functions.py:15: RuntimeWarning: Channels contain different highpass filters. Highest filter setting will be stored.\n",
      "  raw = mne.io.read_raw_edf(\n",
      "c:\\Users\\andri\\school\\bio-informatics\\internship\\donders\\vsc\\Human_SleepSCoring\\DilonAndriesse\\pre_processing\\basic_mne_functions.py:15: RuntimeWarning: Channels contain different lowpass filters. Lowest filter setting will be stored.\n",
      "  raw = mne.io.read_raw_edf(\n"
     ]
    },
    {
     "name": "stdout",
     "output_type": "stream",
     "text": [
      "First sleep starts at: 32430.0\n",
      "Last sleep ends at: 66270.0\n",
      "Cropping raw: 30630.0 - 68070.0\n",
      "Cropping finished.\n",
      "Used Annotations descriptions: [np.str_('Sleep stage 1'), np.str_('Sleep stage 2'), np.str_('Sleep stage 3'), np.str_('Sleep stage 4'), np.str_('Sleep stage R'), np.str_('Sleep stage W')]\n",
      "Extracting EDF parameters from C:\\Users\\andri\\school\\bio-informatics\\internship\\donders\\data\\human_test_data\\input\\raw_input\\SC4061E0-PSG.edf...\n",
      "EDF file detected\n",
      "Channel 'EEG Fpz-Cz' recognized as type EEG (renamed to 'Fpz-Cz').\n",
      "Channel 'EEG Pz-Oz' recognized as type EEG (renamed to 'Pz-Oz').\n",
      "Channel 'EOG horizontal' recognized as type EOG (renamed to 'horizontal').\n",
      "Channel 'Resp oro-nasal' recognized as type RESP (renamed to 'oro-nasal').\n",
      "Channel 'EMG submental' recognized as type EMG (renamed to 'submental').\n",
      "Channel 'Temp rectal' recognized as type TEMP (renamed to 'rectal').\n",
      "Setting channel info structure...\n",
      "Creating raw.info structure...\n",
      "Reading 0 ... 8309999  =      0.000 ... 83099.990 secs...\n"
     ]
    },
    {
     "name": "stderr",
     "output_type": "stream",
     "text": [
      "c:\\Users\\andri\\school\\bio-informatics\\internship\\donders\\vsc\\Human_SleepSCoring\\DilonAndriesse\\pre_processing\\basic_mne_functions.py:15: RuntimeWarning: Channels contain different highpass filters. Highest filter setting will be stored.\n",
      "  raw = mne.io.read_raw_edf(\n",
      "c:\\Users\\andri\\school\\bio-informatics\\internship\\donders\\vsc\\Human_SleepSCoring\\DilonAndriesse\\pre_processing\\basic_mne_functions.py:15: RuntimeWarning: Channels contain different lowpass filters. Lowest filter setting will be stored.\n",
      "  raw = mne.io.read_raw_edf(\n"
     ]
    },
    {
     "name": "stdout",
     "output_type": "stream",
     "text": [
      "First sleep starts at: 28050.0\n",
      "Last sleep ends at: 49740.0\n",
      "Cropping raw: 26250.0 - 51540.0\n",
      "Cropping finished.\n",
      "Used Annotations descriptions: [np.str_('Sleep stage 1'), np.str_('Sleep stage 2'), np.str_('Sleep stage 3'), np.str_('Sleep stage 4'), np.str_('Sleep stage R'), np.str_('Sleep stage W')]\n",
      "Extracting EDF parameters from C:\\Users\\andri\\school\\bio-informatics\\internship\\donders\\data\\human_test_data\\input\\raw_input\\SC4062E0-PSG.edf...\n",
      "EDF file detected\n",
      "Channel 'EEG Fpz-Cz' recognized as type EEG (renamed to 'Fpz-Cz').\n",
      "Channel 'EEG Pz-Oz' recognized as type EEG (renamed to 'Pz-Oz').\n",
      "Channel 'EOG horizontal' recognized as type EOG (renamed to 'horizontal').\n",
      "Channel 'Resp oro-nasal' recognized as type RESP (renamed to 'oro-nasal').\n",
      "Channel 'EMG submental' recognized as type EMG (renamed to 'submental').\n",
      "Channel 'Temp rectal' recognized as type TEMP (renamed to 'rectal').\n",
      "Setting channel info structure...\n",
      "Creating raw.info structure...\n",
      "Reading 0 ... 8489999  =      0.000 ... 84899.990 secs...\n"
     ]
    },
    {
     "name": "stderr",
     "output_type": "stream",
     "text": [
      "c:\\Users\\andri\\school\\bio-informatics\\internship\\donders\\vsc\\Human_SleepSCoring\\DilonAndriesse\\pre_processing\\basic_mne_functions.py:15: RuntimeWarning: Channels contain different highpass filters. Highest filter setting will be stored.\n",
      "  raw = mne.io.read_raw_edf(\n",
      "c:\\Users\\andri\\school\\bio-informatics\\internship\\donders\\vsc\\Human_SleepSCoring\\DilonAndriesse\\pre_processing\\basic_mne_functions.py:15: RuntimeWarning: Channels contain different lowpass filters. Lowest filter setting will be stored.\n",
      "  raw = mne.io.read_raw_edf(\n"
     ]
    },
    {
     "name": "stdout",
     "output_type": "stream",
     "text": [
      "First sleep starts at: 25410.0\n",
      "Last sleep ends at: 52290.0\n",
      "Cropping raw: 23610.0 - 54090.0\n",
      "Cropping finished.\n",
      "Used Annotations descriptions: [np.str_('Sleep stage 1'), np.str_('Sleep stage 2'), np.str_('Sleep stage 3'), np.str_('Sleep stage 4'), np.str_('Sleep stage R'), np.str_('Sleep stage W')]\n",
      "Extracting EDF parameters from C:\\Users\\andri\\school\\bio-informatics\\internship\\donders\\data\\human_test_data\\input\\raw_input\\SC4071E0-PSG.edf...\n",
      "EDF file detected\n",
      "Channel 'EEG Fpz-Cz' recognized as type EEG (renamed to 'Fpz-Cz').\n",
      "Channel 'EEG Pz-Oz' recognized as type EEG (renamed to 'Pz-Oz').\n",
      "Channel 'EOG horizontal' recognized as type EOG (renamed to 'horizontal').\n",
      "Channel 'Resp oro-nasal' recognized as type RESP (renamed to 'oro-nasal').\n",
      "Channel 'EMG submental' recognized as type EMG (renamed to 'submental').\n",
      "Channel 'Temp rectal' recognized as type TEMP (renamed to 'rectal').\n",
      "Setting channel info structure...\n",
      "Creating raw.info structure...\n",
      "Reading 0 ... 8429999  =      0.000 ... 84299.990 secs...\n"
     ]
    },
    {
     "name": "stderr",
     "output_type": "stream",
     "text": [
      "c:\\Users\\andri\\school\\bio-informatics\\internship\\donders\\vsc\\Human_SleepSCoring\\DilonAndriesse\\pre_processing\\basic_mne_functions.py:15: RuntimeWarning: Channels contain different highpass filters. Highest filter setting will be stored.\n",
      "  raw = mne.io.read_raw_edf(\n",
      "c:\\Users\\andri\\school\\bio-informatics\\internship\\donders\\vsc\\Human_SleepSCoring\\DilonAndriesse\\pre_processing\\basic_mne_functions.py:15: RuntimeWarning: Channels contain different lowpass filters. Lowest filter setting will be stored.\n",
      "  raw = mne.io.read_raw_edf(\n"
     ]
    },
    {
     "name": "stdout",
     "output_type": "stream",
     "text": [
      "First sleep starts at: 27990.0\n",
      "Last sleep ends at: 53670.0\n",
      "Cropping raw: 26190.0 - 55470.0\n",
      "Cropping finished.\n",
      "Used Annotations descriptions: [np.str_('Sleep stage 1'), np.str_('Sleep stage 2'), np.str_('Sleep stage 3'), np.str_('Sleep stage 4'), np.str_('Sleep stage R'), np.str_('Sleep stage W')]\n",
      "Extracting EDF parameters from C:\\Users\\andri\\school\\bio-informatics\\internship\\donders\\data\\human_test_data\\input\\raw_input\\SC4072E0-PSG.edf...\n",
      "EDF file detected\n",
      "Channel 'EEG Fpz-Cz' recognized as type EEG (renamed to 'Fpz-Cz').\n",
      "Channel 'EEG Pz-Oz' recognized as type EEG (renamed to 'Pz-Oz').\n",
      "Channel 'EOG horizontal' recognized as type EOG (renamed to 'horizontal').\n",
      "Channel 'Resp oro-nasal' recognized as type RESP (renamed to 'oro-nasal').\n",
      "Channel 'EMG submental' recognized as type EMG (renamed to 'submental').\n",
      "Channel 'Temp rectal' recognized as type TEMP (renamed to 'rectal').\n",
      "Setting channel info structure...\n",
      "Creating raw.info structure...\n",
      "Reading 0 ... 8309999  =      0.000 ... 83099.990 secs...\n"
     ]
    },
    {
     "name": "stderr",
     "output_type": "stream",
     "text": [
      "c:\\Users\\andri\\school\\bio-informatics\\internship\\donders\\vsc\\Human_SleepSCoring\\DilonAndriesse\\pre_processing\\basic_mne_functions.py:15: RuntimeWarning: Channels contain different highpass filters. Highest filter setting will be stored.\n",
      "  raw = mne.io.read_raw_edf(\n",
      "c:\\Users\\andri\\school\\bio-informatics\\internship\\donders\\vsc\\Human_SleepSCoring\\DilonAndriesse\\pre_processing\\basic_mne_functions.py:15: RuntimeWarning: Channels contain different lowpass filters. Lowest filter setting will be stored.\n",
      "  raw = mne.io.read_raw_edf(\n"
     ]
    },
    {
     "name": "stdout",
     "output_type": "stream",
     "text": [
      "First sleep starts at: 19200.0\n",
      "Last sleep ends at: 53790.0\n",
      "Cropping raw: 17400.0 - 55590.0\n",
      "Cropping finished.\n",
      "Used Annotations descriptions: [np.str_('Sleep stage 1'), np.str_('Sleep stage 2'), np.str_('Sleep stage 3'), np.str_('Sleep stage 4'), np.str_('Sleep stage R'), np.str_('Sleep stage W')]\n",
      "Extracting EDF parameters from C:\\Users\\andri\\school\\bio-informatics\\internship\\donders\\data\\human_test_data\\input\\raw_input\\SC4081E0-PSG.edf...\n",
      "EDF file detected\n",
      "Channel 'EEG Fpz-Cz' recognized as type EEG (renamed to 'Fpz-Cz').\n",
      "Channel 'EEG Pz-Oz' recognized as type EEG (renamed to 'Pz-Oz').\n",
      "Channel 'EOG horizontal' recognized as type EOG (renamed to 'horizontal').\n",
      "Channel 'Resp oro-nasal' recognized as type RESP (renamed to 'oro-nasal').\n",
      "Channel 'EMG submental' recognized as type EMG (renamed to 'submental').\n",
      "Channel 'Temp rectal' recognized as type TEMP (renamed to 'rectal').\n",
      "Setting channel info structure...\n",
      "Creating raw.info structure...\n",
      "Reading 0 ... 8387999  =      0.000 ... 83879.990 secs...\n"
     ]
    },
    {
     "name": "stderr",
     "output_type": "stream",
     "text": [
      "c:\\Users\\andri\\school\\bio-informatics\\internship\\donders\\vsc\\Human_SleepSCoring\\DilonAndriesse\\pre_processing\\basic_mne_functions.py:15: RuntimeWarning: Channels contain different highpass filters. Highest filter setting will be stored.\n",
      "  raw = mne.io.read_raw_edf(\n",
      "c:\\Users\\andri\\school\\bio-informatics\\internship\\donders\\vsc\\Human_SleepSCoring\\DilonAndriesse\\pre_processing\\basic_mne_functions.py:15: RuntimeWarning: Channels contain different lowpass filters. Lowest filter setting will be stored.\n",
      "  raw = mne.io.read_raw_edf(\n"
     ]
    },
    {
     "name": "stdout",
     "output_type": "stream",
     "text": [
      "First sleep starts at: 24090.0\n",
      "Last sleep ends at: 54510.0\n",
      "Cropping raw: 22290.0 - 56310.0\n",
      "Cropping finished.\n",
      "Used Annotations descriptions: [np.str_('Sleep stage 1'), np.str_('Sleep stage 2'), np.str_('Sleep stage 3'), np.str_('Sleep stage 4'), np.str_('Sleep stage R'), np.str_('Sleep stage W')]\n",
      "Extracting EDF parameters from C:\\Users\\andri\\school\\bio-informatics\\internship\\donders\\data\\human_test_data\\input\\raw_input\\SC4082E0-PSG.edf...\n",
      "EDF file detected\n",
      "Channel 'EEG Fpz-Cz' recognized as type EEG (renamed to 'Fpz-Cz').\n",
      "Channel 'EEG Pz-Oz' recognized as type EEG (renamed to 'Pz-Oz').\n",
      "Channel 'EOG horizontal' recognized as type EOG (renamed to 'horizontal').\n",
      "Channel 'Resp oro-nasal' recognized as type RESP (renamed to 'oro-nasal').\n",
      "Channel 'EMG submental' recognized as type EMG (renamed to 'submental').\n",
      "Channel 'Temp rectal' recognized as type TEMP (renamed to 'rectal').\n",
      "Setting channel info structure...\n",
      "Creating raw.info structure...\n",
      "Reading 0 ... 7901999  =      0.000 ... 79019.990 secs...\n"
     ]
    },
    {
     "name": "stderr",
     "output_type": "stream",
     "text": [
      "c:\\Users\\andri\\school\\bio-informatics\\internship\\donders\\vsc\\Human_SleepSCoring\\DilonAndriesse\\pre_processing\\basic_mne_functions.py:15: RuntimeWarning: Channels contain different highpass filters. Highest filter setting will be stored.\n",
      "  raw = mne.io.read_raw_edf(\n",
      "c:\\Users\\andri\\school\\bio-informatics\\internship\\donders\\vsc\\Human_SleepSCoring\\DilonAndriesse\\pre_processing\\basic_mne_functions.py:15: RuntimeWarning: Channels contain different lowpass filters. Lowest filter setting will be stored.\n",
      "  raw = mne.io.read_raw_edf(\n"
     ]
    },
    {
     "name": "stdout",
     "output_type": "stream",
     "text": [
      "First sleep starts at: 25350.0\n",
      "Last sleep ends at: 53370.0\n",
      "Cropping raw: 23550.0 - 55170.0\n",
      "Cropping finished.\n",
      "Used Annotations descriptions: [np.str_('Sleep stage 1'), np.str_('Sleep stage 2'), np.str_('Sleep stage 3'), np.str_('Sleep stage 4'), np.str_('Sleep stage R'), np.str_('Sleep stage W')]\n",
      "Extracting EDF parameters from C:\\Users\\andri\\school\\bio-informatics\\internship\\donders\\data\\human_test_data\\input\\raw_input\\SC4091E0-PSG.edf...\n",
      "EDF file detected\n",
      "Channel 'EEG Fpz-Cz' recognized as type EEG (renamed to 'Fpz-Cz').\n",
      "Channel 'EEG Pz-Oz' recognized as type EEG (renamed to 'Pz-Oz').\n",
      "Channel 'EOG horizontal' recognized as type EOG (renamed to 'horizontal').\n",
      "Channel 'Resp oro-nasal' recognized as type RESP (renamed to 'oro-nasal').\n",
      "Channel 'EMG submental' recognized as type EMG (renamed to 'submental').\n",
      "Channel 'Temp rectal' recognized as type TEMP (renamed to 'rectal').\n",
      "Setting channel info structure...\n",
      "Creating raw.info structure...\n",
      "Reading 0 ... 8195999  =      0.000 ... 81959.990 secs...\n"
     ]
    },
    {
     "name": "stderr",
     "output_type": "stream",
     "text": [
      "c:\\Users\\andri\\school\\bio-informatics\\internship\\donders\\vsc\\Human_SleepSCoring\\DilonAndriesse\\pre_processing\\basic_mne_functions.py:15: RuntimeWarning: Channels contain different highpass filters. Highest filter setting will be stored.\n",
      "  raw = mne.io.read_raw_edf(\n",
      "c:\\Users\\andri\\school\\bio-informatics\\internship\\donders\\vsc\\Human_SleepSCoring\\DilonAndriesse\\pre_processing\\basic_mne_functions.py:15: RuntimeWarning: Channels contain different lowpass filters. Lowest filter setting will be stored.\n",
      "  raw = mne.io.read_raw_edf(\n"
     ]
    },
    {
     "name": "stdout",
     "output_type": "stream",
     "text": [
      "First sleep starts at: 24150.0\n",
      "Last sleep ends at: 54840.0\n",
      "Cropping raw: 22350.0 - 56640.0\n",
      "Cropping finished.\n",
      "Used Annotations descriptions: [np.str_('Sleep stage 1'), np.str_('Sleep stage 2'), np.str_('Sleep stage 3'), np.str_('Sleep stage 4'), np.str_('Sleep stage R'), np.str_('Sleep stage W')]\n",
      "Extracting EDF parameters from C:\\Users\\andri\\school\\bio-informatics\\internship\\donders\\data\\human_test_data\\input\\raw_input\\SC4101E0-PSG.edf...\n",
      "EDF file detected\n",
      "Channel 'EEG Fpz-Cz' recognized as type EEG (renamed to 'Fpz-Cz').\n",
      "Channel 'EEG Pz-Oz' recognized as type EEG (renamed to 'Pz-Oz').\n",
      "Channel 'EOG horizontal' recognized as type EOG (renamed to 'horizontal').\n",
      "Channel 'Resp oro-nasal' recognized as type RESP (renamed to 'oro-nasal').\n",
      "Channel 'EMG submental' recognized as type EMG (renamed to 'submental').\n",
      "Channel 'Temp rectal' recognized as type TEMP (renamed to 'rectal').\n",
      "Setting channel info structure...\n",
      "Creating raw.info structure...\n",
      "Reading 0 ... 8159999  =      0.000 ... 81599.990 secs...\n"
     ]
    },
    {
     "name": "stderr",
     "output_type": "stream",
     "text": [
      "c:\\Users\\andri\\school\\bio-informatics\\internship\\donders\\vsc\\Human_SleepSCoring\\DilonAndriesse\\pre_processing\\basic_mne_functions.py:15: RuntimeWarning: Channels contain different highpass filters. Highest filter setting will be stored.\n",
      "  raw = mne.io.read_raw_edf(\n",
      "c:\\Users\\andri\\school\\bio-informatics\\internship\\donders\\vsc\\Human_SleepSCoring\\DilonAndriesse\\pre_processing\\basic_mne_functions.py:15: RuntimeWarning: Channels contain different lowpass filters. Lowest filter setting will be stored.\n",
      "  raw = mne.io.read_raw_edf(\n"
     ]
    },
    {
     "name": "stdout",
     "output_type": "stream",
     "text": [
      "First sleep starts at: 22860.0\n",
      "Last sleep ends at: 52410.0\n",
      "Cropping raw: 21060.0 - 54210.0\n",
      "Cropping finished.\n",
      "Used Annotations descriptions: [np.str_('Sleep stage 1'), np.str_('Sleep stage 2'), np.str_('Sleep stage 3'), np.str_('Sleep stage R'), np.str_('Sleep stage W')]\n",
      "Extracting EDF parameters from C:\\Users\\andri\\school\\bio-informatics\\internship\\donders\\data\\human_test_data\\input\\raw_input\\SC4102E0-PSG.edf...\n",
      "EDF file detected\n",
      "Channel 'EEG Fpz-Cz' recognized as type EEG (renamed to 'Fpz-Cz').\n",
      "Channel 'EEG Pz-Oz' recognized as type EEG (renamed to 'Pz-Oz').\n",
      "Channel 'EOG horizontal' recognized as type EOG (renamed to 'horizontal').\n",
      "Channel 'Resp oro-nasal' recognized as type RESP (renamed to 'oro-nasal').\n",
      "Channel 'EMG submental' recognized as type EMG (renamed to 'submental').\n",
      "Channel 'Temp rectal' recognized as type TEMP (renamed to 'rectal').\n",
      "Setting channel info structure...\n",
      "Creating raw.info structure...\n",
      "Reading 0 ... 8573999  =      0.000 ... 85739.990 secs...\n"
     ]
    },
    {
     "name": "stderr",
     "output_type": "stream",
     "text": [
      "c:\\Users\\andri\\school\\bio-informatics\\internship\\donders\\vsc\\Human_SleepSCoring\\DilonAndriesse\\pre_processing\\basic_mne_functions.py:15: RuntimeWarning: Channels contain different highpass filters. Highest filter setting will be stored.\n",
      "  raw = mne.io.read_raw_edf(\n",
      "c:\\Users\\andri\\school\\bio-informatics\\internship\\donders\\vsc\\Human_SleepSCoring\\DilonAndriesse\\pre_processing\\basic_mne_functions.py:15: RuntimeWarning: Channels contain different lowpass filters. Lowest filter setting will be stored.\n",
      "  raw = mne.io.read_raw_edf(\n"
     ]
    },
    {
     "name": "stdout",
     "output_type": "stream",
     "text": [
      "First sleep starts at: 26400.0\n",
      "Last sleep ends at: 55590.0\n",
      "Cropping raw: 24600.0 - 57390.0\n",
      "Cropping finished.\n",
      "Used Annotations descriptions: [np.str_('Sleep stage 1'), np.str_('Sleep stage 2'), np.str_('Sleep stage 3'), np.str_('Sleep stage R'), np.str_('Sleep stage W')]\n",
      "Extracting EDF parameters from C:\\Users\\andri\\school\\bio-informatics\\internship\\donders\\data\\human_test_data\\input\\raw_input\\SC4111E0-PSG.edf...\n",
      "EDF file detected\n",
      "Channel 'EEG Fpz-Cz' recognized as type EEG (renamed to 'Fpz-Cz').\n",
      "Channel 'EEG Pz-Oz' recognized as type EEG (renamed to 'Pz-Oz').\n",
      "Channel 'EOG horizontal' recognized as type EOG (renamed to 'horizontal').\n",
      "Channel 'Resp oro-nasal' recognized as type RESP (renamed to 'oro-nasal').\n",
      "Channel 'EMG submental' recognized as type EMG (renamed to 'submental').\n",
      "Channel 'Temp rectal' recognized as type TEMP (renamed to 'rectal').\n",
      "Setting channel info structure...\n",
      "Creating raw.info structure...\n",
      "Reading 0 ... 7925999  =      0.000 ... 79259.990 secs...\n"
     ]
    },
    {
     "name": "stderr",
     "output_type": "stream",
     "text": [
      "c:\\Users\\andri\\school\\bio-informatics\\internship\\donders\\vsc\\Human_SleepSCoring\\DilonAndriesse\\pre_processing\\basic_mne_functions.py:15: RuntimeWarning: Channels contain different highpass filters. Highest filter setting will be stored.\n",
      "  raw = mne.io.read_raw_edf(\n",
      "c:\\Users\\andri\\school\\bio-informatics\\internship\\donders\\vsc\\Human_SleepSCoring\\DilonAndriesse\\pre_processing\\basic_mne_functions.py:15: RuntimeWarning: Channels contain different lowpass filters. Lowest filter setting will be stored.\n",
      "  raw = mne.io.read_raw_edf(\n"
     ]
    },
    {
     "name": "stdout",
     "output_type": "stream",
     "text": [
      "First sleep starts at: 28050.0\n",
      "Last sleep ends at: 52320.0\n",
      "Cropping raw: 26250.0 - 54120.0\n",
      "Cropping finished.\n",
      "Used Annotations descriptions: [np.str_('Sleep stage 1'), np.str_('Sleep stage 2'), np.str_('Sleep stage 3'), np.str_('Sleep stage 4'), np.str_('Sleep stage R'), np.str_('Sleep stage W')]\n",
      "Extracting EDF parameters from C:\\Users\\andri\\school\\bio-informatics\\internship\\donders\\data\\human_test_data\\input\\raw_input\\SC4112E0-PSG.edf...\n",
      "EDF file detected\n",
      "Channel 'EEG Fpz-Cz' recognized as type EEG (renamed to 'Fpz-Cz').\n",
      "Channel 'EEG Pz-Oz' recognized as type EEG (renamed to 'Pz-Oz').\n",
      "Channel 'EOG horizontal' recognized as type EOG (renamed to 'horizontal').\n",
      "Channel 'Resp oro-nasal' recognized as type RESP (renamed to 'oro-nasal').\n",
      "Channel 'EMG submental' recognized as type EMG (renamed to 'submental').\n",
      "Channel 'Temp rectal' recognized as type TEMP (renamed to 'rectal').\n",
      "Setting channel info structure...\n",
      "Creating raw.info structure...\n",
      "Reading 0 ... 8339999  =      0.000 ... 83399.990 secs...\n"
     ]
    },
    {
     "name": "stderr",
     "output_type": "stream",
     "text": [
      "c:\\Users\\andri\\school\\bio-informatics\\internship\\donders\\vsc\\Human_SleepSCoring\\DilonAndriesse\\pre_processing\\basic_mne_functions.py:15: RuntimeWarning: Channels contain different highpass filters. Highest filter setting will be stored.\n",
      "  raw = mne.io.read_raw_edf(\n",
      "c:\\Users\\andri\\school\\bio-informatics\\internship\\donders\\vsc\\Human_SleepSCoring\\DilonAndriesse\\pre_processing\\basic_mne_functions.py:15: RuntimeWarning: Channels contain different lowpass filters. Lowest filter setting will be stored.\n",
      "  raw = mne.io.read_raw_edf(\n"
     ]
    },
    {
     "name": "stdout",
     "output_type": "stream",
     "text": [
      "First sleep starts at: 35850.0\n",
      "Last sleep ends at: 56310.0\n",
      "Cropping raw: 34050.0 - 58110.0\n",
      "Cropping finished.\n",
      "Used Annotations descriptions: [np.str_('Sleep stage 1'), np.str_('Sleep stage 2'), np.str_('Sleep stage 3'), np.str_('Sleep stage 4'), np.str_('Sleep stage R'), np.str_('Sleep stage W')]\n",
      "Extracting EDF parameters from C:\\Users\\andri\\school\\bio-informatics\\internship\\donders\\data\\human_test_data\\input\\raw_input\\SC4121E0-PSG.edf...\n",
      "EDF file detected\n",
      "Channel 'EEG Fpz-Cz' recognized as type EEG (renamed to 'Fpz-Cz').\n",
      "Channel 'EEG Pz-Oz' recognized as type EEG (renamed to 'Pz-Oz').\n",
      "Channel 'EOG horizontal' recognized as type EOG (renamed to 'horizontal').\n",
      "Channel 'Resp oro-nasal' recognized as type RESP (renamed to 'oro-nasal').\n",
      "Channel 'EMG submental' recognized as type EMG (renamed to 'submental').\n",
      "Channel 'Temp rectal' recognized as type TEMP (renamed to 'rectal').\n",
      "Setting channel info structure...\n",
      "Creating raw.info structure...\n",
      "Reading 0 ... 8357999  =      0.000 ... 83579.990 secs...\n"
     ]
    },
    {
     "name": "stderr",
     "output_type": "stream",
     "text": [
      "c:\\Users\\andri\\school\\bio-informatics\\internship\\donders\\vsc\\Human_SleepSCoring\\DilonAndriesse\\pre_processing\\basic_mne_functions.py:15: RuntimeWarning: Channels contain different highpass filters. Highest filter setting will be stored.\n",
      "  raw = mne.io.read_raw_edf(\n",
      "c:\\Users\\andri\\school\\bio-informatics\\internship\\donders\\vsc\\Human_SleepSCoring\\DilonAndriesse\\pre_processing\\basic_mne_functions.py:15: RuntimeWarning: Channels contain different lowpass filters. Lowest filter setting will be stored.\n",
      "  raw = mne.io.read_raw_edf(\n"
     ]
    },
    {
     "name": "stdout",
     "output_type": "stream",
     "text": [
      "First sleep starts at: 28860.0\n",
      "Last sleep ends at: 56820.0\n",
      "Cropping raw: 27060.0 - 58620.0\n",
      "Cropping finished.\n",
      "Used Annotations descriptions: [np.str_('Sleep stage 1'), np.str_('Sleep stage 2'), np.str_('Sleep stage 3'), np.str_('Sleep stage 4'), np.str_('Sleep stage R'), np.str_('Sleep stage W')]\n",
      "Extracting EDF parameters from C:\\Users\\andri\\school\\bio-informatics\\internship\\donders\\data\\human_test_data\\input\\raw_input\\SC4122E0-PSG.edf...\n",
      "EDF file detected\n",
      "Channel 'EEG Fpz-Cz' recognized as type EEG (renamed to 'Fpz-Cz').\n",
      "Channel 'EEG Pz-Oz' recognized as type EEG (renamed to 'Pz-Oz').\n",
      "Channel 'EOG horizontal' recognized as type EOG (renamed to 'horizontal').\n",
      "Channel 'Resp oro-nasal' recognized as type RESP (renamed to 'oro-nasal').\n",
      "Channel 'EMG submental' recognized as type EMG (renamed to 'submental').\n",
      "Channel 'Temp rectal' recognized as type TEMP (renamed to 'rectal').\n",
      "Setting channel info structure...\n",
      "Creating raw.info structure...\n",
      "Reading 0 ... 7817999  =      0.000 ... 78179.990 secs...\n"
     ]
    },
    {
     "name": "stderr",
     "output_type": "stream",
     "text": [
      "c:\\Users\\andri\\school\\bio-informatics\\internship\\donders\\vsc\\Human_SleepSCoring\\DilonAndriesse\\pre_processing\\basic_mne_functions.py:15: RuntimeWarning: Channels contain different highpass filters. Highest filter setting will be stored.\n",
      "  raw = mne.io.read_raw_edf(\n",
      "c:\\Users\\andri\\school\\bio-informatics\\internship\\donders\\vsc\\Human_SleepSCoring\\DilonAndriesse\\pre_processing\\basic_mne_functions.py:15: RuntimeWarning: Channels contain different lowpass filters. Lowest filter setting will be stored.\n",
      "  raw = mne.io.read_raw_edf(\n"
     ]
    },
    {
     "name": "stdout",
     "output_type": "stream",
     "text": [
      "First sleep starts at: 33420.0\n",
      "Last sleep ends at: 59130.0\n",
      "Cropping raw: 31620.0 - 60930.0\n",
      "Cropping finished.\n",
      "Used Annotations descriptions: [np.str_('Sleep stage 1'), np.str_('Sleep stage 2'), np.str_('Sleep stage 3'), np.str_('Sleep stage 4'), np.str_('Sleep stage R'), np.str_('Sleep stage W')]\n",
      "Extracting EDF parameters from C:\\Users\\andri\\school\\bio-informatics\\internship\\donders\\data\\human_test_data\\input\\raw_input\\SC4131E0-PSG.edf...\n",
      "EDF file detected\n",
      "Channel 'EEG Fpz-Cz' recognized as type EEG (renamed to 'Fpz-Cz').\n",
      "Channel 'EEG Pz-Oz' recognized as type EEG (renamed to 'Pz-Oz').\n",
      "Channel 'EOG horizontal' recognized as type EOG (renamed to 'horizontal').\n",
      "Channel 'Resp oro-nasal' recognized as type RESP (renamed to 'oro-nasal').\n",
      "Channel 'EMG submental' recognized as type EMG (renamed to 'submental').\n",
      "Channel 'Temp rectal' recognized as type TEMP (renamed to 'rectal').\n",
      "Setting channel info structure...\n",
      "Creating raw.info structure...\n",
      "Reading 0 ... 8441999  =      0.000 ... 84419.990 secs...\n"
     ]
    },
    {
     "name": "stderr",
     "output_type": "stream",
     "text": [
      "c:\\Users\\andri\\school\\bio-informatics\\internship\\donders\\vsc\\Human_SleepSCoring\\DilonAndriesse\\pre_processing\\basic_mne_functions.py:15: RuntimeWarning: Channels contain different highpass filters. Highest filter setting will be stored.\n",
      "  raw = mne.io.read_raw_edf(\n",
      "c:\\Users\\andri\\school\\bio-informatics\\internship\\donders\\vsc\\Human_SleepSCoring\\DilonAndriesse\\pre_processing\\basic_mne_functions.py:15: RuntimeWarning: Channels contain different lowpass filters. Lowest filter setting will be stored.\n",
      "  raw = mne.io.read_raw_edf(\n"
     ]
    },
    {
     "name": "stdout",
     "output_type": "stream",
     "text": [
      "First sleep starts at: 28860.0\n",
      "Last sleep ends at: 56100.0\n",
      "Cropping raw: 27060.0 - 57900.0\n",
      "Cropping finished.\n",
      "Used Annotations descriptions: [np.str_('Sleep stage 1'), np.str_('Sleep stage 2'), np.str_('Sleep stage 3'), np.str_('Sleep stage 4'), np.str_('Sleep stage R'), np.str_('Sleep stage W')]\n",
      "Extracting EDF parameters from C:\\Users\\andri\\school\\bio-informatics\\internship\\donders\\data\\human_test_data\\input\\raw_input\\SC4141E0-PSG.edf...\n",
      "EDF file detected\n",
      "Channel 'EEG Fpz-Cz' recognized as type EEG (renamed to 'Fpz-Cz').\n",
      "Channel 'EEG Pz-Oz' recognized as type EEG (renamed to 'Pz-Oz').\n",
      "Channel 'EOG horizontal' recognized as type EOG (renamed to 'horizontal').\n",
      "Channel 'Resp oro-nasal' recognized as type RESP (renamed to 'oro-nasal').\n",
      "Channel 'EMG submental' recognized as type EMG (renamed to 'submental').\n",
      "Channel 'Temp rectal' recognized as type TEMP (renamed to 'rectal').\n",
      "Setting channel info structure...\n",
      "Creating raw.info structure...\n",
      "Reading 0 ... 8267999  =      0.000 ... 82679.990 secs...\n"
     ]
    },
    {
     "name": "stderr",
     "output_type": "stream",
     "text": [
      "c:\\Users\\andri\\school\\bio-informatics\\internship\\donders\\vsc\\Human_SleepSCoring\\DilonAndriesse\\pre_processing\\basic_mne_functions.py:15: RuntimeWarning: Channels contain different highpass filters. Highest filter setting will be stored.\n",
      "  raw = mne.io.read_raw_edf(\n",
      "c:\\Users\\andri\\school\\bio-informatics\\internship\\donders\\vsc\\Human_SleepSCoring\\DilonAndriesse\\pre_processing\\basic_mne_functions.py:15: RuntimeWarning: Channels contain different lowpass filters. Lowest filter setting will be stored.\n",
      "  raw = mne.io.read_raw_edf(\n"
     ]
    },
    {
     "name": "stdout",
     "output_type": "stream",
     "text": [
      "First sleep starts at: 25140.0\n",
      "Last sleep ends at: 51660.0\n",
      "Cropping raw: 23340.0 - 53460.0\n",
      "Cropping finished.\n",
      "Used Annotations descriptions: [np.str_('Sleep stage 1'), np.str_('Sleep stage 2'), np.str_('Sleep stage 3'), np.str_('Sleep stage 4'), np.str_('Sleep stage R'), np.str_('Sleep stage W')]\n",
      "Extracting EDF parameters from C:\\Users\\andri\\school\\bio-informatics\\internship\\donders\\data\\human_test_data\\input\\raw_input\\SC4142E0-PSG.edf...\n",
      "EDF file detected\n",
      "Channel 'EEG Fpz-Cz' recognized as type EEG (renamed to 'Fpz-Cz').\n",
      "Channel 'EEG Pz-Oz' recognized as type EEG (renamed to 'Pz-Oz').\n",
      "Channel 'EOG horizontal' recognized as type EOG (renamed to 'horizontal').\n",
      "Channel 'Resp oro-nasal' recognized as type RESP (renamed to 'oro-nasal').\n",
      "Channel 'EMG submental' recognized as type EMG (renamed to 'submental').\n",
      "Channel 'Temp rectal' recognized as type TEMP (renamed to 'rectal').\n",
      "Setting channel info structure...\n",
      "Creating raw.info structure...\n",
      "Reading 0 ... 8321999  =      0.000 ... 83219.990 secs...\n"
     ]
    },
    {
     "name": "stderr",
     "output_type": "stream",
     "text": [
      "c:\\Users\\andri\\school\\bio-informatics\\internship\\donders\\vsc\\Human_SleepSCoring\\DilonAndriesse\\pre_processing\\basic_mne_functions.py:15: RuntimeWarning: Channels contain different highpass filters. Highest filter setting will be stored.\n",
      "  raw = mne.io.read_raw_edf(\n",
      "c:\\Users\\andri\\school\\bio-informatics\\internship\\donders\\vsc\\Human_SleepSCoring\\DilonAndriesse\\pre_processing\\basic_mne_functions.py:15: RuntimeWarning: Channels contain different lowpass filters. Lowest filter setting will be stored.\n",
      "  raw = mne.io.read_raw_edf(\n"
     ]
    },
    {
     "name": "stdout",
     "output_type": "stream",
     "text": [
      "First sleep starts at: 28590.0\n",
      "Last sleep ends at: 53550.0\n",
      "Cropping raw: 26790.0 - 55350.0\n",
      "Cropping finished.\n",
      "Used Annotations descriptions: [np.str_('Sleep stage 1'), np.str_('Sleep stage 2'), np.str_('Sleep stage 3'), np.str_('Sleep stage 4'), np.str_('Sleep stage R'), np.str_('Sleep stage W')]\n",
      "Extracting EDF parameters from C:\\Users\\andri\\school\\bio-informatics\\internship\\donders\\data\\human_test_data\\input\\raw_input\\SC4151E0-PSG.edf...\n",
      "EDF file detected\n",
      "Channel 'EEG Fpz-Cz' recognized as type EEG (renamed to 'Fpz-Cz').\n",
      "Channel 'EEG Pz-Oz' recognized as type EEG (renamed to 'Pz-Oz').\n",
      "Channel 'EOG horizontal' recognized as type EOG (renamed to 'horizontal').\n",
      "Channel 'Resp oro-nasal' recognized as type RESP (renamed to 'oro-nasal').\n",
      "Channel 'EMG submental' recognized as type EMG (renamed to 'submental').\n",
      "Channel 'Temp rectal' recognized as type TEMP (renamed to 'rectal').\n",
      "Setting channel info structure...\n",
      "Creating raw.info structure...\n",
      "Reading 0 ... 7859999  =      0.000 ... 78599.990 secs...\n"
     ]
    },
    {
     "name": "stderr",
     "output_type": "stream",
     "text": [
      "c:\\Users\\andri\\school\\bio-informatics\\internship\\donders\\vsc\\Human_SleepSCoring\\DilonAndriesse\\pre_processing\\basic_mne_functions.py:15: RuntimeWarning: Channels contain different highpass filters. Highest filter setting will be stored.\n",
      "  raw = mne.io.read_raw_edf(\n",
      "c:\\Users\\andri\\school\\bio-informatics\\internship\\donders\\vsc\\Human_SleepSCoring\\DilonAndriesse\\pre_processing\\basic_mne_functions.py:15: RuntimeWarning: Channels contain different lowpass filters. Lowest filter setting will be stored.\n",
      "  raw = mne.io.read_raw_edf(\n"
     ]
    },
    {
     "name": "stdout",
     "output_type": "stream",
     "text": [
      "First sleep starts at: 26820.0\n",
      "Last sleep ends at: 51900.0\n",
      "Cropping raw: 25020.0 - 53700.0\n",
      "Cropping finished.\n",
      "Used Annotations descriptions: [np.str_('Sleep stage 1'), np.str_('Sleep stage 2'), np.str_('Sleep stage 3'), np.str_('Sleep stage 4'), np.str_('Sleep stage R'), np.str_('Sleep stage W')]\n",
      "Extracting EDF parameters from C:\\Users\\andri\\school\\bio-informatics\\internship\\donders\\data\\human_test_data\\input\\raw_input\\SC4152E0-PSG.edf...\n",
      "EDF file detected\n",
      "Channel 'EEG Fpz-Cz' recognized as type EEG (renamed to 'Fpz-Cz').\n",
      "Channel 'EEG Pz-Oz' recognized as type EEG (renamed to 'Pz-Oz').\n",
      "Channel 'EOG horizontal' recognized as type EOG (renamed to 'horizontal').\n",
      "Channel 'Resp oro-nasal' recognized as type RESP (renamed to 'oro-nasal').\n",
      "Channel 'EMG submental' recognized as type EMG (renamed to 'submental').\n",
      "Channel 'Temp rectal' recognized as type TEMP (renamed to 'rectal').\n",
      "Setting channel info structure...\n",
      "Creating raw.info structure...\n",
      "Reading 0 ... 8591999  =      0.000 ... 85919.990 secs...\n"
     ]
    },
    {
     "name": "stderr",
     "output_type": "stream",
     "text": [
      "c:\\Users\\andri\\school\\bio-informatics\\internship\\donders\\vsc\\Human_SleepSCoring\\DilonAndriesse\\pre_processing\\basic_mne_functions.py:15: RuntimeWarning: Channels contain different highpass filters. Highest filter setting will be stored.\n",
      "  raw = mne.io.read_raw_edf(\n",
      "c:\\Users\\andri\\school\\bio-informatics\\internship\\donders\\vsc\\Human_SleepSCoring\\DilonAndriesse\\pre_processing\\basic_mne_functions.py:15: RuntimeWarning: Channels contain different lowpass filters. Lowest filter setting will be stored.\n",
      "  raw = mne.io.read_raw_edf(\n"
     ]
    },
    {
     "name": "stdout",
     "output_type": "stream",
     "text": [
      "First sleep starts at: 10350.0\n",
      "Last sleep ends at: 59760.0\n",
      "Cropping raw: 8550.0 - 61560.0\n",
      "Cropping finished.\n",
      "Used Annotations descriptions: [np.str_('Sleep stage 1'), np.str_('Sleep stage 2'), np.str_('Sleep stage 3'), np.str_('Sleep stage 4'), np.str_('Sleep stage R'), np.str_('Sleep stage W')]\n",
      "Extracting EDF parameters from C:\\Users\\andri\\school\\bio-informatics\\internship\\donders\\data\\human_test_data\\input\\raw_input\\SC4161E0-PSG.edf...\n",
      "EDF file detected\n",
      "Channel 'EEG Fpz-Cz' recognized as type EEG (renamed to 'Fpz-Cz').\n",
      "Channel 'EEG Pz-Oz' recognized as type EEG (renamed to 'Pz-Oz').\n",
      "Channel 'EOG horizontal' recognized as type EOG (renamed to 'horizontal').\n",
      "Channel 'Resp oro-nasal' recognized as type RESP (renamed to 'oro-nasal').\n",
      "Channel 'EMG submental' recognized as type EMG (renamed to 'submental').\n",
      "Channel 'Temp rectal' recognized as type TEMP (renamed to 'rectal').\n",
      "Setting channel info structure...\n",
      "Creating raw.info structure...\n",
      "Reading 0 ... 7877999  =      0.000 ... 78779.990 secs...\n"
     ]
    },
    {
     "name": "stderr",
     "output_type": "stream",
     "text": [
      "c:\\Users\\andri\\school\\bio-informatics\\internship\\donders\\vsc\\Human_SleepSCoring\\DilonAndriesse\\pre_processing\\basic_mne_functions.py:15: RuntimeWarning: Channels contain different highpass filters. Highest filter setting will be stored.\n",
      "  raw = mne.io.read_raw_edf(\n",
      "c:\\Users\\andri\\school\\bio-informatics\\internship\\donders\\vsc\\Human_SleepSCoring\\DilonAndriesse\\pre_processing\\basic_mne_functions.py:15: RuntimeWarning: Channels contain different lowpass filters. Lowest filter setting will be stored.\n",
      "  raw = mne.io.read_raw_edf(\n"
     ]
    },
    {
     "name": "stdout",
     "output_type": "stream",
     "text": [
      "First sleep starts at: 22290.0\n",
      "Last sleep ends at: 53160.0\n",
      "Cropping raw: 20490.0 - 54960.0\n",
      "Cropping finished.\n",
      "Used Annotations descriptions: [np.str_('Sleep stage 1'), np.str_('Sleep stage 2'), np.str_('Sleep stage 3'), np.str_('Sleep stage 4'), np.str_('Sleep stage R'), np.str_('Sleep stage W')]\n",
      "Extracting EDF parameters from C:\\Users\\andri\\school\\bio-informatics\\internship\\donders\\data\\human_test_data\\input\\raw_input\\SC4162E0-PSG.edf...\n",
      "EDF file detected\n",
      "Channel 'EEG Fpz-Cz' recognized as type EEG (renamed to 'Fpz-Cz').\n",
      "Channel 'EEG Pz-Oz' recognized as type EEG (renamed to 'Pz-Oz').\n",
      "Channel 'EOG horizontal' recognized as type EOG (renamed to 'horizontal').\n",
      "Channel 'Resp oro-nasal' recognized as type RESP (renamed to 'oro-nasal').\n",
      "Channel 'EMG submental' recognized as type EMG (renamed to 'submental').\n",
      "Channel 'Temp rectal' recognized as type TEMP (renamed to 'rectal').\n",
      "Setting channel info structure...\n",
      "Creating raw.info structure...\n",
      "Reading 0 ... 8255999  =      0.000 ... 82559.990 secs...\n"
     ]
    },
    {
     "name": "stderr",
     "output_type": "stream",
     "text": [
      "c:\\Users\\andri\\school\\bio-informatics\\internship\\donders\\vsc\\Human_SleepSCoring\\DilonAndriesse\\pre_processing\\basic_mne_functions.py:15: RuntimeWarning: Channels contain different highpass filters. Highest filter setting will be stored.\n",
      "  raw = mne.io.read_raw_edf(\n",
      "c:\\Users\\andri\\school\\bio-informatics\\internship\\donders\\vsc\\Human_SleepSCoring\\DilonAndriesse\\pre_processing\\basic_mne_functions.py:15: RuntimeWarning: Channels contain different lowpass filters. Lowest filter setting will be stored.\n",
      "  raw = mne.io.read_raw_edf(\n"
     ]
    },
    {
     "name": "stdout",
     "output_type": "stream",
     "text": [
      "First sleep starts at: 31500.0\n",
      "Last sleep ends at: 58050.0\n",
      "Cropping raw: 29700.0 - 59850.0\n",
      "Cropping finished.\n",
      "Used Annotations descriptions: [np.str_('Sleep stage 1'), np.str_('Sleep stage 2'), np.str_('Sleep stage 3'), np.str_('Sleep stage 4'), np.str_('Sleep stage R'), np.str_('Sleep stage W')]\n",
      "Extracting EDF parameters from C:\\Users\\andri\\school\\bio-informatics\\internship\\donders\\data\\human_test_data\\input\\raw_input\\SC4171E0-PSG.edf...\n",
      "EDF file detected\n",
      "Channel 'EEG Fpz-Cz' recognized as type EEG (renamed to 'Fpz-Cz').\n",
      "Channel 'EEG Pz-Oz' recognized as type EEG (renamed to 'Pz-Oz').\n",
      "Channel 'EOG horizontal' recognized as type EOG (renamed to 'horizontal').\n",
      "Channel 'Resp oro-nasal' recognized as type RESP (renamed to 'oro-nasal').\n",
      "Channel 'EMG submental' recognized as type EMG (renamed to 'submental').\n",
      "Channel 'Temp rectal' recognized as type TEMP (renamed to 'rectal').\n",
      "Setting channel info structure...\n",
      "Creating raw.info structure...\n",
      "Reading 0 ... 8225999  =      0.000 ... 82259.990 secs...\n"
     ]
    },
    {
     "name": "stderr",
     "output_type": "stream",
     "text": [
      "c:\\Users\\andri\\school\\bio-informatics\\internship\\donders\\vsc\\Human_SleepSCoring\\DilonAndriesse\\pre_processing\\basic_mne_functions.py:15: RuntimeWarning: Channels contain different highpass filters. Highest filter setting will be stored.\n",
      "  raw = mne.io.read_raw_edf(\n",
      "c:\\Users\\andri\\school\\bio-informatics\\internship\\donders\\vsc\\Human_SleepSCoring\\DilonAndriesse\\pre_processing\\basic_mne_functions.py:15: RuntimeWarning: Channels contain different lowpass filters. Lowest filter setting will be stored.\n",
      "  raw = mne.io.read_raw_edf(\n"
     ]
    },
    {
     "name": "stdout",
     "output_type": "stream",
     "text": [
      "First sleep starts at: 29010.0\n",
      "Last sleep ends at: 55500.0\n",
      "Cropping raw: 27210.0 - 57300.0\n",
      "Cropping finished.\n",
      "Used Annotations descriptions: [np.str_('Sleep stage 1'), np.str_('Sleep stage 2'), np.str_('Sleep stage 3'), np.str_('Sleep stage 4'), np.str_('Sleep stage R'), np.str_('Sleep stage W')]\n",
      "Extracting EDF parameters from C:\\Users\\andri\\school\\bio-informatics\\internship\\donders\\data\\human_test_data\\input\\raw_input\\SC4172E0-PSG.edf...\n",
      "EDF file detected\n",
      "Channel 'EEG Fpz-Cz' recognized as type EEG (renamed to 'Fpz-Cz').\n",
      "Channel 'EEG Pz-Oz' recognized as type EEG (renamed to 'Pz-Oz').\n",
      "Channel 'EOG horizontal' recognized as type EOG (renamed to 'horizontal').\n",
      "Channel 'Resp oro-nasal' recognized as type RESP (renamed to 'oro-nasal').\n",
      "Channel 'EMG submental' recognized as type EMG (renamed to 'submental').\n",
      "Channel 'Temp rectal' recognized as type TEMP (renamed to 'rectal').\n",
      "Setting channel info structure...\n",
      "Creating raw.info structure...\n",
      "Reading 0 ... 8171999  =      0.000 ... 81719.990 secs...\n"
     ]
    },
    {
     "name": "stderr",
     "output_type": "stream",
     "text": [
      "c:\\Users\\andri\\school\\bio-informatics\\internship\\donders\\vsc\\Human_SleepSCoring\\DilonAndriesse\\pre_processing\\basic_mne_functions.py:15: RuntimeWarning: Channels contain different highpass filters. Highest filter setting will be stored.\n",
      "  raw = mne.io.read_raw_edf(\n",
      "c:\\Users\\andri\\school\\bio-informatics\\internship\\donders\\vsc\\Human_SleepSCoring\\DilonAndriesse\\pre_processing\\basic_mne_functions.py:15: RuntimeWarning: Channels contain different lowpass filters. Lowest filter setting will be stored.\n",
      "  raw = mne.io.read_raw_edf(\n"
     ]
    },
    {
     "name": "stdout",
     "output_type": "stream",
     "text": [
      "First sleep starts at: 10260.0\n",
      "Last sleep ends at: 59970.0\n",
      "Cropping raw: 8460.0 - 61770.0\n",
      "Cropping finished.\n",
      "Used Annotations descriptions: [np.str_('Sleep stage 1'), np.str_('Sleep stage 2'), np.str_('Sleep stage 3'), np.str_('Sleep stage 4'), np.str_('Sleep stage R'), np.str_('Sleep stage W')]\n",
      "Extracting EDF parameters from C:\\Users\\andri\\school\\bio-informatics\\internship\\donders\\data\\human_test_data\\input\\raw_input\\SC4181E0-PSG.edf...\n",
      "EDF file detected\n",
      "Channel 'EEG Fpz-Cz' recognized as type EEG (renamed to 'Fpz-Cz').\n",
      "Channel 'EEG Pz-Oz' recognized as type EEG (renamed to 'Pz-Oz').\n",
      "Channel 'EOG horizontal' recognized as type EOG (renamed to 'horizontal').\n",
      "Channel 'Resp oro-nasal' recognized as type RESP (renamed to 'oro-nasal').\n",
      "Channel 'EMG submental' recognized as type EMG (renamed to 'submental').\n",
      "Channel 'Temp rectal' recognized as type TEMP (renamed to 'rectal').\n",
      "Setting channel info structure...\n",
      "Creating raw.info structure...\n",
      "Reading 0 ... 8267999  =      0.000 ... 82679.990 secs...\n"
     ]
    },
    {
     "name": "stderr",
     "output_type": "stream",
     "text": [
      "c:\\Users\\andri\\school\\bio-informatics\\internship\\donders\\vsc\\Human_SleepSCoring\\DilonAndriesse\\pre_processing\\basic_mne_functions.py:15: RuntimeWarning: Channels contain different highpass filters. Highest filter setting will be stored.\n",
      "  raw = mne.io.read_raw_edf(\n",
      "c:\\Users\\andri\\school\\bio-informatics\\internship\\donders\\vsc\\Human_SleepSCoring\\DilonAndriesse\\pre_processing\\basic_mne_functions.py:15: RuntimeWarning: Channels contain different lowpass filters. Lowest filter setting will be stored.\n",
      "  raw = mne.io.read_raw_edf(\n"
     ]
    },
    {
     "name": "stdout",
     "output_type": "stream",
     "text": [
      "First sleep starts at: 26880.0\n",
      "Last sleep ends at: 52200.0\n",
      "Cropping raw: 25080.0 - 54000.0\n",
      "Cropping finished.\n",
      "Used Annotations descriptions: [np.str_('Sleep stage 1'), np.str_('Sleep stage 2'), np.str_('Sleep stage 3'), np.str_('Sleep stage 4'), np.str_('Sleep stage R'), np.str_('Sleep stage W')]\n",
      "Extracting EDF parameters from C:\\Users\\andri\\school\\bio-informatics\\internship\\donders\\data\\human_test_data\\input\\raw_input\\SC4182E0-PSG.edf...\n",
      "EDF file detected\n",
      "Channel 'EEG Fpz-Cz' recognized as type EEG (renamed to 'Fpz-Cz').\n",
      "Channel 'EEG Pz-Oz' recognized as type EEG (renamed to 'Pz-Oz').\n",
      "Channel 'EOG horizontal' recognized as type EOG (renamed to 'horizontal').\n",
      "Channel 'Resp oro-nasal' recognized as type RESP (renamed to 'oro-nasal').\n",
      "Channel 'EMG submental' recognized as type EMG (renamed to 'submental').\n",
      "Channel 'Temp rectal' recognized as type TEMP (renamed to 'rectal').\n",
      "Setting channel info structure...\n",
      "Creating raw.info structure...\n",
      "Reading 0 ... 8525999  =      0.000 ... 85259.990 secs...\n"
     ]
    },
    {
     "name": "stderr",
     "output_type": "stream",
     "text": [
      "c:\\Users\\andri\\school\\bio-informatics\\internship\\donders\\vsc\\Human_SleepSCoring\\DilonAndriesse\\pre_processing\\basic_mne_functions.py:15: RuntimeWarning: Channels contain different highpass filters. Highest filter setting will be stored.\n",
      "  raw = mne.io.read_raw_edf(\n",
      "c:\\Users\\andri\\school\\bio-informatics\\internship\\donders\\vsc\\Human_SleepSCoring\\DilonAndriesse\\pre_processing\\basic_mne_functions.py:15: RuntimeWarning: Channels contain different lowpass filters. Lowest filter setting will be stored.\n",
      "  raw = mne.io.read_raw_edf(\n"
     ]
    },
    {
     "name": "stdout",
     "output_type": "stream",
     "text": [
      "First sleep starts at: 30390.0\n",
      "Last sleep ends at: 54390.0\n",
      "Cropping raw: 28590.0 - 56190.0\n",
      "Cropping finished.\n",
      "Used Annotations descriptions: [np.str_('Sleep stage 1'), np.str_('Sleep stage 2'), np.str_('Sleep stage 3'), np.str_('Sleep stage 4'), np.str_('Sleep stage R'), np.str_('Sleep stage W')]\n",
      "Extracting EDF parameters from C:\\Users\\andri\\school\\bio-informatics\\internship\\donders\\data\\human_test_data\\input\\raw_input\\SC4191E0-PSG.edf...\n",
      "EDF file detected\n",
      "Channel 'EEG Fpz-Cz' recognized as type EEG (renamed to 'Fpz-Cz').\n",
      "Channel 'EEG Pz-Oz' recognized as type EEG (renamed to 'Pz-Oz').\n",
      "Channel 'EOG horizontal' recognized as type EOG (renamed to 'horizontal').\n",
      "Channel 'Resp oro-nasal' recognized as type RESP (renamed to 'oro-nasal').\n",
      "Channel 'EMG submental' recognized as type EMG (renamed to 'submental').\n",
      "Channel 'Temp rectal' recognized as type TEMP (renamed to 'rectal').\n",
      "Setting channel info structure...\n",
      "Creating raw.info structure...\n",
      "Reading 0 ... 8321999  =      0.000 ... 83219.990 secs...\n"
     ]
    },
    {
     "name": "stderr",
     "output_type": "stream",
     "text": [
      "c:\\Users\\andri\\school\\bio-informatics\\internship\\donders\\vsc\\Human_SleepSCoring\\DilonAndriesse\\pre_processing\\basic_mne_functions.py:15: RuntimeWarning: Channels contain different highpass filters. Highest filter setting will be stored.\n",
      "  raw = mne.io.read_raw_edf(\n",
      "c:\\Users\\andri\\school\\bio-informatics\\internship\\donders\\vsc\\Human_SleepSCoring\\DilonAndriesse\\pre_processing\\basic_mne_functions.py:15: RuntimeWarning: Channels contain different lowpass filters. Lowest filter setting will be stored.\n",
      "  raw = mne.io.read_raw_edf(\n"
     ]
    },
    {
     "name": "stdout",
     "output_type": "stream",
     "text": [
      "First sleep starts at: 35220.0\n",
      "Last sleep ends at: 77670.0\n",
      "Cropping raw: 33420.0 - 79470.0\n",
      "Cropping finished.\n",
      "Used Annotations descriptions: [np.str_('Sleep stage 1'), np.str_('Sleep stage 2'), np.str_('Sleep stage 3'), np.str_('Sleep stage 4'), np.str_('Sleep stage R'), np.str_('Sleep stage W')]\n",
      "Extracting EDF parameters from C:\\Users\\andri\\school\\bio-informatics\\internship\\donders\\data\\human_test_data\\input\\raw_input\\SC4192E0-PSG.edf...\n",
      "EDF file detected\n",
      "Channel 'EEG Fpz-Cz' recognized as type EEG (renamed to 'Fpz-Cz').\n",
      "Channel 'EEG Pz-Oz' recognized as type EEG (renamed to 'Pz-Oz').\n",
      "Channel 'EOG horizontal' recognized as type EOG (renamed to 'horizontal').\n",
      "Channel 'Resp oro-nasal' recognized as type RESP (renamed to 'oro-nasal').\n",
      "Channel 'EMG submental' recognized as type EMG (renamed to 'submental').\n",
      "Channel 'Temp rectal' recognized as type TEMP (renamed to 'rectal').\n",
      "Setting channel info structure...\n",
      "Creating raw.info structure...\n",
      "Reading 0 ... 7829999  =      0.000 ... 78299.990 secs...\n"
     ]
    },
    {
     "name": "stderr",
     "output_type": "stream",
     "text": [
      "c:\\Users\\andri\\school\\bio-informatics\\internship\\donders\\vsc\\Human_SleepSCoring\\DilonAndriesse\\pre_processing\\basic_mne_functions.py:15: RuntimeWarning: Channels contain different highpass filters. Highest filter setting will be stored.\n",
      "  raw = mne.io.read_raw_edf(\n",
      "c:\\Users\\andri\\school\\bio-informatics\\internship\\donders\\vsc\\Human_SleepSCoring\\DilonAndriesse\\pre_processing\\basic_mne_functions.py:15: RuntimeWarning: Channels contain different lowpass filters. Lowest filter setting will be stored.\n",
      "  raw = mne.io.read_raw_edf(\n"
     ]
    },
    {
     "name": "stdout",
     "output_type": "stream",
     "text": [
      "First sleep starts at: 39300.0\n",
      "Last sleep ends at: 74070.0\n",
      "Cropping raw: 37500.0 - 75870.0\n",
      "Cropping finished.\n",
      "Used Annotations descriptions: [np.str_('Sleep stage 1'), np.str_('Sleep stage 2'), np.str_('Sleep stage 3'), np.str_('Sleep stage 4'), np.str_('Sleep stage R'), np.str_('Sleep stage W')]\n",
      "Extracting EDF parameters from C:\\Users\\andri\\school\\bio-informatics\\internship\\donders\\data\\human_test_data\\input\\raw_input\\SC4201E0-PSG.edf...\n",
      "EDF file detected\n",
      "Channel 'EEG Fpz-Cz' recognized as type EEG (renamed to 'Fpz-Cz').\n",
      "Channel 'EEG Pz-Oz' recognized as type EEG (renamed to 'Pz-Oz').\n",
      "Channel 'EOG horizontal' recognized as type EOG (renamed to 'horizontal').\n",
      "Channel 'Resp oro-nasal' recognized as type RESP (renamed to 'oro-nasal').\n",
      "Channel 'EMG submental' recognized as type EMG (renamed to 'submental').\n",
      "Channel 'Temp rectal' recognized as type TEMP (renamed to 'rectal').\n",
      "Setting channel info structure...\n",
      "Creating raw.info structure...\n",
      "Reading 0 ... 8411999  =      0.000 ... 84119.990 secs...\n"
     ]
    },
    {
     "name": "stderr",
     "output_type": "stream",
     "text": [
      "c:\\Users\\andri\\school\\bio-informatics\\internship\\donders\\vsc\\Human_SleepSCoring\\DilonAndriesse\\pre_processing\\basic_mne_functions.py:15: RuntimeWarning: Channels contain different highpass filters. Highest filter setting will be stored.\n",
      "  raw = mne.io.read_raw_edf(\n",
      "c:\\Users\\andri\\school\\bio-informatics\\internship\\donders\\vsc\\Human_SleepSCoring\\DilonAndriesse\\pre_processing\\basic_mne_functions.py:15: RuntimeWarning: Channels contain different lowpass filters. Lowest filter setting will be stored.\n",
      "  raw = mne.io.read_raw_edf(\n"
     ]
    },
    {
     "name": "stdout",
     "output_type": "stream",
     "text": [
      "First sleep starts at: 25350.0\n",
      "Last sleep ends at: 52440.0\n",
      "Cropping raw: 23550.0 - 54240.0\n",
      "Cropping finished.\n",
      "Used Annotations descriptions: [np.str_('Sleep stage 1'), np.str_('Sleep stage 2'), np.str_('Sleep stage 3'), np.str_('Sleep stage R'), np.str_('Sleep stage W')]\n",
      "Extracting EDF parameters from C:\\Users\\andri\\school\\bio-informatics\\internship\\donders\\data\\human_test_data\\input\\raw_input\\SC4202E0-PSG.edf...\n",
      "EDF file detected\n",
      "Channel 'EEG Fpz-Cz' recognized as type EEG (renamed to 'Fpz-Cz').\n",
      "Channel 'EEG Pz-Oz' recognized as type EEG (renamed to 'Pz-Oz').\n",
      "Channel 'EOG horizontal' recognized as type EOG (renamed to 'horizontal').\n",
      "Channel 'Resp oro-nasal' recognized as type RESP (renamed to 'oro-nasal').\n",
      "Channel 'EMG submental' recognized as type EMG (renamed to 'submental').\n",
      "Channel 'Temp rectal' recognized as type TEMP (renamed to 'rectal').\n",
      "Setting channel info structure...\n",
      "Creating raw.info structure...\n",
      "Reading 0 ... 8009999  =      0.000 ... 80099.990 secs...\n"
     ]
    },
    {
     "name": "stderr",
     "output_type": "stream",
     "text": [
      "c:\\Users\\andri\\school\\bio-informatics\\internship\\donders\\vsc\\Human_SleepSCoring\\DilonAndriesse\\pre_processing\\basic_mne_functions.py:15: RuntimeWarning: Channels contain different highpass filters. Highest filter setting will be stored.\n",
      "  raw = mne.io.read_raw_edf(\n",
      "c:\\Users\\andri\\school\\bio-informatics\\internship\\donders\\vsc\\Human_SleepSCoring\\DilonAndriesse\\pre_processing\\basic_mne_functions.py:15: RuntimeWarning: Channels contain different lowpass filters. Lowest filter setting will be stored.\n",
      "  raw = mne.io.read_raw_edf(\n"
     ]
    },
    {
     "name": "stdout",
     "output_type": "stream",
     "text": [
      "First sleep starts at: 26010.0\n",
      "Last sleep ends at: 53040.0\n",
      "Cropping raw: 24210.0 - 54840.0\n",
      "Cropping finished.\n",
      "Used Annotations descriptions: [np.str_('Sleep stage 1'), np.str_('Sleep stage 2'), np.str_('Sleep stage R'), np.str_('Sleep stage W')]\n",
      "Extracting EDF parameters from C:\\Users\\andri\\school\\bio-informatics\\internship\\donders\\data\\human_test_data\\input\\raw_input\\SC4211E0-PSG.edf...\n",
      "EDF file detected\n",
      "Channel 'EEG Fpz-Cz' recognized as type EEG (renamed to 'Fpz-Cz').\n",
      "Channel 'EEG Pz-Oz' recognized as type EEG (renamed to 'Pz-Oz').\n",
      "Channel 'EOG horizontal' recognized as type EOG (renamed to 'horizontal').\n",
      "Channel 'Resp oro-nasal' recognized as type RESP (renamed to 'oro-nasal').\n",
      "Channel 'EMG submental' recognized as type EMG (renamed to 'submental').\n",
      "Channel 'Temp rectal' recognized as type TEMP (renamed to 'rectal').\n",
      "Setting channel info structure...\n",
      "Creating raw.info structure...\n",
      "Reading 0 ... 8429999  =      0.000 ... 84299.990 secs...\n"
     ]
    },
    {
     "name": "stderr",
     "output_type": "stream",
     "text": [
      "c:\\Users\\andri\\school\\bio-informatics\\internship\\donders\\vsc\\Human_SleepSCoring\\DilonAndriesse\\pre_processing\\basic_mne_functions.py:15: RuntimeWarning: Channels contain different highpass filters. Highest filter setting will be stored.\n",
      "  raw = mne.io.read_raw_edf(\n",
      "c:\\Users\\andri\\school\\bio-informatics\\internship\\donders\\vsc\\Human_SleepSCoring\\DilonAndriesse\\pre_processing\\basic_mne_functions.py:15: RuntimeWarning: Channels contain different lowpass filters. Lowest filter setting will be stored.\n",
      "  raw = mne.io.read_raw_edf(\n"
     ]
    },
    {
     "name": "stdout",
     "output_type": "stream",
     "text": [
      "First sleep starts at: 7920.0\n",
      "Last sleep ends at: 51810.0\n",
      "Cropping raw: 6120.0 - 53610.0\n",
      "Cropping finished.\n",
      "Used Annotations descriptions: [np.str_('Sleep stage 1'), np.str_('Sleep stage 2'), np.str_('Sleep stage 3'), np.str_('Sleep stage R'), np.str_('Sleep stage W')]\n",
      "Extracting EDF parameters from C:\\Users\\andri\\school\\bio-informatics\\internship\\donders\\data\\human_test_data\\input\\raw_input\\SC4212E0-PSG.edf...\n",
      "EDF file detected\n",
      "Channel 'EEG Fpz-Cz' recognized as type EEG (renamed to 'Fpz-Cz').\n",
      "Channel 'EEG Pz-Oz' recognized as type EEG (renamed to 'Pz-Oz').\n",
      "Channel 'EOG horizontal' recognized as type EOG (renamed to 'horizontal').\n",
      "Channel 'Resp oro-nasal' recognized as type RESP (renamed to 'oro-nasal').\n",
      "Channel 'EMG submental' recognized as type EMG (renamed to 'submental').\n",
      "Channel 'Temp rectal' recognized as type TEMP (renamed to 'rectal').\n",
      "Setting channel info structure...\n",
      "Creating raw.info structure...\n",
      "Reading 0 ... 8081999  =      0.000 ... 80819.990 secs...\n"
     ]
    },
    {
     "name": "stderr",
     "output_type": "stream",
     "text": [
      "c:\\Users\\andri\\school\\bio-informatics\\internship\\donders\\vsc\\Human_SleepSCoring\\DilonAndriesse\\pre_processing\\basic_mne_functions.py:15: RuntimeWarning: Channels contain different highpass filters. Highest filter setting will be stored.\n",
      "  raw = mne.io.read_raw_edf(\n",
      "c:\\Users\\andri\\school\\bio-informatics\\internship\\donders\\vsc\\Human_SleepSCoring\\DilonAndriesse\\pre_processing\\basic_mne_functions.py:15: RuntimeWarning: Channels contain different lowpass filters. Lowest filter setting will be stored.\n",
      "  raw = mne.io.read_raw_edf(\n"
     ]
    },
    {
     "name": "stdout",
     "output_type": "stream",
     "text": [
      "First sleep starts at: 30150.0\n",
      "Last sleep ends at: 50790.0\n",
      "Cropping raw: 28350.0 - 52590.0\n",
      "Cropping finished.\n",
      "Used Annotations descriptions: [np.str_('Sleep stage 1'), np.str_('Sleep stage 2'), np.str_('Sleep stage 3'), np.str_('Sleep stage R'), np.str_('Sleep stage W')]\n",
      "Extracting EDF parameters from C:\\Users\\andri\\school\\bio-informatics\\internship\\donders\\data\\human_test_data\\input\\raw_input\\SC4221E0-PSG.edf...\n",
      "EDF file detected\n",
      "Channel 'EEG Fpz-Cz' recognized as type EEG (renamed to 'Fpz-Cz').\n",
      "Channel 'EEG Pz-Oz' recognized as type EEG (renamed to 'Pz-Oz').\n",
      "Channel 'EOG horizontal' recognized as type EOG (renamed to 'horizontal').\n",
      "Channel 'Resp oro-nasal' recognized as type RESP (renamed to 'oro-nasal').\n",
      "Channel 'EMG submental' recognized as type EMG (renamed to 'submental').\n",
      "Channel 'Temp rectal' recognized as type TEMP (renamed to 'rectal').\n",
      "Setting channel info structure...\n",
      "Creating raw.info structure...\n",
      "Reading 0 ... 8099999  =      0.000 ... 80999.990 secs...\n"
     ]
    },
    {
     "name": "stderr",
     "output_type": "stream",
     "text": [
      "c:\\Users\\andri\\school\\bio-informatics\\internship\\donders\\vsc\\Human_SleepSCoring\\DilonAndriesse\\pre_processing\\basic_mne_functions.py:15: RuntimeWarning: Channels contain different highpass filters. Highest filter setting will be stored.\n",
      "  raw = mne.io.read_raw_edf(\n",
      "c:\\Users\\andri\\school\\bio-informatics\\internship\\donders\\vsc\\Human_SleepSCoring\\DilonAndriesse\\pre_processing\\basic_mne_functions.py:15: RuntimeWarning: Channels contain different lowpass filters. Lowest filter setting will be stored.\n",
      "  raw = mne.io.read_raw_edf(\n"
     ]
    },
    {
     "name": "stdout",
     "output_type": "stream",
     "text": [
      "First sleep starts at: 24780.0\n",
      "Last sleep ends at: 54150.0\n",
      "Cropping raw: 22980.0 - 55950.0\n",
      "Cropping finished.\n",
      "Used Annotations descriptions: [np.str_('Sleep stage 1'), np.str_('Sleep stage 2'), np.str_('Sleep stage 3'), np.str_('Sleep stage 4'), np.str_('Sleep stage R'), np.str_('Sleep stage W')]\n",
      "Extracting EDF parameters from C:\\Users\\andri\\school\\bio-informatics\\internship\\donders\\data\\human_test_data\\input\\raw_input\\SC4222E0-PSG.edf...\n",
      "EDF file detected\n",
      "Channel 'EEG Fpz-Cz' recognized as type EEG (renamed to 'Fpz-Cz').\n",
      "Channel 'EEG Pz-Oz' recognized as type EEG (renamed to 'Pz-Oz').\n",
      "Channel 'EOG horizontal' recognized as type EOG (renamed to 'horizontal').\n",
      "Channel 'Resp oro-nasal' recognized as type RESP (renamed to 'oro-nasal').\n",
      "Channel 'EMG submental' recognized as type EMG (renamed to 'submental').\n",
      "Channel 'Temp rectal' recognized as type TEMP (renamed to 'rectal').\n",
      "Setting channel info structure...\n",
      "Creating raw.info structure...\n",
      "Reading 0 ... 8279999  =      0.000 ... 82799.990 secs...\n"
     ]
    },
    {
     "name": "stderr",
     "output_type": "stream",
     "text": [
      "c:\\Users\\andri\\school\\bio-informatics\\internship\\donders\\vsc\\Human_SleepSCoring\\DilonAndriesse\\pre_processing\\basic_mne_functions.py:15: RuntimeWarning: Channels contain different highpass filters. Highest filter setting will be stored.\n",
      "  raw = mne.io.read_raw_edf(\n",
      "c:\\Users\\andri\\school\\bio-informatics\\internship\\donders\\vsc\\Human_SleepSCoring\\DilonAndriesse\\pre_processing\\basic_mne_functions.py:15: RuntimeWarning: Channels contain different lowpass filters. Lowest filter setting will be stored.\n",
      "  raw = mne.io.read_raw_edf(\n"
     ]
    },
    {
     "name": "stdout",
     "output_type": "stream",
     "text": [
      "First sleep starts at: 24570.0\n",
      "Last sleep ends at: 54210.0\n",
      "Cropping raw: 22770.0 - 56010.0\n",
      "Cropping finished.\n",
      "Used Annotations descriptions: [np.str_('Sleep stage 1'), np.str_('Sleep stage 2'), np.str_('Sleep stage 3'), np.str_('Sleep stage 4'), np.str_('Sleep stage R'), np.str_('Sleep stage W')]\n",
      "Extracting EDF parameters from C:\\Users\\andri\\school\\bio-informatics\\internship\\donders\\data\\human_test_data\\input\\raw_input\\SC4231E0-PSG.edf...\n",
      "EDF file detected\n",
      "Channel 'EEG Fpz-Cz' recognized as type EEG (renamed to 'Fpz-Cz').\n",
      "Channel 'EEG Pz-Oz' recognized as type EEG (renamed to 'Pz-Oz').\n",
      "Channel 'EOG horizontal' recognized as type EOG (renamed to 'horizontal').\n",
      "Channel 'Resp oro-nasal' recognized as type RESP (renamed to 'oro-nasal').\n",
      "Channel 'EMG submental' recognized as type EMG (renamed to 'submental').\n",
      "Channel 'Temp rectal' recognized as type TEMP (renamed to 'rectal').\n",
      "Setting channel info structure...\n",
      "Creating raw.info structure...\n",
      "Reading 0 ... 8237999  =      0.000 ... 82379.990 secs...\n"
     ]
    },
    {
     "name": "stderr",
     "output_type": "stream",
     "text": [
      "c:\\Users\\andri\\school\\bio-informatics\\internship\\donders\\vsc\\Human_SleepSCoring\\DilonAndriesse\\pre_processing\\basic_mne_functions.py:15: RuntimeWarning: Channels contain different highpass filters. Highest filter setting will be stored.\n",
      "  raw = mne.io.read_raw_edf(\n",
      "c:\\Users\\andri\\school\\bio-informatics\\internship\\donders\\vsc\\Human_SleepSCoring\\DilonAndriesse\\pre_processing\\basic_mne_functions.py:15: RuntimeWarning: Channels contain different lowpass filters. Lowest filter setting will be stored.\n",
      "  raw = mne.io.read_raw_edf(\n"
     ]
    },
    {
     "name": "stdout",
     "output_type": "stream",
     "text": [
      "First sleep starts at: 31710.0\n",
      "Last sleep ends at: 55320.0\n",
      "Cropping raw: 29910.0 - 57120.0\n",
      "Cropping finished.\n",
      "Used Annotations descriptions: [np.str_('Sleep stage 1'), np.str_('Sleep stage 2'), np.str_('Sleep stage 3'), np.str_('Sleep stage R'), np.str_('Sleep stage W')]\n",
      "Extracting EDF parameters from C:\\Users\\andri\\school\\bio-informatics\\internship\\donders\\data\\human_test_data\\input\\raw_input\\SC4232E0-PSG.edf...\n",
      "EDF file detected\n",
      "Channel 'EEG Fpz-Cz' recognized as type EEG (renamed to 'Fpz-Cz').\n",
      "Channel 'EEG Pz-Oz' recognized as type EEG (renamed to 'Pz-Oz').\n",
      "Channel 'EOG horizontal' recognized as type EOG (renamed to 'horizontal').\n",
      "Channel 'Resp oro-nasal' recognized as type RESP (renamed to 'oro-nasal').\n",
      "Channel 'EMG submental' recognized as type EMG (renamed to 'submental').\n",
      "Channel 'Temp rectal' recognized as type TEMP (renamed to 'rectal').\n",
      "Setting channel info structure...\n",
      "Creating raw.info structure...\n",
      "Reading 0 ... 7919999  =      0.000 ... 79199.990 secs...\n"
     ]
    },
    {
     "name": "stderr",
     "output_type": "stream",
     "text": [
      "c:\\Users\\andri\\school\\bio-informatics\\internship\\donders\\vsc\\Human_SleepSCoring\\DilonAndriesse\\pre_processing\\basic_mne_functions.py:15: RuntimeWarning: Channels contain different highpass filters. Highest filter setting will be stored.\n",
      "  raw = mne.io.read_raw_edf(\n",
      "c:\\Users\\andri\\school\\bio-informatics\\internship\\donders\\vsc\\Human_SleepSCoring\\DilonAndriesse\\pre_processing\\basic_mne_functions.py:15: RuntimeWarning: Channels contain different lowpass filters. Lowest filter setting will be stored.\n",
      "  raw = mne.io.read_raw_edf(\n"
     ]
    },
    {
     "name": "stdout",
     "output_type": "stream",
     "text": [
      "First sleep starts at: 28920.0\n",
      "Last sleep ends at: 77340.0\n",
      "Cropping raw: 27120.0 - 79140.0\n",
      "Cropping finished.\n",
      "Used Annotations descriptions: [np.str_('Sleep stage 1'), np.str_('Sleep stage 2'), np.str_('Sleep stage 3'), np.str_('Sleep stage R'), np.str_('Sleep stage W')]\n",
      "Extracting EDF parameters from C:\\Users\\andri\\school\\bio-informatics\\internship\\donders\\data\\human_test_data\\input\\raw_input\\SC4241E0-PSG.edf...\n",
      "EDF file detected\n",
      "Channel 'EEG Fpz-Cz' recognized as type EEG (renamed to 'Fpz-Cz').\n",
      "Channel 'EEG Pz-Oz' recognized as type EEG (renamed to 'Pz-Oz').\n",
      "Channel 'EOG horizontal' recognized as type EOG (renamed to 'horizontal').\n",
      "Channel 'Resp oro-nasal' recognized as type RESP (renamed to 'oro-nasal').\n",
      "Channel 'EMG submental' recognized as type EMG (renamed to 'submental').\n",
      "Channel 'Temp rectal' recognized as type TEMP (renamed to 'rectal').\n",
      "Setting channel info structure...\n",
      "Creating raw.info structure...\n",
      "Reading 0 ... 8105999  =      0.000 ... 81059.990 secs...\n"
     ]
    },
    {
     "name": "stderr",
     "output_type": "stream",
     "text": [
      "c:\\Users\\andri\\school\\bio-informatics\\internship\\donders\\vsc\\Human_SleepSCoring\\DilonAndriesse\\pre_processing\\basic_mne_functions.py:15: RuntimeWarning: Channels contain different highpass filters. Highest filter setting will be stored.\n",
      "  raw = mne.io.read_raw_edf(\n",
      "c:\\Users\\andri\\school\\bio-informatics\\internship\\donders\\vsc\\Human_SleepSCoring\\DilonAndriesse\\pre_processing\\basic_mne_functions.py:15: RuntimeWarning: Channels contain different lowpass filters. Lowest filter setting will be stored.\n",
      "  raw = mne.io.read_raw_edf(\n"
     ]
    },
    {
     "name": "stdout",
     "output_type": "stream",
     "text": [
      "First sleep starts at: 7350.0\n",
      "Last sleep ends at: 54000.0\n",
      "Cropping raw: 5550.0 - 55800.0\n",
      "Cropping finished.\n",
      "Used Annotations descriptions: [np.str_('Sleep stage 1'), np.str_('Sleep stage 2'), np.str_('Sleep stage 3'), np.str_('Sleep stage R'), np.str_('Sleep stage W')]\n",
      "Extracting EDF parameters from C:\\Users\\andri\\school\\bio-informatics\\internship\\donders\\data\\human_test_data\\input\\raw_input\\SC4242E0-PSG.edf...\n",
      "EDF file detected\n",
      "Channel 'EEG Fpz-Cz' recognized as type EEG (renamed to 'Fpz-Cz').\n",
      "Channel 'EEG Pz-Oz' recognized as type EEG (renamed to 'Pz-Oz').\n",
      "Channel 'EOG horizontal' recognized as type EOG (renamed to 'horizontal').\n",
      "Channel 'Resp oro-nasal' recognized as type RESP (renamed to 'oro-nasal').\n",
      "Channel 'EMG submental' recognized as type EMG (renamed to 'submental').\n",
      "Channel 'Temp rectal' recognized as type TEMP (renamed to 'rectal').\n",
      "Setting channel info structure...\n",
      "Creating raw.info structure...\n",
      "Reading 0 ... 8129999  =      0.000 ... 81299.990 secs...\n"
     ]
    },
    {
     "name": "stderr",
     "output_type": "stream",
     "text": [
      "c:\\Users\\andri\\school\\bio-informatics\\internship\\donders\\vsc\\Human_SleepSCoring\\DilonAndriesse\\pre_processing\\basic_mne_functions.py:15: RuntimeWarning: Channels contain different highpass filters. Highest filter setting will be stored.\n",
      "  raw = mne.io.read_raw_edf(\n",
      "c:\\Users\\andri\\school\\bio-informatics\\internship\\donders\\vsc\\Human_SleepSCoring\\DilonAndriesse\\pre_processing\\basic_mne_functions.py:15: RuntimeWarning: Channels contain different lowpass filters. Lowest filter setting will be stored.\n",
      "  raw = mne.io.read_raw_edf(\n"
     ]
    },
    {
     "name": "stdout",
     "output_type": "stream",
     "text": [
      "First sleep starts at: 7260.0\n",
      "Last sleep ends at: 56910.0\n",
      "Cropping raw: 5460.0 - 58710.0\n",
      "Cropping finished.\n",
      "Used Annotations descriptions: [np.str_('Sleep stage 1'), np.str_('Sleep stage 2'), np.str_('Sleep stage 3'), np.str_('Sleep stage R'), np.str_('Sleep stage W')]\n",
      "Extracting EDF parameters from C:\\Users\\andri\\school\\bio-informatics\\internship\\donders\\data\\human_test_data\\input\\raw_input\\SC4251E0-PSG.edf...\n",
      "EDF file detected\n",
      "Channel 'EEG Fpz-Cz' recognized as type EEG (renamed to 'Fpz-Cz').\n",
      "Channel 'EEG Pz-Oz' recognized as type EEG (renamed to 'Pz-Oz').\n",
      "Channel 'EOG horizontal' recognized as type EOG (renamed to 'horizontal').\n",
      "Channel 'Resp oro-nasal' recognized as type RESP (renamed to 'oro-nasal').\n",
      "Channel 'EMG submental' recognized as type EMG (renamed to 'submental').\n",
      "Channel 'Temp rectal' recognized as type TEMP (renamed to 'rectal').\n",
      "Setting channel info structure...\n",
      "Creating raw.info structure...\n",
      "Reading 0 ... 8279999  =      0.000 ... 82799.990 secs...\n"
     ]
    },
    {
     "name": "stderr",
     "output_type": "stream",
     "text": [
      "c:\\Users\\andri\\school\\bio-informatics\\internship\\donders\\vsc\\Human_SleepSCoring\\DilonAndriesse\\pre_processing\\basic_mne_functions.py:15: RuntimeWarning: Channels contain different highpass filters. Highest filter setting will be stored.\n",
      "  raw = mne.io.read_raw_edf(\n",
      "c:\\Users\\andri\\school\\bio-informatics\\internship\\donders\\vsc\\Human_SleepSCoring\\DilonAndriesse\\pre_processing\\basic_mne_functions.py:15: RuntimeWarning: Channels contain different lowpass filters. Lowest filter setting will be stored.\n",
      "  raw = mne.io.read_raw_edf(\n"
     ]
    },
    {
     "name": "stdout",
     "output_type": "stream",
     "text": [
      "First sleep starts at: 30480.0\n",
      "Last sleep ends at: 56040.0\n",
      "Cropping raw: 28680.0 - 57840.0\n",
      "Cropping finished.\n",
      "Used Annotations descriptions: [np.str_('Sleep stage 1'), np.str_('Sleep stage 2'), np.str_('Sleep stage 3'), np.str_('Sleep stage R'), np.str_('Sleep stage W')]\n",
      "Extracting EDF parameters from C:\\Users\\andri\\school\\bio-informatics\\internship\\donders\\data\\human_test_data\\input\\raw_input\\SC4252E0-PSG.edf...\n",
      "EDF file detected\n",
      "Channel 'EEG Fpz-Cz' recognized as type EEG (renamed to 'Fpz-Cz').\n",
      "Channel 'EEG Pz-Oz' recognized as type EEG (renamed to 'Pz-Oz').\n",
      "Channel 'EOG horizontal' recognized as type EOG (renamed to 'horizontal').\n",
      "Channel 'Resp oro-nasal' recognized as type RESP (renamed to 'oro-nasal').\n",
      "Channel 'EMG submental' recognized as type EMG (renamed to 'submental').\n",
      "Channel 'Temp rectal' recognized as type TEMP (renamed to 'rectal').\n",
      "Setting channel info structure...\n",
      "Creating raw.info structure...\n",
      "Reading 0 ... 7997999  =      0.000 ... 79979.990 secs...\n"
     ]
    },
    {
     "name": "stderr",
     "output_type": "stream",
     "text": [
      "c:\\Users\\andri\\school\\bio-informatics\\internship\\donders\\vsc\\Human_SleepSCoring\\DilonAndriesse\\pre_processing\\basic_mne_functions.py:15: RuntimeWarning: Channels contain different highpass filters. Highest filter setting will be stored.\n",
      "  raw = mne.io.read_raw_edf(\n",
      "c:\\Users\\andri\\school\\bio-informatics\\internship\\donders\\vsc\\Human_SleepSCoring\\DilonAndriesse\\pre_processing\\basic_mne_functions.py:15: RuntimeWarning: Channels contain different lowpass filters. Lowest filter setting will be stored.\n",
      "  raw = mne.io.read_raw_edf(\n"
     ]
    },
    {
     "name": "stdout",
     "output_type": "stream",
     "text": [
      "First sleep starts at: 30000.0\n",
      "Last sleep ends at: 57030.0\n",
      "Cropping raw: 28200.0 - 58830.0\n",
      "Cropping finished.\n",
      "Used Annotations descriptions: [np.str_('Sleep stage 1'), np.str_('Sleep stage 2'), np.str_('Sleep stage 3'), np.str_('Sleep stage 4'), np.str_('Sleep stage R'), np.str_('Sleep stage W')]\n",
      "Extracting EDF parameters from C:\\Users\\andri\\school\\bio-informatics\\internship\\donders\\data\\human_test_data\\input\\raw_input\\SC4261F0-PSG.edf...\n",
      "EDF file detected\n",
      "Channel 'EEG Fpz-Cz' recognized as type EEG (renamed to 'Fpz-Cz').\n",
      "Channel 'EEG Pz-Oz' recognized as type EEG (renamed to 'Pz-Oz').\n",
      "Channel 'EOG horizontal' recognized as type EOG (renamed to 'horizontal').\n",
      "Channel 'Resp oro-nasal' recognized as type RESP (renamed to 'oro-nasal').\n",
      "Channel 'EMG submental' recognized as type EMG (renamed to 'submental').\n",
      "Channel 'Temp rectal' recognized as type TEMP (renamed to 'rectal').\n",
      "Setting channel info structure...\n",
      "Creating raw.info structure...\n",
      "Reading 0 ... 8399999  =      0.000 ... 83999.990 secs...\n"
     ]
    },
    {
     "name": "stderr",
     "output_type": "stream",
     "text": [
      "c:\\Users\\andri\\school\\bio-informatics\\internship\\donders\\vsc\\Human_SleepSCoring\\DilonAndriesse\\pre_processing\\basic_mne_functions.py:15: RuntimeWarning: Channels contain different highpass filters. Highest filter setting will be stored.\n",
      "  raw = mne.io.read_raw_edf(\n",
      "c:\\Users\\andri\\school\\bio-informatics\\internship\\donders\\vsc\\Human_SleepSCoring\\DilonAndriesse\\pre_processing\\basic_mne_functions.py:15: RuntimeWarning: Channels contain different lowpass filters. Lowest filter setting will be stored.\n",
      "  raw = mne.io.read_raw_edf(\n"
     ]
    },
    {
     "name": "stdout",
     "output_type": "stream",
     "text": [
      "First sleep starts at: 14250.0\n",
      "Last sleep ends at: 58560.0\n",
      "Cropping raw: 12450.0 - 60360.0\n",
      "Cropping finished.\n",
      "Used Annotations descriptions: [np.str_('Sleep stage 1'), np.str_('Sleep stage 2'), np.str_('Sleep stage 3'), np.str_('Sleep stage 4'), np.str_('Sleep stage R'), np.str_('Sleep stage W')]\n",
      "Extracting EDF parameters from C:\\Users\\andri\\school\\bio-informatics\\internship\\donders\\data\\human_test_data\\input\\raw_input\\SC4262F0-PSG.edf...\n",
      "EDF file detected\n",
      "Channel 'EEG Fpz-Cz' recognized as type EEG (renamed to 'Fpz-Cz').\n",
      "Channel 'EEG Pz-Oz' recognized as type EEG (renamed to 'Pz-Oz').\n",
      "Channel 'EOG horizontal' recognized as type EOG (renamed to 'horizontal').\n",
      "Channel 'Resp oro-nasal' recognized as type RESP (renamed to 'oro-nasal').\n",
      "Channel 'EMG submental' recognized as type EMG (renamed to 'submental').\n",
      "Channel 'Temp rectal' recognized as type TEMP (renamed to 'rectal').\n",
      "Setting channel info structure...\n",
      "Creating raw.info structure...\n",
      "Reading 0 ... 8159999  =      0.000 ... 81599.990 secs...\n"
     ]
    },
    {
     "name": "stderr",
     "output_type": "stream",
     "text": [
      "c:\\Users\\andri\\school\\bio-informatics\\internship\\donders\\vsc\\Human_SleepSCoring\\DilonAndriesse\\pre_processing\\basic_mne_functions.py:15: RuntimeWarning: Channels contain different highpass filters. Highest filter setting will be stored.\n",
      "  raw = mne.io.read_raw_edf(\n",
      "c:\\Users\\andri\\school\\bio-informatics\\internship\\donders\\vsc\\Human_SleepSCoring\\DilonAndriesse\\pre_processing\\basic_mne_functions.py:15: RuntimeWarning: Channels contain different lowpass filters. Lowest filter setting will be stored.\n",
      "  raw = mne.io.read_raw_edf(\n"
     ]
    },
    {
     "name": "stdout",
     "output_type": "stream",
     "text": [
      "First sleep starts at: 30420.0\n",
      "Last sleep ends at: 56220.0\n",
      "Cropping raw: 28620.0 - 58020.0\n",
      "Cropping finished.\n",
      "Used Annotations descriptions: [np.str_('Sleep stage 1'), np.str_('Sleep stage 2'), np.str_('Sleep stage 3'), np.str_('Sleep stage 4'), np.str_('Sleep stage R'), np.str_('Sleep stage W')]\n",
      "Extracting EDF parameters from C:\\Users\\andri\\school\\bio-informatics\\internship\\donders\\data\\human_test_data\\input\\raw_input\\SC4271F0-PSG.edf...\n",
      "EDF file detected\n",
      "Channel 'EEG Fpz-Cz' recognized as type EEG (renamed to 'Fpz-Cz').\n",
      "Channel 'EEG Pz-Oz' recognized as type EEG (renamed to 'Pz-Oz').\n",
      "Channel 'EOG horizontal' recognized as type EOG (renamed to 'horizontal').\n",
      "Channel 'Resp oro-nasal' recognized as type RESP (renamed to 'oro-nasal').\n",
      "Channel 'EMG submental' recognized as type EMG (renamed to 'submental').\n",
      "Channel 'Temp rectal' recognized as type TEMP (renamed to 'rectal').\n",
      "Setting channel info structure...\n",
      "Creating raw.info structure...\n",
      "Reading 0 ... 7319999  =      0.000 ... 73199.990 secs...\n"
     ]
    },
    {
     "name": "stderr",
     "output_type": "stream",
     "text": [
      "c:\\Users\\andri\\school\\bio-informatics\\internship\\donders\\vsc\\Human_SleepSCoring\\DilonAndriesse\\pre_processing\\basic_mne_functions.py:15: RuntimeWarning: Channels contain different highpass filters. Highest filter setting will be stored.\n",
      "  raw = mne.io.read_raw_edf(\n",
      "c:\\Users\\andri\\school\\bio-informatics\\internship\\donders\\vsc\\Human_SleepSCoring\\DilonAndriesse\\pre_processing\\basic_mne_functions.py:15: RuntimeWarning: Channels contain different lowpass filters. Lowest filter setting will be stored.\n",
      "  raw = mne.io.read_raw_edf(\n"
     ]
    },
    {
     "name": "stdout",
     "output_type": "stream",
     "text": [
      "First sleep starts at: 30150.0\n",
      "Last sleep ends at: 58110.0\n",
      "Cropping raw: 28350.0 - 59910.0\n",
      "Cropping finished.\n",
      "Used Annotations descriptions: [np.str_('Sleep stage 1'), np.str_('Sleep stage 2'), np.str_('Sleep stage 3'), np.str_('Sleep stage 4'), np.str_('Sleep stage R'), np.str_('Sleep stage W')]\n",
      "Extracting EDF parameters from C:\\Users\\andri\\school\\bio-informatics\\internship\\donders\\data\\human_test_data\\input\\raw_input\\SC4272F0-PSG.edf...\n",
      "EDF file detected\n",
      "Channel 'EEG Fpz-Cz' recognized as type EEG (renamed to 'Fpz-Cz').\n",
      "Channel 'EEG Pz-Oz' recognized as type EEG (renamed to 'Pz-Oz').\n",
      "Channel 'EOG horizontal' recognized as type EOG (renamed to 'horizontal').\n",
      "Channel 'Resp oro-nasal' recognized as type RESP (renamed to 'oro-nasal').\n",
      "Channel 'EMG submental' recognized as type EMG (renamed to 'submental').\n",
      "Channel 'Temp rectal' recognized as type TEMP (renamed to 'rectal').\n",
      "Setting channel info structure...\n",
      "Creating raw.info structure...\n",
      "Reading 0 ... 8609999  =      0.000 ... 86099.990 secs...\n"
     ]
    },
    {
     "name": "stderr",
     "output_type": "stream",
     "text": [
      "c:\\Users\\andri\\school\\bio-informatics\\internship\\donders\\vsc\\Human_SleepSCoring\\DilonAndriesse\\pre_processing\\basic_mne_functions.py:15: RuntimeWarning: Channels contain different highpass filters. Highest filter setting will be stored.\n",
      "  raw = mne.io.read_raw_edf(\n",
      "c:\\Users\\andri\\school\\bio-informatics\\internship\\donders\\vsc\\Human_SleepSCoring\\DilonAndriesse\\pre_processing\\basic_mne_functions.py:15: RuntimeWarning: Channels contain different lowpass filters. Lowest filter setting will be stored.\n",
      "  raw = mne.io.read_raw_edf(\n"
     ]
    },
    {
     "name": "stdout",
     "output_type": "stream",
     "text": [
      "First sleep starts at: 40530.0\n",
      "Last sleep ends at: 69630.0\n",
      "Cropping raw: 38730.0 - 71430.0\n",
      "Cropping finished.\n",
      "Used Annotations descriptions: [np.str_('Sleep stage 1'), np.str_('Sleep stage 2'), np.str_('Sleep stage 3'), np.str_('Sleep stage 4'), np.str_('Sleep stage R'), np.str_('Sleep stage W')]\n",
      "Extracting EDF parameters from C:\\Users\\andri\\school\\bio-informatics\\internship\\donders\\data\\human_test_data\\input\\raw_input\\SC4281G0-PSG.edf...\n",
      "EDF file detected\n",
      "Channel 'EEG Fpz-Cz' recognized as type EEG (renamed to 'Fpz-Cz').\n",
      "Channel 'EEG Pz-Oz' recognized as type EEG (renamed to 'Pz-Oz').\n",
      "Channel 'EOG horizontal' recognized as type EOG (renamed to 'horizontal').\n",
      "Channel 'Resp oro-nasal' recognized as type RESP (renamed to 'oro-nasal').\n",
      "Channel 'EMG submental' recognized as type EMG (renamed to 'submental').\n",
      "Channel 'Temp rectal' recognized as type TEMP (renamed to 'rectal').\n",
      "Setting channel info structure...\n",
      "Creating raw.info structure...\n",
      "Reading 0 ... 8363999  =      0.000 ... 83639.990 secs...\n"
     ]
    },
    {
     "name": "stderr",
     "output_type": "stream",
     "text": [
      "c:\\Users\\andri\\school\\bio-informatics\\internship\\donders\\vsc\\Human_SleepSCoring\\DilonAndriesse\\pre_processing\\basic_mne_functions.py:15: RuntimeWarning: Channels contain different highpass filters. Highest filter setting will be stored.\n",
      "  raw = mne.io.read_raw_edf(\n",
      "c:\\Users\\andri\\school\\bio-informatics\\internship\\donders\\vsc\\Human_SleepSCoring\\DilonAndriesse\\pre_processing\\basic_mne_functions.py:15: RuntimeWarning: Channels contain different lowpass filters. Lowest filter setting will be stored.\n",
      "  raw = mne.io.read_raw_edf(\n"
     ]
    },
    {
     "name": "stdout",
     "output_type": "stream",
     "text": [
      "First sleep starts at: 37530.0\n",
      "Last sleep ends at: 67740.0\n",
      "Cropping raw: 35730.0 - 69540.0\n",
      "Cropping finished.\n",
      "Used Annotations descriptions: [np.str_('Sleep stage 1'), np.str_('Sleep stage 2'), np.str_('Sleep stage 3'), np.str_('Sleep stage 4'), np.str_('Sleep stage R'), np.str_('Sleep stage W')]\n",
      "Extracting EDF parameters from C:\\Users\\andri\\school\\bio-informatics\\internship\\donders\\data\\human_test_data\\input\\raw_input\\SC4282G0-PSG.edf...\n",
      "EDF file detected\n",
      "Channel 'EEG Fpz-Cz' recognized as type EEG (renamed to 'Fpz-Cz').\n",
      "Channel 'EEG Pz-Oz' recognized as type EEG (renamed to 'Pz-Oz').\n",
      "Channel 'EOG horizontal' recognized as type EOG (renamed to 'horizontal').\n",
      "Channel 'Resp oro-nasal' recognized as type RESP (renamed to 'oro-nasal').\n",
      "Channel 'EMG submental' recognized as type EMG (renamed to 'submental').\n",
      "Channel 'Temp rectal' recognized as type TEMP (renamed to 'rectal').\n",
      "Setting channel info structure...\n",
      "Creating raw.info structure...\n",
      "Reading 0 ... 8441999  =      0.000 ... 84419.990 secs...\n"
     ]
    },
    {
     "name": "stderr",
     "output_type": "stream",
     "text": [
      "c:\\Users\\andri\\school\\bio-informatics\\internship\\donders\\vsc\\Human_SleepSCoring\\DilonAndriesse\\pre_processing\\basic_mne_functions.py:15: RuntimeWarning: Channels contain different highpass filters. Highest filter setting will be stored.\n",
      "  raw = mne.io.read_raw_edf(\n",
      "c:\\Users\\andri\\school\\bio-informatics\\internship\\donders\\vsc\\Human_SleepSCoring\\DilonAndriesse\\pre_processing\\basic_mne_functions.py:15: RuntimeWarning: Channels contain different lowpass filters. Lowest filter setting will be stored.\n",
      "  raw = mne.io.read_raw_edf(\n"
     ]
    },
    {
     "name": "stdout",
     "output_type": "stream",
     "text": [
      "First sleep starts at: 39480.0\n",
      "Last sleep ends at: 67980.0\n",
      "Cropping raw: 37680.0 - 69780.0\n",
      "Cropping finished.\n",
      "Used Annotations descriptions: [np.str_('Sleep stage 1'), np.str_('Sleep stage 2'), np.str_('Sleep stage 3'), np.str_('Sleep stage 4'), np.str_('Sleep stage R'), np.str_('Sleep stage W')]\n",
      "Extracting EDF parameters from C:\\Users\\andri\\school\\bio-informatics\\internship\\donders\\data\\human_test_data\\input\\raw_input\\SC4291G0-PSG.edf...\n",
      "EDF file detected\n",
      "Channel 'EEG Fpz-Cz' recognized as type EEG (renamed to 'Fpz-Cz').\n",
      "Channel 'EEG Pz-Oz' recognized as type EEG (renamed to 'Pz-Oz').\n",
      "Channel 'EOG horizontal' recognized as type EOG (renamed to 'horizontal').\n",
      "Channel 'Resp oro-nasal' recognized as type RESP (renamed to 'oro-nasal').\n",
      "Channel 'EMG submental' recognized as type EMG (renamed to 'submental').\n",
      "Channel 'Temp rectal' recognized as type TEMP (renamed to 'rectal').\n",
      "Setting channel info structure...\n",
      "Creating raw.info structure...\n",
      "Reading 0 ... 8267999  =      0.000 ... 82679.990 secs...\n"
     ]
    },
    {
     "name": "stderr",
     "output_type": "stream",
     "text": [
      "c:\\Users\\andri\\school\\bio-informatics\\internship\\donders\\vsc\\Human_SleepSCoring\\DilonAndriesse\\pre_processing\\basic_mne_functions.py:15: RuntimeWarning: Channels contain different highpass filters. Highest filter setting will be stored.\n",
      "  raw = mne.io.read_raw_edf(\n",
      "c:\\Users\\andri\\school\\bio-informatics\\internship\\donders\\vsc\\Human_SleepSCoring\\DilonAndriesse\\pre_processing\\basic_mne_functions.py:15: RuntimeWarning: Channels contain different lowpass filters. Lowest filter setting will be stored.\n",
      "  raw = mne.io.read_raw_edf(\n"
     ]
    },
    {
     "name": "stdout",
     "output_type": "stream",
     "text": [
      "First sleep starts at: 26430.0\n",
      "Last sleep ends at: 56760.0\n",
      "Cropping raw: 24630.0 - 58560.0\n",
      "Cropping finished.\n",
      "Used Annotations descriptions: [np.str_('Sleep stage 1'), np.str_('Sleep stage 2'), np.str_('Sleep stage 3'), np.str_('Sleep stage 4'), np.str_('Sleep stage R'), np.str_('Sleep stage W')]\n",
      "Extracting EDF parameters from C:\\Users\\andri\\school\\bio-informatics\\internship\\donders\\data\\human_test_data\\input\\raw_input\\SC4292G0-PSG.edf...\n",
      "EDF file detected\n",
      "Channel 'EEG Fpz-Cz' recognized as type EEG (renamed to 'Fpz-Cz').\n",
      "Channel 'EEG Pz-Oz' recognized as type EEG (renamed to 'Pz-Oz').\n",
      "Channel 'EOG horizontal' recognized as type EOG (renamed to 'horizontal').\n",
      "Channel 'Resp oro-nasal' recognized as type RESP (renamed to 'oro-nasal').\n",
      "Channel 'EMG submental' recognized as type EMG (renamed to 'submental').\n",
      "Channel 'Temp rectal' recognized as type TEMP (renamed to 'rectal').\n",
      "Setting channel info structure...\n",
      "Creating raw.info structure...\n",
      "Reading 0 ... 8429999  =      0.000 ... 84299.990 secs...\n"
     ]
    },
    {
     "name": "stderr",
     "output_type": "stream",
     "text": [
      "c:\\Users\\andri\\school\\bio-informatics\\internship\\donders\\vsc\\Human_SleepSCoring\\DilonAndriesse\\pre_processing\\basic_mne_functions.py:15: RuntimeWarning: Channels contain different highpass filters. Highest filter setting will be stored.\n",
      "  raw = mne.io.read_raw_edf(\n",
      "c:\\Users\\andri\\school\\bio-informatics\\internship\\donders\\vsc\\Human_SleepSCoring\\DilonAndriesse\\pre_processing\\basic_mne_functions.py:15: RuntimeWarning: Channels contain different lowpass filters. Lowest filter setting will be stored.\n",
      "  raw = mne.io.read_raw_edf(\n"
     ]
    },
    {
     "name": "stdout",
     "output_type": "stream",
     "text": [
      "First sleep starts at: 13440.0\n",
      "Last sleep ends at: 58080.0\n",
      "Cropping raw: 11640.0 - 59880.0\n",
      "Cropping finished.\n",
      "Used Annotations descriptions: [np.str_('Sleep stage 1'), np.str_('Sleep stage 2'), np.str_('Sleep stage 3'), np.str_('Sleep stage 4'), np.str_('Sleep stage R'), np.str_('Sleep stage W')]\n",
      "Extracting EDF parameters from C:\\Users\\andri\\school\\bio-informatics\\internship\\donders\\data\\human_test_data\\input\\raw_input\\SC4301E0-PSG.edf...\n",
      "EDF file detected\n",
      "Channel 'EEG Fpz-Cz' recognized as type EEG (renamed to 'Fpz-Cz').\n",
      "Channel 'EEG Pz-Oz' recognized as type EEG (renamed to 'Pz-Oz').\n",
      "Channel 'EOG horizontal' recognized as type EOG (renamed to 'horizontal').\n",
      "Channel 'Resp oro-nasal' recognized as type RESP (renamed to 'oro-nasal').\n",
      "Channel 'EMG submental' recognized as type EMG (renamed to 'submental').\n",
      "Channel 'Temp rectal' recognized as type TEMP (renamed to 'rectal').\n",
      "Setting channel info structure...\n",
      "Creating raw.info structure...\n",
      "Reading 0 ... 7937999  =      0.000 ... 79379.990 secs...\n"
     ]
    },
    {
     "name": "stderr",
     "output_type": "stream",
     "text": [
      "c:\\Users\\andri\\school\\bio-informatics\\internship\\donders\\vsc\\Human_SleepSCoring\\DilonAndriesse\\pre_processing\\basic_mne_functions.py:15: RuntimeWarning: Channels contain different highpass filters. Highest filter setting will be stored.\n",
      "  raw = mne.io.read_raw_edf(\n",
      "c:\\Users\\andri\\school\\bio-informatics\\internship\\donders\\vsc\\Human_SleepSCoring\\DilonAndriesse\\pre_processing\\basic_mne_functions.py:15: RuntimeWarning: Channels contain different lowpass filters. Lowest filter setting will be stored.\n",
      "  raw = mne.io.read_raw_edf(\n"
     ]
    },
    {
     "name": "stdout",
     "output_type": "stream",
     "text": [
      "First sleep starts at: 28140.0\n",
      "Last sleep ends at: 52470.0\n",
      "Cropping raw: 26340.0 - 54270.0\n",
      "Cropping finished.\n",
      "Used Annotations descriptions: [np.str_('Sleep stage 1'), np.str_('Sleep stage 2'), np.str_('Sleep stage 3'), np.str_('Sleep stage R'), np.str_('Sleep stage W')]\n",
      "Extracting EDF parameters from C:\\Users\\andri\\school\\bio-informatics\\internship\\donders\\data\\human_test_data\\input\\raw_input\\SC4302E0-PSG.edf...\n",
      "EDF file detected\n",
      "Channel 'EEG Fpz-Cz' recognized as type EEG (renamed to 'Fpz-Cz').\n",
      "Channel 'EEG Pz-Oz' recognized as type EEG (renamed to 'Pz-Oz').\n",
      "Channel 'EOG horizontal' recognized as type EOG (renamed to 'horizontal').\n",
      "Channel 'Resp oro-nasal' recognized as type RESP (renamed to 'oro-nasal').\n",
      "Channel 'EMG submental' recognized as type EMG (renamed to 'submental').\n",
      "Channel 'Temp rectal' recognized as type TEMP (renamed to 'rectal').\n",
      "Setting channel info structure...\n",
      "Creating raw.info structure...\n",
      "Reading 0 ... 8423999  =      0.000 ... 84239.990 secs...\n"
     ]
    },
    {
     "name": "stderr",
     "output_type": "stream",
     "text": [
      "c:\\Users\\andri\\school\\bio-informatics\\internship\\donders\\vsc\\Human_SleepSCoring\\DilonAndriesse\\pre_processing\\basic_mne_functions.py:15: RuntimeWarning: Channels contain different highpass filters. Highest filter setting will be stored.\n",
      "  raw = mne.io.read_raw_edf(\n",
      "c:\\Users\\andri\\school\\bio-informatics\\internship\\donders\\vsc\\Human_SleepSCoring\\DilonAndriesse\\pre_processing\\basic_mne_functions.py:15: RuntimeWarning: Channels contain different lowpass filters. Lowest filter setting will be stored.\n",
      "  raw = mne.io.read_raw_edf(\n"
     ]
    },
    {
     "name": "stdout",
     "output_type": "stream",
     "text": [
      "First sleep starts at: 33360.0\n",
      "Last sleep ends at: 55380.0\n",
      "Cropping raw: 31560.0 - 57180.0\n",
      "Cropping finished.\n",
      "Used Annotations descriptions: [np.str_('Sleep stage 1'), np.str_('Sleep stage 2'), np.str_('Sleep stage 3'), np.str_('Sleep stage R'), np.str_('Sleep stage W')]\n",
      "Extracting EDF parameters from C:\\Users\\andri\\school\\bio-informatics\\internship\\donders\\data\\human_test_data\\input\\raw_input\\SC4311E0-PSG.edf...\n",
      "EDF file detected\n",
      "Channel 'EEG Fpz-Cz' recognized as type EEG (renamed to 'Fpz-Cz').\n",
      "Channel 'EEG Pz-Oz' recognized as type EEG (renamed to 'Pz-Oz').\n",
      "Channel 'EOG horizontal' recognized as type EOG (renamed to 'horizontal').\n",
      "Channel 'Resp oro-nasal' recognized as type RESP (renamed to 'oro-nasal').\n",
      "Channel 'EMG submental' recognized as type EMG (renamed to 'submental').\n",
      "Channel 'Temp rectal' recognized as type TEMP (renamed to 'rectal').\n",
      "Setting channel info structure...\n",
      "Creating raw.info structure...\n",
      "Reading 0 ... 8009999  =      0.000 ... 80099.990 secs...\n"
     ]
    },
    {
     "name": "stderr",
     "output_type": "stream",
     "text": [
      "c:\\Users\\andri\\school\\bio-informatics\\internship\\donders\\vsc\\Human_SleepSCoring\\DilonAndriesse\\pre_processing\\basic_mne_functions.py:15: RuntimeWarning: Channels contain different highpass filters. Highest filter setting will be stored.\n",
      "  raw = mne.io.read_raw_edf(\n",
      "c:\\Users\\andri\\school\\bio-informatics\\internship\\donders\\vsc\\Human_SleepSCoring\\DilonAndriesse\\pre_processing\\basic_mne_functions.py:15: RuntimeWarning: Channels contain different lowpass filters. Lowest filter setting will be stored.\n",
      "  raw = mne.io.read_raw_edf(\n"
     ]
    },
    {
     "name": "stdout",
     "output_type": "stream",
     "text": [
      "First sleep starts at: 26970.0\n",
      "Last sleep ends at: 54990.0\n",
      "Cropping raw: 25170.0 - 56790.0\n",
      "Cropping finished.\n",
      "Used Annotations descriptions: [np.str_('Sleep stage 1'), np.str_('Sleep stage 2'), np.str_('Sleep stage 3'), np.str_('Sleep stage 4'), np.str_('Sleep stage R'), np.str_('Sleep stage W')]\n",
      "Extracting EDF parameters from C:\\Users\\andri\\school\\bio-informatics\\internship\\donders\\data\\human_test_data\\input\\raw_input\\SC4312E0-PSG.edf...\n",
      "EDF file detected\n",
      "Channel 'EEG Fpz-Cz' recognized as type EEG (renamed to 'Fpz-Cz').\n",
      "Channel 'EEG Pz-Oz' recognized as type EEG (renamed to 'Pz-Oz').\n",
      "Channel 'EOG horizontal' recognized as type EOG (renamed to 'horizontal').\n",
      "Channel 'Resp oro-nasal' recognized as type RESP (renamed to 'oro-nasal').\n",
      "Channel 'EMG submental' recognized as type EMG (renamed to 'submental').\n",
      "Channel 'Temp rectal' recognized as type TEMP (renamed to 'rectal').\n",
      "Setting channel info structure...\n",
      "Creating raw.info structure...\n",
      "Reading 0 ... 8099999  =      0.000 ... 80999.990 secs...\n"
     ]
    },
    {
     "name": "stderr",
     "output_type": "stream",
     "text": [
      "c:\\Users\\andri\\school\\bio-informatics\\internship\\donders\\vsc\\Human_SleepSCoring\\DilonAndriesse\\pre_processing\\basic_mne_functions.py:15: RuntimeWarning: Channels contain different highpass filters. Highest filter setting will be stored.\n",
      "  raw = mne.io.read_raw_edf(\n",
      "c:\\Users\\andri\\school\\bio-informatics\\internship\\donders\\vsc\\Human_SleepSCoring\\DilonAndriesse\\pre_processing\\basic_mne_functions.py:15: RuntimeWarning: Channels contain different lowpass filters. Lowest filter setting will be stored.\n",
      "  raw = mne.io.read_raw_edf(\n"
     ]
    },
    {
     "name": "stdout",
     "output_type": "stream",
     "text": [
      "First sleep starts at: 28050.0\n",
      "Last sleep ends at: 59880.0\n",
      "Cropping raw: 26250.0 - 61680.0\n",
      "Cropping finished.\n",
      "Used Annotations descriptions: [np.str_('Sleep stage 1'), np.str_('Sleep stage 2'), np.str_('Sleep stage 3'), np.str_('Sleep stage 4'), np.str_('Sleep stage R'), np.str_('Sleep stage W')]\n",
      "Extracting EDF parameters from C:\\Users\\andri\\school\\bio-informatics\\internship\\donders\\data\\human_test_data\\input\\raw_input\\SC4321E0-PSG.edf...\n",
      "EDF file detected\n",
      "Channel 'EEG Fpz-Cz' recognized as type EEG (renamed to 'Fpz-Cz').\n",
      "Channel 'EEG Pz-Oz' recognized as type EEG (renamed to 'Pz-Oz').\n",
      "Channel 'EOG horizontal' recognized as type EOG (renamed to 'horizontal').\n",
      "Channel 'Resp oro-nasal' recognized as type RESP (renamed to 'oro-nasal').\n",
      "Channel 'EMG submental' recognized as type EMG (renamed to 'submental').\n",
      "Channel 'Temp rectal' recognized as type TEMP (renamed to 'rectal').\n",
      "Setting channel info structure...\n",
      "Creating raw.info structure...\n",
      "Reading 0 ... 8069999  =      0.000 ... 80699.990 secs...\n"
     ]
    },
    {
     "name": "stderr",
     "output_type": "stream",
     "text": [
      "c:\\Users\\andri\\school\\bio-informatics\\internship\\donders\\vsc\\Human_SleepSCoring\\DilonAndriesse\\pre_processing\\basic_mne_functions.py:15: RuntimeWarning: Channels contain different highpass filters. Highest filter setting will be stored.\n",
      "  raw = mne.io.read_raw_edf(\n",
      "c:\\Users\\andri\\school\\bio-informatics\\internship\\donders\\vsc\\Human_SleepSCoring\\DilonAndriesse\\pre_processing\\basic_mne_functions.py:15: RuntimeWarning: Channels contain different lowpass filters. Lowest filter setting will be stored.\n",
      "  raw = mne.io.read_raw_edf(\n"
     ]
    },
    {
     "name": "stdout",
     "output_type": "stream",
     "text": [
      "First sleep starts at: 12630.0\n",
      "Last sleep ends at: 55860.0\n",
      "Cropping raw: 10830.0 - 57660.0\n",
      "Cropping finished.\n",
      "Used Annotations descriptions: [np.str_('Sleep stage 1'), np.str_('Sleep stage 2'), np.str_('Sleep stage R'), np.str_('Sleep stage W')]\n",
      "Extracting EDF parameters from C:\\Users\\andri\\school\\bio-informatics\\internship\\donders\\data\\human_test_data\\input\\raw_input\\SC4322E0-PSG.edf...\n",
      "EDF file detected\n",
      "Channel 'EEG Fpz-Cz' recognized as type EEG (renamed to 'Fpz-Cz').\n",
      "Channel 'EEG Pz-Oz' recognized as type EEG (renamed to 'Pz-Oz').\n",
      "Channel 'EOG horizontal' recognized as type EOG (renamed to 'horizontal').\n",
      "Channel 'Resp oro-nasal' recognized as type RESP (renamed to 'oro-nasal').\n",
      "Channel 'EMG submental' recognized as type EMG (renamed to 'submental').\n",
      "Channel 'Temp rectal' recognized as type TEMP (renamed to 'rectal').\n",
      "Setting channel info structure...\n",
      "Creating raw.info structure...\n",
      "Reading 0 ... 7847999  =      0.000 ... 78479.990 secs...\n"
     ]
    },
    {
     "name": "stderr",
     "output_type": "stream",
     "text": [
      "c:\\Users\\andri\\school\\bio-informatics\\internship\\donders\\vsc\\Human_SleepSCoring\\DilonAndriesse\\pre_processing\\basic_mne_functions.py:15: RuntimeWarning: Channels contain different highpass filters. Highest filter setting will be stored.\n",
      "  raw = mne.io.read_raw_edf(\n",
      "c:\\Users\\andri\\school\\bio-informatics\\internship\\donders\\vsc\\Human_SleepSCoring\\DilonAndriesse\\pre_processing\\basic_mne_functions.py:15: RuntimeWarning: Channels contain different lowpass filters. Lowest filter setting will be stored.\n",
      "  raw = mne.io.read_raw_edf(\n"
     ]
    },
    {
     "name": "stdout",
     "output_type": "stream",
     "text": [
      "First sleep starts at: 29520.0\n",
      "Last sleep ends at: 56550.0\n",
      "Cropping raw: 27720.0 - 58350.0\n",
      "Cropping finished.\n",
      "Used Annotations descriptions: [np.str_('Sleep stage 1'), np.str_('Sleep stage 2'), np.str_('Sleep stage 3'), np.str_('Sleep stage R'), np.str_('Sleep stage W')]\n",
      "Extracting EDF parameters from C:\\Users\\andri\\school\\bio-informatics\\internship\\donders\\data\\human_test_data\\input\\raw_input\\SC4331F0-PSG.edf...\n",
      "EDF file detected\n",
      "Channel 'EEG Fpz-Cz' recognized as type EEG (renamed to 'Fpz-Cz').\n",
      "Channel 'EEG Pz-Oz' recognized as type EEG (renamed to 'Pz-Oz').\n",
      "Channel 'EOG horizontal' recognized as type EOG (renamed to 'horizontal').\n",
      "Channel 'Resp oro-nasal' recognized as type RESP (renamed to 'oro-nasal').\n",
      "Channel 'EMG submental' recognized as type EMG (renamed to 'submental').\n",
      "Channel 'Temp rectal' recognized as type TEMP (renamed to 'rectal').\n",
      "Setting channel info structure...\n",
      "Creating raw.info structure...\n",
      "Reading 0 ... 8429999  =      0.000 ... 84299.990 secs...\n"
     ]
    },
    {
     "name": "stderr",
     "output_type": "stream",
     "text": [
      "c:\\Users\\andri\\school\\bio-informatics\\internship\\donders\\vsc\\Human_SleepSCoring\\DilonAndriesse\\pre_processing\\basic_mne_functions.py:15: RuntimeWarning: Channels contain different highpass filters. Highest filter setting will be stored.\n",
      "  raw = mne.io.read_raw_edf(\n",
      "c:\\Users\\andri\\school\\bio-informatics\\internship\\donders\\vsc\\Human_SleepSCoring\\DilonAndriesse\\pre_processing\\basic_mne_functions.py:15: RuntimeWarning: Channels contain different lowpass filters. Lowest filter setting will be stored.\n",
      "  raw = mne.io.read_raw_edf(\n"
     ]
    },
    {
     "name": "stdout",
     "output_type": "stream",
     "text": [
      "First sleep starts at: 28380.0\n",
      "Last sleep ends at: 81450.0\n",
      "Cropping raw: 26580.0 - 83250.0\n",
      "Cropping finished.\n",
      "Used Annotations descriptions: [np.str_('Sleep stage 1'), np.str_('Sleep stage 2'), np.str_('Sleep stage R'), np.str_('Sleep stage W')]\n",
      "Extracting EDF parameters from C:\\Users\\andri\\school\\bio-informatics\\internship\\donders\\data\\human_test_data\\input\\raw_input\\SC4332F0-PSG.edf...\n",
      "EDF file detected\n",
      "Channel 'EEG Fpz-Cz' recognized as type EEG (renamed to 'Fpz-Cz').\n",
      "Channel 'EEG Pz-Oz' recognized as type EEG (renamed to 'Pz-Oz').\n",
      "Channel 'EOG horizontal' recognized as type EOG (renamed to 'horizontal').\n",
      "Channel 'Resp oro-nasal' recognized as type RESP (renamed to 'oro-nasal').\n",
      "Channel 'EMG submental' recognized as type EMG (renamed to 'submental').\n",
      "Channel 'Temp rectal' recognized as type TEMP (renamed to 'rectal').\n",
      "Setting channel info structure...\n",
      "Creating raw.info structure...\n",
      "Reading 0 ... 8279999  =      0.000 ... 82799.990 secs...\n"
     ]
    },
    {
     "name": "stderr",
     "output_type": "stream",
     "text": [
      "c:\\Users\\andri\\school\\bio-informatics\\internship\\donders\\vsc\\Human_SleepSCoring\\DilonAndriesse\\pre_processing\\basic_mne_functions.py:15: RuntimeWarning: Channels contain different highpass filters. Highest filter setting will be stored.\n",
      "  raw = mne.io.read_raw_edf(\n",
      "c:\\Users\\andri\\school\\bio-informatics\\internship\\donders\\vsc\\Human_SleepSCoring\\DilonAndriesse\\pre_processing\\basic_mne_functions.py:15: RuntimeWarning: Channels contain different lowpass filters. Lowest filter setting will be stored.\n",
      "  raw = mne.io.read_raw_edf(\n"
     ]
    },
    {
     "name": "stdout",
     "output_type": "stream",
     "text": [
      "First sleep starts at: 16170.0\n",
      "Last sleep ends at: 51990.0\n",
      "Cropping raw: 14370.0 - 53790.0\n",
      "Cropping finished.\n",
      "Used Annotations descriptions: [np.str_('Sleep stage 1'), np.str_('Sleep stage 2'), np.str_('Sleep stage R'), np.str_('Sleep stage W')]\n",
      "Extracting EDF parameters from C:\\Users\\andri\\school\\bio-informatics\\internship\\donders\\data\\human_test_data\\input\\raw_input\\SC4341F0-PSG.edf...\n",
      "EDF file detected\n",
      "Channel 'EEG Fpz-Cz' recognized as type EEG (renamed to 'Fpz-Cz').\n",
      "Channel 'EEG Pz-Oz' recognized as type EEG (renamed to 'Pz-Oz').\n",
      "Channel 'EOG horizontal' recognized as type EOG (renamed to 'horizontal').\n",
      "Channel 'Resp oro-nasal' recognized as type RESP (renamed to 'oro-nasal').\n",
      "Channel 'EMG submental' recognized as type EMG (renamed to 'submental').\n",
      "Channel 'Temp rectal' recognized as type TEMP (renamed to 'rectal').\n",
      "Setting channel info structure...\n",
      "Creating raw.info structure...\n",
      "Reading 0 ... 8249999  =      0.000 ... 82499.990 secs...\n"
     ]
    },
    {
     "name": "stderr",
     "output_type": "stream",
     "text": [
      "c:\\Users\\andri\\school\\bio-informatics\\internship\\donders\\vsc\\Human_SleepSCoring\\DilonAndriesse\\pre_processing\\basic_mne_functions.py:15: RuntimeWarning: Channels contain different highpass filters. Highest filter setting will be stored.\n",
      "  raw = mne.io.read_raw_edf(\n",
      "c:\\Users\\andri\\school\\bio-informatics\\internship\\donders\\vsc\\Human_SleepSCoring\\DilonAndriesse\\pre_processing\\basic_mne_functions.py:15: RuntimeWarning: Channels contain different lowpass filters. Lowest filter setting will be stored.\n",
      "  raw = mne.io.read_raw_edf(\n"
     ]
    },
    {
     "name": "stdout",
     "output_type": "stream",
     "text": [
      "First sleep starts at: 9720.0\n",
      "Last sleep ends at: 51150.0\n",
      "Cropping raw: 7920.0 - 52950.0\n",
      "Cropping finished.\n",
      "Used Annotations descriptions: [np.str_('Sleep stage 1'), np.str_('Sleep stage 2'), np.str_('Sleep stage R'), np.str_('Sleep stage W')]\n",
      "Extracting EDF parameters from C:\\Users\\andri\\school\\bio-informatics\\internship\\donders\\data\\human_test_data\\input\\raw_input\\SC4342F0-PSG.edf...\n",
      "EDF file detected\n",
      "Channel 'EEG Fpz-Cz' recognized as type EEG (renamed to 'Fpz-Cz').\n",
      "Channel 'EEG Pz-Oz' recognized as type EEG (renamed to 'Pz-Oz').\n",
      "Channel 'EOG horizontal' recognized as type EOG (renamed to 'horizontal').\n",
      "Channel 'Resp oro-nasal' recognized as type RESP (renamed to 'oro-nasal').\n",
      "Channel 'EMG submental' recognized as type EMG (renamed to 'submental').\n",
      "Channel 'Temp rectal' recognized as type TEMP (renamed to 'rectal').\n",
      "Setting channel info structure...\n",
      "Creating raw.info structure...\n",
      "Reading 0 ... 8369999  =      0.000 ... 83699.990 secs...\n"
     ]
    },
    {
     "name": "stderr",
     "output_type": "stream",
     "text": [
      "c:\\Users\\andri\\school\\bio-informatics\\internship\\donders\\vsc\\Human_SleepSCoring\\DilonAndriesse\\pre_processing\\basic_mne_functions.py:15: RuntimeWarning: Channels contain different highpass filters. Highest filter setting will be stored.\n",
      "  raw = mne.io.read_raw_edf(\n",
      "c:\\Users\\andri\\school\\bio-informatics\\internship\\donders\\vsc\\Human_SleepSCoring\\DilonAndriesse\\pre_processing\\basic_mne_functions.py:15: RuntimeWarning: Channels contain different lowpass filters. Lowest filter setting will be stored.\n",
      "  raw = mne.io.read_raw_edf(\n"
     ]
    },
    {
     "name": "stdout",
     "output_type": "stream",
     "text": [
      "First sleep starts at: 10410.0\n",
      "Last sleep ends at: 54270.0\n",
      "Cropping raw: 8610.0 - 56070.0\n",
      "Cropping finished.\n",
      "Used Annotations descriptions: [np.str_('Sleep stage 1'), np.str_('Sleep stage 2'), np.str_('Sleep stage R'), np.str_('Sleep stage W')]\n",
      "Extracting EDF parameters from C:\\Users\\andri\\school\\bio-informatics\\internship\\donders\\data\\human_test_data\\input\\raw_input\\SC4351F0-PSG.edf...\n",
      "EDF file detected\n",
      "Channel 'EEG Fpz-Cz' recognized as type EEG (renamed to 'Fpz-Cz').\n",
      "Channel 'EEG Pz-Oz' recognized as type EEG (renamed to 'Pz-Oz').\n",
      "Channel 'EOG horizontal' recognized as type EOG (renamed to 'horizontal').\n",
      "Channel 'Resp oro-nasal' recognized as type RESP (renamed to 'oro-nasal').\n",
      "Channel 'EMG submental' recognized as type EMG (renamed to 'submental').\n",
      "Channel 'Temp rectal' recognized as type TEMP (renamed to 'rectal').\n",
      "Setting channel info structure...\n",
      "Creating raw.info structure...\n",
      "Reading 0 ... 8129999  =      0.000 ... 81299.990 secs...\n"
     ]
    },
    {
     "name": "stderr",
     "output_type": "stream",
     "text": [
      "c:\\Users\\andri\\school\\bio-informatics\\internship\\donders\\vsc\\Human_SleepSCoring\\DilonAndriesse\\pre_processing\\basic_mne_functions.py:15: RuntimeWarning: Channels contain different highpass filters. Highest filter setting will be stored.\n",
      "  raw = mne.io.read_raw_edf(\n",
      "c:\\Users\\andri\\school\\bio-informatics\\internship\\donders\\vsc\\Human_SleepSCoring\\DilonAndriesse\\pre_processing\\basic_mne_functions.py:15: RuntimeWarning: Channels contain different lowpass filters. Lowest filter setting will be stored.\n",
      "  raw = mne.io.read_raw_edf(\n"
     ]
    },
    {
     "name": "stdout",
     "output_type": "stream",
     "text": [
      "First sleep starts at: 29160.0\n",
      "Last sleep ends at: 54840.0\n",
      "Cropping raw: 27360.0 - 56640.0\n",
      "Cropping finished.\n",
      "Used Annotations descriptions: [np.str_('Sleep stage 1'), np.str_('Sleep stage 2'), np.str_('Sleep stage 3'), np.str_('Sleep stage R'), np.str_('Sleep stage W')]\n",
      "Extracting EDF parameters from C:\\Users\\andri\\school\\bio-informatics\\internship\\donders\\data\\human_test_data\\input\\raw_input\\SC4352F0-PSG.edf...\n",
      "EDF file detected\n",
      "Channel 'EEG Fpz-Cz' recognized as type EEG (renamed to 'Fpz-Cz').\n",
      "Channel 'EEG Pz-Oz' recognized as type EEG (renamed to 'Pz-Oz').\n",
      "Channel 'EOG horizontal' recognized as type EOG (renamed to 'horizontal').\n",
      "Channel 'Resp oro-nasal' recognized as type RESP (renamed to 'oro-nasal').\n",
      "Channel 'EMG submental' recognized as type EMG (renamed to 'submental').\n",
      "Channel 'Temp rectal' recognized as type TEMP (renamed to 'rectal').\n",
      "Setting channel info structure...\n",
      "Creating raw.info structure...\n",
      "Reading 0 ... 7595999  =      0.000 ... 75959.990 secs...\n"
     ]
    },
    {
     "name": "stderr",
     "output_type": "stream",
     "text": [
      "c:\\Users\\andri\\school\\bio-informatics\\internship\\donders\\vsc\\Human_SleepSCoring\\DilonAndriesse\\pre_processing\\basic_mne_functions.py:15: RuntimeWarning: Channels contain different highpass filters. Highest filter setting will be stored.\n",
      "  raw = mne.io.read_raw_edf(\n",
      "c:\\Users\\andri\\school\\bio-informatics\\internship\\donders\\vsc\\Human_SleepSCoring\\DilonAndriesse\\pre_processing\\basic_mne_functions.py:15: RuntimeWarning: Channels contain different lowpass filters. Lowest filter setting will be stored.\n",
      "  raw = mne.io.read_raw_edf(\n"
     ]
    },
    {
     "name": "stdout",
     "output_type": "stream",
     "text": [
      "First sleep starts at: 32940.0\n",
      "Last sleep ends at: 58290.0\n",
      "Cropping raw: 31140.0 - 60090.0\n",
      "Cropping finished.\n",
      "Used Annotations descriptions: [np.str_('Sleep stage 1'), np.str_('Sleep stage 2'), np.str_('Sleep stage 3'), np.str_('Sleep stage 4'), np.str_('Sleep stage R'), np.str_('Sleep stage W')]\n",
      "Extracting EDF parameters from C:\\Users\\andri\\school\\bio-informatics\\internship\\donders\\data\\human_test_data\\input\\raw_input\\SC4362F0-PSG.edf...\n",
      "EDF file detected\n",
      "Channel 'EEG Fpz-Cz' recognized as type EEG (renamed to 'Fpz-Cz').\n",
      "Channel 'EEG Pz-Oz' recognized as type EEG (renamed to 'Pz-Oz').\n",
      "Channel 'EOG horizontal' recognized as type EOG (renamed to 'horizontal').\n",
      "Channel 'Resp oro-nasal' recognized as type RESP (renamed to 'oro-nasal').\n",
      "Channel 'EMG submental' recognized as type EMG (renamed to 'submental').\n",
      "Channel 'Temp rectal' recognized as type TEMP (renamed to 'rectal').\n",
      "Setting channel info structure...\n",
      "Creating raw.info structure...\n",
      "Reading 0 ... 6797999  =      0.000 ... 67979.990 secs...\n"
     ]
    },
    {
     "name": "stderr",
     "output_type": "stream",
     "text": [
      "c:\\Users\\andri\\school\\bio-informatics\\internship\\donders\\vsc\\Human_SleepSCoring\\DilonAndriesse\\pre_processing\\basic_mne_functions.py:15: RuntimeWarning: Channels contain different highpass filters. Highest filter setting will be stored.\n",
      "  raw = mne.io.read_raw_edf(\n",
      "c:\\Users\\andri\\school\\bio-informatics\\internship\\donders\\vsc\\Human_SleepSCoring\\DilonAndriesse\\pre_processing\\basic_mne_functions.py:15: RuntimeWarning: Channels contain different lowpass filters. Lowest filter setting will be stored.\n",
      "  raw = mne.io.read_raw_edf(\n"
     ]
    },
    {
     "name": "stdout",
     "output_type": "stream",
     "text": [
      "First sleep starts at: 31260.0\n",
      "Last sleep ends at: 52380.0\n",
      "Cropping raw: 29460.0 - 54180.0\n",
      "Cropping finished.\n",
      "Used Annotations descriptions: [np.str_('Sleep stage 1'), np.str_('Sleep stage 2'), np.str_('Sleep stage 3'), np.str_('Sleep stage R'), np.str_('Sleep stage W')]\n",
      "Extracting EDF parameters from C:\\Users\\andri\\school\\bio-informatics\\internship\\donders\\data\\human_test_data\\input\\raw_input\\SC4371F0-PSG.edf...\n",
      "EDF file detected\n",
      "Channel 'EEG Fpz-Cz' recognized as type EEG (renamed to 'Fpz-Cz').\n",
      "Channel 'EEG Pz-Oz' recognized as type EEG (renamed to 'Pz-Oz').\n",
      "Channel 'EOG horizontal' recognized as type EOG (renamed to 'horizontal').\n",
      "Channel 'Resp oro-nasal' recognized as type RESP (renamed to 'oro-nasal').\n",
      "Channel 'EMG submental' recognized as type EMG (renamed to 'submental').\n",
      "Channel 'Temp rectal' recognized as type TEMP (renamed to 'rectal').\n",
      "Setting channel info structure...\n",
      "Creating raw.info structure...\n",
      "Reading 0 ... 8549999  =      0.000 ... 85499.990 secs...\n"
     ]
    },
    {
     "name": "stderr",
     "output_type": "stream",
     "text": [
      "c:\\Users\\andri\\school\\bio-informatics\\internship\\donders\\vsc\\Human_SleepSCoring\\DilonAndriesse\\pre_processing\\basic_mne_functions.py:15: RuntimeWarning: Channels contain different highpass filters. Highest filter setting will be stored.\n",
      "  raw = mne.io.read_raw_edf(\n",
      "c:\\Users\\andri\\school\\bio-informatics\\internship\\donders\\vsc\\Human_SleepSCoring\\DilonAndriesse\\pre_processing\\basic_mne_functions.py:15: RuntimeWarning: Channels contain different lowpass filters. Lowest filter setting will be stored.\n",
      "  raw = mne.io.read_raw_edf(\n"
     ]
    },
    {
     "name": "stdout",
     "output_type": "stream",
     "text": [
      "First sleep starts at: 26760.0\n",
      "Last sleep ends at: 50700.0\n",
      "Cropping raw: 24960.0 - 52500.0\n",
      "Cropping finished.\n",
      "Used Annotations descriptions: [np.str_('Sleep stage 1'), np.str_('Sleep stage 2'), np.str_('Sleep stage 3'), np.str_('Sleep stage R'), np.str_('Sleep stage W')]\n",
      "Extracting EDF parameters from C:\\Users\\andri\\school\\bio-informatics\\internship\\donders\\data\\human_test_data\\input\\raw_input\\SC4372F0-PSG.edf...\n",
      "EDF file detected\n",
      "Channel 'EEG Fpz-Cz' recognized as type EEG (renamed to 'Fpz-Cz').\n",
      "Channel 'EEG Pz-Oz' recognized as type EEG (renamed to 'Pz-Oz').\n",
      "Channel 'EOG horizontal' recognized as type EOG (renamed to 'horizontal').\n",
      "Channel 'Resp oro-nasal' recognized as type RESP (renamed to 'oro-nasal').\n",
      "Channel 'EMG submental' recognized as type EMG (renamed to 'submental').\n",
      "Channel 'Temp rectal' recognized as type TEMP (renamed to 'rectal').\n",
      "Setting channel info structure...\n",
      "Creating raw.info structure...\n",
      "Reading 0 ... 8519999  =      0.000 ... 85199.990 secs...\n"
     ]
    },
    {
     "name": "stderr",
     "output_type": "stream",
     "text": [
      "c:\\Users\\andri\\school\\bio-informatics\\internship\\donders\\vsc\\Human_SleepSCoring\\DilonAndriesse\\pre_processing\\basic_mne_functions.py:15: RuntimeWarning: Channels contain different highpass filters. Highest filter setting will be stored.\n",
      "  raw = mne.io.read_raw_edf(\n",
      "c:\\Users\\andri\\school\\bio-informatics\\internship\\donders\\vsc\\Human_SleepSCoring\\DilonAndriesse\\pre_processing\\basic_mne_functions.py:15: RuntimeWarning: Channels contain different lowpass filters. Lowest filter setting will be stored.\n",
      "  raw = mne.io.read_raw_edf(\n"
     ]
    },
    {
     "name": "stdout",
     "output_type": "stream",
     "text": [
      "First sleep starts at: 8340.0\n",
      "Last sleep ends at: 50010.0\n",
      "Cropping raw: 6540.0 - 51810.0\n",
      "Cropping finished.\n",
      "Used Annotations descriptions: [np.str_('Sleep stage 1'), np.str_('Sleep stage 2'), np.str_('Sleep stage 3'), np.str_('Sleep stage R'), np.str_('Sleep stage W')]\n",
      "Extracting EDF parameters from C:\\Users\\andri\\school\\bio-informatics\\internship\\donders\\data\\human_test_data\\input\\raw_input\\SC4381F0-PSG.edf...\n",
      "EDF file detected\n",
      "Channel 'EEG Fpz-Cz' recognized as type EEG (renamed to 'Fpz-Cz').\n",
      "Channel 'EEG Pz-Oz' recognized as type EEG (renamed to 'Pz-Oz').\n",
      "Channel 'EOG horizontal' recognized as type EOG (renamed to 'horizontal').\n",
      "Channel 'Resp oro-nasal' recognized as type RESP (renamed to 'oro-nasal').\n",
      "Channel 'EMG submental' recognized as type EMG (renamed to 'submental').\n",
      "Channel 'Temp rectal' recognized as type TEMP (renamed to 'rectal').\n",
      "Setting channel info structure...\n",
      "Creating raw.info structure...\n",
      "Reading 0 ... 8249999  =      0.000 ... 82499.990 secs...\n"
     ]
    },
    {
     "name": "stderr",
     "output_type": "stream",
     "text": [
      "c:\\Users\\andri\\school\\bio-informatics\\internship\\donders\\vsc\\Human_SleepSCoring\\DilonAndriesse\\pre_processing\\basic_mne_functions.py:15: RuntimeWarning: Channels contain different highpass filters. Highest filter setting will be stored.\n",
      "  raw = mne.io.read_raw_edf(\n",
      "c:\\Users\\andri\\school\\bio-informatics\\internship\\donders\\vsc\\Human_SleepSCoring\\DilonAndriesse\\pre_processing\\basic_mne_functions.py:15: RuntimeWarning: Channels contain different lowpass filters. Lowest filter setting will be stored.\n",
      "  raw = mne.io.read_raw_edf(\n"
     ]
    },
    {
     "name": "stdout",
     "output_type": "stream",
     "text": [
      "First sleep starts at: 6210.0\n",
      "Last sleep ends at: 55890.0\n",
      "Cropping raw: 4410.0 - 57690.0\n",
      "Cropping finished.\n",
      "Used Annotations descriptions: [np.str_('Sleep stage 1'), np.str_('Sleep stage 2'), np.str_('Sleep stage 3'), np.str_('Sleep stage R'), np.str_('Sleep stage W')]\n",
      "Extracting EDF parameters from C:\\Users\\andri\\school\\bio-informatics\\internship\\donders\\data\\human_test_data\\input\\raw_input\\SC4382F0-PSG.edf...\n",
      "EDF file detected\n",
      "Channel 'EEG Fpz-Cz' recognized as type EEG (renamed to 'Fpz-Cz').\n",
      "Channel 'EEG Pz-Oz' recognized as type EEG (renamed to 'Pz-Oz').\n",
      "Channel 'EOG horizontal' recognized as type EOG (renamed to 'horizontal').\n",
      "Channel 'Resp oro-nasal' recognized as type RESP (renamed to 'oro-nasal').\n",
      "Channel 'EMG submental' recognized as type EMG (renamed to 'submental').\n",
      "Channel 'Temp rectal' recognized as type TEMP (renamed to 'rectal').\n",
      "Setting channel info structure...\n",
      "Creating raw.info structure...\n",
      "Reading 0 ... 8309999  =      0.000 ... 83099.990 secs...\n"
     ]
    },
    {
     "name": "stderr",
     "output_type": "stream",
     "text": [
      "c:\\Users\\andri\\school\\bio-informatics\\internship\\donders\\vsc\\Human_SleepSCoring\\DilonAndriesse\\pre_processing\\basic_mne_functions.py:15: RuntimeWarning: Channels contain different highpass filters. Highest filter setting will be stored.\n",
      "  raw = mne.io.read_raw_edf(\n",
      "c:\\Users\\andri\\school\\bio-informatics\\internship\\donders\\vsc\\Human_SleepSCoring\\DilonAndriesse\\pre_processing\\basic_mne_functions.py:15: RuntimeWarning: Channels contain different lowpass filters. Lowest filter setting will be stored.\n",
      "  raw = mne.io.read_raw_edf(\n"
     ]
    },
    {
     "name": "stdout",
     "output_type": "stream",
     "text": [
      "First sleep starts at: 5250.0\n",
      "Last sleep ends at: 57780.0\n",
      "Cropping raw: 3450.0 - 59580.0\n",
      "Cropping finished.\n",
      "Used Annotations descriptions: [np.str_('Sleep stage 1'), np.str_('Sleep stage 2'), np.str_('Sleep stage 3'), np.str_('Sleep stage 4'), np.str_('Sleep stage R'), np.str_('Sleep stage W')]\n",
      "Extracting EDF parameters from C:\\Users\\andri\\school\\bio-informatics\\internship\\donders\\data\\human_test_data\\input\\raw_input\\SC4401E0-PSG.edf...\n",
      "EDF file detected\n",
      "Channel 'EEG Fpz-Cz' recognized as type EEG (renamed to 'Fpz-Cz').\n",
      "Channel 'EEG Pz-Oz' recognized as type EEG (renamed to 'Pz-Oz').\n",
      "Channel 'EOG horizontal' recognized as type EOG (renamed to 'horizontal').\n",
      "Channel 'Resp oro-nasal' recognized as type RESP (renamed to 'oro-nasal').\n",
      "Channel 'EMG submental' recognized as type EMG (renamed to 'submental').\n",
      "Channel 'Temp rectal' recognized as type TEMP (renamed to 'rectal').\n",
      "Setting channel info structure...\n",
      "Creating raw.info structure...\n",
      "Reading 0 ... 7889999  =      0.000 ... 78899.990 secs...\n"
     ]
    },
    {
     "name": "stderr",
     "output_type": "stream",
     "text": [
      "c:\\Users\\andri\\school\\bio-informatics\\internship\\donders\\vsc\\Human_SleepSCoring\\DilonAndriesse\\pre_processing\\basic_mne_functions.py:15: RuntimeWarning: Channels contain different highpass filters. Highest filter setting will be stored.\n",
      "  raw = mne.io.read_raw_edf(\n",
      "c:\\Users\\andri\\school\\bio-informatics\\internship\\donders\\vsc\\Human_SleepSCoring\\DilonAndriesse\\pre_processing\\basic_mne_functions.py:15: RuntimeWarning: Channels contain different lowpass filters. Lowest filter setting will be stored.\n",
      "  raw = mne.io.read_raw_edf(\n"
     ]
    },
    {
     "name": "stdout",
     "output_type": "stream",
     "text": [
      "First sleep starts at: 27390.0\n",
      "Last sleep ends at: 55710.0\n",
      "Cropping raw: 25590.0 - 57510.0\n",
      "Cropping finished.\n",
      "Used Annotations descriptions: [np.str_('Sleep stage 1'), np.str_('Sleep stage 2'), np.str_('Sleep stage 3'), np.str_('Sleep stage R'), np.str_('Sleep stage W')]\n",
      "Extracting EDF parameters from C:\\Users\\andri\\school\\bio-informatics\\internship\\donders\\data\\human_test_data\\input\\raw_input\\SC4402E0-PSG.edf...\n",
      "EDF file detected\n",
      "Channel 'EEG Fpz-Cz' recognized as type EEG (renamed to 'Fpz-Cz').\n",
      "Channel 'EEG Pz-Oz' recognized as type EEG (renamed to 'Pz-Oz').\n",
      "Channel 'EOG horizontal' recognized as type EOG (renamed to 'horizontal').\n",
      "Channel 'Resp oro-nasal' recognized as type RESP (renamed to 'oro-nasal').\n",
      "Channel 'EMG submental' recognized as type EMG (renamed to 'submental').\n",
      "Channel 'Temp rectal' recognized as type TEMP (renamed to 'rectal').\n",
      "Setting channel info structure...\n",
      "Creating raw.info structure...\n",
      "Reading 0 ... 8369999  =      0.000 ... 83699.990 secs...\n"
     ]
    },
    {
     "name": "stderr",
     "output_type": "stream",
     "text": [
      "c:\\Users\\andri\\school\\bio-informatics\\internship\\donders\\vsc\\Human_SleepSCoring\\DilonAndriesse\\pre_processing\\basic_mne_functions.py:15: RuntimeWarning: Channels contain different highpass filters. Highest filter setting will be stored.\n",
      "  raw = mne.io.read_raw_edf(\n",
      "c:\\Users\\andri\\school\\bio-informatics\\internship\\donders\\vsc\\Human_SleepSCoring\\DilonAndriesse\\pre_processing\\basic_mne_functions.py:15: RuntimeWarning: Channels contain different lowpass filters. Lowest filter setting will be stored.\n",
      "  raw = mne.io.read_raw_edf(\n"
     ]
    },
    {
     "name": "stdout",
     "output_type": "stream",
     "text": [
      "First sleep starts at: 30660.0\n",
      "Last sleep ends at: 59220.0\n",
      "Cropping raw: 28860.0 - 61020.0\n",
      "Cropping finished.\n",
      "Used Annotations descriptions: [np.str_('Sleep stage 1'), np.str_('Sleep stage 2'), np.str_('Sleep stage 3'), np.str_('Sleep stage 4'), np.str_('Sleep stage R'), np.str_('Sleep stage W')]\n",
      "Extracting EDF parameters from C:\\Users\\andri\\school\\bio-informatics\\internship\\donders\\data\\human_test_data\\input\\raw_input\\SC4411E0-PSG.edf...\n",
      "EDF file detected\n",
      "Channel 'EEG Fpz-Cz' recognized as type EEG (renamed to 'Fpz-Cz').\n",
      "Channel 'EEG Pz-Oz' recognized as type EEG (renamed to 'Pz-Oz').\n",
      "Channel 'EOG horizontal' recognized as type EOG (renamed to 'horizontal').\n",
      "Channel 'Resp oro-nasal' recognized as type RESP (renamed to 'oro-nasal').\n",
      "Channel 'EMG submental' recognized as type EMG (renamed to 'submental').\n",
      "Channel 'Temp rectal' recognized as type TEMP (renamed to 'rectal').\n",
      "Setting channel info structure...\n",
      "Creating raw.info structure...\n",
      "Reading 0 ... 8183999  =      0.000 ... 81839.990 secs...\n"
     ]
    },
    {
     "name": "stderr",
     "output_type": "stream",
     "text": [
      "c:\\Users\\andri\\school\\bio-informatics\\internship\\donders\\vsc\\Human_SleepSCoring\\DilonAndriesse\\pre_processing\\basic_mne_functions.py:15: RuntimeWarning: Channels contain different highpass filters. Highest filter setting will be stored.\n",
      "  raw = mne.io.read_raw_edf(\n",
      "c:\\Users\\andri\\school\\bio-informatics\\internship\\donders\\vsc\\Human_SleepSCoring\\DilonAndriesse\\pre_processing\\basic_mne_functions.py:15: RuntimeWarning: Channels contain different lowpass filters. Lowest filter setting will be stored.\n",
      "  raw = mne.io.read_raw_edf(\n"
     ]
    },
    {
     "name": "stdout",
     "output_type": "stream",
     "text": [
      "First sleep starts at: 24390.0\n",
      "Last sleep ends at: 53130.0\n",
      "Cropping raw: 22590.0 - 54930.0\n",
      "Cropping finished.\n",
      "Used Annotations descriptions: [np.str_('Sleep stage 1'), np.str_('Sleep stage 2'), np.str_('Sleep stage 3'), np.str_('Sleep stage 4'), np.str_('Sleep stage R'), np.str_('Sleep stage W')]\n",
      "Extracting EDF parameters from C:\\Users\\andri\\school\\bio-informatics\\internship\\donders\\data\\human_test_data\\input\\raw_input\\SC4412E0-PSG.edf...\n",
      "EDF file detected\n",
      "Channel 'EEG Fpz-Cz' recognized as type EEG (renamed to 'Fpz-Cz').\n",
      "Channel 'EEG Pz-Oz' recognized as type EEG (renamed to 'Pz-Oz').\n",
      "Channel 'EOG horizontal' recognized as type EOG (renamed to 'horizontal').\n",
      "Channel 'Resp oro-nasal' recognized as type RESP (renamed to 'oro-nasal').\n",
      "Channel 'EMG submental' recognized as type EMG (renamed to 'submental').\n",
      "Channel 'Temp rectal' recognized as type TEMP (renamed to 'rectal').\n",
      "Setting channel info structure...\n",
      "Creating raw.info structure...\n",
      "Reading 0 ... 8573999  =      0.000 ... 85739.990 secs...\n"
     ]
    },
    {
     "name": "stderr",
     "output_type": "stream",
     "text": [
      "c:\\Users\\andri\\school\\bio-informatics\\internship\\donders\\vsc\\Human_SleepSCoring\\DilonAndriesse\\pre_processing\\basic_mne_functions.py:15: RuntimeWarning: Channels contain different highpass filters. Highest filter setting will be stored.\n",
      "  raw = mne.io.read_raw_edf(\n",
      "c:\\Users\\andri\\school\\bio-informatics\\internship\\donders\\vsc\\Human_SleepSCoring\\DilonAndriesse\\pre_processing\\basic_mne_functions.py:15: RuntimeWarning: Channels contain different lowpass filters. Lowest filter setting will be stored.\n",
      "  raw = mne.io.read_raw_edf(\n"
     ]
    },
    {
     "name": "stdout",
     "output_type": "stream",
     "text": [
      "First sleep starts at: 26580.0\n",
      "Last sleep ends at: 50700.0\n",
      "Cropping raw: 24780.0 - 52500.0\n",
      "Cropping finished.\n",
      "Used Annotations descriptions: [np.str_('Sleep stage 1'), np.str_('Sleep stage 2'), np.str_('Sleep stage 3'), np.str_('Sleep stage 4'), np.str_('Sleep stage R'), np.str_('Sleep stage W')]\n",
      "Extracting EDF parameters from C:\\Users\\andri\\school\\bio-informatics\\internship\\donders\\data\\human_test_data\\input\\raw_input\\SC4421E0-PSG.edf...\n",
      "EDF file detected\n",
      "Channel 'EEG Fpz-Cz' recognized as type EEG (renamed to 'Fpz-Cz').\n",
      "Channel 'EEG Pz-Oz' recognized as type EEG (renamed to 'Pz-Oz').\n",
      "Channel 'EOG horizontal' recognized as type EOG (renamed to 'horizontal').\n",
      "Channel 'Resp oro-nasal' recognized as type RESP (renamed to 'oro-nasal').\n",
      "Channel 'EMG submental' recognized as type EMG (renamed to 'submental').\n",
      "Channel 'Temp rectal' recognized as type TEMP (renamed to 'rectal').\n",
      "Setting channel info structure...\n",
      "Creating raw.info structure...\n",
      "Reading 0 ... 8291999  =      0.000 ... 82919.990 secs...\n"
     ]
    },
    {
     "name": "stderr",
     "output_type": "stream",
     "text": [
      "c:\\Users\\andri\\school\\bio-informatics\\internship\\donders\\vsc\\Human_SleepSCoring\\DilonAndriesse\\pre_processing\\basic_mne_functions.py:15: RuntimeWarning: Channels contain different highpass filters. Highest filter setting will be stored.\n",
      "  raw = mne.io.read_raw_edf(\n",
      "c:\\Users\\andri\\school\\bio-informatics\\internship\\donders\\vsc\\Human_SleepSCoring\\DilonAndriesse\\pre_processing\\basic_mne_functions.py:15: RuntimeWarning: Channels contain different lowpass filters. Lowest filter setting will be stored.\n",
      "  raw = mne.io.read_raw_edf(\n"
     ]
    },
    {
     "name": "stdout",
     "output_type": "stream",
     "text": [
      "First sleep starts at: 32640.0\n",
      "Last sleep ends at: 52590.0\n",
      "Cropping raw: 30840.0 - 54390.0\n",
      "Cropping finished.\n",
      "Used Annotations descriptions: [np.str_('Sleep stage 1'), np.str_('Sleep stage 2'), np.str_('Sleep stage 3'), np.str_('Sleep stage 4'), np.str_('Sleep stage R'), np.str_('Sleep stage W')]\n",
      "Extracting EDF parameters from C:\\Users\\andri\\school\\bio-informatics\\internship\\donders\\data\\human_test_data\\input\\raw_input\\SC4422E0-PSG.edf...\n",
      "EDF file detected\n",
      "Channel 'EEG Fpz-Cz' recognized as type EEG (renamed to 'Fpz-Cz').\n",
      "Channel 'EEG Pz-Oz' recognized as type EEG (renamed to 'Pz-Oz').\n",
      "Channel 'EOG horizontal' recognized as type EOG (renamed to 'horizontal').\n",
      "Channel 'Resp oro-nasal' recognized as type RESP (renamed to 'oro-nasal').\n",
      "Channel 'EMG submental' recognized as type EMG (renamed to 'submental').\n",
      "Channel 'Temp rectal' recognized as type TEMP (renamed to 'rectal').\n",
      "Setting channel info structure...\n",
      "Creating raw.info structure...\n",
      "Reading 0 ... 8045999  =      0.000 ... 80459.990 secs...\n"
     ]
    },
    {
     "name": "stderr",
     "output_type": "stream",
     "text": [
      "c:\\Users\\andri\\school\\bio-informatics\\internship\\donders\\vsc\\Human_SleepSCoring\\DilonAndriesse\\pre_processing\\basic_mne_functions.py:15: RuntimeWarning: Channels contain different highpass filters. Highest filter setting will be stored.\n",
      "  raw = mne.io.read_raw_edf(\n",
      "c:\\Users\\andri\\school\\bio-informatics\\internship\\donders\\vsc\\Human_SleepSCoring\\DilonAndriesse\\pre_processing\\basic_mne_functions.py:15: RuntimeWarning: Channels contain different lowpass filters. Lowest filter setting will be stored.\n",
      "  raw = mne.io.read_raw_edf(\n"
     ]
    },
    {
     "name": "stdout",
     "output_type": "stream",
     "text": [
      "First sleep starts at: 29520.0\n",
      "Last sleep ends at: 52440.0\n",
      "Cropping raw: 27720.0 - 54240.0\n",
      "Cropping finished.\n",
      "Used Annotations descriptions: [np.str_('Sleep stage 1'), np.str_('Sleep stage 2'), np.str_('Sleep stage 3'), np.str_('Sleep stage 4'), np.str_('Sleep stage R'), np.str_('Sleep stage W')]\n",
      "Extracting EDF parameters from C:\\Users\\andri\\school\\bio-informatics\\internship\\donders\\data\\human_test_data\\input\\raw_input\\SC4431E0-PSG.edf...\n",
      "EDF file detected\n",
      "Channel 'EEG Fpz-Cz' recognized as type EEG (renamed to 'Fpz-Cz').\n",
      "Channel 'EEG Pz-Oz' recognized as type EEG (renamed to 'Pz-Oz').\n",
      "Channel 'EOG horizontal' recognized as type EOG (renamed to 'horizontal').\n",
      "Channel 'Resp oro-nasal' recognized as type RESP (renamed to 'oro-nasal').\n",
      "Channel 'EMG submental' recognized as type EMG (renamed to 'submental').\n",
      "Channel 'Temp rectal' recognized as type TEMP (renamed to 'rectal').\n",
      "Setting channel info structure...\n",
      "Creating raw.info structure...\n",
      "Reading 0 ... 8429999  =      0.000 ... 84299.990 secs...\n"
     ]
    },
    {
     "name": "stderr",
     "output_type": "stream",
     "text": [
      "c:\\Users\\andri\\school\\bio-informatics\\internship\\donders\\vsc\\Human_SleepSCoring\\DilonAndriesse\\pre_processing\\basic_mne_functions.py:15: RuntimeWarning: Channels contain different highpass filters. Highest filter setting will be stored.\n",
      "  raw = mne.io.read_raw_edf(\n",
      "c:\\Users\\andri\\school\\bio-informatics\\internship\\donders\\vsc\\Human_SleepSCoring\\DilonAndriesse\\pre_processing\\basic_mne_functions.py:15: RuntimeWarning: Channels contain different lowpass filters. Lowest filter setting will be stored.\n",
      "  raw = mne.io.read_raw_edf(\n"
     ]
    },
    {
     "name": "stdout",
     "output_type": "stream",
     "text": [
      "First sleep starts at: 35670.0\n",
      "Last sleep ends at: 53040.0\n",
      "Cropping raw: 33870.0 - 54840.0\n",
      "Cropping finished.\n",
      "Used Annotations descriptions: [np.str_('Sleep stage 1'), np.str_('Sleep stage 2'), np.str_('Sleep stage 3'), np.str_('Sleep stage 4'), np.str_('Sleep stage R'), np.str_('Sleep stage W')]\n",
      "Extracting EDF parameters from C:\\Users\\andri\\school\\bio-informatics\\internship\\donders\\data\\human_test_data\\input\\raw_input\\SC4432E0-PSG.edf...\n",
      "EDF file detected\n",
      "Channel 'EEG Fpz-Cz' recognized as type EEG (renamed to 'Fpz-Cz').\n",
      "Channel 'EEG Pz-Oz' recognized as type EEG (renamed to 'Pz-Oz').\n",
      "Channel 'EOG horizontal' recognized as type EOG (renamed to 'horizontal').\n",
      "Channel 'Resp oro-nasal' recognized as type RESP (renamed to 'oro-nasal').\n",
      "Channel 'EMG submental' recognized as type EMG (renamed to 'submental').\n",
      "Channel 'Temp rectal' recognized as type TEMP (renamed to 'rectal').\n",
      "Setting channel info structure...\n",
      "Creating raw.info structure...\n",
      "Reading 0 ... 8339999  =      0.000 ... 83399.990 secs...\n"
     ]
    },
    {
     "name": "stderr",
     "output_type": "stream",
     "text": [
      "c:\\Users\\andri\\school\\bio-informatics\\internship\\donders\\vsc\\Human_SleepSCoring\\DilonAndriesse\\pre_processing\\basic_mne_functions.py:15: RuntimeWarning: Channels contain different highpass filters. Highest filter setting will be stored.\n",
      "  raw = mne.io.read_raw_edf(\n",
      "c:\\Users\\andri\\school\\bio-informatics\\internship\\donders\\vsc\\Human_SleepSCoring\\DilonAndriesse\\pre_processing\\basic_mne_functions.py:15: RuntimeWarning: Channels contain different lowpass filters. Lowest filter setting will be stored.\n",
      "  raw = mne.io.read_raw_edf(\n"
     ]
    },
    {
     "name": "stdout",
     "output_type": "stream",
     "text": [
      "First sleep starts at: 35220.0\n",
      "Last sleep ends at: 60480.0\n",
      "Cropping raw: 33420.0 - 62280.0\n",
      "Cropping finished.\n",
      "Used Annotations descriptions: [np.str_('Sleep stage 1'), np.str_('Sleep stage 2'), np.str_('Sleep stage 3'), np.str_('Sleep stage 4'), np.str_('Sleep stage R'), np.str_('Sleep stage W')]\n",
      "Extracting EDF parameters from C:\\Users\\andri\\school\\bio-informatics\\internship\\donders\\data\\human_test_data\\input\\raw_input\\SC4441E0-PSG.edf...\n",
      "EDF file detected\n",
      "Channel 'EEG Fpz-Cz' recognized as type EEG (renamed to 'Fpz-Cz').\n",
      "Channel 'EEG Pz-Oz' recognized as type EEG (renamed to 'Pz-Oz').\n",
      "Channel 'EOG horizontal' recognized as type EOG (renamed to 'horizontal').\n",
      "Channel 'Resp oro-nasal' recognized as type RESP (renamed to 'oro-nasal').\n",
      "Channel 'EMG submental' recognized as type EMG (renamed to 'submental').\n",
      "Channel 'Temp rectal' recognized as type TEMP (renamed to 'rectal').\n",
      "Setting channel info structure...\n",
      "Creating raw.info structure...\n",
      "Reading 0 ... 7859999  =      0.000 ... 78599.990 secs...\n"
     ]
    },
    {
     "name": "stderr",
     "output_type": "stream",
     "text": [
      "c:\\Users\\andri\\school\\bio-informatics\\internship\\donders\\vsc\\Human_SleepSCoring\\DilonAndriesse\\pre_processing\\basic_mne_functions.py:15: RuntimeWarning: Channels contain different highpass filters. Highest filter setting will be stored.\n",
      "  raw = mne.io.read_raw_edf(\n",
      "c:\\Users\\andri\\school\\bio-informatics\\internship\\donders\\vsc\\Human_SleepSCoring\\DilonAndriesse\\pre_processing\\basic_mne_functions.py:15: RuntimeWarning: Channels contain different lowpass filters. Lowest filter setting will be stored.\n",
      "  raw = mne.io.read_raw_edf(\n"
     ]
    },
    {
     "name": "stdout",
     "output_type": "stream",
     "text": [
      "First sleep starts at: 29100.0\n",
      "Last sleep ends at: 61350.0\n",
      "Cropping raw: 27300.0 - 63150.0\n",
      "Cropping finished.\n",
      "Used Annotations descriptions: [np.str_('Sleep stage 1'), np.str_('Sleep stage 2'), np.str_('Sleep stage 3'), np.str_('Sleep stage 4'), np.str_('Sleep stage R'), np.str_('Sleep stage W')]\n",
      "Extracting EDF parameters from C:\\Users\\andri\\school\\bio-informatics\\internship\\donders\\data\\human_test_data\\input\\raw_input\\SC4442E0-PSG.edf...\n",
      "EDF file detected\n",
      "Channel 'EEG Fpz-Cz' recognized as type EEG (renamed to 'Fpz-Cz').\n",
      "Channel 'EEG Pz-Oz' recognized as type EEG (renamed to 'Pz-Oz').\n",
      "Channel 'EOG horizontal' recognized as type EOG (renamed to 'horizontal').\n",
      "Channel 'Resp oro-nasal' recognized as type RESP (renamed to 'oro-nasal').\n",
      "Channel 'EMG submental' recognized as type EMG (renamed to 'submental').\n",
      "Channel 'Temp rectal' recognized as type TEMP (renamed to 'rectal').\n",
      "Setting channel info structure...\n",
      "Creating raw.info structure...\n",
      "Reading 0 ... 8333999  =      0.000 ... 83339.990 secs...\n"
     ]
    },
    {
     "name": "stderr",
     "output_type": "stream",
     "text": [
      "c:\\Users\\andri\\school\\bio-informatics\\internship\\donders\\vsc\\Human_SleepSCoring\\DilonAndriesse\\pre_processing\\basic_mne_functions.py:15: RuntimeWarning: Channels contain different highpass filters. Highest filter setting will be stored.\n",
      "  raw = mne.io.read_raw_edf(\n",
      "c:\\Users\\andri\\school\\bio-informatics\\internship\\donders\\vsc\\Human_SleepSCoring\\DilonAndriesse\\pre_processing\\basic_mne_functions.py:15: RuntimeWarning: Channels contain different lowpass filters. Lowest filter setting will be stored.\n",
      "  raw = mne.io.read_raw_edf(\n"
     ]
    },
    {
     "name": "stdout",
     "output_type": "stream",
     "text": [
      "First sleep starts at: 31740.0\n",
      "Last sleep ends at: 60900.0\n",
      "Cropping raw: 29940.0 - 62700.0\n",
      "Cropping finished.\n",
      "Used Annotations descriptions: [np.str_('Sleep stage 1'), np.str_('Sleep stage 2'), np.str_('Sleep stage 3'), np.str_('Sleep stage 4'), np.str_('Sleep stage R'), np.str_('Sleep stage W')]\n",
      "Extracting EDF parameters from C:\\Users\\andri\\school\\bio-informatics\\internship\\donders\\data\\human_test_data\\input\\raw_input\\SC4451F0-PSG.edf...\n",
      "EDF file detected\n",
      "Channel 'EEG Fpz-Cz' recognized as type EEG (renamed to 'Fpz-Cz').\n",
      "Channel 'EEG Pz-Oz' recognized as type EEG (renamed to 'Pz-Oz').\n",
      "Channel 'EOG horizontal' recognized as type EOG (renamed to 'horizontal').\n",
      "Channel 'Resp oro-nasal' recognized as type RESP (renamed to 'oro-nasal').\n",
      "Channel 'EMG submental' recognized as type EMG (renamed to 'submental').\n",
      "Channel 'Temp rectal' recognized as type TEMP (renamed to 'rectal').\n",
      "Setting channel info structure...\n",
      "Creating raw.info structure...\n",
      "Reading 0 ... 8369999  =      0.000 ... 83699.990 secs...\n"
     ]
    },
    {
     "name": "stderr",
     "output_type": "stream",
     "text": [
      "c:\\Users\\andri\\school\\bio-informatics\\internship\\donders\\vsc\\Human_SleepSCoring\\DilonAndriesse\\pre_processing\\basic_mne_functions.py:15: RuntimeWarning: Channels contain different highpass filters. Highest filter setting will be stored.\n",
      "  raw = mne.io.read_raw_edf(\n",
      "c:\\Users\\andri\\school\\bio-informatics\\internship\\donders\\vsc\\Human_SleepSCoring\\DilonAndriesse\\pre_processing\\basic_mne_functions.py:15: RuntimeWarning: Channels contain different lowpass filters. Lowest filter setting will be stored.\n",
      "  raw = mne.io.read_raw_edf(\n"
     ]
    },
    {
     "name": "stdout",
     "output_type": "stream",
     "text": [
      "First sleep starts at: 33210.0\n",
      "Last sleep ends at: 65850.0\n",
      "Cropping raw: 31410.0 - 67650.0\n",
      "Cropping finished.\n",
      "Used Annotations descriptions: [np.str_('Sleep stage 1'), np.str_('Sleep stage 2'), np.str_('Sleep stage 3'), np.str_('Sleep stage 4'), np.str_('Sleep stage R'), np.str_('Sleep stage W')]\n",
      "Extracting EDF parameters from C:\\Users\\andri\\school\\bio-informatics\\internship\\donders\\data\\human_test_data\\input\\raw_input\\SC4452F0-PSG.edf...\n",
      "EDF file detected\n",
      "Channel 'EEG Fpz-Cz' recognized as type EEG (renamed to 'Fpz-Cz').\n",
      "Channel 'EEG Pz-Oz' recognized as type EEG (renamed to 'Pz-Oz').\n",
      "Channel 'EOG horizontal' recognized as type EOG (renamed to 'horizontal').\n",
      "Channel 'Resp oro-nasal' recognized as type RESP (renamed to 'oro-nasal').\n",
      "Channel 'EMG submental' recognized as type EMG (renamed to 'submental').\n",
      "Channel 'Temp rectal' recognized as type TEMP (renamed to 'rectal').\n",
      "Setting channel info structure...\n",
      "Creating raw.info structure...\n",
      "Reading 0 ... 8009999  =      0.000 ... 80099.990 secs...\n"
     ]
    },
    {
     "name": "stderr",
     "output_type": "stream",
     "text": [
      "c:\\Users\\andri\\school\\bio-informatics\\internship\\donders\\vsc\\Human_SleepSCoring\\DilonAndriesse\\pre_processing\\basic_mne_functions.py:15: RuntimeWarning: Channels contain different highpass filters. Highest filter setting will be stored.\n",
      "  raw = mne.io.read_raw_edf(\n",
      "c:\\Users\\andri\\school\\bio-informatics\\internship\\donders\\vsc\\Human_SleepSCoring\\DilonAndriesse\\pre_processing\\basic_mne_functions.py:15: RuntimeWarning: Channels contain different lowpass filters. Lowest filter setting will be stored.\n",
      "  raw = mne.io.read_raw_edf(\n"
     ]
    },
    {
     "name": "stdout",
     "output_type": "stream",
     "text": [
      "First sleep starts at: 35460.0\n",
      "Last sleep ends at: 66840.0\n",
      "Cropping raw: 33660.0 - 68640.0\n",
      "Cropping finished.\n",
      "Used Annotations descriptions: [np.str_('Sleep stage 1'), np.str_('Sleep stage 2'), np.str_('Sleep stage 3'), np.str_('Sleep stage 4'), np.str_('Sleep stage R'), np.str_('Sleep stage W')]\n",
      "Extracting EDF parameters from C:\\Users\\andri\\school\\bio-informatics\\internship\\donders\\data\\human_test_data\\input\\raw_input\\SC4461F0-PSG.edf...\n",
      "EDF file detected\n",
      "Channel 'EEG Fpz-Cz' recognized as type EEG (renamed to 'Fpz-Cz').\n",
      "Channel 'EEG Pz-Oz' recognized as type EEG (renamed to 'Pz-Oz').\n",
      "Channel 'EOG horizontal' recognized as type EOG (renamed to 'horizontal').\n",
      "Channel 'Resp oro-nasal' recognized as type RESP (renamed to 'oro-nasal').\n",
      "Channel 'EMG submental' recognized as type EMG (renamed to 'submental').\n",
      "Channel 'Temp rectal' recognized as type TEMP (renamed to 'rectal').\n",
      "Setting channel info structure...\n",
      "Creating raw.info structure...\n",
      "Reading 0 ... 8087999  =      0.000 ... 80879.990 secs...\n"
     ]
    },
    {
     "name": "stderr",
     "output_type": "stream",
     "text": [
      "c:\\Users\\andri\\school\\bio-informatics\\internship\\donders\\vsc\\Human_SleepSCoring\\DilonAndriesse\\pre_processing\\basic_mne_functions.py:15: RuntimeWarning: Channels contain different highpass filters. Highest filter setting will be stored.\n",
      "  raw = mne.io.read_raw_edf(\n",
      "c:\\Users\\andri\\school\\bio-informatics\\internship\\donders\\vsc\\Human_SleepSCoring\\DilonAndriesse\\pre_processing\\basic_mne_functions.py:15: RuntimeWarning: Channels contain different lowpass filters. Lowest filter setting will be stored.\n",
      "  raw = mne.io.read_raw_edf(\n"
     ]
    },
    {
     "name": "stdout",
     "output_type": "stream",
     "text": [
      "First sleep starts at: 32370.0\n",
      "Last sleep ends at: 58290.0\n",
      "Cropping raw: 30570.0 - 60090.0\n",
      "Cropping finished.\n",
      "Used Annotations descriptions: [np.str_('Sleep stage 1'), np.str_('Sleep stage 2'), np.str_('Sleep stage 3'), np.str_('Sleep stage R'), np.str_('Sleep stage W')]\n",
      "Extracting EDF parameters from C:\\Users\\andri\\school\\bio-informatics\\internship\\donders\\data\\human_test_data\\input\\raw_input\\SC4462F0-PSG.edf...\n",
      "EDF file detected\n",
      "Channel 'EEG Fpz-Cz' recognized as type EEG (renamed to 'Fpz-Cz').\n",
      "Channel 'EEG Pz-Oz' recognized as type EEG (renamed to 'Pz-Oz').\n",
      "Channel 'EOG horizontal' recognized as type EOG (renamed to 'horizontal').\n",
      "Channel 'Resp oro-nasal' recognized as type RESP (renamed to 'oro-nasal').\n",
      "Channel 'EMG submental' recognized as type EMG (renamed to 'submental').\n",
      "Channel 'Temp rectal' recognized as type TEMP (renamed to 'rectal').\n",
      "Setting channel info structure...\n",
      "Creating raw.info structure...\n",
      "Reading 0 ... 8567999  =      0.000 ... 85679.990 secs...\n"
     ]
    },
    {
     "name": "stderr",
     "output_type": "stream",
     "text": [
      "c:\\Users\\andri\\school\\bio-informatics\\internship\\donders\\vsc\\Human_SleepSCoring\\DilonAndriesse\\pre_processing\\basic_mne_functions.py:15: RuntimeWarning: Channels contain different highpass filters. Highest filter setting will be stored.\n",
      "  raw = mne.io.read_raw_edf(\n",
      "c:\\Users\\andri\\school\\bio-informatics\\internship\\donders\\vsc\\Human_SleepSCoring\\DilonAndriesse\\pre_processing\\basic_mne_functions.py:15: RuntimeWarning: Channels contain different lowpass filters. Lowest filter setting will be stored.\n",
      "  raw = mne.io.read_raw_edf(\n"
     ]
    },
    {
     "name": "stdout",
     "output_type": "stream",
     "text": [
      "First sleep starts at: 36240.0\n",
      "Last sleep ends at: 63360.0\n",
      "Cropping raw: 34440.0 - 65160.0\n",
      "Cropping finished.\n",
      "Used Annotations descriptions: [np.str_('Sleep stage 1'), np.str_('Sleep stage 2'), np.str_('Sleep stage 3'), np.str_('Sleep stage R'), np.str_('Sleep stage W')]\n",
      "Extracting EDF parameters from C:\\Users\\andri\\school\\bio-informatics\\internship\\donders\\data\\human_test_data\\input\\raw_input\\SC4471F0-PSG.edf...\n",
      "EDF file detected\n",
      "Channel 'EEG Fpz-Cz' recognized as type EEG (renamed to 'Fpz-Cz').\n",
      "Channel 'EEG Pz-Oz' recognized as type EEG (renamed to 'Pz-Oz').\n",
      "Channel 'EOG horizontal' recognized as type EOG (renamed to 'horizontal').\n",
      "Channel 'Resp oro-nasal' recognized as type RESP (renamed to 'oro-nasal').\n",
      "Channel 'EMG submental' recognized as type EMG (renamed to 'submental').\n",
      "Channel 'Temp rectal' recognized as type TEMP (renamed to 'rectal').\n",
      "Setting channel info structure...\n",
      "Creating raw.info structure...\n",
      "Reading 0 ... 8219999  =      0.000 ... 82199.990 secs...\n"
     ]
    },
    {
     "name": "stderr",
     "output_type": "stream",
     "text": [
      "c:\\Users\\andri\\school\\bio-informatics\\internship\\donders\\vsc\\Human_SleepSCoring\\DilonAndriesse\\pre_processing\\basic_mne_functions.py:15: RuntimeWarning: Channels contain different highpass filters. Highest filter setting will be stored.\n",
      "  raw = mne.io.read_raw_edf(\n",
      "c:\\Users\\andri\\school\\bio-informatics\\internship\\donders\\vsc\\Human_SleepSCoring\\DilonAndriesse\\pre_processing\\basic_mne_functions.py:15: RuntimeWarning: Channels contain different lowpass filters. Lowest filter setting will be stored.\n",
      "  raw = mne.io.read_raw_edf(\n"
     ]
    },
    {
     "name": "stdout",
     "output_type": "stream",
     "text": [
      "First sleep starts at: 22980.0\n",
      "Last sleep ends at: 55020.0\n",
      "Cropping raw: 21180.0 - 56820.0\n",
      "Cropping finished.\n",
      "Used Annotations descriptions: [np.str_('Sleep stage 1'), np.str_('Sleep stage 2'), np.str_('Sleep stage 3'), np.str_('Sleep stage 4'), np.str_('Sleep stage R'), np.str_('Sleep stage W')]\n",
      "Extracting EDF parameters from C:\\Users\\andri\\school\\bio-informatics\\internship\\donders\\data\\human_test_data\\input\\raw_input\\SC4472F0-PSG.edf...\n",
      "EDF file detected\n",
      "Channel 'EEG Fpz-Cz' recognized as type EEG (renamed to 'Fpz-Cz').\n",
      "Channel 'EEG Pz-Oz' recognized as type EEG (renamed to 'Pz-Oz').\n",
      "Channel 'EOG horizontal' recognized as type EOG (renamed to 'horizontal').\n",
      "Channel 'Resp oro-nasal' recognized as type RESP (renamed to 'oro-nasal').\n",
      "Channel 'EMG submental' recognized as type EMG (renamed to 'submental').\n",
      "Channel 'Temp rectal' recognized as type TEMP (renamed to 'rectal').\n",
      "Setting channel info structure...\n",
      "Creating raw.info structure...\n",
      "Reading 0 ... 8369999  =      0.000 ... 83699.990 secs...\n"
     ]
    },
    {
     "name": "stderr",
     "output_type": "stream",
     "text": [
      "c:\\Users\\andri\\school\\bio-informatics\\internship\\donders\\vsc\\Human_SleepSCoring\\DilonAndriesse\\pre_processing\\basic_mne_functions.py:15: RuntimeWarning: Channels contain different highpass filters. Highest filter setting will be stored.\n",
      "  raw = mne.io.read_raw_edf(\n",
      "c:\\Users\\andri\\school\\bio-informatics\\internship\\donders\\vsc\\Human_SleepSCoring\\DilonAndriesse\\pre_processing\\basic_mne_functions.py:15: RuntimeWarning: Channels contain different lowpass filters. Lowest filter setting will be stored.\n",
      "  raw = mne.io.read_raw_edf(\n"
     ]
    },
    {
     "name": "stdout",
     "output_type": "stream",
     "text": [
      "First sleep starts at: 20640.0\n",
      "Last sleep ends at: 82320.0\n",
      "Cropping raw: 18840.0 - 83699.99\n",
      "Cropping finished.\n",
      "Used Annotations descriptions: [np.str_('Sleep stage 1'), np.str_('Sleep stage 2'), np.str_('Sleep stage 3'), np.str_('Sleep stage 4'), np.str_('Sleep stage R'), np.str_('Sleep stage W')]\n",
      "Extracting EDF parameters from C:\\Users\\andri\\school\\bio-informatics\\internship\\donders\\data\\human_test_data\\input\\raw_input\\SC4481F0-PSG.edf...\n",
      "EDF file detected\n",
      "Channel 'EEG Fpz-Cz' recognized as type EEG (renamed to 'Fpz-Cz').\n",
      "Channel 'EEG Pz-Oz' recognized as type EEG (renamed to 'Pz-Oz').\n",
      "Channel 'EOG horizontal' recognized as type EOG (renamed to 'horizontal').\n",
      "Channel 'Resp oro-nasal' recognized as type RESP (renamed to 'oro-nasal').\n",
      "Channel 'EMG submental' recognized as type EMG (renamed to 'submental').\n",
      "Channel 'Temp rectal' recognized as type TEMP (renamed to 'rectal').\n",
      "Setting channel info structure...\n",
      "Creating raw.info structure...\n",
      "Reading 0 ... 8639999  =      0.000 ... 86399.990 secs...\n"
     ]
    },
    {
     "name": "stderr",
     "output_type": "stream",
     "text": [
      "c:\\Users\\andri\\school\\bio-informatics\\internship\\donders\\vsc\\Human_SleepSCoring\\DilonAndriesse\\pre_processing\\basic_mne_functions.py:15: RuntimeWarning: Channels contain different highpass filters. Highest filter setting will be stored.\n",
      "  raw = mne.io.read_raw_edf(\n",
      "c:\\Users\\andri\\school\\bio-informatics\\internship\\donders\\vsc\\Human_SleepSCoring\\DilonAndriesse\\pre_processing\\basic_mne_functions.py:15: RuntimeWarning: Channels contain different lowpass filters. Lowest filter setting will be stored.\n",
      "  raw = mne.io.read_raw_edf(\n"
     ]
    },
    {
     "name": "stdout",
     "output_type": "stream",
     "text": [
      "First sleep starts at: 27390.0\n",
      "Last sleep ends at: 85980.0\n",
      "Cropping raw: 25590.0 - 86399.99\n",
      "Cropping finished.\n",
      "Used Annotations descriptions: [np.str_('Sleep stage 1'), np.str_('Sleep stage 2'), np.str_('Sleep stage 3'), np.str_('Sleep stage 4'), np.str_('Sleep stage R'), np.str_('Sleep stage W')]\n",
      "Extracting EDF parameters from C:\\Users\\andri\\school\\bio-informatics\\internship\\donders\\data\\human_test_data\\input\\raw_input\\SC4482F0-PSG.edf...\n",
      "EDF file detected\n",
      "Channel 'EEG Fpz-Cz' recognized as type EEG (renamed to 'Fpz-Cz').\n",
      "Channel 'EEG Pz-Oz' recognized as type EEG (renamed to 'Pz-Oz').\n",
      "Channel 'EOG horizontal' recognized as type EOG (renamed to 'horizontal').\n",
      "Channel 'Resp oro-nasal' recognized as type RESP (renamed to 'oro-nasal').\n",
      "Channel 'EMG submental' recognized as type EMG (renamed to 'submental').\n",
      "Channel 'Temp rectal' recognized as type TEMP (renamed to 'rectal').\n",
      "Setting channel info structure...\n",
      "Creating raw.info structure...\n",
      "Reading 0 ... 8639999  =      0.000 ... 86399.990 secs...\n"
     ]
    },
    {
     "name": "stderr",
     "output_type": "stream",
     "text": [
      "c:\\Users\\andri\\school\\bio-informatics\\internship\\donders\\vsc\\Human_SleepSCoring\\DilonAndriesse\\pre_processing\\basic_mne_functions.py:15: RuntimeWarning: Channels contain different highpass filters. Highest filter setting will be stored.\n",
      "  raw = mne.io.read_raw_edf(\n",
      "c:\\Users\\andri\\school\\bio-informatics\\internship\\donders\\vsc\\Human_SleepSCoring\\DilonAndriesse\\pre_processing\\basic_mne_functions.py:15: RuntimeWarning: Channels contain different lowpass filters. Lowest filter setting will be stored.\n",
      "  raw = mne.io.read_raw_edf(\n"
     ]
    },
    {
     "name": "stdout",
     "output_type": "stream",
     "text": [
      "First sleep starts at: 29100.0\n",
      "Last sleep ends at: 82800.0\n",
      "Cropping raw: 27300.0 - 84600.0\n",
      "Cropping finished.\n",
      "Used Annotations descriptions: [np.str_('Sleep stage 1'), np.str_('Sleep stage 2'), np.str_('Sleep stage 3'), np.str_('Sleep stage 4'), np.str_('Sleep stage R'), np.str_('Sleep stage W')]\n",
      "Extracting EDF parameters from C:\\Users\\andri\\school\\bio-informatics\\internship\\donders\\data\\human_test_data\\input\\raw_input\\SC4491G0-PSG.edf...\n",
      "EDF file detected\n",
      "Channel 'EEG Fpz-Cz' recognized as type EEG (renamed to 'Fpz-Cz').\n",
      "Channel 'EEG Pz-Oz' recognized as type EEG (renamed to 'Pz-Oz').\n",
      "Channel 'EOG horizontal' recognized as type EOG (renamed to 'horizontal').\n",
      "Channel 'Resp oro-nasal' recognized as type RESP (renamed to 'oro-nasal').\n",
      "Channel 'EMG submental' recognized as type EMG (renamed to 'submental').\n",
      "Channel 'Temp rectal' recognized as type TEMP (renamed to 'rectal').\n",
      "Setting channel info structure...\n",
      "Creating raw.info structure...\n",
      "Reading 0 ... 8399999  =      0.000 ... 83999.990 secs...\n"
     ]
    },
    {
     "name": "stderr",
     "output_type": "stream",
     "text": [
      "c:\\Users\\andri\\school\\bio-informatics\\internship\\donders\\vsc\\Human_SleepSCoring\\DilonAndriesse\\pre_processing\\basic_mne_functions.py:15: RuntimeWarning: Channels contain different highpass filters. Highest filter setting will be stored.\n",
      "  raw = mne.io.read_raw_edf(\n",
      "c:\\Users\\andri\\school\\bio-informatics\\internship\\donders\\vsc\\Human_SleepSCoring\\DilonAndriesse\\pre_processing\\basic_mne_functions.py:15: RuntimeWarning: Channels contain different lowpass filters. Lowest filter setting will be stored.\n",
      "  raw = mne.io.read_raw_edf(\n"
     ]
    },
    {
     "name": "stdout",
     "output_type": "stream",
     "text": [
      "First sleep starts at: 29760.0\n",
      "Last sleep ends at: 59190.0\n",
      "Cropping raw: 27960.0 - 60990.0\n",
      "Cropping finished.\n",
      "Used Annotations descriptions: [np.str_('Sleep stage 1'), np.str_('Sleep stage 2'), np.str_('Sleep stage 3'), np.str_('Sleep stage R'), np.str_('Sleep stage W')]\n",
      "Extracting EDF parameters from C:\\Users\\andri\\school\\bio-informatics\\internship\\donders\\data\\human_test_data\\input\\raw_input\\SC4492G0-PSG.edf...\n",
      "EDF file detected\n",
      "Channel 'EEG Fpz-Cz' recognized as type EEG (renamed to 'Fpz-Cz').\n",
      "Channel 'EEG Pz-Oz' recognized as type EEG (renamed to 'Pz-Oz').\n",
      "Channel 'EOG horizontal' recognized as type EOG (renamed to 'horizontal').\n",
      "Channel 'Resp oro-nasal' recognized as type RESP (renamed to 'oro-nasal').\n",
      "Channel 'EMG submental' recognized as type EMG (renamed to 'submental').\n",
      "Channel 'Temp rectal' recognized as type TEMP (renamed to 'rectal').\n",
      "Setting channel info structure...\n",
      "Creating raw.info structure...\n",
      "Reading 0 ... 6407999  =      0.000 ... 64079.990 secs...\n"
     ]
    },
    {
     "name": "stderr",
     "output_type": "stream",
     "text": [
      "c:\\Users\\andri\\school\\bio-informatics\\internship\\donders\\vsc\\Human_SleepSCoring\\DilonAndriesse\\pre_processing\\basic_mne_functions.py:15: RuntimeWarning: Channels contain different highpass filters. Highest filter setting will be stored.\n",
      "  raw = mne.io.read_raw_edf(\n",
      "c:\\Users\\andri\\school\\bio-informatics\\internship\\donders\\vsc\\Human_SleepSCoring\\DilonAndriesse\\pre_processing\\basic_mne_functions.py:15: RuntimeWarning: Channels contain different lowpass filters. Lowest filter setting will be stored.\n",
      "  raw = mne.io.read_raw_edf(\n"
     ]
    },
    {
     "name": "stdout",
     "output_type": "stream",
     "text": [
      "First sleep starts at: 33780.0\n",
      "Last sleep ends at: 61410.0\n",
      "Cropping raw: 31980.0 - 63210.0\n",
      "Cropping finished.\n",
      "Used Annotations descriptions: [np.str_('Sleep stage 1'), np.str_('Sleep stage 2'), np.str_('Sleep stage 3'), np.str_('Sleep stage 4'), np.str_('Sleep stage R'), np.str_('Sleep stage W')]\n",
      "Extracting EDF parameters from C:\\Users\\andri\\school\\bio-informatics\\internship\\donders\\data\\human_test_data\\input\\raw_input\\SC4501E0-PSG.edf...\n",
      "EDF file detected\n",
      "Channel 'EEG Fpz-Cz' recognized as type EEG (renamed to 'Fpz-Cz').\n",
      "Channel 'EEG Pz-Oz' recognized as type EEG (renamed to 'Pz-Oz').\n",
      "Channel 'EOG horizontal' recognized as type EOG (renamed to 'horizontal').\n",
      "Channel 'Resp oro-nasal' recognized as type RESP (renamed to 'oro-nasal').\n",
      "Channel 'EMG submental' recognized as type EMG (renamed to 'submental').\n",
      "Channel 'Temp rectal' recognized as type TEMP (renamed to 'rectal').\n",
      "Setting channel info structure...\n",
      "Creating raw.info structure...\n",
      "Reading 0 ... 8249999  =      0.000 ... 82499.990 secs...\n"
     ]
    },
    {
     "name": "stderr",
     "output_type": "stream",
     "text": [
      "c:\\Users\\andri\\school\\bio-informatics\\internship\\donders\\vsc\\Human_SleepSCoring\\DilonAndriesse\\pre_processing\\basic_mne_functions.py:15: RuntimeWarning: Channels contain different highpass filters. Highest filter setting will be stored.\n",
      "  raw = mne.io.read_raw_edf(\n",
      "c:\\Users\\andri\\school\\bio-informatics\\internship\\donders\\vsc\\Human_SleepSCoring\\DilonAndriesse\\pre_processing\\basic_mne_functions.py:15: RuntimeWarning: Channels contain different lowpass filters. Lowest filter setting will be stored.\n",
      "  raw = mne.io.read_raw_edf(\n"
     ]
    },
    {
     "name": "stdout",
     "output_type": "stream",
     "text": [
      "First sleep starts at: 22740.0\n",
      "Last sleep ends at: 58920.0\n",
      "Cropping raw: 20940.0 - 60720.0\n",
      "Cropping finished.\n",
      "Used Annotations descriptions: [np.str_('Sleep stage 1'), np.str_('Sleep stage 2'), np.str_('Sleep stage 3'), np.str_('Sleep stage R'), np.str_('Sleep stage W')]\n",
      "Extracting EDF parameters from C:\\Users\\andri\\school\\bio-informatics\\internship\\donders\\data\\human_test_data\\input\\raw_input\\SC4502E0-PSG.edf...\n",
      "EDF file detected\n",
      "Channel 'EEG Fpz-Cz' recognized as type EEG (renamed to 'Fpz-Cz').\n",
      "Channel 'EEG Pz-Oz' recognized as type EEG (renamed to 'Pz-Oz').\n",
      "Channel 'EOG horizontal' recognized as type EOG (renamed to 'horizontal').\n",
      "Channel 'Resp oro-nasal' recognized as type RESP (renamed to 'oro-nasal').\n",
      "Channel 'EMG submental' recognized as type EMG (renamed to 'submental').\n",
      "Channel 'Temp rectal' recognized as type TEMP (renamed to 'rectal').\n",
      "Setting channel info structure...\n",
      "Creating raw.info structure...\n",
      "Reading 0 ... 8309999  =      0.000 ... 83099.990 secs...\n"
     ]
    },
    {
     "name": "stderr",
     "output_type": "stream",
     "text": [
      "c:\\Users\\andri\\school\\bio-informatics\\internship\\donders\\vsc\\Human_SleepSCoring\\DilonAndriesse\\pre_processing\\basic_mne_functions.py:15: RuntimeWarning: Channels contain different highpass filters. Highest filter setting will be stored.\n",
      "  raw = mne.io.read_raw_edf(\n",
      "c:\\Users\\andri\\school\\bio-informatics\\internship\\donders\\vsc\\Human_SleepSCoring\\DilonAndriesse\\pre_processing\\basic_mne_functions.py:15: RuntimeWarning: Channels contain different lowpass filters. Lowest filter setting will be stored.\n",
      "  raw = mne.io.read_raw_edf(\n"
     ]
    },
    {
     "name": "stdout",
     "output_type": "stream",
     "text": [
      "First sleep starts at: 28770.0\n",
      "Last sleep ends at: 58260.0\n",
      "Cropping raw: 26970.0 - 60060.0\n",
      "Cropping finished.\n",
      "Used Annotations descriptions: [np.str_('Sleep stage 1'), np.str_('Sleep stage 2'), np.str_('Sleep stage 3'), np.str_('Sleep stage R'), np.str_('Sleep stage W')]\n",
      "Extracting EDF parameters from C:\\Users\\andri\\school\\bio-informatics\\internship\\donders\\data\\human_test_data\\input\\raw_input\\SC4511E0-PSG.edf...\n",
      "EDF file detected\n",
      "Channel 'EEG Fpz-Cz' recognized as type EEG (renamed to 'Fpz-Cz').\n",
      "Channel 'EEG Pz-Oz' recognized as type EEG (renamed to 'Pz-Oz').\n",
      "Channel 'EOG horizontal' recognized as type EOG (renamed to 'horizontal').\n",
      "Channel 'Resp oro-nasal' recognized as type RESP (renamed to 'oro-nasal').\n",
      "Channel 'EMG submental' recognized as type EMG (renamed to 'submental').\n",
      "Channel 'Temp rectal' recognized as type TEMP (renamed to 'rectal').\n",
      "Setting channel info structure...\n",
      "Creating raw.info structure...\n",
      "Reading 0 ... 8135999  =      0.000 ... 81359.990 secs...\n"
     ]
    },
    {
     "name": "stderr",
     "output_type": "stream",
     "text": [
      "c:\\Users\\andri\\school\\bio-informatics\\internship\\donders\\vsc\\Human_SleepSCoring\\DilonAndriesse\\pre_processing\\basic_mne_functions.py:15: RuntimeWarning: Channels contain different highpass filters. Highest filter setting will be stored.\n",
      "  raw = mne.io.read_raw_edf(\n",
      "c:\\Users\\andri\\school\\bio-informatics\\internship\\donders\\vsc\\Human_SleepSCoring\\DilonAndriesse\\pre_processing\\basic_mne_functions.py:15: RuntimeWarning: Channels contain different lowpass filters. Lowest filter setting will be stored.\n",
      "  raw = mne.io.read_raw_edf(\n"
     ]
    },
    {
     "name": "stdout",
     "output_type": "stream",
     "text": [
      "First sleep starts at: 24960.0\n",
      "Last sleep ends at: 53970.0\n",
      "Cropping raw: 23160.0 - 55770.0\n",
      "Cropping finished.\n",
      "Used Annotations descriptions: [np.str_('Sleep stage 1'), np.str_('Sleep stage 2'), np.str_('Sleep stage 3'), np.str_('Sleep stage R'), np.str_('Sleep stage W')]\n",
      "Extracting EDF parameters from C:\\Users\\andri\\school\\bio-informatics\\internship\\donders\\data\\human_test_data\\input\\raw_input\\SC4512E0-PSG.edf...\n",
      "EDF file detected\n",
      "Channel 'EEG Fpz-Cz' recognized as type EEG (renamed to 'Fpz-Cz').\n",
      "Channel 'EEG Pz-Oz' recognized as type EEG (renamed to 'Pz-Oz').\n",
      "Channel 'EOG horizontal' recognized as type EOG (renamed to 'horizontal').\n",
      "Channel 'Resp oro-nasal' recognized as type RESP (renamed to 'oro-nasal').\n",
      "Channel 'EMG submental' recognized as type EMG (renamed to 'submental').\n",
      "Channel 'Temp rectal' recognized as type TEMP (renamed to 'rectal').\n",
      "Setting channel info structure...\n",
      "Creating raw.info structure...\n",
      "Reading 0 ... 8249999  =      0.000 ... 82499.990 secs...\n"
     ]
    },
    {
     "name": "stderr",
     "output_type": "stream",
     "text": [
      "c:\\Users\\andri\\school\\bio-informatics\\internship\\donders\\vsc\\Human_SleepSCoring\\DilonAndriesse\\pre_processing\\basic_mne_functions.py:15: RuntimeWarning: Channels contain different highpass filters. Highest filter setting will be stored.\n",
      "  raw = mne.io.read_raw_edf(\n",
      "c:\\Users\\andri\\school\\bio-informatics\\internship\\donders\\vsc\\Human_SleepSCoring\\DilonAndriesse\\pre_processing\\basic_mne_functions.py:15: RuntimeWarning: Channels contain different lowpass filters. Lowest filter setting will be stored.\n",
      "  raw = mne.io.read_raw_edf(\n"
     ]
    },
    {
     "name": "stdout",
     "output_type": "stream",
     "text": [
      "First sleep starts at: 31020.0\n",
      "Last sleep ends at: 56040.0\n",
      "Cropping raw: 29220.0 - 57840.0\n",
      "Cropping finished.\n",
      "Used Annotations descriptions: [np.str_('Sleep stage 1'), np.str_('Sleep stage 2'), np.str_('Sleep stage 3'), np.str_('Sleep stage R'), np.str_('Sleep stage W')]\n",
      "Extracting EDF parameters from C:\\Users\\andri\\school\\bio-informatics\\internship\\donders\\data\\human_test_data\\input\\raw_input\\SC4522E0-PSG.edf...\n",
      "EDF file detected\n",
      "Channel 'EEG Fpz-Cz' recognized as type EEG (renamed to 'Fpz-Cz').\n",
      "Channel 'EEG Pz-Oz' recognized as type EEG (renamed to 'Pz-Oz').\n",
      "Channel 'EOG horizontal' recognized as type EOG (renamed to 'horizontal').\n",
      "Channel 'Resp oro-nasal' recognized as type RESP (renamed to 'oro-nasal').\n",
      "Channel 'EMG submental' recognized as type EMG (renamed to 'submental').\n",
      "Channel 'Temp rectal' recognized as type TEMP (renamed to 'rectal').\n",
      "Setting channel info structure...\n",
      "Creating raw.info structure...\n",
      "Reading 0 ... 8321999  =      0.000 ... 83219.990 secs...\n"
     ]
    },
    {
     "name": "stderr",
     "output_type": "stream",
     "text": [
      "c:\\Users\\andri\\school\\bio-informatics\\internship\\donders\\vsc\\Human_SleepSCoring\\DilonAndriesse\\pre_processing\\basic_mne_functions.py:15: RuntimeWarning: Channels contain different highpass filters. Highest filter setting will be stored.\n",
      "  raw = mne.io.read_raw_edf(\n",
      "c:\\Users\\andri\\school\\bio-informatics\\internship\\donders\\vsc\\Human_SleepSCoring\\DilonAndriesse\\pre_processing\\basic_mne_functions.py:15: RuntimeWarning: Channels contain different lowpass filters. Lowest filter setting will be stored.\n",
      "  raw = mne.io.read_raw_edf(\n"
     ]
    },
    {
     "name": "stdout",
     "output_type": "stream",
     "text": [
      "First sleep starts at: 32040.0\n",
      "Last sleep ends at: 58350.0\n",
      "Cropping raw: 30240.0 - 60150.0\n",
      "Cropping finished.\n",
      "Used Annotations descriptions: [np.str_('Sleep stage 1'), np.str_('Sleep stage 2'), np.str_('Sleep stage 3'), np.str_('Sleep stage R'), np.str_('Sleep stage W')]\n",
      "Extracting EDF parameters from C:\\Users\\andri\\school\\bio-informatics\\internship\\donders\\data\\human_test_data\\input\\raw_input\\SC4531E0-PSG.edf...\n",
      "EDF file detected\n",
      "Channel 'EEG Fpz-Cz' recognized as type EEG (renamed to 'Fpz-Cz').\n",
      "Channel 'EEG Pz-Oz' recognized as type EEG (renamed to 'Pz-Oz').\n",
      "Channel 'EOG horizontal' recognized as type EOG (renamed to 'horizontal').\n",
      "Channel 'Resp oro-nasal' recognized as type RESP (renamed to 'oro-nasal').\n",
      "Channel 'EMG submental' recognized as type EMG (renamed to 'submental').\n",
      "Channel 'Temp rectal' recognized as type TEMP (renamed to 'rectal').\n",
      "Setting channel info structure...\n",
      "Creating raw.info structure...\n",
      "Reading 0 ... 7805999  =      0.000 ... 78059.990 secs...\n"
     ]
    },
    {
     "name": "stderr",
     "output_type": "stream",
     "text": [
      "c:\\Users\\andri\\school\\bio-informatics\\internship\\donders\\vsc\\Human_SleepSCoring\\DilonAndriesse\\pre_processing\\basic_mne_functions.py:15: RuntimeWarning: Channels contain different highpass filters. Highest filter setting will be stored.\n",
      "  raw = mne.io.read_raw_edf(\n",
      "c:\\Users\\andri\\school\\bio-informatics\\internship\\donders\\vsc\\Human_SleepSCoring\\DilonAndriesse\\pre_processing\\basic_mne_functions.py:15: RuntimeWarning: Channels contain different lowpass filters. Lowest filter setting will be stored.\n",
      "  raw = mne.io.read_raw_edf(\n"
     ]
    },
    {
     "name": "stdout",
     "output_type": "stream",
     "text": [
      "First sleep starts at: 26190.0\n",
      "Last sleep ends at: 55470.0\n",
      "Cropping raw: 24390.0 - 57270.0\n",
      "Cropping finished.\n",
      "Used Annotations descriptions: [np.str_('Sleep stage 1'), np.str_('Sleep stage 2'), np.str_('Sleep stage 3'), np.str_('Sleep stage 4'), np.str_('Sleep stage R'), np.str_('Sleep stage W')]\n",
      "Extracting EDF parameters from C:\\Users\\andri\\school\\bio-informatics\\internship\\donders\\data\\human_test_data\\input\\raw_input\\SC4532E0-PSG.edf...\n",
      "EDF file detected\n",
      "Channel 'EEG Fpz-Cz' recognized as type EEG (renamed to 'Fpz-Cz').\n",
      "Channel 'EEG Pz-Oz' recognized as type EEG (renamed to 'Pz-Oz').\n",
      "Channel 'EOG horizontal' recognized as type EOG (renamed to 'horizontal').\n",
      "Channel 'Resp oro-nasal' recognized as type RESP (renamed to 'oro-nasal').\n",
      "Channel 'EMG submental' recognized as type EMG (renamed to 'submental').\n",
      "Channel 'Temp rectal' recognized as type TEMP (renamed to 'rectal').\n",
      "Setting channel info structure...\n",
      "Creating raw.info structure...\n",
      "Reading 0 ... 8231999  =      0.000 ... 82319.990 secs...\n"
     ]
    },
    {
     "name": "stderr",
     "output_type": "stream",
     "text": [
      "c:\\Users\\andri\\school\\bio-informatics\\internship\\donders\\vsc\\Human_SleepSCoring\\DilonAndriesse\\pre_processing\\basic_mne_functions.py:15: RuntimeWarning: Channels contain different highpass filters. Highest filter setting will be stored.\n",
      "  raw = mne.io.read_raw_edf(\n",
      "c:\\Users\\andri\\school\\bio-informatics\\internship\\donders\\vsc\\Human_SleepSCoring\\DilonAndriesse\\pre_processing\\basic_mne_functions.py:15: RuntimeWarning: Channels contain different lowpass filters. Lowest filter setting will be stored.\n",
      "  raw = mne.io.read_raw_edf(\n"
     ]
    },
    {
     "name": "stdout",
     "output_type": "stream",
     "text": [
      "First sleep starts at: 32280.0\n",
      "Last sleep ends at: 60360.0\n",
      "Cropping raw: 30480.0 - 62160.0\n",
      "Cropping finished.\n",
      "Used Annotations descriptions: [np.str_('Sleep stage 1'), np.str_('Sleep stage 2'), np.str_('Sleep stage 3'), np.str_('Sleep stage R'), np.str_('Sleep stage W')]\n",
      "Extracting EDF parameters from C:\\Users\\andri\\school\\bio-informatics\\internship\\donders\\data\\human_test_data\\input\\raw_input\\SC4541F0-PSG.edf...\n",
      "EDF file detected\n",
      "Channel 'EEG Fpz-Cz' recognized as type EEG (renamed to 'Fpz-Cz').\n",
      "Channel 'EEG Pz-Oz' recognized as type EEG (renamed to 'Pz-Oz').\n",
      "Channel 'EOG horizontal' recognized as type EOG (renamed to 'horizontal').\n",
      "Channel 'Resp oro-nasal' recognized as type RESP (renamed to 'oro-nasal').\n",
      "Channel 'EMG submental' recognized as type EMG (renamed to 'submental').\n",
      "Channel 'Temp rectal' recognized as type TEMP (renamed to 'rectal').\n",
      "Setting channel info structure...\n",
      "Creating raw.info structure...\n",
      "Reading 0 ... 8219999  =      0.000 ... 82199.990 secs...\n"
     ]
    },
    {
     "name": "stderr",
     "output_type": "stream",
     "text": [
      "c:\\Users\\andri\\school\\bio-informatics\\internship\\donders\\vsc\\Human_SleepSCoring\\DilonAndriesse\\pre_processing\\basic_mne_functions.py:15: RuntimeWarning: Channels contain different highpass filters. Highest filter setting will be stored.\n",
      "  raw = mne.io.read_raw_edf(\n",
      "c:\\Users\\andri\\school\\bio-informatics\\internship\\donders\\vsc\\Human_SleepSCoring\\DilonAndriesse\\pre_processing\\basic_mne_functions.py:15: RuntimeWarning: Channels contain different lowpass filters. Lowest filter setting will be stored.\n",
      "  raw = mne.io.read_raw_edf(\n"
     ]
    },
    {
     "name": "stdout",
     "output_type": "stream",
     "text": [
      "First sleep starts at: 15990.0\n",
      "Last sleep ends at: 63900.0\n",
      "Cropping raw: 14190.0 - 65700.0\n",
      "Cropping finished.\n",
      "Used Annotations descriptions: [np.str_('Sleep stage 1'), np.str_('Sleep stage 2'), np.str_('Sleep stage 3'), np.str_('Sleep stage R'), np.str_('Sleep stage W')]\n",
      "Extracting EDF parameters from C:\\Users\\andri\\school\\bio-informatics\\internship\\donders\\data\\human_test_data\\input\\raw_input\\SC4542F0-PSG.edf...\n",
      "EDF file detected\n",
      "Channel 'EEG Fpz-Cz' recognized as type EEG (renamed to 'Fpz-Cz').\n",
      "Channel 'EEG Pz-Oz' recognized as type EEG (renamed to 'Pz-Oz').\n",
      "Channel 'EOG horizontal' recognized as type EOG (renamed to 'horizontal').\n",
      "Channel 'Resp oro-nasal' recognized as type RESP (renamed to 'oro-nasal').\n",
      "Channel 'EMG submental' recognized as type EMG (renamed to 'submental').\n",
      "Channel 'Temp rectal' recognized as type TEMP (renamed to 'rectal').\n",
      "Setting channel info structure...\n",
      "Creating raw.info structure...\n",
      "Reading 0 ... 8039999  =      0.000 ... 80399.990 secs...\n"
     ]
    },
    {
     "name": "stderr",
     "output_type": "stream",
     "text": [
      "c:\\Users\\andri\\school\\bio-informatics\\internship\\donders\\vsc\\Human_SleepSCoring\\DilonAndriesse\\pre_processing\\basic_mne_functions.py:15: RuntimeWarning: Channels contain different highpass filters. Highest filter setting will be stored.\n",
      "  raw = mne.io.read_raw_edf(\n",
      "c:\\Users\\andri\\school\\bio-informatics\\internship\\donders\\vsc\\Human_SleepSCoring\\DilonAndriesse\\pre_processing\\basic_mne_functions.py:15: RuntimeWarning: Channels contain different lowpass filters. Lowest filter setting will be stored.\n",
      "  raw = mne.io.read_raw_edf(\n"
     ]
    },
    {
     "name": "stdout",
     "output_type": "stream",
     "text": [
      "First sleep starts at: 36360.0\n",
      "Last sleep ends at: 67200.0\n",
      "Cropping raw: 34560.0 - 69000.0\n",
      "Cropping finished.\n",
      "Used Annotations descriptions: [np.str_('Sleep stage 1'), np.str_('Sleep stage 2'), np.str_('Sleep stage 3'), np.str_('Sleep stage 4'), np.str_('Sleep stage R'), np.str_('Sleep stage W')]\n",
      "Extracting EDF parameters from C:\\Users\\andri\\school\\bio-informatics\\internship\\donders\\data\\human_test_data\\input\\raw_input\\SC4551F0-PSG.edf...\n",
      "EDF file detected\n",
      "Channel 'EEG Fpz-Cz' recognized as type EEG (renamed to 'Fpz-Cz').\n",
      "Channel 'EEG Pz-Oz' recognized as type EEG (renamed to 'Pz-Oz').\n",
      "Channel 'EOG horizontal' recognized as type EOG (renamed to 'horizontal').\n",
      "Channel 'Resp oro-nasal' recognized as type RESP (renamed to 'oro-nasal').\n",
      "Channel 'EMG submental' recognized as type EMG (renamed to 'submental').\n",
      "Channel 'Temp rectal' recognized as type TEMP (renamed to 'rectal').\n",
      "Setting channel info structure...\n",
      "Creating raw.info structure...\n",
      "Reading 0 ... 8315999  =      0.000 ... 83159.990 secs...\n"
     ]
    },
    {
     "name": "stderr",
     "output_type": "stream",
     "text": [
      "c:\\Users\\andri\\school\\bio-informatics\\internship\\donders\\vsc\\Human_SleepSCoring\\DilonAndriesse\\pre_processing\\basic_mne_functions.py:15: RuntimeWarning: Channels contain different highpass filters. Highest filter setting will be stored.\n",
      "  raw = mne.io.read_raw_edf(\n",
      "c:\\Users\\andri\\school\\bio-informatics\\internship\\donders\\vsc\\Human_SleepSCoring\\DilonAndriesse\\pre_processing\\basic_mne_functions.py:15: RuntimeWarning: Channels contain different lowpass filters. Lowest filter setting will be stored.\n",
      "  raw = mne.io.read_raw_edf(\n"
     ]
    },
    {
     "name": "stdout",
     "output_type": "stream",
     "text": [
      "First sleep starts at: 27240.0\n",
      "Last sleep ends at: 55050.0\n",
      "Cropping raw: 25440.0 - 56850.0\n",
      "Cropping finished.\n",
      "Used Annotations descriptions: [np.str_('Sleep stage 1'), np.str_('Sleep stage 2'), np.str_('Sleep stage 3'), np.str_('Sleep stage R'), np.str_('Sleep stage W')]\n",
      "Extracting EDF parameters from C:\\Users\\andri\\school\\bio-informatics\\internship\\donders\\data\\human_test_data\\input\\raw_input\\SC4552F0-PSG.edf...\n",
      "EDF file detected\n",
      "Channel 'EEG Fpz-Cz' recognized as type EEG (renamed to 'Fpz-Cz').\n",
      "Channel 'EEG Pz-Oz' recognized as type EEG (renamed to 'Pz-Oz').\n",
      "Channel 'EOG horizontal' recognized as type EOG (renamed to 'horizontal').\n",
      "Channel 'Resp oro-nasal' recognized as type RESP (renamed to 'oro-nasal').\n",
      "Channel 'EMG submental' recognized as type EMG (renamed to 'submental').\n",
      "Channel 'Temp rectal' recognized as type TEMP (renamed to 'rectal').\n",
      "Setting channel info structure...\n",
      "Creating raw.info structure...\n",
      "Reading 0 ... 8429999  =      0.000 ... 84299.990 secs...\n"
     ]
    },
    {
     "name": "stderr",
     "output_type": "stream",
     "text": [
      "c:\\Users\\andri\\school\\bio-informatics\\internship\\donders\\vsc\\Human_SleepSCoring\\DilonAndriesse\\pre_processing\\basic_mne_functions.py:15: RuntimeWarning: Channels contain different highpass filters. Highest filter setting will be stored.\n",
      "  raw = mne.io.read_raw_edf(\n",
      "c:\\Users\\andri\\school\\bio-informatics\\internship\\donders\\vsc\\Human_SleepSCoring\\DilonAndriesse\\pre_processing\\basic_mne_functions.py:15: RuntimeWarning: Channels contain different lowpass filters. Lowest filter setting will be stored.\n",
      "  raw = mne.io.read_raw_edf(\n"
     ]
    },
    {
     "name": "stdout",
     "output_type": "stream",
     "text": [
      "First sleep starts at: 24900.0\n",
      "Last sleep ends at: 54000.0\n",
      "Cropping raw: 23100.0 - 55800.0\n",
      "Cropping finished.\n",
      "Used Annotations descriptions: [np.str_('Sleep stage 1'), np.str_('Sleep stage 2'), np.str_('Sleep stage 3'), np.str_('Sleep stage R'), np.str_('Sleep stage W')]\n",
      "Extracting EDF parameters from C:\\Users\\andri\\school\\bio-informatics\\internship\\donders\\data\\human_test_data\\input\\raw_input\\SC4561F0-PSG.edf...\n",
      "EDF file detected\n",
      "Channel 'EEG Fpz-Cz' recognized as type EEG (renamed to 'Fpz-Cz').\n",
      "Channel 'EEG Pz-Oz' recognized as type EEG (renamed to 'Pz-Oz').\n",
      "Channel 'EOG horizontal' recognized as type EOG (renamed to 'horizontal').\n",
      "Channel 'Resp oro-nasal' recognized as type RESP (renamed to 'oro-nasal').\n",
      "Channel 'EMG submental' recognized as type EMG (renamed to 'submental').\n",
      "Channel 'Temp rectal' recognized as type TEMP (renamed to 'rectal').\n",
      "Setting channel info structure...\n",
      "Creating raw.info structure...\n",
      "Reading 0 ... 8111999  =      0.000 ... 81119.990 secs...\n"
     ]
    },
    {
     "name": "stderr",
     "output_type": "stream",
     "text": [
      "c:\\Users\\andri\\school\\bio-informatics\\internship\\donders\\vsc\\Human_SleepSCoring\\DilonAndriesse\\pre_processing\\basic_mne_functions.py:15: RuntimeWarning: Channels contain different highpass filters. Highest filter setting will be stored.\n",
      "  raw = mne.io.read_raw_edf(\n",
      "c:\\Users\\andri\\school\\bio-informatics\\internship\\donders\\vsc\\Human_SleepSCoring\\DilonAndriesse\\pre_processing\\basic_mne_functions.py:15: RuntimeWarning: Channels contain different lowpass filters. Lowest filter setting will be stored.\n",
      "  raw = mne.io.read_raw_edf(\n"
     ]
    },
    {
     "name": "stdout",
     "output_type": "stream",
     "text": [
      "First sleep starts at: 27030.0\n",
      "Last sleep ends at: 60600.0\n",
      "Cropping raw: 25230.0 - 62400.0\n",
      "Cropping finished.\n",
      "Used Annotations descriptions: [np.str_('Sleep stage 1'), np.str_('Sleep stage 2'), np.str_('Sleep stage 3'), np.str_('Sleep stage 4'), np.str_('Sleep stage R'), np.str_('Sleep stage W')]\n",
      "Extracting EDF parameters from C:\\Users\\andri\\school\\bio-informatics\\internship\\donders\\data\\human_test_data\\input\\raw_input\\SC4562F0-PSG.edf...\n",
      "EDF file detected\n",
      "Channel 'EEG Fpz-Cz' recognized as type EEG (renamed to 'Fpz-Cz').\n",
      "Channel 'EEG Pz-Oz' recognized as type EEG (renamed to 'Pz-Oz').\n",
      "Channel 'EOG horizontal' recognized as type EOG (renamed to 'horizontal').\n",
      "Channel 'Resp oro-nasal' recognized as type RESP (renamed to 'oro-nasal').\n",
      "Channel 'EMG submental' recognized as type EMG (renamed to 'submental').\n",
      "Channel 'Temp rectal' recognized as type TEMP (renamed to 'rectal').\n",
      "Setting channel info structure...\n",
      "Creating raw.info structure...\n",
      "Reading 0 ... 8399999  =      0.000 ... 83999.990 secs...\n"
     ]
    },
    {
     "name": "stderr",
     "output_type": "stream",
     "text": [
      "c:\\Users\\andri\\school\\bio-informatics\\internship\\donders\\vsc\\Human_SleepSCoring\\DilonAndriesse\\pre_processing\\basic_mne_functions.py:15: RuntimeWarning: Channels contain different highpass filters. Highest filter setting will be stored.\n",
      "  raw = mne.io.read_raw_edf(\n",
      "c:\\Users\\andri\\school\\bio-informatics\\internship\\donders\\vsc\\Human_SleepSCoring\\DilonAndriesse\\pre_processing\\basic_mne_functions.py:15: RuntimeWarning: Channels contain different lowpass filters. Lowest filter setting will be stored.\n",
      "  raw = mne.io.read_raw_edf(\n"
     ]
    },
    {
     "name": "stdout",
     "output_type": "stream",
     "text": [
      "First sleep starts at: 30450.0\n",
      "Last sleep ends at: 61290.0\n",
      "Cropping raw: 28650.0 - 63090.0\n",
      "Cropping finished.\n",
      "Used Annotations descriptions: [np.str_('Sleep stage 1'), np.str_('Sleep stage 2'), np.str_('Sleep stage 3'), np.str_('Sleep stage R'), np.str_('Sleep stage W')]\n",
      "Extracting EDF parameters from C:\\Users\\andri\\school\\bio-informatics\\internship\\donders\\data\\human_test_data\\input\\raw_input\\SC4571F0-PSG.edf...\n",
      "EDF file detected\n",
      "Channel 'EEG Fpz-Cz' recognized as type EEG (renamed to 'Fpz-Cz').\n",
      "Channel 'EEG Pz-Oz' recognized as type EEG (renamed to 'Pz-Oz').\n",
      "Channel 'EOG horizontal' recognized as type EOG (renamed to 'horizontal').\n",
      "Channel 'Resp oro-nasal' recognized as type RESP (renamed to 'oro-nasal').\n",
      "Channel 'EMG submental' recognized as type EMG (renamed to 'submental').\n",
      "Channel 'Temp rectal' recognized as type TEMP (renamed to 'rectal').\n",
      "Setting channel info structure...\n",
      "Creating raw.info structure...\n",
      "Reading 0 ... 8549999  =      0.000 ... 85499.990 secs...\n"
     ]
    },
    {
     "name": "stderr",
     "output_type": "stream",
     "text": [
      "c:\\Users\\andri\\school\\bio-informatics\\internship\\donders\\vsc\\Human_SleepSCoring\\DilonAndriesse\\pre_processing\\basic_mne_functions.py:15: RuntimeWarning: Channels contain different highpass filters. Highest filter setting will be stored.\n",
      "  raw = mne.io.read_raw_edf(\n",
      "c:\\Users\\andri\\school\\bio-informatics\\internship\\donders\\vsc\\Human_SleepSCoring\\DilonAndriesse\\pre_processing\\basic_mne_functions.py:15: RuntimeWarning: Channels contain different lowpass filters. Lowest filter setting will be stored.\n",
      "  raw = mne.io.read_raw_edf(\n"
     ]
    },
    {
     "name": "stdout",
     "output_type": "stream",
     "text": [
      "First sleep starts at: 27600.0\n",
      "Last sleep ends at: 61080.0\n",
      "Cropping raw: 25800.0 - 62880.0\n",
      "Cropping finished.\n",
      "Used Annotations descriptions: [np.str_('Sleep stage 1'), np.str_('Sleep stage 2'), np.str_('Sleep stage R'), np.str_('Sleep stage W')]\n",
      "Extracting EDF parameters from C:\\Users\\andri\\school\\bio-informatics\\internship\\donders\\data\\human_test_data\\input\\raw_input\\SC4572F0-PSG.edf...\n",
      "EDF file detected\n",
      "Channel 'EEG Fpz-Cz' recognized as type EEG (renamed to 'Fpz-Cz').\n",
      "Channel 'EEG Pz-Oz' recognized as type EEG (renamed to 'Pz-Oz').\n",
      "Channel 'EOG horizontal' recognized as type EOG (renamed to 'horizontal').\n",
      "Channel 'Resp oro-nasal' recognized as type RESP (renamed to 'oro-nasal').\n",
      "Channel 'EMG submental' recognized as type EMG (renamed to 'submental').\n",
      "Channel 'Temp rectal' recognized as type TEMP (renamed to 'rectal').\n",
      "Setting channel info structure...\n",
      "Creating raw.info structure...\n",
      "Reading 0 ... 8639999  =      0.000 ... 86399.990 secs...\n"
     ]
    },
    {
     "name": "stderr",
     "output_type": "stream",
     "text": [
      "c:\\Users\\andri\\school\\bio-informatics\\internship\\donders\\vsc\\Human_SleepSCoring\\DilonAndriesse\\pre_processing\\basic_mne_functions.py:15: RuntimeWarning: Channels contain different highpass filters. Highest filter setting will be stored.\n",
      "  raw = mne.io.read_raw_edf(\n",
      "c:\\Users\\andri\\school\\bio-informatics\\internship\\donders\\vsc\\Human_SleepSCoring\\DilonAndriesse\\pre_processing\\basic_mne_functions.py:15: RuntimeWarning: Channels contain different lowpass filters. Lowest filter setting will be stored.\n",
      "  raw = mne.io.read_raw_edf(\n"
     ]
    },
    {
     "name": "stdout",
     "output_type": "stream",
     "text": [
      "First sleep starts at: 30540.0\n",
      "Last sleep ends at: 60000.0\n",
      "Cropping raw: 28740.0 - 61800.0\n",
      "Cropping finished.\n",
      "Used Annotations descriptions: [np.str_('Sleep stage 1'), np.str_('Sleep stage 2'), np.str_('Sleep stage 3'), np.str_('Sleep stage R'), np.str_('Sleep stage W')]\n",
      "Extracting EDF parameters from C:\\Users\\andri\\school\\bio-informatics\\internship\\donders\\data\\human_test_data\\input\\raw_input\\SC4581G0-PSG.edf...\n",
      "EDF file detected\n",
      "Channel 'EEG Fpz-Cz' recognized as type EEG (renamed to 'Fpz-Cz').\n",
      "Channel 'EEG Pz-Oz' recognized as type EEG (renamed to 'Pz-Oz').\n",
      "Channel 'EOG horizontal' recognized as type EOG (renamed to 'horizontal').\n",
      "Channel 'Resp oro-nasal' recognized as type RESP (renamed to 'oro-nasal').\n",
      "Channel 'EMG submental' recognized as type EMG (renamed to 'submental').\n",
      "Channel 'Temp rectal' recognized as type TEMP (renamed to 'rectal').\n",
      "Setting channel info structure...\n",
      "Creating raw.info structure...\n",
      "Reading 0 ... 8213999  =      0.000 ... 82139.990 secs...\n"
     ]
    },
    {
     "name": "stderr",
     "output_type": "stream",
     "text": [
      "c:\\Users\\andri\\school\\bio-informatics\\internship\\donders\\vsc\\Human_SleepSCoring\\DilonAndriesse\\pre_processing\\basic_mne_functions.py:15: RuntimeWarning: Channels contain different highpass filters. Highest filter setting will be stored.\n",
      "  raw = mne.io.read_raw_edf(\n",
      "c:\\Users\\andri\\school\\bio-informatics\\internship\\donders\\vsc\\Human_SleepSCoring\\DilonAndriesse\\pre_processing\\basic_mne_functions.py:15: RuntimeWarning: Channels contain different lowpass filters. Lowest filter setting will be stored.\n",
      "  raw = mne.io.read_raw_edf(\n"
     ]
    },
    {
     "name": "stdout",
     "output_type": "stream",
     "text": [
      "First sleep starts at: 26700.0\n",
      "Last sleep ends at: 55950.0\n",
      "Cropping raw: 24900.0 - 57750.0\n",
      "Cropping finished.\n",
      "Used Annotations descriptions: [np.str_('Sleep stage 1'), np.str_('Sleep stage 2'), np.str_('Sleep stage 3'), np.str_('Sleep stage R'), np.str_('Sleep stage W')]\n",
      "Extracting EDF parameters from C:\\Users\\andri\\school\\bio-informatics\\internship\\donders\\data\\human_test_data\\input\\raw_input\\SC4582G0-PSG.edf...\n",
      "EDF file detected\n",
      "Channel 'EEG Fpz-Cz' recognized as type EEG (renamed to 'Fpz-Cz').\n",
      "Channel 'EEG Pz-Oz' recognized as type EEG (renamed to 'Pz-Oz').\n",
      "Channel 'EOG horizontal' recognized as type EOG (renamed to 'horizontal').\n",
      "Channel 'Resp oro-nasal' recognized as type RESP (renamed to 'oro-nasal').\n",
      "Channel 'EMG submental' recognized as type EMG (renamed to 'submental').\n",
      "Channel 'Temp rectal' recognized as type TEMP (renamed to 'rectal').\n",
      "Setting channel info structure...\n",
      "Creating raw.info structure...\n",
      "Reading 0 ... 7901999  =      0.000 ... 79019.990 secs...\n"
     ]
    },
    {
     "name": "stderr",
     "output_type": "stream",
     "text": [
      "c:\\Users\\andri\\school\\bio-informatics\\internship\\donders\\vsc\\Human_SleepSCoring\\DilonAndriesse\\pre_processing\\basic_mne_functions.py:15: RuntimeWarning: Channels contain different highpass filters. Highest filter setting will be stored.\n",
      "  raw = mne.io.read_raw_edf(\n",
      "c:\\Users\\andri\\school\\bio-informatics\\internship\\donders\\vsc\\Human_SleepSCoring\\DilonAndriesse\\pre_processing\\basic_mne_functions.py:15: RuntimeWarning: Channels contain different lowpass filters. Lowest filter setting will be stored.\n",
      "  raw = mne.io.read_raw_edf(\n"
     ]
    },
    {
     "name": "stdout",
     "output_type": "stream",
     "text": [
      "First sleep starts at: 29850.0\n",
      "Last sleep ends at: 61500.0\n",
      "Cropping raw: 28050.0 - 63300.0\n",
      "Cropping finished.\n",
      "Used Annotations descriptions: [np.str_('Sleep stage 1'), np.str_('Sleep stage 2'), np.str_('Sleep stage 3'), np.str_('Sleep stage R'), np.str_('Sleep stage W')]\n",
      "Extracting EDF parameters from C:\\Users\\andri\\school\\bio-informatics\\internship\\donders\\data\\human_test_data\\input\\raw_input\\SC4591G0-PSG.edf...\n",
      "EDF file detected\n",
      "Channel 'EEG Fpz-Cz' recognized as type EEG (renamed to 'Fpz-Cz').\n",
      "Channel 'EEG Pz-Oz' recognized as type EEG (renamed to 'Pz-Oz').\n",
      "Channel 'EOG horizontal' recognized as type EOG (renamed to 'horizontal').\n",
      "Channel 'Resp oro-nasal' recognized as type RESP (renamed to 'oro-nasal').\n",
      "Channel 'EMG submental' recognized as type EMG (renamed to 'submental').\n",
      "Channel 'Temp rectal' recognized as type TEMP (renamed to 'rectal').\n",
      "Setting channel info structure...\n",
      "Creating raw.info structure...\n",
      "Reading 0 ... 8459999  =      0.000 ... 84599.990 secs...\n"
     ]
    },
    {
     "name": "stderr",
     "output_type": "stream",
     "text": [
      "c:\\Users\\andri\\school\\bio-informatics\\internship\\donders\\vsc\\Human_SleepSCoring\\DilonAndriesse\\pre_processing\\basic_mne_functions.py:15: RuntimeWarning: Channels contain different highpass filters. Highest filter setting will be stored.\n",
      "  raw = mne.io.read_raw_edf(\n",
      "c:\\Users\\andri\\school\\bio-informatics\\internship\\donders\\vsc\\Human_SleepSCoring\\DilonAndriesse\\pre_processing\\basic_mne_functions.py:15: RuntimeWarning: Channels contain different lowpass filters. Lowest filter setting will be stored.\n",
      "  raw = mne.io.read_raw_edf(\n"
     ]
    },
    {
     "name": "stdout",
     "output_type": "stream",
     "text": [
      "First sleep starts at: 29160.0\n",
      "Last sleep ends at: 80790.0\n",
      "Cropping raw: 27360.0 - 82590.0\n",
      "Cropping finished.\n",
      "Used Annotations descriptions: [np.str_('Sleep stage 1'), np.str_('Sleep stage 2'), np.str_('Sleep stage 3'), np.str_('Sleep stage R'), np.str_('Sleep stage W')]\n",
      "Extracting EDF parameters from C:\\Users\\andri\\school\\bio-informatics\\internship\\donders\\data\\human_test_data\\input\\raw_input\\SC4592G0-PSG.edf...\n",
      "EDF file detected\n",
      "Channel 'EEG Fpz-Cz' recognized as type EEG (renamed to 'Fpz-Cz').\n",
      "Channel 'EEG Pz-Oz' recognized as type EEG (renamed to 'Pz-Oz').\n",
      "Channel 'EOG horizontal' recognized as type EOG (renamed to 'horizontal').\n",
      "Channel 'Resp oro-nasal' recognized as type RESP (renamed to 'oro-nasal').\n",
      "Channel 'EMG submental' recognized as type EMG (renamed to 'submental').\n",
      "Channel 'Temp rectal' recognized as type TEMP (renamed to 'rectal').\n",
      "Setting channel info structure...\n",
      "Creating raw.info structure...\n",
      "Reading 0 ... 6119999  =      0.000 ... 61199.990 secs...\n"
     ]
    },
    {
     "name": "stderr",
     "output_type": "stream",
     "text": [
      "c:\\Users\\andri\\school\\bio-informatics\\internship\\donders\\vsc\\Human_SleepSCoring\\DilonAndriesse\\pre_processing\\basic_mne_functions.py:15: RuntimeWarning: Channels contain different highpass filters. Highest filter setting will be stored.\n",
      "  raw = mne.io.read_raw_edf(\n",
      "c:\\Users\\andri\\school\\bio-informatics\\internship\\donders\\vsc\\Human_SleepSCoring\\DilonAndriesse\\pre_processing\\basic_mne_functions.py:15: RuntimeWarning: Channels contain different lowpass filters. Lowest filter setting will be stored.\n",
      "  raw = mne.io.read_raw_edf(\n"
     ]
    },
    {
     "name": "stdout",
     "output_type": "stream",
     "text": [
      "First sleep starts at: 26070.0\n",
      "Last sleep ends at: 60420.0\n",
      "Cropping raw: 24270.0 - 61199.99\n",
      "Cropping finished.\n",
      "Used Annotations descriptions: [np.str_('Sleep stage 1'), np.str_('Sleep stage 2'), np.str_('Sleep stage 3'), np.str_('Sleep stage 4'), np.str_('Sleep stage R'), np.str_('Sleep stage W')]\n",
      "Extracting EDF parameters from C:\\Users\\andri\\school\\bio-informatics\\internship\\donders\\data\\human_test_data\\input\\raw_input\\SC4601E0-PSG.edf...\n",
      "EDF file detected\n",
      "Channel 'EEG Fpz-Cz' recognized as type EEG (renamed to 'Fpz-Cz').\n",
      "Channel 'EEG Pz-Oz' recognized as type EEG (renamed to 'Pz-Oz').\n",
      "Channel 'EOG horizontal' recognized as type EOG (renamed to 'horizontal').\n",
      "Channel 'Resp oro-nasal' recognized as type RESP (renamed to 'oro-nasal').\n",
      "Channel 'EMG submental' recognized as type EMG (renamed to 'submental').\n",
      "Channel 'Temp rectal' recognized as type TEMP (renamed to 'rectal').\n",
      "Setting channel info structure...\n",
      "Creating raw.info structure...\n",
      "Reading 0 ... 8189999  =      0.000 ... 81899.990 secs...\n"
     ]
    },
    {
     "name": "stderr",
     "output_type": "stream",
     "text": [
      "c:\\Users\\andri\\school\\bio-informatics\\internship\\donders\\vsc\\Human_SleepSCoring\\DilonAndriesse\\pre_processing\\basic_mne_functions.py:15: RuntimeWarning: Channels contain different highpass filters. Highest filter setting will be stored.\n",
      "  raw = mne.io.read_raw_edf(\n",
      "c:\\Users\\andri\\school\\bio-informatics\\internship\\donders\\vsc\\Human_SleepSCoring\\DilonAndriesse\\pre_processing\\basic_mne_functions.py:15: RuntimeWarning: Channels contain different lowpass filters. Lowest filter setting will be stored.\n",
      "  raw = mne.io.read_raw_edf(\n"
     ]
    },
    {
     "name": "stdout",
     "output_type": "stream",
     "text": [
      "First sleep starts at: 21810.0\n",
      "Last sleep ends at: 58680.0\n",
      "Cropping raw: 20010.0 - 60480.0\n",
      "Cropping finished.\n",
      "Used Annotations descriptions: [np.str_('Sleep stage 1'), np.str_('Sleep stage 2'), np.str_('Sleep stage 3'), np.str_('Sleep stage 4'), np.str_('Sleep stage R'), np.str_('Sleep stage W')]\n",
      "Extracting EDF parameters from C:\\Users\\andri\\school\\bio-informatics\\internship\\donders\\data\\human_test_data\\input\\raw_input\\SC4602E0-PSG.edf...\n",
      "EDF file detected\n",
      "Channel 'EEG Fpz-Cz' recognized as type EEG (renamed to 'Fpz-Cz').\n",
      "Channel 'EEG Pz-Oz' recognized as type EEG (renamed to 'Pz-Oz').\n",
      "Channel 'EOG horizontal' recognized as type EOG (renamed to 'horizontal').\n",
      "Channel 'Resp oro-nasal' recognized as type RESP (renamed to 'oro-nasal').\n",
      "Channel 'EMG submental' recognized as type EMG (renamed to 'submental').\n",
      "Channel 'Temp rectal' recognized as type TEMP (renamed to 'rectal').\n",
      "Setting channel info structure...\n",
      "Creating raw.info structure...\n",
      "Reading 0 ... 8399999  =      0.000 ... 83999.990 secs...\n"
     ]
    },
    {
     "name": "stderr",
     "output_type": "stream",
     "text": [
      "c:\\Users\\andri\\school\\bio-informatics\\internship\\donders\\vsc\\Human_SleepSCoring\\DilonAndriesse\\pre_processing\\basic_mne_functions.py:15: RuntimeWarning: Channels contain different highpass filters. Highest filter setting will be stored.\n",
      "  raw = mne.io.read_raw_edf(\n",
      "c:\\Users\\andri\\school\\bio-informatics\\internship\\donders\\vsc\\Human_SleepSCoring\\DilonAndriesse\\pre_processing\\basic_mne_functions.py:15: RuntimeWarning: Channels contain different lowpass filters. Lowest filter setting will be stored.\n",
      "  raw = mne.io.read_raw_edf(\n"
     ]
    },
    {
     "name": "stdout",
     "output_type": "stream",
     "text": [
      "First sleep starts at: 3030.0\n",
      "Last sleep ends at: 60720.0\n",
      "Cropping raw: 1230.0 - 62520.0\n",
      "Cropping finished.\n",
      "Used Annotations descriptions: [np.str_('Sleep stage 1'), np.str_('Sleep stage 2'), np.str_('Sleep stage 3'), np.str_('Sleep stage 4'), np.str_('Sleep stage R'), np.str_('Sleep stage W')]\n",
      "Extracting EDF parameters from C:\\Users\\andri\\school\\bio-informatics\\internship\\donders\\data\\human_test_data\\input\\raw_input\\SC4611E0-PSG.edf...\n",
      "EDF file detected\n",
      "Channel 'EEG Fpz-Cz' recognized as type EEG (renamed to 'Fpz-Cz').\n",
      "Channel 'EEG Pz-Oz' recognized as type EEG (renamed to 'Pz-Oz').\n",
      "Channel 'EOG horizontal' recognized as type EOG (renamed to 'horizontal').\n",
      "Channel 'Resp oro-nasal' recognized as type RESP (renamed to 'oro-nasal').\n",
      "Channel 'EMG submental' recognized as type EMG (renamed to 'submental').\n",
      "Channel 'Temp rectal' recognized as type TEMP (renamed to 'rectal').\n",
      "Setting channel info structure...\n",
      "Creating raw.info structure...\n",
      "Reading 0 ... 7949999  =      0.000 ... 79499.990 secs...\n"
     ]
    },
    {
     "name": "stderr",
     "output_type": "stream",
     "text": [
      "c:\\Users\\andri\\school\\bio-informatics\\internship\\donders\\vsc\\Human_SleepSCoring\\DilonAndriesse\\pre_processing\\basic_mne_functions.py:15: RuntimeWarning: Channels contain different highpass filters. Highest filter setting will be stored.\n",
      "  raw = mne.io.read_raw_edf(\n",
      "c:\\Users\\andri\\school\\bio-informatics\\internship\\donders\\vsc\\Human_SleepSCoring\\DilonAndriesse\\pre_processing\\basic_mne_functions.py:15: RuntimeWarning: Channels contain different lowpass filters. Lowest filter setting will be stored.\n",
      "  raw = mne.io.read_raw_edf(\n"
     ]
    },
    {
     "name": "stdout",
     "output_type": "stream",
     "text": [
      "First sleep starts at: 12360.0\n",
      "Last sleep ends at: 58500.0\n",
      "Cropping raw: 10560.0 - 60300.0\n",
      "Cropping finished.\n",
      "Used Annotations descriptions: [np.str_('Sleep stage 1'), np.str_('Sleep stage 2'), np.str_('Sleep stage 3'), np.str_('Sleep stage 4'), np.str_('Sleep stage R'), np.str_('Sleep stage W')]\n",
      "Extracting EDF parameters from C:\\Users\\andri\\school\\bio-informatics\\internship\\donders\\data\\human_test_data\\input\\raw_input\\SC4612E0-PSG.edf...\n",
      "EDF file detected\n",
      "Channel 'EEG Fpz-Cz' recognized as type EEG (renamed to 'Fpz-Cz').\n",
      "Channel 'EEG Pz-Oz' recognized as type EEG (renamed to 'Pz-Oz').\n",
      "Channel 'EOG horizontal' recognized as type EOG (renamed to 'horizontal').\n",
      "Channel 'Resp oro-nasal' recognized as type RESP (renamed to 'oro-nasal').\n",
      "Channel 'EMG submental' recognized as type EMG (renamed to 'submental').\n",
      "Channel 'Temp rectal' recognized as type TEMP (renamed to 'rectal').\n",
      "Setting channel info structure...\n",
      "Creating raw.info structure...\n",
      "Reading 0 ... 8189999  =      0.000 ... 81899.990 secs...\n"
     ]
    },
    {
     "name": "stderr",
     "output_type": "stream",
     "text": [
      "c:\\Users\\andri\\school\\bio-informatics\\internship\\donders\\vsc\\Human_SleepSCoring\\DilonAndriesse\\pre_processing\\basic_mne_functions.py:15: RuntimeWarning: Channels contain different highpass filters. Highest filter setting will be stored.\n",
      "  raw = mne.io.read_raw_edf(\n",
      "c:\\Users\\andri\\school\\bio-informatics\\internship\\donders\\vsc\\Human_SleepSCoring\\DilonAndriesse\\pre_processing\\basic_mne_functions.py:15: RuntimeWarning: Channels contain different lowpass filters. Lowest filter setting will be stored.\n",
      "  raw = mne.io.read_raw_edf(\n"
     ]
    },
    {
     "name": "stdout",
     "output_type": "stream",
     "text": [
      "First sleep starts at: 32640.0\n",
      "Last sleep ends at: 60900.0\n",
      "Cropping raw: 30840.0 - 62700.0\n",
      "Cropping finished.\n",
      "Used Annotations descriptions: [np.str_('Sleep stage 1'), np.str_('Sleep stage 2'), np.str_('Sleep stage 3'), np.str_('Sleep stage 4'), np.str_('Sleep stage R'), np.str_('Sleep stage W')]\n",
      "Extracting EDF parameters from C:\\Users\\andri\\school\\bio-informatics\\internship\\donders\\data\\human_test_data\\input\\raw_input\\SC4621E0-PSG.edf...\n",
      "EDF file detected\n",
      "Channel 'EEG Fpz-Cz' recognized as type EEG (renamed to 'Fpz-Cz').\n",
      "Channel 'EEG Pz-Oz' recognized as type EEG (renamed to 'Pz-Oz').\n",
      "Channel 'EOG horizontal' recognized as type EOG (renamed to 'horizontal').\n",
      "Channel 'Resp oro-nasal' recognized as type RESP (renamed to 'oro-nasal').\n",
      "Channel 'EMG submental' recognized as type EMG (renamed to 'submental').\n",
      "Channel 'Temp rectal' recognized as type TEMP (renamed to 'rectal').\n",
      "Setting channel info structure...\n",
      "Creating raw.info structure...\n",
      "Reading 0 ... 7835999  =      0.000 ... 78359.990 secs...\n"
     ]
    },
    {
     "name": "stderr",
     "output_type": "stream",
     "text": [
      "c:\\Users\\andri\\school\\bio-informatics\\internship\\donders\\vsc\\Human_SleepSCoring\\DilonAndriesse\\pre_processing\\basic_mne_functions.py:15: RuntimeWarning: Channels contain different highpass filters. Highest filter setting will be stored.\n",
      "  raw = mne.io.read_raw_edf(\n",
      "c:\\Users\\andri\\school\\bio-informatics\\internship\\donders\\vsc\\Human_SleepSCoring\\DilonAndriesse\\pre_processing\\basic_mne_functions.py:15: RuntimeWarning: Channels contain different lowpass filters. Lowest filter setting will be stored.\n",
      "  raw = mne.io.read_raw_edf(\n"
     ]
    },
    {
     "name": "stdout",
     "output_type": "stream",
     "text": [
      "First sleep starts at: 15360.0\n",
      "Last sleep ends at: 55110.0\n",
      "Cropping raw: 13560.0 - 56910.0\n",
      "Cropping finished.\n",
      "Used Annotations descriptions: [np.str_('Sleep stage 1'), np.str_('Sleep stage 2'), np.str_('Sleep stage 3'), np.str_('Sleep stage R'), np.str_('Sleep stage W')]\n",
      "Extracting EDF parameters from C:\\Users\\andri\\school\\bio-informatics\\internship\\donders\\data\\human_test_data\\input\\raw_input\\SC4622E0-PSG.edf...\n",
      "EDF file detected\n",
      "Channel 'EEG Fpz-Cz' recognized as type EEG (renamed to 'Fpz-Cz').\n",
      "Channel 'EEG Pz-Oz' recognized as type EEG (renamed to 'Pz-Oz').\n",
      "Channel 'EOG horizontal' recognized as type EOG (renamed to 'horizontal').\n",
      "Channel 'Resp oro-nasal' recognized as type RESP (renamed to 'oro-nasal').\n",
      "Channel 'EMG submental' recognized as type EMG (renamed to 'submental').\n",
      "Channel 'Temp rectal' recognized as type TEMP (renamed to 'rectal').\n",
      "Setting channel info structure...\n",
      "Creating raw.info structure...\n",
      "Reading 0 ... 8567999  =      0.000 ... 85679.990 secs...\n"
     ]
    },
    {
     "name": "stderr",
     "output_type": "stream",
     "text": [
      "c:\\Users\\andri\\school\\bio-informatics\\internship\\donders\\vsc\\Human_SleepSCoring\\DilonAndriesse\\pre_processing\\basic_mne_functions.py:15: RuntimeWarning: Channels contain different highpass filters. Highest filter setting will be stored.\n",
      "  raw = mne.io.read_raw_edf(\n",
      "c:\\Users\\andri\\school\\bio-informatics\\internship\\donders\\vsc\\Human_SleepSCoring\\DilonAndriesse\\pre_processing\\basic_mne_functions.py:15: RuntimeWarning: Channels contain different lowpass filters. Lowest filter setting will be stored.\n",
      "  raw = mne.io.read_raw_edf(\n"
     ]
    },
    {
     "name": "stdout",
     "output_type": "stream",
     "text": [
      "First sleep starts at: 23160.0\n",
      "Last sleep ends at: 74250.0\n",
      "Cropping raw: 21360.0 - 76050.0\n",
      "Cropping finished.\n",
      "Used Annotations descriptions: [np.str_('Sleep stage 1'), np.str_('Sleep stage 2'), np.str_('Sleep stage 3'), np.str_('Sleep stage R'), np.str_('Sleep stage W')]\n",
      "Extracting EDF parameters from C:\\Users\\andri\\school\\bio-informatics\\internship\\donders\\data\\human_test_data\\input\\raw_input\\SC4631E0-PSG.edf...\n",
      "EDF file detected\n",
      "Channel 'EEG Fpz-Cz' recognized as type EEG (renamed to 'Fpz-Cz').\n",
      "Channel 'EEG Pz-Oz' recognized as type EEG (renamed to 'Pz-Oz').\n",
      "Channel 'EOG horizontal' recognized as type EOG (renamed to 'horizontal').\n",
      "Channel 'Resp oro-nasal' recognized as type RESP (renamed to 'oro-nasal').\n",
      "Channel 'EMG submental' recognized as type EMG (renamed to 'submental').\n",
      "Channel 'Temp rectal' recognized as type TEMP (renamed to 'rectal').\n",
      "Setting channel info structure...\n",
      "Creating raw.info structure...\n",
      "Reading 0 ... 8273999  =      0.000 ... 82739.990 secs...\n"
     ]
    },
    {
     "name": "stderr",
     "output_type": "stream",
     "text": [
      "c:\\Users\\andri\\school\\bio-informatics\\internship\\donders\\vsc\\Human_SleepSCoring\\DilonAndriesse\\pre_processing\\basic_mne_functions.py:15: RuntimeWarning: Channels contain different highpass filters. Highest filter setting will be stored.\n",
      "  raw = mne.io.read_raw_edf(\n",
      "c:\\Users\\andri\\school\\bio-informatics\\internship\\donders\\vsc\\Human_SleepSCoring\\DilonAndriesse\\pre_processing\\basic_mne_functions.py:15: RuntimeWarning: Channels contain different lowpass filters. Lowest filter setting will be stored.\n",
      "  raw = mne.io.read_raw_edf(\n"
     ]
    },
    {
     "name": "stdout",
     "output_type": "stream",
     "text": [
      "First sleep starts at: 30810.0\n",
      "Last sleep ends at: 59100.0\n",
      "Cropping raw: 29010.0 - 60900.0\n",
      "Cropping finished.\n",
      "Used Annotations descriptions: [np.str_('Sleep stage 1'), np.str_('Sleep stage 2'), np.str_('Sleep stage 3'), np.str_('Sleep stage R'), np.str_('Sleep stage W')]\n",
      "Extracting EDF parameters from C:\\Users\\andri\\school\\bio-informatics\\internship\\donders\\data\\human_test_data\\input\\raw_input\\SC4632E0-PSG.edf...\n",
      "EDF file detected\n",
      "Channel 'EEG Fpz-Cz' recognized as type EEG (renamed to 'Fpz-Cz').\n",
      "Channel 'EEG Pz-Oz' recognized as type EEG (renamed to 'Pz-Oz').\n",
      "Channel 'EOG horizontal' recognized as type EOG (renamed to 'horizontal').\n",
      "Channel 'Resp oro-nasal' recognized as type RESP (renamed to 'oro-nasal').\n",
      "Channel 'EMG submental' recognized as type EMG (renamed to 'submental').\n",
      "Channel 'Temp rectal' recognized as type TEMP (renamed to 'rectal').\n",
      "Setting channel info structure...\n",
      "Creating raw.info structure...\n",
      "Reading 0 ... 8543999  =      0.000 ... 85439.990 secs...\n"
     ]
    },
    {
     "name": "stderr",
     "output_type": "stream",
     "text": [
      "c:\\Users\\andri\\school\\bio-informatics\\internship\\donders\\vsc\\Human_SleepSCoring\\DilonAndriesse\\pre_processing\\basic_mne_functions.py:15: RuntimeWarning: Channels contain different highpass filters. Highest filter setting will be stored.\n",
      "  raw = mne.io.read_raw_edf(\n",
      "c:\\Users\\andri\\school\\bio-informatics\\internship\\donders\\vsc\\Human_SleepSCoring\\DilonAndriesse\\pre_processing\\basic_mne_functions.py:15: RuntimeWarning: Channels contain different lowpass filters. Lowest filter setting will be stored.\n",
      "  raw = mne.io.read_raw_edf(\n"
     ]
    },
    {
     "name": "stdout",
     "output_type": "stream",
     "text": [
      "First sleep starts at: 31410.0\n",
      "Last sleep ends at: 61020.0\n",
      "Cropping raw: 29610.0 - 62820.0\n",
      "Cropping finished.\n",
      "Used Annotations descriptions: [np.str_('Sleep stage 1'), np.str_('Sleep stage 2'), np.str_('Sleep stage 3'), np.str_('Sleep stage R'), np.str_('Sleep stage W')]\n",
      "Extracting EDF parameters from C:\\Users\\andri\\school\\bio-informatics\\internship\\donders\\data\\human_test_data\\input\\raw_input\\SC4641E0-PSG.edf...\n",
      "EDF file detected\n",
      "Channel 'EEG Fpz-Cz' recognized as type EEG (renamed to 'Fpz-Cz').\n",
      "Channel 'EEG Pz-Oz' recognized as type EEG (renamed to 'Pz-Oz').\n",
      "Channel 'EOG horizontal' recognized as type EOG (renamed to 'horizontal').\n",
      "Channel 'Resp oro-nasal' recognized as type RESP (renamed to 'oro-nasal').\n",
      "Channel 'EMG submental' recognized as type EMG (renamed to 'submental').\n",
      "Channel 'Temp rectal' recognized as type TEMP (renamed to 'rectal').\n",
      "Setting channel info structure...\n",
      "Creating raw.info structure...\n",
      "Reading 0 ... 8039999  =      0.000 ... 80399.990 secs...\n"
     ]
    },
    {
     "name": "stderr",
     "output_type": "stream",
     "text": [
      "c:\\Users\\andri\\school\\bio-informatics\\internship\\donders\\vsc\\Human_SleepSCoring\\DilonAndriesse\\pre_processing\\basic_mne_functions.py:15: RuntimeWarning: Channels contain different highpass filters. Highest filter setting will be stored.\n",
      "  raw = mne.io.read_raw_edf(\n",
      "c:\\Users\\andri\\school\\bio-informatics\\internship\\donders\\vsc\\Human_SleepSCoring\\DilonAndriesse\\pre_processing\\basic_mne_functions.py:15: RuntimeWarning: Channels contain different lowpass filters. Lowest filter setting will be stored.\n",
      "  raw = mne.io.read_raw_edf(\n"
     ]
    },
    {
     "name": "stdout",
     "output_type": "stream",
     "text": [
      "First sleep starts at: 24810.0\n",
      "Last sleep ends at: 59340.0\n",
      "Cropping raw: 23010.0 - 61140.0\n",
      "Cropping finished.\n",
      "Used Annotations descriptions: [np.str_('Sleep stage 1'), np.str_('Sleep stage 2'), np.str_('Sleep stage R'), np.str_('Sleep stage W')]\n",
      "Extracting EDF parameters from C:\\Users\\andri\\school\\bio-informatics\\internship\\donders\\data\\human_test_data\\input\\raw_input\\SC4642E0-PSG.edf...\n",
      "EDF file detected\n",
      "Channel 'EEG Fpz-Cz' recognized as type EEG (renamed to 'Fpz-Cz').\n",
      "Channel 'EEG Pz-Oz' recognized as type EEG (renamed to 'Pz-Oz').\n",
      "Channel 'EOG horizontal' recognized as type EOG (renamed to 'horizontal').\n",
      "Channel 'Resp oro-nasal' recognized as type RESP (renamed to 'oro-nasal').\n",
      "Channel 'EMG submental' recognized as type EMG (renamed to 'submental').\n",
      "Channel 'Temp rectal' recognized as type TEMP (renamed to 'rectal').\n",
      "Setting channel info structure...\n",
      "Creating raw.info structure...\n",
      "Reading 0 ... 8369999  =      0.000 ... 83699.990 secs...\n"
     ]
    },
    {
     "name": "stderr",
     "output_type": "stream",
     "text": [
      "c:\\Users\\andri\\school\\bio-informatics\\internship\\donders\\vsc\\Human_SleepSCoring\\DilonAndriesse\\pre_processing\\basic_mne_functions.py:15: RuntimeWarning: Channels contain different highpass filters. Highest filter setting will be stored.\n",
      "  raw = mne.io.read_raw_edf(\n",
      "c:\\Users\\andri\\school\\bio-informatics\\internship\\donders\\vsc\\Human_SleepSCoring\\DilonAndriesse\\pre_processing\\basic_mne_functions.py:15: RuntimeWarning: Channels contain different lowpass filters. Lowest filter setting will be stored.\n",
      "  raw = mne.io.read_raw_edf(\n"
     ]
    },
    {
     "name": "stdout",
     "output_type": "stream",
     "text": [
      "First sleep starts at: 4500.0\n",
      "Last sleep ends at: 62370.0\n",
      "Cropping raw: 2700.0 - 64170.0\n",
      "Cropping finished.\n",
      "Used Annotations descriptions: [np.str_('Sleep stage 1'), np.str_('Sleep stage 2'), np.str_('Sleep stage R'), np.str_('Sleep stage W')]\n",
      "Extracting EDF parameters from C:\\Users\\andri\\school\\bio-informatics\\internship\\donders\\data\\human_test_data\\input\\raw_input\\SC4651E0-PSG.edf...\n",
      "EDF file detected\n",
      "Channel 'EEG Fpz-Cz' recognized as type EEG (renamed to 'Fpz-Cz').\n",
      "Channel 'EEG Pz-Oz' recognized as type EEG (renamed to 'Pz-Oz').\n",
      "Channel 'EOG horizontal' recognized as type EOG (renamed to 'horizontal').\n",
      "Channel 'Resp oro-nasal' recognized as type RESP (renamed to 'oro-nasal').\n",
      "Channel 'EMG submental' recognized as type EMG (renamed to 'submental').\n",
      "Channel 'Temp rectal' recognized as type TEMP (renamed to 'rectal').\n",
      "Setting channel info structure...\n",
      "Creating raw.info structure...\n",
      "Reading 0 ... 8579999  =      0.000 ... 85799.990 secs...\n"
     ]
    },
    {
     "name": "stderr",
     "output_type": "stream",
     "text": [
      "c:\\Users\\andri\\school\\bio-informatics\\internship\\donders\\vsc\\Human_SleepSCoring\\DilonAndriesse\\pre_processing\\basic_mne_functions.py:15: RuntimeWarning: Channels contain different highpass filters. Highest filter setting will be stored.\n",
      "  raw = mne.io.read_raw_edf(\n",
      "c:\\Users\\andri\\school\\bio-informatics\\internship\\donders\\vsc\\Human_SleepSCoring\\DilonAndriesse\\pre_processing\\basic_mne_functions.py:15: RuntimeWarning: Channels contain different lowpass filters. Lowest filter setting will be stored.\n",
      "  raw = mne.io.read_raw_edf(\n"
     ]
    },
    {
     "name": "stdout",
     "output_type": "stream",
     "text": [
      "First sleep starts at: 1680.0\n",
      "Last sleep ends at: 77520.0\n",
      "Cropping raw: 0 - 79320.0\n",
      "Cropping finished.\n",
      "Used Annotations descriptions: [np.str_('Sleep stage 1'), np.str_('Sleep stage 2'), np.str_('Sleep stage 3'), np.str_('Sleep stage 4'), np.str_('Sleep stage R'), np.str_('Sleep stage W')]\n",
      "Extracting EDF parameters from C:\\Users\\andri\\school\\bio-informatics\\internship\\donders\\data\\human_test_data\\input\\raw_input\\SC4652E0-PSG.edf...\n",
      "EDF file detected\n",
      "Channel 'EEG Fpz-Cz' recognized as type EEG (renamed to 'Fpz-Cz').\n",
      "Channel 'EEG Pz-Oz' recognized as type EEG (renamed to 'Pz-Oz').\n",
      "Channel 'EOG horizontal' recognized as type EOG (renamed to 'horizontal').\n",
      "Channel 'Resp oro-nasal' recognized as type RESP (renamed to 'oro-nasal').\n",
      "Channel 'EMG submental' recognized as type EMG (renamed to 'submental').\n",
      "Channel 'Temp rectal' recognized as type TEMP (renamed to 'rectal').\n",
      "Setting channel info structure...\n",
      "Creating raw.info structure...\n",
      "Reading 0 ... 8519999  =      0.000 ... 85199.990 secs...\n"
     ]
    },
    {
     "name": "stderr",
     "output_type": "stream",
     "text": [
      "c:\\Users\\andri\\school\\bio-informatics\\internship\\donders\\vsc\\Human_SleepSCoring\\DilonAndriesse\\pre_processing\\basic_mne_functions.py:15: RuntimeWarning: Channels contain different highpass filters. Highest filter setting will be stored.\n",
      "  raw = mne.io.read_raw_edf(\n",
      "c:\\Users\\andri\\school\\bio-informatics\\internship\\donders\\vsc\\Human_SleepSCoring\\DilonAndriesse\\pre_processing\\basic_mne_functions.py:15: RuntimeWarning: Channels contain different lowpass filters. Lowest filter setting will be stored.\n",
      "  raw = mne.io.read_raw_edf(\n"
     ]
    },
    {
     "name": "stdout",
     "output_type": "stream",
     "text": [
      "First sleep starts at: 10140.0\n",
      "Last sleep ends at: 64470.0\n",
      "Cropping raw: 8340.0 - 66270.0\n",
      "Cropping finished.\n",
      "Used Annotations descriptions: [np.str_('Sleep stage 1'), np.str_('Sleep stage 2'), np.str_('Sleep stage 3'), np.str_('Sleep stage 4'), np.str_('Sleep stage R'), np.str_('Sleep stage W')]\n",
      "Extracting EDF parameters from C:\\Users\\andri\\school\\bio-informatics\\internship\\donders\\data\\human_test_data\\input\\raw_input\\SC4661E0-PSG.edf...\n",
      "EDF file detected\n",
      "Channel 'EEG Fpz-Cz' recognized as type EEG (renamed to 'Fpz-Cz').\n",
      "Channel 'EEG Pz-Oz' recognized as type EEG (renamed to 'Pz-Oz').\n",
      "Channel 'EOG horizontal' recognized as type EOG (renamed to 'horizontal').\n",
      "Channel 'Resp oro-nasal' recognized as type RESP (renamed to 'oro-nasal').\n",
      "Channel 'EMG submental' recognized as type EMG (renamed to 'submental').\n",
      "Channel 'Temp rectal' recognized as type TEMP (renamed to 'rectal').\n",
      "Setting channel info structure...\n",
      "Creating raw.info structure...\n",
      "Reading 0 ... 8219999  =      0.000 ... 82199.990 secs...\n"
     ]
    },
    {
     "name": "stderr",
     "output_type": "stream",
     "text": [
      "c:\\Users\\andri\\school\\bio-informatics\\internship\\donders\\vsc\\Human_SleepSCoring\\DilonAndriesse\\pre_processing\\basic_mne_functions.py:15: RuntimeWarning: Channels contain different highpass filters. Highest filter setting will be stored.\n",
      "  raw = mne.io.read_raw_edf(\n",
      "c:\\Users\\andri\\school\\bio-informatics\\internship\\donders\\vsc\\Human_SleepSCoring\\DilonAndriesse\\pre_processing\\basic_mne_functions.py:15: RuntimeWarning: Channels contain different lowpass filters. Lowest filter setting will be stored.\n",
      "  raw = mne.io.read_raw_edf(\n"
     ]
    },
    {
     "name": "stdout",
     "output_type": "stream",
     "text": [
      "First sleep starts at: 20940.0\n",
      "Last sleep ends at: 78150.0\n",
      "Cropping raw: 19140.0 - 79950.0\n",
      "Cropping finished.\n",
      "Used Annotations descriptions: [np.str_('Sleep stage 1'), np.str_('Sleep stage 2'), np.str_('Sleep stage 3'), np.str_('Sleep stage R'), np.str_('Sleep stage W')]\n",
      "Extracting EDF parameters from C:\\Users\\andri\\school\\bio-informatics\\internship\\donders\\data\\human_test_data\\input\\raw_input\\SC4662E0-PSG.edf...\n",
      "EDF file detected\n",
      "Channel 'EEG Fpz-Cz' recognized as type EEG (renamed to 'Fpz-Cz').\n",
      "Channel 'EEG Pz-Oz' recognized as type EEG (renamed to 'Pz-Oz').\n",
      "Channel 'EOG horizontal' recognized as type EOG (renamed to 'horizontal').\n",
      "Channel 'Resp oro-nasal' recognized as type RESP (renamed to 'oro-nasal').\n",
      "Channel 'EMG submental' recognized as type EMG (renamed to 'submental').\n",
      "Channel 'Temp rectal' recognized as type TEMP (renamed to 'rectal').\n",
      "Setting channel info structure...\n",
      "Creating raw.info structure...\n",
      "Reading 0 ... 8459999  =      0.000 ... 84599.990 secs...\n"
     ]
    },
    {
     "name": "stderr",
     "output_type": "stream",
     "text": [
      "c:\\Users\\andri\\school\\bio-informatics\\internship\\donders\\vsc\\Human_SleepSCoring\\DilonAndriesse\\pre_processing\\basic_mne_functions.py:15: RuntimeWarning: Channels contain different highpass filters. Highest filter setting will be stored.\n",
      "  raw = mne.io.read_raw_edf(\n",
      "c:\\Users\\andri\\school\\bio-informatics\\internship\\donders\\vsc\\Human_SleepSCoring\\DilonAndriesse\\pre_processing\\basic_mne_functions.py:15: RuntimeWarning: Channels contain different lowpass filters. Lowest filter setting will be stored.\n",
      "  raw = mne.io.read_raw_edf(\n"
     ]
    },
    {
     "name": "stdout",
     "output_type": "stream",
     "text": [
      "First sleep starts at: 25920.0\n",
      "Last sleep ends at: 82140.0\n",
      "Cropping raw: 24120.0 - 83940.0\n",
      "Cropping finished.\n",
      "Used Annotations descriptions: [np.str_('Sleep stage 1'), np.str_('Sleep stage 2'), np.str_('Sleep stage 3'), np.str_('Sleep stage 4'), np.str_('Sleep stage R'), np.str_('Sleep stage W')]\n",
      "Extracting EDF parameters from C:\\Users\\andri\\school\\bio-informatics\\internship\\donders\\data\\human_test_data\\input\\raw_input\\SC4671G0-PSG.edf...\n",
      "EDF file detected\n",
      "Channel 'EEG Fpz-Cz' recognized as type EEG (renamed to 'Fpz-Cz').\n",
      "Channel 'EEG Pz-Oz' recognized as type EEG (renamed to 'Pz-Oz').\n",
      "Channel 'EOG horizontal' recognized as type EOG (renamed to 'horizontal').\n",
      "Channel 'Resp oro-nasal' recognized as type RESP (renamed to 'oro-nasal').\n",
      "Channel 'EMG submental' recognized as type EMG (renamed to 'submental').\n",
      "Channel 'Temp rectal' recognized as type TEMP (renamed to 'rectal').\n",
      "Setting channel info structure...\n",
      "Creating raw.info structure...\n",
      "Reading 0 ... 8339999  =      0.000 ... 83399.990 secs...\n"
     ]
    },
    {
     "name": "stderr",
     "output_type": "stream",
     "text": [
      "c:\\Users\\andri\\school\\bio-informatics\\internship\\donders\\vsc\\Human_SleepSCoring\\DilonAndriesse\\pre_processing\\basic_mne_functions.py:15: RuntimeWarning: Channels contain different highpass filters. Highest filter setting will be stored.\n",
      "  raw = mne.io.read_raw_edf(\n",
      "c:\\Users\\andri\\school\\bio-informatics\\internship\\donders\\vsc\\Human_SleepSCoring\\DilonAndriesse\\pre_processing\\basic_mne_functions.py:15: RuntimeWarning: Channels contain different lowpass filters. Lowest filter setting will be stored.\n",
      "  raw = mne.io.read_raw_edf(\n"
     ]
    },
    {
     "name": "stdout",
     "output_type": "stream",
     "text": [
      "First sleep starts at: 25950.0\n",
      "Last sleep ends at: 81390.0\n",
      "Cropping raw: 24150.0 - 83190.0\n",
      "Cropping finished.\n",
      "Used Annotations descriptions: [np.str_('Sleep stage 1'), np.str_('Sleep stage 2'), np.str_('Sleep stage 3'), np.str_('Sleep stage R'), np.str_('Sleep stage W')]\n",
      "Extracting EDF parameters from C:\\Users\\andri\\school\\bio-informatics\\internship\\donders\\data\\human_test_data\\input\\raw_input\\SC4672G0-PSG.edf...\n",
      "EDF file detected\n",
      "Channel 'EEG Fpz-Cz' recognized as type EEG (renamed to 'Fpz-Cz').\n",
      "Channel 'EEG Pz-Oz' recognized as type EEG (renamed to 'Pz-Oz').\n",
      "Channel 'EOG horizontal' recognized as type EOG (renamed to 'horizontal').\n",
      "Channel 'Resp oro-nasal' recognized as type RESP (renamed to 'oro-nasal').\n",
      "Channel 'EMG submental' recognized as type EMG (renamed to 'submental').\n",
      "Channel 'Temp rectal' recognized as type TEMP (renamed to 'rectal').\n",
      "Setting channel info structure...\n",
      "Creating raw.info structure...\n",
      "Reading 0 ... 7739999  =      0.000 ... 77399.990 secs...\n"
     ]
    },
    {
     "name": "stderr",
     "output_type": "stream",
     "text": [
      "c:\\Users\\andri\\school\\bio-informatics\\internship\\donders\\vsc\\Human_SleepSCoring\\DilonAndriesse\\pre_processing\\basic_mne_functions.py:15: RuntimeWarning: Channels contain different highpass filters. Highest filter setting will be stored.\n",
      "  raw = mne.io.read_raw_edf(\n",
      "c:\\Users\\andri\\school\\bio-informatics\\internship\\donders\\vsc\\Human_SleepSCoring\\DilonAndriesse\\pre_processing\\basic_mne_functions.py:15: RuntimeWarning: Channels contain different lowpass filters. Lowest filter setting will be stored.\n",
      "  raw = mne.io.read_raw_edf(\n"
     ]
    },
    {
     "name": "stdout",
     "output_type": "stream",
     "text": [
      "First sleep starts at: 32040.0\n",
      "Last sleep ends at: 59070.0\n",
      "Cropping raw: 30240.0 - 60870.0\n",
      "Cropping finished.\n",
      "Used Annotations descriptions: [np.str_('Sleep stage 1'), np.str_('Sleep stage 2'), np.str_('Sleep stage 3'), np.str_('Sleep stage 4'), np.str_('Sleep stage R'), np.str_('Sleep stage W')]\n",
      "Extracting EDF parameters from C:\\Users\\andri\\school\\bio-informatics\\internship\\donders\\data\\human_test_data\\input\\raw_input\\SC4701E0-PSG.edf...\n",
      "EDF file detected\n",
      "Channel 'EEG Fpz-Cz' recognized as type EEG (renamed to 'Fpz-Cz').\n",
      "Channel 'EEG Pz-Oz' recognized as type EEG (renamed to 'Pz-Oz').\n",
      "Channel 'EOG horizontal' recognized as type EOG (renamed to 'horizontal').\n",
      "Channel 'Resp oro-nasal' recognized as type RESP (renamed to 'oro-nasal').\n",
      "Channel 'EMG submental' recognized as type EMG (renamed to 'submental').\n",
      "Channel 'Temp rectal' recognized as type TEMP (renamed to 'rectal').\n",
      "Setting channel info structure...\n",
      "Creating raw.info structure...\n",
      "Reading 0 ... 8039999  =      0.000 ... 80399.990 secs...\n"
     ]
    },
    {
     "name": "stderr",
     "output_type": "stream",
     "text": [
      "c:\\Users\\andri\\school\\bio-informatics\\internship\\donders\\vsc\\Human_SleepSCoring\\DilonAndriesse\\pre_processing\\basic_mne_functions.py:15: RuntimeWarning: Channels contain different highpass filters. Highest filter setting will be stored.\n",
      "  raw = mne.io.read_raw_edf(\n",
      "c:\\Users\\andri\\school\\bio-informatics\\internship\\donders\\vsc\\Human_SleepSCoring\\DilonAndriesse\\pre_processing\\basic_mne_functions.py:15: RuntimeWarning: Channels contain different lowpass filters. Lowest filter setting will be stored.\n",
      "  raw = mne.io.read_raw_edf(\n"
     ]
    },
    {
     "name": "stdout",
     "output_type": "stream",
     "text": [
      "First sleep starts at: 7020.0\n",
      "Last sleep ends at: 54960.0\n",
      "Cropping raw: 5220.0 - 56760.0\n",
      "Cropping finished.\n",
      "Used Annotations descriptions: [np.str_('Sleep stage 1'), np.str_('Sleep stage 2'), np.str_('Sleep stage 3'), np.str_('Sleep stage R'), np.str_('Sleep stage W')]\n",
      "Extracting EDF parameters from C:\\Users\\andri\\school\\bio-informatics\\internship\\donders\\data\\human_test_data\\input\\raw_input\\SC4702E0-PSG.edf...\n",
      "EDF file detected\n",
      "Channel 'EEG Fpz-Cz' recognized as type EEG (renamed to 'Fpz-Cz').\n",
      "Channel 'EEG Pz-Oz' recognized as type EEG (renamed to 'Pz-Oz').\n",
      "Channel 'EOG horizontal' recognized as type EOG (renamed to 'horizontal').\n",
      "Channel 'Resp oro-nasal' recognized as type RESP (renamed to 'oro-nasal').\n",
      "Channel 'EMG submental' recognized as type EMG (renamed to 'submental').\n",
      "Channel 'Temp rectal' recognized as type TEMP (renamed to 'rectal').\n",
      "Setting channel info structure...\n",
      "Creating raw.info structure...\n",
      "Reading 0 ... 7871999  =      0.000 ... 78719.990 secs...\n"
     ]
    },
    {
     "name": "stderr",
     "output_type": "stream",
     "text": [
      "c:\\Users\\andri\\school\\bio-informatics\\internship\\donders\\vsc\\Human_SleepSCoring\\DilonAndriesse\\pre_processing\\basic_mne_functions.py:15: RuntimeWarning: Channels contain different highpass filters. Highest filter setting will be stored.\n",
      "  raw = mne.io.read_raw_edf(\n",
      "c:\\Users\\andri\\school\\bio-informatics\\internship\\donders\\vsc\\Human_SleepSCoring\\DilonAndriesse\\pre_processing\\basic_mne_functions.py:15: RuntimeWarning: Channels contain different lowpass filters. Lowest filter setting will be stored.\n",
      "  raw = mne.io.read_raw_edf(\n"
     ]
    },
    {
     "name": "stdout",
     "output_type": "stream",
     "text": [
      "First sleep starts at: 10830.0\n",
      "Last sleep ends at: 52680.0\n",
      "Cropping raw: 9030.0 - 54480.0\n",
      "Cropping finished.\n",
      "Used Annotations descriptions: [np.str_('Sleep stage 1'), np.str_('Sleep stage 2'), np.str_('Sleep stage 3'), np.str_('Sleep stage R'), np.str_('Sleep stage W')]\n",
      "Extracting EDF parameters from C:\\Users\\andri\\school\\bio-informatics\\internship\\donders\\data\\human_test_data\\input\\raw_input\\SC4711E0-PSG.edf...\n",
      "EDF file detected\n",
      "Channel 'EEG Fpz-Cz' recognized as type EEG (renamed to 'Fpz-Cz').\n",
      "Channel 'EEG Pz-Oz' recognized as type EEG (renamed to 'Pz-Oz').\n",
      "Channel 'EOG horizontal' recognized as type EOG (renamed to 'horizontal').\n",
      "Channel 'Resp oro-nasal' recognized as type RESP (renamed to 'oro-nasal').\n",
      "Channel 'EMG submental' recognized as type EMG (renamed to 'submental').\n",
      "Channel 'Temp rectal' recognized as type TEMP (renamed to 'rectal').\n",
      "Setting channel info structure...\n",
      "Creating raw.info structure...\n",
      "Reading 0 ... 8189999  =      0.000 ... 81899.990 secs...\n"
     ]
    },
    {
     "name": "stderr",
     "output_type": "stream",
     "text": [
      "c:\\Users\\andri\\school\\bio-informatics\\internship\\donders\\vsc\\Human_SleepSCoring\\DilonAndriesse\\pre_processing\\basic_mne_functions.py:15: RuntimeWarning: Channels contain different highpass filters. Highest filter setting will be stored.\n",
      "  raw = mne.io.read_raw_edf(\n",
      "c:\\Users\\andri\\school\\bio-informatics\\internship\\donders\\vsc\\Human_SleepSCoring\\DilonAndriesse\\pre_processing\\basic_mne_functions.py:15: RuntimeWarning: Channels contain different lowpass filters. Lowest filter setting will be stored.\n",
      "  raw = mne.io.read_raw_edf(\n"
     ]
    },
    {
     "name": "stdout",
     "output_type": "stream",
     "text": [
      "First sleep starts at: 19290.0\n",
      "Last sleep ends at: 58080.0\n",
      "Cropping raw: 17490.0 - 59880.0\n",
      "Cropping finished.\n",
      "Used Annotations descriptions: [np.str_('Sleep stage 1'), np.str_('Sleep stage 2'), np.str_('Sleep stage 3'), np.str_('Sleep stage R'), np.str_('Sleep stage W')]\n",
      "Extracting EDF parameters from C:\\Users\\andri\\school\\bio-informatics\\internship\\donders\\data\\human_test_data\\input\\raw_input\\SC4712E0-PSG.edf...\n",
      "EDF file detected\n",
      "Channel 'EEG Fpz-Cz' recognized as type EEG (renamed to 'Fpz-Cz').\n",
      "Channel 'EEG Pz-Oz' recognized as type EEG (renamed to 'Pz-Oz').\n",
      "Channel 'EOG horizontal' recognized as type EOG (renamed to 'horizontal').\n",
      "Channel 'Resp oro-nasal' recognized as type RESP (renamed to 'oro-nasal').\n",
      "Channel 'EMG submental' recognized as type EMG (renamed to 'submental').\n",
      "Channel 'Temp rectal' recognized as type TEMP (renamed to 'rectal').\n",
      "Setting channel info structure...\n",
      "Creating raw.info structure...\n",
      "Reading 0 ... 8459999  =      0.000 ... 84599.990 secs...\n"
     ]
    },
    {
     "name": "stderr",
     "output_type": "stream",
     "text": [
      "c:\\Users\\andri\\school\\bio-informatics\\internship\\donders\\vsc\\Human_SleepSCoring\\DilonAndriesse\\pre_processing\\basic_mne_functions.py:15: RuntimeWarning: Channels contain different highpass filters. Highest filter setting will be stored.\n",
      "  raw = mne.io.read_raw_edf(\n",
      "c:\\Users\\andri\\school\\bio-informatics\\internship\\donders\\vsc\\Human_SleepSCoring\\DilonAndriesse\\pre_processing\\basic_mne_functions.py:15: RuntimeWarning: Channels contain different lowpass filters. Lowest filter setting will be stored.\n",
      "  raw = mne.io.read_raw_edf(\n"
     ]
    },
    {
     "name": "stdout",
     "output_type": "stream",
     "text": [
      "First sleep starts at: 22890.0\n",
      "Last sleep ends at: 56520.0\n",
      "Cropping raw: 21090.0 - 58320.0\n",
      "Cropping finished.\n",
      "Used Annotations descriptions: [np.str_('Sleep stage 1'), np.str_('Sleep stage 2'), np.str_('Sleep stage R'), np.str_('Sleep stage W')]\n",
      "Extracting EDF parameters from C:\\Users\\andri\\school\\bio-informatics\\internship\\donders\\data\\human_test_data\\input\\raw_input\\SC4721E0-PSG.edf...\n",
      "EDF file detected\n",
      "Channel 'EEG Fpz-Cz' recognized as type EEG (renamed to 'Fpz-Cz').\n",
      "Channel 'EEG Pz-Oz' recognized as type EEG (renamed to 'Pz-Oz').\n",
      "Channel 'EOG horizontal' recognized as type EOG (renamed to 'horizontal').\n",
      "Channel 'Resp oro-nasal' recognized as type RESP (renamed to 'oro-nasal').\n",
      "Channel 'EMG submental' recognized as type EMG (renamed to 'submental').\n",
      "Channel 'Temp rectal' recognized as type TEMP (renamed to 'rectal').\n",
      "Setting channel info structure...\n",
      "Creating raw.info structure...\n",
      "Reading 0 ... 7025999  =      0.000 ... 70259.990 secs...\n"
     ]
    },
    {
     "name": "stderr",
     "output_type": "stream",
     "text": [
      "c:\\Users\\andri\\school\\bio-informatics\\internship\\donders\\vsc\\Human_SleepSCoring\\DilonAndriesse\\pre_processing\\basic_mne_functions.py:15: RuntimeWarning: Channels contain different highpass filters. Highest filter setting will be stored.\n",
      "  raw = mne.io.read_raw_edf(\n",
      "c:\\Users\\andri\\school\\bio-informatics\\internship\\donders\\vsc\\Human_SleepSCoring\\DilonAndriesse\\pre_processing\\basic_mne_functions.py:15: RuntimeWarning: Channels contain different lowpass filters. Lowest filter setting will be stored.\n",
      "  raw = mne.io.read_raw_edf(\n"
     ]
    },
    {
     "name": "stdout",
     "output_type": "stream",
     "text": [
      "First sleep starts at: 29790.0\n",
      "Last sleep ends at: 57120.0\n",
      "Cropping raw: 27990.0 - 58920.0\n",
      "Cropping finished.\n",
      "Used Annotations descriptions: [np.str_('Sleep stage 1'), np.str_('Sleep stage 2'), np.str_('Sleep stage R'), np.str_('Sleep stage W')]\n",
      "Extracting EDF parameters from C:\\Users\\andri\\school\\bio-informatics\\internship\\donders\\data\\human_test_data\\input\\raw_input\\SC4722E0-PSG.edf...\n",
      "EDF file detected\n",
      "Channel 'EEG Fpz-Cz' recognized as type EEG (renamed to 'Fpz-Cz').\n",
      "Channel 'EEG Pz-Oz' recognized as type EEG (renamed to 'Pz-Oz').\n",
      "Channel 'EOG horizontal' recognized as type EOG (renamed to 'horizontal').\n",
      "Channel 'Resp oro-nasal' recognized as type RESP (renamed to 'oro-nasal').\n",
      "Channel 'EMG submental' recognized as type EMG (renamed to 'submental').\n",
      "Channel 'Temp rectal' recognized as type TEMP (renamed to 'rectal').\n",
      "Setting channel info structure...\n",
      "Creating raw.info structure...\n",
      "Reading 0 ... 8237999  =      0.000 ... 82379.990 secs...\n"
     ]
    },
    {
     "name": "stderr",
     "output_type": "stream",
     "text": [
      "c:\\Users\\andri\\school\\bio-informatics\\internship\\donders\\vsc\\Human_SleepSCoring\\DilonAndriesse\\pre_processing\\basic_mne_functions.py:15: RuntimeWarning: Channels contain different highpass filters. Highest filter setting will be stored.\n",
      "  raw = mne.io.read_raw_edf(\n",
      "c:\\Users\\andri\\school\\bio-informatics\\internship\\donders\\vsc\\Human_SleepSCoring\\DilonAndriesse\\pre_processing\\basic_mne_functions.py:15: RuntimeWarning: Channels contain different lowpass filters. Lowest filter setting will be stored.\n",
      "  raw = mne.io.read_raw_edf(\n"
     ]
    },
    {
     "name": "stdout",
     "output_type": "stream",
     "text": [
      "First sleep starts at: 28020.0\n",
      "Last sleep ends at: 58320.0\n",
      "Cropping raw: 26220.0 - 60120.0\n",
      "Cropping finished.\n",
      "Used Annotations descriptions: [np.str_('Sleep stage 1'), np.str_('Sleep stage 2'), np.str_('Sleep stage R'), np.str_('Sleep stage W')]\n",
      "Extracting EDF parameters from C:\\Users\\andri\\school\\bio-informatics\\internship\\donders\\data\\human_test_data\\input\\raw_input\\SC4731E0-PSG.edf...\n",
      "EDF file detected\n",
      "Channel 'EEG Fpz-Cz' recognized as type EEG (renamed to 'Fpz-Cz').\n",
      "Channel 'EEG Pz-Oz' recognized as type EEG (renamed to 'Pz-Oz').\n",
      "Channel 'EOG horizontal' recognized as type EOG (renamed to 'horizontal').\n",
      "Channel 'Resp oro-nasal' recognized as type RESP (renamed to 'oro-nasal').\n",
      "Channel 'EMG submental' recognized as type EMG (renamed to 'submental').\n",
      "Channel 'Temp rectal' recognized as type TEMP (renamed to 'rectal').\n",
      "Setting channel info structure...\n",
      "Creating raw.info structure...\n",
      "Reading 0 ... 8339999  =      0.000 ... 83399.990 secs...\n"
     ]
    },
    {
     "name": "stderr",
     "output_type": "stream",
     "text": [
      "c:\\Users\\andri\\school\\bio-informatics\\internship\\donders\\vsc\\Human_SleepSCoring\\DilonAndriesse\\pre_processing\\basic_mne_functions.py:15: RuntimeWarning: Channels contain different highpass filters. Highest filter setting will be stored.\n",
      "  raw = mne.io.read_raw_edf(\n",
      "c:\\Users\\andri\\school\\bio-informatics\\internship\\donders\\vsc\\Human_SleepSCoring\\DilonAndriesse\\pre_processing\\basic_mne_functions.py:15: RuntimeWarning: Channels contain different lowpass filters. Lowest filter setting will be stored.\n",
      "  raw = mne.io.read_raw_edf(\n"
     ]
    },
    {
     "name": "stdout",
     "output_type": "stream",
     "text": [
      "First sleep starts at: 5190.0\n",
      "Last sleep ends at: 83400.0\n",
      "Cropping raw: 3390.0 - 83399.99\n",
      "Cropping finished.\n",
      "Used Annotations descriptions: [np.str_('Sleep stage 1'), np.str_('Sleep stage 2'), np.str_('Sleep stage R'), np.str_('Sleep stage W')]\n",
      "Extracting EDF parameters from C:\\Users\\andri\\school\\bio-informatics\\internship\\donders\\data\\human_test_data\\input\\raw_input\\SC4732E0-PSG.edf...\n",
      "EDF file detected\n",
      "Channel 'EEG Fpz-Cz' recognized as type EEG (renamed to 'Fpz-Cz').\n",
      "Channel 'EEG Pz-Oz' recognized as type EEG (renamed to 'Pz-Oz').\n",
      "Channel 'EOG horizontal' recognized as type EOG (renamed to 'horizontal').\n",
      "Channel 'Resp oro-nasal' recognized as type RESP (renamed to 'oro-nasal').\n",
      "Channel 'EMG submental' recognized as type EMG (renamed to 'submental').\n",
      "Channel 'Temp rectal' recognized as type TEMP (renamed to 'rectal').\n",
      "Setting channel info structure...\n",
      "Creating raw.info structure...\n",
      "Reading 0 ... 7559999  =      0.000 ... 75599.990 secs...\n"
     ]
    },
    {
     "name": "stderr",
     "output_type": "stream",
     "text": [
      "c:\\Users\\andri\\school\\bio-informatics\\internship\\donders\\vsc\\Human_SleepSCoring\\DilonAndriesse\\pre_processing\\basic_mne_functions.py:15: RuntimeWarning: Channels contain different highpass filters. Highest filter setting will be stored.\n",
      "  raw = mne.io.read_raw_edf(\n",
      "c:\\Users\\andri\\school\\bio-informatics\\internship\\donders\\vsc\\Human_SleepSCoring\\DilonAndriesse\\pre_processing\\basic_mne_functions.py:15: RuntimeWarning: Channels contain different lowpass filters. Lowest filter setting will be stored.\n",
      "  raw = mne.io.read_raw_edf(\n"
     ]
    },
    {
     "name": "stdout",
     "output_type": "stream",
     "text": [
      "First sleep starts at: 7830.0\n",
      "Last sleep ends at: 75390.0\n",
      "Cropping raw: 6030.0 - 75599.99\n",
      "Cropping finished.\n",
      "Used Annotations descriptions: [np.str_('Sleep stage 1'), np.str_('Sleep stage 2'), np.str_('Sleep stage R'), np.str_('Sleep stage W')]\n",
      "Extracting EDF parameters from C:\\Users\\andri\\school\\bio-informatics\\internship\\donders\\data\\human_test_data\\input\\raw_input\\SC4741E0-PSG.edf...\n",
      "EDF file detected\n",
      "Channel 'EEG Fpz-Cz' recognized as type EEG (renamed to 'Fpz-Cz').\n",
      "Channel 'EEG Pz-Oz' recognized as type EEG (renamed to 'Pz-Oz').\n",
      "Channel 'EOG horizontal' recognized as type EOG (renamed to 'horizontal').\n",
      "Channel 'Resp oro-nasal' recognized as type RESP (renamed to 'oro-nasal').\n",
      "Channel 'EMG submental' recognized as type EMG (renamed to 'submental').\n",
      "Channel 'Temp rectal' recognized as type TEMP (renamed to 'rectal').\n",
      "Setting channel info structure...\n",
      "Creating raw.info structure...\n",
      "Reading 0 ... 8069999  =      0.000 ... 80699.990 secs...\n"
     ]
    },
    {
     "name": "stderr",
     "output_type": "stream",
     "text": [
      "c:\\Users\\andri\\school\\bio-informatics\\internship\\donders\\vsc\\Human_SleepSCoring\\DilonAndriesse\\pre_processing\\basic_mne_functions.py:15: RuntimeWarning: Channels contain different highpass filters. Highest filter setting will be stored.\n",
      "  raw = mne.io.read_raw_edf(\n",
      "c:\\Users\\andri\\school\\bio-informatics\\internship\\donders\\vsc\\Human_SleepSCoring\\DilonAndriesse\\pre_processing\\basic_mne_functions.py:15: RuntimeWarning: Channels contain different lowpass filters. Lowest filter setting will be stored.\n",
      "  raw = mne.io.read_raw_edf(\n"
     ]
    },
    {
     "name": "stdout",
     "output_type": "stream",
     "text": [
      "First sleep starts at: 15960.0\n",
      "Last sleep ends at: 78690.0\n",
      "Cropping raw: 14160.0 - 80490.0\n",
      "Cropping finished.\n",
      "Used Annotations descriptions: [np.str_('Sleep stage 1'), np.str_('Sleep stage 2'), np.str_('Sleep stage R'), np.str_('Sleep stage W')]\n",
      "Extracting EDF parameters from C:\\Users\\andri\\school\\bio-informatics\\internship\\donders\\data\\human_test_data\\input\\raw_input\\SC4742E0-PSG.edf...\n",
      "EDF file detected\n",
      "Channel 'EEG Fpz-Cz' recognized as type EEG (renamed to 'Fpz-Cz').\n",
      "Channel 'EEG Pz-Oz' recognized as type EEG (renamed to 'Pz-Oz').\n",
      "Channel 'EOG horizontal' recognized as type EOG (renamed to 'horizontal').\n",
      "Channel 'Resp oro-nasal' recognized as type RESP (renamed to 'oro-nasal').\n",
      "Channel 'EMG submental' recognized as type EMG (renamed to 'submental').\n",
      "Channel 'Temp rectal' recognized as type TEMP (renamed to 'rectal').\n",
      "Setting channel info structure...\n",
      "Creating raw.info structure...\n",
      "Reading 0 ... 7949999  =      0.000 ... 79499.990 secs...\n"
     ]
    },
    {
     "name": "stderr",
     "output_type": "stream",
     "text": [
      "c:\\Users\\andri\\school\\bio-informatics\\internship\\donders\\vsc\\Human_SleepSCoring\\DilonAndriesse\\pre_processing\\basic_mne_functions.py:15: RuntimeWarning: Channels contain different highpass filters. Highest filter setting will be stored.\n",
      "  raw = mne.io.read_raw_edf(\n",
      "c:\\Users\\andri\\school\\bio-informatics\\internship\\donders\\vsc\\Human_SleepSCoring\\DilonAndriesse\\pre_processing\\basic_mne_functions.py:15: RuntimeWarning: Channels contain different lowpass filters. Lowest filter setting will be stored.\n",
      "  raw = mne.io.read_raw_edf(\n"
     ]
    },
    {
     "name": "stdout",
     "output_type": "stream",
     "text": [
      "First sleep starts at: 30630.0\n",
      "Last sleep ends at: 58920.0\n",
      "Cropping raw: 28830.0 - 60720.0\n",
      "Cropping finished.\n",
      "Used Annotations descriptions: [np.str_('Sleep stage 1'), np.str_('Sleep stage 2'), np.str_('Sleep stage R'), np.str_('Sleep stage W')]\n",
      "Extracting EDF parameters from C:\\Users\\andri\\school\\bio-informatics\\internship\\donders\\data\\human_test_data\\input\\raw_input\\SC4751E0-PSG.edf...\n",
      "EDF file detected\n",
      "Channel 'EEG Fpz-Cz' recognized as type EEG (renamed to 'Fpz-Cz').\n",
      "Channel 'EEG Pz-Oz' recognized as type EEG (renamed to 'Pz-Oz').\n",
      "Channel 'EOG horizontal' recognized as type EOG (renamed to 'horizontal').\n",
      "Channel 'Resp oro-nasal' recognized as type RESP (renamed to 'oro-nasal').\n",
      "Channel 'EMG submental' recognized as type EMG (renamed to 'submental').\n",
      "Channel 'Temp rectal' recognized as type TEMP (renamed to 'rectal').\n",
      "Setting channel info structure...\n",
      "Creating raw.info structure...\n",
      "Reading 0 ... 8039999  =      0.000 ... 80399.990 secs...\n"
     ]
    },
    {
     "name": "stderr",
     "output_type": "stream",
     "text": [
      "c:\\Users\\andri\\school\\bio-informatics\\internship\\donders\\vsc\\Human_SleepSCoring\\DilonAndriesse\\pre_processing\\basic_mne_functions.py:15: RuntimeWarning: Channels contain different highpass filters. Highest filter setting will be stored.\n",
      "  raw = mne.io.read_raw_edf(\n",
      "c:\\Users\\andri\\school\\bio-informatics\\internship\\donders\\vsc\\Human_SleepSCoring\\DilonAndriesse\\pre_processing\\basic_mne_functions.py:15: RuntimeWarning: Channels contain different lowpass filters. Lowest filter setting will be stored.\n",
      "  raw = mne.io.read_raw_edf(\n"
     ]
    },
    {
     "name": "stdout",
     "output_type": "stream",
     "text": [
      "First sleep starts at: 20880.0\n",
      "Last sleep ends at: 79140.0\n",
      "Cropping raw: 19080.0 - 80399.99\n",
      "Cropping finished.\n",
      "Used Annotations descriptions: [np.str_('Sleep stage 1'), np.str_('Sleep stage 2'), np.str_('Sleep stage R'), np.str_('Sleep stage W')]\n",
      "Extracting EDF parameters from C:\\Users\\andri\\school\\bio-informatics\\internship\\donders\\data\\human_test_data\\input\\raw_input\\SC4752E0-PSG.edf...\n",
      "EDF file detected\n",
      "Channel 'EEG Fpz-Cz' recognized as type EEG (renamed to 'Fpz-Cz').\n",
      "Channel 'EEG Pz-Oz' recognized as type EEG (renamed to 'Pz-Oz').\n",
      "Channel 'EOG horizontal' recognized as type EOG (renamed to 'horizontal').\n",
      "Channel 'Resp oro-nasal' recognized as type RESP (renamed to 'oro-nasal').\n",
      "Channel 'EMG submental' recognized as type EMG (renamed to 'submental').\n",
      "Channel 'Temp rectal' recognized as type TEMP (renamed to 'rectal').\n",
      "Setting channel info structure...\n",
      "Creating raw.info structure...\n",
      "Reading 0 ... 7409999  =      0.000 ... 74099.990 secs...\n"
     ]
    },
    {
     "name": "stderr",
     "output_type": "stream",
     "text": [
      "c:\\Users\\andri\\school\\bio-informatics\\internship\\donders\\vsc\\Human_SleepSCoring\\DilonAndriesse\\pre_processing\\basic_mne_functions.py:15: RuntimeWarning: Channels contain different highpass filters. Highest filter setting will be stored.\n",
      "  raw = mne.io.read_raw_edf(\n",
      "c:\\Users\\andri\\school\\bio-informatics\\internship\\donders\\vsc\\Human_SleepSCoring\\DilonAndriesse\\pre_processing\\basic_mne_functions.py:15: RuntimeWarning: Channels contain different lowpass filters. Lowest filter setting will be stored.\n",
      "  raw = mne.io.read_raw_edf(\n"
     ]
    },
    {
     "name": "stdout",
     "output_type": "stream",
     "text": [
      "First sleep starts at: 29970.0\n",
      "Last sleep ends at: 57840.0\n",
      "Cropping raw: 28170.0 - 59640.0\n",
      "Cropping finished.\n",
      "Used Annotations descriptions: [np.str_('Sleep stage 1'), np.str_('Sleep stage 2'), np.str_('Sleep stage 3'), np.str_('Sleep stage R'), np.str_('Sleep stage W')]\n",
      "Extracting EDF parameters from C:\\Users\\andri\\school\\bio-informatics\\internship\\donders\\data\\human_test_data\\input\\raw_input\\SC4761E0-PSG.edf...\n",
      "EDF file detected\n",
      "Channel 'EEG Fpz-Cz' recognized as type EEG (renamed to 'Fpz-Cz').\n",
      "Channel 'EEG Pz-Oz' recognized as type EEG (renamed to 'Pz-Oz').\n",
      "Channel 'EOG horizontal' recognized as type EOG (renamed to 'horizontal').\n",
      "Channel 'Resp oro-nasal' recognized as type RESP (renamed to 'oro-nasal').\n",
      "Channel 'EMG submental' recognized as type EMG (renamed to 'submental').\n",
      "Channel 'Temp rectal' recognized as type TEMP (renamed to 'rectal').\n",
      "Setting channel info structure...\n",
      "Creating raw.info structure...\n",
      "Reading 0 ... 7889999  =      0.000 ... 78899.990 secs...\n"
     ]
    },
    {
     "name": "stderr",
     "output_type": "stream",
     "text": [
      "c:\\Users\\andri\\school\\bio-informatics\\internship\\donders\\vsc\\Human_SleepSCoring\\DilonAndriesse\\pre_processing\\basic_mne_functions.py:15: RuntimeWarning: Channels contain different highpass filters. Highest filter setting will be stored.\n",
      "  raw = mne.io.read_raw_edf(\n",
      "c:\\Users\\andri\\school\\bio-informatics\\internship\\donders\\vsc\\Human_SleepSCoring\\DilonAndriesse\\pre_processing\\basic_mne_functions.py:15: RuntimeWarning: Channels contain different lowpass filters. Lowest filter setting will be stored.\n",
      "  raw = mne.io.read_raw_edf(\n"
     ]
    },
    {
     "name": "stdout",
     "output_type": "stream",
     "text": [
      "First sleep starts at: 16290.0\n",
      "Last sleep ends at: 63780.0\n",
      "Cropping raw: 14490.0 - 65580.0\n",
      "Cropping finished.\n",
      "Used Annotations descriptions: [np.str_('Sleep stage 1'), np.str_('Sleep stage 2'), np.str_('Sleep stage 3'), np.str_('Sleep stage R'), np.str_('Sleep stage W')]\n",
      "Extracting EDF parameters from C:\\Users\\andri\\school\\bio-informatics\\internship\\donders\\data\\human_test_data\\input\\raw_input\\SC4762E0-PSG.edf...\n",
      "EDF file detected\n",
      "Channel 'EEG Fpz-Cz' recognized as type EEG (renamed to 'Fpz-Cz').\n",
      "Channel 'EEG Pz-Oz' recognized as type EEG (renamed to 'Pz-Oz').\n",
      "Channel 'EOG horizontal' recognized as type EOG (renamed to 'horizontal').\n",
      "Channel 'Resp oro-nasal' recognized as type RESP (renamed to 'oro-nasal').\n",
      "Channel 'EMG submental' recognized as type EMG (renamed to 'submental').\n",
      "Channel 'Temp rectal' recognized as type TEMP (renamed to 'rectal').\n",
      "Setting channel info structure...\n",
      "Creating raw.info structure...\n",
      "Reading 0 ... 8429999  =      0.000 ... 84299.990 secs...\n"
     ]
    },
    {
     "name": "stderr",
     "output_type": "stream",
     "text": [
      "c:\\Users\\andri\\school\\bio-informatics\\internship\\donders\\vsc\\Human_SleepSCoring\\DilonAndriesse\\pre_processing\\basic_mne_functions.py:15: RuntimeWarning: Channels contain different highpass filters. Highest filter setting will be stored.\n",
      "  raw = mne.io.read_raw_edf(\n",
      "c:\\Users\\andri\\school\\bio-informatics\\internship\\donders\\vsc\\Human_SleepSCoring\\DilonAndriesse\\pre_processing\\basic_mne_functions.py:15: RuntimeWarning: Channels contain different lowpass filters. Lowest filter setting will be stored.\n",
      "  raw = mne.io.read_raw_edf(\n"
     ]
    },
    {
     "name": "stdout",
     "output_type": "stream",
     "text": [
      "First sleep starts at: 1380.0\n",
      "Last sleep ends at: 83940.0\n",
      "Cropping raw: 0 - 84299.99\n",
      "Cropping finished.\n",
      "Used Annotations descriptions: [np.str_('Sleep stage 1'), np.str_('Sleep stage 2'), np.str_('Sleep stage R'), np.str_('Sleep stage W')]\n",
      "Extracting EDF parameters from C:\\Users\\andri\\school\\bio-informatics\\internship\\donders\\data\\human_test_data\\input\\raw_input\\SC4771G0-PSG.edf...\n",
      "EDF file detected\n",
      "Channel 'EEG Fpz-Cz' recognized as type EEG (renamed to 'Fpz-Cz').\n",
      "Channel 'EEG Pz-Oz' recognized as type EEG (renamed to 'Pz-Oz').\n",
      "Channel 'EOG horizontal' recognized as type EOG (renamed to 'horizontal').\n",
      "Channel 'Resp oro-nasal' recognized as type RESP (renamed to 'oro-nasal').\n",
      "Channel 'EMG submental' recognized as type EMG (renamed to 'submental').\n",
      "Channel 'Temp rectal' recognized as type TEMP (renamed to 'rectal').\n",
      "Setting channel info structure...\n",
      "Creating raw.info structure...\n",
      "Reading 0 ... 8267999  =      0.000 ... 82679.990 secs...\n"
     ]
    },
    {
     "name": "stderr",
     "output_type": "stream",
     "text": [
      "c:\\Users\\andri\\school\\bio-informatics\\internship\\donders\\vsc\\Human_SleepSCoring\\DilonAndriesse\\pre_processing\\basic_mne_functions.py:15: RuntimeWarning: Channels contain different highpass filters. Highest filter setting will be stored.\n",
      "  raw = mne.io.read_raw_edf(\n",
      "c:\\Users\\andri\\school\\bio-informatics\\internship\\donders\\vsc\\Human_SleepSCoring\\DilonAndriesse\\pre_processing\\basic_mne_functions.py:15: RuntimeWarning: Channels contain different lowpass filters. Lowest filter setting will be stored.\n",
      "  raw = mne.io.read_raw_edf(\n"
     ]
    },
    {
     "name": "stdout",
     "output_type": "stream",
     "text": [
      "First sleep starts at: 30060.0\n",
      "Last sleep ends at: 66210.0\n",
      "Cropping raw: 28260.0 - 68010.0\n",
      "Cropping finished.\n",
      "Used Annotations descriptions: [np.str_('Sleep stage 1'), np.str_('Sleep stage 2'), np.str_('Sleep stage 3'), np.str_('Sleep stage R'), np.str_('Sleep stage W')]\n",
      "Extracting EDF parameters from C:\\Users\\andri\\school\\bio-informatics\\internship\\donders\\data\\human_test_data\\input\\raw_input\\SC4772G0-PSG.edf...\n",
      "EDF file detected\n",
      "Channel 'EEG Fpz-Cz' recognized as type EEG (renamed to 'Fpz-Cz').\n",
      "Channel 'EEG Pz-Oz' recognized as type EEG (renamed to 'Pz-Oz').\n",
      "Channel 'EOG horizontal' recognized as type EOG (renamed to 'horizontal').\n",
      "Channel 'Resp oro-nasal' recognized as type RESP (renamed to 'oro-nasal').\n",
      "Channel 'EMG submental' recognized as type EMG (renamed to 'submental').\n",
      "Channel 'Temp rectal' recognized as type TEMP (renamed to 'rectal').\n",
      "Setting channel info structure...\n",
      "Creating raw.info structure...\n",
      "Reading 0 ... 6725999  =      0.000 ... 67259.990 secs...\n"
     ]
    },
    {
     "name": "stderr",
     "output_type": "stream",
     "text": [
      "c:\\Users\\andri\\school\\bio-informatics\\internship\\donders\\vsc\\Human_SleepSCoring\\DilonAndriesse\\pre_processing\\basic_mne_functions.py:15: RuntimeWarning: Channels contain different highpass filters. Highest filter setting will be stored.\n",
      "  raw = mne.io.read_raw_edf(\n",
      "c:\\Users\\andri\\school\\bio-informatics\\internship\\donders\\vsc\\Human_SleepSCoring\\DilonAndriesse\\pre_processing\\basic_mne_functions.py:15: RuntimeWarning: Channels contain different lowpass filters. Lowest filter setting will be stored.\n",
      "  raw = mne.io.read_raw_edf(\n"
     ]
    },
    {
     "name": "stdout",
     "output_type": "stream",
     "text": [
      "First sleep starts at: 25920.0\n",
      "Last sleep ends at: 62040.0\n",
      "Cropping raw: 24120.0 - 63840.0\n",
      "Cropping finished.\n",
      "Used Annotations descriptions: [np.str_('Sleep stage 1'), np.str_('Sleep stage 2'), np.str_('Sleep stage 3'), np.str_('Sleep stage 4'), np.str_('Sleep stage R'), np.str_('Sleep stage W')]\n",
      "Extracting EDF parameters from C:\\Users\\andri\\school\\bio-informatics\\internship\\donders\\data\\human_test_data\\input\\raw_input\\SC4801G0-PSG.edf...\n",
      "EDF file detected\n",
      "Channel 'EEG Fpz-Cz' recognized as type EEG (renamed to 'Fpz-Cz').\n",
      "Channel 'EEG Pz-Oz' recognized as type EEG (renamed to 'Pz-Oz').\n",
      "Channel 'EOG horizontal' recognized as type EOG (renamed to 'horizontal').\n",
      "Channel 'Resp oro-nasal' recognized as type RESP (renamed to 'oro-nasal').\n",
      "Channel 'EMG submental' recognized as type EMG (renamed to 'submental').\n",
      "Channel 'Temp rectal' recognized as type TEMP (renamed to 'rectal').\n",
      "Setting channel info structure...\n",
      "Creating raw.info structure...\n",
      "Reading 0 ... 8321999  =      0.000 ... 83219.990 secs...\n"
     ]
    },
    {
     "name": "stderr",
     "output_type": "stream",
     "text": [
      "c:\\Users\\andri\\school\\bio-informatics\\internship\\donders\\vsc\\Human_SleepSCoring\\DilonAndriesse\\pre_processing\\basic_mne_functions.py:15: RuntimeWarning: Channels contain different highpass filters. Highest filter setting will be stored.\n",
      "  raw = mne.io.read_raw_edf(\n",
      "c:\\Users\\andri\\school\\bio-informatics\\internship\\donders\\vsc\\Human_SleepSCoring\\DilonAndriesse\\pre_processing\\basic_mne_functions.py:15: RuntimeWarning: Channels contain different lowpass filters. Lowest filter setting will be stored.\n",
      "  raw = mne.io.read_raw_edf(\n"
     ]
    },
    {
     "name": "stdout",
     "output_type": "stream",
     "text": [
      "First sleep starts at: 30780.0\n",
      "Last sleep ends at: 64410.0\n",
      "Cropping raw: 28980.0 - 66210.0\n",
      "Cropping finished.\n",
      "Used Annotations descriptions: [np.str_('Sleep stage 1'), np.str_('Sleep stage 2'), np.str_('Sleep stage 3'), np.str_('Sleep stage R'), np.str_('Sleep stage W')]\n",
      "Extracting EDF parameters from C:\\Users\\andri\\school\\bio-informatics\\internship\\donders\\data\\human_test_data\\input\\raw_input\\SC4802G0-PSG.edf...\n",
      "EDF file detected\n",
      "Channel 'EEG Fpz-Cz' recognized as type EEG (renamed to 'Fpz-Cz').\n",
      "Channel 'EEG Pz-Oz' recognized as type EEG (renamed to 'Pz-Oz').\n",
      "Channel 'EOG horizontal' recognized as type EOG (renamed to 'horizontal').\n",
      "Channel 'Resp oro-nasal' recognized as type RESP (renamed to 'oro-nasal').\n",
      "Channel 'EMG submental' recognized as type EMG (renamed to 'submental').\n",
      "Channel 'Temp rectal' recognized as type TEMP (renamed to 'rectal').\n",
      "Setting channel info structure...\n",
      "Creating raw.info structure...\n",
      "Reading 0 ... 8429999  =      0.000 ... 84299.990 secs...\n"
     ]
    },
    {
     "name": "stderr",
     "output_type": "stream",
     "text": [
      "c:\\Users\\andri\\school\\bio-informatics\\internship\\donders\\vsc\\Human_SleepSCoring\\DilonAndriesse\\pre_processing\\basic_mne_functions.py:15: RuntimeWarning: Channels contain different highpass filters. Highest filter setting will be stored.\n",
      "  raw = mne.io.read_raw_edf(\n",
      "c:\\Users\\andri\\school\\bio-informatics\\internship\\donders\\vsc\\Human_SleepSCoring\\DilonAndriesse\\pre_processing\\basic_mne_functions.py:15: RuntimeWarning: Channels contain different lowpass filters. Lowest filter setting will be stored.\n",
      "  raw = mne.io.read_raw_edf(\n"
     ]
    },
    {
     "name": "stdout",
     "output_type": "stream",
     "text": [
      "First sleep starts at: 32220.0\n",
      "Last sleep ends at: 65490.0\n",
      "Cropping raw: 30420.0 - 67290.0\n",
      "Cropping finished.\n",
      "Used Annotations descriptions: [np.str_('Sleep stage 1'), np.str_('Sleep stage 2'), np.str_('Sleep stage 3'), np.str_('Sleep stage R'), np.str_('Sleep stage W')]\n",
      "Extracting EDF parameters from C:\\Users\\andri\\school\\bio-informatics\\internship\\donders\\data\\human_test_data\\input\\raw_input\\SC4811G0-PSG.edf...\n",
      "EDF file detected\n",
      "Channel 'EEG Fpz-Cz' recognized as type EEG (renamed to 'Fpz-Cz').\n",
      "Channel 'EEG Pz-Oz' recognized as type EEG (renamed to 'Pz-Oz').\n",
      "Channel 'EOG horizontal' recognized as type EOG (renamed to 'horizontal').\n",
      "Channel 'Resp oro-nasal' recognized as type RESP (renamed to 'oro-nasal').\n",
      "Channel 'EMG submental' recognized as type EMG (renamed to 'submental').\n",
      "Channel 'Temp rectal' recognized as type TEMP (renamed to 'rectal').\n",
      "Setting channel info structure...\n",
      "Creating raw.info structure...\n",
      "Reading 0 ... 7205999  =      0.000 ... 72059.990 secs...\n"
     ]
    },
    {
     "name": "stderr",
     "output_type": "stream",
     "text": [
      "c:\\Users\\andri\\school\\bio-informatics\\internship\\donders\\vsc\\Human_SleepSCoring\\DilonAndriesse\\pre_processing\\basic_mne_functions.py:15: RuntimeWarning: Channels contain different highpass filters. Highest filter setting will be stored.\n",
      "  raw = mne.io.read_raw_edf(\n",
      "c:\\Users\\andri\\school\\bio-informatics\\internship\\donders\\vsc\\Human_SleepSCoring\\DilonAndriesse\\pre_processing\\basic_mne_functions.py:15: RuntimeWarning: Channels contain different lowpass filters. Lowest filter setting will be stored.\n",
      "  raw = mne.io.read_raw_edf(\n"
     ]
    },
    {
     "name": "stdout",
     "output_type": "stream",
     "text": [
      "First sleep starts at: 18000.0\n",
      "Last sleep ends at: 53190.0\n",
      "Cropping raw: 16200.0 - 54990.0\n",
      "Cropping finished.\n",
      "Used Annotations descriptions: [np.str_('Sleep stage 1'), np.str_('Sleep stage 2'), np.str_('Sleep stage 3'), np.str_('Sleep stage 4'), np.str_('Sleep stage R'), np.str_('Sleep stage W')]\n",
      "Extracting EDF parameters from C:\\Users\\andri\\school\\bio-informatics\\internship\\donders\\data\\human_test_data\\input\\raw_input\\SC4812G0-PSG.edf...\n",
      "EDF file detected\n",
      "Channel 'EEG Fpz-Cz' recognized as type EEG (renamed to 'Fpz-Cz').\n",
      "Channel 'EEG Pz-Oz' recognized as type EEG (renamed to 'Pz-Oz').\n",
      "Channel 'EOG horizontal' recognized as type EOG (renamed to 'horizontal').\n",
      "Channel 'Resp oro-nasal' recognized as type RESP (renamed to 'oro-nasal').\n",
      "Channel 'EMG submental' recognized as type EMG (renamed to 'submental').\n",
      "Channel 'Temp rectal' recognized as type TEMP (renamed to 'rectal').\n",
      "Setting channel info structure...\n",
      "Creating raw.info structure...\n",
      "Reading 0 ... 7247999  =      0.000 ... 72479.990 secs...\n"
     ]
    },
    {
     "name": "stderr",
     "output_type": "stream",
     "text": [
      "c:\\Users\\andri\\school\\bio-informatics\\internship\\donders\\vsc\\Human_SleepSCoring\\DilonAndriesse\\pre_processing\\basic_mne_functions.py:15: RuntimeWarning: Channels contain different highpass filters. Highest filter setting will be stored.\n",
      "  raw = mne.io.read_raw_edf(\n",
      "c:\\Users\\andri\\school\\bio-informatics\\internship\\donders\\vsc\\Human_SleepSCoring\\DilonAndriesse\\pre_processing\\basic_mne_functions.py:15: RuntimeWarning: Channels contain different lowpass filters. Lowest filter setting will be stored.\n",
      "  raw = mne.io.read_raw_edf(\n"
     ]
    },
    {
     "name": "stdout",
     "output_type": "stream",
     "text": [
      "First sleep starts at: 32430.0\n",
      "Last sleep ends at: 64380.0\n",
      "Cropping raw: 30630.0 - 66180.0\n",
      "Cropping finished.\n",
      "Used Annotations descriptions: [np.str_('Sleep stage 1'), np.str_('Sleep stage 2'), np.str_('Sleep stage 3'), np.str_('Sleep stage 4'), np.str_('Sleep stage R'), np.str_('Sleep stage W')]\n",
      "Extracting EDF parameters from C:\\Users\\andri\\school\\bio-informatics\\internship\\donders\\data\\human_test_data\\input\\raw_input\\SC4821G0-PSG.edf...\n",
      "EDF file detected\n",
      "Channel 'EEG Fpz-Cz' recognized as type EEG (renamed to 'Fpz-Cz').\n",
      "Channel 'EEG Pz-Oz' recognized as type EEG (renamed to 'Pz-Oz').\n",
      "Channel 'EOG horizontal' recognized as type EOG (renamed to 'horizontal').\n",
      "Channel 'Resp oro-nasal' recognized as type RESP (renamed to 'oro-nasal').\n",
      "Channel 'EMG submental' recognized as type EMG (renamed to 'submental').\n",
      "Channel 'Temp rectal' recognized as type TEMP (renamed to 'rectal').\n",
      "Setting channel info structure...\n",
      "Creating raw.info structure...\n",
      "Reading 0 ... 8165999  =      0.000 ... 81659.990 secs...\n"
     ]
    },
    {
     "name": "stderr",
     "output_type": "stream",
     "text": [
      "c:\\Users\\andri\\school\\bio-informatics\\internship\\donders\\vsc\\Human_SleepSCoring\\DilonAndriesse\\pre_processing\\basic_mne_functions.py:15: RuntimeWarning: Channels contain different highpass filters. Highest filter setting will be stored.\n",
      "  raw = mne.io.read_raw_edf(\n",
      "c:\\Users\\andri\\school\\bio-informatics\\internship\\donders\\vsc\\Human_SleepSCoring\\DilonAndriesse\\pre_processing\\basic_mne_functions.py:15: RuntimeWarning: Channels contain different lowpass filters. Lowest filter setting will be stored.\n",
      "  raw = mne.io.read_raw_edf(\n"
     ]
    },
    {
     "name": "stdout",
     "output_type": "stream",
     "text": [
      "First sleep starts at: 11070.0\n",
      "Last sleep ends at: 58620.0\n",
      "Cropping raw: 9270.0 - 60420.0\n",
      "Cropping finished.\n",
      "Used Annotations descriptions: [np.str_('Sleep stage 1'), np.str_('Sleep stage 2'), np.str_('Sleep stage 3'), np.str_('Sleep stage 4'), np.str_('Sleep stage R'), np.str_('Sleep stage W')]\n",
      "Extracting EDF parameters from C:\\Users\\andri\\school\\bio-informatics\\internship\\donders\\data\\human_test_data\\input\\raw_input\\SC4822G0-PSG.edf...\n",
      "EDF file detected\n",
      "Channel 'EEG Fpz-Cz' recognized as type EEG (renamed to 'Fpz-Cz').\n",
      "Channel 'EEG Pz-Oz' recognized as type EEG (renamed to 'Pz-Oz').\n",
      "Channel 'EOG horizontal' recognized as type EOG (renamed to 'horizontal').\n",
      "Channel 'Resp oro-nasal' recognized as type RESP (renamed to 'oro-nasal').\n",
      "Channel 'EMG submental' recognized as type EMG (renamed to 'submental').\n",
      "Channel 'Temp rectal' recognized as type TEMP (renamed to 'rectal').\n",
      "Setting channel info structure...\n",
      "Creating raw.info structure...\n",
      "Reading 0 ... 8429999  =      0.000 ... 84299.990 secs...\n"
     ]
    },
    {
     "name": "stderr",
     "output_type": "stream",
     "text": [
      "c:\\Users\\andri\\school\\bio-informatics\\internship\\donders\\vsc\\Human_SleepSCoring\\DilonAndriesse\\pre_processing\\basic_mne_functions.py:15: RuntimeWarning: Channels contain different highpass filters. Highest filter setting will be stored.\n",
      "  raw = mne.io.read_raw_edf(\n",
      "c:\\Users\\andri\\school\\bio-informatics\\internship\\donders\\vsc\\Human_SleepSCoring\\DilonAndriesse\\pre_processing\\basic_mne_functions.py:15: RuntimeWarning: Channels contain different lowpass filters. Lowest filter setting will be stored.\n",
      "  raw = mne.io.read_raw_edf(\n"
     ]
    },
    {
     "name": "stdout",
     "output_type": "stream",
     "text": [
      "First sleep starts at: 24120.0\n",
      "Last sleep ends at: 61500.0\n",
      "Cropping raw: 22320.0 - 63300.0\n",
      "Cropping finished.\n",
      "Used Annotations descriptions: [np.str_('Sleep stage 1'), np.str_('Sleep stage 2'), np.str_('Sleep stage 3'), np.str_('Sleep stage 4'), np.str_('Sleep stage R'), np.str_('Sleep stage W')]\n"
     ]
    }
   ],
   "source": [
    "# epoch length\n",
    "epoch = 1\n",
    "# wake time (s) to save before first sleep and after last sleep\n",
    "# (30 mins, so 30(s) * 60(s))\n",
    "wake_time = 30 * 60\n",
    "# which channels to extract\n",
    "channels = [\"Fpz-Cz\", \"Pz-Oz\", \"horizontal\", \"submental\"]\n",
    "\n",
    "# path to raw PSG files\n",
    "raw_path = \"C:/Users/andri/school/bio-informatics/internship/donders/data/human_test_data/input/raw_input\"\n",
    "# path to raw hypnogram annotation files\n",
    "anno_path = \"C:/Users/andri/school/bio-informatics/internship/donders/data/human_test_data/input/annotation_raw\"\n",
    "# path to the output for the .mat files\n",
    "output_path = \"C:/Users/andri/school/bio-informatics/internship/donders/data/human_test_data/mat_files/\"\n",
    "\n",
    "### test files (comment when not testing)\n",
    "# raw_file = \"/SC4481F0-PSG.edf\"\n",
    "# anno_file = \"/SC4481FV-Hypnogram.edf\"\n",
    "\n",
    "# iterate over both PSG and Hypno directories and get the file paths\n",
    "for raw_file, anno_file in zip(os.listdir(raw_path), os.listdir(anno_path)):\n",
    "    # empty list to store sleep stages in 1d array where each \n",
    "    # element is 1 epoch\n",
    "    sleep_states = []\n",
    "    get_annotation = False\n",
    "    subject = raw_file.split(\"/\")[-1].split(\"-\")[0]\n",
    "    # extract raw data\n",
    "    raw = bmf.read_raw_psg(f\"{raw_path}/{raw_file}\", channels)\n",
    "    anno = bmf.extract_annotation(f\"{anno_path}/{anno_file}\", raw)\n",
    "    cropped_raw = bmf.crop_data(raw, wake_time)\n",
    "    for channel in [\"Fpz-Cz\", \"Pz-Oz\", \"horizontal\", \"submental\"]:\n",
    "        cropped_raw_c = cropped_raw.copy().pick([channel])\n",
    "        while get_annotation == False:\n",
    "            sleep_events = bmf.create_sleep_events(cropped_raw_c, epoch)\n",
    "            # create array from sleep events with only sleep stages\n",
    "            for event in sleep_events:\n",
    "                sleep_states.append(int(event[-1]))\n",
    "            scipy.io.savemat(\n",
    "                f\"{output_path}{subject}_sleep_states.mat\", \n",
    "                {\"States\": sleep_states}\n",
    "            )\n",
    "            get_annotation = True\n",
    "        # rename indistinct channel names\n",
    "        if channel == \"horizontal\":\n",
    "            cropped_raw_c.rename_channels({\"horizontal\": \"EOG\"})\n",
    "            channel = \"EOG\"\n",
    "        elif channel == \"submental\":\n",
    "            cropped_raw_c.rename_channels({\"submental\":\"EMG\"})\n",
    "            channel = \"EMG\"\n",
    "        # save numpy array to .mat file format\n",
    "        scipy.io.savemat(\n",
    "            f\"{output_path}{subject}_{channel}.mat\", \n",
    "            {channel: cropped_raw_c._data.reshape((-1,1))}\n",
    "            )\n",
    "    "
   ]
  }
 ],
 "metadata": {
  "kernelspec": {
   "display_name": "rodent_model",
   "language": "python",
   "name": "python3"
  },
  "language_info": {
   "codemirror_mode": {
    "name": "ipython",
    "version": 3
   },
   "file_extension": ".py",
   "mimetype": "text/x-python",
   "name": "python",
   "nbconvert_exporter": "python",
   "pygments_lexer": "ipython3",
   "version": "3.13.5"
  }
 },
 "nbformat": 4,
 "nbformat_minor": 5
}
