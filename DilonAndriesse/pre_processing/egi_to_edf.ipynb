{
 "cells": [
  {
   "cell_type": "markdown",
   "id": "3b0c5779",
   "metadata": {},
   "source": [
    "## Imports"
   ]
  },
  {
   "cell_type": "code",
   "execution_count": 1,
   "id": "98b03e99",
   "metadata": {},
   "outputs": [],
   "source": [
    "# packages\n",
    "import mne\n",
    "import scipy.io\n",
    "from scipy.signal import hilbert\n",
    "import numpy as np\n",
    "\n",
    "# local\n",
    "import os"
   ]
  },
  {
   "cell_type": "markdown",
   "id": "c3c9fccc",
   "metadata": {},
   "source": [
    "## Functions"
   ]
  },
  {
   "cell_type": "code",
   "execution_count": 2,
   "id": "e75b682d",
   "metadata": {},
   "outputs": [],
   "source": [
    "def get_egi_file_paths(dir_path):\n",
    "    file_list = []\n",
    "\n",
    "    for dir in os.listdir(dir_path):\n",
    "        if os.path.isdir(os.path.join(dir_path, dir)):\n",
    "            for file in os.listdir(os.path.join(dir_path, dir)):\n",
    "                if \".RAW\" in file and not file.startswith(\".\"):\n",
    "                    file_list.append(os.path.join(dir_path, dir, file))\n",
    "\n",
    "    return file_list"
   ]
  },
  {
   "cell_type": "code",
   "execution_count": null,
   "id": "182c3a6e",
   "metadata": {},
   "outputs": [],
   "source": [
    "def preprocess_egi(raw):\n",
    "    raw.load_data()\n",
    "    #raw._data = mne.filter.detrend(raw._data, axis=1, order=1)\n",
    "    raw.apply_function(lambda x: mne.filter.detrend(x, axis=0, order=1), picks='all')\n",
    "\n",
    "    # bandpass filter\n",
    "    raw.filter(l_freq=0.25, h_freq=40, picks='all')\n",
    "\n",
    "    return raw"
   ]
  },
  {
   "cell_type": "markdown",
   "id": "5fd93b6d",
   "metadata": {},
   "source": [
    "## Variables"
   ]
  },
  {
   "cell_type": "code",
   "execution_count": 4,
   "id": "27031ca4",
   "metadata": {},
   "outputs": [],
   "source": [
    "# main directory for where all .RAW files can be found\n",
    "raw_egi_files = r\"D:\\MOTORWP4_DATASET\\EGI\"\n",
    "output_path = r\"D:\\dilon_data\\edf\"\n",
    "# channel used to create the new .edf file\n",
    "channels = [\n",
    "    \"E214\", \"E41\",    # frontal\n",
    "    \"E183\", \"E59\",    # central\n",
    "    \"E149\", \"E124\",   # occipital\n",
    "    \"E10\", \"E54\",     # eog\n",
    "    \"E240\", \"E243\",   # emg\n",
    "    \"E190\", \"E94\"     # references\n",
    "]\n",
    "\n",
    "channel_name = {\n",
    "    \"E214\": \"F1\", \"E41\": \"F2\",        # frontal\n",
    "    \"E183\": \"C1\", \"E59\": \"C2\",        # central\n",
    "    \"E149\": \"O1\", \"E124\": \"O2\",       # occipital\n",
    "    \"E10\": \"EOG1\", \"E54\": \"EOG2\",     # eog\n",
    "    \"E240\": \"EMG1\", \"E243\": \"EMG2\",   # emg\n",
    "}"
   ]
  },
  {
   "cell_type": "markdown",
   "id": "9dcfed72",
   "metadata": {},
   "source": [
    "## Main"
   ]
  },
  {
   "cell_type": "code",
   "execution_count": 5,
   "id": "113d3c3c",
   "metadata": {},
   "outputs": [
    {
     "name": "stdout",
     "output_type": "stream",
     "text": [
      "Retrieving list of all egi .RAW files in directory.\n",
      "Files retrieved.\n",
      "217\n"
     ]
    }
   ],
   "source": [
    "# get all .RAW filepaths\n",
    "print(\"Retrieving list of all egi .RAW files in directory.\")\n",
    "egi_file_list = get_egi_file_paths(raw_egi_files)\n",
    "print(\"Files retrieved.\")\n",
    "print(len(egi_file_list))"
   ]
  },
  {
   "cell_type": "code",
   "execution_count": 6,
   "id": "7cf09e4a",
   "metadata": {},
   "outputs": [
    {
     "name": "stdout",
     "output_type": "stream",
     "text": [
      "D:\\MOTORWP4_DATASET\\EGI\\S40\\ELECTR_S40_2 20210412 2254.RAW\n",
      "D:\\MOTORWP4_DATASET\\EGI\\S40\\MOTORWP4_S40_2 20210412 23.RAW\n",
      "D:\\MOTORWP4_DATASET\\EGI\\S35\\MOTORWP4_S35_1 20201211 2224.RAW\n",
      "D:\\MOTORWP4_DATASET\\EGI\\S35\\MOTORWP4_S35_2 20201214 22.RAW\n",
      "D:\\MOTORWP4_DATASET\\EGI\\S41\\ELECTR_S41_1 20210416 2206.RAW\n",
      "D:\\MOTORWP4_DATASET\\EGI\\S41\\ELECTR_S41_2 20210419 2157.RAW\n",
      "D:\\MOTORWP4_DATASET\\EGI\\S41\\MOTORWP4_S41_1 20210416 22.RAW\n",
      "D:\\MOTORWP4_DATASET\\EGI\\S41\\MOTORWP4_S41_2 20210419 22.RAW\n",
      "D:\\MOTORWP4_DATASET\\EGI\\S90\\ELECTR_S90_1 20220628 2232.RAW\n",
      "D:\\MOTORWP4_DATASET\\EGI\\S90\\ELECTR_S90_2 20220701 2204.RAW\n",
      "D:\\MOTORWP4_DATASET\\EGI\\S90\\MOTORWP4_S90_2 20220701 23.RAW\n",
      "D:\\MOTORWP4_DATASET\\EGI\\S42\\ELECTR_S42_1 20210423 2202.RAW\n",
      "D:\\MOTORWP4_DATASET\\EGI\\S42\\ELECTR_S42_2 20210426 2124.RAW\n",
      "D:\\MOTORWP4_DATASET\\EGI\\S42\\MOTORWP4_S42_1 20210423 22.RAW\n",
      "D:\\MOTORWP4_DATASET\\EGI\\S42\\MOTORWP4_S42_2 20210426 22.RAW\n",
      "D:\\MOTORWP4_DATASET\\EGI\\S36\\MOTORWP4_S36_1 20210125 22.RAW\n",
      "D:\\MOTORWP4_DATASET\\EGI\\S36\\MOTORWP4_S36_2 20210128 22.RAW\n",
      "D:\\MOTORWP4_DATASET\\EGI\\S89\\ELECTR_S89_1 20220815 2100.RAW\n",
      "D:\\MOTORWP4_DATASET\\EGI\\S89\\ELECTR_S89_2 20220818 2207.RAW\n",
      "D:\\MOTORWP4_DATASET\\EGI\\S89\\MOTORWP4_S89_2 20220818 22.RAW\n",
      "D:\\MOTORWP4_DATASET\\EGI\\S43\\ELECTR_S43_1 20210507 2223.RAW\n",
      "D:\\MOTORWP4_DATASET\\EGI\\S43\\ELECTR_S43_2 20210510 2158.RAW\n",
      "D:\\MOTORWP4_DATASET\\EGI\\S43\\MOTORWP4_S43_1 20210507 23.RAW\n",
      "D:\\MOTORWP4_DATASET\\EGI\\S43\\MOTORWP4_S43_2 20210510 23.RAW\n",
      "D:\\MOTORWP4_DATASET\\EGI\\S91\\ELECTR_S91_1 20220801 2111.RAW\n",
      "D:\\MOTORWP4_DATASET\\EGI\\S91\\ELECTR_S91_2 20220804 2114.RAW\n",
      "D:\\MOTORWP4_DATASET\\EGI\\S91\\MOTORWP4_S91_1 20220801 22.RAW\n",
      "D:\\MOTORWP4_DATASET\\EGI\\S91\\MOTORWP4_S91_2 20220804 22.RAW\n",
      "D:\\MOTORWP4_DATASET\\EGI\\S78\\ELECTR_S78_1 20220629 2149.RAW\n",
      "D:\\MOTORWP4_DATASET\\EGI\\S78\\ELECTR_S78_2 20220702 2244.RAW\n",
      "D:\\MOTORWP4_DATASET\\EGI\\S78\\MOTORWP4_S78_1 20220629 22.RAW\n",
      "D:\\MOTORWP4_DATASET\\EGI\\S78\\MOTORWP4_S78_2 20220702 23.RAW\n",
      "D:\\MOTORWP4_DATASET\\EGI\\S44\\ELECTR_S44_1 20210617 2154.RAW\n",
      "D:\\MOTORWP4_DATASET\\EGI\\S44\\ELECTR_S44_2 20210620 2134.RAW\n",
      "D:\\MOTORWP4_DATASET\\EGI\\S44\\MOTORWP4_S44_1 20210617 22.RAW\n",
      "D:\\MOTORWP4_DATASET\\EGI\\S44\\MOTORWP4_S44_2 20210620 22.RAW\n",
      "D:\\MOTORWP4_DATASET\\EGI\\S92\\ELECTR_S92_1 20220623 2125.RAW\n",
      "D:\\MOTORWP4_DATASET\\EGI\\S92\\ELECTR_S92_2 20220626 2101.RAW\n",
      "D:\\MOTORWP4_DATASET\\EGI\\S92\\MOTORWP4_S92_1 20220623 22.RAW\n",
      "D:\\MOTORWP4_DATASET\\EGI\\S92\\MOTORWP4_S92_2 20220626 22.RAW\n",
      "D:\\MOTORWP4_DATASET\\EGI\\S37\\MOTORWP4_S37_1 20210226 22.RAW\n",
      "D:\\MOTORWP4_DATASET\\EGI\\S37\\MOTORWP4_S37_2 20210301 22.RAW\n",
      "D:\\MOTORWP4_DATASET\\EGI\\S77\\ELECTR_S77_1 20220808 2118.RAW\n",
      "D:\\MOTORWP4_DATASET\\EGI\\S77\\ELECTR_S77_2 20220811 2145.RAW\n",
      "D:\\MOTORWP4_DATASET\\EGI\\S77\\MOTORWP4_S77_1 20220808 22.RAW\n",
      "D:\\MOTORWP4_DATASET\\EGI\\S77\\MOTORWP4_S77_2 20220811 22.RAW\n",
      "D:\\MOTORWP4_DATASET\\EGI\\S93\\ELECTR_S93_1 20220828 2119.RAW\n",
      "D:\\MOTORWP4_DATASET\\EGI\\S93\\ELECTR_S93_2 20220831 2155.RAW\n",
      "D:\\MOTORWP4_DATASET\\EGI\\S93\\MOTORWP4_S93_1 20220828 22.RAW\n",
      "D:\\MOTORWP4_DATASET\\EGI\\S93\\MOTORWP4_S93_2 20220831 22.RAW\n",
      "D:\\MOTORWP4_DATASET\\EGI\\S38\\MOTORWP4_S38_1 20210211 22.RAW\n",
      "D:\\MOTORWP4_DATASET\\EGI\\S38\\MOTORWP4_S38_2 20210214 22.RAW\n",
      "D:\\MOTORWP4_DATASET\\EGI\\S79\\ELECTR_S79_1 20220822 2217.RAW\n",
      "D:\\MOTORWP4_DATASET\\EGI\\S79\\ELECTR_S79_2 20220825 2221.RAW\n",
      "D:\\MOTORWP4_DATASET\\EGI\\S79\\MOTORWP4_S79_1 20220822 23.RAW\n",
      "D:\\MOTORWP4_DATASET\\EGI\\S79\\MOTORWP4_S79_2 20220825 23.RAW\n",
      "D:\\MOTORWP4_DATASET\\EGI\\S94\\ELECTR_S94_1 20220616 2216.RAW\n",
      "D:\\MOTORWP4_DATASET\\EGI\\S94\\ELECTR_S94_2 20220619 2206.RAW\n",
      "D:\\MOTORWP4_DATASET\\EGI\\S94\\MOTORWP4_S94_1 20220616 23.RAW\n",
      "D:\\MOTORWP4_DATASET\\EGI\\S94\\MOTORWP4_S94_2 20220619 23.RAW\n",
      "D:\\MOTORWP4_DATASET\\EGI\\S39\\MOTORWP4_S39_1 20210312 23.RAW\n",
      "D:\\MOTORWP4_DATASET\\EGI\\S39\\MOTORWP4_S39_2 20210315 23.RAW\n",
      "D:\\MOTORWP4_DATASET\\EGI\\S71\\ELECTR_S71_1 20220317 2239.RAW\n",
      "D:\\MOTORWP4_DATASET\\EGI\\S71\\ELECTR_S71_2 20220320 2223.RAW\n",
      "D:\\MOTORWP4_DATASET\\EGI\\S71\\MOTORWP4_S71_1 20220318 00.RAW\n",
      "D:\\MOTORWP4_DATASET\\EGI\\S71\\MOTORWP4_S71_2 20220320 23.RAW\n",
      "D:\\MOTORWP4_DATASET\\EGI\\S95\\ELECTR_S95_1 20220510 2137.RAW\n",
      "D:\\MOTORWP4_DATASET\\EGI\\S95\\ELECTR_S95_2 20220512 2117.RAW\n",
      "D:\\MOTORWP4_DATASET\\EGI\\S95\\MOTORWP4_S95_1 20220510 22.RAW\n",
      "D:\\MOTORWP4_DATASET\\EGI\\S95\\MOTORWP4_S95_2 20220512 22.RAW\n",
      "D:\\MOTORWP4_DATASET\\EGI\\S80\\ELECTR_S80_1 20220705 2145.RAW\n",
      "D:\\MOTORWP4_DATASET\\EGI\\S80\\ELECTR_S80_2 20220714 2254.RAW\n",
      "D:\\MOTORWP4_DATASET\\EGI\\S80\\MOTORWP4_S80_1 20220705 22.RAW\n",
      "D:\\MOTORWP4_DATASET\\EGI\\S80\\MOTORWP4_S80_2 20220714 23.RAW\n",
      "D:\\MOTORWP4_DATASET\\EGI\\S96\\ELECTR_S96_1 20220228 2238.RAW\n",
      "D:\\MOTORWP4_DATASET\\EGI\\S96\\ELECTR_S96_2 20220303 2230.RAW\n",
      "D:\\MOTORWP4_DATASET\\EGI\\S96\\MOTORWP4_S96_1 20220228 23.RAW\n",
      "D:\\MOTORWP4_DATASET\\EGI\\S96\\MOTORWP4_S96_2 20220303 23.RAW\n",
      "D:\\MOTORWP4_DATASET\\EGI\\S60\\ELECTR_S60_1 20210430 2219.RAW\n",
      "D:\\MOTORWP4_DATASET\\EGI\\S60\\ELECTR_S60_2 20210503 2201.RAW\n",
      "D:\\MOTORWP4_DATASET\\EGI\\S60\\MOTORWP4_S60_1 20210430 22.RAW\n",
      "D:\\MOTORWP4_DATASET\\EGI\\S60\\MOTORWP4_S60_2 20210503 22.RAW\n",
      "D:\\MOTORWP4_DATASET\\EGI\\S97\\ELECTR_S97_1 20220221 2148.RAW\n",
      "D:\\MOTORWP4_DATASET\\EGI\\S97\\ELECTR_S97_2 20220224 2119.RAW\n",
      "D:\\MOTORWP4_DATASET\\EGI\\S97\\MOTORWP4_S97_1 20220221 22.RAW\n",
      "D:\\MOTORWP4_DATASET\\EGI\\S97\\MOTORWP4_S97_2 20220224 21.RAW\n",
      "D:\\MOTORWP4_DATASET\\EGI\\S81\\ELECTR_S81_1 20220718 2104.RAW\n",
      "D:\\MOTORWP4_DATASET\\EGI\\S81\\ELECTR_S81_2 20220721 2112.RAW\n",
      "D:\\MOTORWP4_DATASET\\EGI\\S81\\MOTORWP4_S81_1 20220718 22.RAW\n",
      "D:\\MOTORWP4_DATASET\\EGI\\S81\\MOTORWP4_S81_2 20220721 21.RAW\n",
      "D:\\MOTORWP4_DATASET\\EGI\\S98\\ELECTR_S98_1 20220207 2146.RAW\n",
      "D:\\MOTORWP4_DATASET\\EGI\\S98\\ELECTR_S98_2 20220210 2140.RAW\n",
      "D:\\MOTORWP4_DATASET\\EGI\\S98\\MOTORWP4_S98_1 20220207 23.RAW\n",
      "D:\\MOTORWP4_DATASET\\EGI\\S98\\MOTORWP4_S98_2 20220210 22.RAW\n",
      "D:\\MOTORWP4_DATASET\\EGI\\S72\\ELECTR_S72_1 20220305 2152.RAW\n",
      "D:\\MOTORWP4_DATASET\\EGI\\S72\\ELECTR_S72_2 20220308 2148.RAW\n",
      "D:\\MOTORWP4_DATASET\\EGI\\S72\\MOTORWP4_S72_1 20220305 23.RAW\n",
      "D:\\MOTORWP4_DATASET\\EGI\\S72\\MOTORWP4_S72_2 20220308 23.RAW\n",
      "D:\\MOTORWP4_DATASET\\EGI\\S99\\ELECTR_S99_1 20220131 2221.RAW\n",
      "D:\\MOTORWP4_DATASET\\EGI\\S99\\ELECTR_S99_2 20220203 2211.RAW\n",
      "D:\\MOTORWP4_DATASET\\EGI\\S99\\MOTORWP4_S99_1 20220131 23.RAW\n",
      "D:\\MOTORWP4_DATASET\\EGI\\S99\\MOTORWP4_S99_2 20220203 23.RAW\n",
      "D:\\MOTORWP4_DATASET\\EGI\\S82\\ELECTR_S82_1 20220814 2156.RAW\n",
      "D:\\MOTORWP4_DATASET\\EGI\\S82\\ELECTR_S82_2 20220817 2149.RAW\n",
      "D:\\MOTORWP4_DATASET\\EGI\\S82\\MOTORWP4_S82_1 20220814 23.RAW\n",
      "D:\\MOTORWP4_DATASET\\EGI\\S82\\MOTORWP4_S82_2 20220817 23.RAW\n",
      "D:\\MOTORWP4_DATASET\\EGI\\S100\\ELECTR_S100_1 20220424 210.RAW\n",
      "D:\\MOTORWP4_DATASET\\EGI\\S100\\ELECTR_S100_2 20220427 211.RAW\n",
      "D:\\MOTORWP4_DATASET\\EGI\\S100\\MOTORWP4_S100_1 20220424 2.RAW\n",
      "D:\\MOTORWP4_DATASET\\EGI\\S100\\MOTORWP4_S100_2 20220427 2.RAW\n",
      "D:\\MOTORWP4_DATASET\\EGI\\S56\\ELECTR_S56_1 20210812 2127.RAW\n",
      "D:\\MOTORWP4_DATASET\\EGI\\S56\\ELECTR_S56_2 20210815 2115.RAW\n",
      "D:\\MOTORWP4_DATASET\\EGI\\S56\\MOTORWP4_S56_1 20210812 22.RAW\n",
      "D:\\MOTORWP4_DATASET\\EGI\\S56\\MOTORWP4_S56_2 20210815 22.RAW\n",
      "D:\\MOTORWP4_DATASET\\EGI\\S83\\ELECTR_S83_1 20220912 2131.RAW\n",
      "D:\\MOTORWP4_DATASET\\EGI\\S83\\ELECTR_S83_2 20220915 2134.RAW\n",
      "D:\\MOTORWP4_DATASET\\EGI\\S83\\MOTORWP4_S83_1 20220912 22.RAW\n",
      "D:\\MOTORWP4_DATASET\\EGI\\S83\\MOTORWP4_S83_2 20220915 22.RAW\n",
      "D:\\MOTORWP4_DATASET\\EGI\\S73\\ELECTR_S73_1 20220502 2240.RAW\n",
      "D:\\MOTORWP4_DATASET\\EGI\\S73\\ELECTR_S73_2 20220505 2150.RAW\n",
      "D:\\MOTORWP4_DATASET\\EGI\\S73\\MOTORWP4_S73_1 20220502 22.RAW\n",
      "D:\\MOTORWP4_DATASET\\EGI\\S73\\MOTORWP4_S73_2 20220505 22.RAW\n",
      "D:\\MOTORWP4_DATASET\\EGI\\S84\\ELECTR_S84_1 20220829 2119.RAW\n",
      "D:\\MOTORWP4_DATASET\\EGI\\S84\\ELECTR_S84_2 20220901 2146.RAW\n",
      "D:\\MOTORWP4_DATASET\\EGI\\S84\\MOTORWP4_S84_1 20220829 23.RAW\n",
      "D:\\MOTORWP4_DATASET\\EGI\\S84\\MOTORWP4_S84_2 20220901 22.RAW\n",
      "D:\\MOTORWP4_DATASET\\EGI\\S61\\MOTORWP4_S61_1 20210319 23.RAW\n",
      "D:\\MOTORWP4_DATASET\\EGI\\S61\\MOTORWP4_S61_2 20210322 22.RAW\n",
      "Creating .edf file for subject: MOTORWP4_S61_2\n",
      "Reading EGI header from D:\\MOTORWP4_DATASET\\EGI\\S61\\MOTORWP4_S61_2 20210322 22.RAW...\n",
      "    Reading events ...\n",
      "    Assembling measurement info ...\n",
      "    Excluding events {} ...\n",
      "Reading 0 ... 8058828  =      0.000 ... 32235.312 secs...\n",
      "Filtering raw data in 1 contiguous segment\n",
      "Setting up band-pass filter from 0.25 - 40 Hz\n",
      "\n",
      "FIR filter parameters\n",
      "---------------------\n",
      "Designing a one-pass, zero-phase, non-causal bandpass filter:\n",
      "- Windowed time-domain design (firwin) method\n",
      "- Hamming window with 0.0194 passband ripple and 53 dB stopband attenuation\n",
      "- Lower passband edge: 0.25\n",
      "- Lower transition bandwidth: 0.25 Hz (-6 dB cutoff frequency: 0.12 Hz)\n",
      "- Upper passband edge: 40.00 Hz\n",
      "- Upper transition bandwidth: 10.00 Hz (-6 dB cutoff frequency: 45.00 Hz)\n",
      "- Filter length: 3301 samples (13.204 s)\n",
      "\n"
     ]
    },
    {
     "name": "stderr",
     "output_type": "stream",
     "text": [
      "C:\\Users\\andri\\AppData\\Local\\Temp\\ipykernel_14436\\313904278.py:45: RuntimeWarning: The unit for channel(s) E190, E94 has changed from V to NA.\n",
      "  raw_egi.set_channel_types(\n",
      "C:\\Users\\andri\\AppData\\Local\\Temp\\ipykernel_14436\\313904278.py:56: RuntimeWarning: EDF format requires equal-length data blocks, so 0.684 seconds of edge values were appended to all channels when writing the final block.\n",
      "  raw_egi.export(os.path.join(output_path, f\"{subject}.edf\"), fmt=\"edf\")\n"
     ]
    },
    {
     "name": "stdout",
     "output_type": "stream",
     "text": [
      "D:\\MOTORWP4_DATASET\\EGI\\S85\\ELECTR_S85_1 20220725 2150.RAW\n",
      "Creating .edf file for subject: ELECTR_S85_1\n",
      "Reading EGI header from D:\\MOTORWP4_DATASET\\EGI\\S85\\ELECTR_S85_1 20220725 2150.RAW...\n",
      "    Reading events ...\n",
      "    Assembling measurement info ...\n",
      "    Excluding events {} ...\n",
      "Reading 0 ... 42764  =      0.000 ...   171.056 secs...\n",
      "Filtering raw data in 1 contiguous segment\n",
      "Setting up band-pass filter from 0.25 - 40 Hz\n",
      "\n",
      "FIR filter parameters\n",
      "---------------------\n",
      "Designing a one-pass, zero-phase, non-causal bandpass filter:\n",
      "- Windowed time-domain design (firwin) method\n",
      "- Hamming window with 0.0194 passband ripple and 53 dB stopband attenuation\n",
      "- Lower passband edge: 0.25\n",
      "- Lower transition bandwidth: 0.25 Hz (-6 dB cutoff frequency: 0.12 Hz)\n",
      "- Upper passband edge: 40.00 Hz\n",
      "- Upper transition bandwidth: 10.00 Hz (-6 dB cutoff frequency: 45.00 Hz)\n",
      "- Filter length: 3301 samples (13.204 s)\n",
      "\n",
      "D:\\MOTORWP4_DATASET\\EGI\\S85\\ELECTR_S85_2 20220728 2151.RAW\n",
      "Creating .edf file for subject: ELECTR_S85_2\n",
      "Reading EGI header from D:\\MOTORWP4_DATASET\\EGI\\S85\\ELECTR_S85_2 20220728 2151.RAW...\n",
      "    Reading events ...\n"
     ]
    },
    {
     "name": "stderr",
     "output_type": "stream",
     "text": [
      "C:\\Users\\andri\\AppData\\Local\\Temp\\ipykernel_14436\\313904278.py:45: RuntimeWarning: The unit for channel(s) E190, E94 has changed from V to NA.\n",
      "  raw_egi.set_channel_types(\n",
      "C:\\Users\\andri\\AppData\\Local\\Temp\\ipykernel_14436\\313904278.py:56: RuntimeWarning: EDF format requires equal-length data blocks, so 0.94 seconds of edge values were appended to all channels when writing the final block.\n",
      "  raw_egi.export(os.path.join(output_path, f\"{subject}.edf\"), fmt=\"edf\")\n"
     ]
    },
    {
     "name": "stdout",
     "output_type": "stream",
     "text": [
      "    Assembling measurement info ...\n",
      "    Excluding events {} ...\n",
      "Reading 0 ... 43614  =      0.000 ...   174.456 secs...\n",
      "Filtering raw data in 1 contiguous segment\n",
      "Setting up band-pass filter from 0.25 - 40 Hz\n",
      "\n",
      "FIR filter parameters\n",
      "---------------------\n",
      "Designing a one-pass, zero-phase, non-causal bandpass filter:\n",
      "- Windowed time-domain design (firwin) method\n",
      "- Hamming window with 0.0194 passband ripple and 53 dB stopband attenuation\n",
      "- Lower passband edge: 0.25\n",
      "- Lower transition bandwidth: 0.25 Hz (-6 dB cutoff frequency: 0.12 Hz)\n",
      "- Upper passband edge: 40.00 Hz\n",
      "- Upper transition bandwidth: 10.00 Hz (-6 dB cutoff frequency: 45.00 Hz)\n",
      "- Filter length: 3301 samples (13.204 s)\n",
      "\n",
      "D:\\MOTORWP4_DATASET\\EGI\\S85\\MOTORWP4_S85_1 20220725 22.RAW\n",
      "Creating .edf file for subject: MOTORWP4_S85_1\n",
      "Reading EGI header from D:\\MOTORWP4_DATASET\\EGI\\S85\\MOTORWP4_S85_1 20220725 22.RAW...\n",
      "    Reading events ...\n"
     ]
    },
    {
     "name": "stderr",
     "output_type": "stream",
     "text": [
      "C:\\Users\\andri\\AppData\\Local\\Temp\\ipykernel_14436\\313904278.py:45: RuntimeWarning: The unit for channel(s) E190, E94 has changed from V to NA.\n",
      "  raw_egi.set_channel_types(\n",
      "C:\\Users\\andri\\AppData\\Local\\Temp\\ipykernel_14436\\313904278.py:56: RuntimeWarning: EDF format requires equal-length data blocks, so 0.54 seconds of edge values were appended to all channels when writing the final block.\n",
      "  raw_egi.export(os.path.join(output_path, f\"{subject}.edf\"), fmt=\"edf\")\n"
     ]
    },
    {
     "name": "stdout",
     "output_type": "stream",
     "text": [
      "    Assembling measurement info ...\n",
      "    Excluding events {} ...\n",
      "Reading 0 ... 8530581  =      0.000 ... 34122.324 secs...\n",
      "Filtering raw data in 1 contiguous segment\n",
      "Setting up band-pass filter from 0.25 - 40 Hz\n",
      "\n",
      "FIR filter parameters\n",
      "---------------------\n",
      "Designing a one-pass, zero-phase, non-causal bandpass filter:\n",
      "- Windowed time-domain design (firwin) method\n",
      "- Hamming window with 0.0194 passband ripple and 53 dB stopband attenuation\n",
      "- Lower passband edge: 0.25\n",
      "- Lower transition bandwidth: 0.25 Hz (-6 dB cutoff frequency: 0.12 Hz)\n",
      "- Upper passband edge: 40.00 Hz\n",
      "- Upper transition bandwidth: 10.00 Hz (-6 dB cutoff frequency: 45.00 Hz)\n",
      "- Filter length: 3301 samples (13.204 s)\n",
      "\n"
     ]
    },
    {
     "name": "stderr",
     "output_type": "stream",
     "text": [
      "C:\\Users\\andri\\AppData\\Local\\Temp\\ipykernel_14436\\313904278.py:45: RuntimeWarning: The unit for channel(s) E190, E94 has changed from V to NA.\n",
      "  raw_egi.set_channel_types(\n",
      "C:\\Users\\andri\\AppData\\Local\\Temp\\ipykernel_14436\\313904278.py:56: RuntimeWarning: EDF format requires equal-length data blocks, so 0.672 seconds of edge values were appended to all channels when writing the final block.\n",
      "  raw_egi.export(os.path.join(output_path, f\"{subject}.edf\"), fmt=\"edf\")\n"
     ]
    },
    {
     "name": "stdout",
     "output_type": "stream",
     "text": [
      "D:\\MOTORWP4_DATASET\\EGI\\S85\\MOTORWP4_S85_2 20220728 23.RAW\n",
      "Creating .edf file for subject: MOTORWP4_S85_2\n",
      "Reading EGI header from D:\\MOTORWP4_DATASET\\EGI\\S85\\MOTORWP4_S85_2 20220728 23.RAW...\n",
      "    Reading events ...\n",
      "    Assembling measurement info ...\n",
      "    Excluding events {} ...\n",
      "Reading 0 ... 7837983  =      0.000 ... 31351.932 secs...\n",
      "Filtering raw data in 1 contiguous segment\n",
      "Setting up band-pass filter from 0.25 - 40 Hz\n",
      "\n",
      "FIR filter parameters\n",
      "---------------------\n",
      "Designing a one-pass, zero-phase, non-causal bandpass filter:\n",
      "- Windowed time-domain design (firwin) method\n",
      "- Hamming window with 0.0194 passband ripple and 53 dB stopband attenuation\n",
      "- Lower passband edge: 0.25\n",
      "- Lower transition bandwidth: 0.25 Hz (-6 dB cutoff frequency: 0.12 Hz)\n",
      "- Upper passband edge: 40.00 Hz\n",
      "- Upper transition bandwidth: 10.00 Hz (-6 dB cutoff frequency: 45.00 Hz)\n",
      "- Filter length: 3301 samples (13.204 s)\n",
      "\n"
     ]
    },
    {
     "name": "stderr",
     "output_type": "stream",
     "text": [
      "C:\\Users\\andri\\AppData\\Local\\Temp\\ipykernel_14436\\313904278.py:45: RuntimeWarning: The unit for channel(s) E190, E94 has changed from V to NA.\n",
      "  raw_egi.set_channel_types(\n",
      "C:\\Users\\andri\\AppData\\Local\\Temp\\ipykernel_14436\\313904278.py:56: RuntimeWarning: EDF format requires equal-length data blocks, so 0.064 seconds of edge values were appended to all channels when writing the final block.\n",
      "  raw_egi.export(os.path.join(output_path, f\"{subject}.edf\"), fmt=\"edf\")\n"
     ]
    },
    {
     "name": "stdout",
     "output_type": "stream",
     "text": [
      "D:\\MOTORWP4_DATASET\\EGI\\S74\\ELECTR_S74_1 20220404 2140.RAW\n",
      "Creating .edf file for subject: ELECTR_S74_1\n",
      "Reading EGI header from D:\\MOTORWP4_DATASET\\EGI\\S74\\ELECTR_S74_1 20220404 2140.RAW...\n",
      "    Reading events ...\n",
      "    Assembling measurement info ...\n",
      "    Excluding events {} ...\n",
      "Reading 0 ... 42801  =      0.000 ...   171.204 secs...\n",
      "Filtering raw data in 1 contiguous segment\n",
      "Setting up band-pass filter from 0.25 - 40 Hz\n",
      "\n",
      "FIR filter parameters\n",
      "---------------------\n",
      "Designing a one-pass, zero-phase, non-causal bandpass filter:\n",
      "- Windowed time-domain design (firwin) method\n",
      "- Hamming window with 0.0194 passband ripple and 53 dB stopband attenuation\n",
      "- Lower passband edge: 0.25\n",
      "- Lower transition bandwidth: 0.25 Hz (-6 dB cutoff frequency: 0.12 Hz)\n",
      "- Upper passband edge: 40.00 Hz\n",
      "- Upper transition bandwidth: 10.00 Hz (-6 dB cutoff frequency: 45.00 Hz)\n",
      "- Filter length: 3301 samples (13.204 s)\n",
      "\n",
      "D:\\MOTORWP4_DATASET\\EGI\\S74\\ELECTR_S74_2 20220407 2147.RAW\n",
      "Creating .edf file for subject: ELECTR_S74_2\n",
      "Reading EGI header from D:\\MOTORWP4_DATASET\\EGI\\S74\\ELECTR_S74_2 20220407 2147.RAW...\n",
      "    Reading events ...\n"
     ]
    },
    {
     "name": "stderr",
     "output_type": "stream",
     "text": [
      "C:\\Users\\andri\\AppData\\Local\\Temp\\ipykernel_14436\\313904278.py:45: RuntimeWarning: The unit for channel(s) E190, E94 has changed from V to NA.\n",
      "  raw_egi.set_channel_types(\n",
      "C:\\Users\\andri\\AppData\\Local\\Temp\\ipykernel_14436\\313904278.py:56: RuntimeWarning: EDF format requires equal-length data blocks, so 0.792 seconds of edge values were appended to all channels when writing the final block.\n",
      "  raw_egi.export(os.path.join(output_path, f\"{subject}.edf\"), fmt=\"edf\")\n"
     ]
    },
    {
     "name": "stdout",
     "output_type": "stream",
     "text": [
      "    Assembling measurement info ...\n",
      "    Excluding events {} ...\n",
      "Reading 0 ... 42676  =      0.000 ...   170.704 secs...\n",
      "Filtering raw data in 1 contiguous segment\n",
      "Setting up band-pass filter from 0.25 - 40 Hz\n",
      "\n",
      "FIR filter parameters\n",
      "---------------------\n",
      "Designing a one-pass, zero-phase, non-causal bandpass filter:\n",
      "- Windowed time-domain design (firwin) method\n",
      "- Hamming window with 0.0194 passband ripple and 53 dB stopband attenuation\n",
      "- Lower passband edge: 0.25\n",
      "- Lower transition bandwidth: 0.25 Hz (-6 dB cutoff frequency: 0.12 Hz)\n",
      "- Upper passband edge: 40.00 Hz\n",
      "- Upper transition bandwidth: 10.00 Hz (-6 dB cutoff frequency: 45.00 Hz)\n",
      "- Filter length: 3301 samples (13.204 s)\n",
      "\n",
      "D:\\MOTORWP4_DATASET\\EGI\\S74\\MOTORWP4_S74_1 20220404 23.RAW\n",
      "Creating .edf file for subject: MOTORWP4_S74_1\n",
      "Reading EGI header from D:\\MOTORWP4_DATASET\\EGI\\S74\\MOTORWP4_S74_1 20220404 23.RAW...\n",
      "    Reading events ...\n"
     ]
    },
    {
     "name": "stderr",
     "output_type": "stream",
     "text": [
      "C:\\Users\\andri\\AppData\\Local\\Temp\\ipykernel_14436\\313904278.py:45: RuntimeWarning: The unit for channel(s) E190, E94 has changed from V to NA.\n",
      "  raw_egi.set_channel_types(\n",
      "C:\\Users\\andri\\AppData\\Local\\Temp\\ipykernel_14436\\313904278.py:56: RuntimeWarning: EDF format requires equal-length data blocks, so 0.292 seconds of edge values were appended to all channels when writing the final block.\n",
      "  raw_egi.export(os.path.join(output_path, f\"{subject}.edf\"), fmt=\"edf\")\n"
     ]
    },
    {
     "name": "stdout",
     "output_type": "stream",
     "text": [
      "    Assembling measurement info ...\n",
      "    Excluding events {} ...\n",
      "Reading 0 ... 8544268  =      0.000 ... 34177.072 secs...\n",
      "Filtering raw data in 1 contiguous segment\n",
      "Setting up band-pass filter from 0.25 - 40 Hz\n",
      "\n",
      "FIR filter parameters\n",
      "---------------------\n",
      "Designing a one-pass, zero-phase, non-causal bandpass filter:\n",
      "- Windowed time-domain design (firwin) method\n",
      "- Hamming window with 0.0194 passband ripple and 53 dB stopband attenuation\n",
      "- Lower passband edge: 0.25\n",
      "- Lower transition bandwidth: 0.25 Hz (-6 dB cutoff frequency: 0.12 Hz)\n",
      "- Upper passband edge: 40.00 Hz\n",
      "- Upper transition bandwidth: 10.00 Hz (-6 dB cutoff frequency: 45.00 Hz)\n",
      "- Filter length: 3301 samples (13.204 s)\n",
      "\n"
     ]
    },
    {
     "name": "stderr",
     "output_type": "stream",
     "text": [
      "C:\\Users\\andri\\AppData\\Local\\Temp\\ipykernel_14436\\313904278.py:45: RuntimeWarning: The unit for channel(s) E190, E94 has changed from V to NA.\n",
      "  raw_egi.set_channel_types(\n",
      "C:\\Users\\andri\\AppData\\Local\\Temp\\ipykernel_14436\\313904278.py:56: RuntimeWarning: EDF format requires equal-length data blocks, so 0.924 seconds of edge values were appended to all channels when writing the final block.\n",
      "  raw_egi.export(os.path.join(output_path, f\"{subject}.edf\"), fmt=\"edf\")\n"
     ]
    },
    {
     "name": "stdout",
     "output_type": "stream",
     "text": [
      "D:\\MOTORWP4_DATASET\\EGI\\S74\\MOTORWP4_S74_2 20220407 23.RAW\n",
      "Creating .edf file for subject: MOTORWP4_S74_2\n",
      "Reading EGI header from D:\\MOTORWP4_DATASET\\EGI\\S74\\MOTORWP4_S74_2 20220407 23.RAW...\n",
      "    Reading events ...\n",
      "    Assembling measurement info ...\n",
      "    Excluding events {} ...\n",
      "Reading 0 ... 7808271  =      0.000 ... 31233.084 secs...\n",
      "Filtering raw data in 1 contiguous segment\n",
      "Setting up band-pass filter from 0.25 - 40 Hz\n",
      "\n",
      "FIR filter parameters\n",
      "---------------------\n",
      "Designing a one-pass, zero-phase, non-causal bandpass filter:\n",
      "- Windowed time-domain design (firwin) method\n",
      "- Hamming window with 0.0194 passband ripple and 53 dB stopband attenuation\n",
      "- Lower passband edge: 0.25\n",
      "- Lower transition bandwidth: 0.25 Hz (-6 dB cutoff frequency: 0.12 Hz)\n",
      "- Upper passband edge: 40.00 Hz\n",
      "- Upper transition bandwidth: 10.00 Hz (-6 dB cutoff frequency: 45.00 Hz)\n",
      "- Filter length: 3301 samples (13.204 s)\n",
      "\n"
     ]
    },
    {
     "name": "stderr",
     "output_type": "stream",
     "text": [
      "C:\\Users\\andri\\AppData\\Local\\Temp\\ipykernel_14436\\313904278.py:45: RuntimeWarning: The unit for channel(s) E190, E94 has changed from V to NA.\n",
      "  raw_egi.set_channel_types(\n",
      "C:\\Users\\andri\\AppData\\Local\\Temp\\ipykernel_14436\\313904278.py:56: RuntimeWarning: EDF format requires equal-length data blocks, so 0.912 seconds of edge values were appended to all channels when writing the final block.\n",
      "  raw_egi.export(os.path.join(output_path, f\"{subject}.edf\"), fmt=\"edf\")\n"
     ]
    },
    {
     "name": "stdout",
     "output_type": "stream",
     "text": [
      "D:\\MOTORWP4_DATASET\\EGI\\S86\\ELECTR_S86_1 20220906 2113.RAW\n",
      "Creating .edf file for subject: ELECTR_S86_1\n",
      "Reading EGI header from D:\\MOTORWP4_DATASET\\EGI\\S86\\ELECTR_S86_1 20220906 2113.RAW...\n",
      "    Reading events ...\n",
      "    Assembling measurement info ...\n",
      "    Excluding events {} ...\n",
      "Reading 0 ... 42713  =      0.000 ...   170.852 secs...\n",
      "Filtering raw data in 1 contiguous segment\n",
      "Setting up band-pass filter from 0.25 - 40 Hz\n",
      "\n",
      "FIR filter parameters\n",
      "---------------------\n",
      "Designing a one-pass, zero-phase, non-causal bandpass filter:\n",
      "- Windowed time-domain design (firwin) method\n",
      "- Hamming window with 0.0194 passband ripple and 53 dB stopband attenuation\n",
      "- Lower passband edge: 0.25\n",
      "- Lower transition bandwidth: 0.25 Hz (-6 dB cutoff frequency: 0.12 Hz)\n",
      "- Upper passband edge: 40.00 Hz\n",
      "- Upper transition bandwidth: 10.00 Hz (-6 dB cutoff frequency: 45.00 Hz)\n",
      "- Filter length: 3301 samples (13.204 s)\n",
      "\n",
      "D:\\MOTORWP4_DATASET\\EGI\\S86\\ELECTR_S86_2 20220909 2133.RAW\n",
      "Creating .edf file for subject: ELECTR_S86_2\n",
      "Reading EGI header from D:\\MOTORWP4_DATASET\\EGI\\S86\\ELECTR_S86_2 20220909 2133.RAW...\n",
      "    Reading events ...\n"
     ]
    },
    {
     "name": "stderr",
     "output_type": "stream",
     "text": [
      "C:\\Users\\andri\\AppData\\Local\\Temp\\ipykernel_14436\\313904278.py:45: RuntimeWarning: The unit for channel(s) E190, E94 has changed from V to NA.\n",
      "  raw_egi.set_channel_types(\n",
      "C:\\Users\\andri\\AppData\\Local\\Temp\\ipykernel_14436\\313904278.py:56: RuntimeWarning: EDF format requires equal-length data blocks, so 0.144 seconds of edge values were appended to all channels when writing the final block.\n",
      "  raw_egi.export(os.path.join(output_path, f\"{subject}.edf\"), fmt=\"edf\")\n"
     ]
    },
    {
     "name": "stdout",
     "output_type": "stream",
     "text": [
      "    Assembling measurement info ...\n",
      "    Excluding events {} ...\n",
      "Reading 0 ... 42764  =      0.000 ...   171.056 secs...\n",
      "Filtering raw data in 1 contiguous segment\n",
      "Setting up band-pass filter from 0.25 - 40 Hz\n",
      "\n",
      "FIR filter parameters\n",
      "---------------------\n",
      "Designing a one-pass, zero-phase, non-causal bandpass filter:\n",
      "- Windowed time-domain design (firwin) method\n",
      "- Hamming window with 0.0194 passband ripple and 53 dB stopband attenuation\n",
      "- Lower passband edge: 0.25\n",
      "- Lower transition bandwidth: 0.25 Hz (-6 dB cutoff frequency: 0.12 Hz)\n",
      "- Upper passband edge: 40.00 Hz\n",
      "- Upper transition bandwidth: 10.00 Hz (-6 dB cutoff frequency: 45.00 Hz)\n",
      "- Filter length: 3301 samples (13.204 s)\n",
      "\n",
      "D:\\MOTORWP4_DATASET\\EGI\\S86\\MOTORWP4_S86_1 20220906 22.RAW\n",
      "Creating .edf file for subject: MOTORWP4_S86_1\n",
      "Reading EGI header from D:\\MOTORWP4_DATASET\\EGI\\S86\\MOTORWP4_S86_1 20220906 22.RAW...\n",
      "    Reading events ...\n"
     ]
    },
    {
     "name": "stderr",
     "output_type": "stream",
     "text": [
      "C:\\Users\\andri\\AppData\\Local\\Temp\\ipykernel_14436\\313904278.py:45: RuntimeWarning: The unit for channel(s) E190, E94 has changed from V to NA.\n",
      "  raw_egi.set_channel_types(\n",
      "C:\\Users\\andri\\AppData\\Local\\Temp\\ipykernel_14436\\313904278.py:56: RuntimeWarning: EDF format requires equal-length data blocks, so 0.94 seconds of edge values were appended to all channels when writing the final block.\n",
      "  raw_egi.export(os.path.join(output_path, f\"{subject}.edf\"), fmt=\"edf\")\n"
     ]
    },
    {
     "name": "stdout",
     "output_type": "stream",
     "text": [
      "    Assembling measurement info ...\n",
      "    Excluding events {} ...\n",
      "Reading 0 ... 9705804  =      0.000 ... 38823.216 secs...\n",
      "Filtering raw data in 1 contiguous segment\n",
      "Setting up band-pass filter from 0.25 - 40 Hz\n",
      "\n",
      "FIR filter parameters\n",
      "---------------------\n",
      "Designing a one-pass, zero-phase, non-causal bandpass filter:\n",
      "- Windowed time-domain design (firwin) method\n",
      "- Hamming window with 0.0194 passband ripple and 53 dB stopband attenuation\n",
      "- Lower passband edge: 0.25\n",
      "- Lower transition bandwidth: 0.25 Hz (-6 dB cutoff frequency: 0.12 Hz)\n",
      "- Upper passband edge: 40.00 Hz\n",
      "- Upper transition bandwidth: 10.00 Hz (-6 dB cutoff frequency: 45.00 Hz)\n",
      "- Filter length: 3301 samples (13.204 s)\n",
      "\n"
     ]
    },
    {
     "name": "stderr",
     "output_type": "stream",
     "text": [
      "C:\\Users\\andri\\AppData\\Local\\Temp\\ipykernel_14436\\313904278.py:45: RuntimeWarning: The unit for channel(s) E190, E94 has changed from V to NA.\n",
      "  raw_egi.set_channel_types(\n",
      "C:\\Users\\andri\\AppData\\Local\\Temp\\ipykernel_14436\\313904278.py:56: RuntimeWarning: EDF format requires equal-length data blocks, so 0.78 seconds of edge values were appended to all channels when writing the final block.\n",
      "  raw_egi.export(os.path.join(output_path, f\"{subject}.edf\"), fmt=\"edf\")\n"
     ]
    },
    {
     "name": "stdout",
     "output_type": "stream",
     "text": [
      "D:\\MOTORWP4_DATASET\\EGI\\S86\\MOTORWP4_S86_2 20220909 22.RAW\n",
      "Creating .edf file for subject: MOTORWP4_S86_2\n",
      "Reading EGI header from D:\\MOTORWP4_DATASET\\EGI\\S86\\MOTORWP4_S86_2 20220909 22.RAW...\n",
      "    Reading events ...\n",
      "    Assembling measurement info ...\n",
      "    Excluding events {} ...\n",
      "Reading 0 ... 8752955  =      0.000 ... 35011.820 secs...\n",
      "Filtering raw data in 1 contiguous segment\n",
      "Setting up band-pass filter from 0.25 - 40 Hz\n",
      "\n",
      "FIR filter parameters\n",
      "---------------------\n",
      "Designing a one-pass, zero-phase, non-causal bandpass filter:\n",
      "- Windowed time-domain design (firwin) method\n",
      "- Hamming window with 0.0194 passband ripple and 53 dB stopband attenuation\n",
      "- Lower passband edge: 0.25\n",
      "- Lower transition bandwidth: 0.25 Hz (-6 dB cutoff frequency: 0.12 Hz)\n",
      "- Upper passband edge: 40.00 Hz\n",
      "- Upper transition bandwidth: 10.00 Hz (-6 dB cutoff frequency: 45.00 Hz)\n",
      "- Filter length: 3301 samples (13.204 s)\n",
      "\n"
     ]
    },
    {
     "name": "stderr",
     "output_type": "stream",
     "text": [
      "C:\\Users\\andri\\AppData\\Local\\Temp\\ipykernel_14436\\313904278.py:45: RuntimeWarning: The unit for channel(s) E190, E94 has changed from V to NA.\n",
      "  raw_egi.set_channel_types(\n",
      "C:\\Users\\andri\\AppData\\Local\\Temp\\ipykernel_14436\\313904278.py:56: RuntimeWarning: EDF format requires equal-length data blocks, so 0.176 seconds of edge values were appended to all channels when writing the final block.\n",
      "  raw_egi.export(os.path.join(output_path, f\"{subject}.edf\"), fmt=\"edf\")\n"
     ]
    },
    {
     "name": "stdout",
     "output_type": "stream",
     "text": [
      "D:\\MOTORWP4_DATASET\\EGI\\S55\\ELECTR_S55_1 20210821 2159.RAW\n",
      "Creating .edf file for subject: ELECTR_S55_1\n",
      "Reading EGI header from D:\\MOTORWP4_DATASET\\EGI\\S55\\ELECTR_S55_1 20210821 2159.RAW...\n",
      "    Reading events ...\n",
      "    Assembling measurement info ...\n",
      "    Excluding events {} ...\n",
      "Reading 0 ... 42709  =      0.000 ...   170.836 secs...\n",
      "Filtering raw data in 1 contiguous segment\n",
      "Setting up band-pass filter from 0.25 - 40 Hz\n",
      "\n",
      "FIR filter parameters\n",
      "---------------------\n",
      "Designing a one-pass, zero-phase, non-causal bandpass filter:\n",
      "- Windowed time-domain design (firwin) method\n",
      "- Hamming window with 0.0194 passband ripple and 53 dB stopband attenuation\n",
      "- Lower passband edge: 0.25\n",
      "- Lower transition bandwidth: 0.25 Hz (-6 dB cutoff frequency: 0.12 Hz)\n",
      "- Upper passband edge: 40.00 Hz\n",
      "- Upper transition bandwidth: 10.00 Hz (-6 dB cutoff frequency: 45.00 Hz)\n",
      "- Filter length: 3301 samples (13.204 s)\n",
      "\n",
      "D:\\MOTORWP4_DATASET\\EGI\\S55\\ELECTR_S55_2 20210823 2152.RAW\n",
      "Creating .edf file for subject: ELECTR_S55_2\n",
      "Reading EGI header from D:\\MOTORWP4_DATASET\\EGI\\S55\\ELECTR_S55_2 20210823 2152.RAW...\n",
      "    Reading events ...\n"
     ]
    },
    {
     "name": "stderr",
     "output_type": "stream",
     "text": [
      "C:\\Users\\andri\\AppData\\Local\\Temp\\ipykernel_14436\\313904278.py:45: RuntimeWarning: The unit for channel(s) E190, E94 has changed from V to NA.\n",
      "  raw_egi.set_channel_types(\n",
      "C:\\Users\\andri\\AppData\\Local\\Temp\\ipykernel_14436\\313904278.py:56: RuntimeWarning: EDF format requires equal-length data blocks, so 0.16 seconds of edge values were appended to all channels when writing the final block.\n",
      "  raw_egi.export(os.path.join(output_path, f\"{subject}.edf\"), fmt=\"edf\")\n"
     ]
    },
    {
     "name": "stdout",
     "output_type": "stream",
     "text": [
      "    Assembling measurement info ...\n",
      "    Excluding events {} ...\n",
      "Reading 0 ... 42601  =      0.000 ...   170.404 secs...\n",
      "Filtering raw data in 1 contiguous segment\n",
      "Setting up band-pass filter from 0.25 - 40 Hz\n",
      "\n",
      "FIR filter parameters\n",
      "---------------------\n",
      "Designing a one-pass, zero-phase, non-causal bandpass filter:\n",
      "- Windowed time-domain design (firwin) method\n",
      "- Hamming window with 0.0194 passband ripple and 53 dB stopband attenuation\n",
      "- Lower passband edge: 0.25\n",
      "- Lower transition bandwidth: 0.25 Hz (-6 dB cutoff frequency: 0.12 Hz)\n",
      "- Upper passband edge: 40.00 Hz\n",
      "- Upper transition bandwidth: 10.00 Hz (-6 dB cutoff frequency: 45.00 Hz)\n",
      "- Filter length: 3301 samples (13.204 s)\n",
      "\n",
      "D:\\MOTORWP4_DATASET\\EGI\\S55\\MOTORWP4_S55_1 20210821 23.RAW\n",
      "Creating .edf file for subject: MOTORWP4_S55_1\n",
      "Reading EGI header from D:\\MOTORWP4_DATASET\\EGI\\S55\\MOTORWP4_S55_1 20210821 23.RAW...\n",
      "    Reading events ...\n"
     ]
    },
    {
     "name": "stderr",
     "output_type": "stream",
     "text": [
      "C:\\Users\\andri\\AppData\\Local\\Temp\\ipykernel_14436\\313904278.py:45: RuntimeWarning: The unit for channel(s) E190, E94 has changed from V to NA.\n",
      "  raw_egi.set_channel_types(\n",
      "C:\\Users\\andri\\AppData\\Local\\Temp\\ipykernel_14436\\313904278.py:56: RuntimeWarning: EDF format requires equal-length data blocks, so 0.592 seconds of edge values were appended to all channels when writing the final block.\n",
      "  raw_egi.export(os.path.join(output_path, f\"{subject}.edf\"), fmt=\"edf\")\n"
     ]
    },
    {
     "name": "stdout",
     "output_type": "stream",
     "text": [
      "    Assembling measurement info ...\n",
      "    Excluding events {} ...\n",
      "Reading 0 ... 8155259  =      0.000 ... 32621.036 secs...\n",
      "Filtering raw data in 1 contiguous segment\n",
      "Setting up band-pass filter from 0.25 - 40 Hz\n",
      "\n",
      "FIR filter parameters\n",
      "---------------------\n",
      "Designing a one-pass, zero-phase, non-causal bandpass filter:\n",
      "- Windowed time-domain design (firwin) method\n",
      "- Hamming window with 0.0194 passband ripple and 53 dB stopband attenuation\n",
      "- Lower passband edge: 0.25\n",
      "- Lower transition bandwidth: 0.25 Hz (-6 dB cutoff frequency: 0.12 Hz)\n",
      "- Upper passband edge: 40.00 Hz\n",
      "- Upper transition bandwidth: 10.00 Hz (-6 dB cutoff frequency: 45.00 Hz)\n",
      "- Filter length: 3301 samples (13.204 s)\n",
      "\n"
     ]
    },
    {
     "name": "stderr",
     "output_type": "stream",
     "text": [
      "C:\\Users\\andri\\AppData\\Local\\Temp\\ipykernel_14436\\313904278.py:45: RuntimeWarning: The unit for channel(s) E190, E94 has changed from V to NA.\n",
      "  raw_egi.set_channel_types(\n",
      "C:\\Users\\andri\\AppData\\Local\\Temp\\ipykernel_14436\\313904278.py:56: RuntimeWarning: EDF format requires equal-length data blocks, so 0.96 seconds of edge values were appended to all channels when writing the final block.\n",
      "  raw_egi.export(os.path.join(output_path, f\"{subject}.edf\"), fmt=\"edf\")\n"
     ]
    },
    {
     "name": "stdout",
     "output_type": "stream",
     "text": [
      "D:\\MOTORWP4_DATASET\\EGI\\S55\\MOTORWP4_S55_2 20210823 22.RAW\n",
      "Creating .edf file for subject: MOTORWP4_S55_2\n",
      "Reading EGI header from D:\\MOTORWP4_DATASET\\EGI\\S55\\MOTORWP4_S55_2 20210823 22.RAW...\n",
      "    Reading events ...\n",
      "    Assembling measurement info ...\n",
      "    Excluding events {} ...\n",
      "Reading 0 ... 7664881  =      0.000 ... 30659.524 secs...\n",
      "Filtering raw data in 1 contiguous segment\n",
      "Setting up band-pass filter from 0.25 - 40 Hz\n",
      "\n",
      "FIR filter parameters\n",
      "---------------------\n",
      "Designing a one-pass, zero-phase, non-causal bandpass filter:\n",
      "- Windowed time-domain design (firwin) method\n",
      "- Hamming window with 0.0194 passband ripple and 53 dB stopband attenuation\n",
      "- Lower passband edge: 0.25\n",
      "- Lower transition bandwidth: 0.25 Hz (-6 dB cutoff frequency: 0.12 Hz)\n",
      "- Upper passband edge: 40.00 Hz\n",
      "- Upper transition bandwidth: 10.00 Hz (-6 dB cutoff frequency: 45.00 Hz)\n",
      "- Filter length: 3301 samples (13.204 s)\n",
      "\n"
     ]
    },
    {
     "name": "stderr",
     "output_type": "stream",
     "text": [
      "C:\\Users\\andri\\AppData\\Local\\Temp\\ipykernel_14436\\313904278.py:45: RuntimeWarning: The unit for channel(s) E190, E94 has changed from V to NA.\n",
      "  raw_egi.set_channel_types(\n",
      "C:\\Users\\andri\\AppData\\Local\\Temp\\ipykernel_14436\\313904278.py:56: RuntimeWarning: EDF format requires equal-length data blocks, so 0.472 seconds of edge values were appended to all channels when writing the final block.\n",
      "  raw_egi.export(os.path.join(output_path, f\"{subject}.edf\"), fmt=\"edf\")\n"
     ]
    },
    {
     "name": "stdout",
     "output_type": "stream",
     "text": [
      "D:\\MOTORWP4_DATASET\\EGI\\S87\\ELECTR_S87_1 20220905 2203.RAW\n",
      "Creating .edf file for subject: ELECTR_S87_1\n",
      "Reading EGI header from D:\\MOTORWP4_DATASET\\EGI\\S87\\ELECTR_S87_1 20220905 2203.RAW...\n",
      "    Reading events ...\n",
      "    Assembling measurement info ...\n",
      "    Excluding events {} ...\n",
      "Reading 0 ... 42701  =      0.000 ...   170.804 secs...\n",
      "Filtering raw data in 1 contiguous segment\n",
      "Setting up band-pass filter from 0.25 - 40 Hz\n",
      "\n",
      "FIR filter parameters\n",
      "---------------------\n",
      "Designing a one-pass, zero-phase, non-causal bandpass filter:\n",
      "- Windowed time-domain design (firwin) method\n",
      "- Hamming window with 0.0194 passband ripple and 53 dB stopband attenuation\n",
      "- Lower passband edge: 0.25\n",
      "- Lower transition bandwidth: 0.25 Hz (-6 dB cutoff frequency: 0.12 Hz)\n",
      "- Upper passband edge: 40.00 Hz\n",
      "- Upper transition bandwidth: 10.00 Hz (-6 dB cutoff frequency: 45.00 Hz)\n",
      "- Filter length: 3301 samples (13.204 s)\n",
      "\n",
      "D:\\MOTORWP4_DATASET\\EGI\\S87\\ELECTR_S87_2 20220908 2230.RAW\n",
      "Creating .edf file for subject: ELECTR_S87_2\n",
      "Reading EGI header from D:\\MOTORWP4_DATASET\\EGI\\S87\\ELECTR_S87_2 20220908 2230.RAW...\n",
      "    Reading events ...\n"
     ]
    },
    {
     "name": "stderr",
     "output_type": "stream",
     "text": [
      "C:\\Users\\andri\\AppData\\Local\\Temp\\ipykernel_14436\\313904278.py:45: RuntimeWarning: The unit for channel(s) E190, E94 has changed from V to NA.\n",
      "  raw_egi.set_channel_types(\n",
      "C:\\Users\\andri\\AppData\\Local\\Temp\\ipykernel_14436\\313904278.py:56: RuntimeWarning: EDF format requires equal-length data blocks, so 0.192 seconds of edge values were appended to all channels when writing the final block.\n",
      "  raw_egi.export(os.path.join(output_path, f\"{subject}.edf\"), fmt=\"edf\")\n"
     ]
    },
    {
     "name": "stdout",
     "output_type": "stream",
     "text": [
      "    Assembling measurement info ...\n",
      "    Excluding events {} ...\n",
      "Reading 0 ... 42663  =      0.000 ...   170.652 secs...\n",
      "Filtering raw data in 1 contiguous segment\n",
      "Setting up band-pass filter from 0.25 - 40 Hz\n",
      "\n",
      "FIR filter parameters\n",
      "---------------------\n",
      "Designing a one-pass, zero-phase, non-causal bandpass filter:\n",
      "- Windowed time-domain design (firwin) method\n",
      "- Hamming window with 0.0194 passband ripple and 53 dB stopband attenuation\n",
      "- Lower passband edge: 0.25\n",
      "- Lower transition bandwidth: 0.25 Hz (-6 dB cutoff frequency: 0.12 Hz)\n",
      "- Upper passband edge: 40.00 Hz\n",
      "- Upper transition bandwidth: 10.00 Hz (-6 dB cutoff frequency: 45.00 Hz)\n",
      "- Filter length: 3301 samples (13.204 s)\n",
      "\n",
      "D:\\MOTORWP4_DATASET\\EGI\\S87\\MOTORWP4_S87_1 20220905 23.RAW\n",
      "Creating .edf file for subject: MOTORWP4_S87_1\n",
      "Reading EGI header from D:\\MOTORWP4_DATASET\\EGI\\S87\\MOTORWP4_S87_1 20220905 23.RAW...\n",
      "    Reading events ...\n"
     ]
    },
    {
     "name": "stderr",
     "output_type": "stream",
     "text": [
      "C:\\Users\\andri\\AppData\\Local\\Temp\\ipykernel_14436\\313904278.py:45: RuntimeWarning: The unit for channel(s) E190, E94 has changed from V to NA.\n",
      "  raw_egi.set_channel_types(\n",
      "C:\\Users\\andri\\AppData\\Local\\Temp\\ipykernel_14436\\313904278.py:56: RuntimeWarning: EDF format requires equal-length data blocks, so 0.344 seconds of edge values were appended to all channels when writing the final block.\n",
      "  raw_egi.export(os.path.join(output_path, f\"{subject}.edf\"), fmt=\"edf\")\n"
     ]
    },
    {
     "name": "stdout",
     "output_type": "stream",
     "text": [
      "    Assembling measurement info ...\n",
      "    Excluding events {} ...\n",
      "Reading 0 ... 7611033  =      0.000 ... 30444.132 secs...\n",
      "Filtering raw data in 1 contiguous segment\n",
      "Setting up band-pass filter from 0.25 - 40 Hz\n",
      "\n",
      "FIR filter parameters\n",
      "---------------------\n",
      "Designing a one-pass, zero-phase, non-causal bandpass filter:\n",
      "- Windowed time-domain design (firwin) method\n",
      "- Hamming window with 0.0194 passband ripple and 53 dB stopband attenuation\n",
      "- Lower passband edge: 0.25\n",
      "- Lower transition bandwidth: 0.25 Hz (-6 dB cutoff frequency: 0.12 Hz)\n",
      "- Upper passband edge: 40.00 Hz\n",
      "- Upper transition bandwidth: 10.00 Hz (-6 dB cutoff frequency: 45.00 Hz)\n",
      "- Filter length: 3301 samples (13.204 s)\n",
      "\n"
     ]
    },
    {
     "name": "stderr",
     "output_type": "stream",
     "text": [
      "C:\\Users\\andri\\AppData\\Local\\Temp\\ipykernel_14436\\313904278.py:45: RuntimeWarning: The unit for channel(s) E190, E94 has changed from V to NA.\n",
      "  raw_egi.set_channel_types(\n",
      "C:\\Users\\andri\\AppData\\Local\\Temp\\ipykernel_14436\\313904278.py:56: RuntimeWarning: EDF format requires equal-length data blocks, so 0.864 seconds of edge values were appended to all channels when writing the final block.\n",
      "  raw_egi.export(os.path.join(output_path, f\"{subject}.edf\"), fmt=\"edf\")\n"
     ]
    },
    {
     "name": "stdout",
     "output_type": "stream",
     "text": [
      "D:\\MOTORWP4_DATASET\\EGI\\S87\\MOTORWP4_S87_2 20220908 23.RAW\n",
      "Creating .edf file for subject: MOTORWP4_S87_2\n",
      "Reading EGI header from D:\\MOTORWP4_DATASET\\EGI\\S87\\MOTORWP4_S87_2 20220908 23.RAW...\n",
      "    Reading events ...\n",
      "    Assembling measurement info ...\n",
      "    Excluding events {} ...\n",
      "Reading 0 ... 7475425  =      0.000 ... 29901.700 secs...\n",
      "Filtering raw data in 1 contiguous segment\n",
      "Setting up band-pass filter from 0.25 - 40 Hz\n",
      "\n",
      "FIR filter parameters\n",
      "---------------------\n",
      "Designing a one-pass, zero-phase, non-causal bandpass filter:\n",
      "- Windowed time-domain design (firwin) method\n",
      "- Hamming window with 0.0194 passband ripple and 53 dB stopband attenuation\n",
      "- Lower passband edge: 0.25\n",
      "- Lower transition bandwidth: 0.25 Hz (-6 dB cutoff frequency: 0.12 Hz)\n",
      "- Upper passband edge: 40.00 Hz\n",
      "- Upper transition bandwidth: 10.00 Hz (-6 dB cutoff frequency: 45.00 Hz)\n",
      "- Filter length: 3301 samples (13.204 s)\n",
      "\n"
     ]
    },
    {
     "name": "stderr",
     "output_type": "stream",
     "text": [
      "C:\\Users\\andri\\AppData\\Local\\Temp\\ipykernel_14436\\313904278.py:45: RuntimeWarning: The unit for channel(s) E190, E94 has changed from V to NA.\n",
      "  raw_egi.set_channel_types(\n",
      "C:\\Users\\andri\\AppData\\Local\\Temp\\ipykernel_14436\\313904278.py:56: RuntimeWarning: EDF format requires equal-length data blocks, so 0.296 seconds of edge values were appended to all channels when writing the final block.\n",
      "  raw_egi.export(os.path.join(output_path, f\"{subject}.edf\"), fmt=\"edf\")\n"
     ]
    },
    {
     "name": "stdout",
     "output_type": "stream",
     "text": [
      "D:\\MOTORWP4_DATASET\\EGI\\S75\\ELECTR_S75_1 20220328 2123.RAW\n",
      "Creating .edf file for subject: ELECTR_S75_1\n",
      "Reading EGI header from D:\\MOTORWP4_DATASET\\EGI\\S75\\ELECTR_S75_1 20220328 2123.RAW...\n",
      "    Reading events ...\n",
      "    Assembling measurement info ...\n",
      "    Excluding events {} ...\n",
      "Reading 0 ... 42739  =      0.000 ...   170.956 secs...\n",
      "Filtering raw data in 1 contiguous segment\n",
      "Setting up band-pass filter from 0.25 - 40 Hz\n",
      "\n",
      "FIR filter parameters\n",
      "---------------------\n",
      "Designing a one-pass, zero-phase, non-causal bandpass filter:\n",
      "- Windowed time-domain design (firwin) method\n",
      "- Hamming window with 0.0194 passband ripple and 53 dB stopband attenuation\n",
      "- Lower passband edge: 0.25\n",
      "- Lower transition bandwidth: 0.25 Hz (-6 dB cutoff frequency: 0.12 Hz)\n",
      "- Upper passband edge: 40.00 Hz\n",
      "- Upper transition bandwidth: 10.00 Hz (-6 dB cutoff frequency: 45.00 Hz)\n",
      "- Filter length: 3301 samples (13.204 s)\n",
      "\n",
      "D:\\MOTORWP4_DATASET\\EGI\\S75\\ELECTR_S75_2 20220331 2116.RAW\n",
      "Creating .edf file for subject: ELECTR_S75_2\n",
      "Reading EGI header from D:\\MOTORWP4_DATASET\\EGI\\S75\\ELECTR_S75_2 20220331 2116.RAW...\n",
      "    Reading events ...\n"
     ]
    },
    {
     "name": "stderr",
     "output_type": "stream",
     "text": [
      "C:\\Users\\andri\\AppData\\Local\\Temp\\ipykernel_14436\\313904278.py:45: RuntimeWarning: The unit for channel(s) E190, E94 has changed from V to NA.\n",
      "  raw_egi.set_channel_types(\n",
      "C:\\Users\\andri\\AppData\\Local\\Temp\\ipykernel_14436\\313904278.py:56: RuntimeWarning: EDF format requires equal-length data blocks, so 0.04 seconds of edge values were appended to all channels when writing the final block.\n",
      "  raw_egi.export(os.path.join(output_path, f\"{subject}.edf\"), fmt=\"edf\")\n"
     ]
    },
    {
     "name": "stdout",
     "output_type": "stream",
     "text": [
      "    Assembling measurement info ...\n",
      "    Excluding events {} ...\n",
      "Reading 0 ... 42813  =      0.000 ...   171.252 secs...\n",
      "Filtering raw data in 1 contiguous segment\n",
      "Setting up band-pass filter from 0.25 - 40 Hz\n",
      "\n",
      "FIR filter parameters\n",
      "---------------------\n",
      "Designing a one-pass, zero-phase, non-causal bandpass filter:\n",
      "- Windowed time-domain design (firwin) method\n",
      "- Hamming window with 0.0194 passband ripple and 53 dB stopband attenuation\n",
      "- Lower passband edge: 0.25\n",
      "- Lower transition bandwidth: 0.25 Hz (-6 dB cutoff frequency: 0.12 Hz)\n",
      "- Upper passband edge: 40.00 Hz\n",
      "- Upper transition bandwidth: 10.00 Hz (-6 dB cutoff frequency: 45.00 Hz)\n",
      "- Filter length: 3301 samples (13.204 s)\n",
      "\n",
      "D:\\MOTORWP4_DATASET\\EGI\\S75\\MOTORWP4_S75_1 20220328 22.RAW\n",
      "Creating .edf file for subject: MOTORWP4_S75_1\n",
      "Reading EGI header from D:\\MOTORWP4_DATASET\\EGI\\S75\\MOTORWP4_S75_1 20220328 22.RAW...\n",
      "    Reading events ...\n"
     ]
    },
    {
     "name": "stderr",
     "output_type": "stream",
     "text": [
      "C:\\Users\\andri\\AppData\\Local\\Temp\\ipykernel_14436\\313904278.py:45: RuntimeWarning: The unit for channel(s) E190, E94 has changed from V to NA.\n",
      "  raw_egi.set_channel_types(\n",
      "C:\\Users\\andri\\AppData\\Local\\Temp\\ipykernel_14436\\313904278.py:56: RuntimeWarning: EDF format requires equal-length data blocks, so 0.744 seconds of edge values were appended to all channels when writing the final block.\n",
      "  raw_egi.export(os.path.join(output_path, f\"{subject}.edf\"), fmt=\"edf\")\n"
     ]
    },
    {
     "name": "stdout",
     "output_type": "stream",
     "text": [
      "    Assembling measurement info ...\n",
      "    Excluding events {} ...\n",
      "Reading 0 ... 8658202  =      0.000 ... 34632.808 secs...\n",
      "Filtering raw data in 1 contiguous segment\n",
      "Setting up band-pass filter from 0.25 - 40 Hz\n",
      "\n",
      "FIR filter parameters\n",
      "---------------------\n",
      "Designing a one-pass, zero-phase, non-causal bandpass filter:\n",
      "- Windowed time-domain design (firwin) method\n",
      "- Hamming window with 0.0194 passband ripple and 53 dB stopband attenuation\n",
      "- Lower passband edge: 0.25\n",
      "- Lower transition bandwidth: 0.25 Hz (-6 dB cutoff frequency: 0.12 Hz)\n",
      "- Upper passband edge: 40.00 Hz\n",
      "- Upper transition bandwidth: 10.00 Hz (-6 dB cutoff frequency: 45.00 Hz)\n",
      "- Filter length: 3301 samples (13.204 s)\n",
      "\n"
     ]
    },
    {
     "name": "stderr",
     "output_type": "stream",
     "text": [
      "C:\\Users\\andri\\AppData\\Local\\Temp\\ipykernel_14436\\313904278.py:45: RuntimeWarning: The unit for channel(s) E190, E94 has changed from V to NA.\n",
      "  raw_egi.set_channel_types(\n",
      "C:\\Users\\andri\\AppData\\Local\\Temp\\ipykernel_14436\\313904278.py:56: RuntimeWarning: EDF format requires equal-length data blocks, so 0.188 seconds of edge values were appended to all channels when writing the final block.\n",
      "  raw_egi.export(os.path.join(output_path, f\"{subject}.edf\"), fmt=\"edf\")\n"
     ]
    },
    {
     "name": "stdout",
     "output_type": "stream",
     "text": [
      "D:\\MOTORWP4_DATASET\\EGI\\S75\\MOTORWP4_S75_2 20220331 22.RAW\n",
      "Creating .edf file for subject: MOTORWP4_S75_2\n",
      "Reading EGI header from D:\\MOTORWP4_DATASET\\EGI\\S75\\MOTORWP4_S75_2 20220331 22.RAW...\n",
      "    Reading events ...\n",
      "    Assembling measurement info ...\n",
      "    Excluding events {} ...\n",
      "Reading 0 ... 8374500  =      0.000 ... 33498.000 secs...\n",
      "Filtering raw data in 1 contiguous segment\n",
      "Setting up band-pass filter from 0.25 - 40 Hz\n",
      "\n",
      "FIR filter parameters\n",
      "---------------------\n",
      "Designing a one-pass, zero-phase, non-causal bandpass filter:\n",
      "- Windowed time-domain design (firwin) method\n",
      "- Hamming window with 0.0194 passband ripple and 53 dB stopband attenuation\n",
      "- Lower passband edge: 0.25\n",
      "- Lower transition bandwidth: 0.25 Hz (-6 dB cutoff frequency: 0.12 Hz)\n",
      "- Upper passband edge: 40.00 Hz\n",
      "- Upper transition bandwidth: 10.00 Hz (-6 dB cutoff frequency: 45.00 Hz)\n",
      "- Filter length: 3301 samples (13.204 s)\n",
      "\n"
     ]
    },
    {
     "name": "stderr",
     "output_type": "stream",
     "text": [
      "C:\\Users\\andri\\AppData\\Local\\Temp\\ipykernel_14436\\313904278.py:45: RuntimeWarning: The unit for channel(s) E190, E94 has changed from V to NA.\n",
      "  raw_egi.set_channel_types(\n",
      "C:\\Users\\andri\\AppData\\Local\\Temp\\ipykernel_14436\\313904278.py:56: RuntimeWarning: EDF format requires equal-length data blocks, so 0.996 seconds of edge values were appended to all channels when writing the final block.\n",
      "  raw_egi.export(os.path.join(output_path, f\"{subject}.edf\"), fmt=\"edf\")\n"
     ]
    },
    {
     "name": "stdout",
     "output_type": "stream",
     "text": [
      "D:\\MOTORWP4_DATASET\\EGI\\S88\\ELECTR_S88_1 20220802 2124.RAW\n",
      "Creating .edf file for subject: ELECTR_S88_1\n",
      "Reading EGI header from D:\\MOTORWP4_DATASET\\EGI\\S88\\ELECTR_S88_1 20220802 2124.RAW...\n",
      "    Reading events ...\n",
      "    Assembling measurement info ...\n",
      "    Excluding events {} ...\n",
      "Reading 0 ... 43289  =      0.000 ...   173.156 secs...\n",
      "Filtering raw data in 1 contiguous segment\n",
      "Setting up band-pass filter from 0.25 - 40 Hz\n",
      "\n",
      "FIR filter parameters\n",
      "---------------------\n",
      "Designing a one-pass, zero-phase, non-causal bandpass filter:\n",
      "- Windowed time-domain design (firwin) method\n",
      "- Hamming window with 0.0194 passband ripple and 53 dB stopband attenuation\n",
      "- Lower passband edge: 0.25\n",
      "- Lower transition bandwidth: 0.25 Hz (-6 dB cutoff frequency: 0.12 Hz)\n",
      "- Upper passband edge: 40.00 Hz\n",
      "- Upper transition bandwidth: 10.00 Hz (-6 dB cutoff frequency: 45.00 Hz)\n",
      "- Filter length: 3301 samples (13.204 s)\n",
      "\n",
      "D:\\MOTORWP4_DATASET\\EGI\\S88\\ELECTR_S88_2 20220805 2226.RAW\n",
      "Creating .edf file for subject: ELECTR_S88_2\n",
      "Reading EGI header from D:\\MOTORWP4_DATASET\\EGI\\S88\\ELECTR_S88_2 20220805 2226.RAW...\n",
      "    Reading events ...\n"
     ]
    },
    {
     "name": "stderr",
     "output_type": "stream",
     "text": [
      "C:\\Users\\andri\\AppData\\Local\\Temp\\ipykernel_14436\\313904278.py:45: RuntimeWarning: The unit for channel(s) E190, E94 has changed from V to NA.\n",
      "  raw_egi.set_channel_types(\n",
      "C:\\Users\\andri\\AppData\\Local\\Temp\\ipykernel_14436\\313904278.py:56: RuntimeWarning: EDF format requires equal-length data blocks, so 0.84 seconds of edge values were appended to all channels when writing the final block.\n",
      "  raw_egi.export(os.path.join(output_path, f\"{subject}.edf\"), fmt=\"edf\")\n"
     ]
    },
    {
     "name": "stdout",
     "output_type": "stream",
     "text": [
      "    Assembling measurement info ...\n",
      "    Excluding events {} ...\n",
      "Reading 0 ... 42689  =      0.000 ...   170.756 secs...\n",
      "Filtering raw data in 1 contiguous segment\n",
      "Setting up band-pass filter from 0.25 - 40 Hz\n",
      "\n",
      "FIR filter parameters\n",
      "---------------------\n",
      "Designing a one-pass, zero-phase, non-causal bandpass filter:\n",
      "- Windowed time-domain design (firwin) method\n",
      "- Hamming window with 0.0194 passband ripple and 53 dB stopband attenuation\n",
      "- Lower passband edge: 0.25\n",
      "- Lower transition bandwidth: 0.25 Hz (-6 dB cutoff frequency: 0.12 Hz)\n",
      "- Upper passband edge: 40.00 Hz\n",
      "- Upper transition bandwidth: 10.00 Hz (-6 dB cutoff frequency: 45.00 Hz)\n",
      "- Filter length: 3301 samples (13.204 s)\n",
      "\n",
      "D:\\MOTORWP4_DATASET\\EGI\\S88\\MOTORWP4_S88_2 20220805 23.RAW\n",
      "Creating .edf file for subject: MOTORWP4_S88_2\n",
      "Reading EGI header from D:\\MOTORWP4_DATASET\\EGI\\S88\\MOTORWP4_S88_2 20220805 23.RAW...\n",
      "    Reading events ...\n"
     ]
    },
    {
     "name": "stderr",
     "output_type": "stream",
     "text": [
      "C:\\Users\\andri\\AppData\\Local\\Temp\\ipykernel_14436\\313904278.py:45: RuntimeWarning: The unit for channel(s) E190, E94 has changed from V to NA.\n",
      "  raw_egi.set_channel_types(\n",
      "C:\\Users\\andri\\AppData\\Local\\Temp\\ipykernel_14436\\313904278.py:56: RuntimeWarning: EDF format requires equal-length data blocks, so 0.24 seconds of edge values were appended to all channels when writing the final block.\n",
      "  raw_egi.export(os.path.join(output_path, f\"{subject}.edf\"), fmt=\"edf\")\n"
     ]
    },
    {
     "name": "stdout",
     "output_type": "stream",
     "text": [
      "    Assembling measurement info ...\n",
      "    Excluding events {} ...\n",
      "Reading 0 ... 7208149  =      0.000 ... 28832.596 secs...\n",
      "Filtering raw data in 1 contiguous segment\n",
      "Setting up band-pass filter from 0.25 - 40 Hz\n",
      "\n",
      "FIR filter parameters\n",
      "---------------------\n",
      "Designing a one-pass, zero-phase, non-causal bandpass filter:\n",
      "- Windowed time-domain design (firwin) method\n",
      "- Hamming window with 0.0194 passband ripple and 53 dB stopband attenuation\n",
      "- Lower passband edge: 0.25\n",
      "- Lower transition bandwidth: 0.25 Hz (-6 dB cutoff frequency: 0.12 Hz)\n",
      "- Upper passband edge: 40.00 Hz\n",
      "- Upper transition bandwidth: 10.00 Hz (-6 dB cutoff frequency: 45.00 Hz)\n",
      "- Filter length: 3301 samples (13.204 s)\n",
      "\n"
     ]
    },
    {
     "name": "stderr",
     "output_type": "stream",
     "text": [
      "C:\\Users\\andri\\AppData\\Local\\Temp\\ipykernel_14436\\313904278.py:45: RuntimeWarning: The unit for channel(s) E190, E94 has changed from V to NA.\n",
      "  raw_egi.set_channel_types(\n",
      "C:\\Users\\andri\\AppData\\Local\\Temp\\ipykernel_14436\\313904278.py:56: RuntimeWarning: EDF format requires equal-length data blocks, so 0.4 seconds of edge values were appended to all channels when writing the final block.\n",
      "  raw_egi.export(os.path.join(output_path, f\"{subject}.edf\"), fmt=\"edf\")\n"
     ]
    },
    {
     "name": "stdout",
     "output_type": "stream",
     "text": [
      "D:\\MOTORWP4_DATASET\\EGI\\S62\\MOTORWP4_S62_1 20210219 22.RAW\n",
      "Creating .edf file for subject: MOTORWP4_S62_1\n",
      "Reading EGI header from D:\\MOTORWP4_DATASET\\EGI\\S62\\MOTORWP4_S62_1 20210219 22.RAW...\n",
      "    Reading events ...\n",
      "    Assembling measurement info ...\n",
      "    Excluding events {} ...\n",
      "Reading 0 ... 7956409  =      0.000 ... 31825.636 secs...\n",
      "Filtering raw data in 1 contiguous segment\n",
      "Setting up band-pass filter from 0.25 - 40 Hz\n",
      "\n",
      "FIR filter parameters\n",
      "---------------------\n",
      "Designing a one-pass, zero-phase, non-causal bandpass filter:\n",
      "- Windowed time-domain design (firwin) method\n",
      "- Hamming window with 0.0194 passband ripple and 53 dB stopband attenuation\n",
      "- Lower passband edge: 0.25\n",
      "- Lower transition bandwidth: 0.25 Hz (-6 dB cutoff frequency: 0.12 Hz)\n",
      "- Upper passband edge: 40.00 Hz\n",
      "- Upper transition bandwidth: 10.00 Hz (-6 dB cutoff frequency: 45.00 Hz)\n",
      "- Filter length: 3301 samples (13.204 s)\n",
      "\n"
     ]
    },
    {
     "name": "stderr",
     "output_type": "stream",
     "text": [
      "C:\\Users\\andri\\AppData\\Local\\Temp\\ipykernel_14436\\313904278.py:45: RuntimeWarning: The unit for channel(s) E190, E94 has changed from V to NA.\n",
      "  raw_egi.set_channel_types(\n",
      "C:\\Users\\andri\\AppData\\Local\\Temp\\ipykernel_14436\\313904278.py:56: RuntimeWarning: EDF format requires equal-length data blocks, so 0.36 seconds of edge values were appended to all channels when writing the final block.\n",
      "  raw_egi.export(os.path.join(output_path, f\"{subject}.edf\"), fmt=\"edf\")\n"
     ]
    },
    {
     "name": "stdout",
     "output_type": "stream",
     "text": [
      "D:\\MOTORWP4_DATASET\\EGI\\S62\\MOTORWP4_S62_2 20210222 22.RAW\n",
      "Creating .edf file for subject: MOTORWP4_S62_2\n",
      "Reading EGI header from D:\\MOTORWP4_DATASET\\EGI\\S62\\MOTORWP4_S62_2 20210222 22.RAW...\n",
      "    Reading events ...\n",
      "    Assembling measurement info ...\n",
      "    Excluding events {} ...\n",
      "Reading 0 ... 8224723  =      0.000 ... 32898.892 secs...\n",
      "Filtering raw data in 1 contiguous segment\n",
      "Setting up band-pass filter from 0.25 - 40 Hz\n",
      "\n",
      "FIR filter parameters\n",
      "---------------------\n",
      "Designing a one-pass, zero-phase, non-causal bandpass filter:\n",
      "- Windowed time-domain design (firwin) method\n",
      "- Hamming window with 0.0194 passband ripple and 53 dB stopband attenuation\n",
      "- Lower passband edge: 0.25\n",
      "- Lower transition bandwidth: 0.25 Hz (-6 dB cutoff frequency: 0.12 Hz)\n",
      "- Upper passband edge: 40.00 Hz\n",
      "- Upper transition bandwidth: 10.00 Hz (-6 dB cutoff frequency: 45.00 Hz)\n",
      "- Filter length: 3301 samples (13.204 s)\n",
      "\n"
     ]
    },
    {
     "name": "stderr",
     "output_type": "stream",
     "text": [
      "C:\\Users\\andri\\AppData\\Local\\Temp\\ipykernel_14436\\313904278.py:45: RuntimeWarning: The unit for channel(s) E190, E94 has changed from V to NA.\n",
      "  raw_egi.set_channel_types(\n",
      "C:\\Users\\andri\\AppData\\Local\\Temp\\ipykernel_14436\\313904278.py:56: RuntimeWarning: EDF format requires equal-length data blocks, so 0.104 seconds of edge values were appended to all channels when writing the final block.\n",
      "  raw_egi.export(os.path.join(output_path, f\"{subject}.edf\"), fmt=\"edf\")\n"
     ]
    },
    {
     "name": "stdout",
     "output_type": "stream",
     "text": [
      "D:\\MOTORWP4_DATASET\\EGI\\S76\\ELECTR_S76_1 20220717 2103.RAW\n",
      "Creating .edf file for subject: ELECTR_S76_1\n",
      "Reading EGI header from D:\\MOTORWP4_DATASET\\EGI\\S76\\ELECTR_S76_1 20220717 2103.RAW...\n",
      "    Reading events ...\n",
      "    Assembling measurement info ...\n",
      "    Excluding events {} ...\n",
      "Reading 0 ... 42813  =      0.000 ...   171.252 secs...\n",
      "Filtering raw data in 1 contiguous segment\n",
      "Setting up band-pass filter from 0.25 - 40 Hz\n",
      "\n",
      "FIR filter parameters\n",
      "---------------------\n",
      "Designing a one-pass, zero-phase, non-causal bandpass filter:\n",
      "- Windowed time-domain design (firwin) method\n",
      "- Hamming window with 0.0194 passband ripple and 53 dB stopband attenuation\n",
      "- Lower passband edge: 0.25\n",
      "- Lower transition bandwidth: 0.25 Hz (-6 dB cutoff frequency: 0.12 Hz)\n",
      "- Upper passband edge: 40.00 Hz\n",
      "- Upper transition bandwidth: 10.00 Hz (-6 dB cutoff frequency: 45.00 Hz)\n",
      "- Filter length: 3301 samples (13.204 s)\n",
      "\n",
      "D:\\MOTORWP4_DATASET\\EGI\\S76\\ELECTR_S76_2 20220720 2148.RAW\n",
      "Creating .edf file for subject: ELECTR_S76_2\n",
      "Reading EGI header from D:\\MOTORWP4_DATASET\\EGI\\S76\\ELECTR_S76_2 20220720 2148.RAW...\n",
      "    Reading events ...\n"
     ]
    },
    {
     "name": "stderr",
     "output_type": "stream",
     "text": [
      "C:\\Users\\andri\\AppData\\Local\\Temp\\ipykernel_14436\\313904278.py:45: RuntimeWarning: The unit for channel(s) E190, E94 has changed from V to NA.\n",
      "  raw_egi.set_channel_types(\n",
      "C:\\Users\\andri\\AppData\\Local\\Temp\\ipykernel_14436\\313904278.py:56: RuntimeWarning: EDF format requires equal-length data blocks, so 0.744 seconds of edge values were appended to all channels when writing the final block.\n",
      "  raw_egi.export(os.path.join(output_path, f\"{subject}.edf\"), fmt=\"edf\")\n"
     ]
    },
    {
     "name": "stdout",
     "output_type": "stream",
     "text": [
      "    Assembling measurement info ...\n",
      "    Excluding events {} ...\n",
      "Reading 0 ... 42838  =      0.000 ...   171.352 secs...\n",
      "Filtering raw data in 1 contiguous segment\n",
      "Setting up band-pass filter from 0.25 - 40 Hz\n",
      "\n",
      "FIR filter parameters\n",
      "---------------------\n",
      "Designing a one-pass, zero-phase, non-causal bandpass filter:\n",
      "- Windowed time-domain design (firwin) method\n",
      "- Hamming window with 0.0194 passband ripple and 53 dB stopband attenuation\n",
      "- Lower passband edge: 0.25\n",
      "- Lower transition bandwidth: 0.25 Hz (-6 dB cutoff frequency: 0.12 Hz)\n",
      "- Upper passband edge: 40.00 Hz\n",
      "- Upper transition bandwidth: 10.00 Hz (-6 dB cutoff frequency: 45.00 Hz)\n",
      "- Filter length: 3301 samples (13.204 s)\n",
      "\n",
      "D:\\MOTORWP4_DATASET\\EGI\\S76\\MOTORWP4_S76_1 20220717 22.RAW\n",
      "Creating .edf file for subject: MOTORWP4_S76_1\n",
      "Reading EGI header from D:\\MOTORWP4_DATASET\\EGI\\S76\\MOTORWP4_S76_1 20220717 22.RAW...\n",
      "    Reading events ...\n"
     ]
    },
    {
     "name": "stderr",
     "output_type": "stream",
     "text": [
      "C:\\Users\\andri\\AppData\\Local\\Temp\\ipykernel_14436\\313904278.py:45: RuntimeWarning: The unit for channel(s) E190, E94 has changed from V to NA.\n",
      "  raw_egi.set_channel_types(\n",
      "C:\\Users\\andri\\AppData\\Local\\Temp\\ipykernel_14436\\313904278.py:56: RuntimeWarning: EDF format requires equal-length data blocks, so 0.644 seconds of edge values were appended to all channels when writing the final block.\n",
      "  raw_egi.export(os.path.join(output_path, f\"{subject}.edf\"), fmt=\"edf\")\n"
     ]
    },
    {
     "name": "stdout",
     "output_type": "stream",
     "text": [
      "    Assembling measurement info ...\n",
      "    Excluding events {} ...\n",
      "Reading 0 ... 7900811  =      0.000 ... 31603.244 secs...\n",
      "Filtering raw data in 1 contiguous segment\n",
      "Setting up band-pass filter from 0.25 - 40 Hz\n",
      "\n",
      "FIR filter parameters\n",
      "---------------------\n",
      "Designing a one-pass, zero-phase, non-causal bandpass filter:\n",
      "- Windowed time-domain design (firwin) method\n",
      "- Hamming window with 0.0194 passband ripple and 53 dB stopband attenuation\n",
      "- Lower passband edge: 0.25\n",
      "- Lower transition bandwidth: 0.25 Hz (-6 dB cutoff frequency: 0.12 Hz)\n",
      "- Upper passband edge: 40.00 Hz\n",
      "- Upper transition bandwidth: 10.00 Hz (-6 dB cutoff frequency: 45.00 Hz)\n",
      "- Filter length: 3301 samples (13.204 s)\n",
      "\n"
     ]
    },
    {
     "name": "stderr",
     "output_type": "stream",
     "text": [
      "C:\\Users\\andri\\AppData\\Local\\Temp\\ipykernel_14436\\313904278.py:45: RuntimeWarning: The unit for channel(s) E190, E94 has changed from V to NA.\n",
      "  raw_egi.set_channel_types(\n",
      "C:\\Users\\andri\\AppData\\Local\\Temp\\ipykernel_14436\\313904278.py:56: RuntimeWarning: EDF format requires equal-length data blocks, so 0.752 seconds of edge values were appended to all channels when writing the final block.\n",
      "  raw_egi.export(os.path.join(output_path, f\"{subject}.edf\"), fmt=\"edf\")\n"
     ]
    },
    {
     "name": "stdout",
     "output_type": "stream",
     "text": [
      "D:\\MOTORWP4_DATASET\\EGI\\S76\\MOTORWP4_S76_2 20220720 22.RAW\n",
      "Creating .edf file for subject: MOTORWP4_S76_2\n",
      "Reading EGI header from D:\\MOTORWP4_DATASET\\EGI\\S76\\MOTORWP4_S76_2 20220720 22.RAW...\n",
      "    Reading events ...\n",
      "    Assembling measurement info ...\n",
      "    Excluding events {} ...\n",
      "Reading 0 ... 7673538  =      0.000 ... 30694.152 secs...\n",
      "Filtering raw data in 1 contiguous segment\n",
      "Setting up band-pass filter from 0.25 - 40 Hz\n",
      "\n",
      "FIR filter parameters\n",
      "---------------------\n",
      "Designing a one-pass, zero-phase, non-causal bandpass filter:\n",
      "- Windowed time-domain design (firwin) method\n",
      "- Hamming window with 0.0194 passband ripple and 53 dB stopband attenuation\n",
      "- Lower passband edge: 0.25\n",
      "- Lower transition bandwidth: 0.25 Hz (-6 dB cutoff frequency: 0.12 Hz)\n",
      "- Upper passband edge: 40.00 Hz\n",
      "- Upper transition bandwidth: 10.00 Hz (-6 dB cutoff frequency: 45.00 Hz)\n",
      "- Filter length: 3301 samples (13.204 s)\n",
      "\n"
     ]
    },
    {
     "name": "stderr",
     "output_type": "stream",
     "text": [
      "C:\\Users\\andri\\AppData\\Local\\Temp\\ipykernel_14436\\313904278.py:45: RuntimeWarning: The unit for channel(s) E190, E94 has changed from V to NA.\n",
      "  raw_egi.set_channel_types(\n",
      "C:\\Users\\andri\\AppData\\Local\\Temp\\ipykernel_14436\\313904278.py:56: RuntimeWarning: EDF format requires equal-length data blocks, so 0.844 seconds of edge values were appended to all channels when writing the final block.\n",
      "  raw_egi.export(os.path.join(output_path, f\"{subject}.edf\"), fmt=\"edf\")\n"
     ]
    },
    {
     "name": "stdout",
     "output_type": "stream",
     "text": [
      "D:\\MOTORWP4_DATASET\\EGI\\S57\\ELECTR_S57_1 20210826 2207.RAW\n",
      "Creating .edf file for subject: ELECTR_S57_1\n",
      "Reading EGI header from D:\\MOTORWP4_DATASET\\EGI\\S57\\ELECTR_S57_1 20210826 2207.RAW...\n",
      "    Reading events ...\n",
      "    Assembling measurement info ...\n",
      "    Excluding events {} ...\n",
      "Reading 0 ... 42651  =      0.000 ...   170.604 secs...\n",
      "Filtering raw data in 1 contiguous segment\n",
      "Setting up band-pass filter from 0.25 - 40 Hz\n",
      "\n",
      "FIR filter parameters\n",
      "---------------------\n",
      "Designing a one-pass, zero-phase, non-causal bandpass filter:\n",
      "- Windowed time-domain design (firwin) method\n",
      "- Hamming window with 0.0194 passband ripple and 53 dB stopband attenuation\n",
      "- Lower passband edge: 0.25\n",
      "- Lower transition bandwidth: 0.25 Hz (-6 dB cutoff frequency: 0.12 Hz)\n",
      "- Upper passband edge: 40.00 Hz\n",
      "- Upper transition bandwidth: 10.00 Hz (-6 dB cutoff frequency: 45.00 Hz)\n",
      "- Filter length: 3301 samples (13.204 s)\n",
      "\n",
      "D:\\MOTORWP4_DATASET\\EGI\\S57\\ELECTR_S57_2 20210829 2205.RAW\n",
      "Creating .edf file for subject: ELECTR_S57_2\n",
      "Reading EGI header from D:\\MOTORWP4_DATASET\\EGI\\S57\\ELECTR_S57_2 20210829 2205.RAW...\n",
      "    Reading events ...\n"
     ]
    },
    {
     "name": "stderr",
     "output_type": "stream",
     "text": [
      "C:\\Users\\andri\\AppData\\Local\\Temp\\ipykernel_14436\\313904278.py:45: RuntimeWarning: The unit for channel(s) E190, E94 has changed from V to NA.\n",
      "  raw_egi.set_channel_types(\n",
      "C:\\Users\\andri\\AppData\\Local\\Temp\\ipykernel_14436\\313904278.py:56: RuntimeWarning: EDF format requires equal-length data blocks, so 0.392 seconds of edge values were appended to all channels when writing the final block.\n",
      "  raw_egi.export(os.path.join(output_path, f\"{subject}.edf\"), fmt=\"edf\")\n"
     ]
    },
    {
     "name": "stdout",
     "output_type": "stream",
     "text": [
      "    Assembling measurement info ...\n",
      "    Excluding events {} ...\n",
      "Reading 0 ... 42639  =      0.000 ...   170.556 secs...\n",
      "Filtering raw data in 1 contiguous segment\n",
      "Setting up band-pass filter from 0.25 - 40 Hz\n",
      "\n",
      "FIR filter parameters\n",
      "---------------------\n",
      "Designing a one-pass, zero-phase, non-causal bandpass filter:\n",
      "- Windowed time-domain design (firwin) method\n",
      "- Hamming window with 0.0194 passband ripple and 53 dB stopband attenuation\n",
      "- Lower passband edge: 0.25\n",
      "- Lower transition bandwidth: 0.25 Hz (-6 dB cutoff frequency: 0.12 Hz)\n",
      "- Upper passband edge: 40.00 Hz\n",
      "- Upper transition bandwidth: 10.00 Hz (-6 dB cutoff frequency: 45.00 Hz)\n",
      "- Filter length: 3301 samples (13.204 s)\n",
      "\n",
      "D:\\MOTORWP4_DATASET\\EGI\\S57\\MOTORWP4_S57_1 20210826 23.RAW\n",
      "Creating .edf file for subject: MOTORWP4_S57_1\n",
      "Reading EGI header from D:\\MOTORWP4_DATASET\\EGI\\S57\\MOTORWP4_S57_1 20210826 23.RAW...\n",
      "    Reading events ...\n"
     ]
    },
    {
     "name": "stderr",
     "output_type": "stream",
     "text": [
      "C:\\Users\\andri\\AppData\\Local\\Temp\\ipykernel_14436\\313904278.py:45: RuntimeWarning: The unit for channel(s) E190, E94 has changed from V to NA.\n",
      "  raw_egi.set_channel_types(\n",
      "C:\\Users\\andri\\AppData\\Local\\Temp\\ipykernel_14436\\313904278.py:56: RuntimeWarning: EDF format requires equal-length data blocks, so 0.44 seconds of edge values were appended to all channels when writing the final block.\n",
      "  raw_egi.export(os.path.join(output_path, f\"{subject}.edf\"), fmt=\"edf\")\n"
     ]
    },
    {
     "name": "stdout",
     "output_type": "stream",
     "text": [
      "    Assembling measurement info ...\n",
      "    Excluding events {} ...\n",
      "Reading 0 ... 8258767  =      0.000 ... 33035.068 secs...\n",
      "Filtering raw data in 1 contiguous segment\n",
      "Setting up band-pass filter from 0.25 - 40 Hz\n",
      "\n",
      "FIR filter parameters\n",
      "---------------------\n",
      "Designing a one-pass, zero-phase, non-causal bandpass filter:\n",
      "- Windowed time-domain design (firwin) method\n",
      "- Hamming window with 0.0194 passband ripple and 53 dB stopband attenuation\n",
      "- Lower passband edge: 0.25\n",
      "- Lower transition bandwidth: 0.25 Hz (-6 dB cutoff frequency: 0.12 Hz)\n",
      "- Upper passband edge: 40.00 Hz\n",
      "- Upper transition bandwidth: 10.00 Hz (-6 dB cutoff frequency: 45.00 Hz)\n",
      "- Filter length: 3301 samples (13.204 s)\n",
      "\n"
     ]
    },
    {
     "name": "stderr",
     "output_type": "stream",
     "text": [
      "C:\\Users\\andri\\AppData\\Local\\Temp\\ipykernel_14436\\313904278.py:45: RuntimeWarning: The unit for channel(s) E190, E94 has changed from V to NA.\n",
      "  raw_egi.set_channel_types(\n",
      "C:\\Users\\andri\\AppData\\Local\\Temp\\ipykernel_14436\\313904278.py:56: RuntimeWarning: EDF format requires equal-length data blocks, so 0.928 seconds of edge values were appended to all channels when writing the final block.\n",
      "  raw_egi.export(os.path.join(output_path, f\"{subject}.edf\"), fmt=\"edf\")\n"
     ]
    },
    {
     "name": "stdout",
     "output_type": "stream",
     "text": [
      "D:\\MOTORWP4_DATASET\\EGI\\S57\\MOTORWP4_S57_2 20210829 23.RAW\n",
      "Creating .edf file for subject: MOTORWP4_S57_2\n",
      "Reading EGI header from D:\\MOTORWP4_DATASET\\EGI\\S57\\MOTORWP4_S57_2 20210829 23.RAW...\n",
      "    Reading events ...\n",
      "    Assembling measurement info ...\n",
      "    Excluding events {} ...\n",
      "Reading 0 ... 7074480  =      0.000 ... 28297.920 secs...\n",
      "Filtering raw data in 1 contiguous segment\n",
      "Setting up band-pass filter from 0.25 - 40 Hz\n",
      "\n",
      "FIR filter parameters\n",
      "---------------------\n",
      "Designing a one-pass, zero-phase, non-causal bandpass filter:\n",
      "- Windowed time-domain design (firwin) method\n",
      "- Hamming window with 0.0194 passband ripple and 53 dB stopband attenuation\n",
      "- Lower passband edge: 0.25\n",
      "- Lower transition bandwidth: 0.25 Hz (-6 dB cutoff frequency: 0.12 Hz)\n",
      "- Upper passband edge: 40.00 Hz\n",
      "- Upper transition bandwidth: 10.00 Hz (-6 dB cutoff frequency: 45.00 Hz)\n",
      "- Filter length: 3301 samples (13.204 s)\n",
      "\n"
     ]
    },
    {
     "name": "stderr",
     "output_type": "stream",
     "text": [
      "C:\\Users\\andri\\AppData\\Local\\Temp\\ipykernel_14436\\313904278.py:45: RuntimeWarning: The unit for channel(s) E190, E94 has changed from V to NA.\n",
      "  raw_egi.set_channel_types(\n",
      "C:\\Users\\andri\\AppData\\Local\\Temp\\ipykernel_14436\\313904278.py:56: RuntimeWarning: EDF format requires equal-length data blocks, so 0.076 seconds of edge values were appended to all channels when writing the final block.\n",
      "  raw_egi.export(os.path.join(output_path, f\"{subject}.edf\"), fmt=\"edf\")\n"
     ]
    },
    {
     "name": "stdout",
     "output_type": "stream",
     "text": [
      "D:\\MOTORWP4_DATASET\\EGI\\S54\\ELECTR_S54_1 20210730 2215.RAW\n",
      "Creating .edf file for subject: ELECTR_S54_1\n",
      "Reading EGI header from D:\\MOTORWP4_DATASET\\EGI\\S54\\ELECTR_S54_1 20210730 2215.RAW...\n",
      "    Reading events ...\n",
      "    Assembling measurement info ...\n",
      "    Excluding events {} ...\n",
      "Reading 0 ... 42752  =      0.000 ...   171.008 secs...\n",
      "Filtering raw data in 1 contiguous segment\n",
      "Setting up band-pass filter from 0.25 - 40 Hz\n",
      "\n",
      "FIR filter parameters\n",
      "---------------------\n",
      "Designing a one-pass, zero-phase, non-causal bandpass filter:\n",
      "- Windowed time-domain design (firwin) method\n",
      "- Hamming window with 0.0194 passband ripple and 53 dB stopband attenuation\n",
      "- Lower passband edge: 0.25\n",
      "- Lower transition bandwidth: 0.25 Hz (-6 dB cutoff frequency: 0.12 Hz)\n",
      "- Upper passband edge: 40.00 Hz\n",
      "- Upper transition bandwidth: 10.00 Hz (-6 dB cutoff frequency: 45.00 Hz)\n",
      "- Filter length: 3301 samples (13.204 s)\n",
      "\n",
      "D:\\MOTORWP4_DATASET\\EGI\\S54\\MOTORWP4_S54_1 20210730 23.RAW\n",
      "Creating .edf file for subject: MOTORWP4_S54_1\n",
      "Reading EGI header from D:\\MOTORWP4_DATASET\\EGI\\S54\\MOTORWP4_S54_1 20210730 23.RAW...\n",
      "    Reading events ...\n"
     ]
    },
    {
     "name": "stderr",
     "output_type": "stream",
     "text": [
      "C:\\Users\\andri\\AppData\\Local\\Temp\\ipykernel_14436\\313904278.py:45: RuntimeWarning: The unit for channel(s) E190, E94 has changed from V to NA.\n",
      "  raw_egi.set_channel_types(\n",
      "C:\\Users\\andri\\AppData\\Local\\Temp\\ipykernel_14436\\313904278.py:56: RuntimeWarning: EDF format requires equal-length data blocks, so 0.988 seconds of edge values were appended to all channels when writing the final block.\n",
      "  raw_egi.export(os.path.join(output_path, f\"{subject}.edf\"), fmt=\"edf\")\n"
     ]
    },
    {
     "name": "stdout",
     "output_type": "stream",
     "text": [
      "    Assembling measurement info ...\n",
      "    Excluding events {} ...\n",
      "Reading 0 ... 8271323  =      0.000 ... 33085.292 secs...\n",
      "Filtering raw data in 1 contiguous segment\n",
      "Setting up band-pass filter from 0.25 - 40 Hz\n",
      "\n",
      "FIR filter parameters\n",
      "---------------------\n",
      "Designing a one-pass, zero-phase, non-causal bandpass filter:\n",
      "- Windowed time-domain design (firwin) method\n",
      "- Hamming window with 0.0194 passband ripple and 53 dB stopband attenuation\n",
      "- Lower passband edge: 0.25\n",
      "- Lower transition bandwidth: 0.25 Hz (-6 dB cutoff frequency: 0.12 Hz)\n",
      "- Upper passband edge: 40.00 Hz\n",
      "- Upper transition bandwidth: 10.00 Hz (-6 dB cutoff frequency: 45.00 Hz)\n",
      "- Filter length: 3301 samples (13.204 s)\n",
      "\n"
     ]
    },
    {
     "name": "stderr",
     "output_type": "stream",
     "text": [
      "C:\\Users\\andri\\AppData\\Local\\Temp\\ipykernel_14436\\313904278.py:45: RuntimeWarning: The unit for channel(s) E190, E94 has changed from V to NA.\n",
      "  raw_egi.set_channel_types(\n",
      "C:\\Users\\andri\\AppData\\Local\\Temp\\ipykernel_14436\\313904278.py:56: RuntimeWarning: EDF format requires equal-length data blocks, so 0.704 seconds of edge values were appended to all channels when writing the final block.\n",
      "  raw_egi.export(os.path.join(output_path, f\"{subject}.edf\"), fmt=\"edf\")\n"
     ]
    },
    {
     "name": "stdout",
     "output_type": "stream",
     "text": [
      "D:\\MOTORWP4_DATASET\\EGI\\S54\\MOTORWP4_S54_2 20210802 23.RAW\n",
      "Creating .edf file for subject: MOTORWP4_S54_2\n",
      "Reading EGI header from D:\\MOTORWP4_DATASET\\EGI\\S54\\MOTORWP4_S54_2 20210802 23.RAW...\n",
      "    Reading events ...\n",
      "    Assembling measurement info ...\n",
      "    Excluding events {} ...\n",
      "Reading 0 ... 7683948  =      0.000 ... 30735.792 secs...\n",
      "Filtering raw data in 1 contiguous segment\n",
      "Setting up band-pass filter from 0.25 - 40 Hz\n",
      "\n",
      "FIR filter parameters\n",
      "---------------------\n",
      "Designing a one-pass, zero-phase, non-causal bandpass filter:\n",
      "- Windowed time-domain design (firwin) method\n",
      "- Hamming window with 0.0194 passband ripple and 53 dB stopband attenuation\n",
      "- Lower passband edge: 0.25\n",
      "- Lower transition bandwidth: 0.25 Hz (-6 dB cutoff frequency: 0.12 Hz)\n",
      "- Upper passband edge: 40.00 Hz\n",
      "- Upper transition bandwidth: 10.00 Hz (-6 dB cutoff frequency: 45.00 Hz)\n",
      "- Filter length: 3301 samples (13.204 s)\n",
      "\n"
     ]
    },
    {
     "name": "stderr",
     "output_type": "stream",
     "text": [
      "C:\\Users\\andri\\AppData\\Local\\Temp\\ipykernel_14436\\313904278.py:45: RuntimeWarning: The unit for channel(s) E190, E94 has changed from V to NA.\n",
      "  raw_egi.set_channel_types(\n",
      "C:\\Users\\andri\\AppData\\Local\\Temp\\ipykernel_14436\\313904278.py:56: RuntimeWarning: EDF format requires equal-length data blocks, so 0.204 seconds of edge values were appended to all channels when writing the final block.\n",
      "  raw_egi.export(os.path.join(output_path, f\"{subject}.edf\"), fmt=\"edf\")\n"
     ]
    },
    {
     "name": "stdout",
     "output_type": "stream",
     "text": [
      "D:\\MOTORWP4_DATASET\\EGI\\S63\\MOTORWP4_S63_1 20210212 23.RAW\n",
      "Creating .edf file for subject: MOTORWP4_S63_1\n",
      "Reading EGI header from D:\\MOTORWP4_DATASET\\EGI\\S63\\MOTORWP4_S63_1 20210212 23.RAW...\n",
      "    Reading events ...\n",
      "    Assembling measurement info ...\n",
      "    Excluding events {} ...\n",
      "Reading 0 ... 7642622  =      0.000 ... 30570.488 secs...\n",
      "Filtering raw data in 1 contiguous segment\n",
      "Setting up band-pass filter from 0.25 - 40 Hz\n",
      "\n",
      "FIR filter parameters\n",
      "---------------------\n",
      "Designing a one-pass, zero-phase, non-causal bandpass filter:\n",
      "- Windowed time-domain design (firwin) method\n",
      "- Hamming window with 0.0194 passband ripple and 53 dB stopband attenuation\n",
      "- Lower passband edge: 0.25\n",
      "- Lower transition bandwidth: 0.25 Hz (-6 dB cutoff frequency: 0.12 Hz)\n",
      "- Upper passband edge: 40.00 Hz\n",
      "- Upper transition bandwidth: 10.00 Hz (-6 dB cutoff frequency: 45.00 Hz)\n",
      "- Filter length: 3301 samples (13.204 s)\n",
      "\n"
     ]
    },
    {
     "name": "stderr",
     "output_type": "stream",
     "text": [
      "C:\\Users\\andri\\AppData\\Local\\Temp\\ipykernel_14436\\313904278.py:45: RuntimeWarning: The unit for channel(s) E190, E94 has changed from V to NA.\n",
      "  raw_egi.set_channel_types(\n",
      "C:\\Users\\andri\\AppData\\Local\\Temp\\ipykernel_14436\\313904278.py:56: RuntimeWarning: EDF format requires equal-length data blocks, so 0.508 seconds of edge values were appended to all channels when writing the final block.\n",
      "  raw_egi.export(os.path.join(output_path, f\"{subject}.edf\"), fmt=\"edf\")\n"
     ]
    },
    {
     "name": "stdout",
     "output_type": "stream",
     "text": [
      "D:\\MOTORWP4_DATASET\\EGI\\S63\\MOTORWP4_S63_2 20210215 23.RAW\n",
      "Creating .edf file for subject: MOTORWP4_S63_2\n",
      "Reading EGI header from D:\\MOTORWP4_DATASET\\EGI\\S63\\MOTORWP4_S63_2 20210215 23.RAW...\n",
      "    Reading events ...\n",
      "    Assembling measurement info ...\n",
      "    Excluding events {} ...\n",
      "Reading 0 ... 7013710  =      0.000 ... 28054.840 secs...\n"
     ]
    },
    {
     "ename": "RuntimeError",
     "evalue": "Incorrect number of samples (23225335 != 24999936), please report this error to MNE-Python developers",
     "output_type": "error",
     "traceback": [
      "\u001b[31m---------------------------------------------------------------------------\u001b[39m",
      "\u001b[31mRuntimeError\u001b[39m                              Traceback (most recent call last)",
      "\u001b[36mCell\u001b[39m\u001b[36m \u001b[39m\u001b[32mIn[6]\u001b[39m\u001b[32m, line 19\u001b[39m\n\u001b[32m     17\u001b[39m raw_egi = raw_egi.pick(channels)\n\u001b[32m     18\u001b[39m \u001b[38;5;66;03m# pre-process the data\u001b[39;00m\n\u001b[32m---> \u001b[39m\u001b[32m19\u001b[39m raw_egi = \u001b[43mpreprocess_egi\u001b[49m\u001b[43m(\u001b[49m\u001b[43mraw_egi\u001b[49m\u001b[43m)\u001b[49m\n\u001b[32m     21\u001b[39m \u001b[38;5;66;03m# # get integer indices\u001b[39;00m\n\u001b[32m     22\u001b[39m \u001b[38;5;66;03m# indices = mne.pick_channels(raw_egi.ch_names, [\"E190\", \"E94\"])\u001b[39;00m\n\u001b[32m     23\u001b[39m \n\u001b[32m   (...)\u001b[39m\u001b[32m     42\u001b[39m \u001b[38;5;66;03m#         copy=False\u001b[39;00m\n\u001b[32m     43\u001b[39m \u001b[38;5;66;03m#     )\u001b[39;00m\n\u001b[32m     45\u001b[39m raw_egi.set_channel_types(\n\u001b[32m     46\u001b[39m     {\n\u001b[32m     47\u001b[39m         \u001b[33m\"\u001b[39m\u001b[33mE214\u001b[39m\u001b[33m\"\u001b[39m: \u001b[33m\"\u001b[39m\u001b[33meeg\u001b[39m\u001b[33m\"\u001b[39m, \u001b[33m\"\u001b[39m\u001b[33mE41\u001b[39m\u001b[33m\"\u001b[39m: \u001b[33m\"\u001b[39m\u001b[33meeg\u001b[39m\u001b[33m\"\u001b[39m,    \u001b[38;5;66;03m# frontal\u001b[39;00m\n\u001b[32m   (...)\u001b[39m\u001b[32m     53\u001b[39m     }\n\u001b[32m     54\u001b[39m )\n",
      "\u001b[36mCell\u001b[39m\u001b[36m \u001b[39m\u001b[32mIn[3]\u001b[39m\u001b[32m, line 2\u001b[39m, in \u001b[36mpreprocess_egi\u001b[39m\u001b[34m(raw)\u001b[39m\n\u001b[32m      1\u001b[39m \u001b[38;5;28;01mdef\u001b[39;00m\u001b[38;5;250m \u001b[39m\u001b[34mpreprocess_egi\u001b[39m(raw):\n\u001b[32m----> \u001b[39m\u001b[32m2\u001b[39m     \u001b[43mraw\u001b[49m\u001b[43m.\u001b[49m\u001b[43mload_data\u001b[49m\u001b[43m(\u001b[49m\u001b[43m)\u001b[49m\n\u001b[32m      3\u001b[39m     raw._data = mne.filter.detrend(raw._data, axis=\u001b[32m1\u001b[39m, order=\u001b[32m1\u001b[39m)\n\u001b[32m      5\u001b[39m     \u001b[38;5;66;03m# bandpass filter\u001b[39;00m\n",
      "\u001b[36mFile \u001b[39m\u001b[32m<decorator-gen-190>:12\u001b[39m, in \u001b[36mload_data\u001b[39m\u001b[34m(self, verbose)\u001b[39m\n",
      "\u001b[36mFile \u001b[39m\u001b[32mc:\\Users\\andri\\miniconda3\\envs\\rodent_model\\Lib\\site-packages\\mne\\io\\base.py:589\u001b[39m, in \u001b[36mBaseRaw.load_data\u001b[39m\u001b[34m(self, verbose)\u001b[39m\n\u001b[32m    570\u001b[39m \u001b[38;5;250m\u001b[39m\u001b[33;03m\"\"\"Load raw data.\u001b[39;00m\n\u001b[32m    571\u001b[39m \n\u001b[32m    572\u001b[39m \u001b[33;03mParameters\u001b[39;00m\n\u001b[32m   (...)\u001b[39m\u001b[32m    586\u001b[39m \u001b[33;03m.. versionadded:: 0.10.0\u001b[39;00m\n\u001b[32m    587\u001b[39m \u001b[33;03m\"\"\"\u001b[39;00m\n\u001b[32m    588\u001b[39m \u001b[38;5;28;01mif\u001b[39;00m \u001b[38;5;129;01mnot\u001b[39;00m \u001b[38;5;28mself\u001b[39m.preload:\n\u001b[32m--> \u001b[39m\u001b[32m589\u001b[39m     \u001b[38;5;28;43mself\u001b[39;49m\u001b[43m.\u001b[49m\u001b[43m_preload_data\u001b[49m\u001b[43m(\u001b[49m\u001b[38;5;28;43;01mTrue\u001b[39;49;00m\u001b[43m)\u001b[49m\n\u001b[32m    590\u001b[39m \u001b[38;5;28;01mreturn\u001b[39;00m \u001b[38;5;28mself\u001b[39m\n",
      "\u001b[36mFile \u001b[39m\u001b[32mc:\\Users\\andri\\miniconda3\\envs\\rodent_model\\Lib\\site-packages\\mne\\io\\base.py:601\u001b[39m, in \u001b[36mBaseRaw._preload_data\u001b[39m\u001b[34m(self, preload)\u001b[39m\n\u001b[32m    597\u001b[39m t = \u001b[38;5;28mself\u001b[39m.times\n\u001b[32m    598\u001b[39m logger.info(\n\u001b[32m    599\u001b[39m     \u001b[33mf\u001b[39m\u001b[33m\"\u001b[39m\u001b[33mReading 0 ... \u001b[39m\u001b[38;5;132;01m{\u001b[39;00m\u001b[38;5;28mlen\u001b[39m(t)\u001b[38;5;250m \u001b[39m-\u001b[38;5;250m \u001b[39m\u001b[32m1\u001b[39m\u001b[38;5;132;01m}\u001b[39;00m\u001b[33m  =  \u001b[39m\u001b[38;5;132;01m{\u001b[39;00m\u001b[32m0.0\u001b[39m\u001b[38;5;132;01m:\u001b[39;00m\u001b[33m9.3f\u001b[39m\u001b[38;5;132;01m}\u001b[39;00m\u001b[33m ... \u001b[39m\u001b[38;5;132;01m{\u001b[39;00mt[-\u001b[32m1\u001b[39m]\u001b[38;5;132;01m:\u001b[39;00m\u001b[33m9.3f\u001b[39m\u001b[38;5;132;01m}\u001b[39;00m\u001b[33m secs...\u001b[39m\u001b[33m\"\u001b[39m\n\u001b[32m    600\u001b[39m )\n\u001b[32m--> \u001b[39m\u001b[32m601\u001b[39m \u001b[38;5;28mself\u001b[39m._data = \u001b[38;5;28;43mself\u001b[39;49m\u001b[43m.\u001b[49m\u001b[43m_read_segment\u001b[49m\u001b[43m(\u001b[49m\u001b[43mdata_buffer\u001b[49m\u001b[43m=\u001b[49m\u001b[43mdata_buffer\u001b[49m\u001b[43m)\u001b[49m\n\u001b[32m    602\u001b[39m \u001b[38;5;28;01massert\u001b[39;00m \u001b[38;5;28mlen\u001b[39m(\u001b[38;5;28mself\u001b[39m._data) == \u001b[38;5;28mself\u001b[39m.info[\u001b[33m\"\u001b[39m\u001b[33mnchan\u001b[39m\u001b[33m\"\u001b[39m]\n\u001b[32m    603\u001b[39m \u001b[38;5;28mself\u001b[39m.preload = \u001b[38;5;28;01mTrue\u001b[39;00m\n",
      "\u001b[36mFile \u001b[39m\u001b[32m<decorator-gen-189>:12\u001b[39m, in \u001b[36m_read_segment\u001b[39m\u001b[34m(self, start, stop, sel, data_buffer, verbose)\u001b[39m\n",
      "\u001b[36mFile \u001b[39m\u001b[32mc:\\Users\\andri\\miniconda3\\envs\\rodent_model\\Lib\\site-packages\\mne\\io\\base.py:477\u001b[39m, in \u001b[36mBaseRaw._read_segment\u001b[39m\u001b[34m(***failed resolving arguments***)\u001b[39m\n\u001b[32m    475\u001b[39m     \u001b[38;5;66;03m# reindex back to original file\u001b[39;00m\n\u001b[32m    476\u001b[39m     orig_idx = _convert_slice(\u001b[38;5;28mself\u001b[39m._read_picks[fi][need_idx])\n\u001b[32m--> \u001b[39m\u001b[32m477\u001b[39m     \u001b[43m_ReadSegmentFileProtector\u001b[49m\u001b[43m(\u001b[49m\u001b[38;5;28;43mself\u001b[39;49m\u001b[43m)\u001b[49m\u001b[43m.\u001b[49m\u001b[43m_read_segment_file\u001b[49m\u001b[43m(\u001b[49m\n\u001b[32m    478\u001b[39m \u001b[43m        \u001b[49m\u001b[43mdata\u001b[49m\u001b[43m[\u001b[49m\u001b[43m:\u001b[49m\u001b[43m,\u001b[49m\u001b[43m \u001b[49m\u001b[43mthis_sl\u001b[49m\u001b[43m]\u001b[49m\u001b[43m,\u001b[49m\n\u001b[32m    479\u001b[39m \u001b[43m        \u001b[49m\u001b[43morig_idx\u001b[49m\u001b[43m,\u001b[49m\n\u001b[32m    480\u001b[39m \u001b[43m        \u001b[49m\u001b[43mfi\u001b[49m\u001b[43m,\u001b[49m\n\u001b[32m    481\u001b[39m \u001b[43m        \u001b[49m\u001b[38;5;28;43mint\u001b[39;49m\u001b[43m(\u001b[49m\u001b[43mstart_file\u001b[49m\u001b[43m)\u001b[49m\u001b[43m,\u001b[49m\n\u001b[32m    482\u001b[39m \u001b[43m        \u001b[49m\u001b[38;5;28;43mint\u001b[39;49m\u001b[43m(\u001b[49m\u001b[43mstop_file\u001b[49m\u001b[43m)\u001b[49m\u001b[43m,\u001b[49m\n\u001b[32m    483\u001b[39m \u001b[43m        \u001b[49m\u001b[43mcals\u001b[49m\u001b[43m,\u001b[49m\n\u001b[32m    484\u001b[39m \u001b[43m        \u001b[49m\u001b[43mmult\u001b[49m\u001b[43m,\u001b[49m\n\u001b[32m    485\u001b[39m \u001b[43m    \u001b[49m\u001b[43m)\u001b[49m\n\u001b[32m    486\u001b[39m     offset += n_read\n\u001b[32m    487\u001b[39m \u001b[38;5;28;01mreturn\u001b[39;00m data\n",
      "\u001b[36mFile \u001b[39m\u001b[32mc:\\Users\\andri\\miniconda3\\envs\\rodent_model\\Lib\\site-packages\\mne\\io\\base.py:2704\u001b[39m, in \u001b[36m_ReadSegmentFileProtector._read_segment_file\u001b[39m\u001b[34m(self, data, idx, fi, start, stop, cals, mult)\u001b[39m\n\u001b[32m   2703\u001b[39m \u001b[38;5;28;01mdef\u001b[39;00m\u001b[38;5;250m \u001b[39m\u001b[34m_read_segment_file\u001b[39m(\u001b[38;5;28mself\u001b[39m, data, idx, fi, start, stop, cals, mult):\n\u001b[32m-> \u001b[39m\u001b[32m2704\u001b[39m     \u001b[38;5;28;01mreturn\u001b[39;00m \u001b[38;5;28;43mself\u001b[39;49m\u001b[43m.\u001b[49m\u001b[43m__raw\u001b[49m\u001b[43m.\u001b[49m\u001b[34;43m__class__\u001b[39;49m\u001b[43m.\u001b[49m\u001b[43m_read_segment_file\u001b[49m\u001b[43m(\u001b[49m\n\u001b[32m   2705\u001b[39m \u001b[43m        \u001b[49m\u001b[38;5;28;43mself\u001b[39;49m\u001b[43m,\u001b[49m\u001b[43m \u001b[49m\u001b[43mdata\u001b[49m\u001b[43m,\u001b[49m\u001b[43m \u001b[49m\u001b[43midx\u001b[49m\u001b[43m,\u001b[49m\u001b[43m \u001b[49m\u001b[43mfi\u001b[49m\u001b[43m,\u001b[49m\u001b[43m \u001b[49m\u001b[43mstart\u001b[49m\u001b[43m,\u001b[49m\u001b[43m \u001b[49m\u001b[43mstop\u001b[49m\u001b[43m,\u001b[49m\u001b[43m \u001b[49m\u001b[43mcals\u001b[49m\u001b[43m,\u001b[49m\u001b[43m \u001b[49m\u001b[43mmult\u001b[49m\n\u001b[32m   2706\u001b[39m \u001b[43m    \u001b[49m\u001b[43m)\u001b[49m\n",
      "\u001b[36mFile \u001b[39m\u001b[32mc:\\Users\\andri\\miniconda3\\envs\\rodent_model\\Lib\\site-packages\\mne\\io\\egi\\egi.py:319\u001b[39m, in \u001b[36mRawEGI._read_segment_file\u001b[39m\u001b[34m(self, data, idx, fi, start, stop, cals, mult)\u001b[39m\n\u001b[32m    317\u001b[39m offset = \u001b[32m36\u001b[39m + egi_info[\u001b[33m\"\u001b[39m\u001b[33mn_events\u001b[39m\u001b[33m\"\u001b[39m] * \u001b[32m4\u001b[39m\n\u001b[32m    318\u001b[39m trigger_ch = egi_info[\u001b[33m\"\u001b[39m\u001b[33mnew_trigger\u001b[39m\u001b[33m\"\u001b[39m]\n\u001b[32m--> \u001b[39m\u001b[32m319\u001b[39m \u001b[43m_read_segments_file\u001b[49m\u001b[43m(\u001b[49m\n\u001b[32m    320\u001b[39m \u001b[43m    \u001b[49m\u001b[38;5;28;43mself\u001b[39;49m\u001b[43m,\u001b[49m\n\u001b[32m    321\u001b[39m \u001b[43m    \u001b[49m\u001b[43mdata\u001b[49m\u001b[43m,\u001b[49m\n\u001b[32m    322\u001b[39m \u001b[43m    \u001b[49m\u001b[43midx\u001b[49m\u001b[43m,\u001b[49m\n\u001b[32m    323\u001b[39m \u001b[43m    \u001b[49m\u001b[43mfi\u001b[49m\u001b[43m,\u001b[49m\n\u001b[32m    324\u001b[39m \u001b[43m    \u001b[49m\u001b[43mstart\u001b[49m\u001b[43m,\u001b[49m\n\u001b[32m    325\u001b[39m \u001b[43m    \u001b[49m\u001b[43mstop\u001b[49m\u001b[43m,\u001b[49m\n\u001b[32m    326\u001b[39m \u001b[43m    \u001b[49m\u001b[43mcals\u001b[49m\u001b[43m,\u001b[49m\n\u001b[32m    327\u001b[39m \u001b[43m    \u001b[49m\u001b[43mmult\u001b[49m\u001b[43m,\u001b[49m\n\u001b[32m    328\u001b[39m \u001b[43m    \u001b[49m\u001b[43mdtype\u001b[49m\u001b[43m=\u001b[49m\u001b[43mdtype\u001b[49m\u001b[43m,\u001b[49m\n\u001b[32m    329\u001b[39m \u001b[43m    \u001b[49m\u001b[43mn_channels\u001b[49m\u001b[43m=\u001b[49m\u001b[43mn_chan_read\u001b[49m\u001b[43m,\u001b[49m\n\u001b[32m    330\u001b[39m \u001b[43m    \u001b[49m\u001b[43moffset\u001b[49m\u001b[43m=\u001b[49m\u001b[43moffset\u001b[49m\u001b[43m,\u001b[49m\n\u001b[32m    331\u001b[39m \u001b[43m    \u001b[49m\u001b[43mtrigger_ch\u001b[49m\u001b[43m=\u001b[49m\u001b[43mtrigger_ch\u001b[49m\u001b[43m,\u001b[49m\n\u001b[32m    332\u001b[39m \u001b[43m\u001b[49m\u001b[43m)\u001b[49m\n",
      "\u001b[36mFile \u001b[39m\u001b[32mc:\\Users\\andri\\miniconda3\\envs\\rodent_model\\Lib\\site-packages\\mne\\_fiff\\utils.py:234\u001b[39m, in \u001b[36m_read_segments_file\u001b[39m\u001b[34m(raw, data, idx, fi, start, stop, cals, mult, dtype, n_channels, offset, trigger_ch)\u001b[39m\n\u001b[32m    232\u001b[39m block = np.fromfile(fid, dtype, count)\n\u001b[32m    233\u001b[39m \u001b[38;5;28;01mif\u001b[39;00m block.size != count:\n\u001b[32m--> \u001b[39m\u001b[32m234\u001b[39m     \u001b[38;5;28;01mraise\u001b[39;00m \u001b[38;5;167;01mRuntimeError\u001b[39;00m(\n\u001b[32m    235\u001b[39m         \u001b[33mf\u001b[39m\u001b[33m\"\u001b[39m\u001b[33mIncorrect number of samples (\u001b[39m\u001b[38;5;132;01m{\u001b[39;00mblock.size\u001b[38;5;132;01m}\u001b[39;00m\u001b[33m != \u001b[39m\u001b[38;5;132;01m{\u001b[39;00mcount\u001b[38;5;132;01m}\u001b[39;00m\u001b[33m), please \u001b[39m\u001b[33m\"\u001b[39m\n\u001b[32m    236\u001b[39m         \u001b[33m\"\u001b[39m\u001b[33mreport this error to MNE-Python developers\u001b[39m\u001b[33m\"\u001b[39m\n\u001b[32m    237\u001b[39m     )\n\u001b[32m    238\u001b[39m block = block.reshape(n_channels, -\u001b[32m1\u001b[39m, order=\u001b[33m\"\u001b[39m\u001b[33mF\u001b[39m\u001b[33m\"\u001b[39m)\n\u001b[32m    239\u001b[39m n_samples = block.shape[\u001b[32m1\u001b[39m]  \u001b[38;5;66;03m# = count // n_channels\u001b[39;00m\n",
      "\u001b[31mRuntimeError\u001b[39m: Incorrect number of samples (23225335 != 24999936), please report this error to MNE-Python developers"
     ]
    }
   ],
   "source": [
    "# iterating through all files\n",
    "for egi_file in egi_file_list:\n",
    "    print(egi_file)\n",
    "    subject = egi_file.split(\"\\\\\")[-1].split(\" \")[0]\n",
    "    if os.path.exists(os.path.join(output_path, f\"{subject}.edf\")):\n",
    "        continue\n",
    "    else:\n",
    "        print(f\"Creating .edf file for subject: {subject}\")\n",
    "\n",
    "        # load .RAW egi file\n",
    "        raw_egi = mne.io.read_raw_egi(\n",
    "            egi_file, \n",
    "            preload=False\n",
    "        )\n",
    "\n",
    "        # get channel selection\n",
    "        raw_egi = raw_egi.pick(channels)\n",
    "        # pre-process the data\n",
    "        raw_egi = preprocess_egi(raw_egi)\n",
    "\n",
    "        # # get integer indices\n",
    "        # indices = mne.pick_channels(raw_egi.ch_names, [\"E190\", \"E94\"])\n",
    "\n",
    "        # # take average of reference channels and create a new ref channel\n",
    "        # reference = mne.channels.combine_channels(\n",
    "        #     raw_egi, \n",
    "        #     groups={\"ref\": indices},\n",
    "        #     method=\"mean\"\n",
    "        # )\n",
    "\n",
    "        # raw_egi.drop_channels([\"E190\", \"E94\"])\n",
    "\n",
    "        # # create bipolar channels with reference \n",
    "        # for key, value in channel_name.items():\n",
    "        #     raw_egi.add_channels([reference], force_update_info=True)\n",
    "        #     mne.set_bipolar_reference(\n",
    "        #         raw_egi, \n",
    "        #         anode=key, \n",
    "        #         cathode=\"ref\", \n",
    "        #         ch_name=value,\n",
    "        #         #drop_refs=True,\n",
    "        #         copy=False\n",
    "        #     )\n",
    "\n",
    "        raw_egi.set_channel_types(\n",
    "            {\n",
    "                \"E214\": \"eeg\", \"E41\": \"eeg\",    # frontal\n",
    "                \"E183\": \"eeg\", \"E59\": \"eeg\",    # central\n",
    "                \"E149\": \"eeg\", \"E124\": \"eeg\",   # occipital\n",
    "                \"E10\": \"eog\", \"E54\": \"eog\",     # eog\n",
    "                \"E240\": \"emg\", \"E243\": \"emg\",   # emg\n",
    "                \"E190\": \"misc\", \"E94\": \"misc\"   # reference\n",
    "            }\n",
    "        )\n",
    "\n",
    "        raw_egi.export(os.path.join(output_path, f\"{subject}.edf\"), fmt=\"edf\")\n"
   ]
  }
 ],
 "metadata": {
  "kernelspec": {
   "display_name": "rodent_model",
   "language": "python",
   "name": "python3"
  },
  "language_info": {
   "codemirror_mode": {
    "name": "ipython",
    "version": 3
   },
   "file_extension": ".py",
   "mimetype": "text/x-python",
   "name": "python",
   "nbconvert_exporter": "python",
   "pygments_lexer": "ipython3",
   "version": "3.13.5"
  }
 },
 "nbformat": 4,
 "nbformat_minor": 5
}
