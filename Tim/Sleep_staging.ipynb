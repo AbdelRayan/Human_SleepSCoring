{
 "cells": [
  {
   "cell_type": "code",
   "id": "initial_id",
   "metadata": {
    "collapsed": true,
    "ExecuteTime": {
     "end_time": "2025-09-18T08:32:49.807035Z",
     "start_time": "2025-09-18T08:32:49.045293Z"
    }
   },
   "source": [
    "%matplotlib tk\n",
    "import os\n",
    "import Sleep_Scripts.ASCII_to_binary_2ch_downsampled as ASCII\n",
    "import Sleep_Scripts.Practical_scripts as misc\n",
    "import mne\n",
    "import matplotlib.pyplot as plt\n"
   ],
   "outputs": [],
   "execution_count": 1
  },
  {
   "metadata": {
    "ExecuteTime": {
     "end_time": "2025-09-18T08:32:59.616618Z",
     "start_time": "2025-09-18T08:32:59.611853Z"
    }
   },
   "cell_type": "code",
   "source": [
    "# Point to the folder containing the original ASCII brainvision .dat and .vhdr files\n",
    "base_dir = \"D:/Intercranial_sleep_data\"\n",
    "# Point to the output folder where the converted 2 channel, downsampled data is stored\n",
    "binary_path = \"D:/converted_sleep_data\"\n",
    "subjects = os.listdir(base_dir)"
   ],
   "id": "cefe6dbbf778aef9",
   "outputs": [],
   "execution_count": 2
  },
  {
   "metadata": {},
   "cell_type": "code",
   "source": [
    "# Run through each subject folder\n",
    "for subject in subjects:\n",
    "    # Run through each file\n",
    "    files = os.listdir(os.path.join(base_dir, subject, 'iEEG'))\n",
    "    # Each vhdr file is stored in a list\n",
    "    vhdr_files = [a for a in files if 'vhdr' in a]\n",
    "    # The ASCII gets converted to binary, here the output file is prepared\n",
    "    binary_file = os.path.join(binary_path, subject)\n",
    "    # Selecting vhdr files automatically converts the accompanying .dat files\n",
    "    for vhdr_file in vhdr_files:\n",
    "        print(f'Converting {subject}-{vhdr_file}')\n",
    "        # Convert each file, only keeping the EOG1 and Cz channels, and downsampling from 1000 to 250 hz\n",
    "        ASCII.convert_brainvision_ascii(os.path.join(base_dir, subject, 'iEEG', vhdr_file),\n",
    "                                        binary_file, ['EOG1', 'Cz'])"
   ],
   "id": "c08caab00b93d57d",
   "outputs": [],
   "execution_count": null
  },
  {
   "metadata": {},
   "cell_type": "code",
   "source": "converted_subjects = os.listdir(\"D:/converted_sleep_data\")",
   "id": "72021474a430e06",
   "outputs": [],
   "execution_count": null
  },
  {
   "metadata": {},
   "cell_type": "code",
   "source": [
    "for subject in converted_subjects:\n",
    "    print(f\"Linking nights in subject {subject}\")\n",
    "    # Link all night fragments together to form a full night\n",
    "    misc.link_sections(os.path.join(binary_path, subject), \"brainvision\")"
   ],
   "id": "815f89398c74190d",
   "outputs": [],
   "execution_count": null
  },
  {
   "metadata": {},
   "cell_type": "code",
   "source": [
    "combined_night = \"D:/converted_sleep_data/7/combined_nights/night1.vhdr\"\n",
    "raw = mne.io.read_raw_brainvision(combined_night)"
   ],
   "id": "d7f40aaef008cc56",
   "outputs": [],
   "execution_count": null
  },
  {
   "metadata": {},
   "cell_type": "code",
   "source": [
    "# Convert channels to their correct types e.g. EOG is marked as eog instead of eeg\n",
    "raw = misc.convert_channel_types(raw)\n",
    "print(raw.get_channel_types())"
   ],
   "id": "80eac6fd270ca7e6",
   "outputs": [],
   "execution_count": null
  },
  {
   "metadata": {},
   "cell_type": "code",
   "source": [
    "# Plot the data to visualize the eeg data interactively\n",
    "fig = raw.plot(duration=120,\n",
    "    scalings=dict(eeg=1e-4) \n",
    ")\n",
    "fig.subplots_adjust(top=0.9)\n",
    "plt.show(block=True)"
   ],
   "id": "b0d3b4866f76d7a5",
   "outputs": [],
   "execution_count": null
  },
  {
   "metadata": {},
   "cell_type": "code",
   "source": [
    "# Convert brainvision files to edf, to be used in u-sleep\n",
    "for folder in os.listdir(binary_path):\n",
    "    for file in os.listdir(os.path.join(binary_path, folder, \"combined_nights\")):\n",
    "        if 'vhdr' in file:\n",
    "            print(f\"converting {file} to edf\")\n",
    "            misc.convert_binary_brainvision(os.path.join(binary_path, folder, \"combined_nights\", file))"
   ],
   "id": "f1413ceeeff5f31e",
   "outputs": [],
   "execution_count": null
  },
  {
   "metadata": {
    "jupyter": {
     "is_executing": true
    },
    "ExecuteTime": {
     "start_time": "2025-09-18T08:39:02.243658Z"
    }
   },
   "cell_type": "code",
   "source": [
    "\"\"\"After annotating the data with the u-sleep web interface, we can start converting and downsampling the files\n",
    "Keeping all channels \"\"\"\n",
    "for subject in os.listdir(base_dir):\n",
    "    data = os.path.join(base_dir, subject, 'iEEG')\n",
    "    out_path = os.path.join(data, 'converted')\n",
    "    for file in os.listdir(data):\n",
    "        if \"vhdr\" in file:\n",
    "            print(f\"converting {file}\")\n",
    "            ASCII.down_sample_and_convert(os.path.join(data, file), out_path)\n",
    "            print(f\"converted {file}\")\n",
    "            "
   ],
   "id": "bd328a1a65c6abe5",
   "outputs": [
    {
     "name": "stdout",
     "output_type": "stream",
     "text": [
      "converting 2_night1_01.vhdr\n"
     ]
    }
   ],
   "execution_count": null
  }
 ],
 "metadata": {
  "kernelspec": {
   "display_name": "Python 3",
   "language": "python",
   "name": "python3"
  },
  "language_info": {
   "codemirror_mode": {
    "name": "ipython",
    "version": 2
   },
   "file_extension": ".py",
   "mimetype": "text/x-python",
   "name": "python",
   "nbconvert_exporter": "python",
   "pygments_lexer": "ipython2",
   "version": "2.7.6"
  }
 },
 "nbformat": 4,
 "nbformat_minor": 5
}
