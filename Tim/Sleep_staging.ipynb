{
 "cells": [
  {
   "cell_type": "code",
   "id": "initial_id",
   "metadata": {
    "collapsed": true,
    "ExecuteTime": {
     "end_time": "2025-09-17T08:14:57.130449Z",
     "start_time": "2025-09-17T08:14:56.414324Z"
    }
   },
   "source": [
    "import os\n",
    "import Sleep_Scripts.ASCII_to_binary_2ch_downsampled as ASCII\n",
    "# Contains all the relevant functions\n",
    "import Sleep_Scripts.Practical_scripts as misc"
   ],
   "outputs": [],
   "execution_count": 1
  },
  {
   "metadata": {
    "ExecuteTime": {
     "end_time": "2025-09-17T08:15:00.545365Z",
     "start_time": "2025-09-17T08:15:00.540201Z"
    }
   },
   "cell_type": "code",
   "source": [
    "# Point to the folder containing the original ASCII brainvision .dat and .vhdr files\n",
    "base_dir = \"D:/Intercranial_sleep_data\"\n",
    "# Point to the output folder where the converted 2 channel, downsampled data is stored\n",
    "binary_path = \"D:/converted_sleep_data\"\n",
    "subjects = os.listdir(base_dir)"
   ],
   "id": "cefe6dbbf778aef9",
   "outputs": [],
   "execution_count": 2
  },
  {
   "metadata": {},
   "cell_type": "code",
   "outputs": [],
   "execution_count": null,
   "source": [
    "# Run through each subject folder\n",
    "for subject in subjects:\n",
    "    # Run through each file\n",
    "    files = os.listdir(os.path.join(base_dir, subject, 'iEEG'))\n",
    "    # Each vhdr file is stored in a list\n",
    "    vhdr_files = [a for a in files if 'vhdr' in a]\n",
    "    # The ASCII gets converted to binary, here the output file is prepared\n",
    "    binary_file = os.path.join(binary_path, subject)\n",
    "    # Selecting vhdr files automatically converts the accompanying .dat files\n",
    "    for vhdr_file in vhdr_files:\n",
    "        print(f'Converting {subject}-{vhdr_file}')\n",
    "        # Convert each file, only keeping the EOG1 and Cz channels, and downsampling from 1000 to 250 hz\n",
    "        ASCII.convert_brainvision_ascii(os.path.join(base_dir, subject, 'iEEG', vhdr_file),\n",
    "                                        binary_file, ['EOG1', 'Cz'])"
   ],
   "id": "c08caab00b93d57d"
  },
  {
   "metadata": {
    "ExecuteTime": {
     "end_time": "2025-09-17T08:15:14.448569Z",
     "start_time": "2025-09-17T08:15:14.443707Z"
    }
   },
   "cell_type": "code",
   "source": "converted_subjects = os.listdir(\"D:/converted_sleep_data\")",
   "id": "72021474a430e06",
   "outputs": [],
   "execution_count": 3
  },
  {
   "metadata": {
    "ExecuteTime": {
     "end_time": "2025-09-17T08:15:16.887783Z",
     "start_time": "2025-09-17T08:15:16.880316Z"
    }
   },
   "cell_type": "code",
   "source": [
    "for subject in converted_subjects:\n",
    "    # Link all night fragments together to form a full night\n",
    "    misc.link_sections(subject, \"brainvision\")"
   ],
   "id": "815f89398c74190d",
   "outputs": [
    {
     "name": "stdout",
     "output_type": "stream",
     "text": [
      "2\n",
      "7\n",
      "28\n",
      "15\n",
      "69\n",
      "31\n",
      "63\n",
      "67\n",
      "84\n",
      "85\n",
      "86\n",
      "87\n",
      "132\n",
      "134\n",
      "135\n"
     ]
    }
   ],
   "execution_count": 4
  }
 ],
 "metadata": {
  "kernelspec": {
   "display_name": "Python 3",
   "language": "python",
   "name": "python3"
  },
  "language_info": {
   "codemirror_mode": {
    "name": "ipython",
    "version": 2
   },
   "file_extension": ".py",
   "mimetype": "text/x-python",
   "name": "python",
   "nbconvert_exporter": "python",
   "pygments_lexer": "ipython2",
   "version": "2.7.6"
  }
 },
 "nbformat": 4,
 "nbformat_minor": 5
}
