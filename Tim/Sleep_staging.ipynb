{
 "cells": [
  {
   "cell_type": "code",
   "id": "initial_id",
   "metadata": {
    "collapsed": true,
    "ExecuteTime": {
     "end_time": "2025-09-22T07:49:57.733290Z",
     "start_time": "2025-09-22T07:49:56.519064Z"
    }
   },
   "source": [
    "%matplotlib tk\n",
    "import os\n",
    "import Sleep_Scripts.ASCII_to_binary_2ch_downsampled as ASCII\n",
    "import Sleep_Scripts.Practical_scripts as misc\n",
    "import mne\n",
    "import matplotlib.pyplot as plt\n"
   ],
   "outputs": [],
   "execution_count": 1
  },
  {
   "metadata": {
    "ExecuteTime": {
     "end_time": "2025-09-22T07:50:50.732716Z",
     "start_time": "2025-09-22T07:50:50.725022Z"
    }
   },
   "cell_type": "code",
   "source": [
    "# Point to the folder containing the original ASCII brainvision .dat and .vhdr files\n",
    "base_dir = \"D:/Intercranial_sleep_data\"\n",
    "# Point to the output folder where the converted 2 channel, downsampled data is stored\n",
    "binary_path = \"D:/converted_sleep_data/TLLTR\"\n",
    "subjects = os.listdir(base_dir)"
   ],
   "id": "cefe6dbbf778aef9",
   "outputs": [],
   "execution_count": 4
  },
  {
   "metadata": {
    "ExecuteTime": {
     "end_time": "2025-09-22T08:17:14.299052Z",
     "start_time": "2025-09-22T07:51:27.034791Z"
    }
   },
   "cell_type": "code",
   "source": [
    "# Run through each subject folder\n",
    "for subject in subjects:\n",
    "    if subject == '2':\n",
    "        # Run through each file\n",
    "        files = os.listdir(os.path.join(base_dir, subject, 'iEEG'))\n",
    "        # Each vhdr file is stored in a list\n",
    "        vhdr_files = [a for a in files if 'vhdr' in a]\n",
    "        # The ASCII gets converted to binary, here the output file is prepared\n",
    "        binary_file = os.path.join(binary_path, subject)\n",
    "        # Selecting vhdr files automatically converts the accompanying .dat files\n",
    "        for vhdr_file in vhdr_files:\n",
    "            print(f'Converting {subject}-{vhdr_file}')\n",
    "            # Convert each file, selecting which channels you'd like to keep, and downsampling from 1000 to 250 hz\n",
    "            ASCII.convert_brainvision_ascii(os.path.join(base_dir, subject, 'iEEG', vhdr_file),\n",
    "                                            binary_file, ['TLL02', 'TR01', 'EMG1', 'EOG1'])"
   ],
   "id": "c08caab00b93d57d",
   "outputs": [
    {
     "name": "stdout",
     "output_type": "stream",
     "text": [
      "Converting 2-2_night1_01.vhdr\n",
      "Converted 4 channels × 3596784 samples\n",
      "Saved new binary .dat → D:/converted_sleep_data/TLLTR\\2\\2_night1_01.dat\n",
      "Patched .vhdr → D:/converted_sleep_data/TLLTR\\2\\2_night1_01.vhdr\n",
      "Created empty .vmrk → D:/converted_sleep_data/TLLTR\\2\\2_night1_01.vmrk\n",
      "Patched .vhdr → D:/converted_sleep_data/TLLTR\\2\\2_night1_01.vhdr\n",
      "No MarkerFile= found in .vhdr → skipping .vmrk copy\n",
      "Converting 2-2_night1_02.vhdr\n",
      "Converted 4 channels × 3599952 samples\n",
      "Saved new binary .dat → D:/converted_sleep_data/TLLTR\\2\\2_night1_02.dat\n",
      "Patched .vhdr → D:/converted_sleep_data/TLLTR\\2\\2_night1_02.vhdr\n",
      "Created empty .vmrk → D:/converted_sleep_data/TLLTR\\2\\2_night1_02.vmrk\n",
      "Patched .vhdr → D:/converted_sleep_data/TLLTR\\2\\2_night1_02.vhdr\n",
      "No MarkerFile= found in .vhdr → skipping .vmrk copy\n",
      "Converting 2-2_night1_03.vhdr\n",
      "Converted 4 channels × 3599872 samples\n",
      "Saved new binary .dat → D:/converted_sleep_data/TLLTR\\2\\2_night1_03.dat\n",
      "Patched .vhdr → D:/converted_sleep_data/TLLTR\\2\\2_night1_03.vhdr\n",
      "Created empty .vmrk → D:/converted_sleep_data/TLLTR\\2\\2_night1_03.vmrk\n",
      "Patched .vhdr → D:/converted_sleep_data/TLLTR\\2\\2_night1_03.vhdr\n",
      "No MarkerFile= found in .vhdr → skipping .vmrk copy\n",
      "Converting 2-2_night2_01.vhdr\n",
      "Converted 4 channels × 2950864 samples\n",
      "Saved new binary .dat → D:/converted_sleep_data/TLLTR\\2\\2_night2_01.dat\n",
      "Patched .vhdr → D:/converted_sleep_data/TLLTR\\2\\2_night2_01.vhdr\n",
      "Created empty .vmrk → D:/converted_sleep_data/TLLTR\\2\\2_night2_01.vmrk\n",
      "Patched .vhdr → D:/converted_sleep_data/TLLTR\\2\\2_night2_01.vhdr\n",
      "No MarkerFile= found in .vhdr → skipping .vmrk copy\n",
      "Converting 2-2_night2_02.vhdr\n",
      "Converted 4 channels × 3599984 samples\n",
      "Saved new binary .dat → D:/converted_sleep_data/TLLTR\\2\\2_night2_02.dat\n",
      "Patched .vhdr → D:/converted_sleep_data/TLLTR\\2\\2_night2_02.vhdr\n",
      "Created empty .vmrk → D:/converted_sleep_data/TLLTR\\2\\2_night2_02.vmrk\n",
      "Patched .vhdr → D:/converted_sleep_data/TLLTR\\2\\2_night2_02.vhdr\n",
      "No MarkerFile= found in .vhdr → skipping .vmrk copy\n",
      "Converting 2-2_night2_03.vhdr\n",
      "Converted 4 channels × 3600016 samples\n",
      "Saved new binary .dat → D:/converted_sleep_data/TLLTR\\2\\2_night2_03.dat\n",
      "Patched .vhdr → D:/converted_sleep_data/TLLTR\\2\\2_night2_03.vhdr\n",
      "Created empty .vmrk → D:/converted_sleep_data/TLLTR\\2\\2_night2_03.vmrk\n",
      "Patched .vhdr → D:/converted_sleep_data/TLLTR\\2\\2_night2_03.vhdr\n",
      "No MarkerFile= found in .vhdr → skipping .vmrk copy\n",
      "Converting 2-2_night2_04.vhdr\n",
      "Converted 4 channels × 1058336 samples\n",
      "Saved new binary .dat → D:/converted_sleep_data/TLLTR\\2\\2_night2_04.dat\n",
      "Patched .vhdr → D:/converted_sleep_data/TLLTR\\2\\2_night2_04.vhdr\n",
      "Created empty .vmrk → D:/converted_sleep_data/TLLTR\\2\\2_night2_04.vmrk\n",
      "Patched .vhdr → D:/converted_sleep_data/TLLTR\\2\\2_night2_04.vhdr\n",
      "No MarkerFile= found in .vhdr → skipping .vmrk copy\n",
      "Converting 2-2_paradigm.vhdr\n",
      "Converted 4 channels × 644520 samples\n",
      "Saved new binary .dat → D:/converted_sleep_data/TLLTR\\2\\2_paradigm.dat\n",
      "Patched .vhdr → D:/converted_sleep_data/TLLTR\\2\\2_paradigm.vhdr\n",
      "Created empty .vmrk → D:/converted_sleep_data/TLLTR\\2\\2_paradigm.vmrk\n",
      "Patched .vhdr → D:/converted_sleep_data/TLLTR\\2\\2_paradigm.vhdr\n",
      "No MarkerFile= found in .vhdr → skipping .vmrk copy\n"
     ]
    }
   ],
   "execution_count": 6
  },
  {
   "metadata": {
    "ExecuteTime": {
     "end_time": "2025-09-22T08:17:39.116100Z",
     "start_time": "2025-09-22T08:17:39.094947Z"
    }
   },
   "cell_type": "code",
   "source": "converted_subjects = os.listdir(\"D:/converted_sleep_data/TLLTR\")",
   "id": "72021474a430e06",
   "outputs": [],
   "execution_count": 7
  },
  {
   "metadata": {
    "ExecuteTime": {
     "end_time": "2025-09-22T08:18:17.002924Z",
     "start_time": "2025-09-22T08:17:43.272071Z"
    }
   },
   "cell_type": "code",
   "source": [
    "for subject in converted_subjects:\n",
    "    print(f\"Linking nights in subject {subject}\")\n",
    "    # Link all night fragments together to form a full night\n",
    "    misc.link_sections(os.path.join(binary_path, subject), \"brainvision\")"
   ],
   "id": "815f89398c74190d",
   "outputs": [
    {
     "name": "stdout",
     "output_type": "stream",
     "text": [
      "Linking nights in subject 2\n",
      "Linking night1\n",
      "Extracting parameters from D:/converted_sleep_data/TLLTR\\2\\2_night1_01.vhdr...\n",
      "Setting channel info structure...\n",
      "Reading 0 ... 3596783  =      0.000 ... 14387.132 secs...\n",
      "Extracting parameters from D:/converted_sleep_data/TLLTR\\2\\2_night1_02.vhdr...\n",
      "Setting channel info structure...\n",
      "Reading 0 ... 3599951  =      0.000 ... 14399.804 secs...\n",
      "Extracting parameters from D:/converted_sleep_data/TLLTR\\2\\2_night1_03.vhdr...\n",
      "Setting channel info structure...\n",
      "Reading 0 ... 3599871  =      0.000 ... 14399.484 secs...\n",
      "Linking night2\n",
      "Extracting parameters from D:/converted_sleep_data/TLLTR\\2\\2_night2_01.vhdr...\n",
      "Setting channel info structure...\n",
      "Reading 0 ... 2950863  =      0.000 ... 11803.452 secs...\n",
      "Extracting parameters from D:/converted_sleep_data/TLLTR\\2\\2_night2_02.vhdr...\n",
      "Setting channel info structure...\n",
      "Reading 0 ... 3599983  =      0.000 ... 14399.932 secs...\n",
      "Extracting parameters from D:/converted_sleep_data/TLLTR\\2\\2_night2_03.vhdr...\n",
      "Setting channel info structure...\n",
      "Reading 0 ... 3600015  =      0.000 ... 14400.060 secs...\n",
      "Extracting parameters from D:/converted_sleep_data/TLLTR\\2\\2_night2_04.vhdr...\n",
      "Setting channel info structure...\n",
      "Reading 0 ... 1058335  =      0.000 ...  4233.340 secs...\n"
     ]
    }
   ],
   "execution_count": 8
  },
  {
   "metadata": {},
   "cell_type": "code",
   "source": [
    "combined_night = \"D:/converted_sleep_data/7/combined_nights/night1.vhdr\"\n",
    "raw = mne.io.read_raw_brainvision(combined_night)"
   ],
   "id": "d7f40aaef008cc56",
   "outputs": [],
   "execution_count": null
  },
  {
   "metadata": {},
   "cell_type": "code",
   "source": [
    "# Convert channels to their correct types e.g. EOG is marked as eog instead of eeg\n",
    "raw = misc.convert_channel_types(raw)\n",
    "print(raw.get_channel_types())"
   ],
   "id": "80eac6fd270ca7e6",
   "outputs": [],
   "execution_count": null
  },
  {
   "metadata": {},
   "cell_type": "code",
   "source": [
    "# Plot the data to visualize the eeg data interactively\n",
    "fig = raw.plot(duration=120,\n",
    "    scalings=dict(eeg=1e-4) \n",
    ")\n",
    "fig.subplots_adjust(top=0.9)\n",
    "plt.show(block=True)"
   ],
   "id": "b0d3b4866f76d7a5",
   "outputs": [],
   "execution_count": null
  },
  {
   "metadata": {},
   "cell_type": "code",
   "source": [
    "# Convert brainvision files to edf, to be used in u-sleep\n",
    "for folder in os.listdir(binary_path):\n",
    "    for file in os.listdir(os.path.join(binary_path, folder, \"combined_nights\")):\n",
    "        if 'vhdr' in file:\n",
    "            print(f\"converting {file} to edf\")\n",
    "            misc.convert_binary_brainvision(os.path.join(binary_path, folder, \"combined_nights\", file))"
   ],
   "id": "f1413ceeeff5f31e",
   "outputs": [],
   "execution_count": null
  },
  {
   "metadata": {
    "ExecuteTime": {
     "end_time": "2025-09-18T13:08:45.469485200Z",
     "start_time": "2025-09-18T12:14:20.665987Z"
    }
   },
   "cell_type": "code",
   "source": [
    "\"\"\"After annotating the data with the u-sleep web interface, we can start converting and downsampling the files\n",
    "Keeping a central, an occipital an eog and an emg channel \"\"\"\n",
    "for subject in os.listdir(base_dir):\n",
    "    data = os.path.join(base_dir, subject, 'iEEG')\n",
    "    out_path = os.path.join(data, 'converted_prep')\n",
    "    for file in os.listdir(data):\n",
    "        if \"vhdr\" in file:\n",
    "            print(f\"converting {file}\")\n",
    "            ASCII.convert_brainvision_ascii(os.path.join(data, file), out_path, ['EOG1', 'Cz', 'Oz', 'EMG1'])\n",
    "            print(f\"converted {file}\")\n",
    "            "
   ],
   "id": "bd328a1a65c6abe5",
   "outputs": [
    {
     "name": "stdout",
     "output_type": "stream",
     "text": [
      "converting 2_night1_01.vhdr\n",
      "Converted 4 channels × 3596784 samples\n",
      "Saved new binary .dat → D:/Intercranial_sleep_data\\2\\iEEG\\converted_prep\\2_night1_01.dat\n",
      "Patched .vhdr → D:/Intercranial_sleep_data\\2\\iEEG\\converted_prep\\2_night1_01.vhdr\n",
      "Created empty .vmrk → D:/Intercranial_sleep_data\\2\\iEEG\\converted_prep\\2_night1_01.vmrk\n",
      "Patched .vhdr → D:/Intercranial_sleep_data\\2\\iEEG\\converted_prep\\2_night1_01.vhdr\n",
      "No MarkerFile= found in .vhdr → skipping .vmrk copy\n",
      "converted 2_night1_01.vhdr\n",
      "converting 2_night1_02.vhdr\n",
      "Converted 4 channels × 3599952 samples\n",
      "Saved new binary .dat → D:/Intercranial_sleep_data\\2\\iEEG\\converted_prep\\2_night1_02.dat\n",
      "Patched .vhdr → D:/Intercranial_sleep_data\\2\\iEEG\\converted_prep\\2_night1_02.vhdr\n",
      "Created empty .vmrk → D:/Intercranial_sleep_data\\2\\iEEG\\converted_prep\\2_night1_02.vmrk\n",
      "Patched .vhdr → D:/Intercranial_sleep_data\\2\\iEEG\\converted_prep\\2_night1_02.vhdr\n",
      "No MarkerFile= found in .vhdr → skipping .vmrk copy\n",
      "converted 2_night1_02.vhdr\n",
      "converting 2_night1_03.vhdr\n",
      "Converted 4 channels × 3599872 samples\n",
      "Saved new binary .dat → D:/Intercranial_sleep_data\\2\\iEEG\\converted_prep\\2_night1_03.dat\n",
      "Patched .vhdr → D:/Intercranial_sleep_data\\2\\iEEG\\converted_prep\\2_night1_03.vhdr\n",
      "Created empty .vmrk → D:/Intercranial_sleep_data\\2\\iEEG\\converted_prep\\2_night1_03.vmrk\n",
      "Patched .vhdr → D:/Intercranial_sleep_data\\2\\iEEG\\converted_prep\\2_night1_03.vhdr\n",
      "No MarkerFile= found in .vhdr → skipping .vmrk copy\n",
      "converted 2_night1_03.vhdr\n",
      "converting 2_night2_01.vhdr\n",
      "Converted 4 channels × 2950864 samples\n",
      "Saved new binary .dat → D:/Intercranial_sleep_data\\2\\iEEG\\converted_prep\\2_night2_01.dat\n",
      "Patched .vhdr → D:/Intercranial_sleep_data\\2\\iEEG\\converted_prep\\2_night2_01.vhdr\n",
      "Created empty .vmrk → D:/Intercranial_sleep_data\\2\\iEEG\\converted_prep\\2_night2_01.vmrk\n",
      "Patched .vhdr → D:/Intercranial_sleep_data\\2\\iEEG\\converted_prep\\2_night2_01.vhdr\n",
      "No MarkerFile= found in .vhdr → skipping .vmrk copy\n",
      "converted 2_night2_01.vhdr\n",
      "converting 2_night2_02.vhdr\n",
      "Converted 4 channels × 3599984 samples\n",
      "Saved new binary .dat → D:/Intercranial_sleep_data\\2\\iEEG\\converted_prep\\2_night2_02.dat\n",
      "Patched .vhdr → D:/Intercranial_sleep_data\\2\\iEEG\\converted_prep\\2_night2_02.vhdr\n",
      "Created empty .vmrk → D:/Intercranial_sleep_data\\2\\iEEG\\converted_prep\\2_night2_02.vmrk\n",
      "Patched .vhdr → D:/Intercranial_sleep_data\\2\\iEEG\\converted_prep\\2_night2_02.vhdr\n",
      "No MarkerFile= found in .vhdr → skipping .vmrk copy\n",
      "converted 2_night2_02.vhdr\n",
      "converting 2_night2_03.vhdr\n",
      "Converted 4 channels × 3600016 samples\n",
      "Saved new binary .dat → D:/Intercranial_sleep_data\\2\\iEEG\\converted_prep\\2_night2_03.dat\n",
      "Patched .vhdr → D:/Intercranial_sleep_data\\2\\iEEG\\converted_prep\\2_night2_03.vhdr\n",
      "Created empty .vmrk → D:/Intercranial_sleep_data\\2\\iEEG\\converted_prep\\2_night2_03.vmrk\n",
      "Patched .vhdr → D:/Intercranial_sleep_data\\2\\iEEG\\converted_prep\\2_night2_03.vhdr\n",
      "No MarkerFile= found in .vhdr → skipping .vmrk copy\n",
      "converted 2_night2_03.vhdr\n",
      "converting 2_night2_04.vhdr\n",
      "Converted 4 channels × 1058336 samples\n",
      "Saved new binary .dat → D:/Intercranial_sleep_data\\2\\iEEG\\converted_prep\\2_night2_04.dat\n",
      "Patched .vhdr → D:/Intercranial_sleep_data\\2\\iEEG\\converted_prep\\2_night2_04.vhdr\n",
      "Created empty .vmrk → D:/Intercranial_sleep_data\\2\\iEEG\\converted_prep\\2_night2_04.vmrk\n",
      "Patched .vhdr → D:/Intercranial_sleep_data\\2\\iEEG\\converted_prep\\2_night2_04.vhdr\n",
      "No MarkerFile= found in .vhdr → skipping .vmrk copy\n",
      "converted 2_night2_04.vhdr\n",
      "converting 2_paradigm.vhdr\n",
      "Converted 4 channels × 644520 samples\n",
      "Saved new binary .dat → D:/Intercranial_sleep_data\\2\\iEEG\\converted_prep\\2_paradigm.dat\n",
      "Patched .vhdr → D:/Intercranial_sleep_data\\2\\iEEG\\converted_prep\\2_paradigm.vhdr\n",
      "Created empty .vmrk → D:/Intercranial_sleep_data\\2\\iEEG\\converted_prep\\2_paradigm.vmrk\n",
      "Patched .vhdr → D:/Intercranial_sleep_data\\2\\iEEG\\converted_prep\\2_paradigm.vhdr\n",
      "No MarkerFile= found in .vhdr → skipping .vmrk copy\n",
      "converted 2_paradigm.vhdr\n",
      "converting 7_night1_01.vhdr\n",
      "Converted 4 channels × 2256112 samples\n",
      "Saved new binary .dat → D:/Intercranial_sleep_data\\7\\iEEG\\converted_prep\\7_night1_01.dat\n",
      "Patched .vhdr → D:/Intercranial_sleep_data\\7\\iEEG\\converted_prep\\7_night1_01.vhdr\n",
      "Created empty .vmrk → D:/Intercranial_sleep_data\\7\\iEEG\\converted_prep\\7_night1_01.vmrk\n",
      "Patched .vhdr → D:/Intercranial_sleep_data\\7\\iEEG\\converted_prep\\7_night1_01.vhdr\n",
      "No MarkerFile= found in .vhdr → skipping .vmrk copy\n",
      "converted 7_night1_01.vhdr\n",
      "converting 7_night1_02.vhdr\n",
      "Converted 4 channels × 2700032 samples\n",
      "Saved new binary .dat → D:/Intercranial_sleep_data\\7\\iEEG\\converted_prep\\7_night1_02.dat\n",
      "Patched .vhdr → D:/Intercranial_sleep_data\\7\\iEEG\\converted_prep\\7_night1_02.vhdr\n",
      "Created empty .vmrk → D:/Intercranial_sleep_data\\7\\iEEG\\converted_prep\\7_night1_02.vmrk\n",
      "Patched .vhdr → D:/Intercranial_sleep_data\\7\\iEEG\\converted_prep\\7_night1_02.vhdr\n",
      "No MarkerFile= found in .vhdr → skipping .vmrk copy\n",
      "converted 7_night1_02.vhdr\n",
      "converting 7_night1_03.vhdr\n",
      "Converted 4 channels × 1990560 samples\n",
      "Saved new binary .dat → D:/Intercranial_sleep_data\\7\\iEEG\\converted_prep\\7_night1_03.dat\n",
      "Patched .vhdr → D:/Intercranial_sleep_data\\7\\iEEG\\converted_prep\\7_night1_03.vhdr\n",
      "Created empty .vmrk → D:/Intercranial_sleep_data\\7\\iEEG\\converted_prep\\7_night1_03.vmrk\n",
      "Patched .vhdr → D:/Intercranial_sleep_data\\7\\iEEG\\converted_prep\\7_night1_03.vhdr\n",
      "No MarkerFile= found in .vhdr → skipping .vmrk copy\n",
      "converted 7_night1_03.vhdr\n",
      "converting 7_night2_01.vhdr\n",
      "Converted 4 channels × 2696416 samples\n",
      "Saved new binary .dat → D:/Intercranial_sleep_data\\7\\iEEG\\converted_prep\\7_night2_01.dat\n",
      "Patched .vhdr → D:/Intercranial_sleep_data\\7\\iEEG\\converted_prep\\7_night2_01.vhdr\n",
      "Created empty .vmrk → D:/Intercranial_sleep_data\\7\\iEEG\\converted_prep\\7_night2_01.vmrk\n",
      "Patched .vhdr → D:/Intercranial_sleep_data\\7\\iEEG\\converted_prep\\7_night2_01.vhdr\n",
      "No MarkerFile= found in .vhdr → skipping .vmrk copy\n",
      "converted 7_night2_01.vhdr\n",
      "converting 7_night2_02.vhdr\n",
      "Converted 4 channels × 2343648 samples\n",
      "Saved new binary .dat → D:/Intercranial_sleep_data\\7\\iEEG\\converted_prep\\7_night2_02.dat\n",
      "Patched .vhdr → D:/Intercranial_sleep_data\\7\\iEEG\\converted_prep\\7_night2_02.vhdr\n",
      "Created empty .vmrk → D:/Intercranial_sleep_data\\7\\iEEG\\converted_prep\\7_night2_02.vmrk\n",
      "Patched .vhdr → D:/Intercranial_sleep_data\\7\\iEEG\\converted_prep\\7_night2_02.vhdr\n",
      "No MarkerFile= found in .vhdr → skipping .vmrk copy\n",
      "converted 7_night2_02.vhdr\n",
      "converting 7_night2_03.vhdr\n",
      "Converted 4 channels × 2700016 samples\n",
      "Saved new binary .dat → D:/Intercranial_sleep_data\\7\\iEEG\\converted_prep\\7_night2_03.dat\n",
      "Patched .vhdr → D:/Intercranial_sleep_data\\7\\iEEG\\converted_prep\\7_night2_03.vhdr\n",
      "Created empty .vmrk → D:/Intercranial_sleep_data\\7\\iEEG\\converted_prep\\7_night2_03.vmrk\n",
      "Patched .vhdr → D:/Intercranial_sleep_data\\7\\iEEG\\converted_prep\\7_night2_03.vhdr\n",
      "No MarkerFile= found in .vhdr → skipping .vmrk copy\n",
      "converted 7_night2_03.vhdr\n",
      "converting 7_night2_04.vhdr\n",
      "Converted 4 channels × 2699968 samples\n",
      "Saved new binary .dat → D:/Intercranial_sleep_data\\7\\iEEG\\converted_prep\\7_night2_04.dat\n",
      "Patched .vhdr → D:/Intercranial_sleep_data\\7\\iEEG\\converted_prep\\7_night2_04.vhdr\n",
      "Created empty .vmrk → D:/Intercranial_sleep_data\\7\\iEEG\\converted_prep\\7_night2_04.vmrk\n",
      "Patched .vhdr → D:/Intercranial_sleep_data\\7\\iEEG\\converted_prep\\7_night2_04.vhdr\n",
      "No MarkerFile= found in .vhdr → skipping .vmrk copy\n",
      "converted 7_night2_04.vhdr\n",
      "converting 7_paradigm.vhdr\n",
      "Converted 4 channels × 641873 samples\n",
      "Saved new binary .dat → D:/Intercranial_sleep_data\\7\\iEEG\\converted_prep\\7_paradigm.dat\n",
      "Patched .vhdr → D:/Intercranial_sleep_data\\7\\iEEG\\converted_prep\\7_paradigm.vhdr\n",
      "Created empty .vmrk → D:/Intercranial_sleep_data\\7\\iEEG\\converted_prep\\7_paradigm.vmrk\n",
      "Patched .vhdr → D:/Intercranial_sleep_data\\7\\iEEG\\converted_prep\\7_paradigm.vhdr\n",
      "No MarkerFile= found in .vhdr → skipping .vmrk copy\n",
      "converted 7_paradigm.vhdr\n",
      "converting 28_day2_01.vhdr\n",
      "Converted 4 channels × 593536 samples\n",
      "Saved new binary .dat → D:/Intercranial_sleep_data\\28\\iEEG\\converted_prep\\28_day2_01.dat\n",
      "Patched .vhdr → D:/Intercranial_sleep_data\\28\\iEEG\\converted_prep\\28_day2_01.vhdr\n",
      "Created empty .vmrk → D:/Intercranial_sleep_data\\28\\iEEG\\converted_prep\\28_day2_01.vmrk\n",
      "Patched .vhdr → D:/Intercranial_sleep_data\\28\\iEEG\\converted_prep\\28_day2_01.vhdr\n",
      "No MarkerFile= found in .vhdr → skipping .vmrk copy\n",
      "converted 28_day2_01.vhdr\n",
      "converting 28_night2_01.vhdr\n"
     ]
    },
    {
     "ename": "KeyboardInterrupt",
     "evalue": "",
     "output_type": "error",
     "traceback": [
      "\u001B[31m---------------------------------------------------------------------------\u001B[39m",
      "\u001B[31mKeyboardInterrupt\u001B[39m                         Traceback (most recent call last)",
      "\u001B[36mCell\u001B[39m\u001B[36m \u001B[39m\u001B[32mIn[8]\u001B[39m\u001B[32m, line 9\u001B[39m\n\u001B[32m      7\u001B[39m \u001B[38;5;28;01mif\u001B[39;00m \u001B[33m\"\u001B[39m\u001B[33mvhdr\u001B[39m\u001B[33m\"\u001B[39m \u001B[38;5;129;01min\u001B[39;00m file:\n\u001B[32m      8\u001B[39m     \u001B[38;5;28mprint\u001B[39m(\u001B[33mf\u001B[39m\u001B[33m\"\u001B[39m\u001B[33mconverting \u001B[39m\u001B[38;5;132;01m{\u001B[39;00mfile\u001B[38;5;132;01m}\u001B[39;00m\u001B[33m\"\u001B[39m)\n\u001B[32m----> \u001B[39m\u001B[32m9\u001B[39m     \u001B[43mASCII\u001B[49m\u001B[43m.\u001B[49m\u001B[43mconvert_brainvision_ascii\u001B[49m\u001B[43m(\u001B[49m\u001B[43mos\u001B[49m\u001B[43m.\u001B[49m\u001B[43mpath\u001B[49m\u001B[43m.\u001B[49m\u001B[43mjoin\u001B[49m\u001B[43m(\u001B[49m\u001B[43mdata\u001B[49m\u001B[43m,\u001B[49m\u001B[43m \u001B[49m\u001B[43mfile\u001B[49m\u001B[43m)\u001B[49m\u001B[43m,\u001B[49m\u001B[43m \u001B[49m\u001B[43mout_path\u001B[49m\u001B[43m,\u001B[49m\u001B[43m \u001B[49m\u001B[43m[\u001B[49m\u001B[33;43m'\u001B[39;49m\u001B[33;43mEOG1\u001B[39;49m\u001B[33;43m'\u001B[39;49m\u001B[43m,\u001B[49m\u001B[43m \u001B[49m\u001B[33;43m'\u001B[39;49m\u001B[33;43mCz\u001B[39;49m\u001B[33;43m'\u001B[39;49m\u001B[43m,\u001B[49m\u001B[43m \u001B[49m\u001B[33;43m'\u001B[39;49m\u001B[33;43mOz\u001B[39;49m\u001B[33;43m'\u001B[39;49m\u001B[43m,\u001B[49m\u001B[43m \u001B[49m\u001B[33;43m'\u001B[39;49m\u001B[33;43mEMG1\u001B[39;49m\u001B[33;43m'\u001B[39;49m\u001B[43m]\u001B[49m\u001B[43m)\u001B[49m\n\u001B[32m     10\u001B[39m     \u001B[38;5;28mprint\u001B[39m(\u001B[33mf\u001B[39m\u001B[33m\"\u001B[39m\u001B[33mconverted \u001B[39m\u001B[38;5;132;01m{\u001B[39;00mfile\u001B[38;5;132;01m}\u001B[39;00m\u001B[33m\"\u001B[39m)\n",
      "\u001B[36mFile \u001B[39m\u001B[32m~\\PycharmProjects\\AutomatedSleepScoring\\Human_SleepSCoring\\Tim\\Sleep_Scripts\\ASCII_to_binary_2ch_downsampled.py:58\u001B[39m, in \u001B[36mconvert_brainvision_ascii\u001B[39m\u001B[34m(vhdr_file, out_dir, channel_select)\u001B[39m\n\u001B[32m     55\u001B[39m data = []\n\u001B[32m     57\u001B[39m \u001B[38;5;28;01mwith\u001B[39;00m \u001B[38;5;28mopen\u001B[39m(dat_file, \u001B[33m\"\u001B[39m\u001B[33mr\u001B[39m\u001B[33m\"\u001B[39m) \u001B[38;5;28;01mas\u001B[39;00m f:\n\u001B[32m---> \u001B[39m\u001B[32m58\u001B[39m \u001B[43m    \u001B[49m\u001B[38;5;28;43;01mfor\u001B[39;49;00m\u001B[43m \u001B[49m\u001B[43mline\u001B[49m\u001B[43m \u001B[49m\u001B[38;5;129;43;01min\u001B[39;49;00m\u001B[43m \u001B[49m\u001B[43mf\u001B[49m\u001B[43m:\u001B[49m\n\u001B[32m     59\u001B[39m \u001B[43m        \u001B[49m\u001B[43mparts\u001B[49m\u001B[43m \u001B[49m\u001B[43m=\u001B[49m\u001B[43m \u001B[49m\u001B[43mline\u001B[49m\u001B[43m.\u001B[49m\u001B[43mstrip\u001B[49m\u001B[43m(\u001B[49m\u001B[43m)\u001B[49m\u001B[43m.\u001B[49m\u001B[43msplit\u001B[49m\u001B[43m(\u001B[49m\u001B[43m)\u001B[49m\n\u001B[32m     60\u001B[39m \u001B[43m        \u001B[49m\u001B[38;5;28;43;01mif\u001B[39;49;00m\u001B[43m \u001B[49m\u001B[38;5;129;43;01mnot\u001B[39;49;00m\u001B[43m \u001B[49m\u001B[43mparts\u001B[49m\u001B[43m:\u001B[49m\n",
      "\u001B[36mFile \u001B[39m\u001B[32m~\\miniconda3\\Lib\\encodings\\cp1252.py:22\u001B[39m, in \u001B[36mIncrementalDecoder.decode\u001B[39m\u001B[34m(self, input, final)\u001B[39m\n\u001B[32m     21\u001B[39m \u001B[38;5;28;01mclass\u001B[39;00m\u001B[38;5;250m \u001B[39m\u001B[34;01mIncrementalDecoder\u001B[39;00m(codecs.IncrementalDecoder):\n\u001B[32m---> \u001B[39m\u001B[32m22\u001B[39m     \u001B[38;5;28;01mdef\u001B[39;00m\u001B[38;5;250m \u001B[39m\u001B[34mdecode\u001B[39m(\u001B[38;5;28mself\u001B[39m, \u001B[38;5;28minput\u001B[39m, final=\u001B[38;5;28;01mFalse\u001B[39;00m):\n\u001B[32m     23\u001B[39m         \u001B[38;5;28;01mreturn\u001B[39;00m codecs.charmap_decode(\u001B[38;5;28minput\u001B[39m,\u001B[38;5;28mself\u001B[39m.errors,decoding_table)[\u001B[32m0\u001B[39m]\n",
      "\u001B[31mKeyboardInterrupt\u001B[39m: "
     ]
    }
   ],
   "execution_count": 8
  },
  {
   "metadata": {
    "ExecuteTime": {
     "end_time": "2025-09-18T13:33:58.571517Z",
     "start_time": "2025-09-18T13:33:05.961827Z"
    }
   },
   "cell_type": "code",
   "source": [
    "data = os.path.join(base_dir, '2', 'iEEG')\n",
    "convert = os.path.join(data, 'converted_prep')\n",
    "misc.link_sections(convert, \"brainvision\")"
   ],
   "id": "1c4f3560a1234ae5",
   "outputs": [
    {
     "name": "stdout",
     "output_type": "stream",
     "text": [
      "Linking night1\n",
      "Extracting parameters from D:/Intercranial_sleep_data\\2\\iEEG\\converted_prep\\2_night1_01.vhdr...\n",
      "Setting channel info structure...\n",
      "Reading 0 ... 3596783  =      0.000 ... 14387.132 secs...\n",
      "Extracting parameters from D:/Intercranial_sleep_data\\2\\iEEG\\converted_prep\\2_night1_02.vhdr...\n",
      "Setting channel info structure...\n",
      "Reading 0 ... 3599951  =      0.000 ... 14399.804 secs...\n",
      "Extracting parameters from D:/Intercranial_sleep_data\\2\\iEEG\\converted_prep\\2_night1_03.vhdr...\n",
      "Setting channel info structure...\n",
      "Reading 0 ... 3599871  =      0.000 ... 14399.484 secs...\n",
      "Linking night2\n",
      "Extracting parameters from D:/Intercranial_sleep_data\\2\\iEEG\\converted_prep\\2_night2_01.vhdr...\n",
      "Setting channel info structure...\n",
      "Reading 0 ... 2950863  =      0.000 ... 11803.452 secs...\n",
      "Extracting parameters from D:/Intercranial_sleep_data\\2\\iEEG\\converted_prep\\2_night2_02.vhdr...\n",
      "Setting channel info structure...\n",
      "Reading 0 ... 3599983  =      0.000 ... 14399.932 secs...\n",
      "Extracting parameters from D:/Intercranial_sleep_data\\2\\iEEG\\converted_prep\\2_night2_03.vhdr...\n",
      "Setting channel info structure...\n",
      "Reading 0 ... 3600015  =      0.000 ... 14400.060 secs...\n",
      "Extracting parameters from D:/Intercranial_sleep_data\\2\\iEEG\\converted_prep\\2_night2_04.vhdr...\n",
      "Setting channel info structure...\n",
      "Reading 0 ... 1058335  =      0.000 ...  4233.340 secs...\n"
     ]
    }
   ],
   "execution_count": 4
  }
 ],
 "metadata": {
  "kernelspec": {
   "display_name": "Python 3",
   "language": "python",
   "name": "python3"
  },
  "language_info": {
   "codemirror_mode": {
    "name": "ipython",
    "version": 2
   },
   "file_extension": ".py",
   "mimetype": "text/x-python",
   "name": "python",
   "nbconvert_exporter": "python",
   "pygments_lexer": "ipython2",
   "version": "2.7.6"
  }
 },
 "nbformat": 4,
 "nbformat_minor": 5
}
