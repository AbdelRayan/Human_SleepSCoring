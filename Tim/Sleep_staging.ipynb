{
 "cells": [
  {
   "cell_type": "code",
   "execution_count": null,
   "id": "initial_id",
   "metadata": {
    "collapsed": true
   },
   "outputs": [],
   "source": [
    "import os\n",
    "import Sleep_Scripts.ASCII_to_binary_2ch_downsampled as ASCII\n",
    "# Contains all the relevant functions"
   ]
  },
  {
   "metadata": {},
   "cell_type": "code",
   "outputs": [],
   "execution_count": null,
   "source": [
    "# Point to the folder containing the original ASCII brainvision .dat and .vhdr files\n",
    "base_dir = \"D:/Intercranial_sleep_data\"\n",
    "# Point to the output folder where the converted 2 channel, downsampled data is stored\n",
    "binary_path = \"D:/converted_sleep_data\"\n",
    "subjects = os.listdir(base_dir)"
   ],
   "id": "cefe6dbbf778aef9"
  },
  {
   "metadata": {},
   "cell_type": "code",
   "outputs": [],
   "execution_count": null,
   "source": [
    "# Run through each subject folder\n",
    "for subject in subjects:\n",
    "    # Run through each file\n",
    "    files = os.listdir(os.path.join(base_dir, subject, 'iEEG'))\n",
    "    # Each vhdr file is stored in a list\n",
    "    vhdr_files = [a for a in files if 'vhdr' in a]\n",
    "    # The ASCII gets converted to binary, here the output file is prepared\n",
    "    binary_file = os.path.join(binary_path, subject)\n",
    "    # Selecting vhdr files automatically converts the accompanying .dat files\n",
    "    for vhdr_file in vhdr_files:\n",
    "        print(f'Converting {subject}-{vhdr_file}')\n",
    "        # Convert each file, only keeping the EOG1 and Cz channels, and downsampling from 1000 to 250 hz\n",
    "        ASCII.convert_brainvision_ascii(os.path.join(base_dir, subject, 'iEEG', vhdr_file),\n",
    "                                        binary_file, ['EOG1', 'Cz'])"
   ],
   "id": "c08caab00b93d57d"
  }
 ],
 "metadata": {
  "kernelspec": {
   "display_name": "Python 3",
   "language": "python",
   "name": "python3"
  },
  "language_info": {
   "codemirror_mode": {
    "name": "ipython",
    "version": 2
   },
   "file_extension": ".py",
   "mimetype": "text/x-python",
   "name": "python",
   "nbconvert_exporter": "python",
   "pygments_lexer": "ipython2",
   "version": "2.7.6"
  }
 },
 "nbformat": 4,
 "nbformat_minor": 5
}
