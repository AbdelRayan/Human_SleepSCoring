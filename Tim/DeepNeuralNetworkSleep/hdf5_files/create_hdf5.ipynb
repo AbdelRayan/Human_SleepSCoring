{
 "nbformat": 4,
 "nbformat_minor": 0,
 "metadata": {
  "colab": {
   "provenance": []
  },
  "kernelspec": {
   "name": "python3",
   "display_name": "Python 3 (ipykernel)",
   "language": "python"
  },
  "language_info": {
   "name": "python"
  }
 },
 "cells": [
  {
   "cell_type": "code",
   "metadata": {
    "id": "REt29fUt9VLW",
    "ExecuteTime": {
     "end_time": "2025-09-09T13:13:05.027144Z",
     "start_time": "2025-09-09T13:13:01.837418Z"
    }
   },
   "source": [
    "#pip install mne             # To be installed if not already done\n",
    "#pip install h5py\n",
    "#pip install joblib\n",
    "\n",
    "import numpy as np\n",
    "import os\n",
    "import h5py\n",
    "import multiprocessing as mp\n",
    "from joblib import Parallel, delayed\n",
    "\n",
    "from hdf5_creation import prepare_for_hdf5, update_hdf5"
   ],
   "outputs": [],
   "execution_count": 1
  },
  {
   "cell_type": "code",
   "source": [
    "fs = 2500 # EEG sampling frequency\n",
    "epoch_length = 2 #in seconds\n",
    "\n",
    "path_to_pt5 = 'C:/Users/Cool/Documents/rat'   # Input folder path\n",
    "hdf5_path = 'C:/Users/Cool/Documents/rath5/Rat3.h5'   #Name of the new hdf5 file to create\n",
    "\n",
    "Database = h5py.File(hdf5_path, 'w')  # Output directory path\n",
    "\n",
    "files = np.ravel(os.listdir(path_to_pt5))\n",
    "# Create recording triplets (HPC, PFC, states)\n",
    "files = files[:len(files) // 3 * 3].reshape(-1, 3)\n",
    "\n",
    "num_processes = mp.cpu_count()\n",
    "print('Number of processes :', num_processes)\n",
    "\n",
    "results = (\n",
    "    Parallel(\n",
    "        n_jobs=min(num_processes, len(files)), verbose = 10)\n",
    "           (\n",
    "        delayed(\n",
    "               prepare_for_hdf5)(recording, fs, path_to_pt5, epoch_length) for recording in files))\n",
    "\n",
    "for result in results:\n",
    "    print(result[2])\n",
    "    update_hdf5(result, hdf5_path)"
   ],
   "metadata": {
    "id": "5-4KMVye9oDf",
    "ExecuteTime": {
     "end_time": "2025-09-09T13:15:23.256954Z",
     "start_time": "2025-09-09T13:13:43.809964Z"
    }
   },
   "outputs": [
    {
     "name": "stdout",
     "output_type": "stream",
     "text": [
      "Number of processes : 12\n",
      "len(hpc_data) : 6692704\n",
      "len(states) : 2677\n",
      "##################\n",
      "1338\n",
      "6692704\n",
      "##################\n",
      "HPC_100_CH46.continuous\n",
      "C:/Users/Cool/Documents/rath5/Rat3.h5\n"
     ]
    },
    {
     "name": "stderr",
     "output_type": "stream",
     "text": [
      "[Parallel(n_jobs=1)]: Done   1 tasks      | elapsed:  1.7min\n",
      "[Parallel(n_jobs=1)]: Done   1 out of   1 | elapsed:  1.7min finished\n"
     ]
    }
   ],
   "execution_count": 2
  }
 ]
}
