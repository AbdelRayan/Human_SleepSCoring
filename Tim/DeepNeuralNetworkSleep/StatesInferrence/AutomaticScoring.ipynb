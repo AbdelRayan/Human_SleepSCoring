{
  "nbformat": 4,
  "nbformat_minor": 0,
  "metadata": {
    "colab": {
      "provenance": [],
      "collapsed_sections": [
        "otjRaMVVjc7k"
      ]
    },
    "kernelspec": {
      "name": "python3",
      "display_name": "Python 3"
    },
    "language_info": {
      "name": "python"
    }
  },
  "cells": [
    {
      "cell_type": "markdown",
      "source": [
        "Upload:\n",
        "* latentStates.npz\n",
        "* obsKeys.npz\n",
        "* uniqueStates.npz\n",
        "\n",
        "* latentStatespt.npz\n",
        "* obsKeyspt.npz\n",
        "* uniqueStatespt.npz"
      ],
      "metadata": {
        "id": "XV0LNMmXwVXh"
      }
    },
    {
      "cell_type": "markdown",
      "source": [
        "#Libraries"
      ],
      "metadata": {
        "id": "b9eT5vUsi1QX"
      }
    },
    {
      "cell_type": "code",
      "source": [
        "import pandas as pd\n",
        "import numpy as np\n",
        "from scipy.stats import mode\n",
        "from scipy.io import loadmat\n",
        "from scipy.io import savemat\n",
        "from math import *\n",
        "from sklearn.metrics import confusion_matrix\n",
        "import h5py as h5\n",
        "import matplotlib.pyplot as plt\n",
        "import plotly.graph_objects as go\n",
        "from plotly.subplots import make_subplots\n",
        "import seaborn as sns\n",
        "from matplotlib.colors import LinearSegmentedColormap\n",
        "import GetInferredStates from GetInferredStates"
      ],
      "metadata": {
        "id": "vRGejJKNGvTD"
      },
      "execution_count": null,
      "outputs": []
    },
    {
      "cell_type": "markdown",
      "source": [
        "#Loading Data"
      ],
      "metadata": {
        "id": "otjRaMVVjc7k"
      }
    },
    {
      "cell_type": "code",
      "source": [
        "fs = 1000\n",
        "window_length = fs*2\n",
        "epoch_length = int(window_length/fs)"
      ],
      "metadata": {
        "id": "E2oHHaa528Ue"
      },
      "execution_count": null,
      "outputs": []
    },
    {
      "cell_type": "code",
      "source": [
        "latent_states = np.load('latentStates.npz')     # data from the training\n",
        "unique_states = np.load('uniqueStates.npz')\n",
        "obs_keys = np.load('obsKeys.npz')\n",
        "\n",
        "latent_states_pt = np.load('latentStatespt.npz')  # data from your run (rename with _pt)\n",
        "unique_states_pt = np.load('uniqueStatespt.npz')\n",
        "obs_keys_pt = np.load('obsKeyspt.npz')"
      ],
      "metadata": {
        "id": "PcCOUe20G-WY"
      },
      "execution_count": null,
      "outputs": []
    },
    {
      "cell_type": "code",
      "source": [
        "inferredStates = latent_states['inferredStates']\n",
        "uniqueStates = unique_states['uniqueStates']\n",
        "obsKeys = obs_keys['obsKeys']\n",
        "\n",
        "manualStates = inferredStates[:, 1]\n",
        "latentStates = inferredStates[:, 0]\n",
        "\n",
        "nLS = uniqueStates.shape[0]\n",
        "LS = [f\"LS-{i+1}\" for i in range(nLS)]"
      ],
      "metadata": {
        "id": "6yV0VxU2HAuZ"
      },
      "execution_count": null,
      "outputs": []
    },
    {
      "cell_type": "code",
      "source": [
        "inferredStates_pt = latent_states_pt['inferredStates']\n",
        "uniqueStates_pt = unique_states_pt['uniqueStates']\n",
        "obsKeys_pt = obs_keys_pt['obsKeys']\n",
        "\n",
        "manualStates_pt = inferredStates_pt[:, 1]\n",
        "latentStates_pt = inferredStates_pt[:, 0]\n",
        "\n",
        "nLS_pt = uniqueStates_pt.shape[0]\n",
        "LS_pt = [f\"LS-{i+1}\" for i in range(nLS_pt)]"
      ],
      "metadata": {
        "id": "VZqySZpYWP-L"
      },
      "execution_count": null,
      "outputs": []
    },
    {
      "cell_type": "code",
      "source": [
        "inferredStates.shape, uniqueStates.shape, manualStates.shape, latentStates.shape, obsKeys.shape"
      ],
      "metadata": {
        "colab": {
          "base_uri": "https://localhost:8080/"
        },
        "id": "9S-NW0LyHDR2",
        "outputId": "8335fc1f-dc51-4c2c-ae1d-13814e714fa0"
      },
      "execution_count": null,
      "outputs": [
        {
          "output_type": "execute_result",
          "data": {
            "text/plain": [
              "((608100, 2), (102, 23), (608100,), (608100,), (608100, 5))"
            ]
          },
          "metadata": {},
          "execution_count": 16
        }
      ]
    },
    {
      "cell_type": "code",
      "source": [
        "inferredStates_pt.shape, uniqueStates_pt.shape, manualStates_pt.shape, latentStates_pt.shape, obsKeys_pt.shape"
      ],
      "metadata": {
        "colab": {
          "base_uri": "https://localhost:8080/"
        },
        "id": "TyHedG5UWZDa",
        "outputId": "faabe0c9-1210-46c4-c35a-cdd5d8793397"
      },
      "execution_count": null,
      "outputs": [
        {
          "output_type": "execute_result",
          "data": {
            "text/plain": [
              "((5396, 2), (54, 23), (5396,), (5396,), (5396, 5))"
            ]
          },
          "metadata": {},
          "execution_count": 17
        }
      ]
    },
    {
      "cell_type": "code",
      "source": [
        "uniqueStatesStr = [''.join(map(str, row[13:].astype(int))) for row in uniqueStates]\n",
        "uniqueStatesStr_pt = [''.join(map(str, row[13:].astype(int))) for row in uniqueStates_pt]"
      ],
      "metadata": {
        "id": "sJyRb8_IfmXo"
      },
      "execution_count": null,
      "outputs": []
    },
    {
      "cell_type": "markdown",
      "source": [
        "# Infer states"
      ],
      "metadata": {
        "id": "hgLaYfjKfHsT"
      }
    },
    {
      "cell_type": "code",
      "source": [
        "inferred_states = GetInferredStates(uniqueStates, obsKeys, uniqueStatesStr, obsKeys_pt, uniqueStates_pt, uniqueStatesStr_pt)  # Get inferred states (1 3 or 5)"
      ],
      "metadata": {
        "colab": {
          "base_uri": "https://localhost:8080/"
        },
        "id": "eGozx2-AwgfA",
        "outputId": "91059df0-8c47-48f2-d31e-2745a1199d9d"
      },
      "execution_count": null,
      "outputs": [
        {
          "output_type": "execute_result",
          "data": {
            "text/plain": [
              "array([1., 1., 1., ..., 1., 1., 1.])"
            ]
          },
          "metadata": {},
          "execution_count": 24
        }
      ]
    },
    {
      "cell_type": "code",
      "source": [
        "io.savemat('inferred_scoring.mat', {'inferred_states': inferred_states})"
      ],
      "metadata": {
        "id": "lRUtOQxSfSiI"
      },
      "execution_count": null,
      "outputs": []
    }
  ]
}