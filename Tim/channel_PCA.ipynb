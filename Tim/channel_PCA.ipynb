{
 "cells": [
  {
   "cell_type": "code",
   "id": "initial_id",
   "metadata": {
    "collapsed": true,
    "ExecuteTime": {
     "end_time": "2025-09-22T09:00:18.390825Z",
     "start_time": "2025-09-22T09:00:16.192795Z"
    }
   },
   "source": [
    "import mne\n",
    "import Sleep_Scripts.PCA as P"
   ],
   "outputs": [],
   "execution_count": 1
  },
  {
   "metadata": {
    "jupyter": {
     "is_executing": true
    },
    "ExecuteTime": {
     "start_time": "2025-09-22T09:00:27.541337Z"
    }
   },
   "cell_type": "code",
   "source": [
    "# Data\n",
    "files = [\n",
    "    \"D:/Intercranial_sleep_data/2/iEEG/converted/2_night1_02.vhdr\",\n",
    "    \"D:/Intercranial_sleep_data/2/iEEG/converted/2_night1_02.vhdr\",\n",
    "    \"D:/Intercranial_sleep_data/2/iEEG/converted/2_night1_02.vhdr\"\n",
    "]\n",
    "\n",
    "raw_list = [mne.io.read_raw_brainvision(f, preload=True) for f in files]\n",
    "\n",
    "raw = mne.concatenate_raws(raw_list)"
   ],
   "id": "98546a2c2b2f25e6",
   "outputs": [
    {
     "name": "stdout",
     "output_type": "stream",
     "text": [
      "Extracting parameters from D:/Intercranial_sleep_data/2/iEEG/converted/2_night1_02.vhdr...\n"
     ]
    }
   ],
   "execution_count": null
  },
  {
   "metadata": {},
   "cell_type": "code",
   "outputs": [],
   "execution_count": null,
   "source": [
    "# band options are: beta, gamma, delta, theta, sigma, total and noise\n",
    "P.channel_pca(raw, 'delta')"
   ],
   "id": "811a01fc996986b"
  }
 ],
 "metadata": {
  "kernelspec": {
   "display_name": "Python 3",
   "language": "python",
   "name": "python3"
  },
  "language_info": {
   "codemirror_mode": {
    "name": "ipython",
    "version": 2
   },
   "file_extension": ".py",
   "mimetype": "text/x-python",
   "name": "python",
   "nbconvert_exporter": "python",
   "pygments_lexer": "ipython2",
   "version": "2.7.6"
  }
 },
 "nbformat": 4,
 "nbformat_minor": 5
}
