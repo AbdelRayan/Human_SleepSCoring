{
 "cells": [
  {
   "cell_type": "code",
   "id": "initial_id",
   "metadata": {
    "collapsed": true,
    "ExecuteTime": {
     "end_time": "2025-10-01T08:49:07.091219Z",
     "start_time": "2025-10-01T08:49:04.904759Z"
    }
   },
   "source": [
    "import mne\n",
    "import Sleep_Scripts.PCA as P\n",
    "import numpy as np\n",
    "import matplotlib.pyplot as plt"
   ],
   "outputs": [],
   "execution_count": 1
  },
  {
   "metadata": {
    "ExecuteTime": {
     "end_time": "2025-10-01T08:49:09.623226Z",
     "start_time": "2025-10-01T08:49:07.102144Z"
    }
   },
   "cell_type": "code",
   "source": [
    "# Data\n",
    "# files = [\n",
    "#     \"D:/Intracranial_sleep_data/2/iEEG/converted/2_night1_02.vhdr\",\n",
    "#     \"D:/Intracranial_sleep_data/2/iEEG/converted/2_night1_02.vhdr\",\n",
    "#     \"D:/Intracranial_sleep_data/2/iEEG/converted/2_night1_02.vhdr\"\n",
    "# ]\n",
    "# \n",
    "# raw_list = [mne.io.read_raw_brainvision(f, preload=True) for f in files]\n",
    "# \n",
    "# raw = mne.concatenate_raws(raw_list)\n",
    "raw = mne.io.read_raw_brainvision(\"D:/Intracranial_sleep_data/7/iEEG/converted/7_night1_02.vhdr\", preload=True)"
   ],
   "id": "98546a2c2b2f25e6",
   "outputs": [
    {
     "name": "stdout",
     "output_type": "stream",
     "text": [
      "Extracting parameters from D:/Intracranial_sleep_data/7/iEEG/converted/7_night1_02.vhdr...\n",
      "Setting channel info structure...\n",
      "Reading 0 ... 2700031  =      0.000 ... 10800.124 secs...\n"
     ]
    }
   ],
   "execution_count": 2
  },
  {
   "metadata": {
    "ExecuteTime": {
     "end_time": "2025-10-01T08:49:09.793323Z",
     "start_time": "2025-10-01T08:49:09.785914Z"
    }
   },
   "cell_type": "code",
   "source": [
    "raw_pos = ch_pos = \"\"\"TBAL01,-12.1316303379,-38.0523203992,-8.70120673783,3.0,0.0,0.0,1.0\n",
    "TBAL02,-21.2697937028,-33.0627796608,-19.1011967218,3.0,0.0,0.0,1.0\n",
    "TBAL03,-31.4963826063,-30.3102555344,-23.7011853396,3.0,0.0,0.0,1.0\n",
    "TBAL04,-39.4070961952,-24.988661924,-27.6011741523,3.0,0.0,0.0,1.0\n",
    "TBAR01,22.2663588259,-10.2662962823,-35.4011968194,3.0,0.0,0.0,1.0\n",
    "TBAR02,31.0946391374,-12.8293465858,-35.4011831537,3.0,0.0,0.0,1.0\n",
    "TBAR03,40.4924868088,-16.8163122646,-35.4011831537,3.0,0.0,0.0,1.0\n",
    "TBAR04,50.7446842685,-19.0945783667,-35.4011831537,3.0,0.0,0.0,1.0\n",
    "TBPL01,-14.228776513,-44.3437589245,-8.70120673783,3.0,0.0,0.0,1.0\n",
    "TBPL02,-23.1665266137,-40.1077876155,-19.1011967218,3.0,0.0,0.0,1.0\n",
    "TBPL03,-32.2442691352,-37.2043695613,-25.6011672782,3.0,0.0,0.0,1.0\n",
    "TBPL04,-41.3633960822,-32.4936371061,-29.8011874416,3.0,0.0,0.0,1.0\n",
    "TBPR01,19.4185260823,-15.9619617694,-35.4011968194,3.0,0.0,0.0,1.0\n",
    "TBPR02,27.6772399842,-19.3793616295,-35.4011831537,3.0,0.0,0.0,1.0\n",
    "TBPR03,37.6446541811,-23.3663273083,-35.4011831537,3.0,0.0,0.0,1.0\n",
    "TBPR04,50.6585697981,-23.3403668259,-34.1483451917,3.0,0.0,0.0,1.0\n",
    "TL01,-28.7060516785,-17.6929185236,-15.9236700548,3.0,0.0,0.0,1.0\n",
    "TL02,-29.0146479028,-21.0930025478,-12.8056643807,3.0,0.0,0.0,1.0\n",
    "TL03,-29.4319350016,-25.6931313601,-9.66478601871,3.0,0.0,0.0,1.0\n",
    "TL04,-29.8131513877,-29.8932304213,-5.76697904454,3.0,0.0,0.0,1.0\n",
    "TL05,-30.9189700014,-34.5933716729,-2.46585762101,3.0,0.0,0.0,1.0\n",
    "TL06,-31.2703494191,-38.3934793966,0.917481931078,3.0,0.0,0.0,1.0\n",
    "TL07,-31.9586684977,-42.0935986839,4.36516172902,3.0,0.0,0.0,1.0\n",
    "TL08,-32.359892103,-46.3937501288,7.88489726214,3.0,0.0,0.0,1.0\n",
    "TL09,-32.6957781785,-49.9938200299,10.7569876784,3.0,0.0,0.0,1.0\n",
    "TL10,-33.4064704111,-53.793963097,13.6841906003,3.0,0.0,0.0,1.0\n",
    "TLL01,-63.3173048868,-36.5169665684,-19.7011997418,3.0,0.0,0.0,1.0\n",
    "TLL02,-61.5336617232,-47.1244083601,-19.601155859,3.0,0.0,0.0,1.0\n",
    "TLL03,-60.5763268031,-56.4479388747,-15.6011926024,3.0,0.0,0.0,1.0\n",
    "TLL04,-55.8601627321,-63.69749642,-9.50118643492,3.0,0.0,0.0,1.0\n",
    "TLL05,-50.6564044122,-71.7965695944,-4.00120153661,3.0,0.0,0.0,1.0\n",
    "TLL06,-46.6216781739,-78.0468996223,3.89879300591,3.0,0.0,0.0,1.0\n",
    "TLR01,62.2845631746,-34.9176530097,-14.6012059479,3.0,0.0,0.0,1.0\n",
    "TLR02,61.6397119617,-45.20702519,-11.9633780907,3.0,0.0,0.0,1.0\n",
    "TLR03,59.1723956744,-57.1073549199,-8.80649092817,3.0,0.0,0.0,1.0\n",
    "TLR04,54.2151245941,-64.6268956358,-7.90117625348,3.0,0.0,0.0,1.0\n",
    "TLR05,49.0057023451,-73.4313689554,-5.10114587252,3.0,0.0,0.0,1.0\n",
    "TLR06,42.9675101736,-81.9697971003,-0.901192023593,3.0,0.0,0.0,1.0\n",
    "TR01,21.4677056578,-15.1974381006,-19.9494708852,3.0,0.0,0.0,1.0\n",
    "TR02,22.2869214109,-19.2974966404,-16.60749768,3.0,0.0,0.0,1.0\n",
    "TR03,22.7528485487,-22.4975863674,-12.8267265633,3.0,0.0,0.0,1.0\n",
    "TR04,23.9441558277,-26.9977447182,-9.6794839262,3.0,0.0,0.0,1.0\n",
    "TR05,24.4556665855,-30.7978189571,-5.77191726862,3.0,0.0,0.0,1.0\n",
    "TR06,25.2966753433,-34.2979343774,-2.1220248131,3.0,0.0,0.0,1.0\n",
    "TR07,26.5261723889,-38.4980770953,2.27573668081,3.0,0.0,0.0,1.0\n",
    "TR08,27.416046728,-42.3981902677,5.72813687028,3.0,0.0,0.0,1.0\n",
    "TR09,28.2759873136,-45.4982850351,9.92699493228,3.0,0.0,0.0,1.0\n",
    "TR10,28.8575872083,-49.6983862476,13.8713226304,3.0,0.0,0.0,1.0\n",
    "\"\"\""
   ],
   "id": "de4c47718167130a",
   "outputs": [],
   "execution_count": 3
  },
  {
   "metadata": {
    "ExecuteTime": {
     "end_time": "2025-10-01T08:50:43.488227Z",
     "start_time": "2025-10-01T08:49:09.821928Z"
    }
   },
   "cell_type": "code",
   "source": [
    "# band options are: beta, gamma, delta, theta, sigma, total and noise\n",
    "df_features = P.channel_pca_multiband(raw, raw_pos)"
   ],
   "id": "811a01fc996986b",
   "outputs": [
    {
     "name": "stdout",
     "output_type": "stream",
     "text": [
      "Warning: Cb1 missing coordinates, excluding.\n",
      "Warning: Cb2 missing coordinates, excluding.\n",
      "Warning: EKG1 missing coordinates, excluding.\n",
      "Warning: EKG2 missing coordinates, excluding.\n",
      "Warning: T5 missing coordinates, excluding.\n",
      "Warning: T6 missing coordinates, excluding.\n",
      "Warning: C3 missing coordinates, excluding.\n",
      "Warning: Cz missing coordinates, excluding.\n",
      "Warning: C4 missing coordinates, excluding.\n",
      "Warning: Oz missing coordinates, excluding.\n",
      "Warning: EOG1 missing coordinates, excluding.\n",
      "Warning: EOG2 missing coordinates, excluding.\n",
      "Warning: EMG1 missing coordinates, excluding.\n",
      "Warning: EMG2 missing coordinates, excluding.\n"
     ]
    },
    {
     "ename": "NameError",
     "evalue": "name 'coords_list' is not defined",
     "output_type": "error",
     "traceback": [
      "\u001B[31m---------------------------------------------------------------------------\u001B[39m",
      "\u001B[31mNameError\u001B[39m                                 Traceback (most recent call last)",
      "\u001B[36mCell\u001B[39m\u001B[36m \u001B[39m\u001B[32mIn[4]\u001B[39m\u001B[32m, line 2\u001B[39m\n\u001B[32m      1\u001B[39m \u001B[38;5;66;03m# band options are: beta, gamma, delta, theta, sigma, total and noise\u001B[39;00m\n\u001B[32m----> \u001B[39m\u001B[32m2\u001B[39m df_features = \u001B[43mP\u001B[49m\u001B[43m.\u001B[49m\u001B[43mchannel_pca_multiband\u001B[49m\u001B[43m(\u001B[49m\u001B[43mraw\u001B[49m\u001B[43m,\u001B[49m\u001B[43m \u001B[49m\u001B[43mraw_pos\u001B[49m\u001B[43m)\u001B[49m\n",
      "\u001B[36mFile \u001B[39m\u001B[32m~\\PycharmProjects\\AutomatedSleepScoring\\Human_SleepSCoring\\Tim\\Sleep_Scripts\\PCA.py:142\u001B[39m, in \u001B[36mchannel_pca_multiband\u001B[39m\u001B[34m(raw, electrode_text, bands, n_components)\u001B[39m\n\u001B[32m    140\u001B[39m X_std = X_std[valid_idx, :]  \u001B[38;5;66;03m# only channels that exist in coords\u001B[39;00m\n\u001B[32m    141\u001B[39m valid_ch_names = [valid_ch_names[i] \u001B[38;5;28;01mfor\u001B[39;00m i \u001B[38;5;129;01min\u001B[39;00m \u001B[38;5;28mrange\u001B[39m(\u001B[38;5;28mlen\u001B[39m(valid_idx))]\n\u001B[32m--> \u001B[39m\u001B[32m142\u001B[39m coords = np.array(\u001B[43mcoords_list\u001B[49m)  \u001B[38;5;66;03m# shape = (n_valid_channels, 3)\u001B[39;00m\n\u001B[32m    143\u001B[39m data = data[valid_picks, :]\n\u001B[32m    144\u001B[39m \u001B[38;5;66;03m# PCA\u001B[39;00m\n",
      "\u001B[31mNameError\u001B[39m: name 'coords_list' is not defined"
     ]
    }
   ],
   "execution_count": 4
  },
  {
   "metadata": {
    "ExecuteTime": {
     "end_time": "2025-10-01T08:50:43.490198200Z",
     "start_time": "2025-10-01T08:36:05.559534Z"
    }
   },
   "cell_type": "code",
   "source": "bandpowers = P.rank_channels_by_bandpower(raw, n_top=5)",
   "id": "342cf5c1d88fabcf",
   "outputs": [
    {
     "name": "stdout",
     "output_type": "stream",
     "text": [
      "Effective window size : 4.000 (s)\n",
      "\n",
      "Top 5 channels for delta:\n",
      "  TR07: 0.0000\n",
      "  TR02: 0.0000\n",
      "  TR01: 0.0000\n",
      "  TR06: 0.0000\n",
      "  TR03: 0.0000\n",
      "\n",
      "Top 5 channels for theta:\n",
      "  TR07: 0.0000\n",
      "  TR06: 0.0000\n",
      "  TR02: 0.0000\n",
      "  TR01: 0.0000\n",
      "  EKG1: 0.0000\n",
      "\n",
      "Top 5 channels for sigma:\n",
      "  TR07: 0.0000\n",
      "  TR06: 0.0000\n",
      "  TR02: 0.0000\n",
      "  TR01: 0.0000\n",
      "  EKG1: 0.0000\n",
      "\n",
      "Top 5 channels for beta:\n",
      "  TR02: 0.0000\n",
      "  TR01: 0.0000\n",
      "  TR07: 0.0000\n",
      "  TR06: 0.0000\n",
      "  TBPR1: 0.0000\n",
      "\n",
      "Top 5 channels for gamma:\n",
      "  TR02: 0.0000\n",
      "  TR01: 0.0000\n",
      "  TR07: 0.0000\n",
      "  TBPR1: 0.0000\n",
      "  TBAR1: 0.0000\n",
      "\n",
      "Top 5 channels for total:\n",
      "  TR07: 0.0000\n",
      "  TR02: 0.0000\n",
      "  TR01: 0.0000\n",
      "  TR06: 0.0000\n",
      "  TR03: 0.0000\n",
      "[0.5  0.75 1.   1.25 1.5  1.75 2.   2.25 2.5  2.75] [42.75 43.   43.25 43.5  43.75 44.   44.25 44.5  44.75 45.  ]\n"
     ]
    }
   ],
   "execution_count": 5
  }
 ],
 "metadata": {
  "kernelspec": {
   "display_name": "Python 3",
   "language": "python",
   "name": "python3"
  },
  "language_info": {
   "codemirror_mode": {
    "name": "ipython",
    "version": 2
   },
   "file_extension": ".py",
   "mimetype": "text/x-python",
   "name": "python",
   "nbconvert_exporter": "python",
   "pygments_lexer": "ipython2",
   "version": "2.7.6"
  }
 },
 "nbformat": 4,
 "nbformat_minor": 5
}
