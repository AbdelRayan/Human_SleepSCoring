{
 "cells": [
  {
   "cell_type": "code",
   "id": "initial_id",
   "metadata": {
    "collapsed": true,
    "ExecuteTime": {
     "end_time": "2025-09-22T09:12:18.915642Z",
     "start_time": "2025-09-22T09:12:18.912102Z"
    }
   },
   "source": [
    "import mne\n",
    "import Sleep_Scripts.PCA as P\n",
    "import numpy as np"
   ],
   "outputs": [],
   "execution_count": 3
  },
  {
   "metadata": {
    "jupyter": {
     "is_executing": true
    },
    "ExecuteTime": {
     "start_time": "2025-09-22T09:12:20.144775Z"
    }
   },
   "cell_type": "code",
   "source": [
    "# Data\n",
    "files = [\n",
    "    \"D:/Intercranial_sleep_data/2/iEEG/converted/2_night1_02.vhdr\",\n",
    "    \"D:/Intercranial_sleep_data/2/iEEG/converted/2_night1_02.vhdr\",\n",
    "    \"D:/Intercranial_sleep_data/2/iEEG/converted/2_night1_02.vhdr\"\n",
    "]\n",
    "\n",
    "raw_list = [mne.io.read_raw_brainvision(f, preload=True) for f in files]\n",
    "\n",
    "raw = mne.concatenate_raws(raw_list)"
   ],
   "id": "98546a2c2b2f25e6",
   "outputs": [
    {
     "name": "stdout",
     "output_type": "stream",
     "text": [
      "Extracting parameters from D:/Intercranial_sleep_data/2/iEEG/converted/2_night1_02.vhdr...\n",
      "Setting channel info structure...\n",
      "Reading 0 ... 3599951  =      0.000 ... 14399.804 secs...\n"
     ]
    }
   ],
   "execution_count": null
  },
  {
   "metadata": {
    "ExecuteTime": {
     "end_time": "2025-09-22T09:12:13.683476Z",
     "start_time": "2025-09-22T09:12:13.233510Z"
    }
   },
   "cell_type": "code",
   "source": [
    "# Electrode coordinates in dict, when plotting data\n",
    "ch_pos = \"\"\"TBAL01,-14.7597476322,-6.0460235101,-25.5850007858,3.0,0.0,0.0,1.0\n",
    "TBAL02,-23.8502152247,-7.70579691945,-27.6707326656,3.0,0.0,0.0,1.0\n",
    "TBAL03,-32.4608618068,-12.6057765014,-29.63862474,3.0,0.0,0.0,1.0\n",
    "TBAL04,-41.370943494,-16.1057770418,-27.2858877757,3.0,0.0,0.0,1.0\n",
    "TBAR01,21.2692424822,5.55464401557,-30.1200892402,3.0,0.0,0.0,1.0\n",
    "TBAR02,28.1692503576,-3.79814041336,-37.3024835687,3.0,0.0,0.0,1.0\n",
    "TBAR03,37.5692568698,-11.3284314731,-41.4334355564,3.0,0.0,0.0,1.0\n",
    "TBAR04,43.1692432567,-15.5635416157,-39.246865846,3.0,0.0,0.0,1.0\n",
    "TBPL01,-23.478251022,-13.1057756875,-33.3071591505,3.0,0.0,0.0,1.0\n",
    "TBPL02,-33.5012997336,-13.7057761814,-39.0027410899,3.0,0.0,0.0,1.0\n",
    "TBPL03,-45.801073729,-13.0057764103,-36.6366464371,3.0,0.0,0.0,1.0\n",
    "TBPL04,-52.4781443242,-23.2753493694,-31.7442255101,3.0,0.0,0.0,1.0\n",
    "TBPR01,20.6446672648,-21.6057967717,-19.6160681079,3.0,0.0,0.0,1.0\n",
    "TBPR02,30.7692376934,-23.65680533,-25.8999656924,3.0,0.0,0.0,1.0\n",
    "TBPR03,43.1692432567,-23.3569327329,-30.1174648231,3.0,0.0,0.0,1.0\n",
    "TBPR04,50.5459098816,-20.6685314178,-27.4362754822,3.0,0.0,0.0,1.0\n",
    "TL01,-27.8025787284,2.94381197154,-25.7704129743,3.0,0.0,0.0,1.0\n",
    "TL02,-27.9365535293,-0.279436019242,-23.7418962605,3.0,0.0,0.0,1.0\n",
    "TL03,-28.0707225378,-3.50735637725,-21.1212751002,3.0,0.0,0.0,1.0\n",
    "TL04,-28.2295310669,-7.32820944667,-18.2068963446,3.0,0.0,0.0,1.0\n",
    "TL05,-28.3396384753,-9.97725515117,-16.4586378269,3.0,0.0,0.0,1.0\n",
    "TL06,-28.4989150123,-13.8092139509,-13.5360229063,3.0,0.0,0.0,1.0\n",
    "TL07,-28.6584652797,-17.6477583006,-11.1994184237,3.0,0.0,0.0,1.0\n",
    "TL08,-28.8305926124,-21.78895962,-8.56481415359,3.0,0.0,0.0,1.0\n",
    "TL09,-29.015366183,-26.2344823097,-5.92694205245,3.0,0.0,0.0,1.0\n",
    "TL10,-29.1881556051,-30.3916128605,-2.68966251791,3.0,0.0,0.0,1.0\n",
    "TLL01,-47.8871924903,-72.5484123087,18.1256679487,3.0,0.0,0.0,1.0\n",
    "TLL02,-52.9486591588,-66.2035528005,11.3705646227,3.0,0.0,0.0,1.0\n",
    "TLL03,-57.5667604801,-59.7549015954,6.16475846109,3.0,0.0,0.0,1.0\n",
    "TLL04,-61.3207819246,-51.8835704436,-0.649540821411,3.0,0.0,0.0,1.0\n",
    "TLL05,-62.1513350833,-43.9877113335,-8.1682017328,3.0,0.0,0.0,1.0\n",
    "TLL06,-59.9517782305,-36.5551807906,-14.0210782192,3.0,0.0,0.0,1.0\n",
    "TLR01,50.9354580199,-61.2221223265,35.6122598906,3.0,0.0,0.0,1.0\n",
    "TLR02,56.3130495324,-57.5204924895,26.8586421252,3.0,0.0,0.0,1.0\n",
    "TLR03,60.3850664507,-53.4868406374,17.6509928111,3.0,0.0,0.0,1.0\n",
    "TLR04,63.5416089254,-48.8778620888,8.17602884676,3.0,0.0,0.0,1.0\n",
    "TLR05,62.279967278,-43.1869707932,-1.92096520101,3.0,0.0,0.0,1.0\n",
    "TLR06,61.2345414416,-37.6393440826,-11.7239910971,3.0,0.0,0.0,1.0\n",
    "TR01,33.3714097913,-4.4088639018,-18.7292952372,3.0,0.0,0.0,1.0\n",
    "TR02,33.3510352113,-9.47626908733,-15.0937380628,3.0,0.0,0.0,1.0\n",
    "TR03,33.3342005433,-13.6646346592,-11.566355921,3.0,0.0,0.0,1.0\n",
    "TR04,33.3182376484,-17.6344374532,-8.69896375808,3.0,0.0,0.0,1.0\n",
    "TR05,33.3035979759,-21.2750296433,-6.38186984,3.0,0.0,0.0,1.0\n",
    "TR06,33.2889588438,-24.9171582312,-3.18123325233,3.0,0.0,0.0,1.0\n",
    "TR07,33.2765329151,-28.0086550114,-0.64169525692,3.0,0.0,0.0,1.0\n",
    "TR08,33.2620909232,-31.5997591186,2.09893684532,3.0,0.0,0.0,1.0\n",
    "TR09,33.247440994,-35.2437181225,4.74957913061,3.0,0.0,0.0,1.0\n",
    "TR10,33.2310138769,-39.3311978161,8.39535551481,3.0,0.0,0.0,1.0\n",
    "\"\"\"\n",
    "ch_pos = P.parse_positions(ch_pos, to_meters=True)\n",
    "\n",
    "montage = mne.channels.make_dig_montage(ch_pos=ch_pos, coord_frame=\"head\")\n",
    "\n",
    "raw.set_montage(montage)"
   ],
   "id": "de4c47718167130a",
   "outputs": [
    {
     "ename": "AttributeError",
     "evalue": "module 'Sleep_Scripts.PCA' has no attribute 'parse_positions'",
     "output_type": "error",
     "traceback": [
      "\u001B[31m---------------------------------------------------------------------------\u001B[39m",
      "\u001B[31mAttributeError\u001B[39m                            Traceback (most recent call last)",
      "\u001B[36mCell\u001B[39m\u001B[36m \u001B[39m\u001B[32mIn[2]\u001B[39m\u001B[32m, line 51\u001B[39m\n\u001B[32m      1\u001B[39m \u001B[38;5;66;03m# Electrode coordinates in dict, when plotting data\u001B[39;00m\n\u001B[32m      2\u001B[39m ch_pos = \u001B[33m\"\"\"\u001B[39m\u001B[33mTBAL01,-14.7597476322,-6.0460235101,-25.5850007858,3.0,0.0,0.0,1.0\u001B[39m\n\u001B[32m      3\u001B[39m \u001B[33mTBAL02,-23.8502152247,-7.70579691945,-27.6707326656,3.0,0.0,0.0,1.0\u001B[39m\n\u001B[32m      4\u001B[39m \u001B[33mTBAL03,-32.4608618068,-12.6057765014,-29.63862474,3.0,0.0,0.0,1.0\u001B[39m\n\u001B[32m   (...)\u001B[39m\u001B[32m     49\u001B[39m \u001B[33mTR10,33.2310138769,-39.3311978161,8.39535551481,3.0,0.0,0.0,1.0\u001B[39m\n\u001B[32m     50\u001B[39m \u001B[33m\"\"\"\u001B[39m\n\u001B[32m---> \u001B[39m\u001B[32m51\u001B[39m ch_pos = \u001B[43mP\u001B[49m\u001B[43m.\u001B[49m\u001B[43mparse_positions\u001B[49m(ch_pos, to_meters=\u001B[38;5;28;01mTrue\u001B[39;00m)\n\u001B[32m     53\u001B[39m montage = mne.channels.make_dig_montage(ch_pos=ch_pos, coord_frame=\u001B[33m\"\u001B[39m\u001B[33mhead\u001B[39m\u001B[33m\"\u001B[39m)\n\u001B[32m     55\u001B[39m raw.set_montage(montage)\n",
      "\u001B[31mAttributeError\u001B[39m: module 'Sleep_Scripts.PCA' has no attribute 'parse_positions'"
     ]
    }
   ],
   "execution_count": 2
  },
  {
   "metadata": {
    "ExecuteTime": {
     "end_time": "2025-09-22T09:02:50.290345Z",
     "start_time": "2025-09-22T09:01:48.638385Z"
    }
   },
   "cell_type": "code",
   "source": [
    "# band options are: beta, gamma, delta, theta, sigma, total and noise\n",
    "P.channel_pca(raw, 'delta')"
   ],
   "id": "811a01fc996986b",
   "outputs": [
    {
     "name": "stdout",
     "output_type": "stream",
     "text": [
      "Filtering raw data in 3 contiguous segments\n",
      "Setting up band-pass filter from 0.5 - 5 Hz\n",
      "\n",
      "FIR filter parameters\n",
      "---------------------\n",
      "Designing a one-pass, zero-phase, non-causal bandpass filter:\n",
      "- Windowed time-domain design (firwin) method\n",
      "- Hamming window with 0.0194 passband ripple and 53 dB stopband attenuation\n",
      "- Lower passband edge: 0.50\n",
      "- Lower transition bandwidth: 0.50 Hz (-6 dB cutoff frequency: 0.25 Hz)\n",
      "- Upper passband edge: 5.00 Hz\n",
      "- Upper transition bandwidth: 2.00 Hz (-6 dB cutoff frequency: 6.00 Hz)\n",
      "- Filter length: 1651 samples (6.604 s)\n",
      "\n",
      "Top channels:\n",
      "PC1 -> TR06\n",
      "PC2 -> TR03\n"
     ]
    }
   ],
   "execution_count": 3
  }
 ],
 "metadata": {
  "kernelspec": {
   "display_name": "Python 3",
   "language": "python",
   "name": "python3"
  },
  "language_info": {
   "codemirror_mode": {
    "name": "ipython",
    "version": 2
   },
   "file_extension": ".py",
   "mimetype": "text/x-python",
   "name": "python",
   "nbconvert_exporter": "python",
   "pygments_lexer": "ipython2",
   "version": "2.7.6"
  }
 },
 "nbformat": 4,
 "nbformat_minor": 5
}
