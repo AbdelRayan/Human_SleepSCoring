{
 "cells": [
  {
   "cell_type": "code",
   "id": "initial_id",
   "metadata": {
    "collapsed": true,
    "ExecuteTime": {
     "end_time": "2025-09-22T09:00:18.390825Z",
     "start_time": "2025-09-22T09:00:16.192795Z"
    }
   },
   "source": [
    "import mne\n",
    "import Sleep_Scripts.PCA as P\n",
    "import numpy as np"
   ],
   "outputs": [],
   "execution_count": 1
  },
  {
   "metadata": {
    "ExecuteTime": {
     "end_time": "2025-09-22T09:01:41.636081Z",
     "start_time": "2025-09-22T09:00:27.541337Z"
    }
   },
   "cell_type": "code",
   "source": [
    "# Data\n",
    "files = [\n",
    "    \"D:/Intercranial_sleep_data/2/iEEG/converted/2_night1_02.vhdr\",\n",
    "    \"D:/Intercranial_sleep_data/2/iEEG/converted/2_night1_02.vhdr\",\n",
    "    \"D:/Intercranial_sleep_data/2/iEEG/converted/2_night1_02.vhdr\"\n",
    "]\n",
    "\n",
    "raw_list = [mne.io.read_raw_brainvision(f, preload=True) for f in files]\n",
    "\n",
    "raw = mne.concatenate_raws(raw_list)"
   ],
   "id": "98546a2c2b2f25e6",
   "outputs": [
    {
     "name": "stdout",
     "output_type": "stream",
     "text": [
      "Extracting parameters from D:/Intercranial_sleep_data/2/iEEG/converted/2_night1_02.vhdr...\n",
      "Setting channel info structure...\n",
      "Reading 0 ... 3599951  =      0.000 ... 14399.804 secs...\n",
      "Extracting parameters from D:/Intercranial_sleep_data/2/iEEG/converted/2_night1_02.vhdr...\n",
      "Setting channel info structure...\n",
      "Reading 0 ... 3599951  =      0.000 ... 14399.804 secs...\n",
      "Extracting parameters from D:/Intercranial_sleep_data/2/iEEG/converted/2_night1_02.vhdr...\n",
      "Setting channel info structure...\n",
      "Reading 0 ... 3599951  =      0.000 ... 14399.804 secs...\n"
     ]
    }
   ],
   "execution_count": 2
  },
  {
   "metadata": {},
   "cell_type": "code",
   "outputs": [],
   "execution_count": null,
   "source": [
    "# Electrode coordinates in dict, when plotting data\n",
    "coords = {\n",
    "    \"TBAL01\": [-14.7597476322, -6.0460235101, -25.5850007858],\n",
    "    \"TBAL02\": [-23.8502152247, -7.70579691945, -27.6707326656],\n",
    "    \"TBAL03\": [-32.4608618068, -12.6057765014, -29.63862474],\n",
    "    \"TBAL04\": [-41.370943494, -16.1057770418, -27.2858877757],\n",
    "    \"TBAR01\": [21.2692424822, 5.55464401557, -30.1200892402],\n",
    "    \"TBAR02\": [28.1692503576, -3.79814041336, -37.3024835687],\n",
    "    \"TBAR03\": [37.5692568698, -11.3284314731, -41.4334355564],\n",
    "    \"TBAR04\": [43.1692432567, -15.5635416157, -39.246865846],\n",
    "    \"TBPL01\": [-23.478251022, -13.1057756875, -33.3071591505],\n",
    "    \"TBPL02\": [-33.5012997336, -13.7057761814, -39.0027410899],\n",
    "    \"TBPL03\": [-45.801073729, -13.0057764103, -36.6366464371],\n",
    "    \"TBPL04\": [-52.4781443242, -23.2753493694, -31.7442255101],\n",
    "    \"TBPR01\": [20.6446672648, -21.6057967717, -19.6160681079],\n",
    "    \"TBPR02\": [30.7692376934, -23.65680533, -25.8999656924],\n",
    "    \"TBPR03\": [43.1692432567, -23.3569327329, -30.1174648231],\n",
    "    \"TBPR04\": [50.5459098816, -20.6685314178, -27.4362754822],\n",
    "    \"TL01\": [-27.8025787284, 2.94381197154, -25.7704129743],\n",
    "    \"TL02\": [-27.9365535293, -0.279436019242, -23.7418962605],\n",
    "    \"TL03\": [-28.0707225378, -3.50735637725, -21.1212751002],\n",
    "    \"TL04\": [-28.2295310669, -7.32820944667, -18.2068963446],\n",
    "    \"TL05\": [-28.3396384753, -9.97725515117, -16.4586378269],\n",
    "    \"TL06\": [-28.4989150123, -13.8092139509, -13.5360229063],\n",
    "    \"TL07\": [-28.6584652797, -17.6477583006, -11.1994184237],\n",
    "    \"TL08\": [-28.8305926124, -21.78895962, -8.56481415359],\n",
    "    \"TL09\": [-29.015366183, -26.2344823097, -5.92694205245],\n",
    "    \"TL10\": [-29.1881556051, -30.3916128605, -2.68966251791],\n",
    "    \"TLL01\": [-47.8871924903, -72.5484123087, 18.1256679487],\n",
    "    \"TLL02\": [-52.9486591588, -66.2035528005, 11.3705646227],\n",
    "    \"TLL03\": [-57.5667604801, -59.7549015954, 6.16475846109],\n",
    "    \"TLL04\": [-61.3207819246, -51.8835704436, -0.649540821411],\n",
    "    \"TLL05\": [-62.1513350833, -43.9877113335, -8.1682017328],\n",
    "    \"TLL06\": [-59.9517782305, -36.5551807906, -14.0210782192],\n",
    "    \"TLR01\": [50.9354580199, -61.2221223265, 35.6122598906],\n",
    "    \"TLR02\": [56.3130495324, -57.5204924895, 26.8586421252],\n",
    "    \"TLR03\": [60.3850664507, -53.4868406374, 17.6509928111],\n",
    "    \"TLR04\": [63.5416089254, -48.8778620888, 8.17602884676],\n",
    "    \"TLR05\": [62.279967278, -43.1869707932, -1.92096520101],\n",
    "    \"TLR06\": [61.2345414416, -37.6393440826, -11.7239910971],\n",
    "    \"TR01\": [33.3714097913, -4.4088639018, -18.7292952372],\n",
    "    \"TR02\": [33.3510352113, -9.47626908733, -15.0937380628],\n",
    "    \"TR03\": [33.3342005433, -13.6646346592, -11.566355921],\n",
    "    \"TR04\": [33.3182376484, -17.6344374532, -8.69896375808],\n",
    "    \"TR05\": [33.3035979759, -21.2750296433, -6.38186984],\n",
    "    \"TR06\": [33.2889588438, -24.9171582312, -3.18123325233],\n",
    "    \"TR07\": [33.2765329151, -28.0086550114, -0.64169525692],\n",
    "    \"TR08\": [33.2620909232, -31.5997591186, 2.09893684532],\n",
    "    \"TR09\": [33.247440994, -35.2437181225, 4.74957913061],\n",
    "    \"TR10\": [33.2310138769, -39.3311978161, 8.39535551481],\n",
    "}\n",
    "\n",
    "ch_pos = {k: np.array(v) / 1000.0 for k, v in coords.items()}\n",
    "\n",
    "montage = mne.channels.make_dig_montage(ch_pos=ch_pos, coord_frame=\"head\")\n",
    "\n",
    "raw.set_montage(montage)"
   ],
   "id": "de4c47718167130a"
  },
  {
   "metadata": {
    "ExecuteTime": {
     "end_time": "2025-09-22T09:02:50.290345Z",
     "start_time": "2025-09-22T09:01:48.638385Z"
    }
   },
   "cell_type": "code",
   "source": [
    "# band options are: beta, gamma, delta, theta, sigma, total and noise\n",
    "P.channel_pca(raw, 'delta')"
   ],
   "id": "811a01fc996986b",
   "outputs": [
    {
     "name": "stdout",
     "output_type": "stream",
     "text": [
      "Filtering raw data in 3 contiguous segments\n",
      "Setting up band-pass filter from 0.5 - 5 Hz\n",
      "\n",
      "FIR filter parameters\n",
      "---------------------\n",
      "Designing a one-pass, zero-phase, non-causal bandpass filter:\n",
      "- Windowed time-domain design (firwin) method\n",
      "- Hamming window with 0.0194 passband ripple and 53 dB stopband attenuation\n",
      "- Lower passband edge: 0.50\n",
      "- Lower transition bandwidth: 0.50 Hz (-6 dB cutoff frequency: 0.25 Hz)\n",
      "- Upper passband edge: 5.00 Hz\n",
      "- Upper transition bandwidth: 2.00 Hz (-6 dB cutoff frequency: 6.00 Hz)\n",
      "- Filter length: 1651 samples (6.604 s)\n",
      "\n",
      "Top channels:\n",
      "PC1 -> TR06\n",
      "PC2 -> TR03\n"
     ]
    }
   ],
   "execution_count": 3
  }
 ],
 "metadata": {
  "kernelspec": {
   "display_name": "Python 3",
   "language": "python",
   "name": "python3"
  },
  "language_info": {
   "codemirror_mode": {
    "name": "ipython",
    "version": 2
   },
   "file_extension": ".py",
   "mimetype": "text/x-python",
   "name": "python",
   "nbconvert_exporter": "python",
   "pygments_lexer": "ipython2",
   "version": "2.7.6"
  }
 },
 "nbformat": 4,
 "nbformat_minor": 5
}
